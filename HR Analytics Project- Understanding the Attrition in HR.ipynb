{
 "cells": [
  {
   "cell_type": "markdown",
   "metadata": {},
   "source": [
    "The use case is to analyse the attrition using HR analytics based on data given. It is a classification problem as the target variable attrition is either yes or no"
   ]
  },
  {
   "cell_type": "code",
   "execution_count": 384,
   "metadata": {},
   "outputs": [],
   "source": [
    "import pandas as pd\n",
    "import numpy as np\n",
    "import matplotlib.pyplot as plt\n",
    "import seaborn as sns\n",
    "import joblib\n",
    "from sklearn.preprocessing import LabelEncoder\n",
    "from sklearn.preprocessing import power_transform\n",
    "from sklearn.preprocessing import StandardScaler\n",
    "from sklearn.linear_model import LogisticRegression\n",
    "from sklearn.neighbors import KNeighborsClassifier\n",
    "from sklearn.ensemble import RandomForestClassifier,AdaBoostClassifier\n",
    "from sklearn.model_selection import train_test_split\n",
    "from sklearn.model_selection import cross_val_score\n",
    "from sklearn.model_selection import RandomizedSearchCV\n",
    "from sklearn.metrics import roc_curve\n",
    "from sklearn.metrics import roc_auc_score\n",
    "from sklearn.metrics import accuracy_score,classification_report, confusion_matrix\n",
    "import scipy\n",
    "from scipy import stats\n",
    "from scipy.stats import zscore\n",
    "import warnings\n",
    "warnings.filterwarnings(\"ignore\")"
   ]
  },
  {
   "cell_type": "code",
   "execution_count": 266,
   "metadata": {},
   "outputs": [
    {
     "data": {
      "text/html": [
       "<div>\n",
       "<style scoped>\n",
       "    .dataframe tbody tr th:only-of-type {\n",
       "        vertical-align: middle;\n",
       "    }\n",
       "\n",
       "    .dataframe tbody tr th {\n",
       "        vertical-align: top;\n",
       "    }\n",
       "\n",
       "    .dataframe thead th {\n",
       "        text-align: right;\n",
       "    }\n",
       "</style>\n",
       "<table border=\"1\" class=\"dataframe\">\n",
       "  <thead>\n",
       "    <tr style=\"text-align: right;\">\n",
       "      <th></th>\n",
       "      <th>Age</th>\n",
       "      <th>Attrition</th>\n",
       "      <th>BusinessTravel</th>\n",
       "      <th>DailyRate</th>\n",
       "      <th>Department</th>\n",
       "      <th>DistanceFromHome</th>\n",
       "      <th>Education</th>\n",
       "      <th>EducationField</th>\n",
       "      <th>EmployeeCount</th>\n",
       "      <th>EmployeeNumber</th>\n",
       "      <th>...</th>\n",
       "      <th>RelationshipSatisfaction</th>\n",
       "      <th>StandardHours</th>\n",
       "      <th>StockOptionLevel</th>\n",
       "      <th>TotalWorkingYears</th>\n",
       "      <th>TrainingTimesLastYear</th>\n",
       "      <th>WorkLifeBalance</th>\n",
       "      <th>YearsAtCompany</th>\n",
       "      <th>YearsInCurrentRole</th>\n",
       "      <th>YearsSinceLastPromotion</th>\n",
       "      <th>YearsWithCurrManager</th>\n",
       "    </tr>\n",
       "  </thead>\n",
       "  <tbody>\n",
       "    <tr>\n",
       "      <th>0</th>\n",
       "      <td>41</td>\n",
       "      <td>Yes</td>\n",
       "      <td>Travel_Rarely</td>\n",
       "      <td>1102</td>\n",
       "      <td>Sales</td>\n",
       "      <td>1</td>\n",
       "      <td>2</td>\n",
       "      <td>Life Sciences</td>\n",
       "      <td>1</td>\n",
       "      <td>1</td>\n",
       "      <td>...</td>\n",
       "      <td>1</td>\n",
       "      <td>80</td>\n",
       "      <td>0</td>\n",
       "      <td>8</td>\n",
       "      <td>0</td>\n",
       "      <td>1</td>\n",
       "      <td>6</td>\n",
       "      <td>4</td>\n",
       "      <td>0</td>\n",
       "      <td>5</td>\n",
       "    </tr>\n",
       "    <tr>\n",
       "      <th>1</th>\n",
       "      <td>49</td>\n",
       "      <td>No</td>\n",
       "      <td>Travel_Frequently</td>\n",
       "      <td>279</td>\n",
       "      <td>Research &amp; Development</td>\n",
       "      <td>8</td>\n",
       "      <td>1</td>\n",
       "      <td>Life Sciences</td>\n",
       "      <td>1</td>\n",
       "      <td>2</td>\n",
       "      <td>...</td>\n",
       "      <td>4</td>\n",
       "      <td>80</td>\n",
       "      <td>1</td>\n",
       "      <td>10</td>\n",
       "      <td>3</td>\n",
       "      <td>3</td>\n",
       "      <td>10</td>\n",
       "      <td>7</td>\n",
       "      <td>1</td>\n",
       "      <td>7</td>\n",
       "    </tr>\n",
       "    <tr>\n",
       "      <th>2</th>\n",
       "      <td>37</td>\n",
       "      <td>Yes</td>\n",
       "      <td>Travel_Rarely</td>\n",
       "      <td>1373</td>\n",
       "      <td>Research &amp; Development</td>\n",
       "      <td>2</td>\n",
       "      <td>2</td>\n",
       "      <td>Other</td>\n",
       "      <td>1</td>\n",
       "      <td>4</td>\n",
       "      <td>...</td>\n",
       "      <td>2</td>\n",
       "      <td>80</td>\n",
       "      <td>0</td>\n",
       "      <td>7</td>\n",
       "      <td>3</td>\n",
       "      <td>3</td>\n",
       "      <td>0</td>\n",
       "      <td>0</td>\n",
       "      <td>0</td>\n",
       "      <td>0</td>\n",
       "    </tr>\n",
       "    <tr>\n",
       "      <th>3</th>\n",
       "      <td>33</td>\n",
       "      <td>No</td>\n",
       "      <td>Travel_Frequently</td>\n",
       "      <td>1392</td>\n",
       "      <td>Research &amp; Development</td>\n",
       "      <td>3</td>\n",
       "      <td>4</td>\n",
       "      <td>Life Sciences</td>\n",
       "      <td>1</td>\n",
       "      <td>5</td>\n",
       "      <td>...</td>\n",
       "      <td>3</td>\n",
       "      <td>80</td>\n",
       "      <td>0</td>\n",
       "      <td>8</td>\n",
       "      <td>3</td>\n",
       "      <td>3</td>\n",
       "      <td>8</td>\n",
       "      <td>7</td>\n",
       "      <td>3</td>\n",
       "      <td>0</td>\n",
       "    </tr>\n",
       "    <tr>\n",
       "      <th>4</th>\n",
       "      <td>27</td>\n",
       "      <td>No</td>\n",
       "      <td>Travel_Rarely</td>\n",
       "      <td>591</td>\n",
       "      <td>Research &amp; Development</td>\n",
       "      <td>2</td>\n",
       "      <td>1</td>\n",
       "      <td>Medical</td>\n",
       "      <td>1</td>\n",
       "      <td>7</td>\n",
       "      <td>...</td>\n",
       "      <td>4</td>\n",
       "      <td>80</td>\n",
       "      <td>1</td>\n",
       "      <td>6</td>\n",
       "      <td>3</td>\n",
       "      <td>3</td>\n",
       "      <td>2</td>\n",
       "      <td>2</td>\n",
       "      <td>2</td>\n",
       "      <td>2</td>\n",
       "    </tr>\n",
       "    <tr>\n",
       "      <th>...</th>\n",
       "      <td>...</td>\n",
       "      <td>...</td>\n",
       "      <td>...</td>\n",
       "      <td>...</td>\n",
       "      <td>...</td>\n",
       "      <td>...</td>\n",
       "      <td>...</td>\n",
       "      <td>...</td>\n",
       "      <td>...</td>\n",
       "      <td>...</td>\n",
       "      <td>...</td>\n",
       "      <td>...</td>\n",
       "      <td>...</td>\n",
       "      <td>...</td>\n",
       "      <td>...</td>\n",
       "      <td>...</td>\n",
       "      <td>...</td>\n",
       "      <td>...</td>\n",
       "      <td>...</td>\n",
       "      <td>...</td>\n",
       "      <td>...</td>\n",
       "    </tr>\n",
       "    <tr>\n",
       "      <th>1465</th>\n",
       "      <td>36</td>\n",
       "      <td>No</td>\n",
       "      <td>Travel_Frequently</td>\n",
       "      <td>884</td>\n",
       "      <td>Research &amp; Development</td>\n",
       "      <td>23</td>\n",
       "      <td>2</td>\n",
       "      <td>Medical</td>\n",
       "      <td>1</td>\n",
       "      <td>2061</td>\n",
       "      <td>...</td>\n",
       "      <td>3</td>\n",
       "      <td>80</td>\n",
       "      <td>1</td>\n",
       "      <td>17</td>\n",
       "      <td>3</td>\n",
       "      <td>3</td>\n",
       "      <td>5</td>\n",
       "      <td>2</td>\n",
       "      <td>0</td>\n",
       "      <td>3</td>\n",
       "    </tr>\n",
       "    <tr>\n",
       "      <th>1466</th>\n",
       "      <td>39</td>\n",
       "      <td>No</td>\n",
       "      <td>Travel_Rarely</td>\n",
       "      <td>613</td>\n",
       "      <td>Research &amp; Development</td>\n",
       "      <td>6</td>\n",
       "      <td>1</td>\n",
       "      <td>Medical</td>\n",
       "      <td>1</td>\n",
       "      <td>2062</td>\n",
       "      <td>...</td>\n",
       "      <td>1</td>\n",
       "      <td>80</td>\n",
       "      <td>1</td>\n",
       "      <td>9</td>\n",
       "      <td>5</td>\n",
       "      <td>3</td>\n",
       "      <td>7</td>\n",
       "      <td>7</td>\n",
       "      <td>1</td>\n",
       "      <td>7</td>\n",
       "    </tr>\n",
       "    <tr>\n",
       "      <th>1467</th>\n",
       "      <td>27</td>\n",
       "      <td>No</td>\n",
       "      <td>Travel_Rarely</td>\n",
       "      <td>155</td>\n",
       "      <td>Research &amp; Development</td>\n",
       "      <td>4</td>\n",
       "      <td>3</td>\n",
       "      <td>Life Sciences</td>\n",
       "      <td>1</td>\n",
       "      <td>2064</td>\n",
       "      <td>...</td>\n",
       "      <td>2</td>\n",
       "      <td>80</td>\n",
       "      <td>1</td>\n",
       "      <td>6</td>\n",
       "      <td>0</td>\n",
       "      <td>3</td>\n",
       "      <td>6</td>\n",
       "      <td>2</td>\n",
       "      <td>0</td>\n",
       "      <td>3</td>\n",
       "    </tr>\n",
       "    <tr>\n",
       "      <th>1468</th>\n",
       "      <td>49</td>\n",
       "      <td>No</td>\n",
       "      <td>Travel_Frequently</td>\n",
       "      <td>1023</td>\n",
       "      <td>Sales</td>\n",
       "      <td>2</td>\n",
       "      <td>3</td>\n",
       "      <td>Medical</td>\n",
       "      <td>1</td>\n",
       "      <td>2065</td>\n",
       "      <td>...</td>\n",
       "      <td>4</td>\n",
       "      <td>80</td>\n",
       "      <td>0</td>\n",
       "      <td>17</td>\n",
       "      <td>3</td>\n",
       "      <td>2</td>\n",
       "      <td>9</td>\n",
       "      <td>6</td>\n",
       "      <td>0</td>\n",
       "      <td>8</td>\n",
       "    </tr>\n",
       "    <tr>\n",
       "      <th>1469</th>\n",
       "      <td>34</td>\n",
       "      <td>No</td>\n",
       "      <td>Travel_Rarely</td>\n",
       "      <td>628</td>\n",
       "      <td>Research &amp; Development</td>\n",
       "      <td>8</td>\n",
       "      <td>3</td>\n",
       "      <td>Medical</td>\n",
       "      <td>1</td>\n",
       "      <td>2068</td>\n",
       "      <td>...</td>\n",
       "      <td>1</td>\n",
       "      <td>80</td>\n",
       "      <td>0</td>\n",
       "      <td>6</td>\n",
       "      <td>3</td>\n",
       "      <td>4</td>\n",
       "      <td>4</td>\n",
       "      <td>3</td>\n",
       "      <td>1</td>\n",
       "      <td>2</td>\n",
       "    </tr>\n",
       "  </tbody>\n",
       "</table>\n",
       "<p>1470 rows × 35 columns</p>\n",
       "</div>"
      ],
      "text/plain": [
       "      Age Attrition     BusinessTravel  DailyRate              Department  \\\n",
       "0      41       Yes      Travel_Rarely       1102                   Sales   \n",
       "1      49        No  Travel_Frequently        279  Research & Development   \n",
       "2      37       Yes      Travel_Rarely       1373  Research & Development   \n",
       "3      33        No  Travel_Frequently       1392  Research & Development   \n",
       "4      27        No      Travel_Rarely        591  Research & Development   \n",
       "...   ...       ...                ...        ...                     ...   \n",
       "1465   36        No  Travel_Frequently        884  Research & Development   \n",
       "1466   39        No      Travel_Rarely        613  Research & Development   \n",
       "1467   27        No      Travel_Rarely        155  Research & Development   \n",
       "1468   49        No  Travel_Frequently       1023                   Sales   \n",
       "1469   34        No      Travel_Rarely        628  Research & Development   \n",
       "\n",
       "      DistanceFromHome  Education EducationField  EmployeeCount  \\\n",
       "0                    1          2  Life Sciences              1   \n",
       "1                    8          1  Life Sciences              1   \n",
       "2                    2          2          Other              1   \n",
       "3                    3          4  Life Sciences              1   \n",
       "4                    2          1        Medical              1   \n",
       "...                ...        ...            ...            ...   \n",
       "1465                23          2        Medical              1   \n",
       "1466                 6          1        Medical              1   \n",
       "1467                 4          3  Life Sciences              1   \n",
       "1468                 2          3        Medical              1   \n",
       "1469                 8          3        Medical              1   \n",
       "\n",
       "      EmployeeNumber  ...  RelationshipSatisfaction StandardHours  \\\n",
       "0                  1  ...                         1            80   \n",
       "1                  2  ...                         4            80   \n",
       "2                  4  ...                         2            80   \n",
       "3                  5  ...                         3            80   \n",
       "4                  7  ...                         4            80   \n",
       "...              ...  ...                       ...           ...   \n",
       "1465            2061  ...                         3            80   \n",
       "1466            2062  ...                         1            80   \n",
       "1467            2064  ...                         2            80   \n",
       "1468            2065  ...                         4            80   \n",
       "1469            2068  ...                         1            80   \n",
       "\n",
       "      StockOptionLevel  TotalWorkingYears  TrainingTimesLastYear  \\\n",
       "0                    0                  8                      0   \n",
       "1                    1                 10                      3   \n",
       "2                    0                  7                      3   \n",
       "3                    0                  8                      3   \n",
       "4                    1                  6                      3   \n",
       "...                ...                ...                    ...   \n",
       "1465                 1                 17                      3   \n",
       "1466                 1                  9                      5   \n",
       "1467                 1                  6                      0   \n",
       "1468                 0                 17                      3   \n",
       "1469                 0                  6                      3   \n",
       "\n",
       "     WorkLifeBalance  YearsAtCompany YearsInCurrentRole  \\\n",
       "0                  1               6                  4   \n",
       "1                  3              10                  7   \n",
       "2                  3               0                  0   \n",
       "3                  3               8                  7   \n",
       "4                  3               2                  2   \n",
       "...              ...             ...                ...   \n",
       "1465               3               5                  2   \n",
       "1466               3               7                  7   \n",
       "1467               3               6                  2   \n",
       "1468               2               9                  6   \n",
       "1469               4               4                  3   \n",
       "\n",
       "      YearsSinceLastPromotion  YearsWithCurrManager  \n",
       "0                           0                     5  \n",
       "1                           1                     7  \n",
       "2                           0                     0  \n",
       "3                           3                     0  \n",
       "4                           2                     2  \n",
       "...                       ...                   ...  \n",
       "1465                        0                     3  \n",
       "1466                        1                     7  \n",
       "1467                        0                     3  \n",
       "1468                        0                     8  \n",
       "1469                        1                     2  \n",
       "\n",
       "[1470 rows x 35 columns]"
      ]
     },
     "execution_count": 266,
     "metadata": {},
     "output_type": "execute_result"
    }
   ],
   "source": [
    "#Lets read the csv file\n",
    "df=pd.read_csv(\"WA_Fn-UseC_-HR-Employee-Attrition.csv\")\n",
    "df"
   ]
  },
  {
   "cell_type": "code",
   "execution_count": 267,
   "metadata": {},
   "outputs": [
    {
     "data": {
      "text/html": [
       "<div>\n",
       "<style scoped>\n",
       "    .dataframe tbody tr th:only-of-type {\n",
       "        vertical-align: middle;\n",
       "    }\n",
       "\n",
       "    .dataframe tbody tr th {\n",
       "        vertical-align: top;\n",
       "    }\n",
       "\n",
       "    .dataframe thead th {\n",
       "        text-align: right;\n",
       "    }\n",
       "</style>\n",
       "<table border=\"1\" class=\"dataframe\">\n",
       "  <thead>\n",
       "    <tr style=\"text-align: right;\">\n",
       "      <th></th>\n",
       "      <th>Age</th>\n",
       "      <th>Attrition</th>\n",
       "      <th>BusinessTravel</th>\n",
       "      <th>DailyRate</th>\n",
       "      <th>Department</th>\n",
       "      <th>DistanceFromHome</th>\n",
       "      <th>Education</th>\n",
       "      <th>EducationField</th>\n",
       "      <th>EmployeeCount</th>\n",
       "      <th>EmployeeNumber</th>\n",
       "      <th>...</th>\n",
       "      <th>RelationshipSatisfaction</th>\n",
       "      <th>StandardHours</th>\n",
       "      <th>StockOptionLevel</th>\n",
       "      <th>TotalWorkingYears</th>\n",
       "      <th>TrainingTimesLastYear</th>\n",
       "      <th>WorkLifeBalance</th>\n",
       "      <th>YearsAtCompany</th>\n",
       "      <th>YearsInCurrentRole</th>\n",
       "      <th>YearsSinceLastPromotion</th>\n",
       "      <th>YearsWithCurrManager</th>\n",
       "    </tr>\n",
       "  </thead>\n",
       "  <tbody>\n",
       "    <tr>\n",
       "      <th>0</th>\n",
       "      <td>41</td>\n",
       "      <td>Yes</td>\n",
       "      <td>Travel_Rarely</td>\n",
       "      <td>1102</td>\n",
       "      <td>Sales</td>\n",
       "      <td>1</td>\n",
       "      <td>2</td>\n",
       "      <td>Life Sciences</td>\n",
       "      <td>1</td>\n",
       "      <td>1</td>\n",
       "      <td>...</td>\n",
       "      <td>1</td>\n",
       "      <td>80</td>\n",
       "      <td>0</td>\n",
       "      <td>8</td>\n",
       "      <td>0</td>\n",
       "      <td>1</td>\n",
       "      <td>6</td>\n",
       "      <td>4</td>\n",
       "      <td>0</td>\n",
       "      <td>5</td>\n",
       "    </tr>\n",
       "    <tr>\n",
       "      <th>1</th>\n",
       "      <td>49</td>\n",
       "      <td>No</td>\n",
       "      <td>Travel_Frequently</td>\n",
       "      <td>279</td>\n",
       "      <td>Research &amp; Development</td>\n",
       "      <td>8</td>\n",
       "      <td>1</td>\n",
       "      <td>Life Sciences</td>\n",
       "      <td>1</td>\n",
       "      <td>2</td>\n",
       "      <td>...</td>\n",
       "      <td>4</td>\n",
       "      <td>80</td>\n",
       "      <td>1</td>\n",
       "      <td>10</td>\n",
       "      <td>3</td>\n",
       "      <td>3</td>\n",
       "      <td>10</td>\n",
       "      <td>7</td>\n",
       "      <td>1</td>\n",
       "      <td>7</td>\n",
       "    </tr>\n",
       "    <tr>\n",
       "      <th>2</th>\n",
       "      <td>37</td>\n",
       "      <td>Yes</td>\n",
       "      <td>Travel_Rarely</td>\n",
       "      <td>1373</td>\n",
       "      <td>Research &amp; Development</td>\n",
       "      <td>2</td>\n",
       "      <td>2</td>\n",
       "      <td>Other</td>\n",
       "      <td>1</td>\n",
       "      <td>4</td>\n",
       "      <td>...</td>\n",
       "      <td>2</td>\n",
       "      <td>80</td>\n",
       "      <td>0</td>\n",
       "      <td>7</td>\n",
       "      <td>3</td>\n",
       "      <td>3</td>\n",
       "      <td>0</td>\n",
       "      <td>0</td>\n",
       "      <td>0</td>\n",
       "      <td>0</td>\n",
       "    </tr>\n",
       "    <tr>\n",
       "      <th>3</th>\n",
       "      <td>33</td>\n",
       "      <td>No</td>\n",
       "      <td>Travel_Frequently</td>\n",
       "      <td>1392</td>\n",
       "      <td>Research &amp; Development</td>\n",
       "      <td>3</td>\n",
       "      <td>4</td>\n",
       "      <td>Life Sciences</td>\n",
       "      <td>1</td>\n",
       "      <td>5</td>\n",
       "      <td>...</td>\n",
       "      <td>3</td>\n",
       "      <td>80</td>\n",
       "      <td>0</td>\n",
       "      <td>8</td>\n",
       "      <td>3</td>\n",
       "      <td>3</td>\n",
       "      <td>8</td>\n",
       "      <td>7</td>\n",
       "      <td>3</td>\n",
       "      <td>0</td>\n",
       "    </tr>\n",
       "    <tr>\n",
       "      <th>4</th>\n",
       "      <td>27</td>\n",
       "      <td>No</td>\n",
       "      <td>Travel_Rarely</td>\n",
       "      <td>591</td>\n",
       "      <td>Research &amp; Development</td>\n",
       "      <td>2</td>\n",
       "      <td>1</td>\n",
       "      <td>Medical</td>\n",
       "      <td>1</td>\n",
       "      <td>7</td>\n",
       "      <td>...</td>\n",
       "      <td>4</td>\n",
       "      <td>80</td>\n",
       "      <td>1</td>\n",
       "      <td>6</td>\n",
       "      <td>3</td>\n",
       "      <td>3</td>\n",
       "      <td>2</td>\n",
       "      <td>2</td>\n",
       "      <td>2</td>\n",
       "      <td>2</td>\n",
       "    </tr>\n",
       "    <tr>\n",
       "      <th>...</th>\n",
       "      <td>...</td>\n",
       "      <td>...</td>\n",
       "      <td>...</td>\n",
       "      <td>...</td>\n",
       "      <td>...</td>\n",
       "      <td>...</td>\n",
       "      <td>...</td>\n",
       "      <td>...</td>\n",
       "      <td>...</td>\n",
       "      <td>...</td>\n",
       "      <td>...</td>\n",
       "      <td>...</td>\n",
       "      <td>...</td>\n",
       "      <td>...</td>\n",
       "      <td>...</td>\n",
       "      <td>...</td>\n",
       "      <td>...</td>\n",
       "      <td>...</td>\n",
       "      <td>...</td>\n",
       "      <td>...</td>\n",
       "      <td>...</td>\n",
       "    </tr>\n",
       "    <tr>\n",
       "      <th>1465</th>\n",
       "      <td>36</td>\n",
       "      <td>No</td>\n",
       "      <td>Travel_Frequently</td>\n",
       "      <td>884</td>\n",
       "      <td>Research &amp; Development</td>\n",
       "      <td>23</td>\n",
       "      <td>2</td>\n",
       "      <td>Medical</td>\n",
       "      <td>1</td>\n",
       "      <td>2061</td>\n",
       "      <td>...</td>\n",
       "      <td>3</td>\n",
       "      <td>80</td>\n",
       "      <td>1</td>\n",
       "      <td>17</td>\n",
       "      <td>3</td>\n",
       "      <td>3</td>\n",
       "      <td>5</td>\n",
       "      <td>2</td>\n",
       "      <td>0</td>\n",
       "      <td>3</td>\n",
       "    </tr>\n",
       "    <tr>\n",
       "      <th>1466</th>\n",
       "      <td>39</td>\n",
       "      <td>No</td>\n",
       "      <td>Travel_Rarely</td>\n",
       "      <td>613</td>\n",
       "      <td>Research &amp; Development</td>\n",
       "      <td>6</td>\n",
       "      <td>1</td>\n",
       "      <td>Medical</td>\n",
       "      <td>1</td>\n",
       "      <td>2062</td>\n",
       "      <td>...</td>\n",
       "      <td>1</td>\n",
       "      <td>80</td>\n",
       "      <td>1</td>\n",
       "      <td>9</td>\n",
       "      <td>5</td>\n",
       "      <td>3</td>\n",
       "      <td>7</td>\n",
       "      <td>7</td>\n",
       "      <td>1</td>\n",
       "      <td>7</td>\n",
       "    </tr>\n",
       "    <tr>\n",
       "      <th>1467</th>\n",
       "      <td>27</td>\n",
       "      <td>No</td>\n",
       "      <td>Travel_Rarely</td>\n",
       "      <td>155</td>\n",
       "      <td>Research &amp; Development</td>\n",
       "      <td>4</td>\n",
       "      <td>3</td>\n",
       "      <td>Life Sciences</td>\n",
       "      <td>1</td>\n",
       "      <td>2064</td>\n",
       "      <td>...</td>\n",
       "      <td>2</td>\n",
       "      <td>80</td>\n",
       "      <td>1</td>\n",
       "      <td>6</td>\n",
       "      <td>0</td>\n",
       "      <td>3</td>\n",
       "      <td>6</td>\n",
       "      <td>2</td>\n",
       "      <td>0</td>\n",
       "      <td>3</td>\n",
       "    </tr>\n",
       "    <tr>\n",
       "      <th>1468</th>\n",
       "      <td>49</td>\n",
       "      <td>No</td>\n",
       "      <td>Travel_Frequently</td>\n",
       "      <td>1023</td>\n",
       "      <td>Sales</td>\n",
       "      <td>2</td>\n",
       "      <td>3</td>\n",
       "      <td>Medical</td>\n",
       "      <td>1</td>\n",
       "      <td>2065</td>\n",
       "      <td>...</td>\n",
       "      <td>4</td>\n",
       "      <td>80</td>\n",
       "      <td>0</td>\n",
       "      <td>17</td>\n",
       "      <td>3</td>\n",
       "      <td>2</td>\n",
       "      <td>9</td>\n",
       "      <td>6</td>\n",
       "      <td>0</td>\n",
       "      <td>8</td>\n",
       "    </tr>\n",
       "    <tr>\n",
       "      <th>1469</th>\n",
       "      <td>34</td>\n",
       "      <td>No</td>\n",
       "      <td>Travel_Rarely</td>\n",
       "      <td>628</td>\n",
       "      <td>Research &amp; Development</td>\n",
       "      <td>8</td>\n",
       "      <td>3</td>\n",
       "      <td>Medical</td>\n",
       "      <td>1</td>\n",
       "      <td>2068</td>\n",
       "      <td>...</td>\n",
       "      <td>1</td>\n",
       "      <td>80</td>\n",
       "      <td>0</td>\n",
       "      <td>6</td>\n",
       "      <td>3</td>\n",
       "      <td>4</td>\n",
       "      <td>4</td>\n",
       "      <td>3</td>\n",
       "      <td>1</td>\n",
       "      <td>2</td>\n",
       "    </tr>\n",
       "  </tbody>\n",
       "</table>\n",
       "<p>1470 rows × 35 columns</p>\n",
       "</div>"
      ],
      "text/plain": [
       "      Age Attrition     BusinessTravel  DailyRate              Department  \\\n",
       "0      41       Yes      Travel_Rarely       1102                   Sales   \n",
       "1      49        No  Travel_Frequently        279  Research & Development   \n",
       "2      37       Yes      Travel_Rarely       1373  Research & Development   \n",
       "3      33        No  Travel_Frequently       1392  Research & Development   \n",
       "4      27        No      Travel_Rarely        591  Research & Development   \n",
       "...   ...       ...                ...        ...                     ...   \n",
       "1465   36        No  Travel_Frequently        884  Research & Development   \n",
       "1466   39        No      Travel_Rarely        613  Research & Development   \n",
       "1467   27        No      Travel_Rarely        155  Research & Development   \n",
       "1468   49        No  Travel_Frequently       1023                   Sales   \n",
       "1469   34        No      Travel_Rarely        628  Research & Development   \n",
       "\n",
       "      DistanceFromHome  Education EducationField  EmployeeCount  \\\n",
       "0                    1          2  Life Sciences              1   \n",
       "1                    8          1  Life Sciences              1   \n",
       "2                    2          2          Other              1   \n",
       "3                    3          4  Life Sciences              1   \n",
       "4                    2          1        Medical              1   \n",
       "...                ...        ...            ...            ...   \n",
       "1465                23          2        Medical              1   \n",
       "1466                 6          1        Medical              1   \n",
       "1467                 4          3  Life Sciences              1   \n",
       "1468                 2          3        Medical              1   \n",
       "1469                 8          3        Medical              1   \n",
       "\n",
       "      EmployeeNumber  ...  RelationshipSatisfaction StandardHours  \\\n",
       "0                  1  ...                         1            80   \n",
       "1                  2  ...                         4            80   \n",
       "2                  4  ...                         2            80   \n",
       "3                  5  ...                         3            80   \n",
       "4                  7  ...                         4            80   \n",
       "...              ...  ...                       ...           ...   \n",
       "1465            2061  ...                         3            80   \n",
       "1466            2062  ...                         1            80   \n",
       "1467            2064  ...                         2            80   \n",
       "1468            2065  ...                         4            80   \n",
       "1469            2068  ...                         1            80   \n",
       "\n",
       "      StockOptionLevel  TotalWorkingYears  TrainingTimesLastYear  \\\n",
       "0                    0                  8                      0   \n",
       "1                    1                 10                      3   \n",
       "2                    0                  7                      3   \n",
       "3                    0                  8                      3   \n",
       "4                    1                  6                      3   \n",
       "...                ...                ...                    ...   \n",
       "1465                 1                 17                      3   \n",
       "1466                 1                  9                      5   \n",
       "1467                 1                  6                      0   \n",
       "1468                 0                 17                      3   \n",
       "1469                 0                  6                      3   \n",
       "\n",
       "     WorkLifeBalance  YearsAtCompany YearsInCurrentRole  \\\n",
       "0                  1               6                  4   \n",
       "1                  3              10                  7   \n",
       "2                  3               0                  0   \n",
       "3                  3               8                  7   \n",
       "4                  3               2                  2   \n",
       "...              ...             ...                ...   \n",
       "1465               3               5                  2   \n",
       "1466               3               7                  7   \n",
       "1467               3               6                  2   \n",
       "1468               2               9                  6   \n",
       "1469               4               4                  3   \n",
       "\n",
       "      YearsSinceLastPromotion  YearsWithCurrManager  \n",
       "0                           0                     5  \n",
       "1                           1                     7  \n",
       "2                           0                     0  \n",
       "3                           3                     0  \n",
       "4                           2                     2  \n",
       "...                       ...                   ...  \n",
       "1465                        0                     3  \n",
       "1466                        1                     7  \n",
       "1467                        0                     3  \n",
       "1468                        0                     8  \n",
       "1469                        1                     2  \n",
       "\n",
       "[1470 rows x 35 columns]"
      ]
     },
     "execution_count": 267,
     "metadata": {},
     "output_type": "execute_result"
    }
   ],
   "source": [
    "#now lets convert the csv files to a DataFrame\n",
    "HR_Analytics=pd.DataFrame(data=df)\n",
    "HR_Analytics"
   ]
  },
  {
   "cell_type": "code",
   "execution_count": 268,
   "metadata": {},
   "outputs": [
    {
     "data": {
      "text/plain": [
       "Index(['Age', 'Attrition', 'BusinessTravel', 'DailyRate', 'Department',\n",
       "       'DistanceFromHome', 'Education', 'EducationField', 'EmployeeCount',\n",
       "       'EmployeeNumber', 'EnvironmentSatisfaction', 'Gender', 'HourlyRate',\n",
       "       'JobInvolvement', 'JobLevel', 'JobRole', 'JobSatisfaction',\n",
       "       'MaritalStatus', 'MonthlyIncome', 'MonthlyRate', 'NumCompaniesWorked',\n",
       "       'Over18', 'OverTime', 'PercentSalaryHike', 'PerformanceRating',\n",
       "       'RelationshipSatisfaction', 'StandardHours', 'StockOptionLevel',\n",
       "       'TotalWorkingYears', 'TrainingTimesLastYear', 'WorkLifeBalance',\n",
       "       'YearsAtCompany', 'YearsInCurrentRole', 'YearsSinceLastPromotion',\n",
       "       'YearsWithCurrManager'],\n",
       "      dtype='object')"
      ]
     },
     "execution_count": 268,
     "metadata": {},
     "output_type": "execute_result"
    }
   ],
   "source": [
    "HR_Analytics.columns\n",
    "#This is done inorder to list the number of columnns present in the dataset"
   ]
  },
  {
   "cell_type": "code",
   "execution_count": 269,
   "metadata": {},
   "outputs": [
    {
     "data": {
      "text/plain": [
       "(1470, 35)"
      ]
     },
     "execution_count": 269,
     "metadata": {},
     "output_type": "execute_result"
    }
   ],
   "source": [
    "HR_Analytics.shape\n",
    "#The dataset has 1470 rows and 35 columns"
   ]
  },
  {
   "cell_type": "code",
   "execution_count": 270,
   "metadata": {},
   "outputs": [
    {
     "data": {
      "text/plain": [
       "Age                          int64\n",
       "Attrition                   object\n",
       "BusinessTravel              object\n",
       "DailyRate                    int64\n",
       "Department                  object\n",
       "DistanceFromHome             int64\n",
       "Education                    int64\n",
       "EducationField              object\n",
       "EmployeeCount                int64\n",
       "EmployeeNumber               int64\n",
       "EnvironmentSatisfaction      int64\n",
       "Gender                      object\n",
       "HourlyRate                   int64\n",
       "JobInvolvement               int64\n",
       "JobLevel                     int64\n",
       "JobRole                     object\n",
       "JobSatisfaction              int64\n",
       "MaritalStatus               object\n",
       "MonthlyIncome                int64\n",
       "MonthlyRate                  int64\n",
       "NumCompaniesWorked           int64\n",
       "Over18                      object\n",
       "OverTime                    object\n",
       "PercentSalaryHike            int64\n",
       "PerformanceRating            int64\n",
       "RelationshipSatisfaction     int64\n",
       "StandardHours                int64\n",
       "StockOptionLevel             int64\n",
       "TotalWorkingYears            int64\n",
       "TrainingTimesLastYear        int64\n",
       "WorkLifeBalance              int64\n",
       "YearsAtCompany               int64\n",
       "YearsInCurrentRole           int64\n",
       "YearsSinceLastPromotion      int64\n",
       "YearsWithCurrManager         int64\n",
       "dtype: object"
      ]
     },
     "execution_count": 270,
     "metadata": {},
     "output_type": "execute_result"
    }
   ],
   "source": [
    "HR_Analytics.dtypes\n",
    "#There are some object types attributes while most of them are integer type attributes"
   ]
  },
  {
   "cell_type": "code",
   "execution_count": 271,
   "metadata": {},
   "outputs": [
    {
     "data": {
      "text/plain": [
       "Age                         0\n",
       "Attrition                   0\n",
       "BusinessTravel              0\n",
       "DailyRate                   0\n",
       "Department                  0\n",
       "DistanceFromHome            0\n",
       "Education                   0\n",
       "EducationField              0\n",
       "EmployeeCount               0\n",
       "EmployeeNumber              0\n",
       "EnvironmentSatisfaction     0\n",
       "Gender                      0\n",
       "HourlyRate                  0\n",
       "JobInvolvement              0\n",
       "JobLevel                    0\n",
       "JobRole                     0\n",
       "JobSatisfaction             0\n",
       "MaritalStatus               0\n",
       "MonthlyIncome               0\n",
       "MonthlyRate                 0\n",
       "NumCompaniesWorked          0\n",
       "Over18                      0\n",
       "OverTime                    0\n",
       "PercentSalaryHike           0\n",
       "PerformanceRating           0\n",
       "RelationshipSatisfaction    0\n",
       "StandardHours               0\n",
       "StockOptionLevel            0\n",
       "TotalWorkingYears           0\n",
       "TrainingTimesLastYear       0\n",
       "WorkLifeBalance             0\n",
       "YearsAtCompany              0\n",
       "YearsInCurrentRole          0\n",
       "YearsSinceLastPromotion     0\n",
       "YearsWithCurrManager        0\n",
       "dtype: int64"
      ]
     },
     "execution_count": 271,
     "metadata": {},
     "output_type": "execute_result"
    }
   ],
   "source": [
    "#lets see if there are missing values or not\n",
    "HR_Analytics.isnull().sum()\n",
    "#there seems to be no missing values"
   ]
  },
  {
   "cell_type": "code",
   "execution_count": 272,
   "metadata": {},
   "outputs": [
    {
     "data": {
      "text/plain": [
       "<AxesSubplot:>"
      ]
     },
     "execution_count": 272,
     "metadata": {},
     "output_type": "execute_result"
    },
    {
     "data": {
      "image/png": "[encoded data removed]",
      "text/plain": [
       "<Figure size 432x288 with 2 Axes>"
      ]
     },
     "metadata": {
      "needs_background": "light"
     },
     "output_type": "display_data"
    }
   ],
   "source": [
    "# lets confirm by heatmap if missing values are present or not\n",
    "sns.heatmap(HR_Analytics.isnull())\n",
    "#Hennce the results are confirmed that no missing values are present"
   ]
  },
  {
   "cell_type": "markdown",
   "metadata": {},
   "source": [
    "Lets use label encoder to convert objects to numeric values\n",
    "the following columns are objects: 1)Attrition,2)BusinessTravel,3)Department,4)EducationField,5)Gender,6)JobRole,7)MaritalStatus,8)Over18,9)Overtime"
   ]
  },
  {
   "cell_type": "code",
   "execution_count": 273,
   "metadata": {},
   "outputs": [
    {
     "name": "stdout",
     "output_type": "stream",
     "text": [
      "0       1\n",
      "1       0\n",
      "2       1\n",
      "3       0\n",
      "4       0\n",
      "       ..\n",
      "1465    0\n",
      "1466    0\n",
      "1467    0\n",
      "1468    0\n",
      "1469    0\n",
      "Name: Attrition, Length: 1470, dtype: int32\n",
      "0    1233\n",
      "1     237\n",
      "Name: Attrition, dtype: int64\n"
     ]
    }
   ],
   "source": [
    "le1=LabelEncoder()\n",
    "HR_Analytics[\"Attrition\"]=le1.fit_transform(HR_Analytics[\"Attrition\"])\n",
    "print(HR_Analytics[\"Attrition\"])\n",
    "print(HR_Analytics[\"Attrition\"].value_counts())\n",
    "#Yes corresponds to 1 and No corresponds to 0. We will use F1 score to compare since we not not balancing the data."
   ]
  },
  {
   "cell_type": "code",
   "execution_count": 274,
   "metadata": {},
   "outputs": [
    {
     "name": "stdout",
     "output_type": "stream",
     "text": [
      "0       2\n",
      "1       1\n",
      "2       2\n",
      "3       1\n",
      "4       2\n",
      "       ..\n",
      "1465    1\n",
      "1466    2\n",
      "1467    2\n",
      "1468    1\n",
      "1469    2\n",
      "Name: BusinessTravel, Length: 1470, dtype: int32\n",
      "2    1043\n",
      "1     277\n",
      "0     150\n",
      "Name: BusinessTravel, dtype: int64\n"
     ]
    }
   ],
   "source": [
    "le2=LabelEncoder()\n",
    "HR_Analytics[\"BusinessTravel\"]=le2.fit_transform(HR_Analytics[\"BusinessTravel\"])\n",
    "print(HR_Analytics[\"BusinessTravel\"])\n",
    "print(HR_Analytics[\"BusinessTravel\"].value_counts())\n",
    "#Travel Rarely corresponds to 2,Travel Frequently corresponds to 1 and no travel corresponds to 0"
   ]
  },
  {
   "cell_type": "code",
   "execution_count": 275,
   "metadata": {},
   "outputs": [
    {
     "name": "stdout",
     "output_type": "stream",
     "text": [
      "0       2\n",
      "1       1\n",
      "2       1\n",
      "3       1\n",
      "4       1\n",
      "       ..\n",
      "1465    1\n",
      "1466    1\n",
      "1467    1\n",
      "1468    2\n",
      "1469    1\n",
      "Name: Department, Length: 1470, dtype: int32\n",
      "1    961\n",
      "2    446\n",
      "0     63\n",
      "Name: Department, dtype: int64\n"
     ]
    }
   ],
   "source": [
    "le3=LabelEncoder()\n",
    "HR_Analytics[\"Department\"]=le3.fit_transform(HR_Analytics[\"Department\"])\n",
    "print(HR_Analytics[\"Department\"])\n",
    "print(HR_Analytics[\"Department\"].value_counts())\n",
    "#Sales department corresponds to 2,Research and development corresponds to 1 and Human Resources corresponds to 0"
   ]
  },
  {
   "cell_type": "code",
   "execution_count": 276,
   "metadata": {},
   "outputs": [
    {
     "name": "stdout",
     "output_type": "stream",
     "text": [
      "0       1\n",
      "1       1\n",
      "2       4\n",
      "3       1\n",
      "4       3\n",
      "       ..\n",
      "1465    3\n",
      "1466    3\n",
      "1467    1\n",
      "1468    3\n",
      "1469    3\n",
      "Name: EducationField, Length: 1470, dtype: int32\n",
      "1    606\n",
      "3    464\n",
      "2    159\n",
      "5    132\n",
      "4     82\n",
      "0     27\n",
      "Name: EducationField, dtype: int64\n"
     ]
    }
   ],
   "source": [
    "le4=LabelEncoder()\n",
    "HR_Analytics[\"EducationField\"]=le4.fit_transform(HR_Analytics[\"EducationField\"])\n",
    "print(HR_Analytics[\"EducationField\"])\n",
    "print(HR_Analytics[\"EducationField\"].value_counts())\n",
    "#education Field of Life Sciences corresponds to 1,others corresponds to 4, Medical corresponds to 3,Human resources corresponds to 0,marketing corresponds to 2 and technical degree 5"
   ]
  },
  {
   "cell_type": "code",
   "execution_count": 277,
   "metadata": {},
   "outputs": [
    {
     "name": "stdout",
     "output_type": "stream",
     "text": [
      "0       0\n",
      "1       1\n",
      "2       1\n",
      "3       0\n",
      "4       1\n",
      "       ..\n",
      "1465    1\n",
      "1466    1\n",
      "1467    1\n",
      "1468    1\n",
      "1469    1\n",
      "Name: Gender, Length: 1470, dtype: int32\n",
      "1    882\n",
      "0    588\n",
      "Name: Gender, dtype: int64\n"
     ]
    }
   ],
   "source": [
    "le5=LabelEncoder()\n",
    "HR_Analytics[\"Gender\"]=le5.fit_transform(HR_Analytics[\"Gender\"])\n",
    "print(HR_Analytics[\"Gender\"])\n",
    "print(HR_Analytics[\"Gender\"].value_counts())\n",
    "#In gender,females corresponds to 0 and males corresponds to 1"
   ]
  },
  {
   "cell_type": "code",
   "execution_count": 278,
   "metadata": {},
   "outputs": [
    {
     "name": "stdout",
     "output_type": "stream",
     "text": [
      "0       7\n",
      "1       6\n",
      "2       2\n",
      "3       6\n",
      "4       2\n",
      "       ..\n",
      "1465    2\n",
      "1466    0\n",
      "1467    4\n",
      "1468    7\n",
      "1469    2\n",
      "Name: JobRole, Length: 1470, dtype: int32\n",
      "7    326\n",
      "6    292\n",
      "2    259\n",
      "4    145\n",
      "0    131\n",
      "3    102\n",
      "8     83\n",
      "5     80\n",
      "1     52\n",
      "Name: JobRole, dtype: int64\n"
     ]
    }
   ],
   "source": [
    "le6=LabelEncoder()\n",
    "HR_Analytics[\"JobRole\"]=le6.fit_transform(HR_Analytics[\"JobRole\"])\n",
    "print(HR_Analytics[\"JobRole\"])\n",
    "print(HR_Analytics[\"JobRole\"].value_counts())\n",
    "#In JobRoles, Healthcare Representative corresponds to 0,Human Resources corresponds 1,Laboratory Technician corresponds to 2,Manager corresponds to 3,Manufacturing Director to 4,Research Director to 5,Research Scientist corresponds to 6,Sales Executive corresponds to 7 and Sales representative corresponds to 8 "
   ]
  },
  {
   "cell_type": "code",
   "execution_count": 279,
   "metadata": {},
   "outputs": [
    {
     "name": "stdout",
     "output_type": "stream",
     "text": [
      "0       2\n",
      "1       1\n",
      "2       2\n",
      "3       1\n",
      "4       1\n",
      "       ..\n",
      "1465    1\n",
      "1466    1\n",
      "1467    1\n",
      "1468    1\n",
      "1469    1\n",
      "Name: MaritalStatus, Length: 1470, dtype: int32\n",
      "1    673\n",
      "2    470\n",
      "0    327\n",
      "Name: MaritalStatus, dtype: int64\n"
     ]
    }
   ],
   "source": [
    "le7=LabelEncoder()\n",
    "HR_Analytics[\"MaritalStatus\"]=le7.fit_transform(HR_Analytics[\"MaritalStatus\"])\n",
    "print(HR_Analytics[\"MaritalStatus\"])\n",
    "print(HR_Analytics[\"MaritalStatus\"].value_counts())\n",
    "#In marital status, divorced corresponds to 0,married corresponds to 1 and single corresponds to 2"
   ]
  },
  {
   "cell_type": "code",
   "execution_count": 280,
   "metadata": {},
   "outputs": [
    {
     "name": "stdout",
     "output_type": "stream",
     "text": [
      "0       0\n",
      "1       0\n",
      "2       0\n",
      "3       0\n",
      "4       0\n",
      "       ..\n",
      "1465    0\n",
      "1466    0\n",
      "1467    0\n",
      "1468    0\n",
      "1469    0\n",
      "Name: Over18, Length: 1470, dtype: int32\n",
      "0    1470\n",
      "Name: Over18, dtype: int64\n"
     ]
    }
   ],
   "source": [
    "le8=LabelEncoder()\n",
    "HR_Analytics[\"Over18\"]=le8.fit_transform(HR_Analytics[\"Over18\"])\n",
    "print(HR_Analytics[\"Over18\"])\n",
    "print(HR_Analytics[\"Over18\"].value_counts())\n",
    "#In over 18 all corresponds to 0"
   ]
  },
  {
   "cell_type": "code",
   "execution_count": 281,
   "metadata": {},
   "outputs": [
    {
     "name": "stdout",
     "output_type": "stream",
     "text": [
      "0       1\n",
      "1       0\n",
      "2       1\n",
      "3       1\n",
      "4       0\n",
      "       ..\n",
      "1465    0\n",
      "1466    0\n",
      "1467    1\n",
      "1468    0\n",
      "1469    0\n",
      "Name: OverTime, Length: 1470, dtype: int32\n",
      "0    1054\n",
      "1     416\n",
      "Name: OverTime, dtype: int64\n"
     ]
    }
   ],
   "source": [
    "le9=LabelEncoder()\n",
    "HR_Analytics[\"OverTime\"]=le9.fit_transform(HR_Analytics[\"OverTime\"])\n",
    "print(HR_Analytics[\"OverTime\"])\n",
    "print(HR_Analytics[\"OverTime\"].value_counts())\n",
    "#In overtime, No corresponds to 1054 and Yes corresponds to 416"
   ]
  },
  {
   "cell_type": "code",
   "execution_count": 282,
   "metadata": {},
   "outputs": [],
   "source": [
    "#Lets find the correlation between the independent variables and the target variables using heat map"
   ]
  },
  {
   "cell_type": "code",
   "execution_count": 283,
   "metadata": {},
   "outputs": [
    {
     "data": {
      "text/plain": [
       "Attrition                   1.000000\n",
       "OverTime                    0.246118\n",
       "MaritalStatus               0.162070\n",
       "DistanceFromHome            0.077924\n",
       "JobRole                     0.067151\n",
       "Department                  0.063991\n",
       "NumCompaniesWorked          0.043494\n",
       "Gender                      0.029453\n",
       "EducationField              0.026846\n",
       "MonthlyRate                 0.015170\n",
       "PerformanceRating           0.002889\n",
       "BusinessTravel              0.000074\n",
       "HourlyRate                 -0.006846\n",
       "EmployeeNumber             -0.010577\n",
       "PercentSalaryHike          -0.013478\n",
       "Education                  -0.031373\n",
       "YearsSinceLastPromotion    -0.033019\n",
       "RelationshipSatisfaction   -0.045872\n",
       "DailyRate                  -0.056652\n",
       "TrainingTimesLastYear      -0.059478\n",
       "WorkLifeBalance            -0.063939\n",
       "EnvironmentSatisfaction    -0.103369\n",
       "JobSatisfaction            -0.103481\n",
       "JobInvolvement             -0.130016\n",
       "YearsAtCompany             -0.134392\n",
       "StockOptionLevel           -0.137145\n",
       "YearsWithCurrManager       -0.156199\n",
       "Age                        -0.159205\n",
       "MonthlyIncome              -0.159840\n",
       "YearsInCurrentRole         -0.160545\n",
       "JobLevel                   -0.169105\n",
       "TotalWorkingYears          -0.171063\n",
       "EmployeeCount                    NaN\n",
       "Over18                           NaN\n",
       "StandardHours                    NaN\n",
       "Name: Attrition, dtype: float64"
      ]
     },
     "execution_count": 283,
     "metadata": {},
     "output_type": "execute_result"
    }
   ],
   "source": [
    "HR_Analytics1=HR_Analytics.corr()\n",
    "HR_Analytics1[\"Attrition\"].sort_values(ascending=False)"
   ]
  },
  {
   "cell_type": "code",
   "execution_count": 284,
   "metadata": {},
   "outputs": [],
   "source": [
    "#From the above analysis, we can drop the following columns:1) Employee Count,2)Over18 and standardhours"
   ]
  },
  {
   "cell_type": "code",
   "execution_count": 285,
   "metadata": {},
   "outputs": [],
   "source": [
    "HR_Analytics.drop([\"EmployeeCount\",\"Over18\",\"StandardHours\"],axis=1,inplace=True)"
   ]
  },
  {
   "cell_type": "code",
   "execution_count": 286,
   "metadata": {},
   "outputs": [
    {
     "data": {
      "text/html": [
       "<div>\n",
       "<style scoped>\n",
       "    .dataframe tbody tr th:only-of-type {\n",
       "        vertical-align: middle;\n",
       "    }\n",
       "\n",
       "    .dataframe tbody tr th {\n",
       "        vertical-align: top;\n",
       "    }\n",
       "\n",
       "    .dataframe thead th {\n",
       "        text-align: right;\n",
       "    }\n",
       "</style>\n",
       "<table border=\"1\" class=\"dataframe\">\n",
       "  <thead>\n",
       "    <tr style=\"text-align: right;\">\n",
       "      <th></th>\n",
       "      <th>Age</th>\n",
       "      <th>Attrition</th>\n",
       "      <th>BusinessTravel</th>\n",
       "      <th>DailyRate</th>\n",
       "      <th>Department</th>\n",
       "      <th>DistanceFromHome</th>\n",
       "      <th>Education</th>\n",
       "      <th>EducationField</th>\n",
       "      <th>EmployeeNumber</th>\n",
       "      <th>EnvironmentSatisfaction</th>\n",
       "      <th>...</th>\n",
       "      <th>PerformanceRating</th>\n",
       "      <th>RelationshipSatisfaction</th>\n",
       "      <th>StockOptionLevel</th>\n",
       "      <th>TotalWorkingYears</th>\n",
       "      <th>TrainingTimesLastYear</th>\n",
       "      <th>WorkLifeBalance</th>\n",
       "      <th>YearsAtCompany</th>\n",
       "      <th>YearsInCurrentRole</th>\n",
       "      <th>YearsSinceLastPromotion</th>\n",
       "      <th>YearsWithCurrManager</th>\n",
       "    </tr>\n",
       "  </thead>\n",
       "  <tbody>\n",
       "    <tr>\n",
       "      <th>0</th>\n",
       "      <td>41</td>\n",
       "      <td>1</td>\n",
       "      <td>2</td>\n",
       "      <td>1102</td>\n",
       "      <td>2</td>\n",
       "      <td>1</td>\n",
       "      <td>2</td>\n",
       "      <td>1</td>\n",
       "      <td>1</td>\n",
       "      <td>2</td>\n",
       "      <td>...</td>\n",
       "      <td>3</td>\n",
       "      <td>1</td>\n",
       "      <td>0</td>\n",
       "      <td>8</td>\n",
       "      <td>0</td>\n",
       "      <td>1</td>\n",
       "      <td>6</td>\n",
       "      <td>4</td>\n",
       "      <td>0</td>\n",
       "      <td>5</td>\n",
       "    </tr>\n",
       "    <tr>\n",
       "      <th>1</th>\n",
       "      <td>49</td>\n",
       "      <td>0</td>\n",
       "      <td>1</td>\n",
       "      <td>279</td>\n",
       "      <td>1</td>\n",
       "      <td>8</td>\n",
       "      <td>1</td>\n",
       "      <td>1</td>\n",
       "      <td>2</td>\n",
       "      <td>3</td>\n",
       "      <td>...</td>\n",
       "      <td>4</td>\n",
       "      <td>4</td>\n",
       "      <td>1</td>\n",
       "      <td>10</td>\n",
       "      <td>3</td>\n",
       "      <td>3</td>\n",
       "      <td>10</td>\n",
       "      <td>7</td>\n",
       "      <td>1</td>\n",
       "      <td>7</td>\n",
       "    </tr>\n",
       "    <tr>\n",
       "      <th>2</th>\n",
       "      <td>37</td>\n",
       "      <td>1</td>\n",
       "      <td>2</td>\n",
       "      <td>1373</td>\n",
       "      <td>1</td>\n",
       "      <td>2</td>\n",
       "      <td>2</td>\n",
       "      <td>4</td>\n",
       "      <td>4</td>\n",
       "      <td>4</td>\n",
       "      <td>...</td>\n",
       "      <td>3</td>\n",
       "      <td>2</td>\n",
       "      <td>0</td>\n",
       "      <td>7</td>\n",
       "      <td>3</td>\n",
       "      <td>3</td>\n",
       "      <td>0</td>\n",
       "      <td>0</td>\n",
       "      <td>0</td>\n",
       "      <td>0</td>\n",
       "    </tr>\n",
       "    <tr>\n",
       "      <th>3</th>\n",
       "      <td>33</td>\n",
       "      <td>0</td>\n",
       "      <td>1</td>\n",
       "      <td>1392</td>\n",
       "      <td>1</td>\n",
       "      <td>3</td>\n",
       "      <td>4</td>\n",
       "      <td>1</td>\n",
       "      <td>5</td>\n",
       "      <td>4</td>\n",
       "      <td>...</td>\n",
       "      <td>3</td>\n",
       "      <td>3</td>\n",
       "      <td>0</td>\n",
       "      <td>8</td>\n",
       "      <td>3</td>\n",
       "      <td>3</td>\n",
       "      <td>8</td>\n",
       "      <td>7</td>\n",
       "      <td>3</td>\n",
       "      <td>0</td>\n",
       "    </tr>\n",
       "    <tr>\n",
       "      <th>4</th>\n",
       "      <td>27</td>\n",
       "      <td>0</td>\n",
       "      <td>2</td>\n",
       "      <td>591</td>\n",
       "      <td>1</td>\n",
       "      <td>2</td>\n",
       "      <td>1</td>\n",
       "      <td>3</td>\n",
       "      <td>7</td>\n",
       "      <td>1</td>\n",
       "      <td>...</td>\n",
       "      <td>3</td>\n",
       "      <td>4</td>\n",
       "      <td>1</td>\n",
       "      <td>6</td>\n",
       "      <td>3</td>\n",
       "      <td>3</td>\n",
       "      <td>2</td>\n",
       "      <td>2</td>\n",
       "      <td>2</td>\n",
       "      <td>2</td>\n",
       "    </tr>\n",
       "    <tr>\n",
       "      <th>...</th>\n",
       "      <td>...</td>\n",
       "      <td>...</td>\n",
       "      <td>...</td>\n",
       "      <td>...</td>\n",
       "      <td>...</td>\n",
       "      <td>...</td>\n",
       "      <td>...</td>\n",
       "      <td>...</td>\n",
       "      <td>...</td>\n",
       "      <td>...</td>\n",
       "      <td>...</td>\n",
       "      <td>...</td>\n",
       "      <td>...</td>\n",
       "      <td>...</td>\n",
       "      <td>...</td>\n",
       "      <td>...</td>\n",
       "      <td>...</td>\n",
       "      <td>...</td>\n",
       "      <td>...</td>\n",
       "      <td>...</td>\n",
       "      <td>...</td>\n",
       "    </tr>\n",
       "    <tr>\n",
       "      <th>1465</th>\n",
       "      <td>36</td>\n",
       "      <td>0</td>\n",
       "      <td>1</td>\n",
       "      <td>884</td>\n",
       "      <td>1</td>\n",
       "      <td>23</td>\n",
       "      <td>2</td>\n",
       "      <td>3</td>\n",
       "      <td>2061</td>\n",
       "      <td>3</td>\n",
       "      <td>...</td>\n",
       "      <td>3</td>\n",
       "      <td>3</td>\n",
       "      <td>1</td>\n",
       "      <td>17</td>\n",
       "      <td>3</td>\n",
       "      <td>3</td>\n",
       "      <td>5</td>\n",
       "      <td>2</td>\n",
       "      <td>0</td>\n",
       "      <td>3</td>\n",
       "    </tr>\n",
       "    <tr>\n",
       "      <th>1466</th>\n",
       "      <td>39</td>\n",
       "      <td>0</td>\n",
       "      <td>2</td>\n",
       "      <td>613</td>\n",
       "      <td>1</td>\n",
       "      <td>6</td>\n",
       "      <td>1</td>\n",
       "      <td>3</td>\n",
       "      <td>2062</td>\n",
       "      <td>4</td>\n",
       "      <td>...</td>\n",
       "      <td>3</td>\n",
       "      <td>1</td>\n",
       "      <td>1</td>\n",
       "      <td>9</td>\n",
       "      <td>5</td>\n",
       "      <td>3</td>\n",
       "      <td>7</td>\n",
       "      <td>7</td>\n",
       "      <td>1</td>\n",
       "      <td>7</td>\n",
       "    </tr>\n",
       "    <tr>\n",
       "      <th>1467</th>\n",
       "      <td>27</td>\n",
       "      <td>0</td>\n",
       "      <td>2</td>\n",
       "      <td>155</td>\n",
       "      <td>1</td>\n",
       "      <td>4</td>\n",
       "      <td>3</td>\n",
       "      <td>1</td>\n",
       "      <td>2064</td>\n",
       "      <td>2</td>\n",
       "      <td>...</td>\n",
       "      <td>4</td>\n",
       "      <td>2</td>\n",
       "      <td>1</td>\n",
       "      <td>6</td>\n",
       "      <td>0</td>\n",
       "      <td>3</td>\n",
       "      <td>6</td>\n",
       "      <td>2</td>\n",
       "      <td>0</td>\n",
       "      <td>3</td>\n",
       "    </tr>\n",
       "    <tr>\n",
       "      <th>1468</th>\n",
       "      <td>49</td>\n",
       "      <td>0</td>\n",
       "      <td>1</td>\n",
       "      <td>1023</td>\n",
       "      <td>2</td>\n",
       "      <td>2</td>\n",
       "      <td>3</td>\n",
       "      <td>3</td>\n",
       "      <td>2065</td>\n",
       "      <td>4</td>\n",
       "      <td>...</td>\n",
       "      <td>3</td>\n",
       "      <td>4</td>\n",
       "      <td>0</td>\n",
       "      <td>17</td>\n",
       "      <td>3</td>\n",
       "      <td>2</td>\n",
       "      <td>9</td>\n",
       "      <td>6</td>\n",
       "      <td>0</td>\n",
       "      <td>8</td>\n",
       "    </tr>\n",
       "    <tr>\n",
       "      <th>1469</th>\n",
       "      <td>34</td>\n",
       "      <td>0</td>\n",
       "      <td>2</td>\n",
       "      <td>628</td>\n",
       "      <td>1</td>\n",
       "      <td>8</td>\n",
       "      <td>3</td>\n",
       "      <td>3</td>\n",
       "      <td>2068</td>\n",
       "      <td>2</td>\n",
       "      <td>...</td>\n",
       "      <td>3</td>\n",
       "      <td>1</td>\n",
       "      <td>0</td>\n",
       "      <td>6</td>\n",
       "      <td>3</td>\n",
       "      <td>4</td>\n",
       "      <td>4</td>\n",
       "      <td>3</td>\n",
       "      <td>1</td>\n",
       "      <td>2</td>\n",
       "    </tr>\n",
       "  </tbody>\n",
       "</table>\n",
       "<p>1470 rows × 32 columns</p>\n",
       "</div>"
      ],
      "text/plain": [
       "      Age  Attrition  BusinessTravel  DailyRate  Department  DistanceFromHome  \\\n",
       "0      41          1               2       1102           2                 1   \n",
       "1      49          0               1        279           1                 8   \n",
       "2      37          1               2       1373           1                 2   \n",
       "3      33          0               1       1392           1                 3   \n",
       "4      27          0               2        591           1                 2   \n",
       "...   ...        ...             ...        ...         ...               ...   \n",
       "1465   36          0               1        884           1                23   \n",
       "1466   39          0               2        613           1                 6   \n",
       "1467   27          0               2        155           1                 4   \n",
       "1468   49          0               1       1023           2                 2   \n",
       "1469   34          0               2        628           1                 8   \n",
       "\n",
       "      Education  EducationField  EmployeeNumber  EnvironmentSatisfaction  ...  \\\n",
       "0             2               1               1                        2  ...   \n",
       "1             1               1               2                        3  ...   \n",
       "2             2               4               4                        4  ...   \n",
       "3             4               1               5                        4  ...   \n",
       "4             1               3               7                        1  ...   \n",
       "...         ...             ...             ...                      ...  ...   \n",
       "1465          2               3            2061                        3  ...   \n",
       "1466          1               3            2062                        4  ...   \n",
       "1467          3               1            2064                        2  ...   \n",
       "1468          3               3            2065                        4  ...   \n",
       "1469          3               3            2068                        2  ...   \n",
       "\n",
       "      PerformanceRating  RelationshipSatisfaction  StockOptionLevel  \\\n",
       "0                     3                         1                 0   \n",
       "1                     4                         4                 1   \n",
       "2                     3                         2                 0   \n",
       "3                     3                         3                 0   \n",
       "4                     3                         4                 1   \n",
       "...                 ...                       ...               ...   \n",
       "1465                  3                         3                 1   \n",
       "1466                  3                         1                 1   \n",
       "1467                  4                         2                 1   \n",
       "1468                  3                         4                 0   \n",
       "1469                  3                         1                 0   \n",
       "\n",
       "      TotalWorkingYears  TrainingTimesLastYear  WorkLifeBalance  \\\n",
       "0                     8                      0                1   \n",
       "1                    10                      3                3   \n",
       "2                     7                      3                3   \n",
       "3                     8                      3                3   \n",
       "4                     6                      3                3   \n",
       "...                 ...                    ...              ...   \n",
       "1465                 17                      3                3   \n",
       "1466                  9                      5                3   \n",
       "1467                  6                      0                3   \n",
       "1468                 17                      3                2   \n",
       "1469                  6                      3                4   \n",
       "\n",
       "      YearsAtCompany  YearsInCurrentRole  YearsSinceLastPromotion  \\\n",
       "0                  6                   4                        0   \n",
       "1                 10                   7                        1   \n",
       "2                  0                   0                        0   \n",
       "3                  8                   7                        3   \n",
       "4                  2                   2                        2   \n",
       "...              ...                 ...                      ...   \n",
       "1465               5                   2                        0   \n",
       "1466               7                   7                        1   \n",
       "1467               6                   2                        0   \n",
       "1468               9                   6                        0   \n",
       "1469               4                   3                        1   \n",
       "\n",
       "      YearsWithCurrManager  \n",
       "0                        5  \n",
       "1                        7  \n",
       "2                        0  \n",
       "3                        0  \n",
       "4                        2  \n",
       "...                    ...  \n",
       "1465                     3  \n",
       "1466                     7  \n",
       "1467                     3  \n",
       "1468                     8  \n",
       "1469                     2  \n",
       "\n",
       "[1470 rows x 32 columns]"
      ]
     },
     "execution_count": 286,
     "metadata": {},
     "output_type": "execute_result"
    }
   ],
   "source": [
    "#New dataset after removal of attributes which need unnecessary\n",
    "HR_Analytics"
   ]
  },
  {
   "cell_type": "code",
   "execution_count": 185,
   "metadata": {},
   "outputs": [],
   "source": [
    "#Lets perform some analysis to make some sense out of the data in the attributes"
   ]
  },
  {
   "cell_type": "code",
   "execution_count": 287,
   "metadata": {},
   "outputs": [
    {
     "data": {
      "image/png": "[encoded data removed]",
      "text/plain": [
       "<Figure size 432x288 with 1 Axes>"
      ]
     },
     "metadata": {
      "needs_background": "light"
     },
     "output_type": "display_data"
    }
   ],
   "source": [
    "Age_1=sns.boxplot(HR_Analytics[\"Age\"])\n",
    "#The minimum value is 15. The median value is 35 and the maximum value is 60. \n",
    "#No outliers are present"
   ]
  },
  {
   "cell_type": "code",
   "execution_count": 288,
   "metadata": {},
   "outputs": [
    {
     "data": {
      "image/png": "[encoded data removed]",
      "text/plain": [
       "<Figure size 432x288 with 1 Axes>"
      ]
     },
     "metadata": {
      "needs_background": "light"
     },
     "output_type": "display_data"
    }
   ],
   "source": [
    "Age_2=sns.distplot(HR_Analytics[\"Age\"])\n",
    "#The density of age lies between 25 to 40\n",
    "#It seems like  normal distribution "
   ]
  },
  {
   "cell_type": "code",
   "execution_count": 289,
   "metadata": {},
   "outputs": [
    {
     "data": {
      "image/png": "[encoded data removed]",
      "text/plain": [
       "<Figure size 432x288 with 1 Axes>"
      ]
     },
     "metadata": {
      "needs_background": "light"
     },
     "output_type": "display_data"
    }
   ],
   "source": [
    "Business_Travel=sns.countplot(HR_Analytics[\"BusinessTravel\"])\n",
    "#Employees who travel rarely are the most and the ones who do not travel are the least."
   ]
  },
  {
   "cell_type": "code",
   "execution_count": 290,
   "metadata": {},
   "outputs": [
    {
     "data": {
      "image/png": "[encoded data removed]",
      "text/plain": [
       "<Figure size 432x288 with 1 Axes>"
      ]
     },
     "metadata": {
      "needs_background": "light"
     },
     "output_type": "display_data"
    }
   ],
   "source": [
    "DailyRate_1=sns.boxplot(HR_Analytics[\"DailyRate\"])\n",
    "#The minimum value is 150. The median value is 800 and the maximum value is 1500. \n",
    "#No outliers are present"
   ]
  },
  {
   "cell_type": "code",
   "execution_count": 291,
   "metadata": {},
   "outputs": [
    {
     "data": {
      "image/png": "[encoded data removed]",
      "text/plain": [
       "<Figure size 432x288 with 1 Axes>"
      ]
     },
     "metadata": {
      "needs_background": "light"
     },
     "output_type": "display_data"
    }
   ],
   "source": [
    "DailyRate_2=sns.distplot(HR_Analytics[\"DailyRate\"])\n",
    "#The density of age lies between 125 to 1500\n",
    "#It seems like  normal distribution since no skewness is present"
   ]
  },
  {
   "cell_type": "code",
   "execution_count": 292,
   "metadata": {},
   "outputs": [
    {
     "data": {
      "image/png": "[encoded data removed]",
      "text/plain": [
       "<Figure size 432x288 with 1 Axes>"
      ]
     },
     "metadata": {
      "needs_background": "light"
     },
     "output_type": "display_data"
    }
   ],
   "source": [
    "Department=sns.countplot(HR_Analytics[\"Department\"])\n",
    "#Employees in the research and development department are the most and in human resources are the least."
   ]
  },
  {
   "cell_type": "code",
   "execution_count": 293,
   "metadata": {},
   "outputs": [
    {
     "data": {
      "image/png": "[encoded data removed]",
      "text/plain": [
       "<Figure size 432x288 with 1 Axes>"
      ]
     },
     "metadata": {
      "needs_background": "light"
     },
     "output_type": "display_data"
    }
   ],
   "source": [
    "DistanceFromHome_1=sns.boxplot(HR_Analytics[\"DistanceFromHome\"])\n",
    "#The minimum value is 2. The median value is 7 and the maximum value is 28. \n",
    "#No outliers are present"
   ]
  },
  {
   "cell_type": "code",
   "execution_count": 294,
   "metadata": {},
   "outputs": [
    {
     "data": {
      "image/png": "[encoded data removed]",
      "text/plain": [
       "<Figure size 432x288 with 1 Axes>"
      ]
     },
     "metadata": {
      "needs_background": "light"
     },
     "output_type": "display_data"
    }
   ],
   "source": [
    "DistanceFromHome_2=sns.distplot(HR_Analytics[\"DistanceFromHome\"])\n",
    "#The density of age lies between 2 to 5\n",
    "#It is right skewed."
   ]
  },
  {
   "cell_type": "code",
   "execution_count": 295,
   "metadata": {},
   "outputs": [
    {
     "data": {
      "image/png": "[encoded data removed]",
      "text/plain": [
       "<Figure size 432x288 with 1 Axes>"
      ]
     },
     "metadata": {
      "needs_background": "light"
     },
     "output_type": "display_data"
    }
   ],
   "source": [
    "Education_1=sns.boxplot(HR_Analytics[\"Education\"])\n",
    "#The minimum value is 1. The median value is 3 and the maximum value is 5. \n",
    "#No outliers are present"
   ]
  },
  {
   "cell_type": "code",
   "execution_count": 296,
   "metadata": {},
   "outputs": [
    {
     "data": {
      "image/png": "[encoded data removed]",
      "text/plain": [
       "<Figure size 432x288 with 1 Axes>"
      ]
     },
     "metadata": {
      "needs_background": "light"
     },
     "output_type": "display_data"
    }
   ],
   "source": [
    "Education_2=sns.distplot(HR_Analytics[\"Education\"])\n",
    "#There is no skewness present.Its hard to draw any conclusion based on this plot"
   ]
  },
  {
   "cell_type": "code",
   "execution_count": 297,
   "metadata": {},
   "outputs": [
    {
     "data": {
      "image/png": "[encoded data removed]",
      "text/plain": [
       "<Figure size 432x288 with 1 Axes>"
      ]
     },
     "metadata": {
      "needs_background": "light"
     },
     "output_type": "display_data"
    }
   ],
   "source": [
    "Education_Field=sns.countplot(HR_Analytics[\"EducationField\"])\n",
    "#Employees in the field of Life Scienecs are the most and in human resources are the least."
   ]
  },
  {
   "cell_type": "code",
   "execution_count": 298,
   "metadata": {},
   "outputs": [
    {
     "data": {
      "image/png": "[encoded data removed]",
      "text/plain": [
       "<Figure size 432x288 with 1 Axes>"
      ]
     },
     "metadata": {
      "needs_background": "light"
     },
     "output_type": "display_data"
    }
   ],
   "source": [
    "Environmentsatisfaction_1=sns.boxplot(HR_Analytics[\"EnvironmentSatisfaction\"])\n",
    "#The minimum value is 1. The median value is 3 and the maximum value is same as the 75th percentile i.e. 4. \n",
    "#No outliers are present"
   ]
  },
  {
   "cell_type": "code",
   "execution_count": 299,
   "metadata": {},
   "outputs": [
    {
     "data": {
      "image/png": "[encoded data removed]",
      "text/plain": [
       "<Figure size 432x288 with 1 Axes>"
      ]
     },
     "metadata": {
      "needs_background": "light"
     },
     "output_type": "display_data"
    }
   ],
   "source": [
    "Environmentsatisfaction_2=sns.distplot(HR_Analytics[\"EnvironmentSatisfaction\"])\n",
    "#There is no skewness present.Its hard to draw any conclusion based on this plot"
   ]
  },
  {
   "cell_type": "code",
   "execution_count": 300,
   "metadata": {},
   "outputs": [
    {
     "data": {
      "image/png": "[encoded data removed]",
      "text/plain": [
       "<Figure size 432x288 with 1 Axes>"
      ]
     },
     "metadata": {
      "needs_background": "light"
     },
     "output_type": "display_data"
    }
   ],
   "source": [
    "Gender=sns.countplot(HR_Analytics[\"Gender\"])\n",
    "#Employees who are males are more than females."
   ]
  },
  {
   "cell_type": "code",
   "execution_count": 301,
   "metadata": {},
   "outputs": [
    {
     "data": {
      "image/png": "[encoded data removed]",
      "text/plain": [
       "<Figure size 432x288 with 1 Axes>"
      ]
     },
     "metadata": {
      "needs_background": "light"
     },
     "output_type": "display_data"
    }
   ],
   "source": [
    "HourlyRate_1=sns.boxplot(HR_Analytics[\"HourlyRate\"])\n",
    "#The minimum value is 30. The median value is 65 and the maximum value is 100. \n",
    "#No outliers are present"
   ]
  },
  {
   "cell_type": "code",
   "execution_count": 302,
   "metadata": {},
   "outputs": [
    {
     "data": {
      "image/png": "[encoded data removed]",
      "text/plain": [
       "<Figure size 432x288 with 1 Axes>"
      ]
     },
     "metadata": {
      "needs_background": "light"
     },
     "output_type": "display_data"
    }
   ],
   "source": [
    "HourlyRate_2=sns.distplot(HR_Analytics[\"HourlyRate\"])\n",
    "#The density of hourly rate lies between 30 to 100\n",
    "#No skewness is present"
   ]
  },
  {
   "cell_type": "code",
   "execution_count": 303,
   "metadata": {},
   "outputs": [
    {
     "data": {
      "image/png": "[encoded data removed]",
      "text/plain": [
       "<Figure size 432x288 with 1 Axes>"
      ]
     },
     "metadata": {
      "needs_background": "light"
     },
     "output_type": "display_data"
    }
   ],
   "source": [
    "JobInvolvement_1=sns.boxplot(HR_Analytics[\"JobInvolvement\"])\n",
    "#The minimum value is 1. There is no median value and the maximum value is 4. \n",
    "#No outliers are present"
   ]
  },
  {
   "cell_type": "code",
   "execution_count": 304,
   "metadata": {},
   "outputs": [
    {
     "data": {
      "image/png": "[encoded data removed]",
      "text/plain": [
       "<Figure size 432x288 with 1 Axes>"
      ]
     },
     "metadata": {
      "needs_background": "light"
     },
     "output_type": "display_data"
    }
   ],
   "source": [
    "JobLevel_1=sns.boxplot(HR_Analytics[\"JobLevel\"])\n",
    "#The minimum value is 1 which is same as the 25th percentile value. The median value is 2 and the maximum value is 5. \n",
    "#No outliers are present"
   ]
  },
  {
   "cell_type": "code",
   "execution_count": 305,
   "metadata": {},
   "outputs": [
    {
     "data": {
      "image/png": "[encoded data removed]",
      "text/plain": [
       "<Figure size 432x288 with 1 Axes>"
      ]
     },
     "metadata": {
      "needs_background": "light"
     },
     "output_type": "display_data"
    }
   ],
   "source": [
    "JobRole=sns.countplot(HR_Analytics[\"JobRole\"])\n",
    "#Employees in the job role of sales representative are the most while in the Human resources are the least"
   ]
  },
  {
   "cell_type": "code",
   "execution_count": 306,
   "metadata": {},
   "outputs": [
    {
     "data": {
      "image/png": "[encoded data removed]",
      "text/plain": [
       "<Figure size 432x288 with 1 Axes>"
      ]
     },
     "metadata": {
      "needs_background": "light"
     },
     "output_type": "display_data"
    }
   ],
   "source": [
    "MaritalStatus=sns.countplot(HR_Analytics[\"MaritalStatus\"])\n",
    "#Employees who are married are the most and divorced are the least"
   ]
  },
  {
   "cell_type": "code",
   "execution_count": 307,
   "metadata": {},
   "outputs": [
    {
     "data": {
      "image/png": "[encoded data removed]",
      "text/plain": [
       "<Figure size 432x288 with 1 Axes>"
      ]
     },
     "metadata": {
      "needs_background": "light"
     },
     "output_type": "display_data"
    }
   ],
   "source": [
    "OverTime=sns.countplot(HR_Analytics[\"OverTime\"])\n",
    "# Most employees are not working overtime "
   ]
  },
  {
   "cell_type": "code",
   "execution_count": 308,
   "metadata": {},
   "outputs": [
    {
     "data": {
      "image/png": "[encoded data removed]",
      "text/plain": [
       "<Figure size 432x288 with 1 Axes>"
      ]
     },
     "metadata": {
      "needs_background": "light"
     },
     "output_type": "display_data"
    }
   ],
   "source": [
    "JobSatisfaction_1=sns.boxplot(HR_Analytics[\"JobSatisfaction\"])\n",
    "#The minimum value is 1 . The median value is 3 and the maximum value is 4 which is same as the 75th percentile. \n",
    "#No outliers are present"
   ]
  },
  {
   "cell_type": "code",
   "execution_count": 309,
   "metadata": {},
   "outputs": [
    {
     "data": {
      "image/png": "[encoded data removed]",
      "text/plain": [
       "<Figure size 432x288 with 1 Axes>"
      ]
     },
     "metadata": {
      "needs_background": "light"
     },
     "output_type": "display_data"
    }
   ],
   "source": [
    "MonthlyIncome_1=sns.boxplot(HR_Analytics[\"MonthlyIncome\"])\n",
    "#The minimum value is 2400 . The median value is 5000 and the maximum value is 20000.\n",
    "#There are some outliers present which will be treated later using zscore."
   ]
  },
  {
   "cell_type": "code",
   "execution_count": 310,
   "metadata": {},
   "outputs": [
    {
     "data": {
      "image/png": "[encoded data removed]",
      "text/plain": [
       "<Figure size 432x288 with 1 Axes>"
      ]
     },
     "metadata": {
      "needs_background": "light"
     },
     "output_type": "display_data"
    }
   ],
   "source": [
    "MonthlyIncome_2=sns.distplot(HR_Analytics[\"MonthlyIncome\"])\n",
    "#Maximum density of monthly income lies between 1000 to 5000.\n",
    "#It is right skewed."
   ]
  },
  {
   "cell_type": "code",
   "execution_count": 311,
   "metadata": {},
   "outputs": [
    {
     "data": {
      "image/png": "[encoded data removed]",
      "text/plain": [
       "<Figure size 432x288 with 1 Axes>"
      ]
     },
     "metadata": {
      "needs_background": "light"
     },
     "output_type": "display_data"
    }
   ],
   "source": [
    "MonthlyRate_1=sns.boxplot(HR_Analytics[\"MonthlyRate\"])\n",
    "#The minimum value is 4000 . The median value is 14000 and the maximum value is 21000.\n",
    "#No outliers are present."
   ]
  },
  {
   "cell_type": "code",
   "execution_count": 312,
   "metadata": {},
   "outputs": [
    {
     "data": {
      "image/png": "[encoded data removed]",
      "text/plain": [
       "<Figure size 432x288 with 1 Axes>"
      ]
     },
     "metadata": {
      "needs_background": "light"
     },
     "output_type": "display_data"
    }
   ],
   "source": [
    "MonthlyRate_2=sns.distplot(HR_Analytics[\"MonthlyRate\"])\n",
    "#Maximum density of monthly income lies between 2500 to 27000.\n",
    "#Skewness is absent.It seems normally distributed"
   ]
  },
  {
   "cell_type": "code",
   "execution_count": 313,
   "metadata": {},
   "outputs": [
    {
     "data": {
      "image/png": "[encoded data removed]",
      "text/plain": [
       "<Figure size 432x288 with 1 Axes>"
      ]
     },
     "metadata": {
      "needs_background": "light"
     },
     "output_type": "display_data"
    }
   ],
   "source": [
    "NumCompaniesWorked_1=sns.boxplot(HR_Analytics[\"NumCompaniesWorked\"])\n",
    "#The minimum value is 0 . The median value is 2 and the maximum value is 9.\n",
    "#Only one outlier is present."
   ]
  },
  {
   "cell_type": "code",
   "execution_count": 314,
   "metadata": {},
   "outputs": [
    {
     "data": {
      "image/png": "[encoded data removed]",
      "text/plain": [
       "<Figure size 432x288 with 1 Axes>"
      ]
     },
     "metadata": {
      "needs_background": "light"
     },
     "output_type": "display_data"
    }
   ],
   "source": [
    "PercentSalaryHike_1=sns.boxplot(HR_Analytics[\"PercentSalaryHike\"])\n",
    "#The minimum value is 10 . The median value is 14 and the maximum value is 26.\n",
    "#No outliers are present."
   ]
  },
  {
   "cell_type": "code",
   "execution_count": 315,
   "metadata": {},
   "outputs": [
    {
     "data": {
      "image/png": "[encoded data removed]",
      "text/plain": [
       "<Figure size 432x288 with 1 Axes>"
      ]
     },
     "metadata": {
      "needs_background": "light"
     },
     "output_type": "display_data"
    }
   ],
   "source": [
    "PercentSalaryHike_2=sns.distplot(HR_Analytics[\"PercentSalaryHike\"])\n",
    "#Maximum density of monthly income lies between 11 to 14.\n",
    "#it is right skewed"
   ]
  },
  {
   "cell_type": "code",
   "execution_count": 316,
   "metadata": {},
   "outputs": [
    {
     "data": {
      "image/png": "[encoded data removed]",
      "text/plain": [
       "<Figure size 432x288 with 1 Axes>"
      ]
     },
     "metadata": {
      "needs_background": "light"
     },
     "output_type": "display_data"
    }
   ],
   "source": [
    "RelationshipSatisfaction_1=sns.boxplot(HR_Analytics[\"RelationshipSatisfaction\"])\n",
    "#The minimum value is 1 . The median value is 3 and the maximum value is which is same as the 75th percentile is 4.\n",
    "#No outliers are present."
   ]
  },
  {
   "cell_type": "code",
   "execution_count": 317,
   "metadata": {},
   "outputs": [
    {
     "data": {
      "image/png": "[encoded data removed]",
      "text/plain": [
       "<Figure size 432x288 with 1 Axes>"
      ]
     },
     "metadata": {
      "needs_background": "light"
     },
     "output_type": "display_data"
    }
   ],
   "source": [
    "StockOptionLevel=sns.countplot(HR_Analytics[\"StockOptionLevel\"])\n",
    "# Most employees are not in stock option level the least employees are the most stockoption level"
   ]
  },
  {
   "cell_type": "code",
   "execution_count": 318,
   "metadata": {},
   "outputs": [
    {
     "data": {
      "image/png": "[encoded data removed]",
      "text/plain": [
       "<Figure size 432x288 with 1 Axes>"
      ]
     },
     "metadata": {
      "needs_background": "light"
     },
     "output_type": "display_data"
    }
   ],
   "source": [
    "TotalWorkingYears_1=sns.boxplot(HR_Analytics[\"TotalWorkingYears\"])\n",
    "#The minimum value is 0 . The median value is 10 and the maximum value is 40.\n",
    "#Some outliers are present."
   ]
  },
  {
   "cell_type": "code",
   "execution_count": 319,
   "metadata": {},
   "outputs": [
    {
     "data": {
      "image/png": "[encoded data removed]",
      "text/plain": [
       "<Figure size 432x288 with 1 Axes>"
      ]
     },
     "metadata": {
      "needs_background": "light"
     },
     "output_type": "display_data"
    }
   ],
   "source": [
    "TotalWorkingYears_2=sns.distplot(HR_Analytics[\"TotalWorkingYears\"])\n",
    "#Maximum density of monthly income lies between 5 to 10.\n",
    "#it is right skewed"
   ]
  },
  {
   "cell_type": "code",
   "execution_count": 320,
   "metadata": {},
   "outputs": [
    {
     "data": {
      "text/plain": [
       "<seaborn.axisgrid.FacetGrid at 0x1cc1d9d1040>"
      ]
     },
     "execution_count": 320,
     "metadata": {},
     "output_type": "execute_result"
    },
    {
     "data": {
      "image/png": "[encoded data removed]",
      "text/plain": [
       "<Figure size 360x360 with 1 Axes>"
      ]
     },
     "metadata": {
      "needs_background": "light"
     },
     "output_type": "display_data"
    }
   ],
   "source": [
    "sns.catplot(x=\"Attrition\",y=\"Age\",kind=\"box\",data=HR_Analytics)\n",
    "#the median age of attrition is lower in older employees. As the age increasses, the employees tend to stick around in the company for a longer time."
   ]
  },
  {
   "cell_type": "code",
   "execution_count": 321,
   "metadata": {},
   "outputs": [
    {
     "data": {
      "text/plain": [
       "<seaborn.axisgrid.FacetGrid at 0x1cc164adf70>"
      ]
     },
     "execution_count": 321,
     "metadata": {},
     "output_type": "execute_result"
    },
    {
     "data": {
      "image/png": "[encoded data removed]",
      "text/plain": [
       "<Figure size 360x360 with 1 Axes>"
      ]
     },
     "metadata": {
      "needs_background": "light"
     },
     "output_type": "display_data"
    }
   ],
   "source": [
    "sns.catplot(x=\"Attrition\",y=\"BusinessTravel\",kind=\"bar\",data=HR_Analytics)\n",
    "#there is not much impact of travel on attrition."
   ]
  },
  {
   "cell_type": "code",
   "execution_count": 322,
   "metadata": {},
   "outputs": [
    {
     "data": {
      "text/plain": [
       "<seaborn.axisgrid.FacetGrid at 0x1cc164b9070>"
      ]
     },
     "execution_count": 322,
     "metadata": {},
     "output_type": "execute_result"
    },
    {
     "data": {
      "image/png": "[encoded data removed]",
      "text/plain": [
       "<Figure size 360x360 with 1 Axes>"
      ]
     },
     "metadata": {
      "needs_background": "light"
     },
     "output_type": "display_data"
    }
   ],
   "source": [
    "sns.catplot(x=\"Attrition\",y=\"DailyRate\",kind=\"box\",data=HR_Analytics)\n",
    "#attrition rate is lower in employees with higher daily rate"
   ]
  },
  {
   "cell_type": "code",
   "execution_count": 323,
   "metadata": {},
   "outputs": [],
   "source": [
    "#Now lets find outliers"
   ]
  },
  {
   "cell_type": "code",
   "execution_count": 324,
   "metadata": {},
   "outputs": [
    {
     "data": {
      "text/plain": [
       "array([[ 0.4463504 ,  2.28090588,  0.59004834, ..., -0.0632959 ,\n",
       "        -0.67914568,  0.24583399],\n",
       "       [ 1.32236521, -0.4384223 , -0.91319439, ...,  0.76499762,\n",
       "        -0.36871529,  0.80654148],\n",
       "       [ 0.008343  ,  2.28090588,  0.59004834, ..., -1.16768726,\n",
       "        -0.67914568, -1.15593471],\n",
       "       ...,\n",
       "       [-1.08667552, -0.4384223 ,  0.59004834, ..., -0.61549158,\n",
       "        -0.67914568, -0.31487349],\n",
       "       [ 1.32236521, -0.4384223 , -0.91319439, ...,  0.48889978,\n",
       "        -0.67914568,  1.08689522],\n",
       "       [-0.32016256, -0.4384223 ,  0.59004834, ..., -0.33939374,\n",
       "        -0.36871529, -0.59522723]])"
      ]
     },
     "execution_count": 324,
     "metadata": {},
     "output_type": "execute_result"
    }
   ],
   "source": [
    "zscore(HR_Analytics)"
   ]
  },
  {
   "cell_type": "code",
   "execution_count": 325,
   "metadata": {},
   "outputs": [],
   "source": [
    "z=np.abs(zscore(HR_Analytics))"
   ]
  },
  {
   "cell_type": "code",
   "execution_count": 326,
   "metadata": {},
   "outputs": [
    {
     "name": "stdout",
     "output_type": "stream",
     "text": [
      "(array([  28,   45,   62,   62,   63,   64,   85,   98,   98,  110,  123,\n",
      "        123,  123,  126,  126,  126,  153,  178,  187,  187,  190,  190,\n",
      "        218,  231,  231,  237,  237,  270,  270,  281,  326,  386,  386,\n",
      "        401,  411,  425,  425,  427,  445,  466,  473,  477,  535,  561,\n",
      "        561,  584,  592,  595,  595,  595,  616,  624,  635,  653,  653,\n",
      "        677,  686,  701,  716,  746,  749,  752,  799,  838,  861,  861,\n",
      "        875,  875,  894,  914,  914,  918,  922,  926,  926,  937,  956,\n",
      "        962,  976,  976, 1008, 1024, 1043, 1078, 1078, 1086, 1086, 1093,\n",
      "       1111, 1116, 1116, 1135, 1138, 1138, 1156, 1184, 1221, 1223, 1242,\n",
      "       1295, 1301, 1301, 1303, 1327, 1331, 1348, 1351, 1401, 1414, 1430],\n",
      "      dtype=int64), array([31, 30, 28, 30, 29, 30, 25, 25, 28, 30, 29, 30, 31, 25, 28, 30, 31,\n",
      "       30, 25, 31, 28, 29, 30, 29, 31, 28, 30, 25, 28, 29, 30, 30, 31, 25,\n",
      "       28, 28, 30, 30, 25, 29, 28, 28, 30, 28, 31, 30, 28, 25, 28, 30, 31,\n",
      "       25, 31, 28, 30, 28, 31, 30, 29, 29, 28, 30, 30, 30, 28, 30, 30, 31,\n",
      "       25, 28, 30, 28, 30, 30, 31, 30, 25, 28, 29, 30, 30, 29, 25, 30, 31,\n",
      "       28, 30, 30, 28, 25, 28, 28, 28, 30, 30, 25, 30, 30, 30, 30, 25, 30,\n",
      "       30, 29, 30, 31, 29, 25, 30, 29], dtype=int64))\n"
     ]
    }
   ],
   "source": [
    "print(np.where(z>3))"
   ]
  },
  {
   "cell_type": "code",
   "execution_count": 327,
   "metadata": {},
   "outputs": [
    {
     "data": {
      "text/html": [
       "<div>\n",
       "<style scoped>\n",
       "    .dataframe tbody tr th:only-of-type {\n",
       "        vertical-align: middle;\n",
       "    }\n",
       "\n",
       "    .dataframe tbody tr th {\n",
       "        vertical-align: top;\n",
       "    }\n",
       "\n",
       "    .dataframe thead th {\n",
       "        text-align: right;\n",
       "    }\n",
       "</style>\n",
       "<table border=\"1\" class=\"dataframe\">\n",
       "  <thead>\n",
       "    <tr style=\"text-align: right;\">\n",
       "      <th></th>\n",
       "      <th>Age</th>\n",
       "      <th>Attrition</th>\n",
       "      <th>BusinessTravel</th>\n",
       "      <th>DailyRate</th>\n",
       "      <th>Department</th>\n",
       "      <th>DistanceFromHome</th>\n",
       "      <th>Education</th>\n",
       "      <th>EducationField</th>\n",
       "      <th>EmployeeNumber</th>\n",
       "      <th>EnvironmentSatisfaction</th>\n",
       "      <th>...</th>\n",
       "      <th>PerformanceRating</th>\n",
       "      <th>RelationshipSatisfaction</th>\n",
       "      <th>StockOptionLevel</th>\n",
       "      <th>TotalWorkingYears</th>\n",
       "      <th>TrainingTimesLastYear</th>\n",
       "      <th>WorkLifeBalance</th>\n",
       "      <th>YearsAtCompany</th>\n",
       "      <th>YearsInCurrentRole</th>\n",
       "      <th>YearsSinceLastPromotion</th>\n",
       "      <th>YearsWithCurrManager</th>\n",
       "    </tr>\n",
       "  </thead>\n",
       "  <tbody>\n",
       "    <tr>\n",
       "      <th>0</th>\n",
       "      <td>41</td>\n",
       "      <td>1</td>\n",
       "      <td>2</td>\n",
       "      <td>1102</td>\n",
       "      <td>2</td>\n",
       "      <td>1</td>\n",
       "      <td>2</td>\n",
       "      <td>1</td>\n",
       "      <td>1</td>\n",
       "      <td>2</td>\n",
       "      <td>...</td>\n",
       "      <td>3</td>\n",
       "      <td>1</td>\n",
       "      <td>0</td>\n",
       "      <td>8</td>\n",
       "      <td>0</td>\n",
       "      <td>1</td>\n",
       "      <td>6</td>\n",
       "      <td>4</td>\n",
       "      <td>0</td>\n",
       "      <td>5</td>\n",
       "    </tr>\n",
       "    <tr>\n",
       "      <th>1</th>\n",
       "      <td>49</td>\n",
       "      <td>0</td>\n",
       "      <td>1</td>\n",
       "      <td>279</td>\n",
       "      <td>1</td>\n",
       "      <td>8</td>\n",
       "      <td>1</td>\n",
       "      <td>1</td>\n",
       "      <td>2</td>\n",
       "      <td>3</td>\n",
       "      <td>...</td>\n",
       "      <td>4</td>\n",
       "      <td>4</td>\n",
       "      <td>1</td>\n",
       "      <td>10</td>\n",
       "      <td>3</td>\n",
       "      <td>3</td>\n",
       "      <td>10</td>\n",
       "      <td>7</td>\n",
       "      <td>1</td>\n",
       "      <td>7</td>\n",
       "    </tr>\n",
       "    <tr>\n",
       "      <th>2</th>\n",
       "      <td>37</td>\n",
       "      <td>1</td>\n",
       "      <td>2</td>\n",
       "      <td>1373</td>\n",
       "      <td>1</td>\n",
       "      <td>2</td>\n",
       "      <td>2</td>\n",
       "      <td>4</td>\n",
       "      <td>4</td>\n",
       "      <td>4</td>\n",
       "      <td>...</td>\n",
       "      <td>3</td>\n",
       "      <td>2</td>\n",
       "      <td>0</td>\n",
       "      <td>7</td>\n",
       "      <td>3</td>\n",
       "      <td>3</td>\n",
       "      <td>0</td>\n",
       "      <td>0</td>\n",
       "      <td>0</td>\n",
       "      <td>0</td>\n",
       "    </tr>\n",
       "    <tr>\n",
       "      <th>3</th>\n",
       "      <td>33</td>\n",
       "      <td>0</td>\n",
       "      <td>1</td>\n",
       "      <td>1392</td>\n",
       "      <td>1</td>\n",
       "      <td>3</td>\n",
       "      <td>4</td>\n",
       "      <td>1</td>\n",
       "      <td>5</td>\n",
       "      <td>4</td>\n",
       "      <td>...</td>\n",
       "      <td>3</td>\n",
       "      <td>3</td>\n",
       "      <td>0</td>\n",
       "      <td>8</td>\n",
       "      <td>3</td>\n",
       "      <td>3</td>\n",
       "      <td>8</td>\n",
       "      <td>7</td>\n",
       "      <td>3</td>\n",
       "      <td>0</td>\n",
       "    </tr>\n",
       "    <tr>\n",
       "      <th>4</th>\n",
       "      <td>27</td>\n",
       "      <td>0</td>\n",
       "      <td>2</td>\n",
       "      <td>591</td>\n",
       "      <td>1</td>\n",
       "      <td>2</td>\n",
       "      <td>1</td>\n",
       "      <td>3</td>\n",
       "      <td>7</td>\n",
       "      <td>1</td>\n",
       "      <td>...</td>\n",
       "      <td>3</td>\n",
       "      <td>4</td>\n",
       "      <td>1</td>\n",
       "      <td>6</td>\n",
       "      <td>3</td>\n",
       "      <td>3</td>\n",
       "      <td>2</td>\n",
       "      <td>2</td>\n",
       "      <td>2</td>\n",
       "      <td>2</td>\n",
       "    </tr>\n",
       "    <tr>\n",
       "      <th>...</th>\n",
       "      <td>...</td>\n",
       "      <td>...</td>\n",
       "      <td>...</td>\n",
       "      <td>...</td>\n",
       "      <td>...</td>\n",
       "      <td>...</td>\n",
       "      <td>...</td>\n",
       "      <td>...</td>\n",
       "      <td>...</td>\n",
       "      <td>...</td>\n",
       "      <td>...</td>\n",
       "      <td>...</td>\n",
       "      <td>...</td>\n",
       "      <td>...</td>\n",
       "      <td>...</td>\n",
       "      <td>...</td>\n",
       "      <td>...</td>\n",
       "      <td>...</td>\n",
       "      <td>...</td>\n",
       "      <td>...</td>\n",
       "      <td>...</td>\n",
       "    </tr>\n",
       "    <tr>\n",
       "      <th>1465</th>\n",
       "      <td>36</td>\n",
       "      <td>0</td>\n",
       "      <td>1</td>\n",
       "      <td>884</td>\n",
       "      <td>1</td>\n",
       "      <td>23</td>\n",
       "      <td>2</td>\n",
       "      <td>3</td>\n",
       "      <td>2061</td>\n",
       "      <td>3</td>\n",
       "      <td>...</td>\n",
       "      <td>3</td>\n",
       "      <td>3</td>\n",
       "      <td>1</td>\n",
       "      <td>17</td>\n",
       "      <td>3</td>\n",
       "      <td>3</td>\n",
       "      <td>5</td>\n",
       "      <td>2</td>\n",
       "      <td>0</td>\n",
       "      <td>3</td>\n",
       "    </tr>\n",
       "    <tr>\n",
       "      <th>1466</th>\n",
       "      <td>39</td>\n",
       "      <td>0</td>\n",
       "      <td>2</td>\n",
       "      <td>613</td>\n",
       "      <td>1</td>\n",
       "      <td>6</td>\n",
       "      <td>1</td>\n",
       "      <td>3</td>\n",
       "      <td>2062</td>\n",
       "      <td>4</td>\n",
       "      <td>...</td>\n",
       "      <td>3</td>\n",
       "      <td>1</td>\n",
       "      <td>1</td>\n",
       "      <td>9</td>\n",
       "      <td>5</td>\n",
       "      <td>3</td>\n",
       "      <td>7</td>\n",
       "      <td>7</td>\n",
       "      <td>1</td>\n",
       "      <td>7</td>\n",
       "    </tr>\n",
       "    <tr>\n",
       "      <th>1467</th>\n",
       "      <td>27</td>\n",
       "      <td>0</td>\n",
       "      <td>2</td>\n",
       "      <td>155</td>\n",
       "      <td>1</td>\n",
       "      <td>4</td>\n",
       "      <td>3</td>\n",
       "      <td>1</td>\n",
       "      <td>2064</td>\n",
       "      <td>2</td>\n",
       "      <td>...</td>\n",
       "      <td>4</td>\n",
       "      <td>2</td>\n",
       "      <td>1</td>\n",
       "      <td>6</td>\n",
       "      <td>0</td>\n",
       "      <td>3</td>\n",
       "      <td>6</td>\n",
       "      <td>2</td>\n",
       "      <td>0</td>\n",
       "      <td>3</td>\n",
       "    </tr>\n",
       "    <tr>\n",
       "      <th>1468</th>\n",
       "      <td>49</td>\n",
       "      <td>0</td>\n",
       "      <td>1</td>\n",
       "      <td>1023</td>\n",
       "      <td>2</td>\n",
       "      <td>2</td>\n",
       "      <td>3</td>\n",
       "      <td>3</td>\n",
       "      <td>2065</td>\n",
       "      <td>4</td>\n",
       "      <td>...</td>\n",
       "      <td>3</td>\n",
       "      <td>4</td>\n",
       "      <td>0</td>\n",
       "      <td>17</td>\n",
       "      <td>3</td>\n",
       "      <td>2</td>\n",
       "      <td>9</td>\n",
       "      <td>6</td>\n",
       "      <td>0</td>\n",
       "      <td>8</td>\n",
       "    </tr>\n",
       "    <tr>\n",
       "      <th>1469</th>\n",
       "      <td>34</td>\n",
       "      <td>0</td>\n",
       "      <td>2</td>\n",
       "      <td>628</td>\n",
       "      <td>1</td>\n",
       "      <td>8</td>\n",
       "      <td>3</td>\n",
       "      <td>3</td>\n",
       "      <td>2068</td>\n",
       "      <td>2</td>\n",
       "      <td>...</td>\n",
       "      <td>3</td>\n",
       "      <td>1</td>\n",
       "      <td>0</td>\n",
       "      <td>6</td>\n",
       "      <td>3</td>\n",
       "      <td>4</td>\n",
       "      <td>4</td>\n",
       "      <td>3</td>\n",
       "      <td>1</td>\n",
       "      <td>2</td>\n",
       "    </tr>\n",
       "  </tbody>\n",
       "</table>\n",
       "<p>1387 rows × 32 columns</p>\n",
       "</div>"
      ],
      "text/plain": [
       "      Age  Attrition  BusinessTravel  DailyRate  Department  DistanceFromHome  \\\n",
       "0      41          1               2       1102           2                 1   \n",
       "1      49          0               1        279           1                 8   \n",
       "2      37          1               2       1373           1                 2   \n",
       "3      33          0               1       1392           1                 3   \n",
       "4      27          0               2        591           1                 2   \n",
       "...   ...        ...             ...        ...         ...               ...   \n",
       "1465   36          0               1        884           1                23   \n",
       "1466   39          0               2        613           1                 6   \n",
       "1467   27          0               2        155           1                 4   \n",
       "1468   49          0               1       1023           2                 2   \n",
       "1469   34          0               2        628           1                 8   \n",
       "\n",
       "      Education  EducationField  EmployeeNumber  EnvironmentSatisfaction  ...  \\\n",
       "0             2               1               1                        2  ...   \n",
       "1             1               1               2                        3  ...   \n",
       "2             2               4               4                        4  ...   \n",
       "3             4               1               5                        4  ...   \n",
       "4             1               3               7                        1  ...   \n",
       "...         ...             ...             ...                      ...  ...   \n",
       "1465          2               3            2061                        3  ...   \n",
       "1466          1               3            2062                        4  ...   \n",
       "1467          3               1            2064                        2  ...   \n",
       "1468          3               3            2065                        4  ...   \n",
       "1469          3               3            2068                        2  ...   \n",
       "\n",
       "      PerformanceRating  RelationshipSatisfaction  StockOptionLevel  \\\n",
       "0                     3                         1                 0   \n",
       "1                     4                         4                 1   \n",
       "2                     3                         2                 0   \n",
       "3                     3                         3                 0   \n",
       "4                     3                         4                 1   \n",
       "...                 ...                       ...               ...   \n",
       "1465                  3                         3                 1   \n",
       "1466                  3                         1                 1   \n",
       "1467                  4                         2                 1   \n",
       "1468                  3                         4                 0   \n",
       "1469                  3                         1                 0   \n",
       "\n",
       "      TotalWorkingYears  TrainingTimesLastYear  WorkLifeBalance  \\\n",
       "0                     8                      0                1   \n",
       "1                    10                      3                3   \n",
       "2                     7                      3                3   \n",
       "3                     8                      3                3   \n",
       "4                     6                      3                3   \n",
       "...                 ...                    ...              ...   \n",
       "1465                 17                      3                3   \n",
       "1466                  9                      5                3   \n",
       "1467                  6                      0                3   \n",
       "1468                 17                      3                2   \n",
       "1469                  6                      3                4   \n",
       "\n",
       "      YearsAtCompany  YearsInCurrentRole  YearsSinceLastPromotion  \\\n",
       "0                  6                   4                        0   \n",
       "1                 10                   7                        1   \n",
       "2                  0                   0                        0   \n",
       "3                  8                   7                        3   \n",
       "4                  2                   2                        2   \n",
       "...              ...                 ...                      ...   \n",
       "1465               5                   2                        0   \n",
       "1466               7                   7                        1   \n",
       "1467               6                   2                        0   \n",
       "1468               9                   6                        0   \n",
       "1469               4                   3                        1   \n",
       "\n",
       "      YearsWithCurrManager  \n",
       "0                        5  \n",
       "1                        7  \n",
       "2                        0  \n",
       "3                        0  \n",
       "4                        2  \n",
       "...                    ...  \n",
       "1465                     3  \n",
       "1466                     7  \n",
       "1467                     3  \n",
       "1468                     8  \n",
       "1469                     2  \n",
       "\n",
       "[1387 rows x 32 columns]"
      ]
     },
     "execution_count": 327,
     "metadata": {},
     "output_type": "execute_result"
    }
   ],
   "source": [
    "HR_Analytics_New=HR_Analytics[(z<3).all(axis=1)]\n",
    "HR_Analytics_New\n",
    "#SInce data loss is around 5%, we can go ahead with the new dataset i.e. after the removal of outliers"
   ]
  },
  {
   "cell_type": "code",
   "execution_count": 328,
   "metadata": {},
   "outputs": [
    {
     "data": {
      "text/plain": [
       "(1387, 32)"
      ]
     },
     "execution_count": 328,
     "metadata": {},
     "output_type": "execute_result"
    }
   ],
   "source": [
    "HR_Analytics_New.shape"
   ]
  },
  {
   "cell_type": "code",
   "execution_count": 329,
   "metadata": {},
   "outputs": [],
   "source": [
    "#Now lets check for the skewness and remove them where value is greater than 0.5"
   ]
  },
  {
   "cell_type": "code",
   "execution_count": 330,
   "metadata": {},
   "outputs": [
    {
     "data": {
      "text/plain": [
       "Age                         0.472280\n",
       "Attrition                   1.805983\n",
       "BusinessTravel             -1.426774\n",
       "DailyRate                  -0.017078\n",
       "Department                  0.183919\n",
       "DistanceFromHome            0.954752\n",
       "Education                  -0.289024\n",
       "EducationField              0.544868\n",
       "EmployeeNumber              0.018931\n",
       "EnvironmentSatisfaction    -0.325285\n",
       "Gender                     -0.417296\n",
       "HourlyRate                 -0.030481\n",
       "JobInvolvement             -0.501401\n",
       "JobLevel                    1.126075\n",
       "JobRole                    -0.386843\n",
       "JobSatisfaction            -0.345612\n",
       "MaritalStatus              -0.160952\n",
       "MonthlyIncome               1.544770\n",
       "MonthlyRate                 0.030596\n",
       "NumCompaniesWorked          1.037715\n",
       "OverTime                    0.954751\n",
       "PercentSalaryHike           0.800592\n",
       "PerformanceRating           1.931566\n",
       "RelationshipSatisfaction   -0.295686\n",
       "StockOptionLevel            0.962332\n",
       "TotalWorkingYears           1.034487\n",
       "TrainingTimesLastYear       0.577614\n",
       "WorkLifeBalance            -0.557100\n",
       "YearsAtCompany              1.248623\n",
       "YearsInCurrentRole          0.726675\n",
       "YearsSinceLastPromotion     1.756335\n",
       "YearsWithCurrManager        0.694506\n",
       "dtype: float64"
      ]
     },
     "execution_count": 330,
     "metadata": {},
     "output_type": "execute_result"
    }
   ],
   "source": [
    "HR_Analytics_New.skew()"
   ]
  },
  {
   "cell_type": "code",
   "execution_count": 331,
   "metadata": {},
   "outputs": [],
   "source": [
    "HR_Analytics_New[\"DistanceFromHome\"]=power_transform(HR_Analytics_New[\"DistanceFromHome\"].values.reshape(-1,1))"
   ]
  },
  {
   "cell_type": "code",
   "execution_count": 332,
   "metadata": {},
   "outputs": [],
   "source": [
    "HR_Analytics_New[\"JobLevel\"]=power_transform(HR_Analytics_New[\"JobLevel\"].values.reshape(-1,1))"
   ]
  },
  {
   "cell_type": "code",
   "execution_count": 333,
   "metadata": {},
   "outputs": [],
   "source": [
    "HR_Analytics_New[\"MonthlyIncome\"]=power_transform(HR_Analytics_New[\"MonthlyIncome\"].values.reshape(-1,1))"
   ]
  },
  {
   "cell_type": "code",
   "execution_count": 334,
   "metadata": {},
   "outputs": [],
   "source": [
    "HR_Analytics_New[\"NumCompaniesWorked\"]=power_transform(HR_Analytics_New[\"NumCompaniesWorked\"].values.reshape(-1,1))"
   ]
  },
  {
   "cell_type": "code",
   "execution_count": 335,
   "metadata": {},
   "outputs": [],
   "source": [
    "HR_Analytics_New[\"PercentSalaryHike\"]=power_transform(HR_Analytics_New[\"PercentSalaryHike\"].values.reshape(-1,1))"
   ]
  },
  {
   "cell_type": "code",
   "execution_count": 336,
   "metadata": {},
   "outputs": [],
   "source": [
    "HR_Analytics_New[\"PerformanceRating\"]=power_transform(HR_Analytics_New[\"PerformanceRating\"].values.reshape(-1,1))"
   ]
  },
  {
   "cell_type": "code",
   "execution_count": 337,
   "metadata": {},
   "outputs": [],
   "source": [
    "HR_Analytics_New[\"StockOptionLevel\"]=power_transform(HR_Analytics_New[\"StockOptionLevel\"].values.reshape(-1,1))"
   ]
  },
  {
   "cell_type": "code",
   "execution_count": 338,
   "metadata": {},
   "outputs": [],
   "source": [
    "HR_Analytics_New[\"TotalWorkingYears\"]=power_transform(HR_Analytics_New[\"TotalWorkingYears\"].values.reshape(-1,1))"
   ]
  },
  {
   "cell_type": "code",
   "execution_count": 339,
   "metadata": {},
   "outputs": [],
   "source": [
    "HR_Analytics_New[\"TrainingTimesLastYear\"]=power_transform(HR_Analytics_New[\"TrainingTimesLastYear\"].values.reshape(-1,1))"
   ]
  },
  {
   "cell_type": "code",
   "execution_count": 340,
   "metadata": {},
   "outputs": [],
   "source": [
    "HR_Analytics_New[\"WorkLifeBalance\"]=power_transform(HR_Analytics_New[\"WorkLifeBalance\"].values.reshape(-1,1))"
   ]
  },
  {
   "cell_type": "code",
   "execution_count": 341,
   "metadata": {},
   "outputs": [],
   "source": [
    "HR_Analytics_New[\"YearsAtCompany\"]=power_transform(HR_Analytics_New[\"YearsAtCompany\"].values.reshape(-1,1))"
   ]
  },
  {
   "cell_type": "code",
   "execution_count": 342,
   "metadata": {},
   "outputs": [],
   "source": [
    "HR_Analytics_New[\"YearsInCurrentRole\"]=power_transform(HR_Analytics_New[\"YearsInCurrentRole\"].values.reshape(-1,1))"
   ]
  },
  {
   "cell_type": "code",
   "execution_count": 343,
   "metadata": {},
   "outputs": [],
   "source": [
    "HR_Analytics_New[\"YearsSinceLastPromotion\"]=power_transform(HR_Analytics_New[\"YearsSinceLastPromotion\"].values.reshape(-1,1))"
   ]
  },
  {
   "cell_type": "code",
   "execution_count": 344,
   "metadata": {},
   "outputs": [],
   "source": [
    "HR_Analytics_New[\"YearsWithCurrManager\"]=power_transform(HR_Analytics_New[\"YearsWithCurrManager\"].values.reshape(-1,1))"
   ]
  },
  {
   "cell_type": "code",
   "execution_count": 345,
   "metadata": {},
   "outputs": [
    {
     "data": {
      "text/plain": [
       "Age                         0.472280\n",
       "Attrition                   1.805983\n",
       "BusinessTravel             -1.426774\n",
       "DailyRate                  -0.017078\n",
       "Department                  0.183919\n",
       "DistanceFromHome           -0.008149\n",
       "Education                  -0.289024\n",
       "EducationField              0.544868\n",
       "EmployeeNumber              0.018931\n",
       "EnvironmentSatisfaction    -0.325285\n",
       "Gender                     -0.417296\n",
       "HourlyRate                 -0.030481\n",
       "JobInvolvement             -0.501401\n",
       "JobLevel                    0.110769\n",
       "JobRole                    -0.386843\n",
       "JobSatisfaction            -0.345612\n",
       "MaritalStatus              -0.160952\n",
       "MonthlyIncome               0.027700\n",
       "MonthlyRate                 0.030596\n",
       "NumCompaniesWorked          0.016175\n",
       "OverTime                    0.954751\n",
       "PercentSalaryHike           0.112128\n",
       "PerformanceRating           0.000000\n",
       "RelationshipSatisfaction   -0.295686\n",
       "StockOptionLevel            0.089929\n",
       "TotalWorkingYears          -0.009666\n",
       "TrainingTimesLastYear       0.057949\n",
       "WorkLifeBalance            -0.011133\n",
       "YearsAtCompany             -0.025230\n",
       "YearsInCurrentRole         -0.069631\n",
       "YearsSinceLastPromotion     0.212301\n",
       "YearsWithCurrManager       -0.070570\n",
       "dtype: float64"
      ]
     },
     "execution_count": 345,
     "metadata": {},
     "output_type": "execute_result"
    }
   ],
   "source": [
    "#Lets check skewness again after removing skewness through power transform\n",
    "HR_Analytics_New.skew()\n",
    "#It looks in range now"
   ]
  },
  {
   "cell_type": "code",
   "execution_count": 346,
   "metadata": {},
   "outputs": [],
   "source": [
    "#now lets separate x and y before starting machine learning"
   ]
  },
  {
   "cell_type": "code",
   "execution_count": 347,
   "metadata": {},
   "outputs": [
    {
     "data": {
      "text/plain": [
       "(1387, 31)"
      ]
     },
     "execution_count": 347,
     "metadata": {},
     "output_type": "execute_result"
    }
   ],
   "source": [
    "x=HR_Analytics_New.drop(\"Attrition\",axis=1)\n",
    "x.shape"
   ]
  },
  {
   "cell_type": "code",
   "execution_count": 348,
   "metadata": {},
   "outputs": [
    {
     "data": {
      "text/plain": [
       "(1387,)"
      ]
     },
     "execution_count": 348,
     "metadata": {},
     "output_type": "execute_result"
    }
   ],
   "source": [
    "y=HR_Analytics_New[\"Attrition\"]\n",
    "y.shape"
   ]
  },
  {
   "cell_type": "code",
   "execution_count": 350,
   "metadata": {},
   "outputs": [],
   "source": [
    "#lets apply standard scaler to x variables"
   ]
  },
  {
   "cell_type": "code",
   "execution_count": 351,
   "metadata": {
    "collapsed": true
   },
   "outputs": [
    {
     "data": {
      "text/plain": [
       "array([[ 0.5366811 ,  0.59312579,  0.73432467, ...,  0.29052433,\n",
       "        -1.07353381,  0.58217664],\n",
       "       [ 1.44211114, -0.90535412, -1.30776866, ...,  1.0065754 ,\n",
       "         0.19316755,  1.01807316],\n",
       "       [ 0.08396607,  0.59312579,  1.40675151, ..., -1.57181404,\n",
       "        -1.07353381, -1.52842596],\n",
       "       ...,\n",
       "       [-1.04782149,  0.59312579, -1.61544736, ..., -0.39076907,\n",
       "        -1.07353381,  0.01867962],\n",
       "       [ 1.44211114, -0.90535412,  0.53830356, ...,  0.79376377,\n",
       "        -1.07353381,  1.20578193],\n",
       "       [-0.2555702 ,  0.59312579, -0.44180199, ..., -0.01873824,\n",
       "         0.19316755, -0.3478709 ]])"
      ]
     },
     "execution_count": 351,
     "metadata": {},
     "output_type": "execute_result"
    }
   ],
   "source": [
    "S=StandardScaler()\n",
    "x=S.fit_transform(x)\n",
    "x"
   ]
  },
  {
   "cell_type": "code",
   "execution_count": 362,
   "metadata": {
    "collapsed": true
   },
   "outputs": [
    {
     "name": "stdout",
     "output_type": "stream",
     "text": [
      "(970, 31)\n",
      "(417, 31)\n",
      "(970,)\n",
      "(417,)\n"
     ]
    }
   ],
   "source": [
    "#lets train_test_split the data\n",
    "x_train,x_test,y_train,y_test=train_test_split(x,y,test_size=0.3,random_state=42)\n",
    "print(x_train.shape)\n",
    "print(x_test.shape)\n",
    "print(y_train.shape)\n",
    "print(y_test.shape)"
   ]
  },
  {
   "cell_type": "markdown",
   "metadata": {},
   "source": [
    "#Now lets use four ML algos to select the best fit model:\n",
    "1)Logistic Regression\n",
    "2)KNN\n",
    "3)Randomforest\n",
    "4)Adaboost"
   ]
  },
  {
   "cell_type": "code",
   "execution_count": 367,
   "metadata": {},
   "outputs": [
    {
     "name": "stdout",
     "output_type": "stream",
     "text": [
      "0.8633093525179856\n",
      "[[333  12]\n",
      " [ 45  27]]\n",
      "              precision    recall  f1-score   support\n",
      "\n",
      "           0       0.88      0.97      0.92       345\n",
      "           1       0.69      0.38      0.49        72\n",
      "\n",
      "    accuracy                           0.86       417\n",
      "   macro avg       0.79      0.67      0.70       417\n",
      "weighted avg       0.85      0.86      0.85       417\n",
      "\n",
      "[0.54054054 0.45714286 0.46575342 0.52777778 0.57534247]\n",
      "0.5133114131744267\n",
      "0.0452000476204616\n"
     ]
    }
   ],
   "source": [
    "#1) Logisticregression\n",
    "lg=LogisticRegression()\n",
    "lg.fit(x_train,y_train)\n",
    "#lets predict y values\n",
    "pred1=lg.predict(x_test)\n",
    "print(accuracy_score(y_test,pred1))\n",
    "print(confusion_matrix(y_test,pred1))\n",
    "print(classification_report(y_test,pred1))\n",
    "score1=cross_val_score(lg,x,y,scoring=\"f1\",cv=5)\n",
    "print(score1)\n",
    "print(score1.mean())\n",
    "print(score1.std())"
   ]
  },
  {
   "cell_type": "code",
   "execution_count": 368,
   "metadata": {},
   "outputs": [
    {
     "name": "stdout",
     "output_type": "stream",
     "text": [
      "0.8513189448441247\n",
      "[[343  60]\n",
      " [  2  12]]\n",
      "              precision    recall  f1-score   support\n",
      "\n",
      "           0       0.99      0.85      0.92       403\n",
      "           1       0.17      0.86      0.28        14\n",
      "\n",
      "    accuracy                           0.85       417\n",
      "   macro avg       0.58      0.85      0.60       417\n",
      "weighted avg       0.97      0.85      0.90       417\n",
      "\n",
      "[0.15384615 0.21052632 0.3        0.31578947 0.19230769]\n",
      "0.23449392712550607\n",
      "0.06286207061478906\n"
     ]
    }
   ],
   "source": [
    "#KNN\n",
    "knn=KNeighborsClassifier()\n",
    "knn.fit(x_train,y_train)\n",
    "#lets predict y values\n",
    "pred2=knn.predict(x_test)\n",
    "print(accuracy_score(pred2,y_test))\n",
    "print(confusion_matrix(pred2,y_test))\n",
    "print(classification_report(pred2,y_test))\n",
    "score2=cross_val_score(knn,x,y,scoring=\"f1\",cv=5)\n",
    "print(score2)\n",
    "print(score2.mean())\n",
    "print(score2.std())"
   ]
  },
  {
   "cell_type": "code",
   "execution_count": 369,
   "metadata": {},
   "outputs": [
    {
     "name": "stdout",
     "output_type": "stream",
     "text": [
      "0.841726618705036\n",
      "[[341  62]\n",
      " [  4  10]]\n",
      "              precision    recall  f1-score   support\n",
      "\n",
      "           0       0.99      0.85      0.91       403\n",
      "           1       0.14      0.71      0.23        14\n",
      "\n",
      "    accuracy                           0.84       417\n",
      "   macro avg       0.56      0.78      0.57       417\n",
      "weighted avg       0.96      0.84      0.89       417\n",
      "\n",
      "[0.26415094 0.25925926 0.30508475 0.29090909 0.22641509]\n",
      "0.26916382673338224\n",
      "0.027253816303254394\n"
     ]
    }
   ],
   "source": [
    "#Randomforest\n",
    "rf=RandomForestClassifier()\n",
    "rf.fit(x_train,y_train)\n",
    "#lets predict y values\n",
    "pred3=rf.predict(x_test)\n",
    "print(accuracy_score(pred3,y_test))\n",
    "print(confusion_matrix(pred3,y_test))\n",
    "print(classification_report(pred3,y_test))\n",
    "score3=cross_val_score(rf,x,y,scoring=\"f1\",cv=5)\n",
    "print(score3)\n",
    "print(score3.mean())\n",
    "print(score3.std())"
   ]
  },
  {
   "cell_type": "code",
   "execution_count": 370,
   "metadata": {},
   "outputs": [
    {
     "name": "stdout",
     "output_type": "stream",
     "text": [
      "0.8561151079136691\n",
      "[[327  42]\n",
      " [ 18  30]]\n",
      "              precision    recall  f1-score   support\n",
      "\n",
      "           0       0.95      0.89      0.92       369\n",
      "           1       0.42      0.62      0.50        48\n",
      "\n",
      "    accuracy                           0.86       417\n",
      "   macro avg       0.68      0.76      0.71       417\n",
      "weighted avg       0.89      0.86      0.87       417\n",
      "\n",
      "[0.         0.47887324 0.45783133 0.51851852 0.16326531]\n",
      "0.32369767787575837\n",
      "0.20520486485202277\n"
     ]
    }
   ],
   "source": [
    "#Adaboost\n",
    "ad=AdaBoostClassifier()\n",
    "ad.fit(x_train,y_train)\n",
    "#lets predict y values\n",
    "pred4=ad.predict(x_test)\n",
    "print(accuracy_score(pred4,y_test))\n",
    "print(confusion_matrix(pred4,y_test))\n",
    "print(classification_report(pred4,y_test))\n",
    "score4=cross_val_score(ad,x,y,scoring=\"f1\",cv=5)\n",
    "print(score4)\n",
    "print(score4.mean())\n",
    "print(score4.std())"
   ]
  },
  {
   "cell_type": "code",
   "execution_count": 371,
   "metadata": {},
   "outputs": [],
   "source": [
    "#on comparing the f1-score accuracy with cross_val f1 score, the difference is the least in terms of logistic regression. \n",
    "#Hence Logisctic regression is the best fit model"
   ]
  },
  {
   "cell_type": "code",
   "execution_count": 374,
   "metadata": {},
   "outputs": [
    {
     "data": {
      "text/plain": [
       "RandomizedSearchCV(estimator=LogisticRegression(),\n",
       "                   param_distributions={'C': [1, 10, 0.5, 20],\n",
       "                                        'dual': [True, False],\n",
       "                                        'penalty': ['none', 'l2', 'l1',\n",
       "                                                    'elasticnet'],\n",
       "                                        'random_state': [42, 50, 30, 45],\n",
       "                                        'solver': ['newton-cg', 'lbfgs',\n",
       "                                                   'liblinear', 'sag']})"
      ]
     },
     "execution_count": 374,
     "metadata": {},
     "output_type": "execute_result"
    }
   ],
   "source": [
    "#Lets hypertune using randomizedsearchcv\n",
    "parameters={\"penalty\":[\"none\",\"l2\",\"l1\",\"elasticnet\"],\"dual\":[True,False],\"C\":[1,10,0.5,20],\"random_state\":[42,50,30,45],\"solver\":[\"newton-cg\",\"lbfgs\",\"liblinear\",\"sag\"]}\n",
    "rsearch=RandomizedSearchCV(lg,parameters)\n",
    "rsearch.fit(x_train,y_train)"
   ]
  },
  {
   "cell_type": "code",
   "execution_count": 375,
   "metadata": {},
   "outputs": [
    {
     "name": "stdout",
     "output_type": "stream",
     "text": [
      "LogisticRegression(C=0.5, random_state=50, solver='liblinear')\n",
      "{'solver': 'liblinear', 'random_state': 50, 'penalty': 'l2', 'dual': False, 'C': 0.5}\n",
      "0.8773195876288661\n"
     ]
    }
   ],
   "source": [
    "print(rsearch.best_estimator_)\n",
    "print(rsearch.best_params_)\n",
    "print(rsearch.best_score_)"
   ]
  },
  {
   "cell_type": "code",
   "execution_count": 379,
   "metadata": {},
   "outputs": [
    {
     "name": "stdout",
     "output_type": "stream",
     "text": [
      "0.8633093525179856\n",
      "[[333  12]\n",
      " [ 45  27]]\n",
      "              precision    recall  f1-score   support\n",
      "\n",
      "           0       0.88      0.97      0.92       345\n",
      "           1       0.69      0.38      0.49        72\n",
      "\n",
      "    accuracy                           0.86       417\n",
      "   macro avg       0.79      0.67      0.70       417\n",
      "weighted avg       0.85      0.86      0.85       417\n",
      "\n"
     ]
    }
   ],
   "source": [
    "#lets put these parameters back to the best fit model to imporove the accuracy\n",
    "lg1=LogisticRegression(C=0.5,solver=\"liblinear\",random_state=50,penalty=\"l2\",dual=False)\n",
    "lg1.fit(x_train,y_train)\n",
    "#lets predict y_values\n",
    "pred5=lg1.predict(x_test)\n",
    "print(accuracy_score(y_test,pred5))\n",
    "print(confusion_matrix(y_test,pred5))\n",
    "print(classification_report(y_test,pred5))"
   ]
  },
  {
   "cell_type": "code",
   "execution_count": 381,
   "metadata": {},
   "outputs": [
    {
     "data": {
      "text/plain": [
       "array([8.47936432e-01, 4.35393593e-03, 1.67685821e-01, 8.39382022e-01,\n",
       "       5.40005846e-02, 1.66715036e-01, 6.86938324e-01, 2.00471276e-02,\n",
       "       2.30027295e-02, 1.01488435e-02, 6.01015227e-02, 1.33747415e-02,\n",
       "       6.51207660e-01, 1.62771991e-01, 2.67116361e-02, 2.58692110e-01,\n",
       "       9.30304686e-01, 5.73837420e-02, 4.40309096e-01, 1.72109344e-01,\n",
       "       1.26942462e-01, 1.09574031e-01, 1.04818683e-01, 1.46289188e-02,\n",
       "       2.76793426e-01, 1.27516099e-01, 2.87682497e-02, 5.46464791e-01,\n",
       "       2.86924321e-01, 2.67219730e-02, 1.32699404e-01, 1.96108990e-01,\n",
       "       3.05840132e-01, 2.81267616e-01, 9.76719038e-02, 2.78212093e-02,\n",
       "       3.81749214e-01, 5.13929497e-02, 5.23413578e-02, 9.95281451e-02,\n",
       "       9.07332483e-01, 7.71930367e-02, 7.40714403e-01, 2.23645170e-01,\n",
       "       1.38755377e-02, 5.67851211e-02, 4.91993212e-01, 1.11261191e-01,\n",
       "       5.51547044e-01, 3.25942094e-02, 6.48205628e-02, 1.21978397e-02,\n",
       "       1.91731677e-01, 1.09256771e-01, 1.40033505e-02, 3.90916559e-01,\n",
       "       2.86506781e-03, 2.67391863e-01, 7.90383424e-02, 6.38235030e-02,\n",
       "       1.37255357e-02, 1.03911858e-02, 6.97261555e-02, 7.66173832e-01,\n",
       "       3.39184784e-01, 1.83950138e-01, 5.04780340e-02, 6.32002284e-02,\n",
       "       1.93985089e-01, 2.74064781e-01, 1.49696542e-01, 1.17024234e-02,\n",
       "       8.70194117e-01, 4.63608111e-01, 3.08182899e-01, 3.76145471e-02,\n",
       "       4.82922752e-02, 1.60074610e-03, 3.89699302e-03, 3.75193823e-01,\n",
       "       4.34542967e-02, 1.48465875e-01, 5.01421138e-01, 9.60309370e-03,\n",
       "       4.37084455e-02, 8.53429316e-02, 1.01888062e-02, 4.68537940e-01,\n",
       "       5.47613528e-02, 8.32996412e-02, 9.49722309e-01, 7.85528625e-01,\n",
       "       4.14427843e-01, 1.44097517e-01, 5.10256168e-02, 2.39256170e-02,\n",
       "       2.16859983e-01, 4.84450631e-02, 3.81999627e-01, 1.80431303e-01,\n",
       "       8.39279975e-01, 3.13262299e-01, 1.58564394e-02, 5.29789283e-03,\n",
       "       3.06033132e-01, 1.52888638e-01, 7.35264991e-03, 3.72208616e-01,\n",
       "       1.83027658e-02, 1.59158088e-01, 7.07510902e-02, 8.41382150e-01,\n",
       "       1.44793985e-01, 1.84498400e-02, 1.25482112e-02, 4.89589966e-02,\n",
       "       5.86484629e-02, 5.00850582e-02, 2.36371151e-03, 8.55664452e-03,\n",
       "       1.81158923e-01, 4.67898832e-01, 9.33193578e-02, 5.80258485e-01,\n",
       "       2.88476418e-03, 9.92559631e-03, 2.88487685e-02, 1.17121478e-01,\n",
       "       1.20890531e-02, 8.40446122e-04, 4.55084492e-02, 3.24749428e-01,\n",
       "       1.68121444e-01, 1.35056454e-01, 7.57538265e-02, 6.64063882e-02,\n",
       "       2.57822877e-01, 8.32264382e-02, 1.02034030e-02, 1.56882040e-02,\n",
       "       4.32494110e-01, 4.29120903e-01, 6.79199956e-02, 8.14725680e-02,\n",
       "       4.29772823e-03, 9.72617710e-03, 2.51412639e-02, 2.58777930e-02,\n",
       "       6.27307846e-04, 6.70342709e-02, 1.07560935e-02, 2.32989731e-02,\n",
       "       1.42365763e-02, 5.87912012e-03, 4.30864497e-01, 1.54281816e-01,\n",
       "       8.61400440e-02, 4.08225512e-01, 2.27589271e-01, 4.52665238e-02,\n",
       "       1.54188742e-02, 9.34766778e-01, 7.31625152e-01, 5.14947296e-01,\n",
       "       1.22560834e-01, 3.26224671e-01, 1.34020440e-02, 7.63312230e-02,\n",
       "       1.00320926e-01, 1.13709787e-01, 3.39073488e-02, 5.97811757e-03,\n",
       "       1.70934300e-01, 3.79671975e-02, 6.50410306e-02, 1.37796521e-02,\n",
       "       7.21152125e-02, 7.00638126e-01, 2.69960330e-01, 1.36948670e-03,\n",
       "       1.97639280e-02, 4.73940226e-02, 2.50857749e-01, 3.04949328e-01,\n",
       "       3.89662263e-01, 7.93412613e-02, 4.10080104e-03, 1.10719485e-02,\n",
       "       1.05808822e-02, 4.04968751e-01, 1.55391066e-03, 3.35576751e-01,\n",
       "       2.38404028e-01, 5.91654952e-02, 6.78270929e-02, 1.52714230e-01,\n",
       "       7.73105971e-02, 1.77098326e-01, 5.16375270e-01, 3.21180784e-03,\n",
       "       4.31190187e-02, 8.51591712e-03, 2.13526741e-02, 5.35770312e-03,\n",
       "       4.54769153e-02, 1.47568962e-02, 5.00799924e-03, 1.18288117e-02,\n",
       "       8.85134807e-02, 6.98407936e-03, 1.11047116e-01, 4.88155829e-03,\n",
       "       1.83351705e-01, 5.48108092e-02, 1.19637655e-02, 1.47243495e-01,\n",
       "       5.08279099e-02, 4.01595905e-01, 5.91449137e-02, 1.38124242e-01,\n",
       "       5.06835571e-02, 1.85758571e-02, 2.41670992e-02, 5.46066647e-02,\n",
       "       3.91443675e-03, 2.53914458e-01, 4.16845412e-03, 9.33619803e-02,\n",
       "       2.79639119e-02, 1.97690437e-02, 2.98554633e-02, 6.23240980e-03,\n",
       "       3.81353764e-01, 3.36559461e-02, 8.17605065e-01, 1.77794348e-03,\n",
       "       1.56083455e-01, 8.72627346e-02, 3.34635751e-02, 1.23472567e-01,\n",
       "       7.08796257e-02, 6.53434820e-02, 7.66515517e-01, 2.16287425e-03,\n",
       "       2.18069662e-01, 4.64484118e-02, 1.38810173e-02, 2.30378519e-01,\n",
       "       1.61177270e-01, 2.68855943e-03, 2.00185968e-02, 7.77365797e-02,\n",
       "       3.13717139e-01, 6.02370895e-02, 3.47259650e-01, 4.18222394e-03,\n",
       "       2.81225516e-01, 3.93976894e-01, 3.97449350e-02, 1.18123318e-01,\n",
       "       1.24977928e-01, 7.55876947e-03, 2.73313118e-02, 1.26847856e-02,\n",
       "       5.62983969e-04, 7.43005546e-01, 1.12541822e-01, 1.31285999e-01,\n",
       "       2.58267077e-01, 4.36736888e-03, 3.73444831e-01, 1.00489575e-01,\n",
       "       6.18528562e-01, 8.63503485e-02, 5.39855899e-02, 1.96777475e-01,\n",
       "       2.34696182e-02, 7.57112555e-02, 8.23941255e-01, 7.85956187e-02,\n",
       "       1.97852343e-01, 4.51637638e-01, 1.59960784e-02, 4.09665869e-01,\n",
       "       1.23937625e-01, 2.03448470e-02, 6.83689260e-01, 1.50187555e-02,\n",
       "       4.10972109e-03, 3.63142460e-03, 1.45737802e-01, 3.66606611e-02,\n",
       "       1.01816608e-01, 9.45643405e-02, 5.61138843e-03, 8.30127120e-01,\n",
       "       8.67072055e-03, 1.90505115e-01, 4.27667323e-02, 3.91820657e-03,\n",
       "       5.51485580e-02, 3.89861227e-03, 6.30092454e-01, 5.69713029e-02,\n",
       "       6.01441432e-01, 1.70630032e-01, 3.01234400e-01, 3.65037237e-02,\n",
       "       1.50530712e-01, 1.63155264e-01, 3.00308201e-01, 2.88842576e-02,\n",
       "       1.76926198e-02, 7.15081932e-01, 3.18673228e-02, 8.20496746e-02,\n",
       "       8.04035913e-01, 5.36186535e-01, 1.00129329e-01, 1.15765283e-01,\n",
       "       1.06035797e-02, 1.85754042e-02, 1.76275883e-01, 2.15926151e-02,\n",
       "       1.96462403e-01, 3.33640472e-01, 6.12899762e-02, 1.32906231e-03,\n",
       "       9.31337873e-03, 7.16290596e-02, 1.44716021e-02, 3.50449462e-01,\n",
       "       4.66120921e-02, 6.03094987e-02, 3.58778777e-02, 5.31619039e-02,\n",
       "       7.57731990e-01, 1.96528262e-01, 1.47136348e-01, 2.38118628e-01,\n",
       "       4.13648124e-01, 6.65454629e-02, 2.91529986e-02, 4.48866694e-01,\n",
       "       5.84389288e-02, 3.20997250e-02, 3.45243959e-01, 9.09710643e-02,\n",
       "       1.18208379e-01, 1.17342241e-01, 5.02689327e-02, 4.51689740e-02,\n",
       "       2.43374309e-01, 8.78341568e-02, 1.31847976e-02, 2.56875424e-02,\n",
       "       3.20619377e-02, 2.43270195e-01, 1.09070313e-01, 1.55215394e-01,\n",
       "       2.43219478e-02, 2.31289686e-01, 1.33055539e-02, 5.75892097e-02,\n",
       "       8.07379875e-03, 8.46900127e-01, 6.74276993e-03, 6.71824359e-03,\n",
       "       1.05641269e-01, 1.75741242e-01, 3.08442240e-02, 6.85964975e-02,\n",
       "       2.82404470e-03, 1.42629601e-01, 8.38398310e-03, 1.39988772e-02,\n",
       "       1.43168490e-01, 6.83869866e-03, 4.47978991e-01, 8.76159671e-03,\n",
       "       5.32938738e-01, 8.00099144e-03, 7.79269619e-01, 1.62719484e-01,\n",
       "       1.65675763e-01, 7.00971352e-02, 1.17514458e-01, 2.22748807e-01,\n",
       "       2.46820837e-02, 7.06920139e-02, 2.08520187e-02, 6.81038225e-02,\n",
       "       5.36951124e-02, 2.28456269e-01, 1.37047145e-02, 8.36429950e-01,\n",
       "       2.66358136e-02, 8.59354606e-02, 1.05303532e-01, 1.73701518e-02,\n",
       "       2.30427140e-02, 3.46845686e-02, 3.06228042e-01, 7.75097667e-02,\n",
       "       4.88778756e-03, 1.07804316e-01, 2.87589533e-01, 1.51927416e-02,\n",
       "       3.65990605e-01, 3.80646661e-02, 6.42191689e-02, 5.71933768e-04,\n",
       "       2.65419809e-02, 2.80716615e-01, 6.98609113e-03, 6.99157209e-02,\n",
       "       8.11716665e-04])"
      ]
     },
     "execution_count": 381,
     "metadata": {},
     "output_type": "execute_result"
    }
   ],
   "source": [
    "y_pred_prob=lg1.predict_proba(x_test)[:,1]\n",
    "y_pred_prob"
   ]
  },
  {
   "cell_type": "code",
   "execution_count": 382,
   "metadata": {},
   "outputs": [
    {
     "name": "stdout",
     "output_type": "stream",
     "text": [
      "[0.         0.         0.         0.00289855 0.00289855 0.00869565\n",
      " 0.00869565 0.0115942  0.0115942  0.0173913  0.0173913  0.02028986\n",
      " 0.02028986 0.02898551 0.02898551 0.03188406 0.03188406 0.04637681\n",
      " 0.04637681 0.04927536 0.04927536 0.05797101 0.05797101 0.06086957\n",
      " 0.06086957 0.06956522 0.06956522 0.07826087 0.07826087 0.09565217\n",
      " 0.09565217 0.10144928 0.10144928 0.10434783 0.10434783 0.10724638\n",
      " 0.10724638 0.11304348 0.11304348 0.11594203 0.11594203 0.12173913\n",
      " 0.12173913 0.13333333 0.13333333 0.15072464 0.15072464 0.17391304\n",
      " 0.17391304 0.1826087  0.1826087  0.18550725 0.18550725 0.2057971\n",
      " 0.2057971  0.29565217 0.29565217 0.30724638 0.30724638 0.33913043\n",
      " 0.33913043 0.34782609 0.34782609 0.35942029 0.35942029 0.51884058\n",
      " 0.51884058 0.53043478 0.53043478 0.64637681 0.64637681 0.66666667\n",
      " 0.66666667 0.68695652 0.68695652 0.75362319 0.75362319 0.85797101\n",
      " 0.85797101 0.88115942 0.88115942 0.90144928 0.90144928 0.90434783\n",
      " 0.90434783 0.92463768 0.92463768 1.        ]\n",
      "[0.         0.01388889 0.08333333 0.08333333 0.15277778 0.15277778\n",
      " 0.22222222 0.22222222 0.23611111 0.23611111 0.25       0.25\n",
      " 0.31944444 0.31944444 0.36111111 0.36111111 0.375      0.375\n",
      " 0.38888889 0.38888889 0.41666667 0.41666667 0.44444444 0.44444444\n",
      " 0.48611111 0.48611111 0.5        0.5        0.51388889 0.51388889\n",
      " 0.52777778 0.52777778 0.55555556 0.55555556 0.56944444 0.56944444\n",
      " 0.59722222 0.59722222 0.61111111 0.61111111 0.625      0.625\n",
      " 0.66666667 0.66666667 0.68055556 0.68055556 0.70833333 0.70833333\n",
      " 0.72222222 0.72222222 0.73611111 0.73611111 0.75       0.75\n",
      " 0.76388889 0.76388889 0.77777778 0.77777778 0.79166667 0.79166667\n",
      " 0.80555556 0.80555556 0.81944444 0.81944444 0.83333333 0.83333333\n",
      " 0.84722222 0.84722222 0.875      0.875      0.88888889 0.88888889\n",
      " 0.90277778 0.90277778 0.91666667 0.91666667 0.93055556 0.93055556\n",
      " 0.94444444 0.94444444 0.95833333 0.95833333 0.97222222 0.97222222\n",
      " 0.98611111 0.98611111 1.         1.        ]\n",
      "[1.94972231e+00 9.49722309e-01 8.47936432e-01 8.46900127e-01\n",
      " 8.30127120e-01 8.17605065e-01 7.66173832e-01 7.57731990e-01\n",
      " 7.43005546e-01 7.31625152e-01 7.15081932e-01 7.00638126e-01\n",
      " 6.18528562e-01 5.51547044e-01 5.32938738e-01 5.16375270e-01\n",
      " 5.14947296e-01 4.63608111e-01 4.51637638e-01 4.48866694e-01\n",
      " 4.40309096e-01 4.29120903e-01 4.13648124e-01 4.09665869e-01\n",
      " 4.01595905e-01 3.89662263e-01 3.81999627e-01 3.75193823e-01\n",
      " 3.73444831e-01 3.39184784e-01 3.35576751e-01 3.26224671e-01\n",
      " 3.13717139e-01 3.13262299e-01 3.08182899e-01 3.06228042e-01\n",
      " 3.05840132e-01 3.01234400e-01 3.00308201e-01 2.87589533e-01\n",
      " 2.86924321e-01 2.81225516e-01 2.74064781e-01 2.58267077e-01\n",
      " 2.57822877e-01 2.38118628e-01 2.30378519e-01 1.96777475e-01\n",
      " 1.96528262e-01 1.93985089e-01 1.91731677e-01 1.90505115e-01\n",
      " 1.83950138e-01 1.72109344e-01 1.70934300e-01 1.26942462e-01\n",
      " 1.24977928e-01 1.18208379e-01 1.18123318e-01 1.09070313e-01\n",
      " 1.07804316e-01 1.04818683e-01 1.01816608e-01 9.95281451e-02\n",
      " 9.76719038e-02 5.75892097e-02 5.73837420e-02 5.48108092e-02\n",
      " 5.46066647e-02 3.20619377e-02 3.18673228e-02 2.79639119e-02\n",
      " 2.78212093e-02 2.56875424e-02 2.51412639e-02 1.59960784e-02\n",
      " 1.58564394e-02 9.72617710e-03 9.60309370e-03 8.00099144e-03\n",
      " 7.55876947e-03 6.23240980e-03 5.97811757e-03 5.87912012e-03\n",
      " 5.61138843e-03 4.35393593e-03 4.29772823e-03 5.62983969e-04]\n"
     ]
    }
   ],
   "source": [
    "fpr,tpr,thresholds=roc_curve(y_test,y_pred_prob)\n",
    "print(fpr)\n",
    "print(tpr)\n",
    "print(thresholds)"
   ]
  },
  {
   "cell_type": "code",
   "execution_count": 383,
   "metadata": {},
   "outputs": [
    {
     "data": {
      "text/plain": [
       "Text(0.5, 1.0, 'Logistic Regression')"
      ]
     },
     "execution_count": 383,
     "metadata": {},
     "output_type": "execute_result"
    },
    {
     "data": {
      "image/png": "[encoded data removed]",
      "text/plain": [
       "<Figure size 432x288 with 1 Axes>"
      ]
     },
     "metadata": {
      "needs_background": "light"
     },
     "output_type": "display_data"
    }
   ],
   "source": [
    "plt.plot(fpr,tpr,label=\"Logistic Regression\")\n",
    "plt.xlabel(\"False Positive Rate\")\n",
    "plt.ylabel(\"True Positive Rate\")\n",
    "plt.title(\"Logistic Regression\")"
   ]
  },
  {
   "cell_type": "code",
   "execution_count": 385,
   "metadata": {},
   "outputs": [
    {
     "data": {
      "text/plain": [
       "['lg1.obj']"
      ]
     },
     "execution_count": 385,
     "metadata": {},
     "output_type": "execute_result"
    }
   ],
   "source": [
    "#lets perform serialization to dump the model for further use\n",
    "joblib.dump(lg1,\"lg1.obj\")"
   ]
  },
  {
   "cell_type": "code",
   "execution_count": null,
   "metadata": {},
   "outputs": [],
   "source": []
  }
 ],
 "metadata": {
  "kernelspec": {
   "display_name": "Python 3",
   "language": "python",
   "name": "python3"
  },
  "language_info": {
   "codemirror_mode": {
    "name": "ipython",
    "version": 3
   },
   "file_extension": ".py",
   "mimetype": "text/x-python",
   "name": "python",
   "nbconvert_exporter": "python",
   "pygments_lexer": "ipython3",
   "version": "3.8.5"
  }
 },
 "nbformat": 4,
 "nbformat_minor": 4
}
