{
 "cells": [
  {
   "cell_type": "markdown",
   "metadata": {},
   "source": [
    "Web Scraping using Selenium"
   ]
  },
  {
   "cell_type": "markdown",
   "metadata": {},
   "source": [
    "Q1: Write a python program to scrape data for “Data Analyst” Job position in\n",
    "“Bangalore” location. You have to scrape the job-title, job-location, company_name,\n",
    "experience_required. You have to scrape first 10 jobs data."
   ]
  },
  {
   "cell_type": "code",
   "execution_count": 26,
   "metadata": {},
   "outputs": [],
   "source": [
    "import selenium\n",
    "import pandas as pd\n",
    "from selenium import webdriver"
   ]
  },
  {
   "cell_type": "code",
   "execution_count": 27,
   "metadata": {},
   "outputs": [],
   "source": [
    "driver1=webdriver.Chrome(\"chromedriver.exe\")"
   ]
  },
  {
   "cell_type": "code",
   "execution_count": 28,
   "metadata": {},
   "outputs": [],
   "source": [
    "url=\"https://www.naukri.com/\""
   ]
  },
  {
   "cell_type": "code",
   "execution_count": 29,
   "metadata": {},
   "outputs": [],
   "source": [
    "driver1.get(url)"
   ]
  },
  {
   "cell_type": "code",
   "execution_count": 30,
   "metadata": {},
   "outputs": [
    {
     "data": {
      "text/plain": [
       "<selenium.webdriver.remote.webelement.WebElement (session=\"3ac0f0fdedc53c58ec991c5f1858b21b\", element=\"a1fa5292-42a6-4dd0-8083-353717f7e675\")>"
      ]
     },
     "execution_count": 30,
     "metadata": {},
     "output_type": "execute_result"
    }
   ],
   "source": [
    "search_jobs1=driver1.find_element_by_id(\"qsb-keyword-sugg\")\n",
    "search_jobs1"
   ]
  },
  {
   "cell_type": "code",
   "execution_count": 31,
   "metadata": {},
   "outputs": [],
   "source": [
    "#Search Jobs with title of data analyst\n",
    "search_jobs1.send_keys(\"Data Analyst\")"
   ]
  },
  {
   "cell_type": "code",
   "execution_count": 32,
   "metadata": {},
   "outputs": [
    {
     "data": {
      "text/plain": [
       "<selenium.webdriver.remote.webelement.WebElement (session=\"3ac0f0fdedc53c58ec991c5f1858b21b\", element=\"0372e3c7-192a-4f00-b1c9-8507d4830707\")>"
      ]
     },
     "execution_count": 32,
     "metadata": {},
     "output_type": "execute_result"
    }
   ],
   "source": [
    "location1=driver1.find_element_by_id(\"qsb-location-sugg\")\n",
    "location1"
   ]
  },
  {
   "cell_type": "code",
   "execution_count": 33,
   "metadata": {},
   "outputs": [],
   "source": [
    "#Search jobs in location bangalore\n",
    "location1.send_keys(\"Bangalore\")"
   ]
  },
  {
   "cell_type": "code",
   "execution_count": 34,
   "metadata": {
    "collapsed": true
   },
   "outputs": [
    {
     "data": {
      "text/plain": [
       "<selenium.webdriver.remote.webelement.WebElement (session=\"3ac0f0fdedc53c58ec991c5f1858b21b\", element=\"bc58b5d2-1f0e-48ff-949a-a9e2598c7709\")>"
      ]
     },
     "execution_count": 34,
     "metadata": {},
     "output_type": "execute_result"
    }
   ],
   "source": [
    "#Click on search button\n",
    "search_button1=driver1.find_element_by_xpath(\"//button[@class='btn']\")\n",
    "search_button1"
   ]
  },
  {
   "cell_type": "code",
   "execution_count": 35,
   "metadata": {},
   "outputs": [],
   "source": [
    "search_button1.click()"
   ]
  },
  {
   "cell_type": "code",
   "execution_count": 37,
   "metadata": {
    "collapsed": true
   },
   "outputs": [
    {
     "data": {
      "text/plain": [
       "[<selenium.webdriver.remote.webelement.WebElement (session=\"3ac0f0fdedc53c58ec991c5f1858b21b\", element=\"f7290cd6-1c4d-45a1-8794-af33997c2e4c\")>,\n",
       " <selenium.webdriver.remote.webelement.WebElement (session=\"3ac0f0fdedc53c58ec991c5f1858b21b\", element=\"fcccc262-0218-449f-ac34-25fa63009941\")>,\n",
       " <selenium.webdriver.remote.webelement.WebElement (session=\"3ac0f0fdedc53c58ec991c5f1858b21b\", element=\"a939d543-5f90-491d-8e1c-e6eefc39308b\")>,\n",
       " <selenium.webdriver.remote.webelement.WebElement (session=\"3ac0f0fdedc53c58ec991c5f1858b21b\", element=\"700dcaa9-4145-4fb0-8326-dc09a6f18670\")>,\n",
       " <selenium.webdriver.remote.webelement.WebElement (session=\"3ac0f0fdedc53c58ec991c5f1858b21b\", element=\"0621ec0a-ef99-4807-95ef-16afbdf63fc7\")>,\n",
       " <selenium.webdriver.remote.webelement.WebElement (session=\"3ac0f0fdedc53c58ec991c5f1858b21b\", element=\"a5d2f8dd-6d65-454e-8c55-606f3765db7e\")>,\n",
       " <selenium.webdriver.remote.webelement.WebElement (session=\"3ac0f0fdedc53c58ec991c5f1858b21b\", element=\"5f3b1cc6-cc72-449d-95ed-5c23dfeee80d\")>,\n",
       " <selenium.webdriver.remote.webelement.WebElement (session=\"3ac0f0fdedc53c58ec991c5f1858b21b\", element=\"dd7cb8a7-36aa-4668-b33f-7bacf2dbcc42\")>,\n",
       " <selenium.webdriver.remote.webelement.WebElement (session=\"3ac0f0fdedc53c58ec991c5f1858b21b\", element=\"b0b7c699-5940-4a33-a4b4-72759bb20584\")>,\n",
       " <selenium.webdriver.remote.webelement.WebElement (session=\"3ac0f0fdedc53c58ec991c5f1858b21b\", element=\"79263a6a-cd6b-41d2-869e-eec0f7ddc260\")>,\n",
       " <selenium.webdriver.remote.webelement.WebElement (session=\"3ac0f0fdedc53c58ec991c5f1858b21b\", element=\"2f575b46-117a-44e1-b832-ae0335abafff\")>,\n",
       " <selenium.webdriver.remote.webelement.WebElement (session=\"3ac0f0fdedc53c58ec991c5f1858b21b\", element=\"5a30372f-e833-49ca-9252-6fa30fbd1c55\")>,\n",
       " <selenium.webdriver.remote.webelement.WebElement (session=\"3ac0f0fdedc53c58ec991c5f1858b21b\", element=\"1e98b47b-f578-440a-a031-d707e510b53d\")>,\n",
       " <selenium.webdriver.remote.webelement.WebElement (session=\"3ac0f0fdedc53c58ec991c5f1858b21b\", element=\"1b84ca68-d32d-4b29-902c-b9442666d431\")>,\n",
       " <selenium.webdriver.remote.webelement.WebElement (session=\"3ac0f0fdedc53c58ec991c5f1858b21b\", element=\"c16bd380-bd15-40ba-b712-5e86e3411f67\")>,\n",
       " <selenium.webdriver.remote.webelement.WebElement (session=\"3ac0f0fdedc53c58ec991c5f1858b21b\", element=\"40ed2103-c994-4621-97ba-f0189069e7c2\")>,\n",
       " <selenium.webdriver.remote.webelement.WebElement (session=\"3ac0f0fdedc53c58ec991c5f1858b21b\", element=\"22c9a821-10c0-470b-8359-d8081b12d529\")>,\n",
       " <selenium.webdriver.remote.webelement.WebElement (session=\"3ac0f0fdedc53c58ec991c5f1858b21b\", element=\"25e961c0-57bc-44f2-832f-acbf80f7d73f\")>,\n",
       " <selenium.webdriver.remote.webelement.WebElement (session=\"3ac0f0fdedc53c58ec991c5f1858b21b\", element=\"d96744e2-af8e-4cd6-87ff-c2e5f8de4f28\")>,\n",
       " <selenium.webdriver.remote.webelement.WebElement (session=\"3ac0f0fdedc53c58ec991c5f1858b21b\", element=\"e2021607-a719-484e-9047-bb83ae43ef31\")>]"
      ]
     },
     "execution_count": 37,
     "metadata": {},
     "output_type": "execute_result"
    }
   ],
   "source": [
    "#job title\n",
    "job1=driver1.find_elements_by_xpath(\"//a[@class='title fw500 ellipsis']\")\n",
    "job1"
   ]
  },
  {
   "cell_type": "code",
   "execution_count": 38,
   "metadata": {
    "collapsed": true
   },
   "outputs": [
    {
     "data": {
      "text/plain": [
       "['Data Analyst - Marketing',\n",
       " 'Associate Data Analyst',\n",
       " 'Business Data Analyst',\n",
       " 'Lead Data Analyst / Data Engineer',\n",
       " 'Data Analyst / Business Analyst (Demand Planning)',\n",
       " 'Senior Data Analyst',\n",
       " 'Data Analyst',\n",
       " 'Business Data Analyst',\n",
       " 'Data Analyst - I/II',\n",
       " 'Data Analyst (BI) - I/II',\n",
       " 'Openings For Data Analyst',\n",
       " 'Senior Data Analyst',\n",
       " 'Senior Data Analyst',\n",
       " 'Senior Data Analyst',\n",
       " 'Senior Data Analyst',\n",
       " 'Senior Data Analyst II',\n",
       " 'Senior Data Analyst',\n",
       " 'Data Analyst',\n",
       " 'Principal Data Analyst',\n",
       " 'Data Analyst']"
      ]
     },
     "execution_count": 38,
     "metadata": {},
     "output_type": "execute_result"
    }
   ],
   "source": [
    "#extract job titles\n",
    "job_titles1=[]\n",
    "for i in job1:\n",
    "    job_titles1.append(i.text)\n",
    "job_titles1"
   ]
  },
  {
   "cell_type": "code",
   "execution_count": 41,
   "metadata": {
    "collapsed": true
   },
   "outputs": [
    {
     "data": {
      "text/plain": [
       "[<selenium.webdriver.remote.webelement.WebElement (session=\"3ac0f0fdedc53c58ec991c5f1858b21b\", element=\"df6169c0-c7b5-4dbe-978c-8aa083f2dd72\")>,\n",
       " <selenium.webdriver.remote.webelement.WebElement (session=\"3ac0f0fdedc53c58ec991c5f1858b21b\", element=\"f9791d0b-3d2c-49b0-934e-fb7fb9df5f52\")>,\n",
       " <selenium.webdriver.remote.webelement.WebElement (session=\"3ac0f0fdedc53c58ec991c5f1858b21b\", element=\"7edd3065-24ea-4d95-9cb9-3daa3e25836e\")>,\n",
       " <selenium.webdriver.remote.webelement.WebElement (session=\"3ac0f0fdedc53c58ec991c5f1858b21b\", element=\"e75cfbfc-fed3-4fa1-a6d8-5ccb20bdb59f\")>,\n",
       " <selenium.webdriver.remote.webelement.WebElement (session=\"3ac0f0fdedc53c58ec991c5f1858b21b\", element=\"d09fef6f-5ae0-4cb1-b434-89da75c378c3\")>,\n",
       " <selenium.webdriver.remote.webelement.WebElement (session=\"3ac0f0fdedc53c58ec991c5f1858b21b\", element=\"2bb0ee9e-d897-4b64-b9a2-dc2ea5e36fc5\")>,\n",
       " <selenium.webdriver.remote.webelement.WebElement (session=\"3ac0f0fdedc53c58ec991c5f1858b21b\", element=\"06c32a49-3839-4f7e-bff4-380240d4849f\")>,\n",
       " <selenium.webdriver.remote.webelement.WebElement (session=\"3ac0f0fdedc53c58ec991c5f1858b21b\", element=\"9f49c4f3-ff30-470c-85e0-c2b9bb67a7f5\")>,\n",
       " <selenium.webdriver.remote.webelement.WebElement (session=\"3ac0f0fdedc53c58ec991c5f1858b21b\", element=\"173afec8-5d18-4112-adbf-986530d7459f\")>,\n",
       " <selenium.webdriver.remote.webelement.WebElement (session=\"3ac0f0fdedc53c58ec991c5f1858b21b\", element=\"40cc78b4-c5f7-4b0a-a887-bb62d42b471b\")>,\n",
       " <selenium.webdriver.remote.webelement.WebElement (session=\"3ac0f0fdedc53c58ec991c5f1858b21b\", element=\"42f74954-5c99-49d7-ba04-a6eb61bdc78f\")>,\n",
       " <selenium.webdriver.remote.webelement.WebElement (session=\"3ac0f0fdedc53c58ec991c5f1858b21b\", element=\"27093f13-9dcf-4bb8-a6f7-b8344a181a45\")>,\n",
       " <selenium.webdriver.remote.webelement.WebElement (session=\"3ac0f0fdedc53c58ec991c5f1858b21b\", element=\"714d71ac-06cc-4e01-b459-65fc93d5168b\")>,\n",
       " <selenium.webdriver.remote.webelement.WebElement (session=\"3ac0f0fdedc53c58ec991c5f1858b21b\", element=\"7ec53658-9bb8-4beb-a138-62e9295a95e6\")>,\n",
       " <selenium.webdriver.remote.webelement.WebElement (session=\"3ac0f0fdedc53c58ec991c5f1858b21b\", element=\"8a939bcb-5914-4e81-bf18-5da066ff91b6\")>,\n",
       " <selenium.webdriver.remote.webelement.WebElement (session=\"3ac0f0fdedc53c58ec991c5f1858b21b\", element=\"9c748bc3-8019-4d6b-a8cb-2aa45470748b\")>,\n",
       " <selenium.webdriver.remote.webelement.WebElement (session=\"3ac0f0fdedc53c58ec991c5f1858b21b\", element=\"82c5a68e-1ea2-4889-bed3-b2e07d9d1f32\")>,\n",
       " <selenium.webdriver.remote.webelement.WebElement (session=\"3ac0f0fdedc53c58ec991c5f1858b21b\", element=\"4c75056a-013b-4201-b8a1-bef1573e3c23\")>,\n",
       " <selenium.webdriver.remote.webelement.WebElement (session=\"3ac0f0fdedc53c58ec991c5f1858b21b\", element=\"0b5ffd95-9199-4148-89bc-6f9e8340a86b\")>,\n",
       " <selenium.webdriver.remote.webelement.WebElement (session=\"3ac0f0fdedc53c58ec991c5f1858b21b\", element=\"2a5961e2-a74f-448a-ab20-bd6a228b0441\")>,\n",
       " <selenium.webdriver.remote.webelement.WebElement (session=\"3ac0f0fdedc53c58ec991c5f1858b21b\", element=\"f1784e9a-4002-4356-aff4-f025087e03ac\")>]"
      ]
     },
     "execution_count": 41,
     "metadata": {},
     "output_type": "execute_result"
    }
   ],
   "source": [
    "#job_location\n",
    "location1=driver1.find_elements_by_xpath(\"//li[@class='fleft grey-text br2 placeHolderLi location']/span\")\n",
    "location1"
   ]
  },
  {
   "cell_type": "code",
   "execution_count": 44,
   "metadata": {
    "collapsed": true
   },
   "outputs": [
    {
     "data": {
      "text/plain": [
       "['Bangalore/Bengaluru',\n",
       " 'Bangalore/Bengaluru',\n",
       " 'Bangalore/Bengaluru',\n",
       " 'Bangalore/Bengaluru',\n",
       " 'Bangalore/Bengaluru',\n",
       " 'Bangalore/Bengaluru',\n",
       " 'Bangalore/Bengaluru',\n",
       " 'Bangalore/Bengaluru',\n",
       " 'Bangalore/Bengaluru',\n",
       " 'Bangalore/Bengaluru',\n",
       " 'Bangalore/Bengaluru',\n",
       " 'Bangalore/Bengaluru',\n",
       " 'Bangalore/Bengaluru',\n",
       " 'Bangalore/Bengaluru',\n",
       " 'Bangalore/Bengaluru',\n",
       " 'Bangalore/Bengaluru',\n",
       " 'Bangalore/Bengaluru',\n",
       " 'Bangalore/Bengaluru',\n",
       " 'Bangalore/Bengaluru',\n",
       " 'Bangalore/Bengaluru',\n",
       " '(WFH during Covid)']"
      ]
     },
     "execution_count": 44,
     "metadata": {},
     "output_type": "execute_result"
    }
   ],
   "source": [
    "#extract job_location\n",
    "job_location1=[]\n",
    "for i in location1:\n",
    "    job_location1.append(i.text)\n",
    "job_location1"
   ]
  },
  {
   "cell_type": "code",
   "execution_count": 46,
   "metadata": {
    "collapsed": true
   },
   "outputs": [
    {
     "data": {
      "text/plain": [
       "[<selenium.webdriver.remote.webelement.WebElement (session=\"3ac0f0fdedc53c58ec991c5f1858b21b\", element=\"5b0f79ae-b616-47c6-81c6-699674cf5821\")>,\n",
       " <selenium.webdriver.remote.webelement.WebElement (session=\"3ac0f0fdedc53c58ec991c5f1858b21b\", element=\"df24b28d-da05-43a2-9d28-55cc31b6b5dd\")>,\n",
       " <selenium.webdriver.remote.webelement.WebElement (session=\"3ac0f0fdedc53c58ec991c5f1858b21b\", element=\"0ad13991-d25a-41e4-aa30-fd7b7e4f6bc0\")>,\n",
       " <selenium.webdriver.remote.webelement.WebElement (session=\"3ac0f0fdedc53c58ec991c5f1858b21b\", element=\"088e7b86-c7e2-4aae-8926-e40ed074ee25\")>,\n",
       " <selenium.webdriver.remote.webelement.WebElement (session=\"3ac0f0fdedc53c58ec991c5f1858b21b\", element=\"979bdb5e-3880-4cb4-86e2-1ba94ee185e0\")>,\n",
       " <selenium.webdriver.remote.webelement.WebElement (session=\"3ac0f0fdedc53c58ec991c5f1858b21b\", element=\"46f6f659-234c-439c-882c-2d3421ffb4e7\")>,\n",
       " <selenium.webdriver.remote.webelement.WebElement (session=\"3ac0f0fdedc53c58ec991c5f1858b21b\", element=\"b14e1e1b-84ca-404d-9f49-4579b5c53aea\")>,\n",
       " <selenium.webdriver.remote.webelement.WebElement (session=\"3ac0f0fdedc53c58ec991c5f1858b21b\", element=\"66a2e68d-66f1-41aa-9d84-3a6f7bf852f5\")>,\n",
       " <selenium.webdriver.remote.webelement.WebElement (session=\"3ac0f0fdedc53c58ec991c5f1858b21b\", element=\"b4e72600-1f55-4f5a-a253-879cd00aee2f\")>,\n",
       " <selenium.webdriver.remote.webelement.WebElement (session=\"3ac0f0fdedc53c58ec991c5f1858b21b\", element=\"9e5b94cb-2ffa-4158-a271-fac951d10f75\")>,\n",
       " <selenium.webdriver.remote.webelement.WebElement (session=\"3ac0f0fdedc53c58ec991c5f1858b21b\", element=\"492eab7f-bcc4-4a7c-8f5d-f97985b55ad2\")>,\n",
       " <selenium.webdriver.remote.webelement.WebElement (session=\"3ac0f0fdedc53c58ec991c5f1858b21b\", element=\"c4760a0b-ec27-4b62-a2e0-68a02a383b2c\")>,\n",
       " <selenium.webdriver.remote.webelement.WebElement (session=\"3ac0f0fdedc53c58ec991c5f1858b21b\", element=\"61b45350-0858-4563-be57-8cdea98ccb44\")>,\n",
       " <selenium.webdriver.remote.webelement.WebElement (session=\"3ac0f0fdedc53c58ec991c5f1858b21b\", element=\"5ee8c3a0-0ddc-494d-9ec0-b9f5b1021290\")>,\n",
       " <selenium.webdriver.remote.webelement.WebElement (session=\"3ac0f0fdedc53c58ec991c5f1858b21b\", element=\"bdec9a7f-b319-4977-9b78-ce0690690ee2\")>,\n",
       " <selenium.webdriver.remote.webelement.WebElement (session=\"3ac0f0fdedc53c58ec991c5f1858b21b\", element=\"ac2208d1-9cdb-49c3-a64e-d1c9de3a83c7\")>,\n",
       " <selenium.webdriver.remote.webelement.WebElement (session=\"3ac0f0fdedc53c58ec991c5f1858b21b\", element=\"136cc8aa-a2d3-4f87-822d-7a813ef4468b\")>,\n",
       " <selenium.webdriver.remote.webelement.WebElement (session=\"3ac0f0fdedc53c58ec991c5f1858b21b\", element=\"a6857025-1c75-4113-b583-ea45e5c56674\")>,\n",
       " <selenium.webdriver.remote.webelement.WebElement (session=\"3ac0f0fdedc53c58ec991c5f1858b21b\", element=\"9b387063-667d-4728-a8ec-73ca45516ba7\")>,\n",
       " <selenium.webdriver.remote.webelement.WebElement (session=\"3ac0f0fdedc53c58ec991c5f1858b21b\", element=\"e84b9d3c-6f2d-4744-aef3-72262b5b2eaa\")>]"
      ]
     },
     "execution_count": 46,
     "metadata": {},
     "output_type": "execute_result"
    }
   ],
   "source": [
    "#company name\n",
    "name1=driver1.find_elements_by_xpath(\"//a[@class='subTitle ellipsis fleft']\")\n",
    "name1"
   ]
  },
  {
   "cell_type": "code",
   "execution_count": 49,
   "metadata": {
    "collapsed": true
   },
   "outputs": [
    {
     "data": {
      "text/plain": [
       "['Byjus - Transforming Education using Technology',\n",
       " 'Integrated Digital Systems',\n",
       " 'INDIAVIDUAL LEARNING LIMITED',\n",
       " 'Huawei Technologies',\n",
       " 'Flipkart',\n",
       " 'Scienaptic Systems',\n",
       " 'Applied Materials',\n",
       " 'RANDSTAD INDIA PVT LTD',\n",
       " 'Philips India Limited',\n",
       " 'Philips India Limited',\n",
       " 'Allegis Services India Pvt. Ltd.',\n",
       " 'Flipkart Internet Private Limited',\n",
       " 'Flipkart Internet Private Limited',\n",
       " 'Flipkart Internet Private Limited',\n",
       " 'Flipkart Internet Private Limited',\n",
       " 'Flipkart',\n",
       " 'Flipkart',\n",
       " 'Amazon Development Centre (India) Pvt. Ltd.',\n",
       " 'Cimpress India Private Limited',\n",
       " 'ENCORA INNOVATION LABS INDIA PRIVATE LIMITED']"
      ]
     },
     "execution_count": 49,
     "metadata": {},
     "output_type": "execute_result"
    }
   ],
   "source": [
    "#extract company names\n",
    "company_name1=[]\n",
    "for i in name1:\n",
    "    company_name1.append(i.text)\n",
    "company_name1"
   ]
  },
  {
   "cell_type": "code",
   "execution_count": 53,
   "metadata": {
    "collapsed": true
   },
   "outputs": [
    {
     "data": {
      "text/plain": [
       "[<selenium.webdriver.remote.webelement.WebElement (session=\"3ac0f0fdedc53c58ec991c5f1858b21b\", element=\"8541577d-b1f5-479d-b5bd-cf9abfd23cb0\")>,\n",
       " <selenium.webdriver.remote.webelement.WebElement (session=\"3ac0f0fdedc53c58ec991c5f1858b21b\", element=\"832891cd-321f-414c-862e-f9c763a798e7\")>,\n",
       " <selenium.webdriver.remote.webelement.WebElement (session=\"3ac0f0fdedc53c58ec991c5f1858b21b\", element=\"00980cdc-1387-4603-b726-e4035cbc5a29\")>,\n",
       " <selenium.webdriver.remote.webelement.WebElement (session=\"3ac0f0fdedc53c58ec991c5f1858b21b\", element=\"9803f71d-d38b-4eb6-8e40-9e419fed282f\")>,\n",
       " <selenium.webdriver.remote.webelement.WebElement (session=\"3ac0f0fdedc53c58ec991c5f1858b21b\", element=\"99fa60e3-55e5-4f42-a498-117c4a8e1bfb\")>,\n",
       " <selenium.webdriver.remote.webelement.WebElement (session=\"3ac0f0fdedc53c58ec991c5f1858b21b\", element=\"95a3e658-4c4c-4352-9724-314a691b812b\")>,\n",
       " <selenium.webdriver.remote.webelement.WebElement (session=\"3ac0f0fdedc53c58ec991c5f1858b21b\", element=\"75c80ada-da30-41f5-8dbf-ff7cba475c8f\")>,\n",
       " <selenium.webdriver.remote.webelement.WebElement (session=\"3ac0f0fdedc53c58ec991c5f1858b21b\", element=\"229679ed-ffde-4f67-b77f-5c8ebe76c658\")>,\n",
       " <selenium.webdriver.remote.webelement.WebElement (session=\"3ac0f0fdedc53c58ec991c5f1858b21b\", element=\"934991c9-50ef-4eac-8dea-96695c39bbae\")>,\n",
       " <selenium.webdriver.remote.webelement.WebElement (session=\"3ac0f0fdedc53c58ec991c5f1858b21b\", element=\"e259839a-b9b2-430d-b93f-e19ac556ee8f\")>,\n",
       " <selenium.webdriver.remote.webelement.WebElement (session=\"3ac0f0fdedc53c58ec991c5f1858b21b\", element=\"5ebf9cbb-c169-4ae1-8b50-eb1f6e6ec1bb\")>,\n",
       " <selenium.webdriver.remote.webelement.WebElement (session=\"3ac0f0fdedc53c58ec991c5f1858b21b\", element=\"fa893f8c-1f2b-4a9d-aace-aaedfdbedfc9\")>,\n",
       " <selenium.webdriver.remote.webelement.WebElement (session=\"3ac0f0fdedc53c58ec991c5f1858b21b\", element=\"359ea802-584e-4b63-af92-519783f1e5e3\")>,\n",
       " <selenium.webdriver.remote.webelement.WebElement (session=\"3ac0f0fdedc53c58ec991c5f1858b21b\", element=\"dd6e2c18-ce86-464c-a214-de1ae3befecb\")>,\n",
       " <selenium.webdriver.remote.webelement.WebElement (session=\"3ac0f0fdedc53c58ec991c5f1858b21b\", element=\"4decb7f2-ff6a-4482-b9bc-1c6956acf7ce\")>,\n",
       " <selenium.webdriver.remote.webelement.WebElement (session=\"3ac0f0fdedc53c58ec991c5f1858b21b\", element=\"6e423bb9-801c-41f3-a078-96f5267cb5cc\")>,\n",
       " <selenium.webdriver.remote.webelement.WebElement (session=\"3ac0f0fdedc53c58ec991c5f1858b21b\", element=\"766af010-a81f-4e78-a584-d3eb08f028b7\")>,\n",
       " <selenium.webdriver.remote.webelement.WebElement (session=\"3ac0f0fdedc53c58ec991c5f1858b21b\", element=\"1f57c59f-afce-46b0-9670-0411981c8a52\")>,\n",
       " <selenium.webdriver.remote.webelement.WebElement (session=\"3ac0f0fdedc53c58ec991c5f1858b21b\", element=\"96ba3054-bce3-463d-b3e8-012feed0d380\")>,\n",
       " <selenium.webdriver.remote.webelement.WebElement (session=\"3ac0f0fdedc53c58ec991c5f1858b21b\", element=\"4ffd67b4-1a85-4bbd-8e72-ac7c8abd6db7\")>]"
      ]
     },
     "execution_count": 53,
     "metadata": {},
     "output_type": "execute_result"
    }
   ],
   "source": [
    "#expereince\n",
    "exp1=driver1.find_elements_by_xpath(\"//li[@class='fleft grey-text br2 placeHolderLi experience']/span\")\n",
    "exp1"
   ]
  },
  {
   "cell_type": "code",
   "execution_count": 57,
   "metadata": {
    "collapsed": true
   },
   "outputs": [
    {
     "data": {
      "text/plain": [
       "['0-2 Yrs',\n",
       " '0-2 Yrs',\n",
       " '2-6 Yrs',\n",
       " '5-10 Yrs',\n",
       " '1-4 Yrs',\n",
       " '5-10 Yrs',\n",
       " '0-3 Yrs',\n",
       " '8-12 Yrs',\n",
       " '3-6 Yrs',\n",
       " '3-6 Yrs',\n",
       " '0-3 Yrs',\n",
       " '2-5 Yrs',\n",
       " '3-7 Yrs',\n",
       " '3-7 Yrs',\n",
       " '3-7 Yrs',\n",
       " '2-4 Yrs',\n",
       " '3-7 Yrs',\n",
       " '2-4 Yrs',\n",
       " '10-16 Yrs',\n",
       " '2-7 Yrs']"
      ]
     },
     "execution_count": 57,
     "metadata": {},
     "output_type": "execute_result"
    }
   ],
   "source": [
    "# extract experience required\n",
    "experience_required1=[]\n",
    "for i in exp1:\n",
    "    experience_required1.append(i.text)\n",
    "experience_required1"
   ]
  },
  {
   "cell_type": "code",
   "execution_count": 61,
   "metadata": {},
   "outputs": [
    {
     "name": "stdout",
     "output_type": "stream",
     "text": [
      "11 13 13 20\n"
     ]
    }
   ],
   "source": [
    "print(len(\"job_titles1\"),len(\"job_location1\"),len(\"company_name1\"),len(\"expereince_required1\"))"
   ]
  },
  {
   "cell_type": "code",
   "execution_count": 66,
   "metadata": {},
   "outputs": [
    {
     "data": {
      "text/html": [
       "<div>\n",
       "<style scoped>\n",
       "    .dataframe tbody tr th:only-of-type {\n",
       "        vertical-align: middle;\n",
       "    }\n",
       "\n",
       "    .dataframe tbody tr th {\n",
       "        vertical-align: top;\n",
       "    }\n",
       "\n",
       "    .dataframe thead th {\n",
       "        text-align: right;\n",
       "    }\n",
       "</style>\n",
       "<table border=\"1\" class=\"dataframe\">\n",
       "  <thead>\n",
       "    <tr style=\"text-align: right;\">\n",
       "      <th></th>\n",
       "      <th>job_titles1</th>\n",
       "      <th>job_location1</th>\n",
       "      <th>company_name1</th>\n",
       "      <th>experience_required1</th>\n",
       "    </tr>\n",
       "    <tr>\n",
       "      <th>Sr.No</th>\n",
       "      <th></th>\n",
       "      <th></th>\n",
       "      <th></th>\n",
       "      <th></th>\n",
       "    </tr>\n",
       "  </thead>\n",
       "  <tbody>\n",
       "    <tr>\n",
       "      <th>0</th>\n",
       "      <td>Data Analyst - Marketing</td>\n",
       "      <td>Bangalore/Bengaluru</td>\n",
       "      <td>Byjus - Transforming Education using Technology</td>\n",
       "      <td>0-2 Yrs</td>\n",
       "    </tr>\n",
       "    <tr>\n",
       "      <th>1</th>\n",
       "      <td>Associate Data Analyst</td>\n",
       "      <td>Bangalore/Bengaluru</td>\n",
       "      <td>Integrated Digital Systems</td>\n",
       "      <td>0-2 Yrs</td>\n",
       "    </tr>\n",
       "    <tr>\n",
       "      <th>2</th>\n",
       "      <td>Business Data Analyst</td>\n",
       "      <td>Bangalore/Bengaluru</td>\n",
       "      <td>INDIAVIDUAL LEARNING LIMITED</td>\n",
       "      <td>2-6 Yrs</td>\n",
       "    </tr>\n",
       "    <tr>\n",
       "      <th>3</th>\n",
       "      <td>Lead Data Analyst / Data Engineer</td>\n",
       "      <td>Bangalore/Bengaluru</td>\n",
       "      <td>Huawei Technologies</td>\n",
       "      <td>5-10 Yrs</td>\n",
       "    </tr>\n",
       "    <tr>\n",
       "      <th>4</th>\n",
       "      <td>Data Analyst / Business Analyst (Demand Planning)</td>\n",
       "      <td>Bangalore/Bengaluru</td>\n",
       "      <td>Flipkart</td>\n",
       "      <td>1-4 Yrs</td>\n",
       "    </tr>\n",
       "    <tr>\n",
       "      <th>5</th>\n",
       "      <td>Senior Data Analyst</td>\n",
       "      <td>Bangalore/Bengaluru</td>\n",
       "      <td>Scienaptic Systems</td>\n",
       "      <td>5-10 Yrs</td>\n",
       "    </tr>\n",
       "    <tr>\n",
       "      <th>6</th>\n",
       "      <td>Data Analyst</td>\n",
       "      <td>Bangalore/Bengaluru</td>\n",
       "      <td>Applied Materials</td>\n",
       "      <td>0-3 Yrs</td>\n",
       "    </tr>\n",
       "    <tr>\n",
       "      <th>7</th>\n",
       "      <td>Business Data Analyst</td>\n",
       "      <td>Bangalore/Bengaluru</td>\n",
       "      <td>RANDSTAD INDIA PVT LTD</td>\n",
       "      <td>8-12 Yrs</td>\n",
       "    </tr>\n",
       "    <tr>\n",
       "      <th>8</th>\n",
       "      <td>Data Analyst - I/II</td>\n",
       "      <td>Bangalore/Bengaluru</td>\n",
       "      <td>Philips India Limited</td>\n",
       "      <td>3-6 Yrs</td>\n",
       "    </tr>\n",
       "    <tr>\n",
       "      <th>9</th>\n",
       "      <td>Data Analyst (BI) - I/II</td>\n",
       "      <td>Bangalore/Bengaluru</td>\n",
       "      <td>Philips India Limited</td>\n",
       "      <td>3-6 Yrs</td>\n",
       "    </tr>\n",
       "  </tbody>\n",
       "</table>\n",
       "</div>"
      ],
      "text/plain": [
       "                                             job_titles1        job_location1  \\\n",
       "Sr.No                                                                           \n",
       "0                               Data Analyst - Marketing  Bangalore/Bengaluru   \n",
       "1                                 Associate Data Analyst  Bangalore/Bengaluru   \n",
       "2                                  Business Data Analyst  Bangalore/Bengaluru   \n",
       "3                      Lead Data Analyst / Data Engineer  Bangalore/Bengaluru   \n",
       "4      Data Analyst / Business Analyst (Demand Planning)  Bangalore/Bengaluru   \n",
       "5                                    Senior Data Analyst  Bangalore/Bengaluru   \n",
       "6                                           Data Analyst  Bangalore/Bengaluru   \n",
       "7                                  Business Data Analyst  Bangalore/Bengaluru   \n",
       "8                                    Data Analyst - I/II  Bangalore/Bengaluru   \n",
       "9                               Data Analyst (BI) - I/II  Bangalore/Bengaluru   \n",
       "\n",
       "                                         company_name1 experience_required1  \n",
       "Sr.No                                                                        \n",
       "0      Byjus - Transforming Education using Technology              0-2 Yrs  \n",
       "1                           Integrated Digital Systems              0-2 Yrs  \n",
       "2                         INDIAVIDUAL LEARNING LIMITED              2-6 Yrs  \n",
       "3                                  Huawei Technologies             5-10 Yrs  \n",
       "4                                             Flipkart              1-4 Yrs  \n",
       "5                                   Scienaptic Systems             5-10 Yrs  \n",
       "6                                    Applied Materials              0-3 Yrs  \n",
       "7                               RANDSTAD INDIA PVT LTD             8-12 Yrs  \n",
       "8                                Philips India Limited              3-6 Yrs  \n",
       "9                                Philips India Limited              3-6 Yrs  "
      ]
     },
     "execution_count": 66,
     "metadata": {},
     "output_type": "execute_result"
    }
   ],
   "source": [
    "Job_details1=pd.DataFrame({})\n",
    "Job_details1[\"job_titles1\"]=job_titles1[0:10]\n",
    "Job_details1[\"job_location1\"]=job_location1[0:10]\n",
    "Job_details1[\"company_name1\"]=company_name1[0:10]\n",
    "Job_details1[\"experience_required1\"]=experience_required1[0:10]\n",
    "Job_details1.index.set_names(\"Sr.No\",inplace=True)\n",
    "Job_details1"
   ]
  },
  {
   "cell_type": "markdown",
   "metadata": {},
   "source": [
    "Q2: Write a python program to scrape data for “Data Scientist” Job position in\n",
    "“Bangalore” location. You have to scrape the job-title, job-location,\n",
    "company_name, full job-description. You have to scrape first 10 jobs data.\n",
    "This task will be done in following steps:\n"
   ]
  },
  {
   "cell_type": "code",
   "execution_count": 180,
   "metadata": {},
   "outputs": [],
   "source": [
    "import selenium\n",
    "import pandas as pd\n",
    "from selenium import webdriver\n",
    "from selenium.common.exceptions import NoSuchElementException"
   ]
  },
  {
   "cell_type": "code",
   "execution_count": 181,
   "metadata": {},
   "outputs": [],
   "source": [
    "driver2=webdriver.Chrome(\"chromedriver.exe\")"
   ]
  },
  {
   "cell_type": "code",
   "execution_count": 182,
   "metadata": {},
   "outputs": [],
   "source": [
    "url=\"https://www.naukri.com/\""
   ]
  },
  {
   "cell_type": "code",
   "execution_count": 183,
   "metadata": {},
   "outputs": [],
   "source": [
    "driver2.get(url)"
   ]
  },
  {
   "cell_type": "code",
   "execution_count": 184,
   "metadata": {},
   "outputs": [
    {
     "data": {
      "text/plain": [
       "<selenium.webdriver.remote.webelement.WebElement (session=\"bba8238b90f211507aec1ec2ef10a134\", element=\"4cfbd089-8792-49ed-b03e-0b7cf87cfd31\")>"
      ]
     },
     "execution_count": 184,
     "metadata": {},
     "output_type": "execute_result"
    }
   ],
   "source": [
    "#Search Jobs with title of data scientist\n",
    "search_jobs2=driver2.find_element_by_id(\"qsb-keyword-sugg\")\n",
    "search_jobs2"
   ]
  },
  {
   "cell_type": "code",
   "execution_count": 185,
   "metadata": {},
   "outputs": [],
   "source": [
    "search_jobs2.send_keys(\"Data Scientist\")"
   ]
  },
  {
   "cell_type": "code",
   "execution_count": 186,
   "metadata": {},
   "outputs": [
    {
     "data": {
      "text/plain": [
       "<selenium.webdriver.remote.webelement.WebElement (session=\"bba8238b90f211507aec1ec2ef10a134\", element=\"2ba955a3-535b-4706-8ce9-e54f719449cb\")>"
      ]
     },
     "execution_count": 186,
     "metadata": {},
     "output_type": "execute_result"
    }
   ],
   "source": [
    "#Search Jobs with location\n",
    "location2=driver2.find_element_by_id(\"qsb-location-sugg\")\n",
    "location2"
   ]
  },
  {
   "cell_type": "code",
   "execution_count": 187,
   "metadata": {},
   "outputs": [
    {
     "data": {
      "text/plain": [
       "<selenium.webdriver.remote.webelement.WebElement (session=\"bba8238b90f211507aec1ec2ef10a134\", element=\"2ba955a3-535b-4706-8ce9-e54f719449cb\")>"
      ]
     },
     "execution_count": 187,
     "metadata": {},
     "output_type": "execute_result"
    }
   ],
   "source": [
    "location2.send_keys(\"Bangalore\")\n",
    "location2"
   ]
  },
  {
   "cell_type": "code",
   "execution_count": 188,
   "metadata": {},
   "outputs": [
    {
     "data": {
      "text/plain": [
       "<selenium.webdriver.remote.webelement.WebElement (session=\"bba8238b90f211507aec1ec2ef10a134\", element=\"ad673315-6de5-4a5e-9c86-42e209325875\")>"
      ]
     },
     "execution_count": 188,
     "metadata": {},
     "output_type": "execute_result"
    }
   ],
   "source": [
    "#click on search button\n",
    "search_button2=driver2.find_element_by_xpath(\"//button[@class='btn']\")\n",
    "search_button2"
   ]
  },
  {
   "cell_type": "code",
   "execution_count": 189,
   "metadata": {},
   "outputs": [],
   "source": [
    "search_button2.click()"
   ]
  },
  {
   "cell_type": "code",
   "execution_count": 197,
   "metadata": {
    "collapsed": true
   },
   "outputs": [
    {
     "data": {
      "text/plain": [
       "[<selenium.webdriver.remote.webelement.WebElement (session=\"bba8238b90f211507aec1ec2ef10a134\", element=\"31b66687-4779-4d27-8c7f-07efaa697b1a\")>,\n",
       " <selenium.webdriver.remote.webelement.WebElement (session=\"bba8238b90f211507aec1ec2ef10a134\", element=\"3d4891ff-f944-4af5-93df-112d9bfa60e6\")>,\n",
       " <selenium.webdriver.remote.webelement.WebElement (session=\"bba8238b90f211507aec1ec2ef10a134\", element=\"b40069a5-58ec-4a18-ae52-900d865db1d4\")>,\n",
       " <selenium.webdriver.remote.webelement.WebElement (session=\"bba8238b90f211507aec1ec2ef10a134\", element=\"14d5cff8-1c0f-4ebc-a9b0-d749eabaa93b\")>,\n",
       " <selenium.webdriver.remote.webelement.WebElement (session=\"bba8238b90f211507aec1ec2ef10a134\", element=\"680dbd3f-5b6d-4c46-9461-4ed0b19efa63\")>,\n",
       " <selenium.webdriver.remote.webelement.WebElement (session=\"bba8238b90f211507aec1ec2ef10a134\", element=\"273899df-3af5-46ea-ab79-8bb6fc992642\")>,\n",
       " <selenium.webdriver.remote.webelement.WebElement (session=\"bba8238b90f211507aec1ec2ef10a134\", element=\"62736ae1-98a5-46a6-9fec-a42a725a7d23\")>,\n",
       " <selenium.webdriver.remote.webelement.WebElement (session=\"bba8238b90f211507aec1ec2ef10a134\", element=\"9c2f881d-072f-4d58-aea4-c94ba8f88750\")>,\n",
       " <selenium.webdriver.remote.webelement.WebElement (session=\"bba8238b90f211507aec1ec2ef10a134\", element=\"42a6101f-177a-4be6-b659-5552cc56776c\")>,\n",
       " <selenium.webdriver.remote.webelement.WebElement (session=\"bba8238b90f211507aec1ec2ef10a134\", element=\"f933daeb-a2c8-477a-901f-080d6cbfce45\")>,\n",
       " <selenium.webdriver.remote.webelement.WebElement (session=\"bba8238b90f211507aec1ec2ef10a134\", element=\"15c41b16-e364-4a28-9938-6c019ff0f910\")>,\n",
       " <selenium.webdriver.remote.webelement.WebElement (session=\"bba8238b90f211507aec1ec2ef10a134\", element=\"ae594146-0acc-470d-b377-09d0d71417d3\")>,\n",
       " <selenium.webdriver.remote.webelement.WebElement (session=\"bba8238b90f211507aec1ec2ef10a134\", element=\"52e28ad4-bc1a-4e48-bfc2-d1a6f3144037\")>,\n",
       " <selenium.webdriver.remote.webelement.WebElement (session=\"bba8238b90f211507aec1ec2ef10a134\", element=\"9682af42-d515-4a91-9b5e-9e74599b3b7e\")>,\n",
       " <selenium.webdriver.remote.webelement.WebElement (session=\"bba8238b90f211507aec1ec2ef10a134\", element=\"3b5a11ca-a72c-458a-9aea-00cfb4e7a607\")>,\n",
       " <selenium.webdriver.remote.webelement.WebElement (session=\"bba8238b90f211507aec1ec2ef10a134\", element=\"a168055b-72d5-40fb-bef9-da2eb2aa3053\")>,\n",
       " <selenium.webdriver.remote.webelement.WebElement (session=\"bba8238b90f211507aec1ec2ef10a134\", element=\"11fd7b9e-f85e-4e84-96d2-0b79dd392ec8\")>,\n",
       " <selenium.webdriver.remote.webelement.WebElement (session=\"bba8238b90f211507aec1ec2ef10a134\", element=\"5dad115f-61f3-4f0c-9f29-049c8206a4fe\")>,\n",
       " <selenium.webdriver.remote.webelement.WebElement (session=\"bba8238b90f211507aec1ec2ef10a134\", element=\"4469f85b-7abb-43a1-9bf1-0eb2f33ff407\")>,\n",
       " <selenium.webdriver.remote.webelement.WebElement (session=\"bba8238b90f211507aec1ec2ef10a134\", element=\"e7aa3e88-ad04-4c4d-9a67-8ae4fcd1dd41\")>]"
      ]
     },
     "execution_count": 197,
     "metadata": {},
     "output_type": "execute_result"
    }
   ],
   "source": [
    "#job titles\n",
    "job2=driver2.find_elements_by_xpath(\"//a[@class='title fw500 ellipsis']\")\n",
    "job2"
   ]
  },
  {
   "cell_type": "code",
   "execution_count": 199,
   "metadata": {
    "collapsed": true
   },
   "outputs": [
    {
     "data": {
      "text/plain": [
       "['Lead Data Scientist',\n",
       " 'Data Scientist / AI / ML Engineer',\n",
       " 'Senior Data Scientist',\n",
       " 'Senior Data Scientist',\n",
       " 'Senior Data Scientist',\n",
       " 'Senior Data Scientist, NLP',\n",
       " 'Data Scientist/Senior Data Scientist - IT Services Firm',\n",
       " 'Data Scientist',\n",
       " 'Data Scientist',\n",
       " 'Data Scientist',\n",
       " 'Data Scientist - AI Flagship',\n",
       " 'Data Scientist',\n",
       " 'Senior/Lead Data Scientist',\n",
       " 'Data Scientist',\n",
       " 'Data Scientist',\n",
       " 'Lead Data Scientist',\n",
       " 'Data Scientist - HDFS/SQL',\n",
       " 'Sr. Data Scientist',\n",
       " 'Senior Data Scientist',\n",
       " 'Data Scientist']"
      ]
     },
     "execution_count": 199,
     "metadata": {},
     "output_type": "execute_result"
    }
   ],
   "source": [
    "#extract job_titles\n",
    "job_titles2=[]\n",
    "for i in job2:\n",
    "    job_titles2.append(i.text)\n",
    "job_titles2"
   ]
  },
  {
   "cell_type": "code",
   "execution_count": 200,
   "metadata": {
    "collapsed": true
   },
   "outputs": [
    {
     "data": {
      "text/plain": [
       "[<selenium.webdriver.remote.webelement.WebElement (session=\"bba8238b90f211507aec1ec2ef10a134\", element=\"0799e72e-a5a0-4db7-a632-97256138a79b\")>,\n",
       " <selenium.webdriver.remote.webelement.WebElement (session=\"bba8238b90f211507aec1ec2ef10a134\", element=\"dafb7c25-55ae-43ae-82a1-f5729b898e9c\")>,\n",
       " <selenium.webdriver.remote.webelement.WebElement (session=\"bba8238b90f211507aec1ec2ef10a134\", element=\"769dc951-0822-42ef-bb38-6860b2a4562f\")>,\n",
       " <selenium.webdriver.remote.webelement.WebElement (session=\"bba8238b90f211507aec1ec2ef10a134\", element=\"b9cb3e31-bd32-4c4a-bed6-e39944da4940\")>,\n",
       " <selenium.webdriver.remote.webelement.WebElement (session=\"bba8238b90f211507aec1ec2ef10a134\", element=\"2dd91aee-eb3d-4a4e-8d9d-7ad6247994ef\")>,\n",
       " <selenium.webdriver.remote.webelement.WebElement (session=\"bba8238b90f211507aec1ec2ef10a134\", element=\"45675e7e-66b2-4f65-83a9-161c3a1f137a\")>,\n",
       " <selenium.webdriver.remote.webelement.WebElement (session=\"bba8238b90f211507aec1ec2ef10a134\", element=\"dc73a8b9-9ae4-46b1-942d-6ffb7d3cdf7e\")>,\n",
       " <selenium.webdriver.remote.webelement.WebElement (session=\"bba8238b90f211507aec1ec2ef10a134\", element=\"3d4d47a7-147b-41fb-9f47-00bf30b8fcde\")>,\n",
       " <selenium.webdriver.remote.webelement.WebElement (session=\"bba8238b90f211507aec1ec2ef10a134\", element=\"68c4c1d3-0e3d-450c-8283-e33deba7abaa\")>,\n",
       " <selenium.webdriver.remote.webelement.WebElement (session=\"bba8238b90f211507aec1ec2ef10a134\", element=\"642740e5-bff4-4ee4-b59d-9404533e3b0d\")>,\n",
       " <selenium.webdriver.remote.webelement.WebElement (session=\"bba8238b90f211507aec1ec2ef10a134\", element=\"5d112234-bdc5-4c80-8711-c6e48f0f7495\")>,\n",
       " <selenium.webdriver.remote.webelement.WebElement (session=\"bba8238b90f211507aec1ec2ef10a134\", element=\"1f892804-d212-480b-b135-e985a3796c95\")>,\n",
       " <selenium.webdriver.remote.webelement.WebElement (session=\"bba8238b90f211507aec1ec2ef10a134\", element=\"bec28e11-7cc5-4079-baa9-e9833a113886\")>,\n",
       " <selenium.webdriver.remote.webelement.WebElement (session=\"bba8238b90f211507aec1ec2ef10a134\", element=\"db8823bc-afc8-4681-b7db-5dc76b0f7ca6\")>,\n",
       " <selenium.webdriver.remote.webelement.WebElement (session=\"bba8238b90f211507aec1ec2ef10a134\", element=\"9a538617-3548-472c-aacb-ee0313dee682\")>,\n",
       " <selenium.webdriver.remote.webelement.WebElement (session=\"bba8238b90f211507aec1ec2ef10a134\", element=\"4a85e2d7-e948-457e-bb56-00f93465e15d\")>,\n",
       " <selenium.webdriver.remote.webelement.WebElement (session=\"bba8238b90f211507aec1ec2ef10a134\", element=\"d3265ef7-aa91-4085-96e0-59880644bf12\")>,\n",
       " <selenium.webdriver.remote.webelement.WebElement (session=\"bba8238b90f211507aec1ec2ef10a134\", element=\"592f87cd-4f9e-4db6-b335-735f301ba6d0\")>,\n",
       " <selenium.webdriver.remote.webelement.WebElement (session=\"bba8238b90f211507aec1ec2ef10a134\", element=\"9a3ea755-1949-4edb-ae0a-0f6509b64ef2\")>,\n",
       " <selenium.webdriver.remote.webelement.WebElement (session=\"bba8238b90f211507aec1ec2ef10a134\", element=\"e54922de-f6e0-4946-b8a7-e36bc0c2a7e4\")>]"
      ]
     },
     "execution_count": 200,
     "metadata": {},
     "output_type": "execute_result"
    }
   ],
   "source": [
    "#job location\n",
    "location2=driver2.find_elements_by_xpath(\"//li[@class='fleft grey-text br2 placeHolderLi location']\")\n",
    "location2"
   ]
  },
  {
   "cell_type": "code",
   "execution_count": 169,
   "metadata": {
    "collapsed": true
   },
   "outputs": [
    {
     "data": {
      "text/plain": [
       "['Bangalore/Bengaluru',\n",
       " 'Bangalore/Bengaluru',\n",
       " 'Noida, Bangalore/Bengaluru',\n",
       " 'Bangalore/Bengaluru',\n",
       " 'Bangalore/Bengaluru(Sadashiva Nagar)\\n(WFH during Covid)',\n",
       " 'Bangalore/Bengaluru',\n",
       " 'Hyderabad/Secunderabad, Pune, Gurgaon/Gurugram, Bangalore/Bengaluru',\n",
       " 'Bangalore/Bengaluru(Whitefield)\\n(WFH during Covid)',\n",
       " 'Bangalore/Bengaluru',\n",
       " 'Bangalore/Bengaluru',\n",
       " 'Bangalore/Bengaluru',\n",
       " 'Bangalore/Bengaluru',\n",
       " 'Bangalore/Bengaluru',\n",
       " 'Mumbai, Pune, Gurgaon/Gurugram, Bangalore/Bengaluru',\n",
       " 'Bangalore/Bengaluru',\n",
       " 'Bangalore/Bengaluru',\n",
       " 'Bangalore/Bengaluru',\n",
       " 'Bangalore/Bengaluru',\n",
       " 'Bangalore/Bengaluru',\n",
       " 'Bangalore/Bengaluru']"
      ]
     },
     "execution_count": 169,
     "metadata": {},
     "output_type": "execute_result"
    }
   ],
   "source": [
    "#extract job location\n",
    "job_location2=[]\n",
    "for i in location2:\n",
    "    job_location2.append(i.text)\n",
    "job_location2"
   ]
  },
  {
   "cell_type": "code",
   "execution_count": 171,
   "metadata": {
    "collapsed": true
   },
   "outputs": [
    {
     "data": {
      "text/plain": [
       "[<selenium.webdriver.remote.webelement.WebElement (session=\"29ebe74e722bf50cc4578e27138ee721\", element=\"f2486ee1-0f4a-4f3c-8ff4-f9be6149b7bf\")>,\n",
       " <selenium.webdriver.remote.webelement.WebElement (session=\"29ebe74e722bf50cc4578e27138ee721\", element=\"a63b7075-a9c7-4365-a2b4-22b09eb3cd95\")>,\n",
       " <selenium.webdriver.remote.webelement.WebElement (session=\"29ebe74e722bf50cc4578e27138ee721\", element=\"c2c06264-8c09-4b2a-b2bb-90b94a430eca\")>,\n",
       " <selenium.webdriver.remote.webelement.WebElement (session=\"29ebe74e722bf50cc4578e27138ee721\", element=\"3cfd2d53-8233-4a63-b0dd-833d63f0fca5\")>,\n",
       " <selenium.webdriver.remote.webelement.WebElement (session=\"29ebe74e722bf50cc4578e27138ee721\", element=\"0f3567cc-dd68-457f-94f0-c210fa9fa19c\")>,\n",
       " <selenium.webdriver.remote.webelement.WebElement (session=\"29ebe74e722bf50cc4578e27138ee721\", element=\"8520dd30-e5bc-4019-8a5b-9bf5602ad76d\")>,\n",
       " <selenium.webdriver.remote.webelement.WebElement (session=\"29ebe74e722bf50cc4578e27138ee721\", element=\"c81f7ad2-ecee-4b7f-be57-bb5616f0f9ff\")>,\n",
       " <selenium.webdriver.remote.webelement.WebElement (session=\"29ebe74e722bf50cc4578e27138ee721\", element=\"d97416aa-53fd-43e0-a332-bfae70a2314d\")>,\n",
       " <selenium.webdriver.remote.webelement.WebElement (session=\"29ebe74e722bf50cc4578e27138ee721\", element=\"3ae0b05a-cd71-43d1-97ef-79a1b961a8b8\")>,\n",
       " <selenium.webdriver.remote.webelement.WebElement (session=\"29ebe74e722bf50cc4578e27138ee721\", element=\"9bd548d0-b2bb-4033-af7e-37c3650bd49d\")>,\n",
       " <selenium.webdriver.remote.webelement.WebElement (session=\"29ebe74e722bf50cc4578e27138ee721\", element=\"50f49c7d-356b-4808-9870-482c7d844a8e\")>,\n",
       " <selenium.webdriver.remote.webelement.WebElement (session=\"29ebe74e722bf50cc4578e27138ee721\", element=\"60ee7cb7-fc2e-4269-b32d-2e9cd714e1b4\")>,\n",
       " <selenium.webdriver.remote.webelement.WebElement (session=\"29ebe74e722bf50cc4578e27138ee721\", element=\"33b538a7-1a9e-4bc7-a974-5fd1816b0415\")>,\n",
       " <selenium.webdriver.remote.webelement.WebElement (session=\"29ebe74e722bf50cc4578e27138ee721\", element=\"a86cc1d0-a98b-44f3-818b-3280c628f904\")>,\n",
       " <selenium.webdriver.remote.webelement.WebElement (session=\"29ebe74e722bf50cc4578e27138ee721\", element=\"73279e3c-f985-456f-aca5-04363e74329d\")>,\n",
       " <selenium.webdriver.remote.webelement.WebElement (session=\"29ebe74e722bf50cc4578e27138ee721\", element=\"d32f5453-fcdf-4bb6-8865-fbb09c880f2e\")>,\n",
       " <selenium.webdriver.remote.webelement.WebElement (session=\"29ebe74e722bf50cc4578e27138ee721\", element=\"fa7e5d41-68e6-4626-82db-435007b1265f\")>,\n",
       " <selenium.webdriver.remote.webelement.WebElement (session=\"29ebe74e722bf50cc4578e27138ee721\", element=\"f4d5f2f3-1108-4c68-a0a5-241f970c29f6\")>,\n",
       " <selenium.webdriver.remote.webelement.WebElement (session=\"29ebe74e722bf50cc4578e27138ee721\", element=\"d226a438-7b34-40e7-b8fb-64f31c369dc0\")>,\n",
       " <selenium.webdriver.remote.webelement.WebElement (session=\"29ebe74e722bf50cc4578e27138ee721\", element=\"afdca380-ab76-4e06-a136-07502494a4d0\")>]"
      ]
     },
     "execution_count": 171,
     "metadata": {},
     "output_type": "execute_result"
    }
   ],
   "source": [
    "#company name\n",
    "name2=driver2.find_elements_by_xpath(\"//a[@class='subTitle ellipsis fleft']\")\n",
    "name2"
   ]
  },
  {
   "cell_type": "code",
   "execution_count": 172,
   "metadata": {
    "collapsed": true
   },
   "outputs": [
    {
     "data": {
      "text/plain": [
       "['Huawei Technologies',\n",
       " 'Hitachi Ltd.',\n",
       " 'InnovAccer',\n",
       " 'GO-JEK India',\n",
       " 'Convergence Infotech Ltd',\n",
       " 'Thomson Reuters',\n",
       " 'Pylon Management Consulting Pvt Ltd',\n",
       " 'BRIDGETREE RESEARCH SERVICES PRIVATE LIMITED',\n",
       " 'Staffio HR',\n",
       " 'Flipkart Internet Private Limited',\n",
       " 'Schneider Electric India Pvt. Ltd.',\n",
       " 'GlaxoSmithKline Pharmaceuticals Limited',\n",
       " 'Scienaptic Systems',\n",
       " 'Alloys Consulting Private Limited',\n",
       " 'Successr HR Tech PVT LTD',\n",
       " 'Recruise India Consulting Pvt. Ltd.',\n",
       " 'Glowfin India Solutions',\n",
       " 'BIZVIZ TECHNOLOGIES PRIVATE LIMITED',\n",
       " 'Kwalee India Pvt Ltd.',\n",
       " 'bd']"
      ]
     },
     "execution_count": 172,
     "metadata": {},
     "output_type": "execute_result"
    }
   ],
   "source": [
    "#extract company name\n",
    "company_name2=[]\n",
    "for i in name2:\n",
    "    company_name2.append(i.text)\n",
    "company_name2"
   ]
  },
  {
   "cell_type": "code",
   "execution_count": 201,
   "metadata": {
    "collapsed": true
   },
   "outputs": [
    {
     "data": {
      "text/plain": [
       "['https://www.naukri.com/job-listings-lead-data-scientist-huawei-technologies-india-pvt-ltd-bangalore-bengaluru-4-to-9-years-121021907623?src=jobsearchDesk&sid=16341595224349894&xp=1&px=1',\n",
       " 'https://www.naukri.com/job-listings-data-scientist-ai-ml-engineer-hitachi-ltd-bangalore-bengaluru-5-to-10-years-111021500424?src=jobsearchDesk&sid=16341595224349894&xp=2&px=1',\n",
       " 'https://www.naukri.com/job-listings-senior-data-scientist-innovaccer-noida-bangalore-bengaluru-5-to-10-years-131021501006?src=jobsearchDesk&sid=16341595224349894&xp=3&px=1',\n",
       " 'https://www.naukri.com/job-listings-senior-data-scientist-go-jek-india-bangalore-bengaluru-5-to-10-years-111021502002?src=jobsearchDesk&sid=16341595224349894&xp=4&px=1',\n",
       " 'https://www.naukri.com/job-listings-senior-data-scientist-convergence-infotech-ltd-bangalore-bengaluru-8-to-12-years-111021004221?src=jobsearchDesk&sid=16341595224349894&xp=5&px=1',\n",
       " 'https://www.naukri.com/job-listings-senior-data-scientist-nlp-thomson-reuters-international-services-pvt-ltd-bangalore-bengaluru-8-to-10-years-111021001745?src=jobsearchDesk&sid=16341595224349894&xp=6&px=1',\n",
       " 'https://www.naukri.com/job-listings-data-scientist-senior-data-scientist-it-services-firm-pylon-management-consulting-pvt-ltd-hyderabad-secunderabad-pune-gurgaon-gurugram-bangalore-bengaluru-5-to-6-years-131021906976?src=jobsearchDesk&sid=16341595224349894&xp=7&px=1',\n",
       " 'https://www.naukri.com/job-listings-data-scientist-bridgetree-research-services-private-limited-bangalore-bengaluru-4-to-5-years-111021005895?src=jobsearchDesk&sid=16341595224349894&xp=8&px=1',\n",
       " 'https://www.naukri.com/job-listings-data-scientist-staffio-hr-bangalore-bengaluru-4-to-6-years-131021501523?src=jobsearchDesk&sid=16341595224349894&xp=9&px=1',\n",
       " 'https://www.naukri.com/job-listings-data-scientist-flipkart-internet-private-limited-bangalore-bengaluru-3-to-6-years-081021906627?src=jobsearchDesk&sid=16341595224349894&xp=10&px=1',\n",
       " 'https://www.naukri.com/job-listings-data-scientist-ai-flagship-schneider-electric-india-pvt-ltd-bangalore-bengaluru-4-to-7-years-081021501357?src=jobsearchDesk&sid=16341595224349894&xp=11&px=1',\n",
       " 'https://www.naukri.com/job-listings-data-scientist-glaxosmithkline-pharmaceuticals-limited-bangalore-bengaluru-4-to-7-years-081021501507?src=jobsearchDesk&sid=16341595224349894&xp=12&px=1',\n",
       " 'https://www.naukri.com/job-listings-senior-lead-data-scientist-scienaptic-systems-bangalore-bengaluru-10-to-12-years-041021500239?src=jobsearchDesk&sid=16341595224349894&xp=13&px=1',\n",
       " 'https://www.naukri.com/job-listings-data-scientist-alloys-consulting-private-limited-mumbai-pune-gurgaon-gurugram-bangalore-bengaluru-6-to-11-years-111021903711?src=jobsearchDesk&sid=16341595224349894&xp=14&px=1',\n",
       " 'https://www.naukri.com/job-listings-data-scientist-successr-hr-tech-pvt-ltd-bangalore-bengaluru-4-to-8-years-131021901011?src=jobsearchDesk&sid=16341595224349894&xp=15&px=1',\n",
       " 'https://www.naukri.com/job-listings-lead-data-scientist-recruise-india-consulting-pvt-ltd-bangalore-bengaluru-7-to-10-years-131021002265?src=jobsearchDesk&sid=16341595224349894&xp=16&px=1',\n",
       " 'https://www.naukri.com/job-listings-data-scientist-hdfs-sql-glowfin-india-solutions-bangalore-bengaluru-3-to-7-years-111021908100?src=jobsearchDesk&sid=16341595224349894&xp=17&px=1',\n",
       " 'https://www.naukri.com/job-listings-sr-data-scientist-bizviz-technologies-private-limited-bangalore-bengaluru-4-to-7-years-081021002595?src=jobsearchDesk&sid=16341595224349894&xp=18&px=1',\n",
       " 'https://www.naukri.com/job-listings-senior-data-scientist-kwalee-india-pvt-ltd-bangalore-bengaluru-5-to-10-years-260321000780?src=jobsearchDesk&sid=16341595224349894&xp=19&px=1',\n",
       " 'https://www.naukri.com/job-listings-data-scientist-bd-bangalore-bengaluru-2-to-5-years-091021500390?src=jobsearchDesk&sid=16341595224349894&xp=20&px=1']"
      ]
     },
     "execution_count": 201,
     "metadata": {},
     "output_type": "execute_result"
    }
   ],
   "source": [
    "#description in full\n",
    "#Lets collect all urls first\n",
    "urls=[]\n",
    "for i in driver2.find_elements_by_xpath(\"//a[@class='title fw500 ellipsis']\"):\n",
    "    urls.append(i.get_attribute(\"href\"))\n",
    "urls"
   ]
  },
  {
   "cell_type": "code",
   "execution_count": 174,
   "metadata": {
    "collapsed": true
   },
   "outputs": [
    {
     "data": {
      "text/plain": [
       "20"
      ]
     },
     "execution_count": 174,
     "metadata": {},
     "output_type": "execute_result"
    }
   ],
   "source": [
    "len(urls)"
   ]
  },
  {
   "cell_type": "code",
   "execution_count": 203,
   "metadata": {},
   "outputs": [],
   "source": [
    "job_description=[]\n",
    "for i in urls:\n",
    "    driver2.get(i)\n",
    "    try:\n",
    "        job_desc=driver2.find_element_by_xpath(\"//section[@class='job-desc']\")\n",
    "        job_description.append(job_desc.text)\n",
    "    except:\n",
    "        job_description.append(\"---\")"
   ]
  },
  {
   "cell_type": "code",
   "execution_count": 204,
   "metadata": {
    "collapsed": true
   },
   "outputs": [
    {
     "data": {
      "text/plain": [
       "['Job description\\nWe are looking for a Lead data scientist who will help us discover the information hidden in vast amounts of Ad Campaign data, and help us to optimize the campaign to improve the advertiser ROI and improve the overall consumer experience. Your primary focus will be in applying data mining techniques, doing statistical analysis, and building high quality prediction systems using Deep learning algorithms integrated with our products. Some the key area you will be working on spend recommendation, floor price prediction, CTR/CVR prediction, market funnel analysis and perdition of lead to conversion, etc.\\n\\nResponsibility:\\nAnalyze the data, develop insights and identify the opportunity to utilize the data to predict various Advertisement key indicators like CTR, CVR, Inventory and Develop prediction and optimization algorithms for campaign, look alike modeling, etc for Huawei Ads.\\nTakeup key challenges in AI-driven Smart Ad Serving Platform and focus on research and developing leading AI algorithms and productionize for Huawei Ads.\\nTakeup initiative in identifying the SOTA and finding key gaps in AI algorithms and develop a world leading AI algorithms for optimizing real-time Ad Serving engine. Identify and optimize the core modules such as Traffic Prediction, Optimization, Ad Targeting/Re-targeting, Ad Performance Optimization, Audience insights, Attribution, Bidding, re-ranking, and Diagnostics. Support hundreds of billions of ad requests per day, with efficiently cache technology.\\nTo build and enhance Ad platform features and Prediction capabilities in Huawei Ads Platform\\nOptimized Cost Per Mille; Optimized Cost Per Action; Optimized Cost Per Click and Cost per Click. OCPM, OCPA, OCPC.\\n\\nRequirements:\\n- Strong hands-on experience in implementing and validating big data algorithms and models including Deep Learning models like Seq2Seq/ GRU/ RNN/LSTM , Knowledge Graph, Massive Graph algorithms, etc.\\n- Programming experience with Python\\n- Able to validate existing models including Deep Learning models with large scale dataset and able to make changes to the models to achieve better performance\\n- AdServing domain Experience is an added advantage.\\nRoleData Scientist\\nIndustry TypeTelecom / ISP\\nFunctional AreaData Science & Analytics\\nEmployment TypeFull Time, Permanent\\nRole CategoryData Science & Machine Learning\\nEducation\\nUG :Any Graduate\\nPG :Any Postgraduate\\nKey Skills\\nData SciencePerformance OptimizationAlgorithmsRNNLSTMArtificial IntelligenceBig DataData MiningStatistical AnalysisDeep LearningPython',\n",
       " 'Job description\\nDuties and Responsibilities\\nImplement the application solving customer s issue by applying AI/ML technologies\\nApply ML and DL models for various industry problems.\\nSetting-up collaboration environment and framework for AI related research and development projects.\\nDesign and develop different architectural models for scalable data storage, processing, and large-scale analytics.\\nWork with cross-functional teams to understand technical needs.\\nSet-up big data environment that helps establish rapid POCs and prototype developments on both on-premises and cloud-based platforms.\\nMonitor and optimize performance of the big data ecosystem.\\nEnsure data accessibility to researchers via different programming languages.\\nKeep up to date with state of the art in the industry.\\nQualifications\\nMinimum\\nBachelor s degree in Computer Science with substantial industry experience of 5 years or more of Data Engineering/ETL/Administration experience.\\nHands-on experience in Statistical data analysis and Machine learning\\nPossess significant knowledge of Big Data technologies and tools.\\nGood coding skills in at least one scripting language (Shell, Python, R, etc.)\\nExperience with various Hadoop distribution like Hortonworks and Cloudera.\\nKnowledge of cluster monitoring tools like Ambari, Ganglia, or Nagios.\\nDelivered Big Data solutions in the cloud with AWS or Azure or Google Cloud.\\nExperience in Java programming, Scala programming.\\nExperience with RDBMS (MySQL, PostgreSQL, etc.)\\nExperience with NoSQL database administration development like MongoDB.\\nExperience with Hadoop eco-system (MapReduce, Streaming, Pig, HIVE, Spark).\\nExperience using DevOps toolbox such as Jenkins, Chef, Puppet.\\nProven ability to create and manage big data pipeline using Kafka, Flume Spark\\nKnowledge of BI tools such as Tableau, Pentaho, etc.\\nExperience building large-scale distributed applications and services.\\nExperience with agile development methodologies. -\\nKnowledge of industry standards and trends.\\nGood communication, logical thinking, and presentation skills.\\nAdditional qualifications (preferred but not mandatory)\\nMaster s degree in Computer Science or equivalent with at least 5 years industry experience of data engineering/ETL/Administration.\\nExperience applying Deep learning.\\nSubstantial industry experience developing prototypes and demonstrating PoCs\\nRoleFull Stack Developer\\nIndustry TypeConsumer Electronics & Appliances\\nFunctional AreaEngineering - Software\\nEmployment TypeFull Time, Permanent\\nRole CategorySoftware Development\\nEducation\\nUG :Any Graduate\\nPG :Any Postgraduate\\nKey Skills\\nHiveScalaHadoopBig DataSparkAwsMachine LearningPython',\n",
       " 'Job description\\n  A day in the life at Innovaccer:\\nDesign and lead the development of various artificial intelligence initiatives to help improve health and wellness of patients\\nWork with the business leaders and customers to understand their pain-points and build large-scale solutions for them.\\nDefine technical architecture to productize Innovaccer s machine-learning algorithms and take them to market with partnerships with different organizations\\nWork with our data platform and applications team to help them successfully integrate the data science capability or algorithms in their product/workflows.\\nWork with customers and BI experts to build out reports and dashboards that are most useful to customers\\nWork with development teams to build tools for repeatable data tasks that will accelerate and automate development cycle.\\nDefine and execute on the roadmap\\nWhat You Need\\nMasters in Computer Science, Computer Engineering or other relevant fields (PhD Preferred)\\n5 years of experience in Data Science (healthcare experience will be a plus)\\nStrong written and spoken communication skills\\nStrong hands-on experience in Python\\nExperience in Deep Learning Frameworks like Keras, TensorFlow\\nExperience with Sequence Models\\nExperience in NLP libraries like spaCy, NLTK, StanfordNLP\\nExperience in developing and deploying production ready models\\nPossess a customer-focused attitude through conversations and documentation\\nCoordinate management activities with others on the team\\nHands-on ability to set up reporting tools and build reports and ad hoc functionality\\nRoleRegional Sales Manager (B2C)\\nIndustry TypeBPO / Call Centre\\nFunctional AreaSales & Business Development\\nEmployment TypeFull Time, Permanent\\nRole CategoryRetail & B2C Sales\\nEducation\\nUG :Any Graduate\\nPG :Any Postgraduate\\nKey Skills\\nData ScienceTeam ManagementArtificial IntelligenceData ScientistComputer ScienceFull TimeMachine LearningDeep LearningPythonPredictive Analytics',\n",
       " 'Job description\\nWhat You Will Do\\nWork with Data Scientists, Machine Learning Engineers, and Business Users to build, deploy, and scale Data Science solutions on match-making, supply, pricing problems in Gojek that touch the company s baseline\\nUse your experience in Data Science, Machine Learning, Software Engineering, distributed systems to develop these systems, and work with the platform team to take the systems to production\\nWork with Business teams to continuously refine and improve the systems to cater to ever-changing Gojek needs\\nDesign and develop world class Data Science solutions to enhance the current stack of Marketplace algorithms for supply, demand, pricing\\nWhat You Will Need\\nAt least 6 years of experience as a Data Scientist or Machine Learning Engineer, with experience in Python, Golang/Java, and Unix\\nA Bachelors Degree in Computer Science, Statistics, Operations Research, or a relevant quantitative field\\nSolid knowledge of Data Science and Machine Learning fundamentals, with proven experience formulating Data Science solutions to business problems\\nProven ability to recognize business needs and to communicate with multiple stakeholders within the Product Management, Business and Operations teams\\nExperience in taking Data Science models to production\\nPrior academic or industry work experience with forecasting methods like auto-regressive models, Markov models, and Kernel-based methods\\nPrior experience with simulations for modeling the stochastic nature of marketplace supply and demand, and knowledge of the transportation and mobility space\\nRoleTechnical Lead\\nIndustry TypeIT Services & Consulting\\nFunctional AreaEngineering - Software\\nEmployment TypeFull Time, Permanent\\nRole CategorySoftware Development\\nEducation\\nUG :Any Graduate\\nPG :Any Postgraduate\\nKey Skills\\nData ScienceJavaProduct ManagementAlgorithmsCustomer ExperienceSoftware EngineeringData ScientistComputer ScienceMachine LearningPython',\n",
       " 'Job description\\nRoles and Responsibilities\\nPhD in Statistics, Math or Computer Science is preferred. Must have at least a Master degree with 10+ years of experience.\\nExcellent statistical analysis skills to identify patterns in data. This includes having a keen sense of pattern detection and anomaly detection.\\nExcellent understanding of machine learning techniques and algorithms, such as k-NN, Naive Bayes, SVM, Decision Forests, etc.\\nMust be able to implement algorithms and statistical concepts to build predictive models.\\nIn-depth experience with common data science tools such as TensorFlow, PyTorch or equivalent.\\nProficient in programming with python, SQL and No-SQL databases; and data science libraries such as nltk, numpy, scipy and many others\\nGreat communication skills both written and verbal. Must be able to effectively communicate with global English speaking teams.\\nExpertise in collaborating with multi-disciplinary teams of business analysts, data scientists, subject matter experts, and developers\\nDesired Candidate Profile\\n\\n\\nPerks and Benefits\\n\\n\\nRoleTechnical Architect\\nIndustry TypeIT Services & Consulting\\nFunctional AreaEngineering - Software\\nEmployment TypeFull Time, Permanent\\nRole CategorySoftware Development\\nEducation\\nUG :B.Sc in Any Specialization, B.Tech/B.E. in Computers\\nPG :M.Tech in Computers, MS/M.Sc(Science) in Computers\\nDoctorate :Ph.D/Doctorate in Computers, Maths\\nKey Skills\\nTensorflowScipyALGORITHMSVMMachine LearningNumpySQLPytorchNltkAnomaly DetectionData Sciencek-nndecision forestsstatistical conceptsPython',\n",
       " \"Job description\\nSenior Data Scientist, NLP\\nAre you excited about working at the forefront of applied research in an industry setting? Thomson Reuters Labs in Bangalore is seeking experienced data scientists with a passion for solving problems using state-of-the-art Machine Learning and Natural Language Processing.\\nWhat does Thomson Reuters Labs do? We experiment, we build, we deliver. We support the organization and our customers through applied research and the development of new products and technologies. TR Labs innovates collaboratively across our core segments in Legal, Tax & Accounting, Government, and Reuters News.  We undertake a diverse portfolio of projects today while investing in long-term research for the future.\\nAs a data scientist in Labs, you will be part of a global interdisciplinary team of experts. We hire specialists across a variety of AI research areas, as well as Engineering and Design, to drive the company's digital transformation. TR Labs is known for consistently delivering Artificial Intelligence projects that advance the state of the art in support of high growth products and serve Thomson Reuters customers in new and exciting ways.\\n\\nAbout the role\\nIn this opportunity as a Senior Data Scientist, you will:\\nExperiment and Develop: You will drive the entire model development lifecycle, building, testing, and delivering high-quality solutions. You will apply best practices for conducting reproducible research and well-managed software delivery.\\nCollaborate: Working on a collaborative cross-functional team, you will share information, value diverse ideas, and partner effectively with colleagues across the globe. You will elevate and mentor teammates.\\nDeliver: With a strong sense of urgency and the desire to work in a fast-paced, dynamic environment, you will translate complex business problems into projects with a clearly defined scope. Our problems are complex; our solutions are right-sized. You will be accountable for timely, well-managed deliverables.\\nInnovate:  You will be empowered to try new approaches and learn new technologies. You will implement innovative ideas to solve real-world challenges.\\nInspire: You will be a proactive communicator who is excited to share your work. You will be articulate and compelling in describing ideas to both technical and non-technical audiences. You will help lead the way in the adoption of AI across the enterprise.\\n\\nAbout you\\nBasic qualifications\\nPh.D. in a relevant discipline or Masters plus a comparable level of experience\\nAt least five years experience building ML/NLP systems\\nSolid software engineering skills for prototyping\\nExperience as a technical leader, coordinating and guiding the work of others\\nPreferred qualifications\\n8+ years of academic or industry experience building ML or NLP systems with the demonstrated ability to translate cutting edge research into working applications\\nDemonstrated ability to translate customer needs into well-structured research/project plans\\nProficiency in Python, Java, or Scala and experience delivering minimum viable products in a large enterprise environment\\nOutstanding communication, organization, and data-driven decision making\\nPublications at workshops or conferences such as ACL, EMNLP, KDD, ICML, NeurIPS, or similar\\n\\nWhat's in it for you\\nAt Thomson Reuters, our people are our greatest assets. In addition to rewarding and challenging work with exceptional colleagues, we offer the following benefits for your personal and professional growth:\\nLearning & Development: On-the-job coaching & learning, tuition reimbursement, exposure to leading-edge technology\\nOur Scientists and Engineers get to play with big data sets to discover new products, capabilities, and insights for our customers. Thomson Reuters is most well-known for the globally respected Reuters News agency, but our company is also the leading source of information for legal, corporate, and tax professionals. We have over 60,000 TBs worth of legal, regulatory, news, and tax data. \\nBenefits: Flexible work arrangements, comprehensive health coverage effective day one, savings and investment plans\\nPerks: Social events & activities, employee discount programs\\nSocial Impact: Paid time off for volunteering virtually or in your community\\nRoleData Scientist\\nIndustry TypeSoftware Product\\nFunctional AreaData Science & Analytics\\nEmployment TypeFull Time, Permanent\\nRole CategoryData Science & Machine Learning\\nEducation\\nPG :M.Tech in Any Specialization\\nDoctorate :Ph.D/Doctorate in Any Specialization\\nKey Skills\\nJavaNLPAccountingscalaArtificial IntelligenceNatural Language ProcessingBig Datamodel development lifecyclePrototypingMachine LearningPythonModel Development\",\n",
       " \"Job description\\nResponsibilities :\\n\\n- Analytics lead on client projects responsible for data science application development, Works closely with cross-functional teams.\\n\\n- Takes responsibility for requirements gathering, solution design, development, and developing a production-level data science solution\\n\\n- Develop implementation guidelines, quality control procedures, and documentation for projects. Ensures adherence to the best practices in the project\\n\\n- Guide team members on project work and take responsibility for the analytics deliverables\\n\\n- Take initiatives to drive data science initiatives like training to the team, conduct proof-of-concept work to test new data science algorithms or features with support of data science leadership\\n\\nMust have Skills and Experience: :\\n\\n- At least a year of experience of leading machine learning or forecasting projects to meet the customers- business requirement\\n\\n- 5-6 years of project experience using machine learning techniques (like Decision Trees, Gradient Boosting, Random Forest, and Neural Networks) or forecasting techniques (ESM, ARIMA, ARIMAX, UCM)\\n\\n- Advance level skills in Python and SQL to work on large scale data\\n\\n- Expertise and ability to train team members in Advanced Python for Data Science, Machine Learning / Forecasting, and SQL\\n\\nEducation:\\n\\n- Bachelor /Master's degree in technology or engineering or quantitative field (e.g. MSc in Statistics and Operations Research, M Tech in Industrial Engineering, Applied Math/Statistics, Computer Science)\\n\\n- Experience in retail, manufacturing, and consumer goods industry\\n\\n- Experience of operationalization of the machine learning or forecasting models in the cloud or on-premises platform\\nRoleData Scientist\\nIndustry TypeIT Services & Consulting\\nFunctional AreaData Science & Analytics\\nEmployment TypeFull Time, Permanent\\nRole CategoryData Science & Machine Learning\\nEducation\\nUG :B.Tech/B.E. in Any Specialization\\nPG :M.Tech in Production/Industrial, Computers, MS/M.Sc(Science) in Statistics\\nDoctorate :Doctorate Not Required\\nKey Skills\\nData ScienceNLPData ScientistData ManagementMachine LearningStatisticsAnalyticsSQL\",\n",
       " \"Job description\\nWe are seeking a Data Scientist to join our growing Analytics & Reporting team with strong hands-on analytical skills who can leverage disparate datasets, ensure data integrity and quality, create innovative solutions, and provide actionable insights to improve quality, service and customer outcomes. The ideal candidate will have experience with database technologies, operational analytics, working knowledge of Artificial Intelligence/Machine Learning (AI/ML) techniques. You will use statistical creativity and intellectual curiosity to create some of the most impressive statistical analyses that will propel our clients to the next level.\\n\\nResponsibilities\\nBe a collaborative member of a group that translates business questions into practical results and actionable insights.\\nAnalyze complex data sets, develop standardized processes, and support various ad-hoc analytic requests like KPI reporting, customer profiling, campaign response analysis, and advanced analytic modeling.\\nWrite programs to cleanse and integrate data in an efficient and reusable manner.\\nEnsure data quality and analytic accuracy before presenting to the stakeholders.\\nImplement and validate predictive and prescriptive models; create and maintain statistical models with a focus on big data.\\nIncorporate a variety of statistical and machine learning techniques in your projects.\\nWork on complex problems and act as a consultant on other ML/ Data engineering projects.\\nProduce accurate data reporting and provide recommendations for improving future reports.\\nProvide insights into channel effectiveness and targeting effectiveness to drive better channel personalization as opportunities to improve program success.\\nEvaluate modelling results and communicate the results to technical and non-technical audiences.\\nResearch emerging tools and techniques in reporting and analytics.\\n\\nQualifications\\nDegree in a highly relevant analytical or technical field, such as statistics, data science, or business analytics.\\n4+ years of direct program and analysis experience in retail with a strong emphasis on answering complex business questions and developing practical solutions.\\nExperience in a data-driven environment providing analytics & insights.\\nKnowledge of predictive analytics, statistical modelling, model interpretation, exploratory data analysis and reporting.\\nExtensive experience with large data sets, statistical analyses, and visualization as well as hands on experience with Python, SQL, and Tableau.\\nAbility to quickly learn and take responsibility to deliver from preferred programming tool.\\n\\nPerks and Benefits\\nBridgetree understands that our people are our true assets, and we go length and breadth to ensure we have a highly engaged and connected working environment. Our values - Integrity, Excellence, Ownership & Accountability, Create Problem Solving, Passion & Here to Help play an important role in defining and shaping Bridgetree's work culture. Quarterly skip-level meetings & annual manager feedback program ensure that employee communication channels are always open.\\nBridgetree also offers the best in Industry perks and benefits. We follow a calendar cycle for performance/salary appraisal and include a great bonus model in pay structure. Additionally, some of the key benefits we offer are:\\nA whole suite of leaves, PL, ML, Paternity, Quarantine, Sabbatical etc, \\nMedical insurance benefits (including COVID hospitalization)\\nLearning and Development - certification reimbursement\\nFull-time WFH\\nVisa sponsorship program\\nSodexo/Zaggle food card options\\nRelocation benefits\\nRoleData Analyst\\nIndustry TypeIT Services & Consulting\\nFunctional AreaData Science & Analytics\\nEmployment TypeFull Time, Permanent\\nRole CategoryBusiness Intelligence & Analytics\\nEducation\\nUG :Any Graduate\\nPG :Any Postgraduate\\nKey Skills\\nData ScienceExploratory Data AnalysisArtificial IntelligenceStatistical ModelingTableauMachine LearningStatisticsPythonPredictive AnalyticsSQL\",\n",
       " 'Job description\\n  Prior experience of working with large-scale datasets (10s of millions of documents) is strongly preferred.\\nEnd-to-end ownership of developing the model, writing production quality code and deploying the model is an expectation of the job.\\nExperience in data cleansing and preparation concepts and tools.\\nPrior experience of working with startups is strongly preferred.\\nExpertise in probability and statistics, time-series analysis as well as experience in the use of machine learning methods, for example, linear regression, correlation, statistical significance, and so forth.\\nExperience in data visualization concepts and tools\\nExperience with Data Quality Controls.\\nTech Requirements\\nExperience in NLP is a must.\\nProgramming Languages: Hands-on with Python and Java.\\nStrong background in relational databases, data modeling and SQL.\\nExperience working with statistical libraries (e.g scikit-learn) and frameworks for predictive analytics.\\nKnowledge of Hadoop and UNIX will be a plus.\\nKnowledge of Kibana and/or other reporting tools is preferred.\\nRoleFunctional Consultant\\nIndustry TypeRecruitment / Staffing\\nFunctional AreaConsulting\\nEmployment TypeFull Time, Permanent\\nRole CategoryIT Consulting\\nEducation\\nUG :Any Graduate\\nPG :Any Postgraduate\\nKey Skills\\nJavaSoftware DevelopmentNlpData ScientistLinear RegressionHadoopData VisualizationData ModelingMachine LearningPython',\n",
       " 'Job description\\nAbout the role\\nA Data Scientist in Flipkart is required to develop and implement a mix of ML, statistical and optimization models for the various projects formulated from business and product views. The responsible person should be able to communicate and collaborate with multiple stakeholders representing various teams to better understand the problem at hand. At a fundamental level, the responsible person should be able to dive deep into a problem statement and extract interesting insights as well as solutions. In addition to being a quick learner, a DS is expected to get involved in active research projects with a view to publish them.\\nWhat you ll do\\nUnderstand Business and product needs and use ML, statistical and optimization techniques as appropriate to provide solutions to those in a time bound fashion.\\nCommunicate and collaborate with business and product teams to have a better understanding of the project so as to be able to drive it within the DS team.\\nGet involved in in-depth exploration of solutions that are to be shared with business and product teams; specifically, build models and scalable custom algorithms for problems including decision optimization and predictive modeling.\\nActive participation in working with new methods and learning new technologies, in areas including data science and data engineering.\\nWhat you ll need:\\nB.Tech, M.Tech or PhD in CS, Operations Research or related discipline with professional experience ranging from 3 to 6 years through deployed solutions/projects. Candidate should have taken academic coursework in Operations Research (specifically mathematical optimization)\\nDemonstrated experience in building discrete, linear, nonlinear or stochastic optimization models is required. Experience with optimization models for supply chain optimization is preferred but not required\\nDemonstrated experience in utilizing and tuning commercial optimization solvers (e.g. CPLEX, Gurobi) and in building custom optimization algorithms (e.g. exact algorithms, metaheuristics, large neighborhood search, decomposition algorithms, greedy/randomized search) for industry-scale problems is required.\\nGood grasp on the theory and practise of basic statistical models such as regression or clustering and general ML algorithms such as tree, Random Forests, SVM, Boosting, Neural Networks etc. It is not expected that the candidate has actually worked on all these modules.\\nStrong proficiency in Python or R is necessary.\\nRoleResearch Scientist\\nIndustry TypeInternet\\nFunctional AreaResearch & Development\\nEmployment TypeFull Time, Permanent\\nRole CategoryPharmaceutical & Biotechnology\\nEducation\\nUG :B.Tech/B.E.\\nPG :M.Tech\\nKey Skills\\nSupply chainOperations researchdata scienceNeural networksPredictive modelingPython',\n",
       " 'Job description\\nIdentify and understand business problems : partner with business stakeholders to understand and communicate on business objectives\\nDefine analytical techniques to solve business challenges\\nProvide data science contribution into the assigned projects\\nBe part of the innovation programs (eg. Semtech, chatbots)\\nMaintain high quality code and documentation\\nAssure efficiency, stability and scalability of the solution\\nCreate deliver easily-consumable presentations to large groups of stakeholders and executives that showcase actionable insights and recommendations\\nTeam Interaction\\nData Scientist interacts with all members of service line she is assigned to in order to develop provide best in class solutions for the business.\\nShe interacts as well with key stakeholders of the business domain business process owners/experts, operations etc. in order to identify business opportunities, discuss test solutions\\nShe interacts also with other service lines as well as Analytics Apps Infrastructure team in order to exchange best practices\\nShe interacts also with Analytics Apps Infrastructure team in order to industrialize data products\\nShe interacts with Global IT department (Schneider Digital) to support the work on Intel Data Store\\n\\n\\n  RoleResearch Scientist\\nIndustry TypeElectrical Equipment\\nFunctional AreaResearch & Development\\nEmployment TypeFull Time, Permanent\\nRole CategoryPharmaceutical & Biotechnology\\nEducation\\nUG :Any Graduate\\nPG :Any Postgraduate\\nKey Skills\\nData ScienceHiveData ScientistHadoopSql ServerBig DataSparkMachine LearningPython',\n",
       " 'Job description\\nWorking with multidisciplinary teams to identify, validate, and source required data and tools to develop and mature ML capabilities\\nPerforming data mining to discover nonobvious relationships, building training data, implementing and retraining ML solutions\\nConducting discovery workshops with business partners to identify business problems\\nBuilding visualization dashboards to present metrics, statistical findings, and progress tracking\\nYour Responsibilities\\nCollaborate and work across business units to identify and source the data and technology to build and mature ML capabilities\\nConduct discovery workshops with business partners to identify business problems, obtain and validate training data\\nDesign, Build, implement, and retrain ML models to solve specific business problems\\nPerform data mining and apply findings to increase modeling accuracy\\nCleary and concisely communicate business needs, computational findings and recommendations to all audiences regardless of their background or technical understanding\\nBuild, implement, and maintain visualization dashboards that clearly present both historical and real time operational metrics, research findings, and progress updates\\nBasic Qualifications\\nBachelors degree in Applied Mathematics, Mathematical Engineering, Computer Science, Information Technology, or Related Field\\n10 + years of overall technical experience\\n2+ years of Machine Learning and or Data Mining experience\\n2+ years of experience building visualization dashboards\\n2+ years working with and manipulating large data sets\\n2+ years of hands on development experience using multiple languages\\nPreferred Qualifications\\nMasters degree in Applied Mathematics, Mathematical Engineering, Computer Science, Information Technology, or Related Field\\nExperience with tools such as Tableau and Power BI\\nExperience manipulating large data sets using technologies such as Hadoop, Azure, Hive, Spark, Element, Data Bricks, Mongo, and BigQuery\\nStrong development experience using multiple languages such as Python, R Studio, SQL, C#, Java, Java Script, and Julia\\nSuccessful completion of 2 or more projects (end to end) involving the migration and merging of large data sets from multiple sources, leveraging statistical analysis to identify meaningful and significant data relationships to build, train, and retrain ML models\\nExperience and/or exposure to the cyber security industry and working with a SIEM such as Splunk or Google Chronicle\\nRoleData warehouse Developer / Engineer\\nIndustry TypePharmaceutical & Life Sciences\\nFunctional AreaEngineering - Software\\nEmployment TypeFull Time, Permanent\\nRole CategoryDBA / Data warehousing\\nEducation\\nUG :Any Graduate\\nPG :Any Postgraduate\\nKey Skills\\nProcurementComputer sciencePharmaMachine learningHealthcareData miningOperationsInformation technologySQLPython',\n",
       " 'Job description\\nWe are looking for an energetic and experienced person as Sr/Lead Data Scientist. The chosen candidate will be responsible for interacting with clients and developing all aspects of data mining, predictive analytic, solution development to name a few.\\nRequirements\\nLead and take part in end-to-end ML (Machine Learning) projects deployments that require feasibility analysis, design, development, validation, and application of state-of-the art data science solutions.\\nNeed to deliver solutions to production through the software development lifecycle.\\nYou will have to push the state of the art application in terms of data mining, visualization, predictive modelling, statistics, trend analysis, and other data analysis techniques to solve complex business problems including recommender systems, Customer sentiment modelling, customer life-cycle modelling, Spare parts inventory optimization, spare parts pricing, warranty, After market channel effectiveness.\\nWrite production ready code and deploy real time ML models; expose ML outputs through APIs.\\nHypothesis Testing and Design of experiments to analyze and monitor results\\nPartner with Data/ML engineers and vendor partners for input data pipes development and ML models automation.\\nSkills\\n5 10 years of Applied Machine learning experience in the fields of Machine Learning, Recommender Systems, Statistical Modelling, Predictive Modelling.\\nNote: We are looking for candidates who are presently serving their notice or who can join us within 15-20 days.\\nRoleTechnical Consultant\\nIndustry TypeIT Services & Consulting\\nFunctional AreaConsulting\\nEmployment TypeFull Time, Permanent\\nRole CategoryIT Consulting\\nEducation\\nUG :Any Graduate\\nPG :Any Postgraduate\\nKey Skills\\nAutomationData analysisStatistical modelingSpare partsMachine learningTrend analysisCredit underwritingSoftware development life cyclePredictive modelingData mining',\n",
       " 'Job description\\nPredictive Modeling - Regression/Time Series Other Machine Learning methods,\\nPython, R Data Analysis, Machine Learning.\\nGood communication skills\\nAdditional Information\\nNote:-\\nMaximum joining period of 20 days only\\nExperience: 6-12 years\\nLocation: PAN India\\nRoleData Scientist\\nIndustry TypeIT Services & Consulting\\nFunctional AreaData Science & Analytics\\nEmployment TypeFull Time, Permanent\\nRole CategoryData Science & Machine Learning\\nEducation\\nUG :Any Graduate\\nKey Skills\\npredictive modellingRdata scienceregression analysistime seriesmachine learningPython',\n",
       " 'Job description\\nDescription:\\nWe are looking for a data scientist that will help us discover the information hidden in vast amounts of data, and help us make smarter decisions to deliver even better products. Your primary focus will be in applying data mining techniques, doing statistical analysis, and building high quality prediction systems integrated with our products. {{Depending on your needs, you can write very specific requirements here, like: “automate scoring using machine learning techniques”, “build recommendation systems”, “improve and extend the features used by our existing classifier”, “develop internal A/B testing procedures”, “build system for automated fraud detection”, etc.}}\\nResponsibilities:\\n-Selecting featJob ures, building and optimizing classifiers using machine learning techniques\\n-Data mining using state-of-the-art methods.\\n-Extending company’s data with third party sources of information when needed.\\n-Enhancing data collection procedures to include information that is relevant for building analytic systems.\\n-Processing, cleansing, and verifying the integrity of data used for analysis.\\n-Doing ad-hoc analysis and presenting results in a clear manner.\\n-Creating automated anomaly detection systems and constant tracking of its performance\\n{{Select from the above and add other responsibilities that are relevant}}.\\nSkills and Qualifications:\\n-Excellent understanding of machine learning techniques and algorithms, such as k-NN, Naive Bayes, SVM, Decision Forests, etc.\\n-Experience with common data science toolkits, such as R, Weka, NumPy, MatLab, etc {{depending on specific project requirements}}. Excellence in at least one of these is highly desirable.\\n-Great communication skills.\\n-Experience with data visualisation tools, such as D3.js, GGplot, etc.\\n-Proficiency in using query languages such as SQL, Hive, Pig {{actual list depends on what you are currently using in your company}}\\n-Experience with NoSQL databases, such as MongoDB, Cassandra, HBase {{depending on project needs}}\\n-Good applied statistics skills, such as distributions, statistical testing, regression, etc.\\n-Good scripting and programming skills {{if you expect that the person in this role will integrate the solution within the base application, list any programming languages and core frameworks currently being used}}\\n-Data-oriented personality\\n{{Mention any other technology that such person is going to commonly work with within the organization}}\\n{{List education level or certification you require}}\\nRoleData Scientist\\nIndustry TypeIT Services & Consulting\\nFunctional AreaData Science & Analytics\\nEmployment TypeFull Time, Permanent\\nRole CategoryData Science & Machine Learning\\nEducation\\nUG :B.Tech/B.E. in Any Specialization\\nPG :Any Postgraduate\\nDoctorate :Doctorate Not Required\\nKey Skills\\nData analysisQuery languages such as SQLData miningData science toolkitsProcessingpigScriptingAd-hoc analysisNo SQL DBMachine learning techniquesHiveData integrityVerifying dataData visualizationData collectionCleansing',\n",
       " 'Job description\\nRoles and Responsibilities\\nYour responsibilities\\nLead and participate in end-to-end ML projects deployments that require feasibility analysis, design, development, validation, and application of state-of-the art data science solutions.\\nNeed to deliver solutions to production through the software development lifecycle\\nYou will have to push the state of the art in terms of the application of NLP and Voice AI solution on call center verbatim, chat bot/robo calling data, social media posts, marketing collaterals/assets to solve complex business problems including but NOT limited to understating consumer behaviour, marketing asset performance, lead classification, retail channel effectiveness and recommender systems.\\nLeverage and enhance applications utilizing Natural Language Processing and Deep Learning Neural networks for use cases including text mining, speech, voice to text AI.\\nProvide leadership to establish world-class ML lifecycle management processes.\\nWrite production ready code and deploy real time ML models; expose ML outputs through APIs\\nPartner with data/ML engineers and vendor partners for input data pipes development and ML models automation Your qualifications\\n\\nYour qualifications\\nFor Lead Data Scientist: Over 6 years of Applied Machine learning experience in the fields of machine learning such as Text Mining, Natural Language Processing (NLP), Deep learning and Optimization\\nHands-on experience with open source tools such as Kaldi, Pytorch-Kaldi.\\nExperience in using any of the existing platforms such as LUIS, DialogFlow, Rasa etc\\nSolid understanding of current deep learning (DL) techniques like convolutional neural networks (CNNs), recurrent neural networks (RNNs), long-term short-term memory (LSTM), connectionist temporal classification (CTC), etc used for speech processing is essential.\\nShould be well versed in classical speech processing methodologies like hidden Markov models (HMMs), Gaussian mixture models (GMMs), Artificial neural networks (ANNs), Language modelling, etc.\\nPost grad/ graduate in Math, Computer Science, Statistics or related field with a minimum of 4 years of relevant experience or Masters in Math, Computer Science, Statistics or related field\\nHands on experience in model building, validation, and productionizing.\\nExpert Python Programmer, strong hold on SQL, extremely proficient with the SciPy stack (e.g. numpy, pandas, sci-kit learn, matplotlib);\\nA demonstrated ability to mentor junior data scientists and proven experience in collaborative work environments with external customers\\nProficient in communicating technical findings to non-technical stakeholders\\nExperienced in ML lifecycle mgmt. and ML Ops tools & frameworks\\n\\n\\n\\nRoleComputer Vision\\nIndustry TypeElectronics Manufacturing\\nFunctional AreaData Science & Analytics\\nEmployment TypeFull Time, Permanent\\nRole CategoryData Science & Machine Learning\\nEducation\\nUG :Any Graduate\\nKey Skills\\nNLP',\n",
       " 'Job description\\nResponsibilities:\\n\\n- Work as part of a product team in defining, prototyping and implementing data science modelsalgorithms as part of the product.\\n\\n- Be able to research and apply the latest Machine Learning architecture solutions that work for big data Batches and Streams.\\n\\n- Build data expertise, act like an owner for the company and manage complex data systems for a product or a group of products.\\n\\n- Designing, integrating and documenting technical components for data flows or applications that perform analysis at a massive scale.\\n\\n- Along with project managers, own the business outcomesmetrics which the data science modelalgorithm drives.\\n\\n- Build large scale data systems that would work across multiple geographies\\n\\n- Solid understanding of the mathematics of ML - Probability, Statistics, Linear Algebra of Matrices, Modelling Hyperparameter tuning for speed of learning & model performance.\\n\\n- Ability to understand business concerns and formulate them as technical problems that can be solved using DataMathStatsML.\\n\\n- Experience working as part of a product team, along with engineers and product managers, to define the problem and execute the data science solution.\\n\\nEssential skills:\\n\\n- 4+ Years of Relevant Experience.\\n\\n- Hands on experience of coding in Python and SQL (MySQL and Postgres)\\n\\n- Hands-on experience of applying and tuning the following algos of data science in multiple verticles:\\n\\n- Recommendation Algos (Collaborative filtering, Content filtering (ALS etc.))\\n\\n- Classification and Regression Algos\\n\\n- Machine Learning Algos (XGBoost, Random Forest)\\n\\n- Clustering Algos (KMeans)\\n\\n- Dimensionality Reduction Algos (PCA)\\n\\nDesirable skills:\\n\\n- Experience of coding in Pyspark and Scala\\n\\n- Working knowledge of Airflow, Hadoop (HDFS) and Git\\n\\n- Tuning of various performance matrix (for accuracy, precision, recall, F1 Score, AUC, ROC)\\n\\n- Experience in Deep Learning Algos (Neural Network)\\nRoleData Scientist\\nIndustry TypeIT Services & Consulting\\nFunctional AreaData Science & Analytics\\nEmployment TypeFull Time, Permanent\\nRole CategoryData Science & Machine Learning\\nEducation\\nUG :B.Sc in Any Specialization, BCA in Any Specialization, B.Tech/B.E. in Any Specialization\\nPG :Any Postgraduate\\nDoctorate :Doctorate Not Required\\nKey Skills\\nAirflowGitKMeansData ScientistXGBoostMySQLHadoopHDFSPostgresSQLRandom Forest',\n",
       " 'Job description\\nAs a data scientist, you need to be exceptionally driven, curious and creative. You will work with data scientists, engineers and product managers to create new ideas, formulate mathematical algorithms, design new machine learning models and develop prototype solutions to enhance capabilities of our products and satisfaction from our customers. You need to be an exceptional problem solver and have great communication skill.\\n\\nResponsibilities:\\n\\nWork on complex and extremely varied data sets\\nBuild algorithms based on telematics data and geographical information\\nBuild products\\nWork with the Data Engineering team to productionise and optimise the models\\nDesign, build, and deploy internal tools and processes to operationalise ML best practices within our productata tasks\\nSharpen our data science capacity by mentoring team members on building predictive models, experimental methodologies, and causal inference approaches\\nDevelop and foster collaborative relationships with product, business and engineering teams to effectively serve our customers needs.\\n\\nSpecifications:\\n\\nDegree or demonstrable experience in a quantitative field like statistics, physics, applied mathematics, operations research or engineering. Advanced degrees are preferred.\\nIndustry experience in data science, with statistics and machine learning responsibilities\\nExperience with a range of techniques from statistical modelling to deep learning, from linear models to neural networks\\nProficiency in Python and SQL\\nExperience developing and productionising models\\nExperience with ML frameworks such as TensorFlow, Keras, Spark, Theano etc\\nStrong background in Linear Algebra, Statistics and Mathematics\\nExperience working with public cloud, preferably AWS or Azure\\nExperience handling large datasets (>billions of rows)\\nExceptional communication skills and the ability to simplify complex engineering notions to non-technical audience\\nNatural problem solver with curiosity as a feature, not a bug\\nAbility to set expectations and confidently talk to AI hype versus reality\\nExperience working cross functionally with engineering and product teams in a collaborative environment\\n\\nBonus points:\\nExperience working with telematics data\\nExperience working on automotive use cases\\nKnowledge and understanding of geographical information systems and related data ecosystem\\nStream processing and real-time analytics\\n\\nRoleData Engineer\\nIndustry TypeSoftware Product\\nFunctional AreaEngineering - Software\\nEmployment TypeFull Time, Permanent\\nRole CategorySoftware Development\\nEducation\\nUG :B.Tech/B.E. in Any Specialization\\nKey Skills\\nData EngineeringMachine Learning\\nProblem SolvingCommunicationPython\\nSkills highlighted with ‘‘ are preferred keyskills',\n",
       " 'Job description\\nKwalee is one of the world\\'s leading multiplatform game publishers, with well over 600 million downloads worldwide for mobile hits such as Draw It, Teacher Simulator, Lets Be Cops 3D and Makeover Studio 3D. Alongside this, we also have a growing PC and console team of incredible pedigree that is on the hunt for great new titles to join TENS! and Eternal Hope.\\n\\nWith a team of talented people collaborating daily between our studios in Leamington Spa, Bangalore and Beijing, or on a remote basis from Turkey, Brazil, the Philippines and many more, we have a truly global team making games for a global audience. And its paying off: Kwalee games have been downloaded in every country on earth! If you think you\\'re a good fit for one of our remote vacancies, we want to hear from you wherever you are based.\\n\\nFounded in 2011 by David Darling CBE, a key architect of the UK games industry who previously co-founded and led Codemasters for many years, our team also includes legends such as Andrew Graham (creator of Micro Machines series) and Jason Falcus (programmer of classics including NBA Jam) alongside a growing and diverse team of global gaming experts. Everyone contributes creatively to Kwalees success, with all employees eligible to pitch their own game ideas on Creative Wednesdays, and we’re proud to have built our success on this inclusive principle. Could your idea be the next global hit?\\n\\nAs a Senior Data Scientist you will help utilise masses of data generated by Kwalee players all over the world to solve complex problems using cutting edge techniques.\\nYou\\'ll be part of a team that will be based in the new office that we\\'re going to open in Bangalore.\\nWhat you tell your friends you do\\n\"My models optimise the performance of Kwalee games and advertising every day!”\\n\\nWhat you will really be doing\\nBuild data solutions to solve business problems\\nUse statistical testing and predictive modelling to recommend and implement changes to marketing strategy along with in game features and design\\nLeverage the huge amount of data generated by our players and advertising campaigns everyday to build models and iterate existing services to improve and automate decision making across the company\\nWork with the marketing, publishing and development teams to understand the problems they are facing and how to solve them\\n\\nHow you will be doing this\\nYou’ll be part of an agile, multidisciplinary and creative team and work closely with them to ensure the best results.\\nYou\\'ll think creatively and be motivated by challenges and constantly striving for the best.\\nYou’ll work with cutting edge technology, if you need software or hardware to get the job done efficiently, you can get it. We even have a robot!\\n\\nTeam\\nOur talented team is our signature. We have a highly creative atmosphere with more than 150 staff where you’ll have the opportunity to contribute daily to important decisions. You’ll work within an extremely experienced, passionate and diverse team, including David Darling and the creator of the Micro Machines video games.\\n\\nSkills and requirements\\nA degree in a numerically focussed degree discipline such as, Maths, Physics, Economics, Chemistry, Engineering, Biological Sciences\\n5+Years experience using Python for data analysis and visualisation and using libraries such as Tensorflow, Keras and Scikit-Learn\\nA proven track record of solving problems with data\\nKnowledge of NoSQL or SQL databases like Couchbase, Elasticsearch and PostgreSQL\\nAn avid interest in the development, marketing and monetisation of mobile games\\n\\nDesirable\\nExperience with AWS - Redshift, EC2, Lambda\\nExperience managing data projects from prototype to production tools\\n\\nWe offer\\nWe want everyone involved in our games to share our success, that’s why we have a generous team profit sharing scheme from day 1 of employment\\nIn addition to a competitive salary we also offer private medical cover and life assurance\\nCreative Wednesdays! (Design and make your own games every Wednesday)\\n20 days of paid holidays plus bank holidays\\nGreat work-life balance with flexible working hours\\nQuarterly team building days - work hard, play hard!\\nMonthly employee awards\\nFree snacks, fruit and drinks\\n\\nOur philosophy\\nWe firmly believe in creativity and innovation and that a fundamental requirement for a successful and happy company is having the right mix of individuals. With the right people in the right environment anything and everything is possible.\\nRoleData Science & Analytics - Other\\nIndustry TypeAnimation & VFX\\nFunctional AreaData Science & Analytics\\nEmployment TypeFull Time, Permanent\\nRole CategoryData Science & Analytics - Other\\nEducation\\nUG :Any Graduate\\nKey Skills\\nTensorflowPredictive ModelingData ManagementScikit-LearnPhysicsSQLNoSQLAws LambdaAmazon RedshiftEc2Data AnalysisKerasPython',\n",
       " 'Job description\\n  Understand business problems and develop end-to-end data science use cases\\nCollaborate across the function to understand data and to find ways to visualize and communicate your work to both technical and non-technical audiences.\\nEvolve best data operational practices and maintain all compliance requirements\\nMonitor data science models in production\\nActively network on a regular basis with SME to better understand the business/technical mechanics that generated the data\\nPromote collaboration and knowledge exchange with other data science teams within and outside the organization\\nDevelop processes and tools to monitor and analyze model performance and data accuracy\\nOne or more scientific programming languages such as R, Python, or Julia,\\nOne or more database query languages such as SQL, or HiveQL,\\nOne or more general-purpose scripting languages such as Bash, PowerShell, or Perlrovide the total years of experience and the relevant experience required in the relevant field for this position\\nSkills\\nTechnical / Functional Skills\\nBehavioural Skills\\nSoft Skills\\nLeadership Skills\\nRoleClinical research Scientist\\nIndustry TypeMedical Services / Hospital\\nFunctional AreaResearch & Development\\nEmployment TypeFull Time, Permanent\\nRole CategoryPharmaceutical & Biotechnology\\nEducation\\nUG :Any Graduate\\nPG :Any Postgraduate\\nKey Skills\\nCloud computingData analysisdata scienceAnalyticalHealthcareProduction ManagerOperationsAnalyticsSQLPython']"
      ]
     },
     "execution_count": 204,
     "metadata": {},
     "output_type": "execute_result"
    }
   ],
   "source": [
    "job_description"
   ]
  },
  {
   "cell_type": "code",
   "execution_count": 206,
   "metadata": {},
   "outputs": [
    {
     "data": {
      "text/html": [
       "<div>\n",
       "<style scoped>\n",
       "    .dataframe tbody tr th:only-of-type {\n",
       "        vertical-align: middle;\n",
       "    }\n",
       "\n",
       "    .dataframe tbody tr th {\n",
       "        vertical-align: top;\n",
       "    }\n",
       "\n",
       "    .dataframe thead th {\n",
       "        text-align: right;\n",
       "    }\n",
       "</style>\n",
       "<table border=\"1\" class=\"dataframe\">\n",
       "  <thead>\n",
       "    <tr style=\"text-align: right;\">\n",
       "      <th></th>\n",
       "      <th>job_titles2</th>\n",
       "      <th>job_location2</th>\n",
       "      <th>company_name2</th>\n",
       "      <th>job_description</th>\n",
       "    </tr>\n",
       "    <tr>\n",
       "      <th>Sr.No</th>\n",
       "      <th></th>\n",
       "      <th></th>\n",
       "      <th></th>\n",
       "      <th></th>\n",
       "    </tr>\n",
       "  </thead>\n",
       "  <tbody>\n",
       "    <tr>\n",
       "      <th>0</th>\n",
       "      <td>Lead Data Scientist</td>\n",
       "      <td>Bangalore/Bengaluru</td>\n",
       "      <td>Huawei Technologies</td>\n",
       "      <td>Job description\\nWe are looking for a Lead dat...</td>\n",
       "    </tr>\n",
       "    <tr>\n",
       "      <th>1</th>\n",
       "      <td>Data Scientist / AI / ML Engineer</td>\n",
       "      <td>Bangalore/Bengaluru</td>\n",
       "      <td>Hitachi Ltd.</td>\n",
       "      <td>Job description\\nDuties and Responsibilities\\n...</td>\n",
       "    </tr>\n",
       "    <tr>\n",
       "      <th>2</th>\n",
       "      <td>Senior Data Scientist</td>\n",
       "      <td>Noida, Bangalore/Bengaluru</td>\n",
       "      <td>InnovAccer</td>\n",
       "      <td>Job description\\n  A day in the life at Innova...</td>\n",
       "    </tr>\n",
       "    <tr>\n",
       "      <th>3</th>\n",
       "      <td>Senior Data Scientist</td>\n",
       "      <td>Bangalore/Bengaluru</td>\n",
       "      <td>GO-JEK India</td>\n",
       "      <td>Job description\\nWhat You Will Do\\nWork with D...</td>\n",
       "    </tr>\n",
       "    <tr>\n",
       "      <th>4</th>\n",
       "      <td>Senior Data Scientist</td>\n",
       "      <td>Bangalore/Bengaluru(Sadashiva Nagar)\\n(WFH dur...</td>\n",
       "      <td>Convergence Infotech Ltd</td>\n",
       "      <td>Job description\\nRoles and Responsibilities\\nP...</td>\n",
       "    </tr>\n",
       "    <tr>\n",
       "      <th>5</th>\n",
       "      <td>Senior Data Scientist, NLP</td>\n",
       "      <td>Bangalore/Bengaluru</td>\n",
       "      <td>Thomson Reuters</td>\n",
       "      <td>Job description\\nSenior Data Scientist, NLP\\nA...</td>\n",
       "    </tr>\n",
       "    <tr>\n",
       "      <th>6</th>\n",
       "      <td>Data Scientist/Senior Data Scientist - IT Serv...</td>\n",
       "      <td>Hyderabad/Secunderabad, Pune, Gurgaon/Gurugram...</td>\n",
       "      <td>Pylon Management Consulting Pvt Ltd</td>\n",
       "      <td>Job description\\nResponsibilities :\\n\\n- Analy...</td>\n",
       "    </tr>\n",
       "    <tr>\n",
       "      <th>7</th>\n",
       "      <td>Data Scientist</td>\n",
       "      <td>Bangalore/Bengaluru(Whitefield)\\n(WFH during C...</td>\n",
       "      <td>BRIDGETREE RESEARCH SERVICES PRIVATE LIMITED</td>\n",
       "      <td>Job description\\nWe are seeking a Data Scienti...</td>\n",
       "    </tr>\n",
       "    <tr>\n",
       "      <th>8</th>\n",
       "      <td>Data Scientist</td>\n",
       "      <td>Bangalore/Bengaluru</td>\n",
       "      <td>Staffio HR</td>\n",
       "      <td>Job description\\n  Prior experience of working...</td>\n",
       "    </tr>\n",
       "    <tr>\n",
       "      <th>9</th>\n",
       "      <td>Data Scientist</td>\n",
       "      <td>Bangalore/Bengaluru</td>\n",
       "      <td>Flipkart Internet Private Limited</td>\n",
       "      <td>Job description\\nAbout the role\\nA Data Scient...</td>\n",
       "    </tr>\n",
       "  </tbody>\n",
       "</table>\n",
       "</div>"
      ],
      "text/plain": [
       "                                             job_titles2  \\\n",
       "Sr.No                                                      \n",
       "0                                    Lead Data Scientist   \n",
       "1                      Data Scientist / AI / ML Engineer   \n",
       "2                                  Senior Data Scientist   \n",
       "3                                  Senior Data Scientist   \n",
       "4                                  Senior Data Scientist   \n",
       "5                             Senior Data Scientist, NLP   \n",
       "6      Data Scientist/Senior Data Scientist - IT Serv...   \n",
       "7                                         Data Scientist   \n",
       "8                                         Data Scientist   \n",
       "9                                         Data Scientist   \n",
       "\n",
       "                                           job_location2  \\\n",
       "Sr.No                                                      \n",
       "0                                    Bangalore/Bengaluru   \n",
       "1                                    Bangalore/Bengaluru   \n",
       "2                             Noida, Bangalore/Bengaluru   \n",
       "3                                    Bangalore/Bengaluru   \n",
       "4      Bangalore/Bengaluru(Sadashiva Nagar)\\n(WFH dur...   \n",
       "5                                    Bangalore/Bengaluru   \n",
       "6      Hyderabad/Secunderabad, Pune, Gurgaon/Gurugram...   \n",
       "7      Bangalore/Bengaluru(Whitefield)\\n(WFH during C...   \n",
       "8                                    Bangalore/Bengaluru   \n",
       "9                                    Bangalore/Bengaluru   \n",
       "\n",
       "                                      company_name2  \\\n",
       "Sr.No                                                 \n",
       "0                               Huawei Technologies   \n",
       "1                                      Hitachi Ltd.   \n",
       "2                                        InnovAccer   \n",
       "3                                      GO-JEK India   \n",
       "4                          Convergence Infotech Ltd   \n",
       "5                                   Thomson Reuters   \n",
       "6               Pylon Management Consulting Pvt Ltd   \n",
       "7      BRIDGETREE RESEARCH SERVICES PRIVATE LIMITED   \n",
       "8                                        Staffio HR   \n",
       "9                 Flipkart Internet Private Limited   \n",
       "\n",
       "                                         job_description  \n",
       "Sr.No                                                     \n",
       "0      Job description\\nWe are looking for a Lead dat...  \n",
       "1      Job description\\nDuties and Responsibilities\\n...  \n",
       "2      Job description\\n  A day in the life at Innova...  \n",
       "3      Job description\\nWhat You Will Do\\nWork with D...  \n",
       "4      Job description\\nRoles and Responsibilities\\nP...  \n",
       "5      Job description\\nSenior Data Scientist, NLP\\nA...  \n",
       "6      Job description\\nResponsibilities :\\n\\n- Analy...  \n",
       "7      Job description\\nWe are seeking a Data Scienti...  \n",
       "8      Job description\\n  Prior experience of working...  \n",
       "9      Job description\\nAbout the role\\nA Data Scient...  "
      ]
     },
     "execution_count": 206,
     "metadata": {},
     "output_type": "execute_result"
    }
   ],
   "source": [
    "Job_details2=pd.DataFrame({})\n",
    "Job_details2[\"job_titles2\"]=job_titles2[0:10]\n",
    "Job_details2[\"job_location2\"]=job_location2[0:10]\n",
    "Job_details2[\"company_name2\"]=company_name2[0:10]\n",
    "Job_details2[\"job_description\"]=job_description[0:10]\n",
    "Job_details2.index.set_names(\"Sr.No\",inplace=True)\n",
    "Job_details2"
   ]
  },
  {
   "cell_type": "markdown",
   "metadata": {},
   "source": [
    "Q3: In this question you have to scrape data using the filters available on the\n",
    "webpage as shown below:\n",
    "#use location and salary filter for data scientist jobs"
   ]
  },
  {
   "cell_type": "code",
   "execution_count": 233,
   "metadata": {},
   "outputs": [],
   "source": [
    "import selenium\n",
    "import pandas as pd\n",
    "from selenium import webdriver"
   ]
  },
  {
   "cell_type": "code",
   "execution_count": 234,
   "metadata": {},
   "outputs": [],
   "source": [
    "driver3=webdriver.Chrome(\"chromedriver.exe\")"
   ]
  },
  {
   "cell_type": "code",
   "execution_count": 235,
   "metadata": {},
   "outputs": [],
   "source": [
    "url=(\"https://www.naukri.com/\")"
   ]
  },
  {
   "cell_type": "code",
   "execution_count": 236,
   "metadata": {},
   "outputs": [],
   "source": [
    "driver3.get(url)"
   ]
  },
  {
   "cell_type": "code",
   "execution_count": 238,
   "metadata": {},
   "outputs": [
    {
     "data": {
      "text/plain": [
       "<selenium.webdriver.remote.webelement.WebElement (session=\"0894af1361175ec5c8eb9e7d4da50eba\", element=\"66cd56f7-c8a8-4a47-a560-5d7953c21b79\")>"
      ]
     },
     "execution_count": 238,
     "metadata": {},
     "output_type": "execute_result"
    }
   ],
   "source": [
    "search_job3=driver3.find_element_by_id(\"qsb-keyword-sugg\")\n",
    "search_job3"
   ]
  },
  {
   "cell_type": "code",
   "execution_count": 239,
   "metadata": {},
   "outputs": [],
   "source": [
    "search_job3.send_keys(\"Data Scientist\")"
   ]
  },
  {
   "cell_type": "code",
   "execution_count": 242,
   "metadata": {
    "collapsed": true
   },
   "outputs": [
    {
     "data": {
      "text/plain": [
       "<selenium.webdriver.remote.webelement.WebElement (session=\"0894af1361175ec5c8eb9e7d4da50eba\", element=\"6c1e4963-2d63-4809-bd52-bc2e6ebb5a18\")>"
      ]
     },
     "execution_count": 242,
     "metadata": {},
     "output_type": "execute_result"
    }
   ],
   "source": [
    "search_button3=driver3.find_element_by_xpath(\"//button[@class='btn']\")\n",
    "search_button3"
   ]
  },
  {
   "cell_type": "code",
   "execution_count": 243,
   "metadata": {},
   "outputs": [],
   "source": [
    "search_button3.click()"
   ]
  },
  {
   "cell_type": "code",
   "execution_count": 244,
   "metadata": {},
   "outputs": [],
   "source": [
    "#using filter for location and salary\n",
    "location3=driver3.find_element_by_xpath(\"//span[@title='Delhi / NCR']\")\n",
    "location3\n",
    "location3.click()"
   ]
  },
  {
   "cell_type": "code",
   "execution_count": 247,
   "metadata": {},
   "outputs": [],
   "source": [
    "salary=driver3.find_element_by_xpath(\"//span[@title='3-6 Lakhs']\")\n",
    "salary\n",
    "salary.click()"
   ]
  },
  {
   "cell_type": "code",
   "execution_count": 226,
   "metadata": {},
   "outputs": [],
   "source": [
    "#now scrap job title,location,company name and experience required"
   ]
  },
  {
   "cell_type": "code",
   "execution_count": 251,
   "metadata": {
    "collapsed": true
   },
   "outputs": [
    {
     "data": {
      "text/plain": [
       "[<selenium.webdriver.remote.webelement.WebElement (session=\"0894af1361175ec5c8eb9e7d4da50eba\", element=\"4420a13f-4e95-4ca3-ab9c-71adff9b7ffd\")>,\n",
       " <selenium.webdriver.remote.webelement.WebElement (session=\"0894af1361175ec5c8eb9e7d4da50eba\", element=\"e13d470e-e38a-4896-b3b3-7e0020d14b7d\")>,\n",
       " <selenium.webdriver.remote.webelement.WebElement (session=\"0894af1361175ec5c8eb9e7d4da50eba\", element=\"3b44e047-37b4-4019-b61f-09a1dfd1aa04\")>,\n",
       " <selenium.webdriver.remote.webelement.WebElement (session=\"0894af1361175ec5c8eb9e7d4da50eba\", element=\"e51a2283-2748-4bf8-a07c-a04b7fb03b14\")>,\n",
       " <selenium.webdriver.remote.webelement.WebElement (session=\"0894af1361175ec5c8eb9e7d4da50eba\", element=\"cc158188-23f8-42c9-b02c-782c3eef5997\")>,\n",
       " <selenium.webdriver.remote.webelement.WebElement (session=\"0894af1361175ec5c8eb9e7d4da50eba\", element=\"a564b12b-2955-4d02-bdc2-7ca973acb8d3\")>,\n",
       " <selenium.webdriver.remote.webelement.WebElement (session=\"0894af1361175ec5c8eb9e7d4da50eba\", element=\"2ca402d7-9515-4d3a-bf3b-eb4dfdd6c230\")>,\n",
       " <selenium.webdriver.remote.webelement.WebElement (session=\"0894af1361175ec5c8eb9e7d4da50eba\", element=\"2e245afb-7c81-436a-9e25-7485ed135cb8\")>,\n",
       " <selenium.webdriver.remote.webelement.WebElement (session=\"0894af1361175ec5c8eb9e7d4da50eba\", element=\"15d8dc1d-fa1f-408e-a251-fca85b7bed9d\")>,\n",
       " <selenium.webdriver.remote.webelement.WebElement (session=\"0894af1361175ec5c8eb9e7d4da50eba\", element=\"3a336aed-a042-465e-b242-2dff0b0c0004\")>,\n",
       " <selenium.webdriver.remote.webelement.WebElement (session=\"0894af1361175ec5c8eb9e7d4da50eba\", element=\"96e2b4dc-0945-45fc-b764-ccd080cdee67\")>,\n",
       " <selenium.webdriver.remote.webelement.WebElement (session=\"0894af1361175ec5c8eb9e7d4da50eba\", element=\"ac95d7f9-6804-47b0-86a7-6fe4de4c3af2\")>,\n",
       " <selenium.webdriver.remote.webelement.WebElement (session=\"0894af1361175ec5c8eb9e7d4da50eba\", element=\"736989db-f601-4ee8-859c-032ee1b0cfa5\")>,\n",
       " <selenium.webdriver.remote.webelement.WebElement (session=\"0894af1361175ec5c8eb9e7d4da50eba\", element=\"a9248109-35a5-4bb4-b77b-7fb4cba17d14\")>,\n",
       " <selenium.webdriver.remote.webelement.WebElement (session=\"0894af1361175ec5c8eb9e7d4da50eba\", element=\"8e04c5a3-d2e9-405e-8dd7-523fe3b2b00f\")>,\n",
       " <selenium.webdriver.remote.webelement.WebElement (session=\"0894af1361175ec5c8eb9e7d4da50eba\", element=\"7d208a80-f8d9-43a5-9b2b-72ea02c64686\")>,\n",
       " <selenium.webdriver.remote.webelement.WebElement (session=\"0894af1361175ec5c8eb9e7d4da50eba\", element=\"b047296c-ca26-4d21-bb55-44b4ecb19484\")>,\n",
       " <selenium.webdriver.remote.webelement.WebElement (session=\"0894af1361175ec5c8eb9e7d4da50eba\", element=\"80fef041-4799-4e9f-bf24-3e23143f5848\")>,\n",
       " <selenium.webdriver.remote.webelement.WebElement (session=\"0894af1361175ec5c8eb9e7d4da50eba\", element=\"a58c7b65-9b61-40ce-9cf9-3160a23fd208\")>,\n",
       " <selenium.webdriver.remote.webelement.WebElement (session=\"0894af1361175ec5c8eb9e7d4da50eba\", element=\"f5327e9d-9f5c-4af6-852e-9e744831bd1e\")>]"
      ]
     },
     "execution_count": 251,
     "metadata": {},
     "output_type": "execute_result"
    }
   ],
   "source": [
    "#job_titles\n",
    "job3=driver3.find_elements_by_xpath(\"//a[@class='title fw500 ellipsis']\")\n",
    "job3"
   ]
  },
  {
   "cell_type": "code",
   "execution_count": 253,
   "metadata": {
    "collapsed": true
   },
   "outputs": [
    {
     "data": {
      "text/plain": [
       "['Job Opportunity || Data Scientist || HCL Technologies',\n",
       " 'Associate Data Scientist',\n",
       " 'Data Scientist I/II/III',\n",
       " 'Academic Counsellor - Data Scientist',\n",
       " 'Data Scientist',\n",
       " 'Data Scientist',\n",
       " 'Data Scientist',\n",
       " 'Data Scientist',\n",
       " 'Data Scientist Internship',\n",
       " 'Data Scientist',\n",
       " 'Data Scientist',\n",
       " 'Data Scientist / Data Analyst / Business Analytics - MNC Jobs Freshers',\n",
       " 'Data Scientist - Insights For Delhi (SQL needed)',\n",
       " 'Senior Data Scientist',\n",
       " 'Data Scientist',\n",
       " 'Data Scientist',\n",
       " 'Data Scientist',\n",
       " 'Data Scientist',\n",
       " 'Associate Data Scientist',\n",
       " 'Associate Data Scientist']"
      ]
     },
     "execution_count": 253,
     "metadata": {},
     "output_type": "execute_result"
    }
   ],
   "source": [
    "#extract job_titles\n",
    "job_titles3=[]\n",
    "for i in job3:\n",
    "    job_titles3.append(i.text)\n",
    "job_titles3"
   ]
  },
  {
   "cell_type": "code",
   "execution_count": 254,
   "metadata": {
    "collapsed": true
   },
   "outputs": [
    {
     "data": {
      "text/plain": [
       "[<selenium.webdriver.remote.webelement.WebElement (session=\"0894af1361175ec5c8eb9e7d4da50eba\", element=\"4df9c721-53d1-4f3d-9889-aaaf4c056ef1\")>,\n",
       " <selenium.webdriver.remote.webelement.WebElement (session=\"0894af1361175ec5c8eb9e7d4da50eba\", element=\"33c459a8-35cf-43cd-80ee-a48088fe3ef5\")>,\n",
       " <selenium.webdriver.remote.webelement.WebElement (session=\"0894af1361175ec5c8eb9e7d4da50eba\", element=\"57f7aaab-d6ee-4c62-b88a-d0beef94e1e7\")>,\n",
       " <selenium.webdriver.remote.webelement.WebElement (session=\"0894af1361175ec5c8eb9e7d4da50eba\", element=\"a8e0d854-f116-4759-bb6e-9da9b6b5f111\")>,\n",
       " <selenium.webdriver.remote.webelement.WebElement (session=\"0894af1361175ec5c8eb9e7d4da50eba\", element=\"b8b1dd29-5c72-42a5-8fb3-1838ea971ce3\")>,\n",
       " <selenium.webdriver.remote.webelement.WebElement (session=\"0894af1361175ec5c8eb9e7d4da50eba\", element=\"2fc30521-8e47-4b79-a085-a1d5ac71a992\")>,\n",
       " <selenium.webdriver.remote.webelement.WebElement (session=\"0894af1361175ec5c8eb9e7d4da50eba\", element=\"dcb41fae-1731-4d9b-8dd7-456d9bf3e3da\")>,\n",
       " <selenium.webdriver.remote.webelement.WebElement (session=\"0894af1361175ec5c8eb9e7d4da50eba\", element=\"5503ab71-5fc4-49b5-a446-22c16f1e7c44\")>,\n",
       " <selenium.webdriver.remote.webelement.WebElement (session=\"0894af1361175ec5c8eb9e7d4da50eba\", element=\"ad5210d0-a038-47bb-8e48-1607c55107c6\")>,\n",
       " <selenium.webdriver.remote.webelement.WebElement (session=\"0894af1361175ec5c8eb9e7d4da50eba\", element=\"8169a59e-b255-47d0-8060-5d807a3248dd\")>,\n",
       " <selenium.webdriver.remote.webelement.WebElement (session=\"0894af1361175ec5c8eb9e7d4da50eba\", element=\"39ec9abc-854f-4cc7-af05-2daad217e267\")>,\n",
       " <selenium.webdriver.remote.webelement.WebElement (session=\"0894af1361175ec5c8eb9e7d4da50eba\", element=\"7cb683b2-e396-425c-a47c-34e260b74ce4\")>,\n",
       " <selenium.webdriver.remote.webelement.WebElement (session=\"0894af1361175ec5c8eb9e7d4da50eba\", element=\"a284d75c-fbaa-4407-89f4-29f05c374155\")>,\n",
       " <selenium.webdriver.remote.webelement.WebElement (session=\"0894af1361175ec5c8eb9e7d4da50eba\", element=\"0adf927e-b21c-474f-83ea-5d3e11828e82\")>,\n",
       " <selenium.webdriver.remote.webelement.WebElement (session=\"0894af1361175ec5c8eb9e7d4da50eba\", element=\"d0c4bb93-610f-477a-8bca-a4f688f064a7\")>,\n",
       " <selenium.webdriver.remote.webelement.WebElement (session=\"0894af1361175ec5c8eb9e7d4da50eba\", element=\"e820a4d0-a855-4492-b1f3-008c268ab8e5\")>,\n",
       " <selenium.webdriver.remote.webelement.WebElement (session=\"0894af1361175ec5c8eb9e7d4da50eba\", element=\"02178d24-2a13-4867-b6e0-236502d2fb93\")>,\n",
       " <selenium.webdriver.remote.webelement.WebElement (session=\"0894af1361175ec5c8eb9e7d4da50eba\", element=\"d2779fc9-57a2-470a-85e4-4e3b25bf5c08\")>,\n",
       " <selenium.webdriver.remote.webelement.WebElement (session=\"0894af1361175ec5c8eb9e7d4da50eba\", element=\"bcd32a19-5d59-4fef-bf58-860db0959d9b\")>,\n",
       " <selenium.webdriver.remote.webelement.WebElement (session=\"0894af1361175ec5c8eb9e7d4da50eba\", element=\"1edba1d1-9835-4b6b-baf9-c598b541751c\")>,\n",
       " <selenium.webdriver.remote.webelement.WebElement (session=\"0894af1361175ec5c8eb9e7d4da50eba\", element=\"38211253-3fb7-4b80-8226-eae516f39644\")>]"
      ]
     },
     "execution_count": 254,
     "metadata": {},
     "output_type": "execute_result"
    }
   ],
   "source": [
    "#location\n",
    "location3=driver3.find_elements_by_xpath(\"//li[@class='fleft grey-text br2 placeHolderLi location']/span\")\n",
    "location3"
   ]
  },
  {
   "cell_type": "code",
   "execution_count": 255,
   "metadata": {
    "collapsed": true
   },
   "outputs": [
    {
     "data": {
      "text/plain": [
       "['Delhi / NCR',\n",
       " 'Noida',\n",
       " 'Gurgaon/Gurugram',\n",
       " 'Gurgaon/Gurugram, Bangalore/Bengaluru',\n",
       " 'Mumbai, Delhi / NCR',\n",
       " 'Noida, Gurgaon/Gurugram',\n",
       " 'Gurgaon/Gurugram',\n",
       " 'Mumbai, Gurgaon/Gurugram, Bangalore/Bengaluru',\n",
       " 'New Delhi',\n",
       " 'Gurgaon/Gurugram',\n",
       " 'Bharuch, Jaipur, Bhopal, Mumbai, Jhansi, Nagpur, Ghaziabad, Jaunpur, Kanpur, Delhi, Lucknow, Agra, Gurgaon, Rajkot, Bengaluru',\n",
       " 'Ghaziabad, Faridabad, Delhi / NCR',\n",
       " 'Delhi / NCR(Sarita Vihar)',\n",
       " '(WFH during Covid)',\n",
       " 'Delhi',\n",
       " 'Delhi',\n",
       " 'Gurgaon, Bengaluru',\n",
       " 'Delhi',\n",
       " 'Delhi',\n",
       " 'Noida',\n",
       " 'Delhi']"
      ]
     },
     "execution_count": 255,
     "metadata": {},
     "output_type": "execute_result"
    }
   ],
   "source": [
    "#extract job location\n",
    "job_location3=[]\n",
    "for i in location3:\n",
    "    job_location3.append(i.text)\n",
    "job_location3"
   ]
  },
  {
   "cell_type": "code",
   "execution_count": 257,
   "metadata": {
    "collapsed": true
   },
   "outputs": [
    {
     "data": {
      "text/plain": [
       "[<selenium.webdriver.remote.webelement.WebElement (session=\"0894af1361175ec5c8eb9e7d4da50eba\", element=\"18289208-f376-45ed-a200-77a6eec0d85e\")>,\n",
       " <selenium.webdriver.remote.webelement.WebElement (session=\"0894af1361175ec5c8eb9e7d4da50eba\", element=\"76322f4a-3144-4b9b-a7ff-131affc4c08d\")>,\n",
       " <selenium.webdriver.remote.webelement.WebElement (session=\"0894af1361175ec5c8eb9e7d4da50eba\", element=\"94f44ed5-b3d8-497f-91f1-e0cd6c651c7f\")>,\n",
       " <selenium.webdriver.remote.webelement.WebElement (session=\"0894af1361175ec5c8eb9e7d4da50eba\", element=\"bb90970d-7779-4d4f-8693-1d8fedaf8504\")>,\n",
       " <selenium.webdriver.remote.webelement.WebElement (session=\"0894af1361175ec5c8eb9e7d4da50eba\", element=\"ae7948a1-7604-4f9b-9c4e-46704ada0bc8\")>,\n",
       " <selenium.webdriver.remote.webelement.WebElement (session=\"0894af1361175ec5c8eb9e7d4da50eba\", element=\"af6f9e3c-3fef-4fdb-a5f1-74f6716ae957\")>,\n",
       " <selenium.webdriver.remote.webelement.WebElement (session=\"0894af1361175ec5c8eb9e7d4da50eba\", element=\"5e6b11fe-cc3a-4016-bacf-1baed9fc98cd\")>,\n",
       " <selenium.webdriver.remote.webelement.WebElement (session=\"0894af1361175ec5c8eb9e7d4da50eba\", element=\"84a091c5-5bf2-478e-b4d5-dfcdaab49103\")>,\n",
       " <selenium.webdriver.remote.webelement.WebElement (session=\"0894af1361175ec5c8eb9e7d4da50eba\", element=\"64a7b312-b72f-43c3-b707-eab56070da4f\")>,\n",
       " <selenium.webdriver.remote.webelement.WebElement (session=\"0894af1361175ec5c8eb9e7d4da50eba\", element=\"f008edb2-4cf0-4356-84fb-ac72375c1e7a\")>,\n",
       " <selenium.webdriver.remote.webelement.WebElement (session=\"0894af1361175ec5c8eb9e7d4da50eba\", element=\"c1b93617-04d3-4516-8854-27d7238b6414\")>,\n",
       " <selenium.webdriver.remote.webelement.WebElement (session=\"0894af1361175ec5c8eb9e7d4da50eba\", element=\"0ca3808e-6d6a-4317-be68-0855f9207710\")>,\n",
       " <selenium.webdriver.remote.webelement.WebElement (session=\"0894af1361175ec5c8eb9e7d4da50eba\", element=\"abd25e00-919f-40e4-b3bd-3e6a428de873\")>,\n",
       " <selenium.webdriver.remote.webelement.WebElement (session=\"0894af1361175ec5c8eb9e7d4da50eba\", element=\"3a5c7294-0ff7-40f3-920f-4d7bbe679473\")>,\n",
       " <selenium.webdriver.remote.webelement.WebElement (session=\"0894af1361175ec5c8eb9e7d4da50eba\", element=\"ee6c2f0f-f0f8-4cd6-ac08-a0e2f7caf329\")>,\n",
       " <selenium.webdriver.remote.webelement.WebElement (session=\"0894af1361175ec5c8eb9e7d4da50eba\", element=\"a4c719e8-b949-41a5-b49b-81a7ed63b415\")>,\n",
       " <selenium.webdriver.remote.webelement.WebElement (session=\"0894af1361175ec5c8eb9e7d4da50eba\", element=\"54c43558-7f7d-4304-9fae-c43661235ad4\")>,\n",
       " <selenium.webdriver.remote.webelement.WebElement (session=\"0894af1361175ec5c8eb9e7d4da50eba\", element=\"410a050c-d40d-49ec-a6a3-b00e40641271\")>,\n",
       " <selenium.webdriver.remote.webelement.WebElement (session=\"0894af1361175ec5c8eb9e7d4da50eba\", element=\"d72c98c8-c6a1-4a93-8aab-26f3d7dc4c3d\")>,\n",
       " <selenium.webdriver.remote.webelement.WebElement (session=\"0894af1361175ec5c8eb9e7d4da50eba\", element=\"60b5484a-88aa-4c55-b40f-b502ded4a7ac\")>]"
      ]
     },
     "execution_count": 257,
     "metadata": {},
     "output_type": "execute_result"
    }
   ],
   "source": [
    "#company name\n",
    "name3=driver3.find_elements_by_xpath(\"//a[@class='subTitle ellipsis fleft']\")\n",
    "name3"
   ]
  },
  {
   "cell_type": "code",
   "execution_count": 262,
   "metadata": {
    "collapsed": true
   },
   "outputs": [
    {
     "data": {
      "text/plain": [
       "['HCL Technologies',\n",
       " 'Optum Global Solutions (India) Private Limited',\n",
       " 'OLX India Pvt Ltd',\n",
       " 'GreatLearning',\n",
       " 'lericon infomatics pvt.ltd',\n",
       " 'Optum Global Solutions (India) Private Limited',\n",
       " 'Milliman India Pvt Ltd',\n",
       " 'Fractal Analytics',\n",
       " 'iHackers Inc',\n",
       " 'NatWest Group',\n",
       " 'Country Veggie',\n",
       " 'GABA Consultancy services',\n",
       " 'CAASTLE TECHNOLOGY AND SERVICES INDIA PVT. LTD.',\n",
       " 'iNICU',\n",
       " 'Sentieo',\n",
       " 'BlackBuck',\n",
       " 'Mahajan Imaging',\n",
       " 'Mahajan Imaging',\n",
       " 'Right Step Consulting',\n",
       " 'Blow Trumpet Solutions']"
      ]
     },
     "execution_count": 262,
     "metadata": {},
     "output_type": "execute_result"
    }
   ],
   "source": [
    "company_name3=[]\n",
    "for i in name3:\n",
    "    company_name3.append(i.text)\n",
    "company_name3"
   ]
  },
  {
   "cell_type": "code",
   "execution_count": 263,
   "metadata": {
    "collapsed": true
   },
   "outputs": [
    {
     "data": {
      "text/plain": [
       "[<selenium.webdriver.remote.webelement.WebElement (session=\"0894af1361175ec5c8eb9e7d4da50eba\", element=\"f3454629-cb87-4901-88c1-2d19abad7184\")>,\n",
       " <selenium.webdriver.remote.webelement.WebElement (session=\"0894af1361175ec5c8eb9e7d4da50eba\", element=\"391f7a0e-e745-49a7-a01c-c6995bbd7cf9\")>,\n",
       " <selenium.webdriver.remote.webelement.WebElement (session=\"0894af1361175ec5c8eb9e7d4da50eba\", element=\"a5482e5d-9db6-467c-9bd7-6ec6fc88cd7d\")>,\n",
       " <selenium.webdriver.remote.webelement.WebElement (session=\"0894af1361175ec5c8eb9e7d4da50eba\", element=\"91c2a503-5b39-43af-8ef8-8a6981a4f9c9\")>,\n",
       " <selenium.webdriver.remote.webelement.WebElement (session=\"0894af1361175ec5c8eb9e7d4da50eba\", element=\"e8c68b22-3ecb-4589-b466-557349a53a33\")>,\n",
       " <selenium.webdriver.remote.webelement.WebElement (session=\"0894af1361175ec5c8eb9e7d4da50eba\", element=\"e31407ce-71d1-46f9-8685-39c3c7a4853b\")>,\n",
       " <selenium.webdriver.remote.webelement.WebElement (session=\"0894af1361175ec5c8eb9e7d4da50eba\", element=\"9a42c22e-d516-439c-921a-ade169880196\")>,\n",
       " <selenium.webdriver.remote.webelement.WebElement (session=\"0894af1361175ec5c8eb9e7d4da50eba\", element=\"5182cc7c-e4b6-4ab1-b92a-3361b146052a\")>,\n",
       " <selenium.webdriver.remote.webelement.WebElement (session=\"0894af1361175ec5c8eb9e7d4da50eba\", element=\"646d9f1c-f885-446e-afe7-56ec091c1c41\")>,\n",
       " <selenium.webdriver.remote.webelement.WebElement (session=\"0894af1361175ec5c8eb9e7d4da50eba\", element=\"3d1c2793-e1ec-4a63-b771-39dfb3a17463\")>,\n",
       " <selenium.webdriver.remote.webelement.WebElement (session=\"0894af1361175ec5c8eb9e7d4da50eba\", element=\"165396d1-295d-4c96-a486-46c0968bb42e\")>,\n",
       " <selenium.webdriver.remote.webelement.WebElement (session=\"0894af1361175ec5c8eb9e7d4da50eba\", element=\"5eb40003-eaa5-46d2-8e0a-4f6ecb7ee57b\")>,\n",
       " <selenium.webdriver.remote.webelement.WebElement (session=\"0894af1361175ec5c8eb9e7d4da50eba\", element=\"14b06e51-e5f6-410f-bbf6-608b14e52489\")>,\n",
       " <selenium.webdriver.remote.webelement.WebElement (session=\"0894af1361175ec5c8eb9e7d4da50eba\", element=\"1e3de6d0-0290-4c67-9656-357cb1aa68b6\")>,\n",
       " <selenium.webdriver.remote.webelement.WebElement (session=\"0894af1361175ec5c8eb9e7d4da50eba\", element=\"7345ecae-f9d6-4b0e-bf42-0c70366e369d\")>,\n",
       " <selenium.webdriver.remote.webelement.WebElement (session=\"0894af1361175ec5c8eb9e7d4da50eba\", element=\"359d960d-3d58-45cc-a4e9-784c4e69d02a\")>,\n",
       " <selenium.webdriver.remote.webelement.WebElement (session=\"0894af1361175ec5c8eb9e7d4da50eba\", element=\"912159e1-8102-4a4f-9b4c-ac8056058b25\")>,\n",
       " <selenium.webdriver.remote.webelement.WebElement (session=\"0894af1361175ec5c8eb9e7d4da50eba\", element=\"ee858188-b4c9-4393-ba58-2c4dc1d5932e\")>,\n",
       " <selenium.webdriver.remote.webelement.WebElement (session=\"0894af1361175ec5c8eb9e7d4da50eba\", element=\"639f3087-949d-4fef-bbbd-5f555b3efd4c\")>,\n",
       " <selenium.webdriver.remote.webelement.WebElement (session=\"0894af1361175ec5c8eb9e7d4da50eba\", element=\"34cac0f9-2d21-4195-befc-1e50c125e675\")>]"
      ]
     },
     "execution_count": 263,
     "metadata": {},
     "output_type": "execute_result"
    }
   ],
   "source": [
    "#experience\n",
    "exp3=driver3.find_elements_by_xpath(\"//li[@class='fleft grey-text br2 placeHolderLi experience']/span\")\n",
    "exp3"
   ]
  },
  {
   "cell_type": "code",
   "execution_count": 264,
   "metadata": {
    "collapsed": true
   },
   "outputs": [
    {
     "data": {
      "text/plain": [
       "['4-7 Yrs',\n",
       " '2-7 Yrs',\n",
       " '3-6 Yrs',\n",
       " '1-4 Yrs',\n",
       " '3-5 Yrs',\n",
       " '2-6 Yrs',\n",
       " '2-5 Yrs',\n",
       " '3-7 Yrs',\n",
       " '0-1 Yrs',\n",
       " '2-7 Yrs',\n",
       " '1-3 Yrs',\n",
       " '0-0 Yrs',\n",
       " '2-5 Yrs',\n",
       " '1-5 Yrs',\n",
       " '2-7 Yrs',\n",
       " '3-7 Yrs',\n",
       " '2-6 Yrs',\n",
       " '2-6 Yrs',\n",
       " '3-6 Yrs',\n",
       " '1-5 Yrs']"
      ]
     },
     "execution_count": 264,
     "metadata": {},
     "output_type": "execute_result"
    }
   ],
   "source": [
    "experience_required3=[]\n",
    "for i in exp3:\n",
    "    experience_required3.append(i.text)\n",
    "experience_required3"
   ]
  },
  {
   "cell_type": "code",
   "execution_count": 265,
   "metadata": {},
   "outputs": [
    {
     "data": {
      "text/html": [
       "<div>\n",
       "<style scoped>\n",
       "    .dataframe tbody tr th:only-of-type {\n",
       "        vertical-align: middle;\n",
       "    }\n",
       "\n",
       "    .dataframe tbody tr th {\n",
       "        vertical-align: top;\n",
       "    }\n",
       "\n",
       "    .dataframe thead th {\n",
       "        text-align: right;\n",
       "    }\n",
       "</style>\n",
       "<table border=\"1\" class=\"dataframe\">\n",
       "  <thead>\n",
       "    <tr style=\"text-align: right;\">\n",
       "      <th></th>\n",
       "      <th>job_titles3</th>\n",
       "      <th>job_location3</th>\n",
       "      <th>company_name3</th>\n",
       "      <th>experience_required3</th>\n",
       "    </tr>\n",
       "    <tr>\n",
       "      <th>Sr.No</th>\n",
       "      <th></th>\n",
       "      <th></th>\n",
       "      <th></th>\n",
       "      <th></th>\n",
       "    </tr>\n",
       "  </thead>\n",
       "  <tbody>\n",
       "    <tr>\n",
       "      <th>0</th>\n",
       "      <td>Job Opportunity || Data Scientist || HCL Techn...</td>\n",
       "      <td>Delhi / NCR</td>\n",
       "      <td>HCL Technologies</td>\n",
       "      <td>4-7 Yrs</td>\n",
       "    </tr>\n",
       "    <tr>\n",
       "      <th>1</th>\n",
       "      <td>Associate Data Scientist</td>\n",
       "      <td>Noida</td>\n",
       "      <td>Optum Global Solutions (India) Private Limited</td>\n",
       "      <td>2-7 Yrs</td>\n",
       "    </tr>\n",
       "    <tr>\n",
       "      <th>2</th>\n",
       "      <td>Data Scientist I/II/III</td>\n",
       "      <td>Gurgaon/Gurugram</td>\n",
       "      <td>OLX India Pvt Ltd</td>\n",
       "      <td>3-6 Yrs</td>\n",
       "    </tr>\n",
       "    <tr>\n",
       "      <th>3</th>\n",
       "      <td>Academic Counsellor - Data Scientist</td>\n",
       "      <td>Gurgaon/Gurugram, Bangalore/Bengaluru</td>\n",
       "      <td>GreatLearning</td>\n",
       "      <td>1-4 Yrs</td>\n",
       "    </tr>\n",
       "    <tr>\n",
       "      <th>4</th>\n",
       "      <td>Data Scientist</td>\n",
       "      <td>Mumbai, Delhi / NCR</td>\n",
       "      <td>lericon infomatics pvt.ltd</td>\n",
       "      <td>3-5 Yrs</td>\n",
       "    </tr>\n",
       "    <tr>\n",
       "      <th>5</th>\n",
       "      <td>Data Scientist</td>\n",
       "      <td>Noida, Gurgaon/Gurugram</td>\n",
       "      <td>Optum Global Solutions (India) Private Limited</td>\n",
       "      <td>2-6 Yrs</td>\n",
       "    </tr>\n",
       "    <tr>\n",
       "      <th>6</th>\n",
       "      <td>Data Scientist</td>\n",
       "      <td>Gurgaon/Gurugram</td>\n",
       "      <td>Milliman India Pvt Ltd</td>\n",
       "      <td>2-5 Yrs</td>\n",
       "    </tr>\n",
       "    <tr>\n",
       "      <th>7</th>\n",
       "      <td>Data Scientist</td>\n",
       "      <td>Mumbai, Gurgaon/Gurugram, Bangalore/Bengaluru</td>\n",
       "      <td>Fractal Analytics</td>\n",
       "      <td>3-7 Yrs</td>\n",
       "    </tr>\n",
       "    <tr>\n",
       "      <th>8</th>\n",
       "      <td>Data Scientist Internship</td>\n",
       "      <td>New Delhi</td>\n",
       "      <td>iHackers Inc</td>\n",
       "      <td>0-1 Yrs</td>\n",
       "    </tr>\n",
       "    <tr>\n",
       "      <th>9</th>\n",
       "      <td>Data Scientist</td>\n",
       "      <td>Gurgaon/Gurugram</td>\n",
       "      <td>NatWest Group</td>\n",
       "      <td>2-7 Yrs</td>\n",
       "    </tr>\n",
       "  </tbody>\n",
       "</table>\n",
       "</div>"
      ],
      "text/plain": [
       "                                             job_titles3  \\\n",
       "Sr.No                                                      \n",
       "0      Job Opportunity || Data Scientist || HCL Techn...   \n",
       "1                               Associate Data Scientist   \n",
       "2                                Data Scientist I/II/III   \n",
       "3                   Academic Counsellor - Data Scientist   \n",
       "4                                         Data Scientist   \n",
       "5                                         Data Scientist   \n",
       "6                                         Data Scientist   \n",
       "7                                         Data Scientist   \n",
       "8                              Data Scientist Internship   \n",
       "9                                         Data Scientist   \n",
       "\n",
       "                                       job_location3  \\\n",
       "Sr.No                                                  \n",
       "0                                        Delhi / NCR   \n",
       "1                                              Noida   \n",
       "2                                   Gurgaon/Gurugram   \n",
       "3              Gurgaon/Gurugram, Bangalore/Bengaluru   \n",
       "4                                Mumbai, Delhi / NCR   \n",
       "5                            Noida, Gurgaon/Gurugram   \n",
       "6                                   Gurgaon/Gurugram   \n",
       "7      Mumbai, Gurgaon/Gurugram, Bangalore/Bengaluru   \n",
       "8                                          New Delhi   \n",
       "9                                   Gurgaon/Gurugram   \n",
       "\n",
       "                                        company_name3 experience_required3  \n",
       "Sr.No                                                                       \n",
       "0                                    HCL Technologies              4-7 Yrs  \n",
       "1      Optum Global Solutions (India) Private Limited              2-7 Yrs  \n",
       "2                                   OLX India Pvt Ltd              3-6 Yrs  \n",
       "3                                       GreatLearning              1-4 Yrs  \n",
       "4                          lericon infomatics pvt.ltd              3-5 Yrs  \n",
       "5      Optum Global Solutions (India) Private Limited              2-6 Yrs  \n",
       "6                              Milliman India Pvt Ltd              2-5 Yrs  \n",
       "7                                   Fractal Analytics              3-7 Yrs  \n",
       "8                                        iHackers Inc              0-1 Yrs  \n",
       "9                                       NatWest Group              2-7 Yrs  "
      ]
     },
     "execution_count": 265,
     "metadata": {},
     "output_type": "execute_result"
    }
   ],
   "source": [
    "Job_details3=pd.DataFrame({})\n",
    "Job_details3[\"job_titles3\"]=job_titles3[0:10]\n",
    "Job_details3[\"job_location3\"]=job_location3[0:10]\n",
    "Job_details3[\"company_name3\"]=company_name3[0:10]\n",
    "Job_details3[\"experience_required3\"]=experience_required3[0:10]\n",
    "Job_details3.index.set_names(\"Sr.No\",inplace=True)\n",
    "Job_details3"
   ]
  },
  {
   "cell_type": "markdown",
   "metadata": {},
   "source": [
    "Q4: Write a python program to scrape data for first 10 job results for Data scientist\n",
    "Designation in Noida location. You have to scrape company_name, No. of days\n",
    "ago when job was posted, Rating of the company"
   ]
  },
  {
   "cell_type": "code",
   "execution_count": 35,
   "metadata": {},
   "outputs": [],
   "source": [
    "import selenium\n",
    "import pandas as pd\n",
    "from selenium import webdriver\n",
    "from selenium.common.exceptions import NoSuchElementException\n"
   ]
  },
  {
   "cell_type": "code",
   "execution_count": 2,
   "metadata": {},
   "outputs": [],
   "source": [
    "driver4=webdriver.Chrome(\"chromedriver.exe\")"
   ]
  },
  {
   "cell_type": "code",
   "execution_count": 3,
   "metadata": {},
   "outputs": [],
   "source": [
    "url=\"https://www.glassdoor.co.in/Jobs/Glassdoor-Jobs-E100431.htm?filter.countryId=1\""
   ]
  },
  {
   "cell_type": "code",
   "execution_count": 4,
   "metadata": {},
   "outputs": [],
   "source": [
    "driver4.get(url)"
   ]
  },
  {
   "cell_type": "code",
   "execution_count": 5,
   "metadata": {
    "collapsed": true
   },
   "outputs": [
    {
     "data": {
      "text/plain": [
       "<selenium.webdriver.remote.webelement.WebElement (session=\"2632830d9cfa3c910ddf1507e24ee478\", element=\"5b48cd6e-400c-45d2-9a99-a591d35e4034\")>"
      ]
     },
     "execution_count": 5,
     "metadata": {},
     "output_type": "execute_result"
    }
   ],
   "source": [
    "search_job4=driver4.find_element_by_id(\"sc.keyword\")\n",
    "search_job4"
   ]
  },
  {
   "cell_type": "code",
   "execution_count": 7,
   "metadata": {},
   "outputs": [],
   "source": [
    "search_job4.clear()"
   ]
  },
  {
   "cell_type": "code",
   "execution_count": 8,
   "metadata": {},
   "outputs": [],
   "source": [
    "search_job4.send_keys(\"Data Scientist\")"
   ]
  },
  {
   "cell_type": "code",
   "execution_count": 9,
   "metadata": {
    "collapsed": true
   },
   "outputs": [
    {
     "data": {
      "text/plain": [
       "<selenium.webdriver.remote.webelement.WebElement (session=\"2632830d9cfa3c910ddf1507e24ee478\", element=\"8e344d95-87ef-4197-9ca9-d20e35b09037\")>"
      ]
     },
     "execution_count": 9,
     "metadata": {},
     "output_type": "execute_result"
    }
   ],
   "source": [
    "location4=driver4.find_element_by_id(\"sc.location\")\n",
    "location4"
   ]
  },
  {
   "cell_type": "code",
   "execution_count": 10,
   "metadata": {},
   "outputs": [],
   "source": [
    "location4.send_keys(\"Noida\")"
   ]
  },
  {
   "cell_type": "code",
   "execution_count": 17,
   "metadata": {},
   "outputs": [],
   "source": [
    "tab=driver4.find_element_by_xpath(\"//div[@class='selectedLabel']\")"
   ]
  },
  {
   "cell_type": "code",
   "execution_count": 18,
   "metadata": {
    "collapsed": true
   },
   "outputs": [
    {
     "data": {
      "text/plain": [
       "<selenium.webdriver.remote.webelement.WebElement (session=\"2632830d9cfa3c910ddf1507e24ee478\", element=\"e9a9d1b3-0496-4447-b471-1564cd324d1e\")>"
      ]
     },
     "execution_count": 18,
     "metadata": {},
     "output_type": "execute_result"
    }
   ],
   "source": [
    "tab"
   ]
  },
  {
   "cell_type": "code",
   "execution_count": 20,
   "metadata": {},
   "outputs": [
    {
     "data": {
      "text/plain": [
       "<selenium.webdriver.remote.webelement.WebElement (session=\"2632830d9cfa3c910ddf1507e24ee478\", element=\"6a3f0b29-afa8-4452-91e8-b1108199be39\")>"
      ]
     },
     "execution_count": 20,
     "metadata": {},
     "output_type": "execute_result"
    }
   ],
   "source": [
    "search_button4=driver4.find_element_by_xpath(\"//button[@class='gd-ui-button ml-std col-auto SearchStyles__newSearchButton css-1dqvyh7']\")\n",
    "search_button4"
   ]
  },
  {
   "cell_type": "code",
   "execution_count": 21,
   "metadata": {},
   "outputs": [],
   "source": [
    "search_button4.click()"
   ]
  },
  {
   "cell_type": "code",
   "execution_count": 46,
   "metadata": {
    "collapsed": true
   },
   "outputs": [
    {
     "data": {
      "text/plain": [
       "[<selenium.webdriver.remote.webelement.WebElement (session=\"2632830d9cfa3c910ddf1507e24ee478\", element=\"99fcc2fd-976a-422d-b500-c37330ef747c\")>,\n",
       " <selenium.webdriver.remote.webelement.WebElement (session=\"2632830d9cfa3c910ddf1507e24ee478\", element=\"f13ed87f-c3c6-4aab-a648-4d245e5cf9c2\")>,\n",
       " <selenium.webdriver.remote.webelement.WebElement (session=\"2632830d9cfa3c910ddf1507e24ee478\", element=\"0a24ccae-cfc6-4068-bf60-b207e96aebbc\")>,\n",
       " <selenium.webdriver.remote.webelement.WebElement (session=\"2632830d9cfa3c910ddf1507e24ee478\", element=\"c8a8667f-6c5d-4839-b9f4-40d33c7577ee\")>,\n",
       " <selenium.webdriver.remote.webelement.WebElement (session=\"2632830d9cfa3c910ddf1507e24ee478\", element=\"8e168e46-aeac-43f1-a618-aa6baef2011e\")>,\n",
       " <selenium.webdriver.remote.webelement.WebElement (session=\"2632830d9cfa3c910ddf1507e24ee478\", element=\"1aeae014-f970-45fa-93fc-46c884c8ff62\")>,\n",
       " <selenium.webdriver.remote.webelement.WebElement (session=\"2632830d9cfa3c910ddf1507e24ee478\", element=\"065ff2a1-2e44-40e6-bc65-e8cbafef5d6e\")>,\n",
       " <selenium.webdriver.remote.webelement.WebElement (session=\"2632830d9cfa3c910ddf1507e24ee478\", element=\"f063221d-daac-4e08-8b66-9b03ac8381c6\")>,\n",
       " <selenium.webdriver.remote.webelement.WebElement (session=\"2632830d9cfa3c910ddf1507e24ee478\", element=\"c2b9199d-14ed-4f3c-823d-6dc7dae4e528\")>,\n",
       " <selenium.webdriver.remote.webelement.WebElement (session=\"2632830d9cfa3c910ddf1507e24ee478\", element=\"2e3ce4a6-f061-4f66-b5a6-920372162180\")>,\n",
       " <selenium.webdriver.remote.webelement.WebElement (session=\"2632830d9cfa3c910ddf1507e24ee478\", element=\"3a89ae2c-6047-4c5d-b5b0-dba337fa5b5c\")>,\n",
       " <selenium.webdriver.remote.webelement.WebElement (session=\"2632830d9cfa3c910ddf1507e24ee478\", element=\"63844a50-5f1f-48f1-9757-1e2b06681667\")>,\n",
       " <selenium.webdriver.remote.webelement.WebElement (session=\"2632830d9cfa3c910ddf1507e24ee478\", element=\"d43981ea-b23c-4a3d-8080-5d002a0e8fff\")>,\n",
       " <selenium.webdriver.remote.webelement.WebElement (session=\"2632830d9cfa3c910ddf1507e24ee478\", element=\"f63163a8-698d-4a40-b844-8429b7fe18e4\")>,\n",
       " <selenium.webdriver.remote.webelement.WebElement (session=\"2632830d9cfa3c910ddf1507e24ee478\", element=\"3d9d79e5-5c60-46fb-bdb9-80eacc3e6892\")>,\n",
       " <selenium.webdriver.remote.webelement.WebElement (session=\"2632830d9cfa3c910ddf1507e24ee478\", element=\"4b9e03f4-68a2-40f0-a46c-04e801dd02e4\")>,\n",
       " <selenium.webdriver.remote.webelement.WebElement (session=\"2632830d9cfa3c910ddf1507e24ee478\", element=\"ffb21107-0c82-4ac6-833a-0061f6d2843f\")>,\n",
       " <selenium.webdriver.remote.webelement.WebElement (session=\"2632830d9cfa3c910ddf1507e24ee478\", element=\"f5f4b798-f411-4fc9-b335-d8f32dea7627\")>,\n",
       " <selenium.webdriver.remote.webelement.WebElement (session=\"2632830d9cfa3c910ddf1507e24ee478\", element=\"542f66c6-fd52-458b-b8ba-81d69bf5cd2a\")>,\n",
       " <selenium.webdriver.remote.webelement.WebElement (session=\"2632830d9cfa3c910ddf1507e24ee478\", element=\"0d46d5e0-dc23-4018-aa0a-73d44c7f7f78\")>,\n",
       " <selenium.webdriver.remote.webelement.WebElement (session=\"2632830d9cfa3c910ddf1507e24ee478\", element=\"427c4377-a7d9-4ecd-9bcf-7ff0753f7dce\")>,\n",
       " <selenium.webdriver.remote.webelement.WebElement (session=\"2632830d9cfa3c910ddf1507e24ee478\", element=\"3eeb2dbc-4fac-4ad4-b0c9-55ae6ed7baaa\")>,\n",
       " <selenium.webdriver.remote.webelement.WebElement (session=\"2632830d9cfa3c910ddf1507e24ee478\", element=\"8accbf2a-dc21-4da2-b2b4-d14f2756958d\")>,\n",
       " <selenium.webdriver.remote.webelement.WebElement (session=\"2632830d9cfa3c910ddf1507e24ee478\", element=\"a7b55058-b739-45c3-be3d-5fd70970b467\")>,\n",
       " <selenium.webdriver.remote.webelement.WebElement (session=\"2632830d9cfa3c910ddf1507e24ee478\", element=\"8faf3bbc-8665-40c3-9d2b-0f7ec48bfada\")>,\n",
       " <selenium.webdriver.remote.webelement.WebElement (session=\"2632830d9cfa3c910ddf1507e24ee478\", element=\"00070f03-b723-4a8a-8c09-cd461a191f68\")>,\n",
       " <selenium.webdriver.remote.webelement.WebElement (session=\"2632830d9cfa3c910ddf1507e24ee478\", element=\"09ef29e3-3655-4417-8a52-43906f9564de\")>,\n",
       " <selenium.webdriver.remote.webelement.WebElement (session=\"2632830d9cfa3c910ddf1507e24ee478\", element=\"2a6be286-814d-4b1a-a9c9-9123ff93b2eb\")>,\n",
       " <selenium.webdriver.remote.webelement.WebElement (session=\"2632830d9cfa3c910ddf1507e24ee478\", element=\"1651193e-3ebf-4bba-9a98-6e1c1aa1442d\")>,\n",
       " <selenium.webdriver.remote.webelement.WebElement (session=\"2632830d9cfa3c910ddf1507e24ee478\", element=\"34bbba7c-3a00-4cf2-b722-18a65a29e17f\")>]"
      ]
     },
     "execution_count": 46,
     "metadata": {},
     "output_type": "execute_result"
    }
   ],
   "source": [
    "name4=driver4.find_elements_by_xpath(\"//div[@class='d-flex flex-column pl-sm css-1buaf54 job-search-key-1mn3dn8 e1rrn5ka0']/div/a\")\n",
    "name4"
   ]
  },
  {
   "cell_type": "code",
   "execution_count": 47,
   "metadata": {
    "collapsed": true
   },
   "outputs": [
    {
     "data": {
      "text/plain": [
       "['Instrovate Technologies',\n",
       " 'Pixel Vision',\n",
       " 'Crowe',\n",
       " 'Innovacer',\n",
       " 'HDFC Bank',\n",
       " 'UnitedHealth Group',\n",
       " 'Salasar New Age Technologies',\n",
       " 'AlgoScale Technologies Private Limited',\n",
       " 'Optum - India',\n",
       " 'AIIMS, Delhi',\n",
       " 'CODEC Networks Pvt ltd',\n",
       " 'dunnhumby',\n",
       " 'Techlive',\n",
       " 'Liberin Technologies Private Limited',\n",
       " 'NEC Opportunities',\n",
       " 'UnitedHealth Group',\n",
       " 'Salasar New Age Technologies',\n",
       " 'MasterCard',\n",
       " 'Iraitech Innovations & Tehcnologies Pvt.Ltd',\n",
       " 'Biz2Credit Inc',\n",
       " 'R Systems',\n",
       " 'Ericsson',\n",
       " 'Newgen Software',\n",
       " 'TransOrg Analytics',\n",
       " 'Kline & Company',\n",
       " 'TransOrg Analytics',\n",
       " 'Airtel India',\n",
       " 'SearchUrCollege',\n",
       " 'IBM',\n",
       " 'Impetus Technologies']"
      ]
     },
     "execution_count": 47,
     "metadata": {},
     "output_type": "execute_result"
    }
   ],
   "source": [
    "company_name4=[]\n",
    "for i in job4:\n",
    "    company_name4.append(i.text)\n",
    "company_name4"
   ]
  },
  {
   "cell_type": "code",
   "execution_count": 51,
   "metadata": {
    "collapsed": true
   },
   "outputs": [
    {
     "data": {
      "text/plain": [
       "[<selenium.webdriver.remote.webelement.WebElement (session=\"2632830d9cfa3c910ddf1507e24ee478\", element=\"5e6e8784-f362-453a-af0f-1701f9c38ab0\")>,\n",
       " <selenium.webdriver.remote.webelement.WebElement (session=\"2632830d9cfa3c910ddf1507e24ee478\", element=\"45316cdd-1cbc-4a76-b962-2539537185d4\")>,\n",
       " <selenium.webdriver.remote.webelement.WebElement (session=\"2632830d9cfa3c910ddf1507e24ee478\", element=\"ee82d545-af40-4048-abb4-a15d2184f797\")>,\n",
       " <selenium.webdriver.remote.webelement.WebElement (session=\"2632830d9cfa3c910ddf1507e24ee478\", element=\"12008c0a-2bed-450c-8d59-2d6dac2643f1\")>,\n",
       " <selenium.webdriver.remote.webelement.WebElement (session=\"2632830d9cfa3c910ddf1507e24ee478\", element=\"cefb8dfd-b425-4c5d-bae6-0c18783721f1\")>,\n",
       " <selenium.webdriver.remote.webelement.WebElement (session=\"2632830d9cfa3c910ddf1507e24ee478\", element=\"d2a3d3f1-7185-4995-b85a-cc5c2d2b9b20\")>,\n",
       " <selenium.webdriver.remote.webelement.WebElement (session=\"2632830d9cfa3c910ddf1507e24ee478\", element=\"22730248-664e-4404-9d26-504e41bd14f6\")>,\n",
       " <selenium.webdriver.remote.webelement.WebElement (session=\"2632830d9cfa3c910ddf1507e24ee478\", element=\"e5903ac0-7a61-4654-a794-653dcbe2c961\")>,\n",
       " <selenium.webdriver.remote.webelement.WebElement (session=\"2632830d9cfa3c910ddf1507e24ee478\", element=\"7c06d4ae-fc1f-494f-9338-46ba926e67d1\")>,\n",
       " <selenium.webdriver.remote.webelement.WebElement (session=\"2632830d9cfa3c910ddf1507e24ee478\", element=\"d7bf5bb5-2a14-415f-90d2-71cd3e547b32\")>,\n",
       " <selenium.webdriver.remote.webelement.WebElement (session=\"2632830d9cfa3c910ddf1507e24ee478\", element=\"3f8efab4-d36e-4d2e-b413-a87a2c3bf387\")>,\n",
       " <selenium.webdriver.remote.webelement.WebElement (session=\"2632830d9cfa3c910ddf1507e24ee478\", element=\"8fc4ca52-8191-4e90-849b-969a6d875877\")>,\n",
       " <selenium.webdriver.remote.webelement.WebElement (session=\"2632830d9cfa3c910ddf1507e24ee478\", element=\"7fbc463a-595a-44bc-a19a-06d2b30075b5\")>,\n",
       " <selenium.webdriver.remote.webelement.WebElement (session=\"2632830d9cfa3c910ddf1507e24ee478\", element=\"246d04b7-ebfb-43fc-912e-e9341c98cd05\")>,\n",
       " <selenium.webdriver.remote.webelement.WebElement (session=\"2632830d9cfa3c910ddf1507e24ee478\", element=\"72701069-6091-42ea-8cb3-4dbb69d95457\")>,\n",
       " <selenium.webdriver.remote.webelement.WebElement (session=\"2632830d9cfa3c910ddf1507e24ee478\", element=\"2ca68491-91d1-4b1a-ad6b-7fdfa32865a4\")>,\n",
       " <selenium.webdriver.remote.webelement.WebElement (session=\"2632830d9cfa3c910ddf1507e24ee478\", element=\"8eb0c854-8612-4535-a908-8069afc29034\")>,\n",
       " <selenium.webdriver.remote.webelement.WebElement (session=\"2632830d9cfa3c910ddf1507e24ee478\", element=\"015691d9-9ae1-424c-9af3-394ef97f941a\")>,\n",
       " <selenium.webdriver.remote.webelement.WebElement (session=\"2632830d9cfa3c910ddf1507e24ee478\", element=\"24b5b1ea-92d2-41b4-acfa-62ce7bbc0db9\")>,\n",
       " <selenium.webdriver.remote.webelement.WebElement (session=\"2632830d9cfa3c910ddf1507e24ee478\", element=\"d3d8da80-1694-43b3-b054-3d056a87a2b3\")>,\n",
       " <selenium.webdriver.remote.webelement.WebElement (session=\"2632830d9cfa3c910ddf1507e24ee478\", element=\"b4d03802-480d-4541-9e76-704045e88f60\")>,\n",
       " <selenium.webdriver.remote.webelement.WebElement (session=\"2632830d9cfa3c910ddf1507e24ee478\", element=\"5925fbc9-6bcc-4a80-84c4-c86e31aa2390\")>,\n",
       " <selenium.webdriver.remote.webelement.WebElement (session=\"2632830d9cfa3c910ddf1507e24ee478\", element=\"eee043e5-7900-46b7-b847-7b6d12beeb09\")>,\n",
       " <selenium.webdriver.remote.webelement.WebElement (session=\"2632830d9cfa3c910ddf1507e24ee478\", element=\"7124474b-e506-46f1-9119-8fb6e11f1e13\")>,\n",
       " <selenium.webdriver.remote.webelement.WebElement (session=\"2632830d9cfa3c910ddf1507e24ee478\", element=\"3858b731-9055-48db-92e6-9f4fef94c0a6\")>,\n",
       " <selenium.webdriver.remote.webelement.WebElement (session=\"2632830d9cfa3c910ddf1507e24ee478\", element=\"32969bdd-0f0d-4ce2-850d-ed74a233cd4e\")>,\n",
       " <selenium.webdriver.remote.webelement.WebElement (session=\"2632830d9cfa3c910ddf1507e24ee478\", element=\"77f94cdb-6915-4652-a62a-db77272c5fab\")>,\n",
       " <selenium.webdriver.remote.webelement.WebElement (session=\"2632830d9cfa3c910ddf1507e24ee478\", element=\"97da32b2-2395-4dc6-abef-23f61dc0bded\")>,\n",
       " <selenium.webdriver.remote.webelement.WebElement (session=\"2632830d9cfa3c910ddf1507e24ee478\", element=\"9c84e817-9f50-4a5c-a656-8ab5b2dda0c0\")>,\n",
       " <selenium.webdriver.remote.webelement.WebElement (session=\"2632830d9cfa3c910ddf1507e24ee478\", element=\"17f5d92a-5175-470e-9998-5477b0de77e3\")>]"
      ]
     },
     "execution_count": 51,
     "metadata": {},
     "output_type": "execute_result"
    }
   ],
   "source": [
    "days_ago=driver4.find_elements_by_xpath(\"//div[@class='d-flex align-items-end pl-std css-17n8uzw']\")\n",
    "days_ago"
   ]
  },
  {
   "cell_type": "code",
   "execution_count": 52,
   "metadata": {
    "collapsed": true
   },
   "outputs": [
    {
     "data": {
      "text/plain": [
       "['30d+',\n",
       " '3d',\n",
       " '13d',\n",
       " '2d',\n",
       " '3d',\n",
       " '6d',\n",
       " '30d+',\n",
       " '30d+',\n",
       " '21d',\n",
       " '1d',\n",
       " '16d',\n",
       " '24h',\n",
       " '30d+',\n",
       " '30d+',\n",
       " '14d',\n",
       " '21d',\n",
       " '30d+',\n",
       " '8d',\n",
       " '6d',\n",
       " '30d+',\n",
       " '13d',\n",
       " '12d',\n",
       " '30d+',\n",
       " '8d',\n",
       " '1d',\n",
       " '8d',\n",
       " '30d+',\n",
       " '30d+',\n",
       " '30d+',\n",
       " '7d']"
      ]
     },
     "execution_count": 52,
     "metadata": {},
     "output_type": "execute_result"
    }
   ],
   "source": [
    "no_of_days_ago=[]\n",
    "for i in days_ago:\n",
    "    no_of_days_ago.append(i.text)\n",
    "no_of_days_ago"
   ]
  },
  {
   "cell_type": "code",
   "execution_count": 54,
   "metadata": {
    "collapsed": true
   },
   "outputs": [
    {
     "data": {
      "text/plain": [
       "[<selenium.webdriver.remote.webelement.WebElement (session=\"2632830d9cfa3c910ddf1507e24ee478\", element=\"922c1d0d-0ee7-4da3-96ce-4f5ac14a6603\")>,\n",
       " <selenium.webdriver.remote.webelement.WebElement (session=\"2632830d9cfa3c910ddf1507e24ee478\", element=\"f1a555c4-b176-42ea-8d69-c6493366b15a\")>,\n",
       " <selenium.webdriver.remote.webelement.WebElement (session=\"2632830d9cfa3c910ddf1507e24ee478\", element=\"643b1fa1-11c8-474a-97ea-b608a4e97412\")>,\n",
       " <selenium.webdriver.remote.webelement.WebElement (session=\"2632830d9cfa3c910ddf1507e24ee478\", element=\"1d6d46ba-8956-4f76-bd8d-97ef4ca3b7e0\")>,\n",
       " <selenium.webdriver.remote.webelement.WebElement (session=\"2632830d9cfa3c910ddf1507e24ee478\", element=\"7f207064-fedd-460b-b623-83c20035a785\")>,\n",
       " <selenium.webdriver.remote.webelement.WebElement (session=\"2632830d9cfa3c910ddf1507e24ee478\", element=\"2b2907be-6a35-4727-ba80-5a4ac1a66b4c\")>,\n",
       " <selenium.webdriver.remote.webelement.WebElement (session=\"2632830d9cfa3c910ddf1507e24ee478\", element=\"687e5359-42f4-4983-be04-1df944c79969\")>,\n",
       " <selenium.webdriver.remote.webelement.WebElement (session=\"2632830d9cfa3c910ddf1507e24ee478\", element=\"5a9ac826-512e-4f3f-a4ba-d4d7cbc4bca5\")>,\n",
       " <selenium.webdriver.remote.webelement.WebElement (session=\"2632830d9cfa3c910ddf1507e24ee478\", element=\"e0ca3888-2c9f-4482-acda-e49b55619e65\")>,\n",
       " <selenium.webdriver.remote.webelement.WebElement (session=\"2632830d9cfa3c910ddf1507e24ee478\", element=\"7b1c106a-17d9-4674-8b1b-d015f92c36eb\")>,\n",
       " <selenium.webdriver.remote.webelement.WebElement (session=\"2632830d9cfa3c910ddf1507e24ee478\", element=\"365d0356-a648-42e5-8e03-131d417b0506\")>,\n",
       " <selenium.webdriver.remote.webelement.WebElement (session=\"2632830d9cfa3c910ddf1507e24ee478\", element=\"7b8cc07b-3c1f-4d7b-bea5-1da5d39c0ee9\")>,\n",
       " <selenium.webdriver.remote.webelement.WebElement (session=\"2632830d9cfa3c910ddf1507e24ee478\", element=\"654fda31-6726-4870-8df3-ce0cfcfd97f2\")>,\n",
       " <selenium.webdriver.remote.webelement.WebElement (session=\"2632830d9cfa3c910ddf1507e24ee478\", element=\"cf6eb1a6-731f-4deb-83c3-0a9c9635685f\")>,\n",
       " <selenium.webdriver.remote.webelement.WebElement (session=\"2632830d9cfa3c910ddf1507e24ee478\", element=\"2fcd580e-b8ca-4144-9ea9-0417fca25671\")>,\n",
       " <selenium.webdriver.remote.webelement.WebElement (session=\"2632830d9cfa3c910ddf1507e24ee478\", element=\"75979424-ea55-4acd-aae8-c3551f439d26\")>,\n",
       " <selenium.webdriver.remote.webelement.WebElement (session=\"2632830d9cfa3c910ddf1507e24ee478\", element=\"d2dfd10b-018e-4f2e-9cc4-62549373e302\")>,\n",
       " <selenium.webdriver.remote.webelement.WebElement (session=\"2632830d9cfa3c910ddf1507e24ee478\", element=\"ef8ca943-022f-4e86-b87b-35359565bd0a\")>,\n",
       " <selenium.webdriver.remote.webelement.WebElement (session=\"2632830d9cfa3c910ddf1507e24ee478\", element=\"3f35b85d-940b-42ab-b4f6-d5885ab34474\")>,\n",
       " <selenium.webdriver.remote.webelement.WebElement (session=\"2632830d9cfa3c910ddf1507e24ee478\", element=\"af15dbf4-280c-4ade-a576-cb1a2e851e19\")>]"
      ]
     },
     "execution_count": 54,
     "metadata": {},
     "output_type": "execute_result"
    }
   ],
   "source": [
    "rating=driver4.find_elements_by_xpath(\"//span[@class=' job-search-key-srfzj0 e1cjmv6j0']\")\n",
    "rating"
   ]
  },
  {
   "cell_type": "code",
   "execution_count": 56,
   "metadata": {
    "collapsed": true
   },
   "outputs": [
    {
     "data": {
      "text/plain": [
       "['3.8',\n",
       " '3.8',\n",
       " '3.7',\n",
       " '3.7',\n",
       " '4.0',\n",
       " '4.5',\n",
       " '3.1',\n",
       " '4.1',\n",
       " '5.0',\n",
       " '3.7',\n",
       " '4.2',\n",
       " '4.3',\n",
       " '3.6',\n",
       " '4.2',\n",
       " '3.3',\n",
       " '2.7',\n",
       " '2.7',\n",
       " '3.8',\n",
       " '3.9',\n",
       " '4.0']"
      ]
     },
     "execution_count": 56,
     "metadata": {},
     "output_type": "execute_result"
    }
   ],
   "source": [
    "overall_ratings=[]\n",
    "for i in rating:\n",
    "    overall_ratings.append(i.text)\n",
    "overall_ratings"
   ]
  },
  {
   "cell_type": "code",
   "execution_count": 58,
   "metadata": {},
   "outputs": [
    {
     "data": {
      "text/html": [
       "<div>\n",
       "<style scoped>\n",
       "    .dataframe tbody tr th:only-of-type {\n",
       "        vertical-align: middle;\n",
       "    }\n",
       "\n",
       "    .dataframe tbody tr th {\n",
       "        vertical-align: top;\n",
       "    }\n",
       "\n",
       "    .dataframe thead th {\n",
       "        text-align: right;\n",
       "    }\n",
       "</style>\n",
       "<table border=\"1\" class=\"dataframe\">\n",
       "  <thead>\n",
       "    <tr style=\"text-align: right;\">\n",
       "      <th></th>\n",
       "      <th>company_name4</th>\n",
       "      <th>no_of_days_ago</th>\n",
       "      <th>overall_ratings</th>\n",
       "    </tr>\n",
       "    <tr>\n",
       "      <th>Sr.No</th>\n",
       "      <th></th>\n",
       "      <th></th>\n",
       "      <th></th>\n",
       "    </tr>\n",
       "  </thead>\n",
       "  <tbody>\n",
       "    <tr>\n",
       "      <th>0</th>\n",
       "      <td>Instrovate Technologies</td>\n",
       "      <td>30d+</td>\n",
       "      <td>3.8</td>\n",
       "    </tr>\n",
       "    <tr>\n",
       "      <th>1</th>\n",
       "      <td>Pixel Vision</td>\n",
       "      <td>3d</td>\n",
       "      <td>3.8</td>\n",
       "    </tr>\n",
       "    <tr>\n",
       "      <th>2</th>\n",
       "      <td>Crowe</td>\n",
       "      <td>13d</td>\n",
       "      <td>3.7</td>\n",
       "    </tr>\n",
       "    <tr>\n",
       "      <th>3</th>\n",
       "      <td>Innovacer</td>\n",
       "      <td>2d</td>\n",
       "      <td>3.7</td>\n",
       "    </tr>\n",
       "    <tr>\n",
       "      <th>4</th>\n",
       "      <td>HDFC Bank</td>\n",
       "      <td>3d</td>\n",
       "      <td>4.0</td>\n",
       "    </tr>\n",
       "    <tr>\n",
       "      <th>5</th>\n",
       "      <td>UnitedHealth Group</td>\n",
       "      <td>6d</td>\n",
       "      <td>4.5</td>\n",
       "    </tr>\n",
       "    <tr>\n",
       "      <th>6</th>\n",
       "      <td>Salasar New Age Technologies</td>\n",
       "      <td>30d+</td>\n",
       "      <td>3.1</td>\n",
       "    </tr>\n",
       "    <tr>\n",
       "      <th>7</th>\n",
       "      <td>AlgoScale Technologies Private Limited</td>\n",
       "      <td>30d+</td>\n",
       "      <td>4.1</td>\n",
       "    </tr>\n",
       "    <tr>\n",
       "      <th>8</th>\n",
       "      <td>Optum - India</td>\n",
       "      <td>21d</td>\n",
       "      <td>5.0</td>\n",
       "    </tr>\n",
       "    <tr>\n",
       "      <th>9</th>\n",
       "      <td>AIIMS, Delhi</td>\n",
       "      <td>1d</td>\n",
       "      <td>3.7</td>\n",
       "    </tr>\n",
       "  </tbody>\n",
       "</table>\n",
       "</div>"
      ],
      "text/plain": [
       "                                company_name4 no_of_days_ago overall_ratings\n",
       "Sr.No                                                                       \n",
       "0                     Instrovate Technologies           30d+             3.8\n",
       "1                                Pixel Vision             3d             3.8\n",
       "2                                       Crowe            13d             3.7\n",
       "3                                   Innovacer             2d             3.7\n",
       "4                                   HDFC Bank             3d             4.0\n",
       "5                          UnitedHealth Group             6d             4.5\n",
       "6                Salasar New Age Technologies           30d+             3.1\n",
       "7      AlgoScale Technologies Private Limited           30d+             4.1\n",
       "8                               Optum - India            21d             5.0\n",
       "9                                AIIMS, Delhi             1d             3.7"
      ]
     },
     "execution_count": 58,
     "metadata": {},
     "output_type": "execute_result"
    }
   ],
   "source": [
    "Glassdoor=pd.DataFrame({})\n",
    "Glassdoor[\"company_name4\"]=company_name4[0:10]\n",
    "Glassdoor[\"no_of_days_ago\"]=no_of_days_ago[0:10]\n",
    "Glassdoor[\"overall_ratings\"]=overall_ratings[0:10]\n",
    "Glassdoor.index.set_names(\"Sr.No\",inplace=True)\n",
    "Glassdoor"
   ]
  },
  {
   "cell_type": "markdown",
   "metadata": {},
   "source": [
    "Q5: Write a python program to scrape the salary data for Data Scientist designation\n",
    "in Noida location\n",
    "You have to scrape Company name, Number of salaries, Average salary, Min\n",
    "salary, Max Salary."
   ]
  },
  {
   "cell_type": "code",
   "execution_count": 175,
   "metadata": {},
   "outputs": [],
   "source": [
    "import selenium\n",
    "import pandas as pd\n",
    "from selenium import webdriver"
   ]
  },
  {
   "cell_type": "code",
   "execution_count": 176,
   "metadata": {},
   "outputs": [],
   "source": [
    "driver5=webdriver.Chrome(\"chromedriver.exe\")"
   ]
  },
  {
   "cell_type": "code",
   "execution_count": 177,
   "metadata": {},
   "outputs": [],
   "source": [
    "url=\"https://www.glassdoor.co.in/Salaries/new-delhi-data-scientist-salary-SRCH_IL.0,9_IM1083_KO10,24.htm?clickSource=searchBtn\""
   ]
  },
  {
   "cell_type": "markdown",
   "metadata": {},
   "source": [
    "## have to use this link directly as I am not able to automate the job position and location without being asked to login"
   ]
  },
  {
   "cell_type": "code",
   "execution_count": 178,
   "metadata": {},
   "outputs": [],
   "source": [
    "driver5.get(url)"
   ]
  },
  {
   "cell_type": "code",
   "execution_count": 179,
   "metadata": {
    "collapsed": true
   },
   "outputs": [
    {
     "data": {
      "text/plain": [
       "[<selenium.webdriver.remote.webelement.WebElement (session=\"240d9a7aeb7359a42e3723fe72755cfb\", element=\"d847dbb6-b1d1-4321-bab7-50594ae476f6\")>,\n",
       " <selenium.webdriver.remote.webelement.WebElement (session=\"240d9a7aeb7359a42e3723fe72755cfb\", element=\"a0bd0dde-aa93-4cfb-8e8f-50109cfa2cd4\")>,\n",
       " <selenium.webdriver.remote.webelement.WebElement (session=\"240d9a7aeb7359a42e3723fe72755cfb\", element=\"b35c7949-bbf7-44b2-bf99-9750cd00e1b7\")>,\n",
       " <selenium.webdriver.remote.webelement.WebElement (session=\"240d9a7aeb7359a42e3723fe72755cfb\", element=\"66255024-be47-4f1d-b0fc-93f32e434e0c\")>,\n",
       " <selenium.webdriver.remote.webelement.WebElement (session=\"240d9a7aeb7359a42e3723fe72755cfb\", element=\"cdbe82fc-45f2-4573-83a3-b3fdc4a9389c\")>,\n",
       " <selenium.webdriver.remote.webelement.WebElement (session=\"240d9a7aeb7359a42e3723fe72755cfb\", element=\"5a67bf99-3953-4536-9218-0c6d4206ca4c\")>,\n",
       " <selenium.webdriver.remote.webelement.WebElement (session=\"240d9a7aeb7359a42e3723fe72755cfb\", element=\"10c54c16-f853-4723-9c54-1b55a4991d35\")>,\n",
       " <selenium.webdriver.remote.webelement.WebElement (session=\"240d9a7aeb7359a42e3723fe72755cfb\", element=\"49ebf18e-5c34-4f12-ab90-e0a49f71be40\")>,\n",
       " <selenium.webdriver.remote.webelement.WebElement (session=\"240d9a7aeb7359a42e3723fe72755cfb\", element=\"80678fca-9efa-46d1-be7c-eb6852a76bc9\")>,\n",
       " <selenium.webdriver.remote.webelement.WebElement (session=\"240d9a7aeb7359a42e3723fe72755cfb\", element=\"1c401317-d1b5-4863-853c-fdc71350827f\")>,\n",
       " <selenium.webdriver.remote.webelement.WebElement (session=\"240d9a7aeb7359a42e3723fe72755cfb\", element=\"a54e89e5-1542-4756-bd29-3c0faf203648\")>,\n",
       " <selenium.webdriver.remote.webelement.WebElement (session=\"240d9a7aeb7359a42e3723fe72755cfb\", element=\"18d1fe93-f257-4b83-98cd-988e8b0f1534\")>,\n",
       " <selenium.webdriver.remote.webelement.WebElement (session=\"240d9a7aeb7359a42e3723fe72755cfb\", element=\"077813d5-05a6-4cb4-94f2-9e0cb9ec834b\")>,\n",
       " <selenium.webdriver.remote.webelement.WebElement (session=\"240d9a7aeb7359a42e3723fe72755cfb\", element=\"11f5b1f7-39d3-4895-9e49-a4ef81344b14\")>,\n",
       " <selenium.webdriver.remote.webelement.WebElement (session=\"240d9a7aeb7359a42e3723fe72755cfb\", element=\"0c2780f6-008a-43ec-88e9-93dc973810d3\")>,\n",
       " <selenium.webdriver.remote.webelement.WebElement (session=\"240d9a7aeb7359a42e3723fe72755cfb\", element=\"c9571370-8091-4db1-b998-d333edd16923\")>,\n",
       " <selenium.webdriver.remote.webelement.WebElement (session=\"240d9a7aeb7359a42e3723fe72755cfb\", element=\"e9e3055f-4fd2-490c-b6d8-6a602d869f7f\")>,\n",
       " <selenium.webdriver.remote.webelement.WebElement (session=\"240d9a7aeb7359a42e3723fe72755cfb\", element=\"82365bd4-7a59-49cb-a544-bc1e2ee7c5d6\")>,\n",
       " <selenium.webdriver.remote.webelement.WebElement (session=\"240d9a7aeb7359a42e3723fe72755cfb\", element=\"c2a47624-112f-4f6a-83d3-4c2f72969ed1\")>,\n",
       " <selenium.webdriver.remote.webelement.WebElement (session=\"240d9a7aeb7359a42e3723fe72755cfb\", element=\"ba35ee08-fb99-4952-8732-a65a9ee46d3c\")>]"
      ]
     },
     "execution_count": 179,
     "metadata": {},
     "output_type": "execute_result"
    }
   ],
   "source": [
    "name5=driver5.find_elements_by_xpath(\"//a[@class='css-f3vw95 e1aj7ssy3']\")\n",
    "name5"
   ]
  },
  {
   "cell_type": "code",
   "execution_count": 171,
   "metadata": {
    "collapsed": true
   },
   "outputs": [
    {
     "data": {
      "text/plain": [
       "['Tata Consultancy Services',\n",
       " 'IBM',\n",
       " 'Accenture',\n",
       " 'Ericsson-Worldwide',\n",
       " 'Delhivery',\n",
       " 'UnitedHealth Group',\n",
       " 'EXL Service',\n",
       " 'Optum',\n",
       " 'ZS Associates',\n",
       " 'Optum Global Solutions',\n",
       " 'dunnhumby',\n",
       " 'Valiance Solutions',\n",
       " 'Cognizant Technology Solutions',\n",
       " 'Amazon',\n",
       " 'Nagarro',\n",
       " 'Innovaccer',\n",
       " 'Fresher',\n",
       " 'OYO',\n",
       " 'HCL Technologies',\n",
       " 'Genpact']"
      ]
     },
     "execution_count": 171,
     "metadata": {},
     "output_type": "execute_result"
    }
   ],
   "source": [
    "company_name5=[]\n",
    "for i in name5:\n",
    "    company_name5.append(i.text)\n",
    "company_name5"
   ]
  },
  {
   "cell_type": "code",
   "execution_count": 173,
   "metadata": {
    "collapsed": true
   },
   "outputs": [
    {
     "data": {
      "text/plain": [
       "[<selenium.webdriver.remote.webelement.WebElement (session=\"97ebbd2e8ff5db3a65cc429bf34e7277\", element=\"c01dbdca-f481-40a5-8559-f1a3ac48339b\")>,\n",
       " <selenium.webdriver.remote.webelement.WebElement (session=\"97ebbd2e8ff5db3a65cc429bf34e7277\", element=\"30813a43-6e3f-4310-a3af-48cc28e6b51d\")>,\n",
       " <selenium.webdriver.remote.webelement.WebElement (session=\"97ebbd2e8ff5db3a65cc429bf34e7277\", element=\"942da2c4-9d2b-4931-984c-6cecfe626379\")>,\n",
       " <selenium.webdriver.remote.webelement.WebElement (session=\"97ebbd2e8ff5db3a65cc429bf34e7277\", element=\"a9cddeba-32c4-44d1-8885-a2c070f65c1e\")>,\n",
       " <selenium.webdriver.remote.webelement.WebElement (session=\"97ebbd2e8ff5db3a65cc429bf34e7277\", element=\"6a4b7beb-4aad-47b7-a88a-4387551b90e7\")>,\n",
       " <selenium.webdriver.remote.webelement.WebElement (session=\"97ebbd2e8ff5db3a65cc429bf34e7277\", element=\"e28c645c-c2c6-4928-8af0-5098fb8d9efc\")>,\n",
       " <selenium.webdriver.remote.webelement.WebElement (session=\"97ebbd2e8ff5db3a65cc429bf34e7277\", element=\"440b74fe-ee64-49a9-bcc5-77904a197e6c\")>,\n",
       " <selenium.webdriver.remote.webelement.WebElement (session=\"97ebbd2e8ff5db3a65cc429bf34e7277\", element=\"4dd9021b-307d-4d76-85ca-0f4199846b6f\")>,\n",
       " <selenium.webdriver.remote.webelement.WebElement (session=\"97ebbd2e8ff5db3a65cc429bf34e7277\", element=\"9352b65d-7998-465e-8c1f-73d47ab4b036\")>,\n",
       " <selenium.webdriver.remote.webelement.WebElement (session=\"97ebbd2e8ff5db3a65cc429bf34e7277\", element=\"ed80db06-08ef-450a-9a75-f4f98a270ef4\")>,\n",
       " <selenium.webdriver.remote.webelement.WebElement (session=\"97ebbd2e8ff5db3a65cc429bf34e7277\", element=\"40ad0702-97f6-4e3d-966a-d05d8ebff4fd\")>,\n",
       " <selenium.webdriver.remote.webelement.WebElement (session=\"97ebbd2e8ff5db3a65cc429bf34e7277\", element=\"58582268-fa61-4b8b-8c32-b6f1a4e35988\")>,\n",
       " <selenium.webdriver.remote.webelement.WebElement (session=\"97ebbd2e8ff5db3a65cc429bf34e7277\", element=\"e9ce4123-35e6-442c-b76b-13dbd9ea42a5\")>,\n",
       " <selenium.webdriver.remote.webelement.WebElement (session=\"97ebbd2e8ff5db3a65cc429bf34e7277\", element=\"85aefea9-a517-4814-bcf0-ed21a7e90c50\")>,\n",
       " <selenium.webdriver.remote.webelement.WebElement (session=\"97ebbd2e8ff5db3a65cc429bf34e7277\", element=\"1cec0333-e56a-4d1b-8a0b-4c4df609602e\")>,\n",
       " <selenium.webdriver.remote.webelement.WebElement (session=\"97ebbd2e8ff5db3a65cc429bf34e7277\", element=\"5f1032bd-8779-48de-a3e6-83ac8fadfe3d\")>,\n",
       " <selenium.webdriver.remote.webelement.WebElement (session=\"97ebbd2e8ff5db3a65cc429bf34e7277\", element=\"1bb28647-7813-4e3b-aa34-b3d0169a0e91\")>,\n",
       " <selenium.webdriver.remote.webelement.WebElement (session=\"97ebbd2e8ff5db3a65cc429bf34e7277\", element=\"d5f70d28-49db-43df-be27-64415ccfe358\")>,\n",
       " <selenium.webdriver.remote.webelement.WebElement (session=\"97ebbd2e8ff5db3a65cc429bf34e7277\", element=\"b9e1e0a1-31f0-448e-aad5-cdb4c5044f85\")>,\n",
       " <selenium.webdriver.remote.webelement.WebElement (session=\"97ebbd2e8ff5db3a65cc429bf34e7277\", element=\"6f794624-c8fd-499d-8095-e1f75ddef67d\")>]"
      ]
     },
     "execution_count": 173,
     "metadata": {},
     "output_type": "execute_result"
    }
   ],
   "source": [
    "salaries=driver5.find_elements_by_xpath(\"//div[@class='col-12 col-lg-auto']/span\")\n",
    "salaries"
   ]
  },
  {
   "cell_type": "code",
   "execution_count": 174,
   "metadata": {
    "collapsed": true
   },
   "outputs": [
    {
     "data": {
      "text/plain": [
       "['25 salaries',\n",
       " '21 salaries',\n",
       " '16 salaries',\n",
       " '15 salaries',\n",
       " '15 salaries',\n",
       " '14 salaries',\n",
       " '11 salaries',\n",
       " '11 salaries',\n",
       " '10 salaries',\n",
       " '10 salaries',\n",
       " '10 salaries',\n",
       " '10 salaries',\n",
       " '8 salaries',\n",
       " '8 salaries',\n",
       " '8 salaries',\n",
       " '8 salaries',\n",
       " '7 salaries',\n",
       " '7 salaries',\n",
       " '6 salaries',\n",
       " '6 salaries']"
      ]
     },
     "execution_count": 174,
     "metadata": {},
     "output_type": "execute_result"
    }
   ],
   "source": [
    "no_of_salaries=[]\n",
    "for i in salaries:\n",
    "    no_of_salaries.append(i.text)\n",
    "no_of_salaries"
   ]
  },
  {
   "cell_type": "code",
   "execution_count": 180,
   "metadata": {
    "collapsed": true
   },
   "outputs": [
    {
     "data": {
      "text/plain": [
       "[<selenium.webdriver.remote.webelement.WebElement (session=\"240d9a7aeb7359a42e3723fe72755cfb\", element=\"2755bcb5-f7c7-49b9-9a6c-af1ec2111298\")>,\n",
       " <selenium.webdriver.remote.webelement.WebElement (session=\"240d9a7aeb7359a42e3723fe72755cfb\", element=\"00966c7b-7fc7-48a8-8d0f-121e29eba0fc\")>,\n",
       " <selenium.webdriver.remote.webelement.WebElement (session=\"240d9a7aeb7359a42e3723fe72755cfb\", element=\"6a63d5bc-6e93-4eee-8775-41cebba2295b\")>,\n",
       " <selenium.webdriver.remote.webelement.WebElement (session=\"240d9a7aeb7359a42e3723fe72755cfb\", element=\"91ed5d73-56a4-4b89-8fa9-272bde8f43ab\")>,\n",
       " <selenium.webdriver.remote.webelement.WebElement (session=\"240d9a7aeb7359a42e3723fe72755cfb\", element=\"dea3102f-2023-4621-8242-70b0e1b3c2f8\")>,\n",
       " <selenium.webdriver.remote.webelement.WebElement (session=\"240d9a7aeb7359a42e3723fe72755cfb\", element=\"548235ec-cf61-4fad-aebc-073cf8f5dbd2\")>,\n",
       " <selenium.webdriver.remote.webelement.WebElement (session=\"240d9a7aeb7359a42e3723fe72755cfb\", element=\"26b07538-84c7-4610-a7a8-fadbdd3d43da\")>,\n",
       " <selenium.webdriver.remote.webelement.WebElement (session=\"240d9a7aeb7359a42e3723fe72755cfb\", element=\"f1c82c5f-36b7-4931-8461-3655f4f11f5d\")>,\n",
       " <selenium.webdriver.remote.webelement.WebElement (session=\"240d9a7aeb7359a42e3723fe72755cfb\", element=\"6b7debf1-b66a-444e-a715-4ab48034508c\")>,\n",
       " <selenium.webdriver.remote.webelement.WebElement (session=\"240d9a7aeb7359a42e3723fe72755cfb\", element=\"287c251e-727c-48b2-8031-41e065599d1c\")>,\n",
       " <selenium.webdriver.remote.webelement.WebElement (session=\"240d9a7aeb7359a42e3723fe72755cfb\", element=\"9a17654b-9ac8-416c-9131-ba986c265a05\")>,\n",
       " <selenium.webdriver.remote.webelement.WebElement (session=\"240d9a7aeb7359a42e3723fe72755cfb\", element=\"ec21f2f5-0631-43d6-af86-f9d7f0e41da4\")>,\n",
       " <selenium.webdriver.remote.webelement.WebElement (session=\"240d9a7aeb7359a42e3723fe72755cfb\", element=\"e2a50462-bae5-4ed1-9c4f-2cab9423ae6b\")>,\n",
       " <selenium.webdriver.remote.webelement.WebElement (session=\"240d9a7aeb7359a42e3723fe72755cfb\", element=\"f84fcde3-ea50-47a2-af81-b625f241318f\")>,\n",
       " <selenium.webdriver.remote.webelement.WebElement (session=\"240d9a7aeb7359a42e3723fe72755cfb\", element=\"bb782ffd-cb08-47af-b740-c9802cd943ef\")>,\n",
       " <selenium.webdriver.remote.webelement.WebElement (session=\"240d9a7aeb7359a42e3723fe72755cfb\", element=\"9d60dff6-18e7-472d-928f-e314d28c8ce9\")>,\n",
       " <selenium.webdriver.remote.webelement.WebElement (session=\"240d9a7aeb7359a42e3723fe72755cfb\", element=\"fa872089-1c0f-47f3-b353-2a14bbe0ce90\")>,\n",
       " <selenium.webdriver.remote.webelement.WebElement (session=\"240d9a7aeb7359a42e3723fe72755cfb\", element=\"d412d62a-5fbc-4a92-a1d1-dbd21a1bad73\")>,\n",
       " <selenium.webdriver.remote.webelement.WebElement (session=\"240d9a7aeb7359a42e3723fe72755cfb\", element=\"42ea6b8e-549a-43fe-b3ff-c53e2019a68f\")>,\n",
       " <selenium.webdriver.remote.webelement.WebElement (session=\"240d9a7aeb7359a42e3723fe72755cfb\", element=\"d5ff9e3f-cfaa-4645-808d-8d8f2e8d91e8\")>]"
      ]
     },
     "execution_count": 180,
     "metadata": {},
     "output_type": "execute_result"
    }
   ],
   "source": [
    "Avg=driver5.find_elements_by_xpath(\"//div[@class='col-12 col-lg-4 px-lg-0 d-flex align-items-baseline']/h3\")\n",
    "Avg"
   ]
  },
  {
   "cell_type": "code",
   "execution_count": 185,
   "metadata": {
    "collapsed": true
   },
   "outputs": [
    {
     "data": {
      "text/plain": [
       "['₹6,36,785',\n",
       " '₹9,24,624',\n",
       " '₹12,24,104',\n",
       " '₹7,68,525',\n",
       " '₹12,60,805',\n",
       " '₹13,03,243',\n",
       " '₹12,53,544',\n",
       " '₹12,70,000',\n",
       " '₹11,82,266',\n",
       " '₹14,62,558',\n",
       " '₹11,45,202',\n",
       " '₹8,93,926',\n",
       " '₹9,66,328',\n",
       " '₹20,82,095',\n",
       " '₹11,11,592',\n",
       " '₹12,51,280',\n",
       " '₹50,000',\n",
       " '₹14,64,785',\n",
       " '₹6,96,665',\n",
       " '₹5,96,566']"
      ]
     },
     "execution_count": 185,
     "metadata": {},
     "output_type": "execute_result"
    }
   ],
   "source": [
    "Average_Salary=[]\n",
    "for i in Avg:\n",
    "    Average_Salary.append(i.text)\n",
    "Average_Salary"
   ]
  },
  {
   "cell_type": "code",
   "execution_count": 191,
   "metadata": {
    "collapsed": true
   },
   "outputs": [
    {
     "data": {
      "text/plain": [
       "[<selenium.webdriver.remote.webelement.WebElement (session=\"240d9a7aeb7359a42e3723fe72755cfb\", element=\"2633a956-6aee-4460-9ec9-88a04d09bf29\")>,\n",
       " <selenium.webdriver.remote.webelement.WebElement (session=\"240d9a7aeb7359a42e3723fe72755cfb\", element=\"4c5f3528-b9cd-4601-8d70-e847aed1c219\")>,\n",
       " <selenium.webdriver.remote.webelement.WebElement (session=\"240d9a7aeb7359a42e3723fe72755cfb\", element=\"8b9ea575-a2de-4cd3-acec-16272208010b\")>,\n",
       " <selenium.webdriver.remote.webelement.WebElement (session=\"240d9a7aeb7359a42e3723fe72755cfb\", element=\"02880b4b-8630-4535-9829-90ece54bc4e1\")>,\n",
       " <selenium.webdriver.remote.webelement.WebElement (session=\"240d9a7aeb7359a42e3723fe72755cfb\", element=\"a0dc10c1-2fcb-4a64-8efb-6749088964a1\")>,\n",
       " <selenium.webdriver.remote.webelement.WebElement (session=\"240d9a7aeb7359a42e3723fe72755cfb\", element=\"fe91d023-4119-4c2f-b3ef-9bb6d21e184f\")>,\n",
       " <selenium.webdriver.remote.webelement.WebElement (session=\"240d9a7aeb7359a42e3723fe72755cfb\", element=\"04d50123-fcbb-47cd-940c-85edbcc29058\")>,\n",
       " <selenium.webdriver.remote.webelement.WebElement (session=\"240d9a7aeb7359a42e3723fe72755cfb\", element=\"9e76e8dc-1a66-4252-a12f-eff76693b217\")>,\n",
       " <selenium.webdriver.remote.webelement.WebElement (session=\"240d9a7aeb7359a42e3723fe72755cfb\", element=\"485e5340-d83e-4c57-881e-872462d95cd6\")>,\n",
       " <selenium.webdriver.remote.webelement.WebElement (session=\"240d9a7aeb7359a42e3723fe72755cfb\", element=\"9249f296-aa53-49e7-9b03-d5a830d2e8fe\")>,\n",
       " <selenium.webdriver.remote.webelement.WebElement (session=\"240d9a7aeb7359a42e3723fe72755cfb\", element=\"19c4cbf7-f416-430d-b01f-20a0435e6b18\")>,\n",
       " <selenium.webdriver.remote.webelement.WebElement (session=\"240d9a7aeb7359a42e3723fe72755cfb\", element=\"791619ca-700d-4d75-82aa-a52bce140687\")>,\n",
       " <selenium.webdriver.remote.webelement.WebElement (session=\"240d9a7aeb7359a42e3723fe72755cfb\", element=\"125627cb-56ee-4e62-b0f5-a2f11f1d26ca\")>,\n",
       " <selenium.webdriver.remote.webelement.WebElement (session=\"240d9a7aeb7359a42e3723fe72755cfb\", element=\"56981765-3d91-4e71-91cd-e563415c37f5\")>,\n",
       " <selenium.webdriver.remote.webelement.WebElement (session=\"240d9a7aeb7359a42e3723fe72755cfb\", element=\"7580fc9a-238f-4943-81d2-130571f1c246\")>,\n",
       " <selenium.webdriver.remote.webelement.WebElement (session=\"240d9a7aeb7359a42e3723fe72755cfb\", element=\"e5c284de-5fe5-4e16-83b2-6699a8743cb5\")>,\n",
       " <selenium.webdriver.remote.webelement.WebElement (session=\"240d9a7aeb7359a42e3723fe72755cfb\", element=\"b4910b1b-d13c-4b66-bd04-14b7b4814d98\")>,\n",
       " <selenium.webdriver.remote.webelement.WebElement (session=\"240d9a7aeb7359a42e3723fe72755cfb\", element=\"d5f64bba-fe14-41d9-a0aa-36206d12ed11\")>,\n",
       " <selenium.webdriver.remote.webelement.WebElement (session=\"240d9a7aeb7359a42e3723fe72755cfb\", element=\"a76e8f44-1668-4951-81c3-74ecc884e15a\")>,\n",
       " <selenium.webdriver.remote.webelement.WebElement (session=\"240d9a7aeb7359a42e3723fe72755cfb\", element=\"dfe83612-cbed-4fa0-9e3d-4775817c6281\")>]"
      ]
     },
     "execution_count": 191,
     "metadata": {},
     "output_type": "execute_result"
    }
   ],
   "source": [
    "Range=driver5.find_elements_by_xpath(\"//div[@class='d-flex mt-xxsm css-79elbk epuxyqn0']\")\n",
    "Range"
   ]
  },
  {
   "cell_type": "code",
   "execution_count": 193,
   "metadata": {
    "collapsed": true
   },
   "outputs": [
    {
     "data": {
      "text/plain": [
       "['₹4L-₹13L',\n",
       " '₹6L-₹26L',\n",
       " '₹6L-₹23L',\n",
       " '₹4L-₹17L',\n",
       " '₹5L-₹1Cr',\n",
       " '₹8L-₹16L',\n",
       " '₹6L-₹20L',\n",
       " '₹8L-₹21L',\n",
       " '₹2L-₹22L',\n",
       " '₹11L-₹18L',\n",
       " '₹6L-₹21L',\n",
       " '₹5L-₹15L',\n",
       " '₹4L-₹13L',\n",
       " '₹10L-₹46L',\n",
       " '₹4L-₹21L',\n",
       " '₹6L-₹18L',\n",
       " '₹25T-₹1L',\n",
       " '₹10L-₹21L',\n",
       " '₹4L-₹15L',\n",
       " '₹2L-₹23L']"
      ]
     },
     "execution_count": 193,
     "metadata": {},
     "output_type": "execute_result"
    }
   ],
   "source": [
    "Max_Min_range=[]\n",
    "for i in Range:\n",
    "    Max_Min_range.append(i.text.replace(\"\\n\",\"-\"))\n",
    "Max_Min_range"
   ]
  },
  {
   "cell_type": "code",
   "execution_count": 194,
   "metadata": {},
   "outputs": [
    {
     "data": {
      "text/html": [
       "<div>\n",
       "<style scoped>\n",
       "    .dataframe tbody tr th:only-of-type {\n",
       "        vertical-align: middle;\n",
       "    }\n",
       "\n",
       "    .dataframe tbody tr th {\n",
       "        vertical-align: top;\n",
       "    }\n",
       "\n",
       "    .dataframe thead th {\n",
       "        text-align: right;\n",
       "    }\n",
       "</style>\n",
       "<table border=\"1\" class=\"dataframe\">\n",
       "  <thead>\n",
       "    <tr style=\"text-align: right;\">\n",
       "      <th></th>\n",
       "      <th>company_name5</th>\n",
       "      <th>no_of_salaries</th>\n",
       "      <th>Average_Salary</th>\n",
       "      <th>Max_Min_range</th>\n",
       "    </tr>\n",
       "    <tr>\n",
       "      <th>Sr.No</th>\n",
       "      <th></th>\n",
       "      <th></th>\n",
       "      <th></th>\n",
       "      <th></th>\n",
       "    </tr>\n",
       "  </thead>\n",
       "  <tbody>\n",
       "    <tr>\n",
       "      <th>0</th>\n",
       "      <td>Tata Consultancy Services</td>\n",
       "      <td>25 salaries</td>\n",
       "      <td>₹6,36,785</td>\n",
       "      <td>₹4L-₹13L</td>\n",
       "    </tr>\n",
       "    <tr>\n",
       "      <th>1</th>\n",
       "      <td>IBM</td>\n",
       "      <td>21 salaries</td>\n",
       "      <td>₹9,24,624</td>\n",
       "      <td>₹6L-₹26L</td>\n",
       "    </tr>\n",
       "    <tr>\n",
       "      <th>2</th>\n",
       "      <td>Accenture</td>\n",
       "      <td>16 salaries</td>\n",
       "      <td>₹12,24,104</td>\n",
       "      <td>₹6L-₹23L</td>\n",
       "    </tr>\n",
       "    <tr>\n",
       "      <th>3</th>\n",
       "      <td>Ericsson-Worldwide</td>\n",
       "      <td>15 salaries</td>\n",
       "      <td>₹7,68,525</td>\n",
       "      <td>₹4L-₹17L</td>\n",
       "    </tr>\n",
       "    <tr>\n",
       "      <th>4</th>\n",
       "      <td>Delhivery</td>\n",
       "      <td>15 salaries</td>\n",
       "      <td>₹12,60,805</td>\n",
       "      <td>₹5L-₹1Cr</td>\n",
       "    </tr>\n",
       "    <tr>\n",
       "      <th>5</th>\n",
       "      <td>UnitedHealth Group</td>\n",
       "      <td>14 salaries</td>\n",
       "      <td>₹13,03,243</td>\n",
       "      <td>₹8L-₹16L</td>\n",
       "    </tr>\n",
       "    <tr>\n",
       "      <th>6</th>\n",
       "      <td>EXL Service</td>\n",
       "      <td>11 salaries</td>\n",
       "      <td>₹12,53,544</td>\n",
       "      <td>₹6L-₹20L</td>\n",
       "    </tr>\n",
       "    <tr>\n",
       "      <th>7</th>\n",
       "      <td>Optum</td>\n",
       "      <td>11 salaries</td>\n",
       "      <td>₹12,70,000</td>\n",
       "      <td>₹8L-₹21L</td>\n",
       "    </tr>\n",
       "    <tr>\n",
       "      <th>8</th>\n",
       "      <td>ZS Associates</td>\n",
       "      <td>10 salaries</td>\n",
       "      <td>₹11,82,266</td>\n",
       "      <td>₹2L-₹22L</td>\n",
       "    </tr>\n",
       "    <tr>\n",
       "      <th>9</th>\n",
       "      <td>Optum Global Solutions</td>\n",
       "      <td>10 salaries</td>\n",
       "      <td>₹14,62,558</td>\n",
       "      <td>₹11L-₹18L</td>\n",
       "    </tr>\n",
       "  </tbody>\n",
       "</table>\n",
       "</div>"
      ],
      "text/plain": [
       "                   company_name5 no_of_salaries Average_Salary Max_Min_range\n",
       "Sr.No                                                                       \n",
       "0      Tata Consultancy Services    25 salaries      ₹6,36,785      ₹4L-₹13L\n",
       "1                            IBM    21 salaries      ₹9,24,624      ₹6L-₹26L\n",
       "2                      Accenture    16 salaries     ₹12,24,104      ₹6L-₹23L\n",
       "3             Ericsson-Worldwide    15 salaries      ₹7,68,525      ₹4L-₹17L\n",
       "4                      Delhivery    15 salaries     ₹12,60,805      ₹5L-₹1Cr\n",
       "5             UnitedHealth Group    14 salaries     ₹13,03,243      ₹8L-₹16L\n",
       "6                    EXL Service    11 salaries     ₹12,53,544      ₹6L-₹20L\n",
       "7                          Optum    11 salaries     ₹12,70,000      ₹8L-₹21L\n",
       "8                  ZS Associates    10 salaries     ₹11,82,266      ₹2L-₹22L\n",
       "9         Optum Global Solutions    10 salaries     ₹14,62,558     ₹11L-₹18L"
      ]
     },
     "execution_count": 194,
     "metadata": {},
     "output_type": "execute_result"
    }
   ],
   "source": [
    "Glassdoor1=pd.DataFrame({})\n",
    "Glassdoor1[\"company_name5\"]=company_name5[0:10]\n",
    "Glassdoor1[\"no_of_salaries\"]=no_of_salaries[0:10]\n",
    "Glassdoor1[\"Average_Salary\"]=Average_Salary[0:10]\n",
    "Glassdoor1[\"Max_Min_range\"]=Max_Min_range[0:10]\n",
    "Glassdoor1.index.set_names(\"Sr.No\",inplace=True)\n",
    "Glassdoor1"
   ]
  },
  {
   "cell_type": "markdown",
   "metadata": {},
   "source": [
    "Q6 : Scrape data of first 100 sunglasses listings on flipkart.com. You have to\n",
    "scrape four attributes:\n",
    "1. Brand\n",
    "2. Product Description\n",
    "3. Price\n",
    "4. Discount %"
   ]
  },
  {
   "cell_type": "code",
   "execution_count": 195,
   "metadata": {},
   "outputs": [],
   "source": [
    "import selenium\n",
    "import pandas as pd\n",
    "from selenium import webdriver"
   ]
  },
  {
   "cell_type": "code",
   "execution_count": 196,
   "metadata": {},
   "outputs": [],
   "source": [
    "driver6=webdriver.Chrome(\"chromedriver.exe\")"
   ]
  },
  {
   "cell_type": "code",
   "execution_count": 197,
   "metadata": {},
   "outputs": [],
   "source": [
    "url=\"https://www.flipkart.com/\""
   ]
  },
  {
   "cell_type": "code",
   "execution_count": 198,
   "metadata": {},
   "outputs": [],
   "source": [
    "driver6.get(url)"
   ]
  },
  {
   "cell_type": "code",
   "execution_count": 204,
   "metadata": {},
   "outputs": [
    {
     "data": {
      "text/plain": [
       "<selenium.webdriver.remote.webelement.WebElement (session=\"e6d8d4304698062fa70e6c5d6ed61ea5\", element=\"156d693e-5ee9-450b-aa78-cc9d63bcc6d8\")>"
      ]
     },
     "execution_count": 204,
     "metadata": {},
     "output_type": "execute_result"
    }
   ],
   "source": [
    "search_sunglasses=driver6.find_element_by_xpath(\"//div[@class='col-12-12 _2oO9oE']/div/input\")\n",
    "search_sunglasses"
   ]
  },
  {
   "cell_type": "code",
   "execution_count": 205,
   "metadata": {},
   "outputs": [],
   "source": [
    "search_sunglasses.send_keys(\"sunglasses\")"
   ]
  },
  {
   "cell_type": "code",
   "execution_count": 207,
   "metadata": {},
   "outputs": [
    {
     "data": {
      "text/plain": [
       "<selenium.webdriver.remote.webelement.WebElement (session=\"e6d8d4304698062fa70e6c5d6ed61ea5\", element=\"a7fa4dde-901a-4d64-884d-2ea4501bfa92\")>"
      ]
     },
     "execution_count": 207,
     "metadata": {},
     "output_type": "execute_result"
    }
   ],
   "source": [
    "search_button6=driver6.find_element_by_xpath(\"//button[@class='L0Z3Pu']\")\n",
    "search_button6"
   ]
  },
  {
   "cell_type": "code",
   "execution_count": 208,
   "metadata": {},
   "outputs": [],
   "source": [
    "search_button6.click()"
   ]
  },
  {
   "cell_type": "code",
   "execution_count": 234,
   "metadata": {
    "collapsed": true
   },
   "outputs": [
    {
     "data": {
      "text/plain": [
       "[<selenium.webdriver.remote.webelement.WebElement (session=\"e6d8d4304698062fa70e6c5d6ed61ea5\", element=\"bb9fce19-5f69-481c-9f40-5016b741691e\")>,\n",
       " <selenium.webdriver.remote.webelement.WebElement (session=\"e6d8d4304698062fa70e6c5d6ed61ea5\", element=\"fb5fa863-013b-469f-928b-5e25113cfc99\")>,\n",
       " <selenium.webdriver.remote.webelement.WebElement (session=\"e6d8d4304698062fa70e6c5d6ed61ea5\", element=\"1b471662-f4aa-4806-8a99-222c9bff6530\")>,\n",
       " <selenium.webdriver.remote.webelement.WebElement (session=\"e6d8d4304698062fa70e6c5d6ed61ea5\", element=\"6647c2ee-c5dd-4281-ac84-86de01e47724\")>,\n",
       " <selenium.webdriver.remote.webelement.WebElement (session=\"e6d8d4304698062fa70e6c5d6ed61ea5\", element=\"2f156a2f-1609-4317-84e7-117f66bdc321\")>,\n",
       " <selenium.webdriver.remote.webelement.WebElement (session=\"e6d8d4304698062fa70e6c5d6ed61ea5\", element=\"bdafdc0e-0c05-42dd-8609-f334fd1b05c9\")>,\n",
       " <selenium.webdriver.remote.webelement.WebElement (session=\"e6d8d4304698062fa70e6c5d6ed61ea5\", element=\"c7d27d9a-1f77-4d28-b68a-34b60f37421c\")>,\n",
       " <selenium.webdriver.remote.webelement.WebElement (session=\"e6d8d4304698062fa70e6c5d6ed61ea5\", element=\"9f542bfc-650e-40b9-bc35-64f2f6614183\")>,\n",
       " <selenium.webdriver.remote.webelement.WebElement (session=\"e6d8d4304698062fa70e6c5d6ed61ea5\", element=\"14343934-740c-4829-8984-b2a62647ffb4\")>,\n",
       " <selenium.webdriver.remote.webelement.WebElement (session=\"e6d8d4304698062fa70e6c5d6ed61ea5\", element=\"9b2a21de-d620-45e9-8072-52784c7cf7ac\")>,\n",
       " <selenium.webdriver.remote.webelement.WebElement (session=\"e6d8d4304698062fa70e6c5d6ed61ea5\", element=\"e23724a3-6741-4493-8cd2-38b75ee3a2ac\")>,\n",
       " <selenium.webdriver.remote.webelement.WebElement (session=\"e6d8d4304698062fa70e6c5d6ed61ea5\", element=\"b4ac5566-a97c-44ba-a457-32bfdeb08dc6\")>,\n",
       " <selenium.webdriver.remote.webelement.WebElement (session=\"e6d8d4304698062fa70e6c5d6ed61ea5\", element=\"156f0f3a-6a56-428b-bf34-36edc1741089\")>,\n",
       " <selenium.webdriver.remote.webelement.WebElement (session=\"e6d8d4304698062fa70e6c5d6ed61ea5\", element=\"5c0f624e-0610-474e-995e-1a627e50e427\")>,\n",
       " <selenium.webdriver.remote.webelement.WebElement (session=\"e6d8d4304698062fa70e6c5d6ed61ea5\", element=\"521303f6-b305-49f8-814f-1a0a6b0678d7\")>,\n",
       " <selenium.webdriver.remote.webelement.WebElement (session=\"e6d8d4304698062fa70e6c5d6ed61ea5\", element=\"bd4e00ab-a15b-4745-b419-e66ff70315ca\")>,\n",
       " <selenium.webdriver.remote.webelement.WebElement (session=\"e6d8d4304698062fa70e6c5d6ed61ea5\", element=\"706895de-1136-4874-a2af-a7aa206e0c38\")>,\n",
       " <selenium.webdriver.remote.webelement.WebElement (session=\"e6d8d4304698062fa70e6c5d6ed61ea5\", element=\"cdb42def-ea2a-4ab8-b331-40b65eb4f93c\")>,\n",
       " <selenium.webdriver.remote.webelement.WebElement (session=\"e6d8d4304698062fa70e6c5d6ed61ea5\", element=\"d9fdc59f-3647-4f66-85ba-d17fa0e7a23f\")>,\n",
       " <selenium.webdriver.remote.webelement.WebElement (session=\"e6d8d4304698062fa70e6c5d6ed61ea5\", element=\"4d5ab135-bed4-4244-ab34-a8c953864b5d\")>,\n",
       " <selenium.webdriver.remote.webelement.WebElement (session=\"e6d8d4304698062fa70e6c5d6ed61ea5\", element=\"da3cfcbb-1345-4dad-ac9e-b368c57198bf\")>,\n",
       " <selenium.webdriver.remote.webelement.WebElement (session=\"e6d8d4304698062fa70e6c5d6ed61ea5\", element=\"08995049-2e80-485d-aa83-6ca2f12d2eae\")>,\n",
       " <selenium.webdriver.remote.webelement.WebElement (session=\"e6d8d4304698062fa70e6c5d6ed61ea5\", element=\"183f2b7b-8c3e-4d63-af1c-1f341526c2ec\")>,\n",
       " <selenium.webdriver.remote.webelement.WebElement (session=\"e6d8d4304698062fa70e6c5d6ed61ea5\", element=\"ae37a547-ead0-4281-b250-7a3216996a74\")>,\n",
       " <selenium.webdriver.remote.webelement.WebElement (session=\"e6d8d4304698062fa70e6c5d6ed61ea5\", element=\"29eaa3f7-4c4e-498a-a0c5-769462fe1be4\")>,\n",
       " <selenium.webdriver.remote.webelement.WebElement (session=\"e6d8d4304698062fa70e6c5d6ed61ea5\", element=\"da916c61-e912-4c32-b581-3380a5f51328\")>,\n",
       " <selenium.webdriver.remote.webelement.WebElement (session=\"e6d8d4304698062fa70e6c5d6ed61ea5\", element=\"746109fe-be0c-4e77-b1ed-9af05d3488a7\")>,\n",
       " <selenium.webdriver.remote.webelement.WebElement (session=\"e6d8d4304698062fa70e6c5d6ed61ea5\", element=\"f38db013-386c-45e0-994c-09437c33555f\")>,\n",
       " <selenium.webdriver.remote.webelement.WebElement (session=\"e6d8d4304698062fa70e6c5d6ed61ea5\", element=\"0c76624b-21b2-4e34-99e1-1827a07a8507\")>,\n",
       " <selenium.webdriver.remote.webelement.WebElement (session=\"e6d8d4304698062fa70e6c5d6ed61ea5\", element=\"c6e2412b-6969-4c70-afbc-b8c6dca2f5f8\")>,\n",
       " <selenium.webdriver.remote.webelement.WebElement (session=\"e6d8d4304698062fa70e6c5d6ed61ea5\", element=\"6a74c7a3-d0a9-4e37-ba70-30059c542844\")>,\n",
       " <selenium.webdriver.remote.webelement.WebElement (session=\"e6d8d4304698062fa70e6c5d6ed61ea5\", element=\"5bd5c557-4bdf-4f18-90c1-865f6afe963c\")>,\n",
       " <selenium.webdriver.remote.webelement.WebElement (session=\"e6d8d4304698062fa70e6c5d6ed61ea5\", element=\"7b736474-d9d4-421c-b987-6888cdd392dd\")>,\n",
       " <selenium.webdriver.remote.webelement.WebElement (session=\"e6d8d4304698062fa70e6c5d6ed61ea5\", element=\"4578f5ef-3e69-45fb-a5db-051414af465b\")>,\n",
       " <selenium.webdriver.remote.webelement.WebElement (session=\"e6d8d4304698062fa70e6c5d6ed61ea5\", element=\"974d0dc7-1944-4574-9074-6a784409ffda\")>,\n",
       " <selenium.webdriver.remote.webelement.WebElement (session=\"e6d8d4304698062fa70e6c5d6ed61ea5\", element=\"b1c7c7d0-2141-42b3-bdbd-428b7c8d55ed\")>,\n",
       " <selenium.webdriver.remote.webelement.WebElement (session=\"e6d8d4304698062fa70e6c5d6ed61ea5\", element=\"cbb3fa35-bc21-464c-bbe5-d2b67f22545c\")>,\n",
       " <selenium.webdriver.remote.webelement.WebElement (session=\"e6d8d4304698062fa70e6c5d6ed61ea5\", element=\"409d7be1-bbfc-45f0-8008-38ff1e893970\")>,\n",
       " <selenium.webdriver.remote.webelement.WebElement (session=\"e6d8d4304698062fa70e6c5d6ed61ea5\", element=\"489e1c38-3792-466b-91a3-0fce4cdc24c4\")>,\n",
       " <selenium.webdriver.remote.webelement.WebElement (session=\"e6d8d4304698062fa70e6c5d6ed61ea5\", element=\"0e60751a-f675-4a50-9214-0af0bae258f9\")>]"
      ]
     },
     "execution_count": 234,
     "metadata": {},
     "output_type": "execute_result"
    }
   ],
   "source": [
    "Type=driver6.find_elements_by_xpath(\"//div[@class='_2WkVRV']\")\n",
    "Type"
   ]
  },
  {
   "cell_type": "code",
   "execution_count": 235,
   "metadata": {
    "collapsed": true
   },
   "outputs": [
    {
     "data": {
      "text/plain": [
       "['ROZZETTA CRAFT',\n",
       " 'VINCENT CHASE',\n",
       " 'Fastrack',\n",
       " 'PIRASO',\n",
       " 'PIRASO',\n",
       " 'Elligator',\n",
       " 'SHAAH COLLECTIONS',\n",
       " 'ROYAL SON',\n",
       " 'PIRASO',\n",
       " 'New Specs',\n",
       " 'Fastrack',\n",
       " 'Fastrack',\n",
       " 'ROZZETTA CRAFT',\n",
       " 'Elligator',\n",
       " 'kingsunglasses',\n",
       " 'ROYAL SON',\n",
       " 'Rich Club',\n",
       " 'Fastrack',\n",
       " 'Singco India',\n",
       " 'ROYAL SON',\n",
       " 'Fastrack',\n",
       " 'Fastrack',\n",
       " 'Singco India',\n",
       " 'VINCENT CHASE',\n",
       " 'NuVew',\n",
       " 'PHENOMENAL',\n",
       " 'kingsunglasses',\n",
       " 'ROYAL SON',\n",
       " 'GANSTA',\n",
       " 'Fastrack',\n",
       " 'Fastrack',\n",
       " 'AISLIN',\n",
       " 'Fastrack',\n",
       " 'GANSTA',\n",
       " 'SHAAH COLLECTIONS',\n",
       " 'ROYAL SON',\n",
       " 'kingsunglasses',\n",
       " 'GANSTA',\n",
       " 'Silver Kartz',\n",
       " 'ROYAL SON']"
      ]
     },
     "execution_count": 235,
     "metadata": {},
     "output_type": "execute_result"
    }
   ],
   "source": [
    "Brand1=[]\n",
    "for i in Type:\n",
    "    Brand1.append(i.text)\n",
    "Brand1"
   ]
  },
  {
   "cell_type": "code",
   "execution_count": 236,
   "metadata": {
    "collapsed": true
   },
   "outputs": [
    {
     "data": {
      "text/plain": [
       "[<selenium.webdriver.remote.webelement.WebElement (session=\"e6d8d4304698062fa70e6c5d6ed61ea5\", element=\"8114bb44-26fd-4642-9b76-aaa198f1aaa8\")>,\n",
       " <selenium.webdriver.remote.webelement.WebElement (session=\"e6d8d4304698062fa70e6c5d6ed61ea5\", element=\"b42d176f-f8cd-48ad-af0a-54be5933a635\")>,\n",
       " <selenium.webdriver.remote.webelement.WebElement (session=\"e6d8d4304698062fa70e6c5d6ed61ea5\", element=\"677ed846-15d3-412a-9ef5-e9c6e7fcfe21\")>,\n",
       " <selenium.webdriver.remote.webelement.WebElement (session=\"e6d8d4304698062fa70e6c5d6ed61ea5\", element=\"46786055-b617-4a72-8ae8-76af7f6cbab5\")>,\n",
       " <selenium.webdriver.remote.webelement.WebElement (session=\"e6d8d4304698062fa70e6c5d6ed61ea5\", element=\"d7e9621f-04f6-4433-b928-fe9fde61e164\")>,\n",
       " <selenium.webdriver.remote.webelement.WebElement (session=\"e6d8d4304698062fa70e6c5d6ed61ea5\", element=\"eb3353fb-8e94-4bc8-96db-6fb6ece4cc63\")>,\n",
       " <selenium.webdriver.remote.webelement.WebElement (session=\"e6d8d4304698062fa70e6c5d6ed61ea5\", element=\"de4ee44d-c470-4cea-a9f4-8acdb5249695\")>,\n",
       " <selenium.webdriver.remote.webelement.WebElement (session=\"e6d8d4304698062fa70e6c5d6ed61ea5\", element=\"bf39d7b7-399e-4411-a014-be4ea4a2cace\")>,\n",
       " <selenium.webdriver.remote.webelement.WebElement (session=\"e6d8d4304698062fa70e6c5d6ed61ea5\", element=\"facd1163-50f6-4a6c-8a8e-6ffaaa70fe79\")>,\n",
       " <selenium.webdriver.remote.webelement.WebElement (session=\"e6d8d4304698062fa70e6c5d6ed61ea5\", element=\"e77ad17a-e220-421e-a805-6e6290b70bdf\")>,\n",
       " <selenium.webdriver.remote.webelement.WebElement (session=\"e6d8d4304698062fa70e6c5d6ed61ea5\", element=\"ed9527d6-cdd3-4ebc-8012-4abdf6d3ca16\")>,\n",
       " <selenium.webdriver.remote.webelement.WebElement (session=\"e6d8d4304698062fa70e6c5d6ed61ea5\", element=\"cce6197e-0e4b-48ab-b539-212185e22ef6\")>,\n",
       " <selenium.webdriver.remote.webelement.WebElement (session=\"e6d8d4304698062fa70e6c5d6ed61ea5\", element=\"0070c62a-10b4-4579-a7a9-aab851ef54a7\")>,\n",
       " <selenium.webdriver.remote.webelement.WebElement (session=\"e6d8d4304698062fa70e6c5d6ed61ea5\", element=\"26ad01e7-2948-45cf-8b10-b1f3c275c0dd\")>,\n",
       " <selenium.webdriver.remote.webelement.WebElement (session=\"e6d8d4304698062fa70e6c5d6ed61ea5\", element=\"bc56a81e-4448-4cac-9649-35c1f5f4c74a\")>,\n",
       " <selenium.webdriver.remote.webelement.WebElement (session=\"e6d8d4304698062fa70e6c5d6ed61ea5\", element=\"ceb4971e-e2fe-44d2-bb82-18abaf524f30\")>,\n",
       " <selenium.webdriver.remote.webelement.WebElement (session=\"e6d8d4304698062fa70e6c5d6ed61ea5\", element=\"96131099-c497-4e2f-98ef-689da892864a\")>,\n",
       " <selenium.webdriver.remote.webelement.WebElement (session=\"e6d8d4304698062fa70e6c5d6ed61ea5\", element=\"1a135686-a980-496f-863a-d7286714d7f1\")>,\n",
       " <selenium.webdriver.remote.webelement.WebElement (session=\"e6d8d4304698062fa70e6c5d6ed61ea5\", element=\"f4364971-21f8-4113-a4dc-e613cf60b205\")>,\n",
       " <selenium.webdriver.remote.webelement.WebElement (session=\"e6d8d4304698062fa70e6c5d6ed61ea5\", element=\"eb7f9dbe-0a21-4e89-ac0b-fc5f630a5a5d\")>,\n",
       " <selenium.webdriver.remote.webelement.WebElement (session=\"e6d8d4304698062fa70e6c5d6ed61ea5\", element=\"13ae6062-2a11-4dbb-ad91-201ae17258ae\")>,\n",
       " <selenium.webdriver.remote.webelement.WebElement (session=\"e6d8d4304698062fa70e6c5d6ed61ea5\", element=\"5172dbcf-b777-48f7-b2d4-fce0f1c8131b\")>,\n",
       " <selenium.webdriver.remote.webelement.WebElement (session=\"e6d8d4304698062fa70e6c5d6ed61ea5\", element=\"6827212c-2ece-4057-ba9a-bbd58f865a51\")>,\n",
       " <selenium.webdriver.remote.webelement.WebElement (session=\"e6d8d4304698062fa70e6c5d6ed61ea5\", element=\"2e1ddf4a-e300-4a99-962c-821c2dded944\")>,\n",
       " <selenium.webdriver.remote.webelement.WebElement (session=\"e6d8d4304698062fa70e6c5d6ed61ea5\", element=\"8b1cf384-17ba-47b1-b3aa-2b2b2f5d1430\")>,\n",
       " <selenium.webdriver.remote.webelement.WebElement (session=\"e6d8d4304698062fa70e6c5d6ed61ea5\", element=\"e6568c17-da55-4a8e-bac2-2ed1ad1c105a\")>,\n",
       " <selenium.webdriver.remote.webelement.WebElement (session=\"e6d8d4304698062fa70e6c5d6ed61ea5\", element=\"4c69c30d-0ba0-43f4-85ce-7fdf4a3a940f\")>,\n",
       " <selenium.webdriver.remote.webelement.WebElement (session=\"e6d8d4304698062fa70e6c5d6ed61ea5\", element=\"0a1a40c0-2cc2-4d3a-b8ee-99c106d705fe\")>,\n",
       " <selenium.webdriver.remote.webelement.WebElement (session=\"e6d8d4304698062fa70e6c5d6ed61ea5\", element=\"3f8c91ec-b89e-4b84-8d09-6963e631f238\")>,\n",
       " <selenium.webdriver.remote.webelement.WebElement (session=\"e6d8d4304698062fa70e6c5d6ed61ea5\", element=\"38a0d251-66cf-46f9-9b0c-a389aa80f648\")>,\n",
       " <selenium.webdriver.remote.webelement.WebElement (session=\"e6d8d4304698062fa70e6c5d6ed61ea5\", element=\"f1498c32-4388-47d9-a61a-395ec09f27ae\")>,\n",
       " <selenium.webdriver.remote.webelement.WebElement (session=\"e6d8d4304698062fa70e6c5d6ed61ea5\", element=\"d0e4ad8d-09b0-4a50-9ef6-56c4766d7b33\")>,\n",
       " <selenium.webdriver.remote.webelement.WebElement (session=\"e6d8d4304698062fa70e6c5d6ed61ea5\", element=\"cb77f8d6-5bb9-4298-bea4-bc5edc80a0e6\")>,\n",
       " <selenium.webdriver.remote.webelement.WebElement (session=\"e6d8d4304698062fa70e6c5d6ed61ea5\", element=\"830a09c8-feb5-468f-9e9d-8454a7e5bd31\")>,\n",
       " <selenium.webdriver.remote.webelement.WebElement (session=\"e6d8d4304698062fa70e6c5d6ed61ea5\", element=\"a7c4e28e-b35b-4b8a-94f6-c3228fff2642\")>,\n",
       " <selenium.webdriver.remote.webelement.WebElement (session=\"e6d8d4304698062fa70e6c5d6ed61ea5\", element=\"69d3ddec-f9ed-4ca5-86f0-a821ad5d05f7\")>,\n",
       " <selenium.webdriver.remote.webelement.WebElement (session=\"e6d8d4304698062fa70e6c5d6ed61ea5\", element=\"4f810b70-d837-4057-b8ef-5ad3be144fa7\")>,\n",
       " <selenium.webdriver.remote.webelement.WebElement (session=\"e6d8d4304698062fa70e6c5d6ed61ea5\", element=\"cca9aa1f-13c7-406f-9616-67a47952fc59\")>,\n",
       " <selenium.webdriver.remote.webelement.WebElement (session=\"e6d8d4304698062fa70e6c5d6ed61ea5\", element=\"be9705d4-282e-4b1c-9ed9-b0b6f245cbe0\")>,\n",
       " <selenium.webdriver.remote.webelement.WebElement (session=\"e6d8d4304698062fa70e6c5d6ed61ea5\", element=\"4ba10563-c8b3-4630-b9f1-b7835039508e\")>]"
      ]
     },
     "execution_count": 236,
     "metadata": {},
     "output_type": "execute_result"
    }
   ],
   "source": [
    "Desc1=driver6.find_elements_by_xpath(\"//a[@class='IRpwTa']\")\n",
    "Desc1"
   ]
  },
  {
   "cell_type": "code",
   "execution_count": 237,
   "metadata": {
    "collapsed": true
   },
   "outputs": [
    {
     "data": {
      "text/plain": [
       "['UV Protection, Gradient Round Sunglasses (Free Size)',\n",
       " 'Polarized, UV Protection Wayfarer Sunglasses (53)',\n",
       " 'UV Protection Wayfarer Sunglasses (Free Size)',\n",
       " 'UV Protection Aviator Sunglasses (54)',\n",
       " 'UV Protection Aviator Sunglasses (54)',\n",
       " 'UV Protection Round Sunglasses (54)',\n",
       " 'UV Protection, Polarized, Mirrored Rectangular Sunglass...',\n",
       " 'UV Protection Rectangular Sunglasses (58)',\n",
       " 'UV Protection Aviator Sunglasses (54)',\n",
       " 'Mirrored, UV Protection, Riding Glasses, Others Round S...',\n",
       " 'Gradient, UV Protection Wayfarer Sunglasses (Free Size)',\n",
       " 'UV Protection Wayfarer Sunglasses (Free Size)',\n",
       " 'UV Protection Retro Square Sunglasses (Free Size)',\n",
       " 'UV Protection Round Sunglasses (55)',\n",
       " 'Mirrored, UV Protection Wayfarer Sunglasses (Free Size)',\n",
       " 'Polarized, UV Protection Round Sunglasses (53)',\n",
       " 'Polarized Round Sunglasses (48)',\n",
       " 'UV Protection Shield Sunglasses (Free Size)',\n",
       " 'UV Protection Aviator Sunglasses (Free Size)',\n",
       " 'UV Protection Rectangular Sunglasses (Free Size)',\n",
       " 'UV Protection Aviator Sunglasses (Free Size)',\n",
       " 'UV Protection Wayfarer Sunglasses (Free Size)',\n",
       " 'UV Protection, Riding Glasses, Others Aviator, Wayfarer...',\n",
       " 'Polarized, UV Protection Wayfarer Sunglasses (57)',\n",
       " 'UV Protection, Night Vision, Riding Glasses Sports Sung...',\n",
       " 'UV Protection Retro Square Sunglasses (Free Size)',\n",
       " 'Mirrored, UV Protection Wayfarer, Wayfarer, Wayfarer, W...',\n",
       " 'UV Protection Over-sized Sunglasses (65)',\n",
       " 'UV Protection Aviator Sunglasses (57)',\n",
       " 'Gradient, UV Protection Wayfarer Sunglasses (Free Size)',\n",
       " 'Mirrored, UV Protection Wayfarer Sunglasses (Free Size)',\n",
       " 'UV Protection Wayfarer, Rectangular Sunglasses (53)',\n",
       " 'UV Protection Aviator Sunglasses (Free Size)',\n",
       " 'UV Protection Aviator Sunglasses (57)',\n",
       " 'UV Protection Round Sunglasses (Free Size)',\n",
       " 'Mirrored Aviator Sunglasses (58)',\n",
       " 'UV Protection Round Sunglasses (54)',\n",
       " 'UV Protection, Night Vision, Riding Glasses Aviator Sun...',\n",
       " 'UV Protection Oval Sunglasses (56)',\n",
       " 'UV Protection, Gradient Over-sized Sunglasses (56)']"
      ]
     },
     "execution_count": 237,
     "metadata": {},
     "output_type": "execute_result"
    }
   ],
   "source": [
    "Product_Description1=[]\n",
    "for i in Desc1:\n",
    "    Product_Description1.append(i.text)\n",
    "Product_Description1"
   ]
  },
  {
   "cell_type": "code",
   "execution_count": 238,
   "metadata": {
    "collapsed": true
   },
   "outputs": [
    {
     "data": {
      "text/plain": [
       "[<selenium.webdriver.remote.webelement.WebElement (session=\"e6d8d4304698062fa70e6c5d6ed61ea5\", element=\"275bc427-31aa-4f47-8e4e-04cc3e803d8b\")>,\n",
       " <selenium.webdriver.remote.webelement.WebElement (session=\"e6d8d4304698062fa70e6c5d6ed61ea5\", element=\"662cae4e-229d-4080-855d-abc81b971e9d\")>,\n",
       " <selenium.webdriver.remote.webelement.WebElement (session=\"e6d8d4304698062fa70e6c5d6ed61ea5\", element=\"31ae2e7b-cb69-40ac-bc8a-3f56aec0fc34\")>,\n",
       " <selenium.webdriver.remote.webelement.WebElement (session=\"e6d8d4304698062fa70e6c5d6ed61ea5\", element=\"cc7f7646-507c-403d-a2a2-dbf0602d83a6\")>,\n",
       " <selenium.webdriver.remote.webelement.WebElement (session=\"e6d8d4304698062fa70e6c5d6ed61ea5\", element=\"35cf0c25-b242-4053-b8e7-954d70e2ca33\")>,\n",
       " <selenium.webdriver.remote.webelement.WebElement (session=\"e6d8d4304698062fa70e6c5d6ed61ea5\", element=\"6b12bcd6-a182-4306-ab9e-004ecbf44712\")>,\n",
       " <selenium.webdriver.remote.webelement.WebElement (session=\"e6d8d4304698062fa70e6c5d6ed61ea5\", element=\"048aed80-2344-486a-b001-da33ebeb1c4f\")>,\n",
       " <selenium.webdriver.remote.webelement.WebElement (session=\"e6d8d4304698062fa70e6c5d6ed61ea5\", element=\"482f5fef-df69-4d72-a777-1c6c798ce324\")>,\n",
       " <selenium.webdriver.remote.webelement.WebElement (session=\"e6d8d4304698062fa70e6c5d6ed61ea5\", element=\"da46a539-1e95-4f83-8aa1-397ed553807d\")>,\n",
       " <selenium.webdriver.remote.webelement.WebElement (session=\"e6d8d4304698062fa70e6c5d6ed61ea5\", element=\"f67a9b86-ff24-4a47-a27c-a12f8d64e392\")>,\n",
       " <selenium.webdriver.remote.webelement.WebElement (session=\"e6d8d4304698062fa70e6c5d6ed61ea5\", element=\"6f51e4a0-6da1-418a-a24a-d3b0197de630\")>,\n",
       " <selenium.webdriver.remote.webelement.WebElement (session=\"e6d8d4304698062fa70e6c5d6ed61ea5\", element=\"47396204-c389-444a-b1c2-fbb99a89eeb8\")>,\n",
       " <selenium.webdriver.remote.webelement.WebElement (session=\"e6d8d4304698062fa70e6c5d6ed61ea5\", element=\"67f7cb33-b6c4-4aed-bbb2-bc4885f087e8\")>,\n",
       " <selenium.webdriver.remote.webelement.WebElement (session=\"e6d8d4304698062fa70e6c5d6ed61ea5\", element=\"8fed67f5-22d9-4d1c-996f-6765fc8bce23\")>,\n",
       " <selenium.webdriver.remote.webelement.WebElement (session=\"e6d8d4304698062fa70e6c5d6ed61ea5\", element=\"74f1fee2-dbb2-46b6-ae24-1c9a47a5bd90\")>,\n",
       " <selenium.webdriver.remote.webelement.WebElement (session=\"e6d8d4304698062fa70e6c5d6ed61ea5\", element=\"59703bb5-f43e-4046-9c01-8157913d28de\")>,\n",
       " <selenium.webdriver.remote.webelement.WebElement (session=\"e6d8d4304698062fa70e6c5d6ed61ea5\", element=\"eca0537e-a2a5-4008-bc86-1a496c48620a\")>,\n",
       " <selenium.webdriver.remote.webelement.WebElement (session=\"e6d8d4304698062fa70e6c5d6ed61ea5\", element=\"ec335dd1-15b5-4cbf-a29b-95f234a77e76\")>,\n",
       " <selenium.webdriver.remote.webelement.WebElement (session=\"e6d8d4304698062fa70e6c5d6ed61ea5\", element=\"25dac683-959e-415d-97a8-9ddca909ccfa\")>,\n",
       " <selenium.webdriver.remote.webelement.WebElement (session=\"e6d8d4304698062fa70e6c5d6ed61ea5\", element=\"caeeb655-6ad4-48e4-8856-4b06046016b3\")>,\n",
       " <selenium.webdriver.remote.webelement.WebElement (session=\"e6d8d4304698062fa70e6c5d6ed61ea5\", element=\"ac2498f0-b2fb-4d01-825c-d83e6bb4120f\")>,\n",
       " <selenium.webdriver.remote.webelement.WebElement (session=\"e6d8d4304698062fa70e6c5d6ed61ea5\", element=\"195b38be-ed73-4667-9c6b-ce8e60b12477\")>,\n",
       " <selenium.webdriver.remote.webelement.WebElement (session=\"e6d8d4304698062fa70e6c5d6ed61ea5\", element=\"4ea4753e-a7a0-49c5-b87c-00b1f1260283\")>,\n",
       " <selenium.webdriver.remote.webelement.WebElement (session=\"e6d8d4304698062fa70e6c5d6ed61ea5\", element=\"e6e32a89-ad3f-48af-9f59-0ac13a6864d7\")>,\n",
       " <selenium.webdriver.remote.webelement.WebElement (session=\"e6d8d4304698062fa70e6c5d6ed61ea5\", element=\"8585a96d-00f3-4fbb-90a1-8d91562b6b83\")>,\n",
       " <selenium.webdriver.remote.webelement.WebElement (session=\"e6d8d4304698062fa70e6c5d6ed61ea5\", element=\"6a5ecd3c-0a04-4404-842d-89d36fb94f1b\")>,\n",
       " <selenium.webdriver.remote.webelement.WebElement (session=\"e6d8d4304698062fa70e6c5d6ed61ea5\", element=\"38e826ef-24db-481e-9d9e-a4f2ecf8c767\")>,\n",
       " <selenium.webdriver.remote.webelement.WebElement (session=\"e6d8d4304698062fa70e6c5d6ed61ea5\", element=\"07ab34cc-f0fc-4ad6-80f7-6623351f6721\")>,\n",
       " <selenium.webdriver.remote.webelement.WebElement (session=\"e6d8d4304698062fa70e6c5d6ed61ea5\", element=\"c67ef554-8308-4bd3-98c7-2c2ab717e4eb\")>,\n",
       " <selenium.webdriver.remote.webelement.WebElement (session=\"e6d8d4304698062fa70e6c5d6ed61ea5\", element=\"64920f22-d382-4623-9740-13e0f706acb7\")>,\n",
       " <selenium.webdriver.remote.webelement.WebElement (session=\"e6d8d4304698062fa70e6c5d6ed61ea5\", element=\"aa1990a6-ac69-4114-a181-82129713e4f6\")>,\n",
       " <selenium.webdriver.remote.webelement.WebElement (session=\"e6d8d4304698062fa70e6c5d6ed61ea5\", element=\"fa612c4b-71ed-46f3-8220-a3ad4c7751d5\")>,\n",
       " <selenium.webdriver.remote.webelement.WebElement (session=\"e6d8d4304698062fa70e6c5d6ed61ea5\", element=\"97a87915-0268-4eec-b483-f5e083692ef4\")>,\n",
       " <selenium.webdriver.remote.webelement.WebElement (session=\"e6d8d4304698062fa70e6c5d6ed61ea5\", element=\"6e384990-777b-42e7-bd6d-ce712911a48d\")>,\n",
       " <selenium.webdriver.remote.webelement.WebElement (session=\"e6d8d4304698062fa70e6c5d6ed61ea5\", element=\"533fd372-1832-4252-9624-0b04d73d6820\")>,\n",
       " <selenium.webdriver.remote.webelement.WebElement (session=\"e6d8d4304698062fa70e6c5d6ed61ea5\", element=\"8f506b19-426f-4ea6-b754-a01e358ebe13\")>,\n",
       " <selenium.webdriver.remote.webelement.WebElement (session=\"e6d8d4304698062fa70e6c5d6ed61ea5\", element=\"3d6b5f26-d984-447b-8f20-0c503266f5e6\")>,\n",
       " <selenium.webdriver.remote.webelement.WebElement (session=\"e6d8d4304698062fa70e6c5d6ed61ea5\", element=\"36c80fa8-d8d3-45bf-975f-5f1fcbd83b9e\")>,\n",
       " <selenium.webdriver.remote.webelement.WebElement (session=\"e6d8d4304698062fa70e6c5d6ed61ea5\", element=\"a6beb7f5-1fb4-4375-8851-d7bef7332356\")>,\n",
       " <selenium.webdriver.remote.webelement.WebElement (session=\"e6d8d4304698062fa70e6c5d6ed61ea5\", element=\"7b1e951f-878d-428c-9c94-2dc0a26b8340\")>]"
      ]
     },
     "execution_count": 238,
     "metadata": {},
     "output_type": "execute_result"
    }
   ],
   "source": [
    "Rate1=driver6.find_elements_by_xpath(\"//div[@class='_30jeq3']\")\n",
    "Rate1"
   ]
  },
  {
   "cell_type": "code",
   "execution_count": 242,
   "metadata": {
    "collapsed": true
   },
   "outputs": [
    {
     "data": {
      "text/plain": [
       "['₹359',\n",
       " '₹799',\n",
       " '₹758',\n",
       " '₹200',\n",
       " '₹200',\n",
       " '₹295',\n",
       " '₹198',\n",
       " '₹399',\n",
       " '₹200',\n",
       " '₹299',\n",
       " '₹509',\n",
       " '₹824',\n",
       " '₹474',\n",
       " '₹266',\n",
       " '₹284',\n",
       " '₹524',\n",
       " '₹199',\n",
       " '₹879',\n",
       " '₹362',\n",
       " '₹399',\n",
       " '₹546',\n",
       " '₹689',\n",
       " '₹229',\n",
       " '₹799',\n",
       " '₹267',\n",
       " '₹379',\n",
       " '₹284',\n",
       " '₹559',\n",
       " '₹239',\n",
       " '₹652',\n",
       " '₹738',\n",
       " '₹735',\n",
       " '₹689',\n",
       " '₹207',\n",
       " '₹331',\n",
       " '₹319',\n",
       " '₹213',\n",
       " '₹248',\n",
       " '₹224',\n",
       " '₹524']"
      ]
     },
     "execution_count": 242,
     "metadata": {},
     "output_type": "execute_result"
    }
   ],
   "source": [
    "Price1=[]\n",
    "for i in Rate1:\n",
    "    Price1.append(i.text)\n",
    "Price1"
   ]
  },
  {
   "cell_type": "code",
   "execution_count": 246,
   "metadata": {
    "collapsed": true
   },
   "outputs": [
    {
     "data": {
      "text/plain": [
       "[<selenium.webdriver.remote.webelement.WebElement (session=\"e6d8d4304698062fa70e6c5d6ed61ea5\", element=\"6fafb1a5-7e98-4988-8250-32dc750f93f1\")>,\n",
       " <selenium.webdriver.remote.webelement.WebElement (session=\"e6d8d4304698062fa70e6c5d6ed61ea5\", element=\"f8ffa330-46f2-4ce1-9b81-1d585b69aa20\")>,\n",
       " <selenium.webdriver.remote.webelement.WebElement (session=\"e6d8d4304698062fa70e6c5d6ed61ea5\", element=\"e1a52351-f026-4ea2-a237-6dca3d75ebd7\")>,\n",
       " <selenium.webdriver.remote.webelement.WebElement (session=\"e6d8d4304698062fa70e6c5d6ed61ea5\", element=\"5472dd25-eedc-4092-a891-75a09cad456a\")>,\n",
       " <selenium.webdriver.remote.webelement.WebElement (session=\"e6d8d4304698062fa70e6c5d6ed61ea5\", element=\"2d654475-8d95-42ee-9f57-0c3c1b4d6c97\")>,\n",
       " <selenium.webdriver.remote.webelement.WebElement (session=\"e6d8d4304698062fa70e6c5d6ed61ea5\", element=\"f887237b-6d0c-4ef8-a5fe-bd07242858c1\")>,\n",
       " <selenium.webdriver.remote.webelement.WebElement (session=\"e6d8d4304698062fa70e6c5d6ed61ea5\", element=\"413400e5-23aa-4ed4-9e93-2bcaeeebe421\")>,\n",
       " <selenium.webdriver.remote.webelement.WebElement (session=\"e6d8d4304698062fa70e6c5d6ed61ea5\", element=\"5b5dddc0-8cdf-4683-a6be-0b19f173402b\")>,\n",
       " <selenium.webdriver.remote.webelement.WebElement (session=\"e6d8d4304698062fa70e6c5d6ed61ea5\", element=\"e7542d12-e737-4f6c-bde8-b1fe0abafbeb\")>,\n",
       " <selenium.webdriver.remote.webelement.WebElement (session=\"e6d8d4304698062fa70e6c5d6ed61ea5\", element=\"d31a2a1d-2896-4b6e-a8a9-44190b94a1d0\")>,\n",
       " <selenium.webdriver.remote.webelement.WebElement (session=\"e6d8d4304698062fa70e6c5d6ed61ea5\", element=\"ad4fc255-932a-4f3e-b1d4-397b411ea4bb\")>,\n",
       " <selenium.webdriver.remote.webelement.WebElement (session=\"e6d8d4304698062fa70e6c5d6ed61ea5\", element=\"b122149c-cd79-4096-b3f0-8bde6dbc7fb2\")>,\n",
       " <selenium.webdriver.remote.webelement.WebElement (session=\"e6d8d4304698062fa70e6c5d6ed61ea5\", element=\"80fae6b6-2b0e-4b35-9e00-5ce6dde49078\")>,\n",
       " <selenium.webdriver.remote.webelement.WebElement (session=\"e6d8d4304698062fa70e6c5d6ed61ea5\", element=\"5c9b5361-6cae-41ae-aaa7-14574d7e4e4d\")>,\n",
       " <selenium.webdriver.remote.webelement.WebElement (session=\"e6d8d4304698062fa70e6c5d6ed61ea5\", element=\"6e637bed-96fd-4db8-b3cf-8c0c3b9d5057\")>,\n",
       " <selenium.webdriver.remote.webelement.WebElement (session=\"e6d8d4304698062fa70e6c5d6ed61ea5\", element=\"ea215a69-b088-403d-aea4-1ed254b37d32\")>,\n",
       " <selenium.webdriver.remote.webelement.WebElement (session=\"e6d8d4304698062fa70e6c5d6ed61ea5\", element=\"425cdf4a-cff7-4b62-a9db-01ddc1d7fc62\")>,\n",
       " <selenium.webdriver.remote.webelement.WebElement (session=\"e6d8d4304698062fa70e6c5d6ed61ea5\", element=\"7ae34b52-a506-49a2-aef6-a01787a1a795\")>,\n",
       " <selenium.webdriver.remote.webelement.WebElement (session=\"e6d8d4304698062fa70e6c5d6ed61ea5\", element=\"77183352-d634-4cfe-a36c-8397bb13ac6a\")>,\n",
       " <selenium.webdriver.remote.webelement.WebElement (session=\"e6d8d4304698062fa70e6c5d6ed61ea5\", element=\"78848f95-c3e0-4eb8-bedf-35fb26a30ee1\")>,\n",
       " <selenium.webdriver.remote.webelement.WebElement (session=\"e6d8d4304698062fa70e6c5d6ed61ea5\", element=\"2bd943de-07d0-4f6e-924b-69693dca23d6\")>,\n",
       " <selenium.webdriver.remote.webelement.WebElement (session=\"e6d8d4304698062fa70e6c5d6ed61ea5\", element=\"b0f106f0-5e99-4103-910b-5a59bb7df734\")>,\n",
       " <selenium.webdriver.remote.webelement.WebElement (session=\"e6d8d4304698062fa70e6c5d6ed61ea5\", element=\"d5cecf2b-f52b-40fc-85ca-2cb6407b852e\")>,\n",
       " <selenium.webdriver.remote.webelement.WebElement (session=\"e6d8d4304698062fa70e6c5d6ed61ea5\", element=\"067322c9-4bb9-4fdf-8687-ce1aa35f3b4c\")>,\n",
       " <selenium.webdriver.remote.webelement.WebElement (session=\"e6d8d4304698062fa70e6c5d6ed61ea5\", element=\"5ae12234-d848-4123-b7de-e2b538e4e295\")>,\n",
       " <selenium.webdriver.remote.webelement.WebElement (session=\"e6d8d4304698062fa70e6c5d6ed61ea5\", element=\"6ba216be-2d29-4fda-a21b-076d6995d1a3\")>,\n",
       " <selenium.webdriver.remote.webelement.WebElement (session=\"e6d8d4304698062fa70e6c5d6ed61ea5\", element=\"aab274f7-bcf5-451a-a494-1aa77ba1bdc3\")>,\n",
       " <selenium.webdriver.remote.webelement.WebElement (session=\"e6d8d4304698062fa70e6c5d6ed61ea5\", element=\"f46cd8dd-bc22-4b08-ae5c-a3f2375ffc3e\")>,\n",
       " <selenium.webdriver.remote.webelement.WebElement (session=\"e6d8d4304698062fa70e6c5d6ed61ea5\", element=\"8df6e62a-690f-4385-9e2b-b20b4b5f9183\")>,\n",
       " <selenium.webdriver.remote.webelement.WebElement (session=\"e6d8d4304698062fa70e6c5d6ed61ea5\", element=\"a5a7e155-92b4-4f6b-a1e1-ef3be109580a\")>,\n",
       " <selenium.webdriver.remote.webelement.WebElement (session=\"e6d8d4304698062fa70e6c5d6ed61ea5\", element=\"6567d553-ffac-48f3-a780-f1da24ffdfbc\")>,\n",
       " <selenium.webdriver.remote.webelement.WebElement (session=\"e6d8d4304698062fa70e6c5d6ed61ea5\", element=\"95ed3ffd-e487-4546-b751-6e999381e454\")>,\n",
       " <selenium.webdriver.remote.webelement.WebElement (session=\"e6d8d4304698062fa70e6c5d6ed61ea5\", element=\"f3606c3e-616e-4150-aaa1-ed9ffc0ca493\")>,\n",
       " <selenium.webdriver.remote.webelement.WebElement (session=\"e6d8d4304698062fa70e6c5d6ed61ea5\", element=\"98153fba-5ff0-438b-ad93-c195b5e6564d\")>,\n",
       " <selenium.webdriver.remote.webelement.WebElement (session=\"e6d8d4304698062fa70e6c5d6ed61ea5\", element=\"4b272624-89b3-4c4b-885f-e4d9c34e51c1\")>,\n",
       " <selenium.webdriver.remote.webelement.WebElement (session=\"e6d8d4304698062fa70e6c5d6ed61ea5\", element=\"0974a862-3e1f-4c26-afd5-0c0fe994ae43\")>,\n",
       " <selenium.webdriver.remote.webelement.WebElement (session=\"e6d8d4304698062fa70e6c5d6ed61ea5\", element=\"ef64e52e-699f-4470-8b59-c2ab612ff9ca\")>,\n",
       " <selenium.webdriver.remote.webelement.WebElement (session=\"e6d8d4304698062fa70e6c5d6ed61ea5\", element=\"2af1f83a-f3d9-45e1-8d36-f40420680389\")>,\n",
       " <selenium.webdriver.remote.webelement.WebElement (session=\"e6d8d4304698062fa70e6c5d6ed61ea5\", element=\"6c4fd773-02fd-417f-bd40-2e42991a4001\")>,\n",
       " <selenium.webdriver.remote.webelement.WebElement (session=\"e6d8d4304698062fa70e6c5d6ed61ea5\", element=\"67369bde-ead4-444f-82d6-b57e5daabdc8\")>]"
      ]
     },
     "execution_count": 246,
     "metadata": {},
     "output_type": "execute_result"
    }
   ],
   "source": [
    "Disc1=driver6.find_elements_by_xpath(\"//div[@class='_3Ay6Sb']\")\n",
    "Disc1"
   ]
  },
  {
   "cell_type": "code",
   "execution_count": 247,
   "metadata": {
    "collapsed": true
   },
   "outputs": [
    {
     "data": {
      "text/plain": [
       "['82% off',\n",
       " '60% off',\n",
       " '15% off',\n",
       " '87% off',\n",
       " '87% off',\n",
       " '88% off',\n",
       " '88% off',\n",
       " '73% off',\n",
       " '87% off',\n",
       " '81% off',\n",
       " '36% off',\n",
       " '8% off',\n",
       " '78% off',\n",
       " '86% off',\n",
       " '89% off',\n",
       " '73% off',\n",
       " '60% off',\n",
       " '2% off',\n",
       " '69% off',\n",
       " '73% off',\n",
       " '31% off',\n",
       " '23% off',\n",
       " '67% off',\n",
       " '60% off',\n",
       " '65% off',\n",
       " '81% off',\n",
       " '81% off',\n",
       " '62% off',\n",
       " '88% off',\n",
       " '18% off',\n",
       " '26% off',\n",
       " '71% off',\n",
       " '23% off',\n",
       " '80% off',\n",
       " '80% off',\n",
       " '78% off',\n",
       " '80% off',\n",
       " '87% off',\n",
       " '81% off',\n",
       " '73% off']"
      ]
     },
     "execution_count": 247,
     "metadata": {},
     "output_type": "execute_result"
    }
   ],
   "source": [
    "Discountinpercent1=[]\n",
    "for i in Disc1:\n",
    "    Discountinpercent1.append(i.text)\n",
    "Discountinpercent1"
   ]
  },
  {
   "cell_type": "code",
   "execution_count": 266,
   "metadata": {},
   "outputs": [
    {
     "data": {
      "text/plain": [
       "<selenium.webdriver.remote.webelement.WebElement (session=\"e6d8d4304698062fa70e6c5d6ed61ea5\", element=\"c16e2350-a8b5-42ac-906e-440ed2d8365c\")>"
      ]
     },
     "execution_count": 266,
     "metadata": {},
     "output_type": "execute_result"
    }
   ],
   "source": [
    "N1=driver6.find_element_by_xpath(\"//a[@class='_1LKTO3']\")\n",
    "N1"
   ]
  },
  {
   "cell_type": "code",
   "execution_count": 267,
   "metadata": {},
   "outputs": [],
   "source": [
    "N1.click()"
   ]
  },
  {
   "cell_type": "code",
   "execution_count": 250,
   "metadata": {
    "collapsed": true
   },
   "outputs": [
    {
     "data": {
      "text/plain": [
       "[<selenium.webdriver.remote.webelement.WebElement (session=\"e6d8d4304698062fa70e6c5d6ed61ea5\", element=\"dc52df6f-61f1-427b-9e71-bc7329abf2e3\")>,\n",
       " <selenium.webdriver.remote.webelement.WebElement (session=\"e6d8d4304698062fa70e6c5d6ed61ea5\", element=\"cb452cce-cc7e-4a67-a407-cd572436a72e\")>,\n",
       " <selenium.webdriver.remote.webelement.WebElement (session=\"e6d8d4304698062fa70e6c5d6ed61ea5\", element=\"08312497-e0c2-449e-9c49-f3a5c09d0d09\")>,\n",
       " <selenium.webdriver.remote.webelement.WebElement (session=\"e6d8d4304698062fa70e6c5d6ed61ea5\", element=\"950158ec-0c54-4f76-8ed9-56fa2f08dd99\")>,\n",
       " <selenium.webdriver.remote.webelement.WebElement (session=\"e6d8d4304698062fa70e6c5d6ed61ea5\", element=\"05768395-36ff-45cb-925a-b5d3573cb6a1\")>,\n",
       " <selenium.webdriver.remote.webelement.WebElement (session=\"e6d8d4304698062fa70e6c5d6ed61ea5\", element=\"92e39f90-2feb-428a-823f-ffe85aa46e1b\")>,\n",
       " <selenium.webdriver.remote.webelement.WebElement (session=\"e6d8d4304698062fa70e6c5d6ed61ea5\", element=\"4a3fc93d-7948-4f1b-b244-5eea4da8156d\")>,\n",
       " <selenium.webdriver.remote.webelement.WebElement (session=\"e6d8d4304698062fa70e6c5d6ed61ea5\", element=\"31204727-d127-4054-b91b-506bf2ca983a\")>,\n",
       " <selenium.webdriver.remote.webelement.WebElement (session=\"e6d8d4304698062fa70e6c5d6ed61ea5\", element=\"58e70a7a-6270-401b-89ac-49f389b62962\")>,\n",
       " <selenium.webdriver.remote.webelement.WebElement (session=\"e6d8d4304698062fa70e6c5d6ed61ea5\", element=\"24a6b724-5d13-4199-8b00-e5ccd5e3b671\")>,\n",
       " <selenium.webdriver.remote.webelement.WebElement (session=\"e6d8d4304698062fa70e6c5d6ed61ea5\", element=\"126b3195-ad07-4ead-b6cc-2e201fb30762\")>,\n",
       " <selenium.webdriver.remote.webelement.WebElement (session=\"e6d8d4304698062fa70e6c5d6ed61ea5\", element=\"d3bc5ed1-e1c4-45f1-b310-e213ff33bf26\")>,\n",
       " <selenium.webdriver.remote.webelement.WebElement (session=\"e6d8d4304698062fa70e6c5d6ed61ea5\", element=\"95d4ef9e-da20-431e-9a27-4a05e75381ff\")>,\n",
       " <selenium.webdriver.remote.webelement.WebElement (session=\"e6d8d4304698062fa70e6c5d6ed61ea5\", element=\"938e40a8-702d-47fc-8a9d-afcac49fafbc\")>,\n",
       " <selenium.webdriver.remote.webelement.WebElement (session=\"e6d8d4304698062fa70e6c5d6ed61ea5\", element=\"3bc4df7a-8d58-4450-89d6-dac4d513abc6\")>,\n",
       " <selenium.webdriver.remote.webelement.WebElement (session=\"e6d8d4304698062fa70e6c5d6ed61ea5\", element=\"671e18d3-1e06-4be7-853b-49262e67e802\")>,\n",
       " <selenium.webdriver.remote.webelement.WebElement (session=\"e6d8d4304698062fa70e6c5d6ed61ea5\", element=\"9ebbb9c0-fe37-4e57-b4a4-08ba8b88d522\")>,\n",
       " <selenium.webdriver.remote.webelement.WebElement (session=\"e6d8d4304698062fa70e6c5d6ed61ea5\", element=\"353a0278-dd85-41aa-ab83-cae2fb9f1710\")>,\n",
       " <selenium.webdriver.remote.webelement.WebElement (session=\"e6d8d4304698062fa70e6c5d6ed61ea5\", element=\"4dab0b10-018a-49c8-9ee9-6c2cf72858f6\")>,\n",
       " <selenium.webdriver.remote.webelement.WebElement (session=\"e6d8d4304698062fa70e6c5d6ed61ea5\", element=\"41374217-ff1a-49fa-968e-1a3598593f12\")>,\n",
       " <selenium.webdriver.remote.webelement.WebElement (session=\"e6d8d4304698062fa70e6c5d6ed61ea5\", element=\"285f0b40-9023-44fb-baa6-4d7dabb293cc\")>,\n",
       " <selenium.webdriver.remote.webelement.WebElement (session=\"e6d8d4304698062fa70e6c5d6ed61ea5\", element=\"74dfb2a1-7236-4d3e-8db3-6cb1f2b87dff\")>,\n",
       " <selenium.webdriver.remote.webelement.WebElement (session=\"e6d8d4304698062fa70e6c5d6ed61ea5\", element=\"61cb7a6d-c7a3-4669-8496-97872803b4ea\")>,\n",
       " <selenium.webdriver.remote.webelement.WebElement (session=\"e6d8d4304698062fa70e6c5d6ed61ea5\", element=\"c90cb055-2334-4072-9c4c-5079884eba9a\")>,\n",
       " <selenium.webdriver.remote.webelement.WebElement (session=\"e6d8d4304698062fa70e6c5d6ed61ea5\", element=\"bb52160b-9cc4-426b-8de0-723112c6dce9\")>,\n",
       " <selenium.webdriver.remote.webelement.WebElement (session=\"e6d8d4304698062fa70e6c5d6ed61ea5\", element=\"2854d78a-32fa-482c-b37f-2509ac03df50\")>,\n",
       " <selenium.webdriver.remote.webelement.WebElement (session=\"e6d8d4304698062fa70e6c5d6ed61ea5\", element=\"a69eac38-15d0-43de-a971-756bc2999334\")>,\n",
       " <selenium.webdriver.remote.webelement.WebElement (session=\"e6d8d4304698062fa70e6c5d6ed61ea5\", element=\"eb865ed0-27f2-4d80-82eb-846145062c68\")>,\n",
       " <selenium.webdriver.remote.webelement.WebElement (session=\"e6d8d4304698062fa70e6c5d6ed61ea5\", element=\"10f67f87-77f0-4e2d-b53f-7b5a199b95ec\")>,\n",
       " <selenium.webdriver.remote.webelement.WebElement (session=\"e6d8d4304698062fa70e6c5d6ed61ea5\", element=\"60ffea94-2e6a-4400-8831-5af56640d0f7\")>,\n",
       " <selenium.webdriver.remote.webelement.WebElement (session=\"e6d8d4304698062fa70e6c5d6ed61ea5\", element=\"ab146cff-233c-4699-b6a8-0e9d4cef0917\")>,\n",
       " <selenium.webdriver.remote.webelement.WebElement (session=\"e6d8d4304698062fa70e6c5d6ed61ea5\", element=\"04078ecb-7ad5-4c41-a550-57722e72be69\")>,\n",
       " <selenium.webdriver.remote.webelement.WebElement (session=\"e6d8d4304698062fa70e6c5d6ed61ea5\", element=\"f9b3c3f3-5b07-498a-990e-17917c785757\")>,\n",
       " <selenium.webdriver.remote.webelement.WebElement (session=\"e6d8d4304698062fa70e6c5d6ed61ea5\", element=\"af296c8c-790e-47ac-9432-6bfcb6c73738\")>,\n",
       " <selenium.webdriver.remote.webelement.WebElement (session=\"e6d8d4304698062fa70e6c5d6ed61ea5\", element=\"4a7256e9-391b-47b7-adc1-94aa9056f2ec\")>,\n",
       " <selenium.webdriver.remote.webelement.WebElement (session=\"e6d8d4304698062fa70e6c5d6ed61ea5\", element=\"58ec1827-b86c-40c1-a1fc-11134cd3ca1e\")>,\n",
       " <selenium.webdriver.remote.webelement.WebElement (session=\"e6d8d4304698062fa70e6c5d6ed61ea5\", element=\"e8ce8e63-e428-4146-8c2d-ef11869bcae7\")>,\n",
       " <selenium.webdriver.remote.webelement.WebElement (session=\"e6d8d4304698062fa70e6c5d6ed61ea5\", element=\"65d60d64-32a2-43e9-b830-a4bfdb165129\")>,\n",
       " <selenium.webdriver.remote.webelement.WebElement (session=\"e6d8d4304698062fa70e6c5d6ed61ea5\", element=\"68fed2df-6edc-4937-bb94-b7e56dfc0d5b\")>,\n",
       " <selenium.webdriver.remote.webelement.WebElement (session=\"e6d8d4304698062fa70e6c5d6ed61ea5\", element=\"0f92f340-601c-40c9-b3a4-e9229fa104bc\")>]"
      ]
     },
     "execution_count": 250,
     "metadata": {},
     "output_type": "execute_result"
    }
   ],
   "source": [
    "Type2=driver6.find_elements_by_xpath(\"//div[@class='_2WkVRV']\")\n",
    "Type2"
   ]
  },
  {
   "cell_type": "code",
   "execution_count": 251,
   "metadata": {
    "collapsed": true
   },
   "outputs": [
    {
     "data": {
      "text/plain": [
       "['SHAAH COLLECTIONS',\n",
       " 'SUNBEE',\n",
       " 'PIRASO',\n",
       " 'Fastrack',\n",
       " 'NuVew',\n",
       " 'GANSTA',\n",
       " 'Fastrack',\n",
       " 'Fastrack',\n",
       " 'Fastrack',\n",
       " 'Silver Kartz',\n",
       " 'NuVew',\n",
       " 'Fastrack',\n",
       " 'ROZZETTA CRAFT',\n",
       " 'Fastrack',\n",
       " 'Fastrack',\n",
       " 'Fastrack',\n",
       " 'ROYAL SON',\n",
       " 'elegante',\n",
       " 'PHENOMENAL',\n",
       " 'Fastrack',\n",
       " 'GANSTA',\n",
       " 'Singco India',\n",
       " 'Fastrack',\n",
       " 'Fastrack',\n",
       " 'IDEE',\n",
       " 'povty',\n",
       " 'WROGN',\n",
       " 'Fastrack',\n",
       " 'ROYAL SON',\n",
       " 'hipe',\n",
       " 'GANSTA',\n",
       " 'Fastrack',\n",
       " 'Fastrack',\n",
       " 'PHENOMENAL',\n",
       " 'Elligator',\n",
       " 'Fastrack',\n",
       " 'ROZZETTA CRAFT',\n",
       " 'IDEE',\n",
       " 'IDEE',\n",
       " 'ROZZETTA CRAFT']"
      ]
     },
     "execution_count": 251,
     "metadata": {},
     "output_type": "execute_result"
    }
   ],
   "source": [
    "Brand2=[]\n",
    "for i in Type2:\n",
    "    Brand2.append(i.text)\n",
    "Brand2"
   ]
  },
  {
   "cell_type": "code",
   "execution_count": 252,
   "metadata": {
    "collapsed": true
   },
   "outputs": [
    {
     "data": {
      "text/plain": [
       "[<selenium.webdriver.remote.webelement.WebElement (session=\"e6d8d4304698062fa70e6c5d6ed61ea5\", element=\"118d2a33-76d6-419a-9893-5ca87c5ab06d\")>,\n",
       " <selenium.webdriver.remote.webelement.WebElement (session=\"e6d8d4304698062fa70e6c5d6ed61ea5\", element=\"07dbc901-64bd-4441-9bc8-e2d018ba6675\")>,\n",
       " <selenium.webdriver.remote.webelement.WebElement (session=\"e6d8d4304698062fa70e6c5d6ed61ea5\", element=\"704739b1-f1f7-497b-9d53-c46390765293\")>,\n",
       " <selenium.webdriver.remote.webelement.WebElement (session=\"e6d8d4304698062fa70e6c5d6ed61ea5\", element=\"4e98c65d-ca0a-4465-a98a-d3c1f2bd0744\")>,\n",
       " <selenium.webdriver.remote.webelement.WebElement (session=\"e6d8d4304698062fa70e6c5d6ed61ea5\", element=\"6da00dc4-fca5-4363-96a2-54d96c5a979c\")>,\n",
       " <selenium.webdriver.remote.webelement.WebElement (session=\"e6d8d4304698062fa70e6c5d6ed61ea5\", element=\"67d79ebc-c6de-444e-914b-ec70c72df068\")>,\n",
       " <selenium.webdriver.remote.webelement.WebElement (session=\"e6d8d4304698062fa70e6c5d6ed61ea5\", element=\"e93a14c0-c0bd-4235-aa18-567a7fb3958f\")>,\n",
       " <selenium.webdriver.remote.webelement.WebElement (session=\"e6d8d4304698062fa70e6c5d6ed61ea5\", element=\"e2765b01-8753-4c0c-a9c6-3b045067a19e\")>,\n",
       " <selenium.webdriver.remote.webelement.WebElement (session=\"e6d8d4304698062fa70e6c5d6ed61ea5\", element=\"a43c9d14-facd-4c51-9691-153766cb05ba\")>,\n",
       " <selenium.webdriver.remote.webelement.WebElement (session=\"e6d8d4304698062fa70e6c5d6ed61ea5\", element=\"a443e9f6-83bc-432b-81e8-1326eced04fc\")>,\n",
       " <selenium.webdriver.remote.webelement.WebElement (session=\"e6d8d4304698062fa70e6c5d6ed61ea5\", element=\"b8f65b24-5ed0-49a2-9973-bd57a7c66eca\")>,\n",
       " <selenium.webdriver.remote.webelement.WebElement (session=\"e6d8d4304698062fa70e6c5d6ed61ea5\", element=\"3fd13f77-4006-417a-8a87-0c03419798f8\")>,\n",
       " <selenium.webdriver.remote.webelement.WebElement (session=\"e6d8d4304698062fa70e6c5d6ed61ea5\", element=\"3e6b737d-5604-4f40-be76-3eb87ed56a60\")>,\n",
       " <selenium.webdriver.remote.webelement.WebElement (session=\"e6d8d4304698062fa70e6c5d6ed61ea5\", element=\"7d8581ef-3329-471f-8ba2-1450c4987f64\")>,\n",
       " <selenium.webdriver.remote.webelement.WebElement (session=\"e6d8d4304698062fa70e6c5d6ed61ea5\", element=\"d4634521-8d7b-4edd-ba96-af39cf272fde\")>,\n",
       " <selenium.webdriver.remote.webelement.WebElement (session=\"e6d8d4304698062fa70e6c5d6ed61ea5\", element=\"1cbef084-d336-438f-a4c5-b47debdd2e09\")>,\n",
       " <selenium.webdriver.remote.webelement.WebElement (session=\"e6d8d4304698062fa70e6c5d6ed61ea5\", element=\"b92370c7-0db8-475d-99ac-c1fb44a5a6c6\")>,\n",
       " <selenium.webdriver.remote.webelement.WebElement (session=\"e6d8d4304698062fa70e6c5d6ed61ea5\", element=\"97a821e7-a796-4543-b83e-446ff31c494a\")>,\n",
       " <selenium.webdriver.remote.webelement.WebElement (session=\"e6d8d4304698062fa70e6c5d6ed61ea5\", element=\"ef17fa99-560a-47a9-a1d8-cedd9fd2964a\")>,\n",
       " <selenium.webdriver.remote.webelement.WebElement (session=\"e6d8d4304698062fa70e6c5d6ed61ea5\", element=\"f297acd7-e0cf-4a5d-bab2-691a08396c3f\")>,\n",
       " <selenium.webdriver.remote.webelement.WebElement (session=\"e6d8d4304698062fa70e6c5d6ed61ea5\", element=\"3b010b68-2bdf-412f-ae50-1c3c412cf609\")>,\n",
       " <selenium.webdriver.remote.webelement.WebElement (session=\"e6d8d4304698062fa70e6c5d6ed61ea5\", element=\"c993d6b2-e9be-4461-85c8-9bf43f125d90\")>,\n",
       " <selenium.webdriver.remote.webelement.WebElement (session=\"e6d8d4304698062fa70e6c5d6ed61ea5\", element=\"f030842d-7f97-4a59-9600-5ec9452b2692\")>,\n",
       " <selenium.webdriver.remote.webelement.WebElement (session=\"e6d8d4304698062fa70e6c5d6ed61ea5\", element=\"b753720f-e3d1-4ca5-beec-7b0412b67455\")>,\n",
       " <selenium.webdriver.remote.webelement.WebElement (session=\"e6d8d4304698062fa70e6c5d6ed61ea5\", element=\"ea3645df-a5a9-479d-8d88-6b1799510765\")>,\n",
       " <selenium.webdriver.remote.webelement.WebElement (session=\"e6d8d4304698062fa70e6c5d6ed61ea5\", element=\"a606fe07-7067-4120-a995-6b8e341008f1\")>,\n",
       " <selenium.webdriver.remote.webelement.WebElement (session=\"e6d8d4304698062fa70e6c5d6ed61ea5\", element=\"44d09bb0-c874-4289-b204-6beb3d0248cd\")>,\n",
       " <selenium.webdriver.remote.webelement.WebElement (session=\"e6d8d4304698062fa70e6c5d6ed61ea5\", element=\"42538cbf-4b90-4c01-8628-4d20ebe873c7\")>,\n",
       " <selenium.webdriver.remote.webelement.WebElement (session=\"e6d8d4304698062fa70e6c5d6ed61ea5\", element=\"3eeabe8a-92bc-40a3-9014-a14dd765693f\")>,\n",
       " <selenium.webdriver.remote.webelement.WebElement (session=\"e6d8d4304698062fa70e6c5d6ed61ea5\", element=\"7807d149-4d5a-4373-a675-4704eb8a6927\")>,\n",
       " <selenium.webdriver.remote.webelement.WebElement (session=\"e6d8d4304698062fa70e6c5d6ed61ea5\", element=\"ac812750-02c7-4500-a80f-fc014211e218\")>,\n",
       " <selenium.webdriver.remote.webelement.WebElement (session=\"e6d8d4304698062fa70e6c5d6ed61ea5\", element=\"9c258466-a8ab-4870-9271-93510460baef\")>,\n",
       " <selenium.webdriver.remote.webelement.WebElement (session=\"e6d8d4304698062fa70e6c5d6ed61ea5\", element=\"2f70469e-0964-4beb-afdb-d948d000091d\")>,\n",
       " <selenium.webdriver.remote.webelement.WebElement (session=\"e6d8d4304698062fa70e6c5d6ed61ea5\", element=\"65f8fdf4-db08-43b3-92df-20723e9b67ed\")>,\n",
       " <selenium.webdriver.remote.webelement.WebElement (session=\"e6d8d4304698062fa70e6c5d6ed61ea5\", element=\"56248bae-5203-48fd-a03b-634f537d966a\")>,\n",
       " <selenium.webdriver.remote.webelement.WebElement (session=\"e6d8d4304698062fa70e6c5d6ed61ea5\", element=\"6780542a-14c5-46c8-8473-d78fc341c78e\")>,\n",
       " <selenium.webdriver.remote.webelement.WebElement (session=\"e6d8d4304698062fa70e6c5d6ed61ea5\", element=\"99d9679a-7cab-4640-9335-eeffd3b34e34\")>,\n",
       " <selenium.webdriver.remote.webelement.WebElement (session=\"e6d8d4304698062fa70e6c5d6ed61ea5\", element=\"6767a01f-6240-4cd1-8d00-bf2cb608a257\")>,\n",
       " <selenium.webdriver.remote.webelement.WebElement (session=\"e6d8d4304698062fa70e6c5d6ed61ea5\", element=\"cd38694c-f27e-46bb-952a-6933cc867638\")>,\n",
       " <selenium.webdriver.remote.webelement.WebElement (session=\"e6d8d4304698062fa70e6c5d6ed61ea5\", element=\"b14a63fd-b157-4aa2-8ed7-64237d821d0f\")>]"
      ]
     },
     "execution_count": 252,
     "metadata": {},
     "output_type": "execute_result"
    }
   ],
   "source": [
    "Desc2=driver6.find_elements_by_xpath(\"//a[@class='IRpwTa']\")\n",
    "Desc2"
   ]
  },
  {
   "cell_type": "code",
   "execution_count": 253,
   "metadata": {
    "collapsed": true
   },
   "outputs": [
    {
     "data": {
      "text/plain": [
       "['UV Protection, Polarized, Mirrored Rectangular Sunglass...',\n",
       " 'UV Protection, Polarized, Mirrored Wayfarer Sunglasses ...',\n",
       " 'UV Protection Aviator Sunglasses (58)',\n",
       " 'UV Protection Wayfarer Sunglasses (Free Size)',\n",
       " 'UV Protection Sports Sunglasses (62)',\n",
       " 'UV Protection, Riding Glasses Wayfarer Sunglasses (53)',\n",
       " 'UV Protection Wayfarer Sunglasses (Free Size)',\n",
       " 'UV Protection Wayfarer Sunglasses (Free Size)',\n",
       " 'UV Protection Rectangular Sunglasses (Free Size)',\n",
       " 'UV Protection Wayfarer Sunglasses (Free Size)',\n",
       " 'UV Protection, Mirrored Aviator Sunglasses (58)',\n",
       " 'UV Protection Aviator Sunglasses (58)',\n",
       " 'UV Protection, Gradient Rectangular Sunglasses (Free Si...',\n",
       " 'UV Protection Wayfarer Sunglasses (Free Size)',\n",
       " 'UV Protection Wayfarer Sunglasses (Free Size)',\n",
       " 'UV Protection Aviator Sunglasses (Free Size)',\n",
       " 'Polarized, UV Protection Aviator Sunglasses (58)',\n",
       " 'Mirrored Round Sunglasses (Free Size)',\n",
       " 'UV Protection, Mirrored Retro Square Sunglasses (53)',\n",
       " 'UV Protection Wayfarer Sunglasses (57)',\n",
       " 'UV Protection, Mirrored Wayfarer Sunglasses (53)',\n",
       " 'UV Protection Round Sunglasses (Free Size)',\n",
       " 'UV Protection Aviator Sunglasses (58)',\n",
       " 'Gradient, UV Protection Wayfarer Sunglasses (Free Size)',\n",
       " 'UV Protection Wayfarer Sunglasses (55)',\n",
       " 'UV Protection Wayfarer Sunglasses (Free Size)',\n",
       " 'Polarized Oval Sunglasses (55)',\n",
       " 'UV Protection Wrap-around Sunglasses (Free Size)',\n",
       " 'Mirrored Aviator Sunglasses (55)',\n",
       " 'Mirrored, UV Protection, Gradient Round Sunglasses (55)',\n",
       " 'UV Protection, Gradient Wayfarer Sunglasses (53)',\n",
       " 'Gradient, UV Protection Wayfarer Sunglasses (Free Size)',\n",
       " 'UV Protection Aviator Sunglasses (58)',\n",
       " 'UV Protection Round Sunglasses (53)',\n",
       " 'UV Protection Round Sunglasses (53)',\n",
       " 'Mirrored, UV Protection Wayfarer Sunglasses (Free Size)',\n",
       " 'UV Protection, Gradient Rectangular Sunglasses (Free Si...',\n",
       " 'UV Protection Wayfarer Sunglasses (18)',\n",
       " 'Gradient, UV Protection Aviator Sunglasses (58)',\n",
       " 'UV Protection Rectangular Sunglasses (Free Size)']"
      ]
     },
     "execution_count": 253,
     "metadata": {},
     "output_type": "execute_result"
    }
   ],
   "source": [
    "Product_Description2=[]\n",
    "for i in Desc2:\n",
    "    Product_Description2.append(i.text)\n",
    "Product_Description2"
   ]
  },
  {
   "cell_type": "code",
   "execution_count": 254,
   "metadata": {
    "collapsed": true
   },
   "outputs": [
    {
     "data": {
      "text/plain": [
       "[<selenium.webdriver.remote.webelement.WebElement (session=\"e6d8d4304698062fa70e6c5d6ed61ea5\", element=\"0dac376b-1a87-4d90-ae27-68074d2eeefe\")>,\n",
       " <selenium.webdriver.remote.webelement.WebElement (session=\"e6d8d4304698062fa70e6c5d6ed61ea5\", element=\"3fc01116-40dc-48c3-8670-f7a634e7e5b7\")>,\n",
       " <selenium.webdriver.remote.webelement.WebElement (session=\"e6d8d4304698062fa70e6c5d6ed61ea5\", element=\"59f10ba7-31ae-4019-84b9-6b698406c179\")>,\n",
       " <selenium.webdriver.remote.webelement.WebElement (session=\"e6d8d4304698062fa70e6c5d6ed61ea5\", element=\"586417ad-7784-4569-b097-fd7f075db802\")>,\n",
       " <selenium.webdriver.remote.webelement.WebElement (session=\"e6d8d4304698062fa70e6c5d6ed61ea5\", element=\"13ca3dfb-28d4-47bc-81ca-ff7ea7d25828\")>,\n",
       " <selenium.webdriver.remote.webelement.WebElement (session=\"e6d8d4304698062fa70e6c5d6ed61ea5\", element=\"a307badd-fd21-48ba-bf4c-800024a1358d\")>,\n",
       " <selenium.webdriver.remote.webelement.WebElement (session=\"e6d8d4304698062fa70e6c5d6ed61ea5\", element=\"b4c08f25-ec4b-41a4-9ecc-fbc06a78a198\")>,\n",
       " <selenium.webdriver.remote.webelement.WebElement (session=\"e6d8d4304698062fa70e6c5d6ed61ea5\", element=\"9710fa9c-cbad-49c4-83e2-21b5d348a0dc\")>,\n",
       " <selenium.webdriver.remote.webelement.WebElement (session=\"e6d8d4304698062fa70e6c5d6ed61ea5\", element=\"f484592a-6c21-45fc-8b31-4e47b0516488\")>,\n",
       " <selenium.webdriver.remote.webelement.WebElement (session=\"e6d8d4304698062fa70e6c5d6ed61ea5\", element=\"4ee406d8-5022-4725-848e-df53da77cb22\")>,\n",
       " <selenium.webdriver.remote.webelement.WebElement (session=\"e6d8d4304698062fa70e6c5d6ed61ea5\", element=\"692720b6-2274-4e73-b0d0-4a142be3ea93\")>,\n",
       " <selenium.webdriver.remote.webelement.WebElement (session=\"e6d8d4304698062fa70e6c5d6ed61ea5\", element=\"e6112991-5eed-439c-b17d-1676296ee35a\")>,\n",
       " <selenium.webdriver.remote.webelement.WebElement (session=\"e6d8d4304698062fa70e6c5d6ed61ea5\", element=\"9ff04bd9-332a-4cc1-bddf-918438f79a68\")>,\n",
       " <selenium.webdriver.remote.webelement.WebElement (session=\"e6d8d4304698062fa70e6c5d6ed61ea5\", element=\"501119b3-fa3c-4d5f-80e1-1593ef2dcf47\")>,\n",
       " <selenium.webdriver.remote.webelement.WebElement (session=\"e6d8d4304698062fa70e6c5d6ed61ea5\", element=\"e5f1f1d0-e847-454c-82ec-2a43877dd719\")>,\n",
       " <selenium.webdriver.remote.webelement.WebElement (session=\"e6d8d4304698062fa70e6c5d6ed61ea5\", element=\"e7ede89b-0ec2-47a7-b706-52b2c158ff9e\")>,\n",
       " <selenium.webdriver.remote.webelement.WebElement (session=\"e6d8d4304698062fa70e6c5d6ed61ea5\", element=\"e6a5f742-b6ef-4905-ab4c-1c1ecd303839\")>,\n",
       " <selenium.webdriver.remote.webelement.WebElement (session=\"e6d8d4304698062fa70e6c5d6ed61ea5\", element=\"96b3717e-fd56-42f6-935d-cd48f545d64e\")>,\n",
       " <selenium.webdriver.remote.webelement.WebElement (session=\"e6d8d4304698062fa70e6c5d6ed61ea5\", element=\"787ce36a-821f-45bf-aab1-2626a63e1da9\")>,\n",
       " <selenium.webdriver.remote.webelement.WebElement (session=\"e6d8d4304698062fa70e6c5d6ed61ea5\", element=\"411c352d-7b7a-4bbf-8efd-816b3108ca4d\")>,\n",
       " <selenium.webdriver.remote.webelement.WebElement (session=\"e6d8d4304698062fa70e6c5d6ed61ea5\", element=\"ee8c906f-23d6-4508-b702-df8320e987ec\")>,\n",
       " <selenium.webdriver.remote.webelement.WebElement (session=\"e6d8d4304698062fa70e6c5d6ed61ea5\", element=\"beba02cb-5949-43a3-b093-66df6722ce75\")>,\n",
       " <selenium.webdriver.remote.webelement.WebElement (session=\"e6d8d4304698062fa70e6c5d6ed61ea5\", element=\"dd9ede33-4745-42d4-8664-7acda42b46d0\")>,\n",
       " <selenium.webdriver.remote.webelement.WebElement (session=\"e6d8d4304698062fa70e6c5d6ed61ea5\", element=\"6b8a6382-f10a-482a-a0ed-72439af51358\")>,\n",
       " <selenium.webdriver.remote.webelement.WebElement (session=\"e6d8d4304698062fa70e6c5d6ed61ea5\", element=\"0e091931-ab69-48ad-8c24-eaad6c99297f\")>,\n",
       " <selenium.webdriver.remote.webelement.WebElement (session=\"e6d8d4304698062fa70e6c5d6ed61ea5\", element=\"cacf9369-9730-45ee-a115-9b06acc564a8\")>,\n",
       " <selenium.webdriver.remote.webelement.WebElement (session=\"e6d8d4304698062fa70e6c5d6ed61ea5\", element=\"2113e5a9-8b05-44c8-b328-6aa34e73bded\")>,\n",
       " <selenium.webdriver.remote.webelement.WebElement (session=\"e6d8d4304698062fa70e6c5d6ed61ea5\", element=\"37b3c97e-57a8-4fca-8b70-1e7226d50163\")>,\n",
       " <selenium.webdriver.remote.webelement.WebElement (session=\"e6d8d4304698062fa70e6c5d6ed61ea5\", element=\"82901474-1ec1-4830-97b0-5690a8401c2e\")>,\n",
       " <selenium.webdriver.remote.webelement.WebElement (session=\"e6d8d4304698062fa70e6c5d6ed61ea5\", element=\"ac9a8bcc-3d23-4e04-906f-4773275c74e0\")>,\n",
       " <selenium.webdriver.remote.webelement.WebElement (session=\"e6d8d4304698062fa70e6c5d6ed61ea5\", element=\"e021c024-b471-44b0-a37b-8565c2c8e744\")>,\n",
       " <selenium.webdriver.remote.webelement.WebElement (session=\"e6d8d4304698062fa70e6c5d6ed61ea5\", element=\"9762e502-dfb0-4908-91cb-7d02fa474f0d\")>,\n",
       " <selenium.webdriver.remote.webelement.WebElement (session=\"e6d8d4304698062fa70e6c5d6ed61ea5\", element=\"80977333-a809-4aeb-8a06-f62359f5da5d\")>,\n",
       " <selenium.webdriver.remote.webelement.WebElement (session=\"e6d8d4304698062fa70e6c5d6ed61ea5\", element=\"95507fd7-a072-4023-88f4-77d767b97351\")>,\n",
       " <selenium.webdriver.remote.webelement.WebElement (session=\"e6d8d4304698062fa70e6c5d6ed61ea5\", element=\"b1c715ae-fbb0-446b-b0bf-a676afd0ed39\")>,\n",
       " <selenium.webdriver.remote.webelement.WebElement (session=\"e6d8d4304698062fa70e6c5d6ed61ea5\", element=\"eb8c0527-5131-43f0-84fe-d9c58a3ff2bf\")>,\n",
       " <selenium.webdriver.remote.webelement.WebElement (session=\"e6d8d4304698062fa70e6c5d6ed61ea5\", element=\"f581a150-c9a6-4e6f-9580-cf1216c619bf\")>,\n",
       " <selenium.webdriver.remote.webelement.WebElement (session=\"e6d8d4304698062fa70e6c5d6ed61ea5\", element=\"42f62153-d843-4e2a-bb5e-ab824528d3cb\")>,\n",
       " <selenium.webdriver.remote.webelement.WebElement (session=\"e6d8d4304698062fa70e6c5d6ed61ea5\", element=\"058143fe-7bca-40eb-9070-7dd46a66656c\")>,\n",
       " <selenium.webdriver.remote.webelement.WebElement (session=\"e6d8d4304698062fa70e6c5d6ed61ea5\", element=\"7c12b668-0efb-4fb4-8d78-5319db342735\")>]"
      ]
     },
     "execution_count": 254,
     "metadata": {},
     "output_type": "execute_result"
    }
   ],
   "source": [
    "Rate2=driver6.find_elements_by_xpath(\"//div[@class='_30jeq3']\")\n",
    "Rate2"
   ]
  },
  {
   "cell_type": "code",
   "execution_count": 255,
   "metadata": {
    "collapsed": true
   },
   "outputs": [
    {
     "data": {
      "text/plain": [
       "['₹215',\n",
       " '₹265',\n",
       " '₹319',\n",
       " '₹758',\n",
       " '₹345',\n",
       " '₹198',\n",
       " '₹733',\n",
       " '₹689',\n",
       " '₹513',\n",
       " '₹194',\n",
       " '₹185',\n",
       " '₹1,115',\n",
       " '₹383',\n",
       " '₹797',\n",
       " '₹649',\n",
       " '₹689',\n",
       " '₹599',\n",
       " '₹359',\n",
       " '₹319',\n",
       " '₹503',\n",
       " '₹199',\n",
       " '₹183',\n",
       " '₹1,059',\n",
       " '₹509',\n",
       " '₹2,450',\n",
       " '₹349',\n",
       " '₹1,040',\n",
       " '₹689',\n",
       " '₹319',\n",
       " '₹210',\n",
       " '₹279',\n",
       " '₹652',\n",
       " '₹1,085',\n",
       " '₹236',\n",
       " '₹295',\n",
       " '₹738',\n",
       " '₹399',\n",
       " '₹2,050',\n",
       " '₹2,250',\n",
       " '₹378']"
      ]
     },
     "execution_count": 255,
     "metadata": {},
     "output_type": "execute_result"
    }
   ],
   "source": [
    "Price2=[]\n",
    "for i in Rate2:\n",
    "    Price2.append(i.text)\n",
    "Price2"
   ]
  },
  {
   "cell_type": "code",
   "execution_count": 256,
   "metadata": {
    "collapsed": true
   },
   "outputs": [
    {
     "data": {
      "text/plain": [
       "[<selenium.webdriver.remote.webelement.WebElement (session=\"e6d8d4304698062fa70e6c5d6ed61ea5\", element=\"42555519-7483-427e-b121-63e61c2a77e1\")>,\n",
       " <selenium.webdriver.remote.webelement.WebElement (session=\"e6d8d4304698062fa70e6c5d6ed61ea5\", element=\"170ba5bb-56e9-441d-afe8-67769902bbb1\")>,\n",
       " <selenium.webdriver.remote.webelement.WebElement (session=\"e6d8d4304698062fa70e6c5d6ed61ea5\", element=\"8a0b453c-8bd7-4e41-a9bd-48dbeb1d3c41\")>,\n",
       " <selenium.webdriver.remote.webelement.WebElement (session=\"e6d8d4304698062fa70e6c5d6ed61ea5\", element=\"41f2fdbb-302f-492c-b2c2-fb133ee05e02\")>,\n",
       " <selenium.webdriver.remote.webelement.WebElement (session=\"e6d8d4304698062fa70e6c5d6ed61ea5\", element=\"04a6d5a9-3ae3-435a-ac58-767601b58f2d\")>,\n",
       " <selenium.webdriver.remote.webelement.WebElement (session=\"e6d8d4304698062fa70e6c5d6ed61ea5\", element=\"a9f5d3fe-b745-416b-a815-15da36034529\")>,\n",
       " <selenium.webdriver.remote.webelement.WebElement (session=\"e6d8d4304698062fa70e6c5d6ed61ea5\", element=\"b61835e3-2388-4249-9bd2-9215157c72fa\")>,\n",
       " <selenium.webdriver.remote.webelement.WebElement (session=\"e6d8d4304698062fa70e6c5d6ed61ea5\", element=\"da185ce3-c1c8-4dca-9880-5ed148724a6d\")>,\n",
       " <selenium.webdriver.remote.webelement.WebElement (session=\"e6d8d4304698062fa70e6c5d6ed61ea5\", element=\"326099bd-bd31-4da7-9df6-986e013b86e8\")>,\n",
       " <selenium.webdriver.remote.webelement.WebElement (session=\"e6d8d4304698062fa70e6c5d6ed61ea5\", element=\"11414cd8-a95e-447e-bdd3-5abc5fd4944e\")>,\n",
       " <selenium.webdriver.remote.webelement.WebElement (session=\"e6d8d4304698062fa70e6c5d6ed61ea5\", element=\"9402bc66-c572-4b9b-8669-054bad7c952a\")>,\n",
       " <selenium.webdriver.remote.webelement.WebElement (session=\"e6d8d4304698062fa70e6c5d6ed61ea5\", element=\"5a4bebbb-943d-46f1-8137-6ca4cffb56ca\")>,\n",
       " <selenium.webdriver.remote.webelement.WebElement (session=\"e6d8d4304698062fa70e6c5d6ed61ea5\", element=\"4f6e2251-e8cc-4226-b710-4f25de6613a4\")>,\n",
       " <selenium.webdriver.remote.webelement.WebElement (session=\"e6d8d4304698062fa70e6c5d6ed61ea5\", element=\"85c3ba8d-6e9e-485a-ad55-2503305c38f8\")>,\n",
       " <selenium.webdriver.remote.webelement.WebElement (session=\"e6d8d4304698062fa70e6c5d6ed61ea5\", element=\"8c19d256-487b-4426-9aaa-e7e007e3c646\")>,\n",
       " <selenium.webdriver.remote.webelement.WebElement (session=\"e6d8d4304698062fa70e6c5d6ed61ea5\", element=\"a03274ca-fd9e-49ae-a8c0-e857f47afdfd\")>,\n",
       " <selenium.webdriver.remote.webelement.WebElement (session=\"e6d8d4304698062fa70e6c5d6ed61ea5\", element=\"e6d11a3e-5fc4-4a07-8f9d-b7aa67e41615\")>,\n",
       " <selenium.webdriver.remote.webelement.WebElement (session=\"e6d8d4304698062fa70e6c5d6ed61ea5\", element=\"b377f118-7fa0-41bc-a9f2-f5e29a557781\")>,\n",
       " <selenium.webdriver.remote.webelement.WebElement (session=\"e6d8d4304698062fa70e6c5d6ed61ea5\", element=\"4ab7adf1-ae6d-47fc-8114-a420b67ec2e2\")>,\n",
       " <selenium.webdriver.remote.webelement.WebElement (session=\"e6d8d4304698062fa70e6c5d6ed61ea5\", element=\"4e1167b2-c568-4907-b31f-a3c55991b96c\")>,\n",
       " <selenium.webdriver.remote.webelement.WebElement (session=\"e6d8d4304698062fa70e6c5d6ed61ea5\", element=\"bb6b776d-f2ea-4415-a989-398314cbc46d\")>,\n",
       " <selenium.webdriver.remote.webelement.WebElement (session=\"e6d8d4304698062fa70e6c5d6ed61ea5\", element=\"069dc9c8-1f0e-4831-88e3-c93fabd59b93\")>,\n",
       " <selenium.webdriver.remote.webelement.WebElement (session=\"e6d8d4304698062fa70e6c5d6ed61ea5\", element=\"3be1ef80-4c16-46aa-b456-edbbda1970b1\")>,\n",
       " <selenium.webdriver.remote.webelement.WebElement (session=\"e6d8d4304698062fa70e6c5d6ed61ea5\", element=\"1ef9b826-b2ea-4ca6-9cd6-434a1d3739f1\")>,\n",
       " <selenium.webdriver.remote.webelement.WebElement (session=\"e6d8d4304698062fa70e6c5d6ed61ea5\", element=\"044a25b9-7545-49ee-a83b-18d3529c157c\")>,\n",
       " <selenium.webdriver.remote.webelement.WebElement (session=\"e6d8d4304698062fa70e6c5d6ed61ea5\", element=\"cacc98cd-ab4a-4449-b229-91115d28ac3b\")>,\n",
       " <selenium.webdriver.remote.webelement.WebElement (session=\"e6d8d4304698062fa70e6c5d6ed61ea5\", element=\"9c0888a5-b890-49ab-b4cd-1b67ada973b8\")>,\n",
       " <selenium.webdriver.remote.webelement.WebElement (session=\"e6d8d4304698062fa70e6c5d6ed61ea5\", element=\"967cec51-3f0f-4db7-b048-fe0ebce01a28\")>,\n",
       " <selenium.webdriver.remote.webelement.WebElement (session=\"e6d8d4304698062fa70e6c5d6ed61ea5\", element=\"5775d995-8f4d-4d12-bc18-ed2754947925\")>,\n",
       " <selenium.webdriver.remote.webelement.WebElement (session=\"e6d8d4304698062fa70e6c5d6ed61ea5\", element=\"ee67e573-e742-425e-9ad2-84cf77c64127\")>,\n",
       " <selenium.webdriver.remote.webelement.WebElement (session=\"e6d8d4304698062fa70e6c5d6ed61ea5\", element=\"12b59435-07b9-43a3-97f7-c265cc31012c\")>,\n",
       " <selenium.webdriver.remote.webelement.WebElement (session=\"e6d8d4304698062fa70e6c5d6ed61ea5\", element=\"437935fd-a6df-49a3-87fc-fc92396e535f\")>,\n",
       " <selenium.webdriver.remote.webelement.WebElement (session=\"e6d8d4304698062fa70e6c5d6ed61ea5\", element=\"67fcc5ea-f783-4cf7-9b9f-281b68dc6832\")>,\n",
       " <selenium.webdriver.remote.webelement.WebElement (session=\"e6d8d4304698062fa70e6c5d6ed61ea5\", element=\"06d68d84-6ac4-4bbe-84dd-acf840fdf682\")>,\n",
       " <selenium.webdriver.remote.webelement.WebElement (session=\"e6d8d4304698062fa70e6c5d6ed61ea5\", element=\"8fb1ba98-4a9f-4a85-b14b-ffba183d7111\")>,\n",
       " <selenium.webdriver.remote.webelement.WebElement (session=\"e6d8d4304698062fa70e6c5d6ed61ea5\", element=\"515ca7d8-72c2-4ca5-8c11-5cda4ec3f4c5\")>,\n",
       " <selenium.webdriver.remote.webelement.WebElement (session=\"e6d8d4304698062fa70e6c5d6ed61ea5\", element=\"690a077a-a7a8-4441-8a0f-82409867a2c4\")>]"
      ]
     },
     "execution_count": 256,
     "metadata": {},
     "output_type": "execute_result"
    }
   ],
   "source": [
    "Disc2=driver6.find_elements_by_xpath(\"//div[@class='_3Ay6Sb']\")\n",
    "Disc2"
   ]
  },
  {
   "cell_type": "code",
   "execution_count": 257,
   "metadata": {
    "collapsed": true
   },
   "outputs": [
    {
     "data": {
      "text/plain": [
       "['78% off',\n",
       " '73% off',\n",
       " '87% off',\n",
       " '15% off',\n",
       " '72% off',\n",
       " '88% off',\n",
       " '18% off',\n",
       " '23% off',\n",
       " '35% off',\n",
       " '87% off',\n",
       " '78% off',\n",
       " '14% off',\n",
       " '80% off',\n",
       " '11% off',\n",
       " '18% off',\n",
       " '23% off',\n",
       " '70% off',\n",
       " '82% off',\n",
       " '84% off',\n",
       " '37% off',\n",
       " '80% off',\n",
       " '81% off',\n",
       " '18% off',\n",
       " '36% off',\n",
       " '65% off',\n",
       " '67% off',\n",
       " '23% off',\n",
       " '78% off',\n",
       " '85% off',\n",
       " '86% off',\n",
       " '18% off',\n",
       " '16% off',\n",
       " '89% off',\n",
       " '88% off',\n",
       " '26% off',\n",
       " '82% off',\n",
       " '74% off']"
      ]
     },
     "execution_count": 257,
     "metadata": {},
     "output_type": "execute_result"
    }
   ],
   "source": [
    "Discountinpercent2=[]\n",
    "for i in Disc2:\n",
    "    Discountinpercent2.append(i.text)\n",
    "Discountinpercent2"
   ]
  },
  {
   "cell_type": "code",
   "execution_count": 270,
   "metadata": {},
   "outputs": [
    {
     "data": {
      "text/plain": [
       "<selenium.webdriver.remote.webelement.WebElement (session=\"e6d8d4304698062fa70e6c5d6ed61ea5\", element=\"498e7119-9622-4083-a1e2-2f26214ca0d3\")>"
      ]
     },
     "execution_count": 270,
     "metadata": {},
     "output_type": "execute_result"
    }
   ],
   "source": [
    "N3=driver6.find_element_by_xpath(\"//a[@class='ge-49M _2Kfbh8']\")\n",
    "N3"
   ]
  },
  {
   "cell_type": "code",
   "execution_count": 271,
   "metadata": {},
   "outputs": [],
   "source": [
    "N3.click()"
   ]
  },
  {
   "cell_type": "code",
   "execution_count": 272,
   "metadata": {
    "collapsed": true
   },
   "outputs": [
    {
     "data": {
      "text/plain": [
       "[<selenium.webdriver.remote.webelement.WebElement (session=\"e6d8d4304698062fa70e6c5d6ed61ea5\", element=\"ecf0b014-324b-4465-978c-9294e88f0ac4\")>,\n",
       " <selenium.webdriver.remote.webelement.WebElement (session=\"e6d8d4304698062fa70e6c5d6ed61ea5\", element=\"9aa82de0-1500-49b3-a4b5-74afec71c6c8\")>,\n",
       " <selenium.webdriver.remote.webelement.WebElement (session=\"e6d8d4304698062fa70e6c5d6ed61ea5\", element=\"932eed32-9c35-40ec-bb8a-1df541a796fd\")>,\n",
       " <selenium.webdriver.remote.webelement.WebElement (session=\"e6d8d4304698062fa70e6c5d6ed61ea5\", element=\"a15806cf-27d8-4f57-a17c-c4d490a0797a\")>,\n",
       " <selenium.webdriver.remote.webelement.WebElement (session=\"e6d8d4304698062fa70e6c5d6ed61ea5\", element=\"dda7f39f-c5ba-4b81-835e-c0afdb0dba6a\")>,\n",
       " <selenium.webdriver.remote.webelement.WebElement (session=\"e6d8d4304698062fa70e6c5d6ed61ea5\", element=\"ae7f780f-e390-40c5-8537-2c666bea6a5c\")>,\n",
       " <selenium.webdriver.remote.webelement.WebElement (session=\"e6d8d4304698062fa70e6c5d6ed61ea5\", element=\"9465a35d-4afc-49ed-910b-a32af5d587e3\")>,\n",
       " <selenium.webdriver.remote.webelement.WebElement (session=\"e6d8d4304698062fa70e6c5d6ed61ea5\", element=\"9a35ef99-bfdf-49bf-948d-f835f9eafe68\")>,\n",
       " <selenium.webdriver.remote.webelement.WebElement (session=\"e6d8d4304698062fa70e6c5d6ed61ea5\", element=\"99eb7f02-ad1c-4439-a3ee-127a318efa27\")>,\n",
       " <selenium.webdriver.remote.webelement.WebElement (session=\"e6d8d4304698062fa70e6c5d6ed61ea5\", element=\"fc062d50-dbf8-4c95-93c7-ba7bb552d304\")>,\n",
       " <selenium.webdriver.remote.webelement.WebElement (session=\"e6d8d4304698062fa70e6c5d6ed61ea5\", element=\"5f87a251-1f3e-4db1-82dd-5206075b626e\")>,\n",
       " <selenium.webdriver.remote.webelement.WebElement (session=\"e6d8d4304698062fa70e6c5d6ed61ea5\", element=\"61e4c7d7-c5ea-4bae-8c77-cb3cc5719c11\")>,\n",
       " <selenium.webdriver.remote.webelement.WebElement (session=\"e6d8d4304698062fa70e6c5d6ed61ea5\", element=\"4b170647-2db3-4825-a205-f090c382a057\")>,\n",
       " <selenium.webdriver.remote.webelement.WebElement (session=\"e6d8d4304698062fa70e6c5d6ed61ea5\", element=\"1162f84a-d787-4b95-a08b-2b2f995b6308\")>,\n",
       " <selenium.webdriver.remote.webelement.WebElement (session=\"e6d8d4304698062fa70e6c5d6ed61ea5\", element=\"e0d78915-9cee-421b-a0c9-c3f650ce1fa3\")>,\n",
       " <selenium.webdriver.remote.webelement.WebElement (session=\"e6d8d4304698062fa70e6c5d6ed61ea5\", element=\"dd80e9b2-1ec6-4d73-b069-5638042c2702\")>,\n",
       " <selenium.webdriver.remote.webelement.WebElement (session=\"e6d8d4304698062fa70e6c5d6ed61ea5\", element=\"662e9d56-b6d5-44ad-b866-f951f508075f\")>,\n",
       " <selenium.webdriver.remote.webelement.WebElement (session=\"e6d8d4304698062fa70e6c5d6ed61ea5\", element=\"55b8420e-ceb7-45f8-bc87-226f45327da9\")>,\n",
       " <selenium.webdriver.remote.webelement.WebElement (session=\"e6d8d4304698062fa70e6c5d6ed61ea5\", element=\"21eff282-ee04-4449-b7f4-a7ffa6205b91\")>,\n",
       " <selenium.webdriver.remote.webelement.WebElement (session=\"e6d8d4304698062fa70e6c5d6ed61ea5\", element=\"aaf8f58a-b9e7-4d94-a8c5-cff83419d268\")>,\n",
       " <selenium.webdriver.remote.webelement.WebElement (session=\"e6d8d4304698062fa70e6c5d6ed61ea5\", element=\"d9646b0e-2af6-4aea-b40e-80a9490a705d\")>,\n",
       " <selenium.webdriver.remote.webelement.WebElement (session=\"e6d8d4304698062fa70e6c5d6ed61ea5\", element=\"0b60b29b-3795-4890-8e42-4e246d964732\")>,\n",
       " <selenium.webdriver.remote.webelement.WebElement (session=\"e6d8d4304698062fa70e6c5d6ed61ea5\", element=\"cd45f52a-96c7-477f-a3e0-f0e9ac3c544d\")>,\n",
       " <selenium.webdriver.remote.webelement.WebElement (session=\"e6d8d4304698062fa70e6c5d6ed61ea5\", element=\"6f8d8b0a-6557-4ecf-8519-fa0411e681ab\")>,\n",
       " <selenium.webdriver.remote.webelement.WebElement (session=\"e6d8d4304698062fa70e6c5d6ed61ea5\", element=\"ffed0abe-ff2a-4881-b874-2e916207397b\")>,\n",
       " <selenium.webdriver.remote.webelement.WebElement (session=\"e6d8d4304698062fa70e6c5d6ed61ea5\", element=\"cf718b2e-1042-4891-bff0-ee8fe4b83305\")>,\n",
       " <selenium.webdriver.remote.webelement.WebElement (session=\"e6d8d4304698062fa70e6c5d6ed61ea5\", element=\"b092bed5-68ec-4c36-bb55-0e0128f80ea0\")>,\n",
       " <selenium.webdriver.remote.webelement.WebElement (session=\"e6d8d4304698062fa70e6c5d6ed61ea5\", element=\"347a45ce-110d-4e4f-8952-0952b3eeeb3c\")>,\n",
       " <selenium.webdriver.remote.webelement.WebElement (session=\"e6d8d4304698062fa70e6c5d6ed61ea5\", element=\"0890d229-8ecd-400e-a5f5-ddec1c35cc35\")>,\n",
       " <selenium.webdriver.remote.webelement.WebElement (session=\"e6d8d4304698062fa70e6c5d6ed61ea5\", element=\"bf08481e-81c2-472f-8380-0bbdf291b7a0\")>,\n",
       " <selenium.webdriver.remote.webelement.WebElement (session=\"e6d8d4304698062fa70e6c5d6ed61ea5\", element=\"199cec26-eb21-4ff0-bfca-0d2990a2e508\")>,\n",
       " <selenium.webdriver.remote.webelement.WebElement (session=\"e6d8d4304698062fa70e6c5d6ed61ea5\", element=\"282b3cd6-e222-4a1c-be22-0deeff482e94\")>,\n",
       " <selenium.webdriver.remote.webelement.WebElement (session=\"e6d8d4304698062fa70e6c5d6ed61ea5\", element=\"d034a021-c0fa-4b13-846d-dda391834b8e\")>,\n",
       " <selenium.webdriver.remote.webelement.WebElement (session=\"e6d8d4304698062fa70e6c5d6ed61ea5\", element=\"1057e498-d4bf-4b2a-addb-4278913c8dbf\")>,\n",
       " <selenium.webdriver.remote.webelement.WebElement (session=\"e6d8d4304698062fa70e6c5d6ed61ea5\", element=\"e584aa22-8d16-45ee-b8c4-26ab2dde48f4\")>,\n",
       " <selenium.webdriver.remote.webelement.WebElement (session=\"e6d8d4304698062fa70e6c5d6ed61ea5\", element=\"9154835e-b087-4cf5-b56f-97151201148a\")>,\n",
       " <selenium.webdriver.remote.webelement.WebElement (session=\"e6d8d4304698062fa70e6c5d6ed61ea5\", element=\"719488af-7e06-4172-8913-076f358e7b7e\")>,\n",
       " <selenium.webdriver.remote.webelement.WebElement (session=\"e6d8d4304698062fa70e6c5d6ed61ea5\", element=\"411f4498-fa0e-45c8-a316-e1e89d9390e6\")>,\n",
       " <selenium.webdriver.remote.webelement.WebElement (session=\"e6d8d4304698062fa70e6c5d6ed61ea5\", element=\"d58b1da4-6a0b-44b7-91c1-4c2986baab52\")>,\n",
       " <selenium.webdriver.remote.webelement.WebElement (session=\"e6d8d4304698062fa70e6c5d6ed61ea5\", element=\"9621562f-0e62-434c-9493-c07334cf9a31\")>]"
      ]
     },
     "execution_count": 272,
     "metadata": {},
     "output_type": "execute_result"
    }
   ],
   "source": [
    "Type3=driver6.find_elements_by_xpath(\"//div[@class='_2WkVRV']\")\n",
    "Type3"
   ]
  },
  {
   "cell_type": "code",
   "execution_count": 273,
   "metadata": {
    "collapsed": true
   },
   "outputs": [
    {
     "data": {
      "text/plain": [
       "['Silver Kartz',\n",
       " 'United Colors of Benetton',\n",
       " 'Singco India',\n",
       " 'Fastrack',\n",
       " 'NuVew',\n",
       " 'kingsunglasses',\n",
       " 'Fastrack',\n",
       " 'VINCENT CHASE',\n",
       " 'IDEE',\n",
       " 'PIRASO',\n",
       " 'ROYAL SON',\n",
       " 'VINCENT CHASE',\n",
       " 'ROYAL SON',\n",
       " 'Mi',\n",
       " 'Fastrack',\n",
       " 'ROYAL SON',\n",
       " 'IDEE',\n",
       " 'ROZZETTA CRAFT',\n",
       " 'Fastrack',\n",
       " 'VINCENT CHASE',\n",
       " 'AISLIN',\n",
       " 'ROYAL SON',\n",
       " 'ROYAL SON',\n",
       " 'SHAAH COLLECTIONS',\n",
       " 'Fastrack',\n",
       " 'DEIXELS',\n",
       " 'IDEE',\n",
       " 'ROZZETTA CRAFT',\n",
       " 'ROYAL SON',\n",
       " 'kingsunglasses',\n",
       " 'ROZZETTA CRAFT',\n",
       " 'VINCENT CHASE',\n",
       " 'WROGN',\n",
       " 'VINCENT CHASE',\n",
       " 'Pierre Cardin',\n",
       " 'ROYAL SON',\n",
       " 'kingsunglasses',\n",
       " 'Singco India',\n",
       " 'AISLIN',\n",
       " 'kingsunglasses']"
      ]
     },
     "execution_count": 273,
     "metadata": {},
     "output_type": "execute_result"
    }
   ],
   "source": [
    "Brand3=[]\n",
    "for i in Type3:\n",
    "    Brand3.append(i.text)\n",
    "Brand3"
   ]
  },
  {
   "cell_type": "code",
   "execution_count": 274,
   "metadata": {
    "collapsed": true
   },
   "outputs": [
    {
     "data": {
      "text/plain": [
       "[<selenium.webdriver.remote.webelement.WebElement (session=\"e6d8d4304698062fa70e6c5d6ed61ea5\", element=\"f9b6e406-b55d-4736-8995-f52472e71e6b\")>,\n",
       " <selenium.webdriver.remote.webelement.WebElement (session=\"e6d8d4304698062fa70e6c5d6ed61ea5\", element=\"5661f132-b59e-4765-86be-515fe9901a60\")>,\n",
       " <selenium.webdriver.remote.webelement.WebElement (session=\"e6d8d4304698062fa70e6c5d6ed61ea5\", element=\"11b1e747-e26c-4568-a998-fa3e6973ba79\")>,\n",
       " <selenium.webdriver.remote.webelement.WebElement (session=\"e6d8d4304698062fa70e6c5d6ed61ea5\", element=\"88ebcc73-2d75-47c0-90d8-9c471e5bc358\")>,\n",
       " <selenium.webdriver.remote.webelement.WebElement (session=\"e6d8d4304698062fa70e6c5d6ed61ea5\", element=\"4e4fc678-5eb3-412f-bde9-f2affc79d445\")>,\n",
       " <selenium.webdriver.remote.webelement.WebElement (session=\"e6d8d4304698062fa70e6c5d6ed61ea5\", element=\"f4ce06bb-52bf-4e43-a052-dab3e74d9f40\")>,\n",
       " <selenium.webdriver.remote.webelement.WebElement (session=\"e6d8d4304698062fa70e6c5d6ed61ea5\", element=\"5aa7340e-ad0c-4322-a2b3-7d6b72cae7a3\")>,\n",
       " <selenium.webdriver.remote.webelement.WebElement (session=\"e6d8d4304698062fa70e6c5d6ed61ea5\", element=\"bafeba8d-05af-4188-9d99-29ad896fa333\")>,\n",
       " <selenium.webdriver.remote.webelement.WebElement (session=\"e6d8d4304698062fa70e6c5d6ed61ea5\", element=\"4a35d31c-f90a-4483-86b1-378c47a12026\")>,\n",
       " <selenium.webdriver.remote.webelement.WebElement (session=\"e6d8d4304698062fa70e6c5d6ed61ea5\", element=\"1a638731-2ab8-4f3d-bb79-c58e26377644\")>,\n",
       " <selenium.webdriver.remote.webelement.WebElement (session=\"e6d8d4304698062fa70e6c5d6ed61ea5\", element=\"f0e00897-ac8f-4ce2-a529-5300e034d10d\")>,\n",
       " <selenium.webdriver.remote.webelement.WebElement (session=\"e6d8d4304698062fa70e6c5d6ed61ea5\", element=\"9fb62036-3319-492b-9494-6d46135c9f28\")>,\n",
       " <selenium.webdriver.remote.webelement.WebElement (session=\"e6d8d4304698062fa70e6c5d6ed61ea5\", element=\"c191bd04-51d6-424a-a9a2-d7d30244bb14\")>,\n",
       " <selenium.webdriver.remote.webelement.WebElement (session=\"e6d8d4304698062fa70e6c5d6ed61ea5\", element=\"9bef065e-c8a9-4d5e-b229-73377b2a1221\")>,\n",
       " <selenium.webdriver.remote.webelement.WebElement (session=\"e6d8d4304698062fa70e6c5d6ed61ea5\", element=\"d0fb82f8-ee6e-4ac2-aba5-4666f366e415\")>,\n",
       " <selenium.webdriver.remote.webelement.WebElement (session=\"e6d8d4304698062fa70e6c5d6ed61ea5\", element=\"d1636759-b22e-40bf-b68e-4b84be96408f\")>,\n",
       " <selenium.webdriver.remote.webelement.WebElement (session=\"e6d8d4304698062fa70e6c5d6ed61ea5\", element=\"0516948c-ad2c-4973-93a6-7c4e375ff046\")>,\n",
       " <selenium.webdriver.remote.webelement.WebElement (session=\"e6d8d4304698062fa70e6c5d6ed61ea5\", element=\"66556f71-3b8b-4407-bb11-564406d54f06\")>,\n",
       " <selenium.webdriver.remote.webelement.WebElement (session=\"e6d8d4304698062fa70e6c5d6ed61ea5\", element=\"f2516ee7-f5b3-4058-986f-ae306e9b94e4\")>,\n",
       " <selenium.webdriver.remote.webelement.WebElement (session=\"e6d8d4304698062fa70e6c5d6ed61ea5\", element=\"1a405851-017b-4ea7-ab37-3e3ae2c8b740\")>,\n",
       " <selenium.webdriver.remote.webelement.WebElement (session=\"e6d8d4304698062fa70e6c5d6ed61ea5\", element=\"a8976bf8-fa0d-48f7-a220-8329e72b38f0\")>,\n",
       " <selenium.webdriver.remote.webelement.WebElement (session=\"e6d8d4304698062fa70e6c5d6ed61ea5\", element=\"6f18e552-57c3-4ef4-b387-e4c35459c868\")>,\n",
       " <selenium.webdriver.remote.webelement.WebElement (session=\"e6d8d4304698062fa70e6c5d6ed61ea5\", element=\"5e8d2999-cf84-49ed-8e44-86ac8bdbef68\")>,\n",
       " <selenium.webdriver.remote.webelement.WebElement (session=\"e6d8d4304698062fa70e6c5d6ed61ea5\", element=\"ab5ffd5d-a98b-464b-9073-f16485985eaf\")>,\n",
       " <selenium.webdriver.remote.webelement.WebElement (session=\"e6d8d4304698062fa70e6c5d6ed61ea5\", element=\"eb230807-0962-4555-a4fa-69893cc87c85\")>,\n",
       " <selenium.webdriver.remote.webelement.WebElement (session=\"e6d8d4304698062fa70e6c5d6ed61ea5\", element=\"c922469b-d2a6-4979-b2a0-0d5c25d47fd6\")>,\n",
       " <selenium.webdriver.remote.webelement.WebElement (session=\"e6d8d4304698062fa70e6c5d6ed61ea5\", element=\"edb36d5d-f2ac-4e06-a491-99069d58c075\")>,\n",
       " <selenium.webdriver.remote.webelement.WebElement (session=\"e6d8d4304698062fa70e6c5d6ed61ea5\", element=\"58cb4443-ae36-4c70-a5b5-0e3cf1308190\")>,\n",
       " <selenium.webdriver.remote.webelement.WebElement (session=\"e6d8d4304698062fa70e6c5d6ed61ea5\", element=\"35451dcd-45ab-4800-8751-46b0b0187ad1\")>,\n",
       " <selenium.webdriver.remote.webelement.WebElement (session=\"e6d8d4304698062fa70e6c5d6ed61ea5\", element=\"00d51bcf-9bd5-4a59-aa9d-c6b0ecf75a13\")>,\n",
       " <selenium.webdriver.remote.webelement.WebElement (session=\"e6d8d4304698062fa70e6c5d6ed61ea5\", element=\"75a01fec-61cd-4f33-a992-1f0df965df7e\")>,\n",
       " <selenium.webdriver.remote.webelement.WebElement (session=\"e6d8d4304698062fa70e6c5d6ed61ea5\", element=\"18bb120f-ecf5-4fc2-8003-47e84c808a3e\")>,\n",
       " <selenium.webdriver.remote.webelement.WebElement (session=\"e6d8d4304698062fa70e6c5d6ed61ea5\", element=\"e33b2afb-35ca-495f-a4f7-375ad751574a\")>,\n",
       " <selenium.webdriver.remote.webelement.WebElement (session=\"e6d8d4304698062fa70e6c5d6ed61ea5\", element=\"1e331aaf-6b73-4de9-b25e-308731b3e3bf\")>,\n",
       " <selenium.webdriver.remote.webelement.WebElement (session=\"e6d8d4304698062fa70e6c5d6ed61ea5\", element=\"26f5476a-41ff-4449-a833-575bc8b12a1d\")>,\n",
       " <selenium.webdriver.remote.webelement.WebElement (session=\"e6d8d4304698062fa70e6c5d6ed61ea5\", element=\"5d962f80-b5bf-4499-9b98-ac2d474b7d52\")>,\n",
       " <selenium.webdriver.remote.webelement.WebElement (session=\"e6d8d4304698062fa70e6c5d6ed61ea5\", element=\"f8d73d65-8f0e-4370-a492-ef4f250d3230\")>,\n",
       " <selenium.webdriver.remote.webelement.WebElement (session=\"e6d8d4304698062fa70e6c5d6ed61ea5\", element=\"d04c6efc-8b33-44c4-bb89-648032ca983d\")>,\n",
       " <selenium.webdriver.remote.webelement.WebElement (session=\"e6d8d4304698062fa70e6c5d6ed61ea5\", element=\"a1687f3e-4518-4267-a3c3-c6af77ca7c71\")>,\n",
       " <selenium.webdriver.remote.webelement.WebElement (session=\"e6d8d4304698062fa70e6c5d6ed61ea5\", element=\"015e38ae-3301-4e35-93db-436f89431c61\")>]"
      ]
     },
     "execution_count": 274,
     "metadata": {},
     "output_type": "execute_result"
    }
   ],
   "source": [
    "Desc3=driver6.find_elements_by_xpath(\"//a[@class='IRpwTa']\")\n",
    "Desc3"
   ]
  },
  {
   "cell_type": "code",
   "execution_count": 275,
   "metadata": {
    "collapsed": true
   },
   "outputs": [
    {
     "data": {
      "text/plain": [
       "['UV Protection Oval Sunglasses (56)',\n",
       " 'Mirrored, UV Protection Aviator Sunglasses (57)',\n",
       " 'Mirrored, Riding Glasses, Others Sports Sunglasses (50)',\n",
       " 'Gradient, UV Protection Wayfarer Sunglasses (Free Size)',\n",
       " 'UV Protection, Mirrored Sports Sunglasses (62)',\n",
       " 'Mirrored, UV Protection Wayfarer Sunglasses (Free Size)',\n",
       " 'UV Protection Wayfarer Sunglasses (54)',\n",
       " 'UV Protection Aviator Sunglasses (Free Size)',\n",
       " 'Gradient, UV Protection Aviator Sunglasses (58)',\n",
       " 'UV Protection Butterfly Sunglasses (65)',\n",
       " 'Gradient Retro Square Sunglasses (58)',\n",
       " 'UV Protection Aviator Sunglasses (Free Size)',\n",
       " 'Polarized, UV Protection Aviator Sunglasses (58)',\n",
       " 'Polarized Wayfarer Sunglasses (Free Size)',\n",
       " 'UV Protection Oval Sunglasses (Free Size)',\n",
       " 'Polarized Retro Square Sunglasses (58)',\n",
       " 'UV Protection Aviator Sunglasses (18)',\n",
       " 'UV Protection, Gradient Round Sunglasses (Free Size)',\n",
       " 'UV Protection Round Sunglasses (52)',\n",
       " 'by Lenskart UV Protection Rectangular Sunglasses (54)',\n",
       " 'UV Protection, Gradient Butterfly, Retro Square Sunglas...',\n",
       " 'UV Protection, Gradient Butterfly Sunglasses (52)',\n",
       " 'Polarized, UV Protection Aviator Sunglasses (58)',\n",
       " 'UV Protection Round Sunglasses (Free Size)',\n",
       " 'UV Protection Sports Sunglasses (Free Size)',\n",
       " 'UV Protection Aviator, Wayfarer Sunglasses (Free Size)',\n",
       " 'UV Protection Over-sized Sunglasses (57)',\n",
       " 'Gradient Round Sunglasses (Free Size)',\n",
       " 'UV Protection Rectangular Sunglasses (Free Size)',\n",
       " 'UV Protection Round Sunglasses (Free Size)',\n",
       " 'UV Protection Rectangular Sunglasses (Free Size)',\n",
       " 'UV Protection Wayfarer Sunglasses (51)',\n",
       " 'Polarized Over-sized Sunglasses (56)',\n",
       " 'Polarized, UV Protection Wayfarer Sunglasses (53)',\n",
       " 'Mirrored Aviator Sunglasses (59)',\n",
       " 'UV Protection Round Sunglasses (53)',\n",
       " 'UV Protection Rectangular Sunglasses (55)',\n",
       " 'Mirrored, UV Protection, Riding Glasses, Others Wrap-ar...',\n",
       " 'Toughened Glass Lens, UV Protection Aviator Sunglasses ...',\n",
       " 'UV Protection Round Sunglasses (54)']"
      ]
     },
     "execution_count": 275,
     "metadata": {},
     "output_type": "execute_result"
    }
   ],
   "source": [
    "Product_Description3=[]\n",
    "for i in Desc3:\n",
    "    Product_Description3.append(i.text)\n",
    "Product_Description3"
   ]
  },
  {
   "cell_type": "code",
   "execution_count": 276,
   "metadata": {
    "collapsed": true
   },
   "outputs": [
    {
     "data": {
      "text/plain": [
       "[<selenium.webdriver.remote.webelement.WebElement (session=\"e6d8d4304698062fa70e6c5d6ed61ea5\", element=\"c2f4e2cc-d9ee-4341-9469-11b4835a43d5\")>,\n",
       " <selenium.webdriver.remote.webelement.WebElement (session=\"e6d8d4304698062fa70e6c5d6ed61ea5\", element=\"52d8056f-c038-451e-8aac-526ffab69785\")>,\n",
       " <selenium.webdriver.remote.webelement.WebElement (session=\"e6d8d4304698062fa70e6c5d6ed61ea5\", element=\"13efe2ff-f055-4762-8b30-c95835edd61d\")>,\n",
       " <selenium.webdriver.remote.webelement.WebElement (session=\"e6d8d4304698062fa70e6c5d6ed61ea5\", element=\"b948c640-d403-4ff6-b1b5-e65fd6427d0b\")>,\n",
       " <selenium.webdriver.remote.webelement.WebElement (session=\"e6d8d4304698062fa70e6c5d6ed61ea5\", element=\"8eda2483-b820-4dea-978d-31beb541fa42\")>,\n",
       " <selenium.webdriver.remote.webelement.WebElement (session=\"e6d8d4304698062fa70e6c5d6ed61ea5\", element=\"13d503bc-25c3-481a-8137-7c0e2d5e3988\")>,\n",
       " <selenium.webdriver.remote.webelement.WebElement (session=\"e6d8d4304698062fa70e6c5d6ed61ea5\", element=\"d62dcdfe-13b4-41f1-9075-1d242c0ad955\")>,\n",
       " <selenium.webdriver.remote.webelement.WebElement (session=\"e6d8d4304698062fa70e6c5d6ed61ea5\", element=\"3566aaf1-11fd-4392-a4e3-e7dcf57ca3d3\")>,\n",
       " <selenium.webdriver.remote.webelement.WebElement (session=\"e6d8d4304698062fa70e6c5d6ed61ea5\", element=\"173c9abf-7e5d-40f3-aea8-99bcd8e986ce\")>,\n",
       " <selenium.webdriver.remote.webelement.WebElement (session=\"e6d8d4304698062fa70e6c5d6ed61ea5\", element=\"de2ee848-62a6-4908-b12e-a9ab71d33426\")>,\n",
       " <selenium.webdriver.remote.webelement.WebElement (session=\"e6d8d4304698062fa70e6c5d6ed61ea5\", element=\"5aa88cf4-0a49-4e10-831c-b68ab67171c6\")>,\n",
       " <selenium.webdriver.remote.webelement.WebElement (session=\"e6d8d4304698062fa70e6c5d6ed61ea5\", element=\"21072f79-d074-4d12-a009-a57bea56deac\")>,\n",
       " <selenium.webdriver.remote.webelement.WebElement (session=\"e6d8d4304698062fa70e6c5d6ed61ea5\", element=\"03cb088e-230b-41fe-91c7-1c39c7689717\")>,\n",
       " <selenium.webdriver.remote.webelement.WebElement (session=\"e6d8d4304698062fa70e6c5d6ed61ea5\", element=\"aa292656-b2b5-4f69-bd75-b178aa1e46c7\")>,\n",
       " <selenium.webdriver.remote.webelement.WebElement (session=\"e6d8d4304698062fa70e6c5d6ed61ea5\", element=\"06bbf950-9214-4a51-b176-736ccb230b49\")>,\n",
       " <selenium.webdriver.remote.webelement.WebElement (session=\"e6d8d4304698062fa70e6c5d6ed61ea5\", element=\"888cb07b-ad42-49ae-8483-ad0b63353d22\")>,\n",
       " <selenium.webdriver.remote.webelement.WebElement (session=\"e6d8d4304698062fa70e6c5d6ed61ea5\", element=\"7293a7c9-ff24-4c4f-afc3-59c0030850ba\")>,\n",
       " <selenium.webdriver.remote.webelement.WebElement (session=\"e6d8d4304698062fa70e6c5d6ed61ea5\", element=\"f37aeb60-c4f8-45ec-93dd-f62ca08022b1\")>,\n",
       " <selenium.webdriver.remote.webelement.WebElement (session=\"e6d8d4304698062fa70e6c5d6ed61ea5\", element=\"ace4e40b-bc0f-4227-ae75-71db3085ce8e\")>,\n",
       " <selenium.webdriver.remote.webelement.WebElement (session=\"e6d8d4304698062fa70e6c5d6ed61ea5\", element=\"f29fe52e-4259-4c35-9109-ab2937dd1620\")>,\n",
       " <selenium.webdriver.remote.webelement.WebElement (session=\"e6d8d4304698062fa70e6c5d6ed61ea5\", element=\"906e591e-6a10-43ad-8419-ffbabb45e554\")>,\n",
       " <selenium.webdriver.remote.webelement.WebElement (session=\"e6d8d4304698062fa70e6c5d6ed61ea5\", element=\"362737a8-7235-46f7-9b85-00f0ce173004\")>,\n",
       " <selenium.webdriver.remote.webelement.WebElement (session=\"e6d8d4304698062fa70e6c5d6ed61ea5\", element=\"1105a2bb-3002-4f75-acbc-4636ac070374\")>,\n",
       " <selenium.webdriver.remote.webelement.WebElement (session=\"e6d8d4304698062fa70e6c5d6ed61ea5\", element=\"5a3cd6de-500c-40ec-9f61-903a163cbe63\")>,\n",
       " <selenium.webdriver.remote.webelement.WebElement (session=\"e6d8d4304698062fa70e6c5d6ed61ea5\", element=\"96b75ad3-bdde-4cc0-97ff-d39c4b97ef46\")>,\n",
       " <selenium.webdriver.remote.webelement.WebElement (session=\"e6d8d4304698062fa70e6c5d6ed61ea5\", element=\"294ac6f2-66ba-4059-bcde-3ff3a1b17bf5\")>,\n",
       " <selenium.webdriver.remote.webelement.WebElement (session=\"e6d8d4304698062fa70e6c5d6ed61ea5\", element=\"20dd1d8b-cc55-4d1a-a57d-ba3e9f122f96\")>,\n",
       " <selenium.webdriver.remote.webelement.WebElement (session=\"e6d8d4304698062fa70e6c5d6ed61ea5\", element=\"f28316f5-d5ff-4aa5-9153-c66e4a60eda7\")>,\n",
       " <selenium.webdriver.remote.webelement.WebElement (session=\"e6d8d4304698062fa70e6c5d6ed61ea5\", element=\"028281a9-15de-490c-a4de-e4f96e9dd1c9\")>,\n",
       " <selenium.webdriver.remote.webelement.WebElement (session=\"e6d8d4304698062fa70e6c5d6ed61ea5\", element=\"9873c7f2-05ac-449f-994c-72640c8ffba0\")>,\n",
       " <selenium.webdriver.remote.webelement.WebElement (session=\"e6d8d4304698062fa70e6c5d6ed61ea5\", element=\"b4cc4494-2863-4a7f-b5df-b9674ca7c557\")>,\n",
       " <selenium.webdriver.remote.webelement.WebElement (session=\"e6d8d4304698062fa70e6c5d6ed61ea5\", element=\"b954e536-b954-46fa-b06e-32b8f200dde1\")>,\n",
       " <selenium.webdriver.remote.webelement.WebElement (session=\"e6d8d4304698062fa70e6c5d6ed61ea5\", element=\"9dcf8b6b-3565-4404-bc78-f3ddde47567d\")>,\n",
       " <selenium.webdriver.remote.webelement.WebElement (session=\"e6d8d4304698062fa70e6c5d6ed61ea5\", element=\"6b4a79b4-4416-4454-9eaf-47f773c6ef42\")>,\n",
       " <selenium.webdriver.remote.webelement.WebElement (session=\"e6d8d4304698062fa70e6c5d6ed61ea5\", element=\"b5519780-77ba-4e28-a5cc-07f12044ef2a\")>,\n",
       " <selenium.webdriver.remote.webelement.WebElement (session=\"e6d8d4304698062fa70e6c5d6ed61ea5\", element=\"80dddf28-dcb0-4abc-b9d8-eacc4575e14b\")>,\n",
       " <selenium.webdriver.remote.webelement.WebElement (session=\"e6d8d4304698062fa70e6c5d6ed61ea5\", element=\"27cb6166-a5a9-42b0-8962-68b31e2f10a6\")>,\n",
       " <selenium.webdriver.remote.webelement.WebElement (session=\"e6d8d4304698062fa70e6c5d6ed61ea5\", element=\"964229b3-4eb0-4583-82b4-e8c05ae47e70\")>,\n",
       " <selenium.webdriver.remote.webelement.WebElement (session=\"e6d8d4304698062fa70e6c5d6ed61ea5\", element=\"fd409032-41ab-41e1-9582-80fdfad61d6c\")>,\n",
       " <selenium.webdriver.remote.webelement.WebElement (session=\"e6d8d4304698062fa70e6c5d6ed61ea5\", element=\"9038e878-a774-4f8e-a0a8-418a36db0531\")>]"
      ]
     },
     "execution_count": 276,
     "metadata": {},
     "output_type": "execute_result"
    }
   ],
   "source": [
    "Rate3=driver6.find_elements_by_xpath(\"//div[@class='_30jeq3']\")\n",
    "Rate3"
   ]
  },
  {
   "cell_type": "code",
   "execution_count": 277,
   "metadata": {
    "collapsed": true
   },
   "outputs": [
    {
     "data": {
      "text/plain": [
       "['₹224',\n",
       " '₹1,451',\n",
       " '₹207',\n",
       " '₹619',\n",
       " '₹345',\n",
       " '₹284',\n",
       " '₹689',\n",
       " '₹999',\n",
       " '₹2,250',\n",
       " '₹426',\n",
       " '₹399',\n",
       " '₹999',\n",
       " '₹599',\n",
       " '₹999',\n",
       " '₹1,970',\n",
       " '₹719',\n",
       " '₹2,450',\n",
       " '₹359',\n",
       " '₹1,234',\n",
       " '₹639',\n",
       " '₹545',\n",
       " '₹524',\n",
       " '₹599',\n",
       " '₹331',\n",
       " '₹771',\n",
       " '₹229',\n",
       " '₹2,450',\n",
       " '₹359',\n",
       " '₹399',\n",
       " '₹331',\n",
       " '₹378',\n",
       " '₹943',\n",
       " '₹905',\n",
       " '₹639',\n",
       " '₹2,137',\n",
       " '₹524',\n",
       " '₹196',\n",
       " '₹279',\n",
       " '₹829',\n",
       " '₹213']"
      ]
     },
     "execution_count": 277,
     "metadata": {},
     "output_type": "execute_result"
    }
   ],
   "source": [
    "Price3=[]\n",
    "for i in Rate3:\n",
    "    Price3.append(i.text)\n",
    "Price3"
   ]
  },
  {
   "cell_type": "code",
   "execution_count": 278,
   "metadata": {
    "collapsed": true
   },
   "outputs": [
    {
     "data": {
      "text/plain": [
       "[<selenium.webdriver.remote.webelement.WebElement (session=\"e6d8d4304698062fa70e6c5d6ed61ea5\", element=\"901ee1e4-6499-4fd1-b084-c066e81c16ba\")>,\n",
       " <selenium.webdriver.remote.webelement.WebElement (session=\"e6d8d4304698062fa70e6c5d6ed61ea5\", element=\"3cae8b32-dba2-4e63-aba4-8f3411a410f5\")>,\n",
       " <selenium.webdriver.remote.webelement.WebElement (session=\"e6d8d4304698062fa70e6c5d6ed61ea5\", element=\"2e2fe319-0d7f-4db9-a318-d6dd87dde3d3\")>,\n",
       " <selenium.webdriver.remote.webelement.WebElement (session=\"e6d8d4304698062fa70e6c5d6ed61ea5\", element=\"9a89c3bc-cbec-4f96-8592-6e3340175fd7\")>,\n",
       " <selenium.webdriver.remote.webelement.WebElement (session=\"e6d8d4304698062fa70e6c5d6ed61ea5\", element=\"9da799cc-fa93-4c98-9b1f-4af744d8961a\")>,\n",
       " <selenium.webdriver.remote.webelement.WebElement (session=\"e6d8d4304698062fa70e6c5d6ed61ea5\", element=\"bb7b98b8-fa74-4594-ab10-6628760a549d\")>,\n",
       " <selenium.webdriver.remote.webelement.WebElement (session=\"e6d8d4304698062fa70e6c5d6ed61ea5\", element=\"5b96b8f6-38bf-4515-a981-9abeb6a0e399\")>,\n",
       " <selenium.webdriver.remote.webelement.WebElement (session=\"e6d8d4304698062fa70e6c5d6ed61ea5\", element=\"392525ed-8b32-4af3-8d05-f3481b861137\")>,\n",
       " <selenium.webdriver.remote.webelement.WebElement (session=\"e6d8d4304698062fa70e6c5d6ed61ea5\", element=\"857a65c6-08ac-47ff-910f-be77a756ea7c\")>,\n",
       " <selenium.webdriver.remote.webelement.WebElement (session=\"e6d8d4304698062fa70e6c5d6ed61ea5\", element=\"6cb7090e-fd4e-41d0-b1c2-37ba8d50851c\")>,\n",
       " <selenium.webdriver.remote.webelement.WebElement (session=\"e6d8d4304698062fa70e6c5d6ed61ea5\", element=\"f4f37ed9-c253-4d5f-95f5-64213b976049\")>,\n",
       " <selenium.webdriver.remote.webelement.WebElement (session=\"e6d8d4304698062fa70e6c5d6ed61ea5\", element=\"b8cb9ded-7a04-40cf-a573-602f9b562533\")>,\n",
       " <selenium.webdriver.remote.webelement.WebElement (session=\"e6d8d4304698062fa70e6c5d6ed61ea5\", element=\"3fa2d2eb-db11-4507-9099-fc58d584e8b6\")>,\n",
       " <selenium.webdriver.remote.webelement.WebElement (session=\"e6d8d4304698062fa70e6c5d6ed61ea5\", element=\"48bc9238-e187-4fe7-8f74-b54e58eab1dc\")>,\n",
       " <selenium.webdriver.remote.webelement.WebElement (session=\"e6d8d4304698062fa70e6c5d6ed61ea5\", element=\"ff0610db-861b-45a3-aeb8-dcb413ef57ec\")>,\n",
       " <selenium.webdriver.remote.webelement.WebElement (session=\"e6d8d4304698062fa70e6c5d6ed61ea5\", element=\"af63b144-e6d5-4750-94ac-2dcc10d98a78\")>,\n",
       " <selenium.webdriver.remote.webelement.WebElement (session=\"e6d8d4304698062fa70e6c5d6ed61ea5\", element=\"6bf27f64-d0bc-47e3-92cd-e4d700c60f86\")>,\n",
       " <selenium.webdriver.remote.webelement.WebElement (session=\"e6d8d4304698062fa70e6c5d6ed61ea5\", element=\"4b2742b3-ed8c-4575-a92b-847d94f4aa02\")>,\n",
       " <selenium.webdriver.remote.webelement.WebElement (session=\"e6d8d4304698062fa70e6c5d6ed61ea5\", element=\"e231c4ef-0a61-4a65-8881-03e5175fe502\")>,\n",
       " <selenium.webdriver.remote.webelement.WebElement (session=\"e6d8d4304698062fa70e6c5d6ed61ea5\", element=\"28e98a04-f5f5-4783-8ac5-c39151aeb633\")>,\n",
       " <selenium.webdriver.remote.webelement.WebElement (session=\"e6d8d4304698062fa70e6c5d6ed61ea5\", element=\"5f060c5d-eb14-4107-8e07-aa7a5fb4886a\")>,\n",
       " <selenium.webdriver.remote.webelement.WebElement (session=\"e6d8d4304698062fa70e6c5d6ed61ea5\", element=\"85a19221-ae6f-4068-a9e1-0a32165fb724\")>,\n",
       " <selenium.webdriver.remote.webelement.WebElement (session=\"e6d8d4304698062fa70e6c5d6ed61ea5\", element=\"279ac3a4-9da1-4662-9202-0c274ebb3f48\")>,\n",
       " <selenium.webdriver.remote.webelement.WebElement (session=\"e6d8d4304698062fa70e6c5d6ed61ea5\", element=\"a8321cf3-9b70-4879-b474-6d958157ea01\")>,\n",
       " <selenium.webdriver.remote.webelement.WebElement (session=\"e6d8d4304698062fa70e6c5d6ed61ea5\", element=\"2fdb4b3c-00cf-4f66-9851-9ba4bf92ea5b\")>,\n",
       " <selenium.webdriver.remote.webelement.WebElement (session=\"e6d8d4304698062fa70e6c5d6ed61ea5\", element=\"b835adf7-e0d1-4f33-9b9c-4f8cd5f6986b\")>,\n",
       " <selenium.webdriver.remote.webelement.WebElement (session=\"e6d8d4304698062fa70e6c5d6ed61ea5\", element=\"c9ab3de8-2371-4d6b-8647-6505c8a78324\")>,\n",
       " <selenium.webdriver.remote.webelement.WebElement (session=\"e6d8d4304698062fa70e6c5d6ed61ea5\", element=\"1159ca92-0656-4cb2-8ac8-ce70d1dfbfda\")>,\n",
       " <selenium.webdriver.remote.webelement.WebElement (session=\"e6d8d4304698062fa70e6c5d6ed61ea5\", element=\"ef51e8fd-b760-4046-bf55-6bba628c8268\")>,\n",
       " <selenium.webdriver.remote.webelement.WebElement (session=\"e6d8d4304698062fa70e6c5d6ed61ea5\", element=\"66c91bcf-2813-4515-bbf6-e4051fcda154\")>,\n",
       " <selenium.webdriver.remote.webelement.WebElement (session=\"e6d8d4304698062fa70e6c5d6ed61ea5\", element=\"2655a2dc-edc9-4d31-8333-a8a949191744\")>,\n",
       " <selenium.webdriver.remote.webelement.WebElement (session=\"e6d8d4304698062fa70e6c5d6ed61ea5\", element=\"e0d656f0-4c5e-427e-ac64-c4e27a144d82\")>,\n",
       " <selenium.webdriver.remote.webelement.WebElement (session=\"e6d8d4304698062fa70e6c5d6ed61ea5\", element=\"4466e2a9-4f9a-4ff2-99ef-523dce2ddd4c\")>,\n",
       " <selenium.webdriver.remote.webelement.WebElement (session=\"e6d8d4304698062fa70e6c5d6ed61ea5\", element=\"9cf2d88c-341c-4f1d-a6a8-1a138a1870ca\")>,\n",
       " <selenium.webdriver.remote.webelement.WebElement (session=\"e6d8d4304698062fa70e6c5d6ed61ea5\", element=\"ca873518-5e3c-4e8d-ac79-c20aa192543c\")>,\n",
       " <selenium.webdriver.remote.webelement.WebElement (session=\"e6d8d4304698062fa70e6c5d6ed61ea5\", element=\"a185fe1e-807c-40dd-9509-f276a64e9677\")>]"
      ]
     },
     "execution_count": 278,
     "metadata": {},
     "output_type": "execute_result"
    }
   ],
   "source": [
    "Disc3=driver6.find_elements_by_xpath(\"//div[@class='_3Ay6Sb']\")\n",
    "Disc3"
   ]
  },
  {
   "cell_type": "code",
   "execution_count": 279,
   "metadata": {
    "collapsed": true
   },
   "outputs": [
    {
     "data": {
      "text/plain": [
       "['81% off',\n",
       " '66% off',\n",
       " '86% off',\n",
       " '22% off',\n",
       " '72% off',\n",
       " '89% off',\n",
       " '23% off',\n",
       " '50% off',\n",
       " '83% off',\n",
       " '73% off',\n",
       " '50% off',\n",
       " '70% off',\n",
       " '1% off',\n",
       " '64% off',\n",
       " '82% off',\n",
       " '5% off',\n",
       " '68% off',\n",
       " '64% off',\n",
       " '73% off',\n",
       " '70% off',\n",
       " '80% off',\n",
       " '14% off',\n",
       " '80% off',\n",
       " '90% off',\n",
       " '73% off',\n",
       " '79% off',\n",
       " '74% off',\n",
       " '52% off',\n",
       " '69% off',\n",
       " '68% off',\n",
       " '58% off',\n",
       " '73% off',\n",
       " '84% off',\n",
       " '86% off',\n",
       " '77% off',\n",
       " '80% off']"
      ]
     },
     "execution_count": 279,
     "metadata": {},
     "output_type": "execute_result"
    }
   ],
   "source": [
    "Discountinpercent3=[]\n",
    "for i in Disc3:\n",
    "    Discountinpercent3.append(i.text)\n",
    "Discountinpercent3"
   ]
  },
  {
   "cell_type": "code",
   "execution_count": 280,
   "metadata": {},
   "outputs": [],
   "source": [
    "#concatenate contents attributewise"
   ]
  },
  {
   "cell_type": "code",
   "execution_count": 282,
   "metadata": {
    "collapsed": true
   },
   "outputs": [
    {
     "data": {
      "text/plain": [
       "['ROZZETTA CRAFT',\n",
       " 'VINCENT CHASE',\n",
       " 'Fastrack',\n",
       " 'PIRASO',\n",
       " 'PIRASO',\n",
       " 'Elligator',\n",
       " 'SHAAH COLLECTIONS',\n",
       " 'ROYAL SON',\n",
       " 'PIRASO',\n",
       " 'New Specs',\n",
       " 'Fastrack',\n",
       " 'Fastrack',\n",
       " 'ROZZETTA CRAFT',\n",
       " 'Elligator',\n",
       " 'kingsunglasses',\n",
       " 'ROYAL SON',\n",
       " 'Rich Club',\n",
       " 'Fastrack',\n",
       " 'Singco India',\n",
       " 'ROYAL SON',\n",
       " 'Fastrack',\n",
       " 'Fastrack',\n",
       " 'Singco India',\n",
       " 'VINCENT CHASE',\n",
       " 'NuVew',\n",
       " 'PHENOMENAL',\n",
       " 'kingsunglasses',\n",
       " 'ROYAL SON',\n",
       " 'GANSTA',\n",
       " 'Fastrack',\n",
       " 'Fastrack',\n",
       " 'AISLIN',\n",
       " 'Fastrack',\n",
       " 'GANSTA',\n",
       " 'SHAAH COLLECTIONS',\n",
       " 'ROYAL SON',\n",
       " 'kingsunglasses',\n",
       " 'GANSTA',\n",
       " 'Silver Kartz',\n",
       " 'ROYAL SON',\n",
       " 'SHAAH COLLECTIONS',\n",
       " 'SUNBEE',\n",
       " 'PIRASO',\n",
       " 'Fastrack',\n",
       " 'NuVew',\n",
       " 'GANSTA',\n",
       " 'Fastrack',\n",
       " 'Fastrack',\n",
       " 'Fastrack',\n",
       " 'Silver Kartz',\n",
       " 'NuVew',\n",
       " 'Fastrack',\n",
       " 'ROZZETTA CRAFT',\n",
       " 'Fastrack',\n",
       " 'Fastrack',\n",
       " 'Fastrack',\n",
       " 'ROYAL SON',\n",
       " 'elegante',\n",
       " 'PHENOMENAL',\n",
       " 'Fastrack',\n",
       " 'GANSTA',\n",
       " 'Singco India',\n",
       " 'Fastrack',\n",
       " 'Fastrack',\n",
       " 'IDEE',\n",
       " 'povty',\n",
       " 'WROGN',\n",
       " 'Fastrack',\n",
       " 'ROYAL SON',\n",
       " 'hipe',\n",
       " 'GANSTA',\n",
       " 'Fastrack',\n",
       " 'Fastrack',\n",
       " 'PHENOMENAL',\n",
       " 'Elligator',\n",
       " 'Fastrack',\n",
       " 'ROZZETTA CRAFT',\n",
       " 'IDEE',\n",
       " 'IDEE',\n",
       " 'ROZZETTA CRAFT',\n",
       " 'Silver Kartz',\n",
       " 'United Colors of Benetton',\n",
       " 'Singco India',\n",
       " 'Fastrack',\n",
       " 'NuVew',\n",
       " 'kingsunglasses',\n",
       " 'Fastrack',\n",
       " 'VINCENT CHASE',\n",
       " 'IDEE',\n",
       " 'PIRASO',\n",
       " 'ROYAL SON',\n",
       " 'VINCENT CHASE',\n",
       " 'ROYAL SON',\n",
       " 'Mi',\n",
       " 'Fastrack',\n",
       " 'ROYAL SON',\n",
       " 'IDEE',\n",
       " 'ROZZETTA CRAFT',\n",
       " 'Fastrack',\n",
       " 'VINCENT CHASE',\n",
       " 'AISLIN',\n",
       " 'ROYAL SON',\n",
       " 'ROYAL SON',\n",
       " 'SHAAH COLLECTIONS',\n",
       " 'Fastrack',\n",
       " 'DEIXELS',\n",
       " 'IDEE',\n",
       " 'ROZZETTA CRAFT',\n",
       " 'ROYAL SON',\n",
       " 'kingsunglasses',\n",
       " 'ROZZETTA CRAFT',\n",
       " 'VINCENT CHASE',\n",
       " 'WROGN',\n",
       " 'VINCENT CHASE',\n",
       " 'Pierre Cardin',\n",
       " 'ROYAL SON',\n",
       " 'kingsunglasses',\n",
       " 'Singco India',\n",
       " 'AISLIN',\n",
       " 'kingsunglasses']"
      ]
     },
     "execution_count": 282,
     "metadata": {},
     "output_type": "execute_result"
    }
   ],
   "source": [
    "Brand=Brand1+Brand2+Brand3\n",
    "Brand"
   ]
  },
  {
   "cell_type": "code",
   "execution_count": 285,
   "metadata": {
    "collapsed": true
   },
   "outputs": [
    {
     "data": {
      "text/plain": [
       "['UV Protection, Gradient Round Sunglasses (Free Size)',\n",
       " 'Polarized, UV Protection Wayfarer Sunglasses (53)',\n",
       " 'UV Protection Wayfarer Sunglasses (Free Size)',\n",
       " 'UV Protection Aviator Sunglasses (54)',\n",
       " 'UV Protection Aviator Sunglasses (54)',\n",
       " 'UV Protection Round Sunglasses (54)',\n",
       " 'UV Protection, Polarized, Mirrored Rectangular Sunglass...',\n",
       " 'UV Protection Rectangular Sunglasses (58)',\n",
       " 'UV Protection Aviator Sunglasses (54)',\n",
       " 'Mirrored, UV Protection, Riding Glasses, Others Round S...',\n",
       " 'Gradient, UV Protection Wayfarer Sunglasses (Free Size)',\n",
       " 'UV Protection Wayfarer Sunglasses (Free Size)',\n",
       " 'UV Protection Retro Square Sunglasses (Free Size)',\n",
       " 'UV Protection Round Sunglasses (55)',\n",
       " 'Mirrored, UV Protection Wayfarer Sunglasses (Free Size)',\n",
       " 'Polarized, UV Protection Round Sunglasses (53)',\n",
       " 'Polarized Round Sunglasses (48)',\n",
       " 'UV Protection Shield Sunglasses (Free Size)',\n",
       " 'UV Protection Aviator Sunglasses (Free Size)',\n",
       " 'UV Protection Rectangular Sunglasses (Free Size)',\n",
       " 'UV Protection Aviator Sunglasses (Free Size)',\n",
       " 'UV Protection Wayfarer Sunglasses (Free Size)',\n",
       " 'UV Protection, Riding Glasses, Others Aviator, Wayfarer...',\n",
       " 'Polarized, UV Protection Wayfarer Sunglasses (57)',\n",
       " 'UV Protection, Night Vision, Riding Glasses Sports Sung...',\n",
       " 'UV Protection Retro Square Sunglasses (Free Size)',\n",
       " 'Mirrored, UV Protection Wayfarer, Wayfarer, Wayfarer, W...',\n",
       " 'UV Protection Over-sized Sunglasses (65)',\n",
       " 'UV Protection Aviator Sunglasses (57)',\n",
       " 'Gradient, UV Protection Wayfarer Sunglasses (Free Size)',\n",
       " 'Mirrored, UV Protection Wayfarer Sunglasses (Free Size)',\n",
       " 'UV Protection Wayfarer, Rectangular Sunglasses (53)',\n",
       " 'UV Protection Aviator Sunglasses (Free Size)',\n",
       " 'UV Protection Aviator Sunglasses (57)',\n",
       " 'UV Protection Round Sunglasses (Free Size)',\n",
       " 'Mirrored Aviator Sunglasses (58)',\n",
       " 'UV Protection Round Sunglasses (54)',\n",
       " 'UV Protection, Night Vision, Riding Glasses Aviator Sun...',\n",
       " 'UV Protection Oval Sunglasses (56)',\n",
       " 'UV Protection, Gradient Over-sized Sunglasses (56)',\n",
       " 'UV Protection, Polarized, Mirrored Rectangular Sunglass...',\n",
       " 'UV Protection, Polarized, Mirrored Wayfarer Sunglasses ...',\n",
       " 'UV Protection Aviator Sunglasses (58)',\n",
       " 'UV Protection Wayfarer Sunglasses (Free Size)',\n",
       " 'UV Protection Sports Sunglasses (62)',\n",
       " 'UV Protection, Riding Glasses Wayfarer Sunglasses (53)',\n",
       " 'UV Protection Wayfarer Sunglasses (Free Size)',\n",
       " 'UV Protection Wayfarer Sunglasses (Free Size)',\n",
       " 'UV Protection Rectangular Sunglasses (Free Size)',\n",
       " 'UV Protection Wayfarer Sunglasses (Free Size)',\n",
       " 'UV Protection, Mirrored Aviator Sunglasses (58)',\n",
       " 'UV Protection Aviator Sunglasses (58)',\n",
       " 'UV Protection, Gradient Rectangular Sunglasses (Free Si...',\n",
       " 'UV Protection Wayfarer Sunglasses (Free Size)',\n",
       " 'UV Protection Wayfarer Sunglasses (Free Size)',\n",
       " 'UV Protection Aviator Sunglasses (Free Size)',\n",
       " 'Polarized, UV Protection Aviator Sunglasses (58)',\n",
       " 'Mirrored Round Sunglasses (Free Size)',\n",
       " 'UV Protection, Mirrored Retro Square Sunglasses (53)',\n",
       " 'UV Protection Wayfarer Sunglasses (57)',\n",
       " 'UV Protection, Mirrored Wayfarer Sunglasses (53)',\n",
       " 'UV Protection Round Sunglasses (Free Size)',\n",
       " 'UV Protection Aviator Sunglasses (58)',\n",
       " 'Gradient, UV Protection Wayfarer Sunglasses (Free Size)',\n",
       " 'UV Protection Wayfarer Sunglasses (55)',\n",
       " 'UV Protection Wayfarer Sunglasses (Free Size)',\n",
       " 'Polarized Oval Sunglasses (55)',\n",
       " 'UV Protection Wrap-around Sunglasses (Free Size)',\n",
       " 'Mirrored Aviator Sunglasses (55)',\n",
       " 'Mirrored, UV Protection, Gradient Round Sunglasses (55)',\n",
       " 'UV Protection, Gradient Wayfarer Sunglasses (53)',\n",
       " 'Gradient, UV Protection Wayfarer Sunglasses (Free Size)',\n",
       " 'UV Protection Aviator Sunglasses (58)',\n",
       " 'UV Protection Round Sunglasses (53)',\n",
       " 'UV Protection Round Sunglasses (53)',\n",
       " 'Mirrored, UV Protection Wayfarer Sunglasses (Free Size)',\n",
       " 'UV Protection, Gradient Rectangular Sunglasses (Free Si...',\n",
       " 'UV Protection Wayfarer Sunglasses (18)',\n",
       " 'Gradient, UV Protection Aviator Sunglasses (58)',\n",
       " 'UV Protection Rectangular Sunglasses (Free Size)',\n",
       " 'UV Protection Oval Sunglasses (56)',\n",
       " 'Mirrored, UV Protection Aviator Sunglasses (57)',\n",
       " 'Mirrored, Riding Glasses, Others Sports Sunglasses (50)',\n",
       " 'Gradient, UV Protection Wayfarer Sunglasses (Free Size)',\n",
       " 'UV Protection, Mirrored Sports Sunglasses (62)',\n",
       " 'Mirrored, UV Protection Wayfarer Sunglasses (Free Size)',\n",
       " 'UV Protection Wayfarer Sunglasses (54)',\n",
       " 'UV Protection Aviator Sunglasses (Free Size)',\n",
       " 'Gradient, UV Protection Aviator Sunglasses (58)',\n",
       " 'UV Protection Butterfly Sunglasses (65)',\n",
       " 'Gradient Retro Square Sunglasses (58)',\n",
       " 'UV Protection Aviator Sunglasses (Free Size)',\n",
       " 'Polarized, UV Protection Aviator Sunglasses (58)',\n",
       " 'Polarized Wayfarer Sunglasses (Free Size)',\n",
       " 'UV Protection Oval Sunglasses (Free Size)',\n",
       " 'Polarized Retro Square Sunglasses (58)',\n",
       " 'UV Protection Aviator Sunglasses (18)',\n",
       " 'UV Protection, Gradient Round Sunglasses (Free Size)',\n",
       " 'UV Protection Round Sunglasses (52)',\n",
       " 'by Lenskart UV Protection Rectangular Sunglasses (54)',\n",
       " 'UV Protection, Gradient Butterfly, Retro Square Sunglas...',\n",
       " 'UV Protection, Gradient Butterfly Sunglasses (52)',\n",
       " 'Polarized, UV Protection Aviator Sunglasses (58)',\n",
       " 'UV Protection Round Sunglasses (Free Size)',\n",
       " 'UV Protection Sports Sunglasses (Free Size)',\n",
       " 'UV Protection Aviator, Wayfarer Sunglasses (Free Size)',\n",
       " 'UV Protection Over-sized Sunglasses (57)',\n",
       " 'Gradient Round Sunglasses (Free Size)',\n",
       " 'UV Protection Rectangular Sunglasses (Free Size)',\n",
       " 'UV Protection Round Sunglasses (Free Size)',\n",
       " 'UV Protection Rectangular Sunglasses (Free Size)',\n",
       " 'UV Protection Wayfarer Sunglasses (51)',\n",
       " 'Polarized Over-sized Sunglasses (56)',\n",
       " 'Polarized, UV Protection Wayfarer Sunglasses (53)',\n",
       " 'Mirrored Aviator Sunglasses (59)',\n",
       " 'UV Protection Round Sunglasses (53)',\n",
       " 'UV Protection Rectangular Sunglasses (55)',\n",
       " 'Mirrored, UV Protection, Riding Glasses, Others Wrap-ar...',\n",
       " 'Toughened Glass Lens, UV Protection Aviator Sunglasses ...',\n",
       " 'UV Protection Round Sunglasses (54)']"
      ]
     },
     "execution_count": 285,
     "metadata": {},
     "output_type": "execute_result"
    }
   ],
   "source": [
    "Product_Description=Product_Description1+Product_Description2+Product_Description3\n",
    "Product_Description"
   ]
  },
  {
   "cell_type": "code",
   "execution_count": 286,
   "metadata": {
    "collapsed": true
   },
   "outputs": [
    {
     "data": {
      "text/plain": [
       "['₹359',\n",
       " '₹799',\n",
       " '₹758',\n",
       " '₹200',\n",
       " '₹200',\n",
       " '₹295',\n",
       " '₹198',\n",
       " '₹399',\n",
       " '₹200',\n",
       " '₹299',\n",
       " '₹509',\n",
       " '₹824',\n",
       " '₹474',\n",
       " '₹266',\n",
       " '₹284',\n",
       " '₹524',\n",
       " '₹199',\n",
       " '₹879',\n",
       " '₹362',\n",
       " '₹399',\n",
       " '₹546',\n",
       " '₹689',\n",
       " '₹229',\n",
       " '₹799',\n",
       " '₹267',\n",
       " '₹379',\n",
       " '₹284',\n",
       " '₹559',\n",
       " '₹239',\n",
       " '₹652',\n",
       " '₹738',\n",
       " '₹735',\n",
       " '₹689',\n",
       " '₹207',\n",
       " '₹331',\n",
       " '₹319',\n",
       " '₹213',\n",
       " '₹248',\n",
       " '₹224',\n",
       " '₹524',\n",
       " '₹215',\n",
       " '₹265',\n",
       " '₹319',\n",
       " '₹758',\n",
       " '₹345',\n",
       " '₹198',\n",
       " '₹733',\n",
       " '₹689',\n",
       " '₹513',\n",
       " '₹194',\n",
       " '₹185',\n",
       " '₹1,115',\n",
       " '₹383',\n",
       " '₹797',\n",
       " '₹649',\n",
       " '₹689',\n",
       " '₹599',\n",
       " '₹359',\n",
       " '₹319',\n",
       " '₹503',\n",
       " '₹199',\n",
       " '₹183',\n",
       " '₹1,059',\n",
       " '₹509',\n",
       " '₹2,450',\n",
       " '₹349',\n",
       " '₹1,040',\n",
       " '₹689',\n",
       " '₹319',\n",
       " '₹210',\n",
       " '₹279',\n",
       " '₹652',\n",
       " '₹1,085',\n",
       " '₹236',\n",
       " '₹295',\n",
       " '₹738',\n",
       " '₹399',\n",
       " '₹2,050',\n",
       " '₹2,250',\n",
       " '₹378',\n",
       " '₹224',\n",
       " '₹1,451',\n",
       " '₹207',\n",
       " '₹619',\n",
       " '₹345',\n",
       " '₹284',\n",
       " '₹689',\n",
       " '₹999',\n",
       " '₹2,250',\n",
       " '₹426',\n",
       " '₹399',\n",
       " '₹999',\n",
       " '₹599',\n",
       " '₹999',\n",
       " '₹1,970',\n",
       " '₹719',\n",
       " '₹2,450',\n",
       " '₹359',\n",
       " '₹1,234',\n",
       " '₹639',\n",
       " '₹545',\n",
       " '₹524',\n",
       " '₹599',\n",
       " '₹331',\n",
       " '₹771',\n",
       " '₹229',\n",
       " '₹2,450',\n",
       " '₹359',\n",
       " '₹399',\n",
       " '₹331',\n",
       " '₹378',\n",
       " '₹943',\n",
       " '₹905',\n",
       " '₹639',\n",
       " '₹2,137',\n",
       " '₹524',\n",
       " '₹196',\n",
       " '₹279',\n",
       " '₹829',\n",
       " '₹213']"
      ]
     },
     "execution_count": 286,
     "metadata": {},
     "output_type": "execute_result"
    }
   ],
   "source": [
    "Price=Price1+Price2+Price3\n",
    "Price"
   ]
  },
  {
   "cell_type": "code",
   "execution_count": 287,
   "metadata": {
    "collapsed": true
   },
   "outputs": [
    {
     "data": {
      "text/plain": [
       "['82% off',\n",
       " '60% off',\n",
       " '15% off',\n",
       " '87% off',\n",
       " '87% off',\n",
       " '88% off',\n",
       " '88% off',\n",
       " '73% off',\n",
       " '87% off',\n",
       " '81% off',\n",
       " '36% off',\n",
       " '8% off',\n",
       " '78% off',\n",
       " '86% off',\n",
       " '89% off',\n",
       " '73% off',\n",
       " '60% off',\n",
       " '2% off',\n",
       " '69% off',\n",
       " '73% off',\n",
       " '31% off',\n",
       " '23% off',\n",
       " '67% off',\n",
       " '60% off',\n",
       " '65% off',\n",
       " '81% off',\n",
       " '81% off',\n",
       " '62% off',\n",
       " '88% off',\n",
       " '18% off',\n",
       " '26% off',\n",
       " '71% off',\n",
       " '23% off',\n",
       " '80% off',\n",
       " '80% off',\n",
       " '78% off',\n",
       " '80% off',\n",
       " '87% off',\n",
       " '81% off',\n",
       " '73% off',\n",
       " '78% off',\n",
       " '73% off',\n",
       " '87% off',\n",
       " '15% off',\n",
       " '72% off',\n",
       " '88% off',\n",
       " '18% off',\n",
       " '23% off',\n",
       " '35% off',\n",
       " '87% off',\n",
       " '78% off',\n",
       " '14% off',\n",
       " '80% off',\n",
       " '11% off',\n",
       " '18% off',\n",
       " '23% off',\n",
       " '70% off',\n",
       " '82% off',\n",
       " '84% off',\n",
       " '37% off',\n",
       " '80% off',\n",
       " '81% off',\n",
       " '18% off',\n",
       " '36% off',\n",
       " '65% off',\n",
       " '67% off',\n",
       " '23% off',\n",
       " '78% off',\n",
       " '85% off',\n",
       " '86% off',\n",
       " '18% off',\n",
       " '16% off',\n",
       " '89% off',\n",
       " '88% off',\n",
       " '26% off',\n",
       " '82% off',\n",
       " '74% off',\n",
       " '81% off',\n",
       " '66% off',\n",
       " '86% off',\n",
       " '22% off',\n",
       " '72% off',\n",
       " '89% off',\n",
       " '23% off',\n",
       " '50% off',\n",
       " '83% off',\n",
       " '73% off',\n",
       " '50% off',\n",
       " '70% off',\n",
       " '1% off',\n",
       " '64% off',\n",
       " '82% off',\n",
       " '5% off',\n",
       " '68% off',\n",
       " '64% off',\n",
       " '73% off',\n",
       " '70% off',\n",
       " '80% off',\n",
       " '14% off',\n",
       " '80% off',\n",
       " '90% off',\n",
       " '73% off',\n",
       " '79% off',\n",
       " '74% off',\n",
       " '52% off',\n",
       " '69% off',\n",
       " '68% off',\n",
       " '58% off',\n",
       " '73% off',\n",
       " '84% off',\n",
       " '86% off',\n",
       " '77% off',\n",
       " '80% off']"
      ]
     },
     "execution_count": 287,
     "metadata": {},
     "output_type": "execute_result"
    }
   ],
   "source": [
    "Discountinpercent=Discountinpercent1+Discountinpercent2+Discountinpercent3\n",
    "Discountinpercent"
   ]
  },
  {
   "cell_type": "code",
   "execution_count": 288,
   "metadata": {},
   "outputs": [
    {
     "data": {
      "text/html": [
       "<div>\n",
       "<style scoped>\n",
       "    .dataframe tbody tr th:only-of-type {\n",
       "        vertical-align: middle;\n",
       "    }\n",
       "\n",
       "    .dataframe tbody tr th {\n",
       "        vertical-align: top;\n",
       "    }\n",
       "\n",
       "    .dataframe thead th {\n",
       "        text-align: right;\n",
       "    }\n",
       "</style>\n",
       "<table border=\"1\" class=\"dataframe\">\n",
       "  <thead>\n",
       "    <tr style=\"text-align: right;\">\n",
       "      <th></th>\n",
       "      <th>Brand</th>\n",
       "      <th>Product_Description</th>\n",
       "      <th>Price</th>\n",
       "      <th>Discountinpercent</th>\n",
       "    </tr>\n",
       "    <tr>\n",
       "      <th>Sr.No</th>\n",
       "      <th></th>\n",
       "      <th></th>\n",
       "      <th></th>\n",
       "      <th></th>\n",
       "    </tr>\n",
       "  </thead>\n",
       "  <tbody>\n",
       "    <tr>\n",
       "      <th>0</th>\n",
       "      <td>ROZZETTA CRAFT</td>\n",
       "      <td>UV Protection, Gradient Round Sunglasses (Free...</td>\n",
       "      <td>₹359</td>\n",
       "      <td>82% off</td>\n",
       "    </tr>\n",
       "    <tr>\n",
       "      <th>1</th>\n",
       "      <td>VINCENT CHASE</td>\n",
       "      <td>Polarized, UV Protection Wayfarer Sunglasses (53)</td>\n",
       "      <td>₹799</td>\n",
       "      <td>60% off</td>\n",
       "    </tr>\n",
       "    <tr>\n",
       "      <th>2</th>\n",
       "      <td>Fastrack</td>\n",
       "      <td>UV Protection Wayfarer Sunglasses (Free Size)</td>\n",
       "      <td>₹758</td>\n",
       "      <td>15% off</td>\n",
       "    </tr>\n",
       "    <tr>\n",
       "      <th>3</th>\n",
       "      <td>PIRASO</td>\n",
       "      <td>UV Protection Aviator Sunglasses (54)</td>\n",
       "      <td>₹200</td>\n",
       "      <td>87% off</td>\n",
       "    </tr>\n",
       "    <tr>\n",
       "      <th>4</th>\n",
       "      <td>PIRASO</td>\n",
       "      <td>UV Protection Aviator Sunglasses (54)</td>\n",
       "      <td>₹200</td>\n",
       "      <td>87% off</td>\n",
       "    </tr>\n",
       "    <tr>\n",
       "      <th>...</th>\n",
       "      <td>...</td>\n",
       "      <td>...</td>\n",
       "      <td>...</td>\n",
       "      <td>...</td>\n",
       "    </tr>\n",
       "    <tr>\n",
       "      <th>95</th>\n",
       "      <td>ROYAL SON</td>\n",
       "      <td>Polarized Retro Square Sunglasses (58)</td>\n",
       "      <td>₹719</td>\n",
       "      <td>73% off</td>\n",
       "    </tr>\n",
       "    <tr>\n",
       "      <th>96</th>\n",
       "      <td>IDEE</td>\n",
       "      <td>UV Protection Aviator Sunglasses (18)</td>\n",
       "      <td>₹2,450</td>\n",
       "      <td>70% off</td>\n",
       "    </tr>\n",
       "    <tr>\n",
       "      <th>97</th>\n",
       "      <td>ROZZETTA CRAFT</td>\n",
       "      <td>UV Protection, Gradient Round Sunglasses (Free...</td>\n",
       "      <td>₹359</td>\n",
       "      <td>80% off</td>\n",
       "    </tr>\n",
       "    <tr>\n",
       "      <th>98</th>\n",
       "      <td>Fastrack</td>\n",
       "      <td>UV Protection Round Sunglasses (52)</td>\n",
       "      <td>₹1,234</td>\n",
       "      <td>14% off</td>\n",
       "    </tr>\n",
       "    <tr>\n",
       "      <th>99</th>\n",
       "      <td>VINCENT CHASE</td>\n",
       "      <td>by Lenskart UV Protection Rectangular Sunglass...</td>\n",
       "      <td>₹639</td>\n",
       "      <td>80% off</td>\n",
       "    </tr>\n",
       "  </tbody>\n",
       "</table>\n",
       "<p>100 rows × 4 columns</p>\n",
       "</div>"
      ],
      "text/plain": [
       "                Brand                                Product_Description  \\\n",
       "Sr.No                                                                      \n",
       "0      ROZZETTA CRAFT  UV Protection, Gradient Round Sunglasses (Free...   \n",
       "1       VINCENT CHASE  Polarized, UV Protection Wayfarer Sunglasses (53)   \n",
       "2            Fastrack      UV Protection Wayfarer Sunglasses (Free Size)   \n",
       "3              PIRASO              UV Protection Aviator Sunglasses (54)   \n",
       "4              PIRASO              UV Protection Aviator Sunglasses (54)   \n",
       "...               ...                                                ...   \n",
       "95          ROYAL SON             Polarized Retro Square Sunglasses (58)   \n",
       "96               IDEE              UV Protection Aviator Sunglasses (18)   \n",
       "97     ROZZETTA CRAFT  UV Protection, Gradient Round Sunglasses (Free...   \n",
       "98           Fastrack                UV Protection Round Sunglasses (52)   \n",
       "99      VINCENT CHASE  by Lenskart UV Protection Rectangular Sunglass...   \n",
       "\n",
       "        Price Discountinpercent  \n",
       "Sr.No                            \n",
       "0        ₹359           82% off  \n",
       "1        ₹799           60% off  \n",
       "2        ₹758           15% off  \n",
       "3        ₹200           87% off  \n",
       "4        ₹200           87% off  \n",
       "...       ...               ...  \n",
       "95       ₹719           73% off  \n",
       "96     ₹2,450           70% off  \n",
       "97       ₹359           80% off  \n",
       "98     ₹1,234           14% off  \n",
       "99       ₹639           80% off  \n",
       "\n",
       "[100 rows x 4 columns]"
      ]
     },
     "execution_count": 288,
     "metadata": {},
     "output_type": "execute_result"
    }
   ],
   "source": [
    "Sunglasses_details=pd.DataFrame({})\n",
    "Sunglasses_details[\"Brand\"]=Brand[0:100]\n",
    "Sunglasses_details[\"Product_Description\"]=Product_Description[0:100]\n",
    "Sunglasses_details[\"Price\"]=Price[0:100]\n",
    "Sunglasses_details[\"Discountinpercent\"]=Discountinpercent[0:100]\n",
    "Sunglasses_details.index.set_names(\"Sr.No\",inplace=True)\n",
    "Sunglasses_details"
   ]
  },
  {
   "cell_type": "markdown",
   "metadata": {},
   "source": [
    "Q7)Scrape 100 reviews data from flipkart.com for iphone11 phone. You have to\n",
    "go the link:\n",
    "These are\n",
    "1. Rating\n",
    "2. Review_summary\n",
    "3. Full review"
   ]
  },
  {
   "cell_type": "code",
   "execution_count": 331,
   "metadata": {},
   "outputs": [],
   "source": [
    "import selenium\n",
    "import pandas as pd\n",
    "from selenium import webdriver\n",
    "from selenium.common.exceptions import NoSuchElementException "
   ]
  },
  {
   "cell_type": "code",
   "execution_count": 311,
   "metadata": {},
   "outputs": [],
   "source": [
    "driver7=webdriver.Chrome(\"chromedriver.exe\")"
   ]
  },
  {
   "cell_type": "code",
   "execution_count": 312,
   "metadata": {},
   "outputs": [],
   "source": [
    "url=\"https://www.flipkart.com/search?q=iphone+11&as=on&as-show=on&otracker=AS_Query_OrganicAutoSuggest_1_7_na_na_na&otracker1=AS_Query_OrganicAutoSuggest_1_7_na_na_na&as-pos=1&as-type=HISTORY&suggestionId=iphone+11&requestId=1f3072b3-e81e-4f70-8400-fee379bb661d\""
   ]
  },
  {
   "cell_type": "code",
   "execution_count": 313,
   "metadata": {},
   "outputs": [],
   "source": [
    "driver7.get(url)"
   ]
  },
  {
   "cell_type": "code",
   "execution_count": 323,
   "metadata": {},
   "outputs": [
    {
     "data": {
      "text/plain": [
       "<selenium.webdriver.remote.webelement.WebElement (session=\"42e19ee887faed304afdccd09d05c48b\", element=\"3f67d557-07e5-4ecb-8083-d93c8329d338\")>"
      ]
     },
     "execution_count": 323,
     "metadata": {},
     "output_type": "execute_result"
    }
   ],
   "source": [
    "overall_reviews=driver7.find_element_by_xpath(\"//div[@class='gUuXy-']/span\")\n",
    "overall_reviews"
   ]
  },
  {
   "cell_type": "code",
   "execution_count": 324,
   "metadata": {},
   "outputs": [],
   "source": [
    "overall_reviews.click()"
   ]
  },
  {
   "cell_type": "code",
   "execution_count": 330,
   "metadata": {
    "collapsed": true
   },
   "outputs": [
    {
     "data": {
      "text/plain": [
       "['https://www.flipkart.com/search?q=iphone+11&as=on&as-show=on&otracker=AS_Query_OrganicAutoSuggest_1_7_na_na_na&otracker1=AS_Query_OrganicAutoSuggest_1_7_na_na_na&as-pos=1&as-type=HISTORY&suggestionId=iphone+11&requestId=1f3072b3-e81e-4f70-8400-fee379bb661d&page=1',\n",
       " 'https://www.flipkart.com/search?q=iphone+11&as=on&as-show=on&otracker=AS_Query_OrganicAutoSuggest_1_7_na_na_na&otracker1=AS_Query_OrganicAutoSuggest_1_7_na_na_na&as-pos=1&as-type=HISTORY&suggestionId=iphone+11&requestId=1f3072b3-e81e-4f70-8400-fee379bb661d&page=2',\n",
       " 'https://www.flipkart.com/search?q=iphone+11&as=on&as-show=on&otracker=AS_Query_OrganicAutoSuggest_1_7_na_na_na&otracker1=AS_Query_OrganicAutoSuggest_1_7_na_na_na&as-pos=1&as-type=HISTORY&suggestionId=iphone+11&requestId=1f3072b3-e81e-4f70-8400-fee379bb661d&page=3',\n",
       " 'https://www.flipkart.com/search?q=iphone+11&as=on&as-show=on&otracker=AS_Query_OrganicAutoSuggest_1_7_na_na_na&otracker1=AS_Query_OrganicAutoSuggest_1_7_na_na_na&as-pos=1&as-type=HISTORY&suggestionId=iphone+11&requestId=1f3072b3-e81e-4f70-8400-fee379bb661d&page=4',\n",
       " 'https://www.flipkart.com/search?q=iphone+11&as=on&as-show=on&otracker=AS_Query_OrganicAutoSuggest_1_7_na_na_na&otracker1=AS_Query_OrganicAutoSuggest_1_7_na_na_na&as-pos=1&as-type=HISTORY&suggestionId=iphone+11&requestId=1f3072b3-e81e-4f70-8400-fee379bb661d&page=2']"
      ]
     },
     "execution_count": 330,
     "metadata": {},
     "output_type": "execute_result"
    }
   ],
   "source": [
    "urls1=[]\n",
    "next_page=driver7.find_elements_by_xpath(\"//nav[@class='yFHi8N']/a\")\n",
    "for i in next_page:\n",
    "    urls1.append(i.get_attribute('href'))\n",
    "urls1"
   ]
  },
  {
   "cell_type": "code",
   "execution_count": 341,
   "metadata": {},
   "outputs": [],
   "source": [
    "ratings=[]\n",
    "review_summary=[]\n",
    "full_review=[]\n",
    "for i in urls1[:5]:\n",
    "    driver7.get(i)\n",
    "    try:\n",
    "        for j in driver7.find_elements_by_xpath(\"//div[@class='_3LWZlK _1BLPMq']\"):\n",
    "            ratings.append(j.text)\n",
    "        for k in driver7.find_elements_by_xpath(\"//p[@class='_2-N8zT']\"):\n",
    "            review_summary.append(k.text)\n",
    "        for l in driver7.find_elements_by_xpath(\"//div[@class='t-ZTKy']\"):\n",
    "            full_review.append(l.text)\n",
    "    except NoSuchElementException:\n",
    "        ratings.append('-')"
   ]
  },
  {
   "cell_type": "code",
   "execution_count": 342,
   "metadata": {},
   "outputs": [
    {
     "data": {
      "text/html": [
       "<div>\n",
       "<style scoped>\n",
       "    .dataframe tbody tr th:only-of-type {\n",
       "        vertical-align: middle;\n",
       "    }\n",
       "\n",
       "    .dataframe tbody tr th {\n",
       "        vertical-align: top;\n",
       "    }\n",
       "\n",
       "    .dataframe thead th {\n",
       "        text-align: right;\n",
       "    }\n",
       "</style>\n",
       "<table border=\"1\" class=\"dataframe\">\n",
       "  <thead>\n",
       "    <tr style=\"text-align: right;\">\n",
       "      <th></th>\n",
       "      <th>ratings</th>\n",
       "      <th>review_summary</th>\n",
       "      <th>full_review</th>\n",
       "    </tr>\n",
       "    <tr>\n",
       "      <th>Srno</th>\n",
       "      <th></th>\n",
       "      <th></th>\n",
       "      <th></th>\n",
       "    </tr>\n",
       "  </thead>\n",
       "  <tbody>\n",
       "    <tr>\n",
       "      <th>0</th>\n",
       "      <td>5</td>\n",
       "      <td>Best phone still @25-27K</td>\n",
       "      <td>Purchased at BBD @2016 Oct. After 5months of u...</td>\n",
       "    </tr>\n",
       "    <tr>\n",
       "      <th>1</th>\n",
       "      <td>5</td>\n",
       "      <td>Just wow!</td>\n",
       "      <td>Used this mobile a lot very good mobile sleek ...</td>\n",
       "    </tr>\n",
       "    <tr>\n",
       "      <th>2</th>\n",
       "      <td>5</td>\n",
       "      <td>Must buy!</td>\n",
       "      <td>Delightful phone, the phone is just a peice of...</td>\n",
       "    </tr>\n",
       "    <tr>\n",
       "      <th>3</th>\n",
       "      <td>4</td>\n",
       "      <td>Mind-blowing purchase</td>\n",
       "      <td>Flawless, fast, super camera</td>\n",
       "    </tr>\n",
       "    <tr>\n",
       "      <th>4</th>\n",
       "      <td>5</td>\n",
       "      <td>Good quality product</td>\n",
       "      <td>impressively Nice......\\nOne of the greatest i...</td>\n",
       "    </tr>\n",
       "    <tr>\n",
       "      <th>5</th>\n",
       "      <td>5</td>\n",
       "      <td>Perfect product!</td>\n",
       "      <td>Nice products thanks flkat</td>\n",
       "    </tr>\n",
       "    <tr>\n",
       "      <th>6</th>\n",
       "      <td>4</td>\n",
       "      <td>Fabulous!</td>\n",
       "      <td>Fast performance to previous iPhone x\\nGood ca...</td>\n",
       "    </tr>\n",
       "    <tr>\n",
       "      <th>7</th>\n",
       "      <td>5</td>\n",
       "      <td>Really Nice</td>\n",
       "      <td>Good phone and value for money</td>\n",
       "    </tr>\n",
       "    <tr>\n",
       "      <th>8</th>\n",
       "      <td>5</td>\n",
       "      <td>Brilliant</td>\n",
       "      <td>The Best Phone for the Money\\n\\nThe iPhone 11 ...</td>\n",
       "    </tr>\n",
       "    <tr>\n",
       "      <th>9</th>\n",
       "      <td>5</td>\n",
       "      <td>Mind-blowing purchase</td>\n",
       "      <td>This mobile is very good..</td>\n",
       "    </tr>\n",
       "    <tr>\n",
       "      <th>10</th>\n",
       "      <td>5</td>\n",
       "      <td>Best phone still @25-27K</td>\n",
       "      <td>Purchased at BBD @2016 Oct. After 5months of u...</td>\n",
       "    </tr>\n",
       "    <tr>\n",
       "      <th>11</th>\n",
       "      <td>5</td>\n",
       "      <td>Just wow!</td>\n",
       "      <td>Used this mobile a lot very good mobile sleek ...</td>\n",
       "    </tr>\n",
       "    <tr>\n",
       "      <th>12</th>\n",
       "      <td>5</td>\n",
       "      <td>Must buy!</td>\n",
       "      <td>Delightful phone, the phone is just a peice of...</td>\n",
       "    </tr>\n",
       "    <tr>\n",
       "      <th>13</th>\n",
       "      <td>4</td>\n",
       "      <td>Mind-blowing purchase</td>\n",
       "      <td>Flawless, fast, super camera</td>\n",
       "    </tr>\n",
       "    <tr>\n",
       "      <th>14</th>\n",
       "      <td>4</td>\n",
       "      <td>Fabulous!</td>\n",
       "      <td>Fast performance to previous iPhone x\\nGood ca...</td>\n",
       "    </tr>\n",
       "    <tr>\n",
       "      <th>15</th>\n",
       "      <td>5</td>\n",
       "      <td>Really Nice</td>\n",
       "      <td>Good phone and value for money</td>\n",
       "    </tr>\n",
       "    <tr>\n",
       "      <th>16</th>\n",
       "      <td>3</td>\n",
       "      <td>Good quality product</td>\n",
       "      <td>impressively Nice......\\nOne of the greatest i...</td>\n",
       "    </tr>\n",
       "    <tr>\n",
       "      <th>17</th>\n",
       "      <td>5</td>\n",
       "      <td>Perfect product!</td>\n",
       "      <td>Nice products thanks flkat</td>\n",
       "    </tr>\n",
       "    <tr>\n",
       "      <th>18</th>\n",
       "      <td>5</td>\n",
       "      <td>Good phone but not for the power user</td>\n",
       "      <td>Apple's iPhone series have been known for thei...</td>\n",
       "    </tr>\n",
       "    <tr>\n",
       "      <th>19</th>\n",
       "      <td>5</td>\n",
       "      <td>Super!</td>\n",
       "      <td>This review is after 6 year of purchasing this...</td>\n",
       "    </tr>\n",
       "    <tr>\n",
       "      <th>20</th>\n",
       "      <td>5</td>\n",
       "      <td>Best phone still @25-27K</td>\n",
       "      <td>Purchased at BBD @2016 Oct. After 5months of u...</td>\n",
       "    </tr>\n",
       "    <tr>\n",
       "      <th>21</th>\n",
       "      <td>5</td>\n",
       "      <td>Just wow!</td>\n",
       "      <td>Used this mobile a lot very good mobile sleek ...</td>\n",
       "    </tr>\n",
       "    <tr>\n",
       "      <th>22</th>\n",
       "      <td>5</td>\n",
       "      <td>Excellent</td>\n",
       "      <td>awesome\\n\\nscreen quality better than any othe...</td>\n",
       "    </tr>\n",
       "    <tr>\n",
       "      <th>23</th>\n",
       "      <td>3</td>\n",
       "      <td>Must buy!</td>\n",
       "      <td>Its doenst need any review i guess so</td>\n",
       "    </tr>\n",
       "    <tr>\n",
       "      <th>24</th>\n",
       "      <td>5</td>\n",
       "      <td>Must buy!</td>\n",
       "      <td>Delightful phone, the phone is just a peice of...</td>\n",
       "    </tr>\n",
       "    <tr>\n",
       "      <th>25</th>\n",
       "      <td>5</td>\n",
       "      <td>Mind-blowing purchase</td>\n",
       "      <td>Flawless, fast, super camera</td>\n",
       "    </tr>\n",
       "    <tr>\n",
       "      <th>26</th>\n",
       "      <td>5</td>\n",
       "      <td>Good phone but not for the power user</td>\n",
       "      <td>Apple's iPhone series have been known for thei...</td>\n",
       "    </tr>\n",
       "    <tr>\n",
       "      <th>27</th>\n",
       "      <td>5</td>\n",
       "      <td>Super!</td>\n",
       "      <td>This review is after 6 year of purchasing this...</td>\n",
       "    </tr>\n",
       "    <tr>\n",
       "      <th>28</th>\n",
       "      <td>4</td>\n",
       "      <td>Best phone still @25-27K</td>\n",
       "      <td>Purchased at BBD @2016 Oct. After 5months of u...</td>\n",
       "    </tr>\n",
       "    <tr>\n",
       "      <th>29</th>\n",
       "      <td>5</td>\n",
       "      <td>Just wow!</td>\n",
       "      <td>Used this mobile a lot very good mobile sleek ...</td>\n",
       "    </tr>\n",
       "    <tr>\n",
       "      <th>30</th>\n",
       "      <td>5</td>\n",
       "      <td>Must buy!</td>\n",
       "      <td>Delightful phone, the phone is just a peice of...</td>\n",
       "    </tr>\n",
       "    <tr>\n",
       "      <th>31</th>\n",
       "      <td>4</td>\n",
       "      <td>Mind-blowing purchase</td>\n",
       "      <td>Flawless, fast, super camera</td>\n",
       "    </tr>\n",
       "    <tr>\n",
       "      <th>32</th>\n",
       "      <td>5</td>\n",
       "      <td>Good quality product</td>\n",
       "      <td>impressively Nice......\\nOne of the greatest i...</td>\n",
       "    </tr>\n",
       "    <tr>\n",
       "      <th>33</th>\n",
       "      <td>5</td>\n",
       "      <td>Perfect product!</td>\n",
       "      <td>Nice products thanks flkat</td>\n",
       "    </tr>\n",
       "  </tbody>\n",
       "</table>\n",
       "</div>"
      ],
      "text/plain": [
       "     ratings                         review_summary  \\\n",
       "Srno                                                  \n",
       "0          5               Best phone still @25-27K   \n",
       "1          5                              Just wow!   \n",
       "2          5                              Must buy!   \n",
       "3          4                  Mind-blowing purchase   \n",
       "4          5                   Good quality product   \n",
       "5          5                       Perfect product!   \n",
       "6          4                              Fabulous!   \n",
       "7          5                            Really Nice   \n",
       "8          5                              Brilliant   \n",
       "9          5                  Mind-blowing purchase   \n",
       "10         5               Best phone still @25-27K   \n",
       "11         5                              Just wow!   \n",
       "12         5                              Must buy!   \n",
       "13         4                  Mind-blowing purchase   \n",
       "14         4                              Fabulous!   \n",
       "15         5                            Really Nice   \n",
       "16         3                   Good quality product   \n",
       "17         5                       Perfect product!   \n",
       "18         5  Good phone but not for the power user   \n",
       "19         5                                 Super!   \n",
       "20         5               Best phone still @25-27K   \n",
       "21         5                              Just wow!   \n",
       "22         5                              Excellent   \n",
       "23         3                              Must buy!   \n",
       "24         5                              Must buy!   \n",
       "25         5                  Mind-blowing purchase   \n",
       "26         5  Good phone but not for the power user   \n",
       "27         5                                 Super!   \n",
       "28         4               Best phone still @25-27K   \n",
       "29         5                              Just wow!   \n",
       "30         5                              Must buy!   \n",
       "31         4                  Mind-blowing purchase   \n",
       "32         5                   Good quality product   \n",
       "33         5                       Perfect product!   \n",
       "\n",
       "                                            full_review  \n",
       "Srno                                                     \n",
       "0     Purchased at BBD @2016 Oct. After 5months of u...  \n",
       "1     Used this mobile a lot very good mobile sleek ...  \n",
       "2     Delightful phone, the phone is just a peice of...  \n",
       "3                          Flawless, fast, super camera  \n",
       "4     impressively Nice......\\nOne of the greatest i...  \n",
       "5                            Nice products thanks flkat  \n",
       "6     Fast performance to previous iPhone x\\nGood ca...  \n",
       "7                        Good phone and value for money  \n",
       "8     The Best Phone for the Money\\n\\nThe iPhone 11 ...  \n",
       "9                            This mobile is very good..  \n",
       "10    Purchased at BBD @2016 Oct. After 5months of u...  \n",
       "11    Used this mobile a lot very good mobile sleek ...  \n",
       "12    Delightful phone, the phone is just a peice of...  \n",
       "13                         Flawless, fast, super camera  \n",
       "14    Fast performance to previous iPhone x\\nGood ca...  \n",
       "15                       Good phone and value for money  \n",
       "16    impressively Nice......\\nOne of the greatest i...  \n",
       "17                           Nice products thanks flkat  \n",
       "18    Apple's iPhone series have been known for thei...  \n",
       "19    This review is after 6 year of purchasing this...  \n",
       "20    Purchased at BBD @2016 Oct. After 5months of u...  \n",
       "21    Used this mobile a lot very good mobile sleek ...  \n",
       "22    awesome\\n\\nscreen quality better than any othe...  \n",
       "23                Its doenst need any review i guess so  \n",
       "24    Delightful phone, the phone is just a peice of...  \n",
       "25                         Flawless, fast, super camera  \n",
       "26    Apple's iPhone series have been known for thei...  \n",
       "27    This review is after 6 year of purchasing this...  \n",
       "28    Purchased at BBD @2016 Oct. After 5months of u...  \n",
       "29    Used this mobile a lot very good mobile sleek ...  \n",
       "30    Delightful phone, the phone is just a peice of...  \n",
       "31                         Flawless, fast, super camera  \n",
       "32    impressively Nice......\\nOne of the greatest i...  \n",
       "33                           Nice products thanks flkat  "
      ]
     },
     "execution_count": 342,
     "metadata": {},
     "output_type": "execute_result"
    }
   ],
   "source": [
    "Iphones=pd.DataFrame({})\n",
    "Iphones[\"ratings\"]=ratings[0:34]\n",
    "Iphones[\"review_summary\"]=review_summary[0:34]\n",
    "Iphones[\"full_review\"]=full_review[0:34]\n",
    "Iphones.index.set_names(\"Srno\",inplace=True)\n",
    "Iphones"
   ]
  },
  {
   "cell_type": "markdown",
   "metadata": {},
   "source": [
    "Q8: Scrape data for first 100 sneakers you find when you visit flipkart.com and\n",
    "search for “sneakers” in the search field.\n",
    "You have to scrape 4 attributes of each sneaker :\n",
    "1. Brand\n",
    "2. Product Description\n",
    "3. Price\n",
    "4. discount %"
   ]
  },
  {
   "cell_type": "code",
   "execution_count": 425,
   "metadata": {},
   "outputs": [],
   "source": [
    "import selenium\n",
    "import pandas as pd\n",
    "from selenium import webdriver\n",
    "from selenium.common.exceptions import NoSuchElementException"
   ]
  },
  {
   "cell_type": "code",
   "execution_count": 426,
   "metadata": {},
   "outputs": [],
   "source": [
    "driver8=webdriver.Chrome(\"chromedriver.exe\")"
   ]
  },
  {
   "cell_type": "code",
   "execution_count": 427,
   "metadata": {},
   "outputs": [],
   "source": [
    "url=\"https://www.flipkart.com/\""
   ]
  },
  {
   "cell_type": "code",
   "execution_count": 428,
   "metadata": {},
   "outputs": [],
   "source": [
    "driver8.get(url)"
   ]
  },
  {
   "cell_type": "code",
   "execution_count": 429,
   "metadata": {},
   "outputs": [
    {
     "data": {
      "text/plain": [
       "<selenium.webdriver.remote.webelement.WebElement (session=\"73cc497b2260d62a2fc63d2e5bea5aec\", element=\"6c8a5c89-6e5e-4cef-88d1-bc16e4b2f24f\")>"
      ]
     },
     "execution_count": 429,
     "metadata": {},
     "output_type": "execute_result"
    }
   ],
   "source": [
    "search_job8=driver8.find_element_by_xpath(\"//div[@class='_3OO5Xc']/input\")\n",
    "search_job8"
   ]
  },
  {
   "cell_type": "code",
   "execution_count": 430,
   "metadata": {},
   "outputs": [],
   "source": [
    "search_job8.send_keys('sneakers')"
   ]
  },
  {
   "cell_type": "code",
   "execution_count": 433,
   "metadata": {},
   "outputs": [
    {
     "data": {
      "text/plain": [
       "<selenium.webdriver.remote.webelement.WebElement (session=\"73cc497b2260d62a2fc63d2e5bea5aec\", element=\"91a671c4-53d6-40f8-93b1-71605397dc03\")>"
      ]
     },
     "execution_count": 433,
     "metadata": {},
     "output_type": "execute_result"
    }
   ],
   "source": [
    "search_button8=driver8.find_element_by_xpath(\"//button[@class='L0Z3Pu']\")\n",
    "search_button8"
   ]
  },
  {
   "cell_type": "code",
   "execution_count": 434,
   "metadata": {},
   "outputs": [],
   "source": [
    "search_button8.click()"
   ]
  },
  {
   "cell_type": "code",
   "execution_count": null,
   "metadata": {},
   "outputs": [],
   "source": [
    "N1=driver8.find_element_by_xpath(\"//a[@class='ge-49M _2Kfbh8']\")\n",
    "N1"
   ]
  },
  {
   "cell_type": "code",
   "execution_count": 410,
   "metadata": {},
   "outputs": [],
   "source": [
    "N1.click()"
   ]
  },
  {
   "cell_type": "code",
   "execution_count": 435,
   "metadata": {
    "collapsed": true
   },
   "outputs": [
    {
     "data": {
      "text/plain": [
       "[<selenium.webdriver.remote.webelement.WebElement (session=\"73cc497b2260d62a2fc63d2e5bea5aec\", element=\"cad9c81a-c79f-468d-a9b1-8162580bf77f\")>,\n",
       " <selenium.webdriver.remote.webelement.WebElement (session=\"73cc497b2260d62a2fc63d2e5bea5aec\", element=\"aa376419-51b1-4df2-8f32-adddb39cf5b5\")>,\n",
       " <selenium.webdriver.remote.webelement.WebElement (session=\"73cc497b2260d62a2fc63d2e5bea5aec\", element=\"95f9e9da-311b-4165-8486-dacccabccf57\")>,\n",
       " <selenium.webdriver.remote.webelement.WebElement (session=\"73cc497b2260d62a2fc63d2e5bea5aec\", element=\"20c7d218-e646-42e5-911f-d2784d29412c\")>,\n",
       " <selenium.webdriver.remote.webelement.WebElement (session=\"73cc497b2260d62a2fc63d2e5bea5aec\", element=\"751aeebe-763e-47c3-9598-a7da68eac804\")>,\n",
       " <selenium.webdriver.remote.webelement.WebElement (session=\"73cc497b2260d62a2fc63d2e5bea5aec\", element=\"80f2c8d6-16f0-47aa-b62a-94a60e266105\")>,\n",
       " <selenium.webdriver.remote.webelement.WebElement (session=\"73cc497b2260d62a2fc63d2e5bea5aec\", element=\"7bbaf464-08ad-4342-9a28-1136fb7d4bbd\")>,\n",
       " <selenium.webdriver.remote.webelement.WebElement (session=\"73cc497b2260d62a2fc63d2e5bea5aec\", element=\"bf9d883d-d052-4427-9874-0dee2b91571a\")>,\n",
       " <selenium.webdriver.remote.webelement.WebElement (session=\"73cc497b2260d62a2fc63d2e5bea5aec\", element=\"217d392b-5f40-4e74-9084-1faf8aad280b\")>,\n",
       " <selenium.webdriver.remote.webelement.WebElement (session=\"73cc497b2260d62a2fc63d2e5bea5aec\", element=\"f42fed2e-4ef2-40c3-85ef-395630c74490\")>,\n",
       " <selenium.webdriver.remote.webelement.WebElement (session=\"73cc497b2260d62a2fc63d2e5bea5aec\", element=\"6aa9fcc4-86c2-4687-b9ae-f479b1209fd3\")>,\n",
       " <selenium.webdriver.remote.webelement.WebElement (session=\"73cc497b2260d62a2fc63d2e5bea5aec\", element=\"8d256ef7-4340-40a8-8e16-469602e5f365\")>,\n",
       " <selenium.webdriver.remote.webelement.WebElement (session=\"73cc497b2260d62a2fc63d2e5bea5aec\", element=\"7d7e5f27-695e-4c1d-bdff-cb21bc854953\")>,\n",
       " <selenium.webdriver.remote.webelement.WebElement (session=\"73cc497b2260d62a2fc63d2e5bea5aec\", element=\"7849d77f-fafb-4d31-8b17-75199be65b5a\")>,\n",
       " <selenium.webdriver.remote.webelement.WebElement (session=\"73cc497b2260d62a2fc63d2e5bea5aec\", element=\"7c362ab3-cc9c-478e-9580-deae26923abd\")>,\n",
       " <selenium.webdriver.remote.webelement.WebElement (session=\"73cc497b2260d62a2fc63d2e5bea5aec\", element=\"41a7da47-eada-47f3-b0f7-ae3b9de66284\")>,\n",
       " <selenium.webdriver.remote.webelement.WebElement (session=\"73cc497b2260d62a2fc63d2e5bea5aec\", element=\"a7f9e9ac-578a-4c6f-b900-a76c7539ef8e\")>,\n",
       " <selenium.webdriver.remote.webelement.WebElement (session=\"73cc497b2260d62a2fc63d2e5bea5aec\", element=\"34e7abac-21c5-40e5-9671-22430f251c99\")>,\n",
       " <selenium.webdriver.remote.webelement.WebElement (session=\"73cc497b2260d62a2fc63d2e5bea5aec\", element=\"4d11c9a7-285e-49de-ab20-e34b9a990bd5\")>,\n",
       " <selenium.webdriver.remote.webelement.WebElement (session=\"73cc497b2260d62a2fc63d2e5bea5aec\", element=\"6df1376b-6b3a-4557-beed-fd0a93bbb477\")>,\n",
       " <selenium.webdriver.remote.webelement.WebElement (session=\"73cc497b2260d62a2fc63d2e5bea5aec\", element=\"033bcec3-99c7-4477-808c-095bbfca8fdc\")>,\n",
       " <selenium.webdriver.remote.webelement.WebElement (session=\"73cc497b2260d62a2fc63d2e5bea5aec\", element=\"48b2e83c-5c36-4734-bcb8-1955343905a1\")>,\n",
       " <selenium.webdriver.remote.webelement.WebElement (session=\"73cc497b2260d62a2fc63d2e5bea5aec\", element=\"6091fc17-27d6-4fc5-872c-f330432bbcac\")>,\n",
       " <selenium.webdriver.remote.webelement.WebElement (session=\"73cc497b2260d62a2fc63d2e5bea5aec\", element=\"2c9c7312-d159-4a9a-9866-39d80ccc4ff6\")>,\n",
       " <selenium.webdriver.remote.webelement.WebElement (session=\"73cc497b2260d62a2fc63d2e5bea5aec\", element=\"fcd3894e-a72a-4d51-bced-a0eeded4e199\")>,\n",
       " <selenium.webdriver.remote.webelement.WebElement (session=\"73cc497b2260d62a2fc63d2e5bea5aec\", element=\"f9dc9b26-1779-4af2-b987-e8cb9b5436a3\")>,\n",
       " <selenium.webdriver.remote.webelement.WebElement (session=\"73cc497b2260d62a2fc63d2e5bea5aec\", element=\"2d6533f8-06d1-4355-a8fe-4d57365ad921\")>,\n",
       " <selenium.webdriver.remote.webelement.WebElement (session=\"73cc497b2260d62a2fc63d2e5bea5aec\", element=\"2fabe5d1-2e3d-4ca6-8c5c-0250b616d2bf\")>,\n",
       " <selenium.webdriver.remote.webelement.WebElement (session=\"73cc497b2260d62a2fc63d2e5bea5aec\", element=\"5899a9db-521d-4fab-acec-7256ff3a3d7e\")>,\n",
       " <selenium.webdriver.remote.webelement.WebElement (session=\"73cc497b2260d62a2fc63d2e5bea5aec\", element=\"90aee132-f42a-4779-a0dd-b3dcf9af21dd\")>,\n",
       " <selenium.webdriver.remote.webelement.WebElement (session=\"73cc497b2260d62a2fc63d2e5bea5aec\", element=\"5b6526b2-2144-4ec8-af23-d2475b5544ba\")>,\n",
       " <selenium.webdriver.remote.webelement.WebElement (session=\"73cc497b2260d62a2fc63d2e5bea5aec\", element=\"c44c415d-8a35-4ede-a8f0-3febc562f52a\")>,\n",
       " <selenium.webdriver.remote.webelement.WebElement (session=\"73cc497b2260d62a2fc63d2e5bea5aec\", element=\"a4bead56-7873-49f3-9b5a-36c3cc7d4d17\")>,\n",
       " <selenium.webdriver.remote.webelement.WebElement (session=\"73cc497b2260d62a2fc63d2e5bea5aec\", element=\"d4c18033-0d96-4474-8cdd-8dfd5409dca4\")>,\n",
       " <selenium.webdriver.remote.webelement.WebElement (session=\"73cc497b2260d62a2fc63d2e5bea5aec\", element=\"0a159e64-8815-48ee-b676-5f83c0e163c1\")>,\n",
       " <selenium.webdriver.remote.webelement.WebElement (session=\"73cc497b2260d62a2fc63d2e5bea5aec\", element=\"3a737944-7495-4223-a8c8-60eeec2ce718\")>,\n",
       " <selenium.webdriver.remote.webelement.WebElement (session=\"73cc497b2260d62a2fc63d2e5bea5aec\", element=\"6f6ab3bb-c714-4670-a0e3-251100f9a83a\")>,\n",
       " <selenium.webdriver.remote.webelement.WebElement (session=\"73cc497b2260d62a2fc63d2e5bea5aec\", element=\"db4c391a-7e90-45c1-a903-7ebcaef2381f\")>,\n",
       " <selenium.webdriver.remote.webelement.WebElement (session=\"73cc497b2260d62a2fc63d2e5bea5aec\", element=\"bad567f7-3b5d-4124-bc17-bb03a6ffe8ff\")>,\n",
       " <selenium.webdriver.remote.webelement.WebElement (session=\"73cc497b2260d62a2fc63d2e5bea5aec\", element=\"ea6e8317-92ee-49a2-9e3c-767b549a9d4d\")>]"
      ]
     },
     "execution_count": 435,
     "metadata": {},
     "output_type": "execute_result"
    }
   ],
   "source": [
    "B1=driver8.find_elements_by_xpath(\"//div[@class='_2WkVRV']\")\n",
    "B1"
   ]
  },
  {
   "cell_type": "code",
   "execution_count": 436,
   "metadata": {
    "collapsed": true
   },
   "outputs": [
    {
     "data": {
      "text/plain": [
       "['Wildcraft',\n",
       " 'Wildcraft',\n",
       " 'BRUTON',\n",
       " 'Magnolia',\n",
       " 'BIRDE',\n",
       " 'BRUTON',\n",
       " 'Numenzo',\n",
       " 'Chevit',\n",
       " 'D-SNEAKERZ',\n",
       " 'India hub',\n",
       " 'luxury fashion',\n",
       " 'PUMA',\n",
       " 'Robbie jones',\n",
       " 'BIRDE',\n",
       " 'Numenzo',\n",
       " 'Bavis',\n",
       " 'HOTSTYLE',\n",
       " 'bluemaker',\n",
       " 'Robbie jones',\n",
       " 'Rzisbo',\n",
       " 'believe',\n",
       " 'Robbie jones',\n",
       " 'Edoeviv',\n",
       " 'RONSON',\n",
       " 'Numenzo',\n",
       " 'Kraasa',\n",
       " 'Chevit',\n",
       " 'Chevit',\n",
       " 'ASTEROID',\n",
       " 'Zsyto',\n",
       " 'ESSENCE',\n",
       " 'PUMA',\n",
       " 'SPARX',\n",
       " 'BRUTON',\n",
       " 'Chevit',\n",
       " 'PUMA',\n",
       " 'SCATCHITE',\n",
       " 'bluemaker',\n",
       " 'BRUTON',\n",
       " 'Chevit']"
      ]
     },
     "execution_count": 436,
     "metadata": {},
     "output_type": "execute_result"
    }
   ],
   "source": [
    "Brand1=[]\n",
    "for i in B1:\n",
    "    Brand1.append(i.text)\n",
    "Brand1"
   ]
  },
  {
   "cell_type": "code",
   "execution_count": 437,
   "metadata": {
    "collapsed": true
   },
   "outputs": [
    {
     "data": {
      "text/plain": [
       "[<selenium.webdriver.remote.webelement.WebElement (session=\"73cc497b2260d62a2fc63d2e5bea5aec\", element=\"5a58ec74-b60a-4eaa-9174-906ba4d5d056\")>,\n",
       " <selenium.webdriver.remote.webelement.WebElement (session=\"73cc497b2260d62a2fc63d2e5bea5aec\", element=\"2813153f-3b28-4964-9a95-b6e29a5fefce\")>,\n",
       " <selenium.webdriver.remote.webelement.WebElement (session=\"73cc497b2260d62a2fc63d2e5bea5aec\", element=\"74cd99a4-7c7f-48c7-9d12-2d513542e7d8\")>,\n",
       " <selenium.webdriver.remote.webelement.WebElement (session=\"73cc497b2260d62a2fc63d2e5bea5aec\", element=\"1a25a8f5-d27f-478f-b6f9-31272de585e4\")>,\n",
       " <selenium.webdriver.remote.webelement.WebElement (session=\"73cc497b2260d62a2fc63d2e5bea5aec\", element=\"af2f8cd4-0131-4e33-8b36-fd48ace4e6d6\")>,\n",
       " <selenium.webdriver.remote.webelement.WebElement (session=\"73cc497b2260d62a2fc63d2e5bea5aec\", element=\"9854b874-995b-4ebd-afb5-1678d102e47c\")>,\n",
       " <selenium.webdriver.remote.webelement.WebElement (session=\"73cc497b2260d62a2fc63d2e5bea5aec\", element=\"74cc29ac-d332-4e66-9fde-1a7173cfd322\")>,\n",
       " <selenium.webdriver.remote.webelement.WebElement (session=\"73cc497b2260d62a2fc63d2e5bea5aec\", element=\"84b83062-4c58-4e89-9ea8-28ca030c5eff\")>,\n",
       " <selenium.webdriver.remote.webelement.WebElement (session=\"73cc497b2260d62a2fc63d2e5bea5aec\", element=\"b402177a-36c6-44c9-9a45-eb776da182d5\")>,\n",
       " <selenium.webdriver.remote.webelement.WebElement (session=\"73cc497b2260d62a2fc63d2e5bea5aec\", element=\"174363ea-e44b-42fe-9e29-97c77f6d73cb\")>,\n",
       " <selenium.webdriver.remote.webelement.WebElement (session=\"73cc497b2260d62a2fc63d2e5bea5aec\", element=\"77cbe6e9-32d4-48fe-b974-f4b32abc5cfb\")>,\n",
       " <selenium.webdriver.remote.webelement.WebElement (session=\"73cc497b2260d62a2fc63d2e5bea5aec\", element=\"ef1ccccd-a5fb-4ecf-9187-4c2a3a7a1572\")>,\n",
       " <selenium.webdriver.remote.webelement.WebElement (session=\"73cc497b2260d62a2fc63d2e5bea5aec\", element=\"6ce62036-ce15-42cc-9093-36f6f6b64c8b\")>,\n",
       " <selenium.webdriver.remote.webelement.WebElement (session=\"73cc497b2260d62a2fc63d2e5bea5aec\", element=\"5ae196f2-4523-439d-b676-fa59a0f87db3\")>,\n",
       " <selenium.webdriver.remote.webelement.WebElement (session=\"73cc497b2260d62a2fc63d2e5bea5aec\", element=\"c20f3eec-c34e-423f-a4b5-753bcc3143ad\")>,\n",
       " <selenium.webdriver.remote.webelement.WebElement (session=\"73cc497b2260d62a2fc63d2e5bea5aec\", element=\"3d55f9da-4617-439b-a49e-791a3a4eb6a4\")>,\n",
       " <selenium.webdriver.remote.webelement.WebElement (session=\"73cc497b2260d62a2fc63d2e5bea5aec\", element=\"248235e7-c4c2-4947-936b-e942f7a9fba7\")>,\n",
       " <selenium.webdriver.remote.webelement.WebElement (session=\"73cc497b2260d62a2fc63d2e5bea5aec\", element=\"a0ca17a9-d23e-498d-a1c2-959bc62242ee\")>,\n",
       " <selenium.webdriver.remote.webelement.WebElement (session=\"73cc497b2260d62a2fc63d2e5bea5aec\", element=\"3a11bfd8-5abd-4776-a33b-c4aabcadaeec\")>,\n",
       " <selenium.webdriver.remote.webelement.WebElement (session=\"73cc497b2260d62a2fc63d2e5bea5aec\", element=\"8d331d5a-d242-4c50-a125-397c6d7de41c\")>,\n",
       " <selenium.webdriver.remote.webelement.WebElement (session=\"73cc497b2260d62a2fc63d2e5bea5aec\", element=\"869ae200-2c7c-43b2-bfe9-7b75c846e7a3\")>,\n",
       " <selenium.webdriver.remote.webelement.WebElement (session=\"73cc497b2260d62a2fc63d2e5bea5aec\", element=\"f999f9b6-f32f-4dd5-9f07-83349b4f1f5d\")>,\n",
       " <selenium.webdriver.remote.webelement.WebElement (session=\"73cc497b2260d62a2fc63d2e5bea5aec\", element=\"1fb4158f-e3d0-492c-ba4f-668dc7914bc2\")>,\n",
       " <selenium.webdriver.remote.webelement.WebElement (session=\"73cc497b2260d62a2fc63d2e5bea5aec\", element=\"b8fb0175-a117-449c-8b9c-3d5187853d72\")>,\n",
       " <selenium.webdriver.remote.webelement.WebElement (session=\"73cc497b2260d62a2fc63d2e5bea5aec\", element=\"73555479-e4ec-41aa-850f-c2487c59bd49\")>,\n",
       " <selenium.webdriver.remote.webelement.WebElement (session=\"73cc497b2260d62a2fc63d2e5bea5aec\", element=\"1e8dca6f-00a9-465f-a9e2-1afc1f317a98\")>,\n",
       " <selenium.webdriver.remote.webelement.WebElement (session=\"73cc497b2260d62a2fc63d2e5bea5aec\", element=\"5a9a977e-aa67-4612-a48b-12ada73bb72c\")>,\n",
       " <selenium.webdriver.remote.webelement.WebElement (session=\"73cc497b2260d62a2fc63d2e5bea5aec\", element=\"f427c4c9-a278-411f-96eb-c812d1a59a10\")>,\n",
       " <selenium.webdriver.remote.webelement.WebElement (session=\"73cc497b2260d62a2fc63d2e5bea5aec\", element=\"beb29760-bd17-498a-8230-7675c27386ef\")>,\n",
       " <selenium.webdriver.remote.webelement.WebElement (session=\"73cc497b2260d62a2fc63d2e5bea5aec\", element=\"694aebd7-9421-4387-97f5-e0e2b7fb02d9\")>,\n",
       " <selenium.webdriver.remote.webelement.WebElement (session=\"73cc497b2260d62a2fc63d2e5bea5aec\", element=\"b04734ef-0ca5-4053-bd71-bface0fc3c99\")>,\n",
       " <selenium.webdriver.remote.webelement.WebElement (session=\"73cc497b2260d62a2fc63d2e5bea5aec\", element=\"18d617cf-cb8f-45bc-9af5-4d96e3ce42a5\")>,\n",
       " <selenium.webdriver.remote.webelement.WebElement (session=\"73cc497b2260d62a2fc63d2e5bea5aec\", element=\"b72d4cf3-dc16-4da3-aeac-732854b11437\")>,\n",
       " <selenium.webdriver.remote.webelement.WebElement (session=\"73cc497b2260d62a2fc63d2e5bea5aec\", element=\"882a5875-5a2b-49b4-bef0-b49cb8f5534c\")>,\n",
       " <selenium.webdriver.remote.webelement.WebElement (session=\"73cc497b2260d62a2fc63d2e5bea5aec\", element=\"d0afec0a-20a9-42f9-9df4-0f1183167675\")>,\n",
       " <selenium.webdriver.remote.webelement.WebElement (session=\"73cc497b2260d62a2fc63d2e5bea5aec\", element=\"bdcde757-f3cb-41d2-9544-35c853017d9a\")>,\n",
       " <selenium.webdriver.remote.webelement.WebElement (session=\"73cc497b2260d62a2fc63d2e5bea5aec\", element=\"1e94d705-28c0-4a35-ad61-90ad315e0038\")>,\n",
       " <selenium.webdriver.remote.webelement.WebElement (session=\"73cc497b2260d62a2fc63d2e5bea5aec\", element=\"3b1452e8-ba1d-41f6-a3a6-ea2af256addd\")>,\n",
       " <selenium.webdriver.remote.webelement.WebElement (session=\"73cc497b2260d62a2fc63d2e5bea5aec\", element=\"c06f5bf2-e2dc-4182-97dd-1bffad499e43\")>,\n",
       " <selenium.webdriver.remote.webelement.WebElement (session=\"73cc497b2260d62a2fc63d2e5bea5aec\", element=\"3f18213b-ab42-412e-b252-84d31c50c07e\")>]"
      ]
     },
     "execution_count": 437,
     "metadata": {},
     "output_type": "execute_result"
    }
   ],
   "source": [
    "Description1=driver8.find_elements_by_xpath(\"//div[@class='_2B099V']/a['title'][1]\")\n",
    "Description1"
   ]
  },
  {
   "cell_type": "code",
   "execution_count": 438,
   "metadata": {
    "collapsed": true
   },
   "outputs": [
    {
     "data": {
      "text/plain": [
       "['True White Shoe Sneakers For Men',\n",
       " 'True Black Shoe Sneakers For Men',\n",
       " 'Modern Trendy Sneakers Shoes Sneakers For Men',\n",
       " 'Sneakers For Men',\n",
       " 'Birde Trendy Casual Shoes Sneakers For Men',\n",
       " 'Combo Pack Of 4 Casual Shoes Loafer Shoes Sneakers For ...',\n",
       " '411 Casual Sneakers For Men',\n",
       " 'Combo Pack of 4 Casual Sneakers With Sneakers For Men',\n",
       " \"Casual , Partywear Sneakers Shoes For Men's And Boys Wh...\",\n",
       " 'Sneakers For Men',\n",
       " 'luxury fashionable casual snealer shoes Sneakers For Me...',\n",
       " 'X-Ray 2 Square Sneakers For Men',\n",
       " 'Casual Sneakers Shoes For Men Sneakers For Men',\n",
       " \"Men's Stylish Casual Shoes Sneakers For Men\",\n",
       " 'Sneakers For Men',\n",
       " 'Combo Pack of 2 Casual Shoes For Men Sneakers For Men',\n",
       " 'Sneakers For Men',\n",
       " 'casual for men Sneakers For Men',\n",
       " 'Sneakers For Men',\n",
       " 'Sneakers For Men',\n",
       " 'Sneakers for men(black_8) Sneakers For Men',\n",
       " 'Sneakers For Men',\n",
       " \"Luxury Branded Fashionable Men's Casual Walking Partywe...\",\n",
       " 'Extraordinary, Shapeless,High Performance, Sports Shoes...',\n",
       " 'Sneakers For Men',\n",
       " 'Series 7 Sneakers For Men',\n",
       " 'Perfect & Affordable Combo Pack of 02 Pairs Sneakers Ou...',\n",
       " 'Unique & Perfect Collection Combo Pack of 02 Shoes for ...',\n",
       " \"Original Luxury Branded Fashionable Men's Casual Walkin...\",\n",
       " 'Sneakers For Men',\n",
       " 'Sneakers For Men',\n",
       " 'Rebound JOY Sneakers For Men',\n",
       " 'SM-322 Sneakers For Men',\n",
       " 'Lattest Sneakers Shoe Sneakers For Men',\n",
       " '168 Smart Red Lace-Ups Casuals for Men Sneakers For Men',\n",
       " 'PUMA X 1DER KL RAHUL Sneakers For Men',\n",
       " 'Sneakers Sneakers For Men',\n",
       " 'casual for men (beige 06) Sneakers For Men',\n",
       " 'Combo Pack Of 2 Latest Stylish Casual Shoes for Men Lac...',\n",
       " 'Perfect & Affordable Combo Pack of 02 Pairs Sneakers Ou...']"
      ]
     },
     "execution_count": 438,
     "metadata": {},
     "output_type": "execute_result"
    }
   ],
   "source": [
    "Product_Description1=[]\n",
    "for i in Description1:\n",
    "    Product_Description1.append(i.text)\n",
    "Product_Description1"
   ]
  },
  {
   "cell_type": "code",
   "execution_count": 439,
   "metadata": {
    "collapsed": true
   },
   "outputs": [
    {
     "data": {
      "text/plain": [
       "[<selenium.webdriver.remote.webelement.WebElement (session=\"73cc497b2260d62a2fc63d2e5bea5aec\", element=\"4d6377b3-9bd3-4f4b-9ebe-4d19edbebc86\")>,\n",
       " <selenium.webdriver.remote.webelement.WebElement (session=\"73cc497b2260d62a2fc63d2e5bea5aec\", element=\"2f2155a5-c472-4db0-9e57-09ca2b159331\")>,\n",
       " <selenium.webdriver.remote.webelement.WebElement (session=\"73cc497b2260d62a2fc63d2e5bea5aec\", element=\"627f01dd-7db7-43bf-8128-2582463fdaa5\")>,\n",
       " <selenium.webdriver.remote.webelement.WebElement (session=\"73cc497b2260d62a2fc63d2e5bea5aec\", element=\"c9954d31-8a62-4a59-a82b-abd45fd81ed4\")>,\n",
       " <selenium.webdriver.remote.webelement.WebElement (session=\"73cc497b2260d62a2fc63d2e5bea5aec\", element=\"4f21ffc7-9943-46cc-b070-f773faa7fb9e\")>,\n",
       " <selenium.webdriver.remote.webelement.WebElement (session=\"73cc497b2260d62a2fc63d2e5bea5aec\", element=\"2d7dccd1-a6ff-4d88-9ab7-deecf62dfdbd\")>,\n",
       " <selenium.webdriver.remote.webelement.WebElement (session=\"73cc497b2260d62a2fc63d2e5bea5aec\", element=\"952a5205-e7fe-4789-b5d3-af87be3e13bf\")>,\n",
       " <selenium.webdriver.remote.webelement.WebElement (session=\"73cc497b2260d62a2fc63d2e5bea5aec\", element=\"7fba5ddf-0969-4708-9bc2-30c5da9c6cb4\")>,\n",
       " <selenium.webdriver.remote.webelement.WebElement (session=\"73cc497b2260d62a2fc63d2e5bea5aec\", element=\"f2e1fe31-cb76-429c-9913-a7946b6ea0b1\")>,\n",
       " <selenium.webdriver.remote.webelement.WebElement (session=\"73cc497b2260d62a2fc63d2e5bea5aec\", element=\"36fcc23f-5f0e-487c-8d37-3daf7459415e\")>,\n",
       " <selenium.webdriver.remote.webelement.WebElement (session=\"73cc497b2260d62a2fc63d2e5bea5aec\", element=\"255c63ed-d5e5-484e-bc71-751802109681\")>,\n",
       " <selenium.webdriver.remote.webelement.WebElement (session=\"73cc497b2260d62a2fc63d2e5bea5aec\", element=\"bbc74f57-dc89-4e2a-965d-e8e197e10c2a\")>,\n",
       " <selenium.webdriver.remote.webelement.WebElement (session=\"73cc497b2260d62a2fc63d2e5bea5aec\", element=\"6dcd6d23-5d81-4e93-a09f-23649885ff1a\")>,\n",
       " <selenium.webdriver.remote.webelement.WebElement (session=\"73cc497b2260d62a2fc63d2e5bea5aec\", element=\"c6cf665d-5375-45d3-9d4f-bc9c84488549\")>,\n",
       " <selenium.webdriver.remote.webelement.WebElement (session=\"73cc497b2260d62a2fc63d2e5bea5aec\", element=\"dc2e815a-ec36-494c-8fba-3c4153aaeecf\")>,\n",
       " <selenium.webdriver.remote.webelement.WebElement (session=\"73cc497b2260d62a2fc63d2e5bea5aec\", element=\"fb27fea8-5fa8-4ef1-be89-09e665dae1b3\")>,\n",
       " <selenium.webdriver.remote.webelement.WebElement (session=\"73cc497b2260d62a2fc63d2e5bea5aec\", element=\"e9acfebe-2094-41b3-8026-ee1f3d98f1a0\")>,\n",
       " <selenium.webdriver.remote.webelement.WebElement (session=\"73cc497b2260d62a2fc63d2e5bea5aec\", element=\"92ef2636-0e39-46c9-9aea-02fa3541518b\")>,\n",
       " <selenium.webdriver.remote.webelement.WebElement (session=\"73cc497b2260d62a2fc63d2e5bea5aec\", element=\"dc2c2f08-61cb-464a-aa53-b106ab5e5c1d\")>,\n",
       " <selenium.webdriver.remote.webelement.WebElement (session=\"73cc497b2260d62a2fc63d2e5bea5aec\", element=\"e734f8d6-5154-49c5-bdd5-3016629661ce\")>,\n",
       " <selenium.webdriver.remote.webelement.WebElement (session=\"73cc497b2260d62a2fc63d2e5bea5aec\", element=\"d112587a-8180-4c20-a324-6151d7d09a16\")>,\n",
       " <selenium.webdriver.remote.webelement.WebElement (session=\"73cc497b2260d62a2fc63d2e5bea5aec\", element=\"e39cddb1-193b-4fd7-a161-eb67716ce29d\")>,\n",
       " <selenium.webdriver.remote.webelement.WebElement (session=\"73cc497b2260d62a2fc63d2e5bea5aec\", element=\"5f2da5af-e57a-4f61-8619-82a967dc80b0\")>,\n",
       " <selenium.webdriver.remote.webelement.WebElement (session=\"73cc497b2260d62a2fc63d2e5bea5aec\", element=\"b76c78a8-9167-490f-878d-baf6e161985b\")>,\n",
       " <selenium.webdriver.remote.webelement.WebElement (session=\"73cc497b2260d62a2fc63d2e5bea5aec\", element=\"79cbc3b7-bec1-4c98-94cd-5d4dd82cb054\")>,\n",
       " <selenium.webdriver.remote.webelement.WebElement (session=\"73cc497b2260d62a2fc63d2e5bea5aec\", element=\"6810a6a8-180f-4721-802f-d07aab0e667a\")>,\n",
       " <selenium.webdriver.remote.webelement.WebElement (session=\"73cc497b2260d62a2fc63d2e5bea5aec\", element=\"bd0c9921-29b1-4cb5-8153-a6be7e24b4a9\")>,\n",
       " <selenium.webdriver.remote.webelement.WebElement (session=\"73cc497b2260d62a2fc63d2e5bea5aec\", element=\"5dbce61f-9b55-476f-99ec-f57e44fbbff0\")>,\n",
       " <selenium.webdriver.remote.webelement.WebElement (session=\"73cc497b2260d62a2fc63d2e5bea5aec\", element=\"5d4549ee-370d-4665-9db6-19a3e224f23c\")>,\n",
       " <selenium.webdriver.remote.webelement.WebElement (session=\"73cc497b2260d62a2fc63d2e5bea5aec\", element=\"82a7668e-b65f-41d9-a3d5-d8d380a39ca6\")>,\n",
       " <selenium.webdriver.remote.webelement.WebElement (session=\"73cc497b2260d62a2fc63d2e5bea5aec\", element=\"20b2d6ba-46d6-4fe7-82d0-161b37dcb167\")>,\n",
       " <selenium.webdriver.remote.webelement.WebElement (session=\"73cc497b2260d62a2fc63d2e5bea5aec\", element=\"dffb498a-2880-438d-ad8e-155ec6a9f2c2\")>,\n",
       " <selenium.webdriver.remote.webelement.WebElement (session=\"73cc497b2260d62a2fc63d2e5bea5aec\", element=\"1486615e-6d0d-4eb8-9a29-e0ae4995b9b4\")>,\n",
       " <selenium.webdriver.remote.webelement.WebElement (session=\"73cc497b2260d62a2fc63d2e5bea5aec\", element=\"691dc4d0-1641-4cc2-894c-bd3a12c7848f\")>,\n",
       " <selenium.webdriver.remote.webelement.WebElement (session=\"73cc497b2260d62a2fc63d2e5bea5aec\", element=\"e281d586-4311-405a-8a49-00f8196f0493\")>,\n",
       " <selenium.webdriver.remote.webelement.WebElement (session=\"73cc497b2260d62a2fc63d2e5bea5aec\", element=\"52215a4e-3155-4817-9400-feb33ccd9f71\")>,\n",
       " <selenium.webdriver.remote.webelement.WebElement (session=\"73cc497b2260d62a2fc63d2e5bea5aec\", element=\"6cfd2688-875e-4e3a-9496-cdbcc122a5d5\")>,\n",
       " <selenium.webdriver.remote.webelement.WebElement (session=\"73cc497b2260d62a2fc63d2e5bea5aec\", element=\"45a34aee-3a00-4263-a807-d9417ca03e1d\")>,\n",
       " <selenium.webdriver.remote.webelement.WebElement (session=\"73cc497b2260d62a2fc63d2e5bea5aec\", element=\"2ca95a1c-13d7-4330-b782-153d3b6ceafb\")>,\n",
       " <selenium.webdriver.remote.webelement.WebElement (session=\"73cc497b2260d62a2fc63d2e5bea5aec\", element=\"cac31c49-cc48-43d7-aec6-a985c12ac5fd\")>]"
      ]
     },
     "execution_count": 439,
     "metadata": {},
     "output_type": "execute_result"
    }
   ],
   "source": [
    "Rate1=driver8.find_elements_by_xpath(\"//div[@class='_30jeq3']\")\n",
    "Rate1"
   ]
  },
  {
   "cell_type": "code",
   "execution_count": 440,
   "metadata": {
    "collapsed": true
   },
   "outputs": [
    {
     "data": {
      "text/plain": [
       "['₹2,599',\n",
       " '₹2,599',\n",
       " '₹399',\n",
       " '₹398',\n",
       " '₹399',\n",
       " '₹472',\n",
       " '₹499',\n",
       " '₹554',\n",
       " '₹348',\n",
       " '₹499',\n",
       " '₹399',\n",
       " '₹3,360',\n",
       " '₹379',\n",
       " '₹399',\n",
       " '₹449',\n",
       " '₹420',\n",
       " '₹282',\n",
       " '₹499',\n",
       " '₹474',\n",
       " '₹479',\n",
       " '₹449',\n",
       " '₹499',\n",
       " '₹499',\n",
       " '₹474',\n",
       " '₹429',\n",
       " '₹416',\n",
       " '₹599',\n",
       " '₹599',\n",
       " '₹499',\n",
       " '₹418',\n",
       " '₹499',\n",
       " '₹3,127',\n",
       " '₹828',\n",
       " '₹359',\n",
       " '₹249',\n",
       " '₹3,149',\n",
       " '₹398',\n",
       " '₹499',\n",
       " '₹624',\n",
       " '₹526']"
      ]
     },
     "execution_count": 440,
     "metadata": {},
     "output_type": "execute_result"
    }
   ],
   "source": [
    "Price1=[]\n",
    "for i in Rate1:\n",
    "    Price1.append(i.text)\n",
    "Price1"
   ]
  },
  {
   "cell_type": "code",
   "execution_count": 441,
   "metadata": {
    "collapsed": true
   },
   "outputs": [
    {
     "data": {
      "text/plain": [
       "[<selenium.webdriver.remote.webelement.WebElement (session=\"73cc497b2260d62a2fc63d2e5bea5aec\", element=\"eab9b9e5-f4e9-4bec-b453-0f95792dc5f8\")>,\n",
       " <selenium.webdriver.remote.webelement.WebElement (session=\"73cc497b2260d62a2fc63d2e5bea5aec\", element=\"bbdb3c87-2f83-48b3-a500-bcb245d15823\")>,\n",
       " <selenium.webdriver.remote.webelement.WebElement (session=\"73cc497b2260d62a2fc63d2e5bea5aec\", element=\"59d13536-8a09-4922-9f2c-21fc81eac937\")>,\n",
       " <selenium.webdriver.remote.webelement.WebElement (session=\"73cc497b2260d62a2fc63d2e5bea5aec\", element=\"7d0f172c-0741-4769-9328-a08c8c0716ba\")>,\n",
       " <selenium.webdriver.remote.webelement.WebElement (session=\"73cc497b2260d62a2fc63d2e5bea5aec\", element=\"6156de03-e4e3-476c-86db-15f035d144f2\")>,\n",
       " <selenium.webdriver.remote.webelement.WebElement (session=\"73cc497b2260d62a2fc63d2e5bea5aec\", element=\"5ef8cefc-dc42-4b00-833e-ef6e354c5e5f\")>,\n",
       " <selenium.webdriver.remote.webelement.WebElement (session=\"73cc497b2260d62a2fc63d2e5bea5aec\", element=\"e67994be-c7e6-483e-8630-e1dcc7f35bac\")>,\n",
       " <selenium.webdriver.remote.webelement.WebElement (session=\"73cc497b2260d62a2fc63d2e5bea5aec\", element=\"861100a4-0b8c-4810-9011-3da715c08408\")>,\n",
       " <selenium.webdriver.remote.webelement.WebElement (session=\"73cc497b2260d62a2fc63d2e5bea5aec\", element=\"6a0507a7-0b77-4f9b-bcba-7bc19570abbd\")>,\n",
       " <selenium.webdriver.remote.webelement.WebElement (session=\"73cc497b2260d62a2fc63d2e5bea5aec\", element=\"35935430-edb4-4e84-ba89-c537e1eafda3\")>,\n",
       " <selenium.webdriver.remote.webelement.WebElement (session=\"73cc497b2260d62a2fc63d2e5bea5aec\", element=\"3088afda-d35f-4c0d-92a1-20920593fb96\")>,\n",
       " <selenium.webdriver.remote.webelement.WebElement (session=\"73cc497b2260d62a2fc63d2e5bea5aec\", element=\"706af402-927d-4e74-9227-40706d51ffab\")>,\n",
       " <selenium.webdriver.remote.webelement.WebElement (session=\"73cc497b2260d62a2fc63d2e5bea5aec\", element=\"f4a2e763-830a-477a-9730-26ed1ee9ee89\")>,\n",
       " <selenium.webdriver.remote.webelement.WebElement (session=\"73cc497b2260d62a2fc63d2e5bea5aec\", element=\"885fc190-0eea-4479-a732-3c225254104d\")>,\n",
       " <selenium.webdriver.remote.webelement.WebElement (session=\"73cc497b2260d62a2fc63d2e5bea5aec\", element=\"08963828-4115-400c-9d7f-6178975c3c2a\")>,\n",
       " <selenium.webdriver.remote.webelement.WebElement (session=\"73cc497b2260d62a2fc63d2e5bea5aec\", element=\"562a3ec7-a680-4fdf-a0a9-de904b75cf8b\")>,\n",
       " <selenium.webdriver.remote.webelement.WebElement (session=\"73cc497b2260d62a2fc63d2e5bea5aec\", element=\"107053c8-e7e5-42d1-b603-3aa0220d9950\")>,\n",
       " <selenium.webdriver.remote.webelement.WebElement (session=\"73cc497b2260d62a2fc63d2e5bea5aec\", element=\"47349f0e-65f7-41ab-a737-284bb201f798\")>,\n",
       " <selenium.webdriver.remote.webelement.WebElement (session=\"73cc497b2260d62a2fc63d2e5bea5aec\", element=\"33d7fccc-2b64-4188-8e73-adac75ff6b93\")>,\n",
       " <selenium.webdriver.remote.webelement.WebElement (session=\"73cc497b2260d62a2fc63d2e5bea5aec\", element=\"1a0fcea2-cf73-46c2-8b3d-81068a103d80\")>,\n",
       " <selenium.webdriver.remote.webelement.WebElement (session=\"73cc497b2260d62a2fc63d2e5bea5aec\", element=\"03cf71cd-09be-4485-93fb-8f84fa0df8d0\")>,\n",
       " <selenium.webdriver.remote.webelement.WebElement (session=\"73cc497b2260d62a2fc63d2e5bea5aec\", element=\"6bef2e69-fb9e-43ee-8515-640ced92f5f7\")>,\n",
       " <selenium.webdriver.remote.webelement.WebElement (session=\"73cc497b2260d62a2fc63d2e5bea5aec\", element=\"c31d90fe-229c-4333-9299-03d588c3719f\")>,\n",
       " <selenium.webdriver.remote.webelement.WebElement (session=\"73cc497b2260d62a2fc63d2e5bea5aec\", element=\"018ca8f6-f3f9-47bb-87cd-efdca5c93631\")>,\n",
       " <selenium.webdriver.remote.webelement.WebElement (session=\"73cc497b2260d62a2fc63d2e5bea5aec\", element=\"6b7a4658-e158-47c2-b51c-ad06fd5f98b6\")>,\n",
       " <selenium.webdriver.remote.webelement.WebElement (session=\"73cc497b2260d62a2fc63d2e5bea5aec\", element=\"ae0c6ef5-304f-4603-b009-21c7aa596a7a\")>,\n",
       " <selenium.webdriver.remote.webelement.WebElement (session=\"73cc497b2260d62a2fc63d2e5bea5aec\", element=\"346e3353-7263-4f6f-923b-d429ba9a68c5\")>,\n",
       " <selenium.webdriver.remote.webelement.WebElement (session=\"73cc497b2260d62a2fc63d2e5bea5aec\", element=\"7098d916-9b8e-498c-92b5-37d90475117d\")>,\n",
       " <selenium.webdriver.remote.webelement.WebElement (session=\"73cc497b2260d62a2fc63d2e5bea5aec\", element=\"13fd4cd7-1723-4c99-811a-d1c739d3d21a\")>,\n",
       " <selenium.webdriver.remote.webelement.WebElement (session=\"73cc497b2260d62a2fc63d2e5bea5aec\", element=\"199a0cc2-0e6e-4f1d-b138-b7a31d584085\")>,\n",
       " <selenium.webdriver.remote.webelement.WebElement (session=\"73cc497b2260d62a2fc63d2e5bea5aec\", element=\"8f8bbad1-27c8-4874-99b6-3924831315a8\")>,\n",
       " <selenium.webdriver.remote.webelement.WebElement (session=\"73cc497b2260d62a2fc63d2e5bea5aec\", element=\"e62ef742-8f25-4dd9-ba8d-d88dc4886878\")>,\n",
       " <selenium.webdriver.remote.webelement.WebElement (session=\"73cc497b2260d62a2fc63d2e5bea5aec\", element=\"8f49fde1-2c59-47ed-b407-1de0738e6109\")>,\n",
       " <selenium.webdriver.remote.webelement.WebElement (session=\"73cc497b2260d62a2fc63d2e5bea5aec\", element=\"089f359e-8da5-4b5b-b09b-3cd17a79fa77\")>,\n",
       " <selenium.webdriver.remote.webelement.WebElement (session=\"73cc497b2260d62a2fc63d2e5bea5aec\", element=\"1ec0a3d2-3ec0-4aa5-9ee4-27fc37441c79\")>,\n",
       " <selenium.webdriver.remote.webelement.WebElement (session=\"73cc497b2260d62a2fc63d2e5bea5aec\", element=\"dd71ef55-e3f5-4f52-93ab-186373a6374a\")>,\n",
       " <selenium.webdriver.remote.webelement.WebElement (session=\"73cc497b2260d62a2fc63d2e5bea5aec\", element=\"df9fc00b-8400-453e-85e2-69cf62a24282\")>,\n",
       " <selenium.webdriver.remote.webelement.WebElement (session=\"73cc497b2260d62a2fc63d2e5bea5aec\", element=\"d0061926-5f71-4ebe-a040-75e4e168df8c\")>]"
      ]
     },
     "execution_count": 441,
     "metadata": {},
     "output_type": "execute_result"
    }
   ],
   "source": [
    "Disc1=driver8.find_elements_by_xpath(\"//div[@class='_3Ay6Sb']\")\n",
    "Disc1"
   ]
  },
  {
   "cell_type": "code",
   "execution_count": 442,
   "metadata": {
    "collapsed": true
   },
   "outputs": [
    {
     "data": {
      "text/plain": [
       "['69% off',\n",
       " '60% off',\n",
       " '20% off',\n",
       " '88% off',\n",
       " '75% off',\n",
       " '72% off',\n",
       " '47% off',\n",
       " '83% off',\n",
       " '69% off',\n",
       " '51% off',\n",
       " '62% off',\n",
       " '20% off',\n",
       " '65% off',\n",
       " '57% off',\n",
       " '71% off',\n",
       " '50% off',\n",
       " '52% off',\n",
       " '52% off',\n",
       " '55% off',\n",
       " '50% off',\n",
       " '37% off',\n",
       " '76% off',\n",
       " '57% off',\n",
       " '58% off',\n",
       " '66% off',\n",
       " '60% off',\n",
       " '75% off',\n",
       " '58% off',\n",
       " '50% off',\n",
       " '43% off',\n",
       " '17% off',\n",
       " '72% off',\n",
       " '50% off',\n",
       " '30% off',\n",
       " '60% off',\n",
       " '50% off',\n",
       " '75% off',\n",
       " '59% off']"
      ]
     },
     "execution_count": 442,
     "metadata": {},
     "output_type": "execute_result"
    }
   ],
   "source": [
    "Percentdiscount1=[]\n",
    "for i in Disc1:\n",
    "    Percentdiscount1.append(i.text)\n",
    "Percentdiscount1"
   ]
  },
  {
   "cell_type": "code",
   "execution_count": 469,
   "metadata": {},
   "outputs": [
    {
     "data": {
      "text/plain": [
       "<selenium.webdriver.remote.webelement.WebElement (session=\"73cc497b2260d62a2fc63d2e5bea5aec\", element=\"ea210958-7c10-4080-9560-37516643401f\")>"
      ]
     },
     "execution_count": 469,
     "metadata": {},
     "output_type": "execute_result"
    }
   ],
   "source": [
    "N2=driver8.find_element_by_xpath(\"//a[@class='ge-49M']\")\n",
    "N2"
   ]
  },
  {
   "cell_type": "code",
   "execution_count": 470,
   "metadata": {},
   "outputs": [],
   "source": [
    "N2.click()"
   ]
  },
  {
   "cell_type": "code",
   "execution_count": 471,
   "metadata": {
    "collapsed": true
   },
   "outputs": [
    {
     "data": {
      "text/plain": [
       "[<selenium.webdriver.remote.webelement.WebElement (session=\"73cc497b2260d62a2fc63d2e5bea5aec\", element=\"ff1023b8-9d10-427c-9706-12a21b3c7d57\")>,\n",
       " <selenium.webdriver.remote.webelement.WebElement (session=\"73cc497b2260d62a2fc63d2e5bea5aec\", element=\"e223055d-5f77-4b86-acae-c589914d4433\")>,\n",
       " <selenium.webdriver.remote.webelement.WebElement (session=\"73cc497b2260d62a2fc63d2e5bea5aec\", element=\"65058332-fa6b-4ce5-ae00-b50815d28dbd\")>,\n",
       " <selenium.webdriver.remote.webelement.WebElement (session=\"73cc497b2260d62a2fc63d2e5bea5aec\", element=\"8cacc869-ddcd-4314-9e61-ed808b0a3724\")>,\n",
       " <selenium.webdriver.remote.webelement.WebElement (session=\"73cc497b2260d62a2fc63d2e5bea5aec\", element=\"82a4431f-3342-4d96-83f6-49d1a09470b9\")>,\n",
       " <selenium.webdriver.remote.webelement.WebElement (session=\"73cc497b2260d62a2fc63d2e5bea5aec\", element=\"d1bf3710-7be0-4c06-afcf-d27c58679dea\")>,\n",
       " <selenium.webdriver.remote.webelement.WebElement (session=\"73cc497b2260d62a2fc63d2e5bea5aec\", element=\"dc22bbe4-a0b5-4cd3-85cb-3980e49ec1f3\")>,\n",
       " <selenium.webdriver.remote.webelement.WebElement (session=\"73cc497b2260d62a2fc63d2e5bea5aec\", element=\"2110d6df-accb-4c7a-998f-3248747f7700\")>,\n",
       " <selenium.webdriver.remote.webelement.WebElement (session=\"73cc497b2260d62a2fc63d2e5bea5aec\", element=\"c068c498-1bac-49f4-9e66-9cdc37d2b2ff\")>,\n",
       " <selenium.webdriver.remote.webelement.WebElement (session=\"73cc497b2260d62a2fc63d2e5bea5aec\", element=\"9fd837e1-436e-4d13-a752-9fa2268862cf\")>,\n",
       " <selenium.webdriver.remote.webelement.WebElement (session=\"73cc497b2260d62a2fc63d2e5bea5aec\", element=\"64370d3c-225c-4072-b5b5-e1131cfba6ad\")>,\n",
       " <selenium.webdriver.remote.webelement.WebElement (session=\"73cc497b2260d62a2fc63d2e5bea5aec\", element=\"857ce809-7a9f-4a0a-bca4-be5f8528eeca\")>,\n",
       " <selenium.webdriver.remote.webelement.WebElement (session=\"73cc497b2260d62a2fc63d2e5bea5aec\", element=\"130d95af-cdea-4413-8947-134e6a849c25\")>,\n",
       " <selenium.webdriver.remote.webelement.WebElement (session=\"73cc497b2260d62a2fc63d2e5bea5aec\", element=\"7883feb7-e905-458d-a983-5a1d99647e54\")>,\n",
       " <selenium.webdriver.remote.webelement.WebElement (session=\"73cc497b2260d62a2fc63d2e5bea5aec\", element=\"b799255c-f09e-4172-b460-b6aaa8cd8abf\")>,\n",
       " <selenium.webdriver.remote.webelement.WebElement (session=\"73cc497b2260d62a2fc63d2e5bea5aec\", element=\"a0a6cc67-6867-419e-9feb-27b4d36c4ed0\")>,\n",
       " <selenium.webdriver.remote.webelement.WebElement (session=\"73cc497b2260d62a2fc63d2e5bea5aec\", element=\"6c5fcf6a-ff4d-4abb-9cbd-a7fb12408029\")>,\n",
       " <selenium.webdriver.remote.webelement.WebElement (session=\"73cc497b2260d62a2fc63d2e5bea5aec\", element=\"df8329a3-a9ad-42db-888c-074fcc57caba\")>,\n",
       " <selenium.webdriver.remote.webelement.WebElement (session=\"73cc497b2260d62a2fc63d2e5bea5aec\", element=\"48024031-20ec-44c1-a4cc-658412a729e8\")>,\n",
       " <selenium.webdriver.remote.webelement.WebElement (session=\"73cc497b2260d62a2fc63d2e5bea5aec\", element=\"9b0119b9-a82a-4280-b3d9-d79d21465b4e\")>,\n",
       " <selenium.webdriver.remote.webelement.WebElement (session=\"73cc497b2260d62a2fc63d2e5bea5aec\", element=\"db4b86b3-4efb-40ce-b12f-fb185d12400d\")>,\n",
       " <selenium.webdriver.remote.webelement.WebElement (session=\"73cc497b2260d62a2fc63d2e5bea5aec\", element=\"3716496e-f22d-4cd2-817f-9a8437310c58\")>,\n",
       " <selenium.webdriver.remote.webelement.WebElement (session=\"73cc497b2260d62a2fc63d2e5bea5aec\", element=\"5925b3fb-9a6b-4ed6-a1d9-a5c97c64b718\")>,\n",
       " <selenium.webdriver.remote.webelement.WebElement (session=\"73cc497b2260d62a2fc63d2e5bea5aec\", element=\"e228f612-7ecf-4421-87db-68cad496e4f4\")>,\n",
       " <selenium.webdriver.remote.webelement.WebElement (session=\"73cc497b2260d62a2fc63d2e5bea5aec\", element=\"73ce64c0-168e-43d9-b10c-de96e02fed35\")>,\n",
       " <selenium.webdriver.remote.webelement.WebElement (session=\"73cc497b2260d62a2fc63d2e5bea5aec\", element=\"58ff8ef4-c263-4763-bd8b-683a8b752154\")>,\n",
       " <selenium.webdriver.remote.webelement.WebElement (session=\"73cc497b2260d62a2fc63d2e5bea5aec\", element=\"dd6995a0-b048-4a71-ae3c-1ee56f355984\")>,\n",
       " <selenium.webdriver.remote.webelement.WebElement (session=\"73cc497b2260d62a2fc63d2e5bea5aec\", element=\"9d139a91-2cb3-40ae-9ea2-0df092772dbc\")>,\n",
       " <selenium.webdriver.remote.webelement.WebElement (session=\"73cc497b2260d62a2fc63d2e5bea5aec\", element=\"39610f33-e86e-46cd-bab2-df12b3005951\")>,\n",
       " <selenium.webdriver.remote.webelement.WebElement (session=\"73cc497b2260d62a2fc63d2e5bea5aec\", element=\"92c570d8-ffab-4c55-a3d3-fd0c55415165\")>,\n",
       " <selenium.webdriver.remote.webelement.WebElement (session=\"73cc497b2260d62a2fc63d2e5bea5aec\", element=\"1a47644e-7188-48aa-939b-2f1eb8655f56\")>,\n",
       " <selenium.webdriver.remote.webelement.WebElement (session=\"73cc497b2260d62a2fc63d2e5bea5aec\", element=\"def06150-5958-4c61-85b4-e04d634eb67f\")>,\n",
       " <selenium.webdriver.remote.webelement.WebElement (session=\"73cc497b2260d62a2fc63d2e5bea5aec\", element=\"d5373826-6f7d-4935-967a-abbded10ee3b\")>,\n",
       " <selenium.webdriver.remote.webelement.WebElement (session=\"73cc497b2260d62a2fc63d2e5bea5aec\", element=\"1ee259ec-0c08-4322-a90b-437be53e0896\")>,\n",
       " <selenium.webdriver.remote.webelement.WebElement (session=\"73cc497b2260d62a2fc63d2e5bea5aec\", element=\"55125cec-261f-447d-b6dc-a7d9866824a7\")>,\n",
       " <selenium.webdriver.remote.webelement.WebElement (session=\"73cc497b2260d62a2fc63d2e5bea5aec\", element=\"fd9e3c75-7049-42d4-aa16-4f8e93cc12e4\")>,\n",
       " <selenium.webdriver.remote.webelement.WebElement (session=\"73cc497b2260d62a2fc63d2e5bea5aec\", element=\"1e7cb687-065f-46f0-a359-74b5d1189c38\")>,\n",
       " <selenium.webdriver.remote.webelement.WebElement (session=\"73cc497b2260d62a2fc63d2e5bea5aec\", element=\"f099ea2a-8001-4ebe-ab87-5b4eff63fadc\")>,\n",
       " <selenium.webdriver.remote.webelement.WebElement (session=\"73cc497b2260d62a2fc63d2e5bea5aec\", element=\"8852e2dd-f946-4d59-a0bf-6a0df09fa46a\")>,\n",
       " <selenium.webdriver.remote.webelement.WebElement (session=\"73cc497b2260d62a2fc63d2e5bea5aec\", element=\"7796989b-b18b-427c-a625-16b38744960a\")>]"
      ]
     },
     "execution_count": 471,
     "metadata": {},
     "output_type": "execute_result"
    }
   ],
   "source": [
    "B2=driver8.find_elements_by_xpath(\"//div[@class='_2WkVRV']\")\n",
    "B2"
   ]
  },
  {
   "cell_type": "code",
   "execution_count": 472,
   "metadata": {
    "collapsed": true
   },
   "outputs": [
    {
     "data": {
      "text/plain": [
       "['BRUTON',\n",
       " 'BRUTON',\n",
       " 'Creer',\n",
       " 'Xtoon',\n",
       " 'Shoes Bank',\n",
       " 'bluemaker',\n",
       " 'bluemaker',\n",
       " 'PEHANOSA',\n",
       " 'Robbie jones',\n",
       " 'SPARX',\n",
       " 'Nilatin',\n",
       " 'Extoes',\n",
       " 'Arohi',\n",
       " 'luxury fashion',\n",
       " 'India hub',\n",
       " 'PUMA',\n",
       " 'Numenzo',\n",
       " 'Airland',\n",
       " 'BIRDE',\n",
       " 'aadi',\n",
       " 'HOC',\n",
       " 'RODDICK SHOES',\n",
       " 'Robbie jones',\n",
       " 'Absolutee shoes',\n",
       " 'SPARX',\n",
       " 'KNIGHT WALKERS',\n",
       " 'zovim',\n",
       " 'PUMA',\n",
       " 'ASTEROID',\n",
       " 'kardam&sons',\n",
       " 'Chevit',\n",
       " 'Paragon',\n",
       " 'BIRDE',\n",
       " 'RODDICK SHOES',\n",
       " 'BIRDE',\n",
       " 'PUMA',\n",
       " 'ESSENCE',\n",
       " 'Zsyto',\n",
       " 'Qtsy',\n",
       " 'believe']"
      ]
     },
     "execution_count": 472,
     "metadata": {},
     "output_type": "execute_result"
    }
   ],
   "source": [
    "Brand2=[]\n",
    "for i in B2:\n",
    "    Brand2.append(i.text)\n",
    "Brand2"
   ]
  },
  {
   "cell_type": "code",
   "execution_count": 473,
   "metadata": {
    "collapsed": true
   },
   "outputs": [
    {
     "data": {
      "text/plain": [
       "[<selenium.webdriver.remote.webelement.WebElement (session=\"73cc497b2260d62a2fc63d2e5bea5aec\", element=\"982fbcba-7c8a-4bea-b152-138bbe4c4bc9\")>,\n",
       " <selenium.webdriver.remote.webelement.WebElement (session=\"73cc497b2260d62a2fc63d2e5bea5aec\", element=\"435a152b-8b7b-4699-9e3f-5b5666e1c6c9\")>,\n",
       " <selenium.webdriver.remote.webelement.WebElement (session=\"73cc497b2260d62a2fc63d2e5bea5aec\", element=\"734e01ff-3dba-4fa9-808f-4e0574ffaa31\")>,\n",
       " <selenium.webdriver.remote.webelement.WebElement (session=\"73cc497b2260d62a2fc63d2e5bea5aec\", element=\"6c07c305-619f-4ccc-9a35-11d52f97713f\")>,\n",
       " <selenium.webdriver.remote.webelement.WebElement (session=\"73cc497b2260d62a2fc63d2e5bea5aec\", element=\"d8d7d308-4564-4807-802c-92aa333b031f\")>,\n",
       " <selenium.webdriver.remote.webelement.WebElement (session=\"73cc497b2260d62a2fc63d2e5bea5aec\", element=\"edd64f8a-8252-4708-ab1a-08adab113c19\")>,\n",
       " <selenium.webdriver.remote.webelement.WebElement (session=\"73cc497b2260d62a2fc63d2e5bea5aec\", element=\"2232c299-b261-4c1b-a0a8-f0a92e4b2a85\")>,\n",
       " <selenium.webdriver.remote.webelement.WebElement (session=\"73cc497b2260d62a2fc63d2e5bea5aec\", element=\"157a0473-b7b9-458a-b9e3-d1b95a029d10\")>,\n",
       " <selenium.webdriver.remote.webelement.WebElement (session=\"73cc497b2260d62a2fc63d2e5bea5aec\", element=\"dd4730b6-10be-4301-a0a4-9a6a8c1d94ca\")>,\n",
       " <selenium.webdriver.remote.webelement.WebElement (session=\"73cc497b2260d62a2fc63d2e5bea5aec\", element=\"128500d3-c726-46c7-9fd0-ba2d8a9217e5\")>,\n",
       " <selenium.webdriver.remote.webelement.WebElement (session=\"73cc497b2260d62a2fc63d2e5bea5aec\", element=\"962cf7c5-f3eb-4c56-b5aa-0278158322bc\")>,\n",
       " <selenium.webdriver.remote.webelement.WebElement (session=\"73cc497b2260d62a2fc63d2e5bea5aec\", element=\"529db0d5-daa6-471e-9cbf-28214a478cbe\")>,\n",
       " <selenium.webdriver.remote.webelement.WebElement (session=\"73cc497b2260d62a2fc63d2e5bea5aec\", element=\"8c5cb335-fe1d-4446-8f54-0a2656348636\")>,\n",
       " <selenium.webdriver.remote.webelement.WebElement (session=\"73cc497b2260d62a2fc63d2e5bea5aec\", element=\"a4f961ff-4725-46fb-8e4f-53a8ce02362e\")>,\n",
       " <selenium.webdriver.remote.webelement.WebElement (session=\"73cc497b2260d62a2fc63d2e5bea5aec\", element=\"81fe68fa-d670-42b5-bb72-8801f5911096\")>,\n",
       " <selenium.webdriver.remote.webelement.WebElement (session=\"73cc497b2260d62a2fc63d2e5bea5aec\", element=\"4a892670-6cd6-402d-9e86-071bd01800ef\")>,\n",
       " <selenium.webdriver.remote.webelement.WebElement (session=\"73cc497b2260d62a2fc63d2e5bea5aec\", element=\"0f53785f-d4be-4aad-afaf-8acccf67c40b\")>,\n",
       " <selenium.webdriver.remote.webelement.WebElement (session=\"73cc497b2260d62a2fc63d2e5bea5aec\", element=\"a788ef72-4add-49f0-9a89-ce375832ec55\")>,\n",
       " <selenium.webdriver.remote.webelement.WebElement (session=\"73cc497b2260d62a2fc63d2e5bea5aec\", element=\"f954ec66-b534-4bed-8fb4-40baaa61ed5a\")>,\n",
       " <selenium.webdriver.remote.webelement.WebElement (session=\"73cc497b2260d62a2fc63d2e5bea5aec\", element=\"6235389e-7310-44f0-8a00-65f68f3a266b\")>,\n",
       " <selenium.webdriver.remote.webelement.WebElement (session=\"73cc497b2260d62a2fc63d2e5bea5aec\", element=\"9a0aeb40-3031-4ed3-83a7-6ab7c1f2b904\")>,\n",
       " <selenium.webdriver.remote.webelement.WebElement (session=\"73cc497b2260d62a2fc63d2e5bea5aec\", element=\"510c36ef-e41f-4455-9e56-ae3dd6e17ae0\")>,\n",
       " <selenium.webdriver.remote.webelement.WebElement (session=\"73cc497b2260d62a2fc63d2e5bea5aec\", element=\"bd328565-dc4c-4f39-8f4c-552bc7ee2ec0\")>,\n",
       " <selenium.webdriver.remote.webelement.WebElement (session=\"73cc497b2260d62a2fc63d2e5bea5aec\", element=\"2d5bc59f-6360-418e-86e1-d059169cfec0\")>,\n",
       " <selenium.webdriver.remote.webelement.WebElement (session=\"73cc497b2260d62a2fc63d2e5bea5aec\", element=\"12262901-a97f-4e65-be08-c6503e75c97c\")>,\n",
       " <selenium.webdriver.remote.webelement.WebElement (session=\"73cc497b2260d62a2fc63d2e5bea5aec\", element=\"9700f8c9-e46c-4fef-97d4-97c8c5d4542f\")>,\n",
       " <selenium.webdriver.remote.webelement.WebElement (session=\"73cc497b2260d62a2fc63d2e5bea5aec\", element=\"ae6d9d16-41ce-4e21-a159-28e6acda085b\")>,\n",
       " <selenium.webdriver.remote.webelement.WebElement (session=\"73cc497b2260d62a2fc63d2e5bea5aec\", element=\"7a05616e-69cf-448d-9ba6-4697a83aa4fc\")>,\n",
       " <selenium.webdriver.remote.webelement.WebElement (session=\"73cc497b2260d62a2fc63d2e5bea5aec\", element=\"60bb835f-a9b2-47cd-bc61-ce4e0883c34c\")>,\n",
       " <selenium.webdriver.remote.webelement.WebElement (session=\"73cc497b2260d62a2fc63d2e5bea5aec\", element=\"4d5f4459-40e8-4af7-9d67-f31bcf852cca\")>,\n",
       " <selenium.webdriver.remote.webelement.WebElement (session=\"73cc497b2260d62a2fc63d2e5bea5aec\", element=\"7646a8f5-1114-47a8-af86-c3e218ea6afa\")>,\n",
       " <selenium.webdriver.remote.webelement.WebElement (session=\"73cc497b2260d62a2fc63d2e5bea5aec\", element=\"eb08878b-047c-4bd7-8526-6f8b31f4d86f\")>,\n",
       " <selenium.webdriver.remote.webelement.WebElement (session=\"73cc497b2260d62a2fc63d2e5bea5aec\", element=\"b4ea2a0e-9f58-4dce-96c3-2edc8d05d041\")>,\n",
       " <selenium.webdriver.remote.webelement.WebElement (session=\"73cc497b2260d62a2fc63d2e5bea5aec\", element=\"3cec7259-2de5-4f37-868f-300959234449\")>,\n",
       " <selenium.webdriver.remote.webelement.WebElement (session=\"73cc497b2260d62a2fc63d2e5bea5aec\", element=\"5b2763c9-a9a6-477d-8085-09741dec4c44\")>,\n",
       " <selenium.webdriver.remote.webelement.WebElement (session=\"73cc497b2260d62a2fc63d2e5bea5aec\", element=\"7312c4f0-bc52-4736-a855-2d14dde1731b\")>,\n",
       " <selenium.webdriver.remote.webelement.WebElement (session=\"73cc497b2260d62a2fc63d2e5bea5aec\", element=\"a1c03ef5-abe6-4239-8d9f-cbae72195dad\")>,\n",
       " <selenium.webdriver.remote.webelement.WebElement (session=\"73cc497b2260d62a2fc63d2e5bea5aec\", element=\"357672f8-37b3-4d0e-80d9-12d33ccc9592\")>,\n",
       " <selenium.webdriver.remote.webelement.WebElement (session=\"73cc497b2260d62a2fc63d2e5bea5aec\", element=\"45979584-f0e7-464e-8622-10502d37c71a\")>,\n",
       " <selenium.webdriver.remote.webelement.WebElement (session=\"73cc497b2260d62a2fc63d2e5bea5aec\", element=\"3a4ecbd0-004c-4c16-8efa-cd55ffb8fa73\")>]"
      ]
     },
     "execution_count": 473,
     "metadata": {},
     "output_type": "execute_result"
    }
   ],
   "source": [
    "Description2=driver8.find_elements_by_xpath(\"//div[@class='_2B099V']/a['title'][1]\")\n",
    "Description2"
   ]
  },
  {
   "cell_type": "code",
   "execution_count": 474,
   "metadata": {
    "collapsed": true
   },
   "outputs": [
    {
     "data": {
      "text/plain": [
       "['Combo Pack Of 2 Latest Stylish Casual Shoes for Men Lac...',\n",
       " 'Modern & Trendy Collection Combo Pack of 02 Shoes for M...',\n",
       " 'Sneakers For Men',\n",
       " \"white Casual shoes,Sneakers for men's Sneakers For Men\",\n",
       " \"White Sneaker For Men's/Boy's Sneakers For Men\",\n",
       " 'casual for men Sneakers For Men',\n",
       " 'casual for men (blue 06) Sneakers For Men',\n",
       " 'Sneakers For Men',\n",
       " 'Sneakers For Men',\n",
       " 'Men White Sneakers Sneakers For Men',\n",
       " 'White Sneaker For Men Sneakers For Men',\n",
       " 'Modern Trendy Shoes Combo pack of 4 Sneakers For Men',\n",
       " 'Sneakers For Men',\n",
       " 'Luxury Fashionable casual shoes Sneakers For Men',\n",
       " 'Fashionable sneaker casual shoes Sneakers For Men',\n",
       " 'Smash Vulc Canvas Sneakers For Men',\n",
       " 'Sneakers For Men',\n",
       " 'shoe Sneakers For Men',\n",
       " 'Combo Pack of 2 Casual Shoes Sneakers For Men',\n",
       " 'Sneakers For Men',\n",
       " 'Luxury Fashionable Casual Sneakers shoes For Men And Bo...',\n",
       " 'Fashion Outdoor Canvas Casual Light Weight Lace-up Even...',\n",
       " 'Casual Sneakers Shoes For Men And Boys Sneakers For Men',\n",
       " 'Sneakers For Men',\n",
       " 'SM-175 Sneakers For Men',\n",
       " 'Sneakers For Men',\n",
       " 'shoe for men jeans Sneakers For Men',\n",
       " 'Future Rider Twofold Sneakers For Men',\n",
       " \"Original Luxury Branded Fashionable Men's Casual Walkin...\",\n",
       " 'Fashionable casual sneaker shoes Sneakers For Men',\n",
       " 'Super Stylish & Trendy Combo Pack of 02 Pairs Sneakers ...',\n",
       " 'Sneakers For Men',\n",
       " 'Combo Pack of 2 Casual Shoes Sneakers For Men',\n",
       " 'Fashion Outdoor Canvas Casual Light Weight Lace-up Even...',\n",
       " 'Combo Pack of 5 Casual Shoes Sneakers For Men',\n",
       " 'Ferrari Drift Cat Delta Sneakers For Men',\n",
       " 'Sneakers For Men',\n",
       " 'Sneakers For Men',\n",
       " 'Stylish Design Sneakers Shoes Combo For Men & Boys - Pa...',\n",
       " 'Sneakers for men(tan_7) Sneakers For Men']"
      ]
     },
     "execution_count": 474,
     "metadata": {},
     "output_type": "execute_result"
    }
   ],
   "source": [
    "Product_Description2=[]\n",
    "for i in Description2:\n",
    "    Product_Description2.append(i.text)\n",
    "Product_Description2"
   ]
  },
  {
   "cell_type": "code",
   "execution_count": 475,
   "metadata": {
    "collapsed": true
   },
   "outputs": [
    {
     "data": {
      "text/plain": [
       "[<selenium.webdriver.remote.webelement.WebElement (session=\"73cc497b2260d62a2fc63d2e5bea5aec\", element=\"4d065fa0-18ce-408d-9b8a-d6aa2f6328d2\")>,\n",
       " <selenium.webdriver.remote.webelement.WebElement (session=\"73cc497b2260d62a2fc63d2e5bea5aec\", element=\"6073a521-ecaf-49cb-942d-16884594e103\")>,\n",
       " <selenium.webdriver.remote.webelement.WebElement (session=\"73cc497b2260d62a2fc63d2e5bea5aec\", element=\"db65ffbc-aa36-484f-9f20-20f9de718101\")>,\n",
       " <selenium.webdriver.remote.webelement.WebElement (session=\"73cc497b2260d62a2fc63d2e5bea5aec\", element=\"532c8bf6-8266-4921-983f-8040a1596f57\")>,\n",
       " <selenium.webdriver.remote.webelement.WebElement (session=\"73cc497b2260d62a2fc63d2e5bea5aec\", element=\"9ae42f49-a50d-441d-a234-e4392acc7d4f\")>,\n",
       " <selenium.webdriver.remote.webelement.WebElement (session=\"73cc497b2260d62a2fc63d2e5bea5aec\", element=\"09386cfc-981d-4a59-8772-48264c953263\")>,\n",
       " <selenium.webdriver.remote.webelement.WebElement (session=\"73cc497b2260d62a2fc63d2e5bea5aec\", element=\"226b7dfc-9cd0-46f5-b207-ff68b71808df\")>,\n",
       " <selenium.webdriver.remote.webelement.WebElement (session=\"73cc497b2260d62a2fc63d2e5bea5aec\", element=\"5333321f-22ec-4e58-be53-154c2e054168\")>,\n",
       " <selenium.webdriver.remote.webelement.WebElement (session=\"73cc497b2260d62a2fc63d2e5bea5aec\", element=\"f857adf7-e433-4f40-ad46-09b31be4dcd0\")>,\n",
       " <selenium.webdriver.remote.webelement.WebElement (session=\"73cc497b2260d62a2fc63d2e5bea5aec\", element=\"0f6f8940-5809-449e-99d0-c4b1a35a987c\")>,\n",
       " <selenium.webdriver.remote.webelement.WebElement (session=\"73cc497b2260d62a2fc63d2e5bea5aec\", element=\"07d0fd49-2fb0-4162-913b-569438cdf701\")>,\n",
       " <selenium.webdriver.remote.webelement.WebElement (session=\"73cc497b2260d62a2fc63d2e5bea5aec\", element=\"dd522fee-6604-4b86-a9fe-fbf81542887c\")>,\n",
       " <selenium.webdriver.remote.webelement.WebElement (session=\"73cc497b2260d62a2fc63d2e5bea5aec\", element=\"824daf39-d731-42fb-af26-27b7376ee8dd\")>,\n",
       " <selenium.webdriver.remote.webelement.WebElement (session=\"73cc497b2260d62a2fc63d2e5bea5aec\", element=\"58df2392-c21e-4cf0-b9ed-9fbde92a2487\")>,\n",
       " <selenium.webdriver.remote.webelement.WebElement (session=\"73cc497b2260d62a2fc63d2e5bea5aec\", element=\"7b0673b8-8c99-4cd1-8780-82f5c18a458a\")>,\n",
       " <selenium.webdriver.remote.webelement.WebElement (session=\"73cc497b2260d62a2fc63d2e5bea5aec\", element=\"335e5fba-852f-4313-ae54-adc6733a6a23\")>,\n",
       " <selenium.webdriver.remote.webelement.WebElement (session=\"73cc497b2260d62a2fc63d2e5bea5aec\", element=\"cdb04cf7-82ec-4b1c-a19a-bcc0a87428d7\")>,\n",
       " <selenium.webdriver.remote.webelement.WebElement (session=\"73cc497b2260d62a2fc63d2e5bea5aec\", element=\"8288f2c2-2956-464e-924a-6a3dc1112cf9\")>,\n",
       " <selenium.webdriver.remote.webelement.WebElement (session=\"73cc497b2260d62a2fc63d2e5bea5aec\", element=\"b0ab242f-da42-45c5-a2a6-f78e2335b2fa\")>,\n",
       " <selenium.webdriver.remote.webelement.WebElement (session=\"73cc497b2260d62a2fc63d2e5bea5aec\", element=\"6b1125e8-7489-4379-a344-ed7adae7ced7\")>,\n",
       " <selenium.webdriver.remote.webelement.WebElement (session=\"73cc497b2260d62a2fc63d2e5bea5aec\", element=\"3d876330-65bf-4450-b80c-2f9f12934622\")>,\n",
       " <selenium.webdriver.remote.webelement.WebElement (session=\"73cc497b2260d62a2fc63d2e5bea5aec\", element=\"05bd52c7-7734-4caa-a619-9c09758cbe48\")>,\n",
       " <selenium.webdriver.remote.webelement.WebElement (session=\"73cc497b2260d62a2fc63d2e5bea5aec\", element=\"7cafcc5f-a6c0-447a-8ac4-f807b2a4ff6a\")>,\n",
       " <selenium.webdriver.remote.webelement.WebElement (session=\"73cc497b2260d62a2fc63d2e5bea5aec\", element=\"705c5110-6485-418d-bafe-4ac577acd2ab\")>,\n",
       " <selenium.webdriver.remote.webelement.WebElement (session=\"73cc497b2260d62a2fc63d2e5bea5aec\", element=\"74334565-2653-41be-8aa6-00111cb90f96\")>,\n",
       " <selenium.webdriver.remote.webelement.WebElement (session=\"73cc497b2260d62a2fc63d2e5bea5aec\", element=\"07381ade-5229-4105-a639-847df03b2c94\")>,\n",
       " <selenium.webdriver.remote.webelement.WebElement (session=\"73cc497b2260d62a2fc63d2e5bea5aec\", element=\"a70c7588-5671-47bf-bc92-9606fa217d5d\")>,\n",
       " <selenium.webdriver.remote.webelement.WebElement (session=\"73cc497b2260d62a2fc63d2e5bea5aec\", element=\"14cb4de1-ade6-43bc-a970-4e4e96f2de9e\")>,\n",
       " <selenium.webdriver.remote.webelement.WebElement (session=\"73cc497b2260d62a2fc63d2e5bea5aec\", element=\"aa545fb4-ab13-46bf-aef2-ef3eb680d84a\")>,\n",
       " <selenium.webdriver.remote.webelement.WebElement (session=\"73cc497b2260d62a2fc63d2e5bea5aec\", element=\"33cddd88-60ff-40cf-91ed-4db5da6a8dd1\")>,\n",
       " <selenium.webdriver.remote.webelement.WebElement (session=\"73cc497b2260d62a2fc63d2e5bea5aec\", element=\"1f644711-5c28-4b37-9224-89ae1589047a\")>,\n",
       " <selenium.webdriver.remote.webelement.WebElement (session=\"73cc497b2260d62a2fc63d2e5bea5aec\", element=\"bedc2f9d-653c-4077-8135-04bb5ed6b2d6\")>,\n",
       " <selenium.webdriver.remote.webelement.WebElement (session=\"73cc497b2260d62a2fc63d2e5bea5aec\", element=\"9f4060f4-c7fc-43f6-beb9-8a88036e416c\")>,\n",
       " <selenium.webdriver.remote.webelement.WebElement (session=\"73cc497b2260d62a2fc63d2e5bea5aec\", element=\"f73119fb-c9a5-47f8-81f8-674f73a17bd6\")>,\n",
       " <selenium.webdriver.remote.webelement.WebElement (session=\"73cc497b2260d62a2fc63d2e5bea5aec\", element=\"99a64526-6e6d-4377-b6cc-4438e79c3a28\")>,\n",
       " <selenium.webdriver.remote.webelement.WebElement (session=\"73cc497b2260d62a2fc63d2e5bea5aec\", element=\"1f2b5835-c6e6-4318-86a0-52064f89a996\")>,\n",
       " <selenium.webdriver.remote.webelement.WebElement (session=\"73cc497b2260d62a2fc63d2e5bea5aec\", element=\"4a9e3b7d-c9b5-4e99-bfa6-f4ec1fe9a287\")>,\n",
       " <selenium.webdriver.remote.webelement.WebElement (session=\"73cc497b2260d62a2fc63d2e5bea5aec\", element=\"400e6060-368a-46bd-aa4d-0f345f1c7a48\")>,\n",
       " <selenium.webdriver.remote.webelement.WebElement (session=\"73cc497b2260d62a2fc63d2e5bea5aec\", element=\"91fe64ab-17d4-431a-9699-7ab0f01a0ada\")>,\n",
       " <selenium.webdriver.remote.webelement.WebElement (session=\"73cc497b2260d62a2fc63d2e5bea5aec\", element=\"270f8881-ced8-47e0-b41b-f16da24eccbe\")>]"
      ]
     },
     "execution_count": 475,
     "metadata": {},
     "output_type": "execute_result"
    }
   ],
   "source": [
    "Rate2=driver8.find_elements_by_xpath(\"//div[@class='_30jeq3']\")\n",
    "Rate2"
   ]
  },
  {
   "cell_type": "code",
   "execution_count": 476,
   "metadata": {
    "collapsed": true
   },
   "outputs": [
    {
     "data": {
      "text/plain": [
       "['₹624',\n",
       " '₹526',\n",
       " '₹398',\n",
       " '₹429',\n",
       " '₹348',\n",
       " '₹499',\n",
       " '₹499',\n",
       " '₹699',\n",
       " '₹449',\n",
       " '₹644',\n",
       " '₹439',\n",
       " '₹849',\n",
       " '₹459',\n",
       " '₹449',\n",
       " '₹445',\n",
       " '₹1,799',\n",
       " '₹469',\n",
       " '₹257',\n",
       " '₹525',\n",
       " '₹474',\n",
       " '₹419',\n",
       " '₹474',\n",
       " '₹474',\n",
       " '₹538',\n",
       " '₹737',\n",
       " '₹599',\n",
       " '₹459',\n",
       " '₹3,709',\n",
       " '₹499',\n",
       " '₹429',\n",
       " '₹699',\n",
       " '₹569',\n",
       " '₹525',\n",
       " '₹474',\n",
       " '₹842',\n",
       " '₹4,079',\n",
       " '₹499',\n",
       " '₹378',\n",
       " '₹395',\n",
       " '₹449']"
      ]
     },
     "execution_count": 476,
     "metadata": {},
     "output_type": "execute_result"
    }
   ],
   "source": [
    "Price2=[]\n",
    "for i in Rate2:\n",
    "    Price2.append(i.text)\n",
    "Price2"
   ]
  },
  {
   "cell_type": "code",
   "execution_count": 477,
   "metadata": {
    "collapsed": true
   },
   "outputs": [
    {
     "data": {
      "text/plain": [
       "[<selenium.webdriver.remote.webelement.WebElement (session=\"73cc497b2260d62a2fc63d2e5bea5aec\", element=\"3a84a21f-4d15-40b2-9d33-5ea7c203f9c4\")>,\n",
       " <selenium.webdriver.remote.webelement.WebElement (session=\"73cc497b2260d62a2fc63d2e5bea5aec\", element=\"23f7ca63-0e90-4a80-8390-92950d79bebd\")>,\n",
       " <selenium.webdriver.remote.webelement.WebElement (session=\"73cc497b2260d62a2fc63d2e5bea5aec\", element=\"e81c3034-dc18-4617-a9ac-fca011cdb710\")>,\n",
       " <selenium.webdriver.remote.webelement.WebElement (session=\"73cc497b2260d62a2fc63d2e5bea5aec\", element=\"c4d47926-6f96-4bfd-85e7-4e27cc72a7c2\")>,\n",
       " <selenium.webdriver.remote.webelement.WebElement (session=\"73cc497b2260d62a2fc63d2e5bea5aec\", element=\"12ce8bcf-8e35-4c0e-b0f4-c926953332c3\")>,\n",
       " <selenium.webdriver.remote.webelement.WebElement (session=\"73cc497b2260d62a2fc63d2e5bea5aec\", element=\"cf57add6-7dd7-4c7c-9d65-23e58ae5b946\")>,\n",
       " <selenium.webdriver.remote.webelement.WebElement (session=\"73cc497b2260d62a2fc63d2e5bea5aec\", element=\"4d913698-9146-4b82-84ad-c1f927aec142\")>,\n",
       " <selenium.webdriver.remote.webelement.WebElement (session=\"73cc497b2260d62a2fc63d2e5bea5aec\", element=\"8dffc4c6-54ac-4ae8-b819-58c361fcb710\")>,\n",
       " <selenium.webdriver.remote.webelement.WebElement (session=\"73cc497b2260d62a2fc63d2e5bea5aec\", element=\"cf9add8f-7c68-4b2f-8fc5-08274ac55049\")>,\n",
       " <selenium.webdriver.remote.webelement.WebElement (session=\"73cc497b2260d62a2fc63d2e5bea5aec\", element=\"23aa094c-f87f-43df-aa7e-e1bf7fb08ae3\")>,\n",
       " <selenium.webdriver.remote.webelement.WebElement (session=\"73cc497b2260d62a2fc63d2e5bea5aec\", element=\"a37b44a3-7163-4a1b-a217-5446e3fa9d06\")>,\n",
       " <selenium.webdriver.remote.webelement.WebElement (session=\"73cc497b2260d62a2fc63d2e5bea5aec\", element=\"cfa88561-a065-4511-a805-3563647cd3cf\")>,\n",
       " <selenium.webdriver.remote.webelement.WebElement (session=\"73cc497b2260d62a2fc63d2e5bea5aec\", element=\"14b480fd-9295-49a7-93ae-4d2dee3136a1\")>,\n",
       " <selenium.webdriver.remote.webelement.WebElement (session=\"73cc497b2260d62a2fc63d2e5bea5aec\", element=\"a1172f87-f1d2-457a-88ef-ed01087bf8dd\")>,\n",
       " <selenium.webdriver.remote.webelement.WebElement (session=\"73cc497b2260d62a2fc63d2e5bea5aec\", element=\"601a716d-2280-487a-adcc-2a86bbe85461\")>,\n",
       " <selenium.webdriver.remote.webelement.WebElement (session=\"73cc497b2260d62a2fc63d2e5bea5aec\", element=\"274946d2-4fb8-45ba-aa1e-b3fbd2137b1c\")>,\n",
       " <selenium.webdriver.remote.webelement.WebElement (session=\"73cc497b2260d62a2fc63d2e5bea5aec\", element=\"eb61e38d-ee7c-49c8-9ff1-bae3016aa2dd\")>,\n",
       " <selenium.webdriver.remote.webelement.WebElement (session=\"73cc497b2260d62a2fc63d2e5bea5aec\", element=\"35b421f5-f406-4d55-9bc0-a09976ef7e34\")>,\n",
       " <selenium.webdriver.remote.webelement.WebElement (session=\"73cc497b2260d62a2fc63d2e5bea5aec\", element=\"8d94e985-e3f9-417c-8e17-b7b5e99a5bd4\")>,\n",
       " <selenium.webdriver.remote.webelement.WebElement (session=\"73cc497b2260d62a2fc63d2e5bea5aec\", element=\"66bde2c9-5755-435e-9d4c-a85352ad5cc2\")>,\n",
       " <selenium.webdriver.remote.webelement.WebElement (session=\"73cc497b2260d62a2fc63d2e5bea5aec\", element=\"a483dc0b-a9a8-4f10-aaae-13fe0cbc429b\")>,\n",
       " <selenium.webdriver.remote.webelement.WebElement (session=\"73cc497b2260d62a2fc63d2e5bea5aec\", element=\"42a90cf7-4406-4f1f-aa3f-b4397f597ef4\")>,\n",
       " <selenium.webdriver.remote.webelement.WebElement (session=\"73cc497b2260d62a2fc63d2e5bea5aec\", element=\"4fac2c07-3780-4539-ab93-8f9efcba2269\")>,\n",
       " <selenium.webdriver.remote.webelement.WebElement (session=\"73cc497b2260d62a2fc63d2e5bea5aec\", element=\"27a2fd05-23b4-4262-a823-d4e58f9abe76\")>,\n",
       " <selenium.webdriver.remote.webelement.WebElement (session=\"73cc497b2260d62a2fc63d2e5bea5aec\", element=\"157a8ab6-a684-4e82-bba9-9b755185400c\")>,\n",
       " <selenium.webdriver.remote.webelement.WebElement (session=\"73cc497b2260d62a2fc63d2e5bea5aec\", element=\"5da8b45e-92bb-44e1-b104-43108628c698\")>,\n",
       " <selenium.webdriver.remote.webelement.WebElement (session=\"73cc497b2260d62a2fc63d2e5bea5aec\", element=\"e3fdcb6c-3829-4f17-9686-7fb2599c3f88\")>,\n",
       " <selenium.webdriver.remote.webelement.WebElement (session=\"73cc497b2260d62a2fc63d2e5bea5aec\", element=\"5165f2d5-3d43-4197-a49d-7f5524afdfab\")>,\n",
       " <selenium.webdriver.remote.webelement.WebElement (session=\"73cc497b2260d62a2fc63d2e5bea5aec\", element=\"af747b4f-74ea-48b2-a95f-4b65f400f602\")>,\n",
       " <selenium.webdriver.remote.webelement.WebElement (session=\"73cc497b2260d62a2fc63d2e5bea5aec\", element=\"f672093a-9962-40d4-815e-1fa551ba4827\")>,\n",
       " <selenium.webdriver.remote.webelement.WebElement (session=\"73cc497b2260d62a2fc63d2e5bea5aec\", element=\"8d5787ef-93b8-414a-a73a-0b6ce1daa71d\")>,\n",
       " <selenium.webdriver.remote.webelement.WebElement (session=\"73cc497b2260d62a2fc63d2e5bea5aec\", element=\"368d1475-2bc0-4710-9dc1-8d3145367ca9\")>,\n",
       " <selenium.webdriver.remote.webelement.WebElement (session=\"73cc497b2260d62a2fc63d2e5bea5aec\", element=\"7750e7e4-c418-4376-9828-5decebe0745a\")>,\n",
       " <selenium.webdriver.remote.webelement.WebElement (session=\"73cc497b2260d62a2fc63d2e5bea5aec\", element=\"d2b3839d-8d23-4849-9337-b5fecb5935b0\")>,\n",
       " <selenium.webdriver.remote.webelement.WebElement (session=\"73cc497b2260d62a2fc63d2e5bea5aec\", element=\"28d99b0a-e14b-4a06-9464-f5eba3b3ba9e\")>,\n",
       " <selenium.webdriver.remote.webelement.WebElement (session=\"73cc497b2260d62a2fc63d2e5bea5aec\", element=\"9af46d11-c775-4ff1-b162-e6bc0eea6757\")>,\n",
       " <selenium.webdriver.remote.webelement.WebElement (session=\"73cc497b2260d62a2fc63d2e5bea5aec\", element=\"abdff0f0-c593-4442-8da9-3ad8576f08cb\")>,\n",
       " <selenium.webdriver.remote.webelement.WebElement (session=\"73cc497b2260d62a2fc63d2e5bea5aec\", element=\"842212af-11d5-4c55-9486-794bfd60740a\")>,\n",
       " <selenium.webdriver.remote.webelement.WebElement (session=\"73cc497b2260d62a2fc63d2e5bea5aec\", element=\"75053895-aa61-4fb5-b86b-1b851bd76b64\")>,\n",
       " <selenium.webdriver.remote.webelement.WebElement (session=\"73cc497b2260d62a2fc63d2e5bea5aec\", element=\"91b516df-e4ca-448b-a55f-b82a4e230795\")>]"
      ]
     },
     "execution_count": 477,
     "metadata": {},
     "output_type": "execute_result"
    }
   ],
   "source": [
    "Disc2=driver8.find_elements_by_xpath(\"//div[@class='_3Ay6Sb']\")\n",
    "Disc2"
   ]
  },
  {
   "cell_type": "code",
   "execution_count": 478,
   "metadata": {
    "collapsed": true
   },
   "outputs": [
    {
     "data": {
      "text/plain": [
       "['75% off',\n",
       " '78% off',\n",
       " '60% off',\n",
       " '71% off',\n",
       " '65% off',\n",
       " '50% off',\n",
       " '50% off',\n",
       " '56% off',\n",
       " '55% off',\n",
       " '14% off',\n",
       " '66% off',\n",
       " '43% off',\n",
       " '54% off',\n",
       " '65% off',\n",
       " '77% off',\n",
       " '55% off',\n",
       " '63% off',\n",
       " '48% off',\n",
       " '47% off',\n",
       " '76% off',\n",
       " '79% off',\n",
       " '52% off',\n",
       " '52% off',\n",
       " '46% off',\n",
       " '18% off',\n",
       " '60% off',\n",
       " '54% off',\n",
       " '47% off',\n",
       " '50% off',\n",
       " '78% off',\n",
       " '56% off',\n",
       " '40% off',\n",
       " '47% off',\n",
       " '52% off',\n",
       " '66% off',\n",
       " '49% off',\n",
       " '50% off',\n",
       " '70% off',\n",
       " '50% off',\n",
       " '55% off']"
      ]
     },
     "execution_count": 478,
     "metadata": {},
     "output_type": "execute_result"
    }
   ],
   "source": [
    "Percentdiscount2=[]\n",
    "for i in Disc2:\n",
    "    Percentdiscount2.append(i.text)\n",
    "Percentdiscount2"
   ]
  },
  {
   "cell_type": "code",
   "execution_count": 481,
   "metadata": {
    "collapsed": true
   },
   "outputs": [
    {
     "data": {
      "text/plain": [
       "[<selenium.webdriver.remote.webelement.WebElement (session=\"73cc497b2260d62a2fc63d2e5bea5aec\", element=\"090f9826-f758-4c0c-8654-d1e20e9e88bc\")>,\n",
       " <selenium.webdriver.remote.webelement.WebElement (session=\"73cc497b2260d62a2fc63d2e5bea5aec\", element=\"4e78f38e-9e7f-4aec-8314-fe649f8cebcc\")>,\n",
       " <selenium.webdriver.remote.webelement.WebElement (session=\"73cc497b2260d62a2fc63d2e5bea5aec\", element=\"9c400e72-f79e-4236-a08c-9cb13b86a82c\")>,\n",
       " <selenium.webdriver.remote.webelement.WebElement (session=\"73cc497b2260d62a2fc63d2e5bea5aec\", element=\"09d50998-4b36-4e83-aefc-20b384390de9\")>,\n",
       " <selenium.webdriver.remote.webelement.WebElement (session=\"73cc497b2260d62a2fc63d2e5bea5aec\", element=\"60e892d2-3531-43b7-ad3d-c066b827e6e8\")>,\n",
       " <selenium.webdriver.remote.webelement.WebElement (session=\"73cc497b2260d62a2fc63d2e5bea5aec\", element=\"4df65783-f7ce-42a5-89ab-d9266ddaea9f\")>,\n",
       " <selenium.webdriver.remote.webelement.WebElement (session=\"73cc497b2260d62a2fc63d2e5bea5aec\", element=\"3600cf36-b7ec-4b88-93f8-b5f81d6b64d9\")>,\n",
       " <selenium.webdriver.remote.webelement.WebElement (session=\"73cc497b2260d62a2fc63d2e5bea5aec\", element=\"0e40932b-2231-41d5-9d17-1837f4de8602\")>,\n",
       " <selenium.webdriver.remote.webelement.WebElement (session=\"73cc497b2260d62a2fc63d2e5bea5aec\", element=\"8d72e70d-3a59-4bd1-9620-905d172afe85\")>,\n",
       " <selenium.webdriver.remote.webelement.WebElement (session=\"73cc497b2260d62a2fc63d2e5bea5aec\", element=\"b74e754b-05dc-4796-a048-c4d53078e362\")>,\n",
       " <selenium.webdriver.remote.webelement.WebElement (session=\"73cc497b2260d62a2fc63d2e5bea5aec\", element=\"4a9f9dbb-c0b5-4e96-b943-b1848968b415\")>,\n",
       " <selenium.webdriver.remote.webelement.WebElement (session=\"73cc497b2260d62a2fc63d2e5bea5aec\", element=\"a988556b-b1ce-4a25-a00e-7fd3c5887e68\")>,\n",
       " <selenium.webdriver.remote.webelement.WebElement (session=\"73cc497b2260d62a2fc63d2e5bea5aec\", element=\"31600a2a-6ba4-4650-a8dd-8766407540eb\")>,\n",
       " <selenium.webdriver.remote.webelement.WebElement (session=\"73cc497b2260d62a2fc63d2e5bea5aec\", element=\"3d62d409-0477-4542-ae9a-99240346399a\")>,\n",
       " <selenium.webdriver.remote.webelement.WebElement (session=\"73cc497b2260d62a2fc63d2e5bea5aec\", element=\"d4f9e4d9-5563-441a-be75-b2b49a87a36e\")>,\n",
       " <selenium.webdriver.remote.webelement.WebElement (session=\"73cc497b2260d62a2fc63d2e5bea5aec\", element=\"e0cc34ad-338c-4029-aaab-24f996bb364d\")>,\n",
       " <selenium.webdriver.remote.webelement.WebElement (session=\"73cc497b2260d62a2fc63d2e5bea5aec\", element=\"02ee3648-19ea-45a0-a998-dd75763acf8e\")>,\n",
       " <selenium.webdriver.remote.webelement.WebElement (session=\"73cc497b2260d62a2fc63d2e5bea5aec\", element=\"9ac79eb1-7163-4331-8298-83264485b2b6\")>,\n",
       " <selenium.webdriver.remote.webelement.WebElement (session=\"73cc497b2260d62a2fc63d2e5bea5aec\", element=\"285c3930-a57e-4697-ac47-83dc56431c76\")>,\n",
       " <selenium.webdriver.remote.webelement.WebElement (session=\"73cc497b2260d62a2fc63d2e5bea5aec\", element=\"292b4baa-77ff-4090-a98a-ad1a29640c26\")>,\n",
       " <selenium.webdriver.remote.webelement.WebElement (session=\"73cc497b2260d62a2fc63d2e5bea5aec\", element=\"e05ff4e3-8c5a-40ab-978c-f2bac5808cbf\")>,\n",
       " <selenium.webdriver.remote.webelement.WebElement (session=\"73cc497b2260d62a2fc63d2e5bea5aec\", element=\"bae7cae9-992d-4b7d-8121-be6e7679a6ef\")>,\n",
       " <selenium.webdriver.remote.webelement.WebElement (session=\"73cc497b2260d62a2fc63d2e5bea5aec\", element=\"d7532a6b-b3c6-4f46-ba88-79662d83b57b\")>,\n",
       " <selenium.webdriver.remote.webelement.WebElement (session=\"73cc497b2260d62a2fc63d2e5bea5aec\", element=\"63f5646c-a8b5-4ec5-be2e-ce5503b68a2d\")>,\n",
       " <selenium.webdriver.remote.webelement.WebElement (session=\"73cc497b2260d62a2fc63d2e5bea5aec\", element=\"6cba7ef0-79d4-48f1-8048-24b67fd433d3\")>,\n",
       " <selenium.webdriver.remote.webelement.WebElement (session=\"73cc497b2260d62a2fc63d2e5bea5aec\", element=\"9ae5080a-df87-4119-884d-826c38d9c2b0\")>,\n",
       " <selenium.webdriver.remote.webelement.WebElement (session=\"73cc497b2260d62a2fc63d2e5bea5aec\", element=\"f1363736-ee0d-4eb5-89b9-d036658935e7\")>,\n",
       " <selenium.webdriver.remote.webelement.WebElement (session=\"73cc497b2260d62a2fc63d2e5bea5aec\", element=\"e6946926-c132-46c4-85a8-8ad965097e5d\")>,\n",
       " <selenium.webdriver.remote.webelement.WebElement (session=\"73cc497b2260d62a2fc63d2e5bea5aec\", element=\"3b80ce5d-d20c-43da-87fd-1a9fe3162d56\")>,\n",
       " <selenium.webdriver.remote.webelement.WebElement (session=\"73cc497b2260d62a2fc63d2e5bea5aec\", element=\"f1f24a60-6e75-46ea-9c02-d8d9c1bef50a\")>,\n",
       " <selenium.webdriver.remote.webelement.WebElement (session=\"73cc497b2260d62a2fc63d2e5bea5aec\", element=\"82621966-89c5-4de7-b146-894784266d29\")>,\n",
       " <selenium.webdriver.remote.webelement.WebElement (session=\"73cc497b2260d62a2fc63d2e5bea5aec\", element=\"4ecf174b-a06e-4a87-84f0-164b7e0bd21b\")>,\n",
       " <selenium.webdriver.remote.webelement.WebElement (session=\"73cc497b2260d62a2fc63d2e5bea5aec\", element=\"240b0c30-7abf-4b84-b860-d631d636f2e9\")>,\n",
       " <selenium.webdriver.remote.webelement.WebElement (session=\"73cc497b2260d62a2fc63d2e5bea5aec\", element=\"815fa853-bb06-457e-8eac-52d93d3cb6a4\")>,\n",
       " <selenium.webdriver.remote.webelement.WebElement (session=\"73cc497b2260d62a2fc63d2e5bea5aec\", element=\"c65e3c92-2eca-4654-8096-05777f29b9de\")>,\n",
       " <selenium.webdriver.remote.webelement.WebElement (session=\"73cc497b2260d62a2fc63d2e5bea5aec\", element=\"4c968bfd-3aa4-4ff5-ae10-09189e1a3478\")>,\n",
       " <selenium.webdriver.remote.webelement.WebElement (session=\"73cc497b2260d62a2fc63d2e5bea5aec\", element=\"8e349bbf-c374-47cf-9a97-98a046a9a4dc\")>,\n",
       " <selenium.webdriver.remote.webelement.WebElement (session=\"73cc497b2260d62a2fc63d2e5bea5aec\", element=\"0a8b4a06-da0f-42db-899c-ca11100f929d\")>,\n",
       " <selenium.webdriver.remote.webelement.WebElement (session=\"73cc497b2260d62a2fc63d2e5bea5aec\", element=\"73d69d78-d924-4a48-ad55-3a5a7d8197d1\")>,\n",
       " <selenium.webdriver.remote.webelement.WebElement (session=\"73cc497b2260d62a2fc63d2e5bea5aec\", element=\"6289b1f6-a068-4ab8-8601-19a6c7592ced\")>]"
      ]
     },
     "execution_count": 481,
     "metadata": {},
     "output_type": "execute_result"
    }
   ],
   "source": [
    "B3=driver8.find_elements_by_xpath(\"//div[@class='_2WkVRV']\")\n",
    "B3"
   ]
  },
  {
   "cell_type": "code",
   "execution_count": 482,
   "metadata": {
    "collapsed": true
   },
   "outputs": [
    {
     "data": {
      "text/plain": [
       "['Robbie jones',\n",
       " 'BIRDE',\n",
       " 'WRIZT',\n",
       " 'ZF - ALFIYA',\n",
       " 'BIRDE',\n",
       " 'SEGA',\n",
       " 'LuvShus',\n",
       " 'Vigglo Fashion',\n",
       " 'tigonis',\n",
       " 'Chevit',\n",
       " 'T-ROCK',\n",
       " 'PUMA',\n",
       " 'HOC',\n",
       " 'U.S. POLO ASSN.',\n",
       " 'Englewood',\n",
       " 'PUMA',\n",
       " 'ganpati traders',\n",
       " 'PUMA',\n",
       " 'Numenzo',\n",
       " 'PUMA',\n",
       " 'Nobelite',\n",
       " 'BIRDE',\n",
       " 'Magnolia',\n",
       " 'PUMA',\n",
       " 'Zorth',\n",
       " 'Labbin',\n",
       " 'BRUTON',\n",
       " \"Khadim's\",\n",
       " 'PEXLO',\n",
       " 'RODDICK SHOES',\n",
       " 'HRX by Hrithik Roshan',\n",
       " 'Real Brothers',\n",
       " 'PUMA',\n",
       " 'D-SNEAKERZ',\n",
       " 'Zsyto',\n",
       " 'PUMA',\n",
       " 'HOCKWOOD',\n",
       " 'PUMA',\n",
       " 'Zorth',\n",
       " 'Chevit']"
      ]
     },
     "execution_count": 482,
     "metadata": {},
     "output_type": "execute_result"
    }
   ],
   "source": [
    "Brand3=[]\n",
    "for i in B3:\n",
    "    Brand3.append(i.text)\n",
    "Brand3"
   ]
  },
  {
   "cell_type": "code",
   "execution_count": 483,
   "metadata": {
    "collapsed": true
   },
   "outputs": [
    {
     "data": {
      "text/plain": [
       "[<selenium.webdriver.remote.webelement.WebElement (session=\"73cc497b2260d62a2fc63d2e5bea5aec\", element=\"0c1d2d40-db7a-4222-85c1-247c7fcb91b6\")>,\n",
       " <selenium.webdriver.remote.webelement.WebElement (session=\"73cc497b2260d62a2fc63d2e5bea5aec\", element=\"01730862-7247-428f-a458-6fbf0ec062c2\")>,\n",
       " <selenium.webdriver.remote.webelement.WebElement (session=\"73cc497b2260d62a2fc63d2e5bea5aec\", element=\"9e1a0d3e-e139-49d9-8754-42bcd1f2a816\")>,\n",
       " <selenium.webdriver.remote.webelement.WebElement (session=\"73cc497b2260d62a2fc63d2e5bea5aec\", element=\"b037a483-100d-4189-bac7-0ab8a44b1c63\")>,\n",
       " <selenium.webdriver.remote.webelement.WebElement (session=\"73cc497b2260d62a2fc63d2e5bea5aec\", element=\"c60c572d-c26f-4fe0-87f1-5024452a0989\")>,\n",
       " <selenium.webdriver.remote.webelement.WebElement (session=\"73cc497b2260d62a2fc63d2e5bea5aec\", element=\"46ba6e71-812b-4dd9-a34a-68a088de422d\")>,\n",
       " <selenium.webdriver.remote.webelement.WebElement (session=\"73cc497b2260d62a2fc63d2e5bea5aec\", element=\"efe7174b-e578-4a00-b884-db4a02d4b55a\")>,\n",
       " <selenium.webdriver.remote.webelement.WebElement (session=\"73cc497b2260d62a2fc63d2e5bea5aec\", element=\"78f7df05-edc5-4afa-9023-fdfd522dbf6d\")>,\n",
       " <selenium.webdriver.remote.webelement.WebElement (session=\"73cc497b2260d62a2fc63d2e5bea5aec\", element=\"074be1ad-a3fb-4813-a0c4-77ff589e8c30\")>,\n",
       " <selenium.webdriver.remote.webelement.WebElement (session=\"73cc497b2260d62a2fc63d2e5bea5aec\", element=\"e526676a-ce4d-4662-9cf4-042ee3ec6161\")>,\n",
       " <selenium.webdriver.remote.webelement.WebElement (session=\"73cc497b2260d62a2fc63d2e5bea5aec\", element=\"f3f71e57-5f00-4570-8648-0fda634cb23c\")>,\n",
       " <selenium.webdriver.remote.webelement.WebElement (session=\"73cc497b2260d62a2fc63d2e5bea5aec\", element=\"d767be0e-bc0b-4d6c-85ef-0b8c2aa76e76\")>,\n",
       " <selenium.webdriver.remote.webelement.WebElement (session=\"73cc497b2260d62a2fc63d2e5bea5aec\", element=\"50892322-7e0a-4291-b8c7-df534decd39e\")>,\n",
       " <selenium.webdriver.remote.webelement.WebElement (session=\"73cc497b2260d62a2fc63d2e5bea5aec\", element=\"561d854b-a737-49b3-9bf4-45a3f579a503\")>,\n",
       " <selenium.webdriver.remote.webelement.WebElement (session=\"73cc497b2260d62a2fc63d2e5bea5aec\", element=\"07b28999-5940-41ea-9003-3ba6b53f265d\")>,\n",
       " <selenium.webdriver.remote.webelement.WebElement (session=\"73cc497b2260d62a2fc63d2e5bea5aec\", element=\"86d237f1-f002-43af-9bda-0729c62d6501\")>,\n",
       " <selenium.webdriver.remote.webelement.WebElement (session=\"73cc497b2260d62a2fc63d2e5bea5aec\", element=\"b56f77f5-897d-4a4c-9c7f-7836304f25f1\")>,\n",
       " <selenium.webdriver.remote.webelement.WebElement (session=\"73cc497b2260d62a2fc63d2e5bea5aec\", element=\"910fa528-8c5f-43d4-8d3c-773fd326e2ac\")>,\n",
       " <selenium.webdriver.remote.webelement.WebElement (session=\"73cc497b2260d62a2fc63d2e5bea5aec\", element=\"ed5ba413-beab-4bd1-a7a1-598efd8baa65\")>,\n",
       " <selenium.webdriver.remote.webelement.WebElement (session=\"73cc497b2260d62a2fc63d2e5bea5aec\", element=\"f3f5e41a-025d-49cd-ac9b-979a7db4df4f\")>,\n",
       " <selenium.webdriver.remote.webelement.WebElement (session=\"73cc497b2260d62a2fc63d2e5bea5aec\", element=\"4254257d-7d0f-4d1c-a98e-1153e62b67d7\")>,\n",
       " <selenium.webdriver.remote.webelement.WebElement (session=\"73cc497b2260d62a2fc63d2e5bea5aec\", element=\"e70de733-a696-4369-a53a-e4f07f49e0c3\")>,\n",
       " <selenium.webdriver.remote.webelement.WebElement (session=\"73cc497b2260d62a2fc63d2e5bea5aec\", element=\"3a7be457-24f2-4103-b052-8d36ca44c9f4\")>,\n",
       " <selenium.webdriver.remote.webelement.WebElement (session=\"73cc497b2260d62a2fc63d2e5bea5aec\", element=\"62ce86c0-1ec5-468f-ac1a-03d3a24df01e\")>,\n",
       " <selenium.webdriver.remote.webelement.WebElement (session=\"73cc497b2260d62a2fc63d2e5bea5aec\", element=\"d7aed900-c8ca-4c41-93d7-db479e308405\")>,\n",
       " <selenium.webdriver.remote.webelement.WebElement (session=\"73cc497b2260d62a2fc63d2e5bea5aec\", element=\"80eb9c8f-06e6-4509-ba9c-7238ee4611b1\")>,\n",
       " <selenium.webdriver.remote.webelement.WebElement (session=\"73cc497b2260d62a2fc63d2e5bea5aec\", element=\"719f313c-8279-4254-b0e5-d3a6cfd06b8f\")>,\n",
       " <selenium.webdriver.remote.webelement.WebElement (session=\"73cc497b2260d62a2fc63d2e5bea5aec\", element=\"5069bfc0-5bc1-4ecc-b879-96a5c557b362\")>,\n",
       " <selenium.webdriver.remote.webelement.WebElement (session=\"73cc497b2260d62a2fc63d2e5bea5aec\", element=\"e9733b0d-35bc-46f8-81fd-9ec1fe7c5d0c\")>,\n",
       " <selenium.webdriver.remote.webelement.WebElement (session=\"73cc497b2260d62a2fc63d2e5bea5aec\", element=\"318a1bae-45ef-4809-a248-654453b52478\")>,\n",
       " <selenium.webdriver.remote.webelement.WebElement (session=\"73cc497b2260d62a2fc63d2e5bea5aec\", element=\"1e368c5f-2651-4a29-a7f9-05d2c34a3327\")>,\n",
       " <selenium.webdriver.remote.webelement.WebElement (session=\"73cc497b2260d62a2fc63d2e5bea5aec\", element=\"542dad17-3fb5-409c-a28e-7f275b7bb41e\")>,\n",
       " <selenium.webdriver.remote.webelement.WebElement (session=\"73cc497b2260d62a2fc63d2e5bea5aec\", element=\"c483a153-5184-4644-9dcf-f3c3e6389bf6\")>,\n",
       " <selenium.webdriver.remote.webelement.WebElement (session=\"73cc497b2260d62a2fc63d2e5bea5aec\", element=\"fb513f24-ab10-4abc-815a-c8702f6155e2\")>,\n",
       " <selenium.webdriver.remote.webelement.WebElement (session=\"73cc497b2260d62a2fc63d2e5bea5aec\", element=\"1627b6fa-94f7-4875-ae6d-22163dd809f4\")>,\n",
       " <selenium.webdriver.remote.webelement.WebElement (session=\"73cc497b2260d62a2fc63d2e5bea5aec\", element=\"c792a00f-635d-4d07-a826-05a63613fbee\")>,\n",
       " <selenium.webdriver.remote.webelement.WebElement (session=\"73cc497b2260d62a2fc63d2e5bea5aec\", element=\"01017761-d70b-41fc-91ec-b6e08d55bb8a\")>,\n",
       " <selenium.webdriver.remote.webelement.WebElement (session=\"73cc497b2260d62a2fc63d2e5bea5aec\", element=\"eaeb7232-5093-4108-97a6-eb021e26039c\")>,\n",
       " <selenium.webdriver.remote.webelement.WebElement (session=\"73cc497b2260d62a2fc63d2e5bea5aec\", element=\"3d98535c-ec4a-4bfe-ae3d-984d6ce5ad25\")>,\n",
       " <selenium.webdriver.remote.webelement.WebElement (session=\"73cc497b2260d62a2fc63d2e5bea5aec\", element=\"4bd24643-630e-40e8-bdeb-8d2384d97660\")>]"
      ]
     },
     "execution_count": 483,
     "metadata": {},
     "output_type": "execute_result"
    }
   ],
   "source": [
    "Description3=driver8.find_elements_by_xpath(\"//div[@class='_2B099V']/a['title'][1]\")\n",
    "Description3"
   ]
  },
  {
   "cell_type": "code",
   "execution_count": 484,
   "metadata": {
    "collapsed": true
   },
   "outputs": [
    {
     "data": {
      "text/plain": [
       "['Casual Sneakers Green Shoes For Men And Boys Sneakers F...',\n",
       " 'Sneakers For Men',\n",
       " 'Casual Sneakers,dancing, walking Sneakers For Men',\n",
       " 'Sneakers For Men',\n",
       " 'Trendy Casual Shoes Sneakers For Men',\n",
       " 'Sneakers For Men',\n",
       " 'Men Casual Shoe New Trend With Fashion Panda Desgined L...',\n",
       " 'Height Increasing elevator Sneaker for men in black col...',\n",
       " 'Sneakers For Men',\n",
       " 'Unique & Perfect Collection Combo Pack of 02 Shoes for ...',\n",
       " 'Synthetic Leather Casual Partywear Wedding Sneakers Sho...',\n",
       " 'Puma Smash Vulc Sneakers For Men',\n",
       " 'Luxury Fashionable Breathable Casual Sneakers Shoes For...',\n",
       " 'MONTON3.0 Sneakers For Men',\n",
       " 'Sneakers For Men',\n",
       " 'Rebound LayUp Lo SL Sneakers For Men',\n",
       " 'Sneakers For Men',\n",
       " 'X-Ray Millenium Sneakers For Men',\n",
       " 'Sneakers For Men',\n",
       " 'R78 SL Sneakers For Men',\n",
       " 'Sneakers For Men',\n",
       " 'Birde Trendy Casual Shoes Sneakers For Men',\n",
       " 'White Sneakers Sneakers For Men',\n",
       " 'Pacer Max V1 IDP Sneakers For Men',\n",
       " 'New Fashion Outdoor Trendy Lightweight Casual,Canvas St...',\n",
       " 'Casual Sneakers White Shoes For Men And Boys Sneakers F...',\n",
       " 'Combo Pack Of 4 Casual Sneaker Shoes For Men Sneakers F...',\n",
       " '46602046690 Sneakers For Men',\n",
       " 'Combo Pack of 3 Casual Sneakers Shoes Sneakers For Men',\n",
       " 'Fashion Outdoor Canvas Casual Light Weight Lace-up Even...',\n",
       " 'Sneakers For Men',\n",
       " 'Sneakers For Men Sneakers For Men',\n",
       " 'ST Activate V2 IDP Sneakers For Men',\n",
       " \"Casual , Partywear Sneakers Shoes For Men's And Boys Re...\",\n",
       " 'Sneakers For Men',\n",
       " 'Puma Flex Renew Sneakers For Men',\n",
       " 'Street Smart Sneakers For Men',\n",
       " 'PUMA X 1DER KL RAHUL Sneakers For Men',\n",
       " 'Sneakers For Men',\n",
       " '171 Smart Tan Lace-Ups Casuals for Men Sneakers For Men']"
      ]
     },
     "execution_count": 484,
     "metadata": {},
     "output_type": "execute_result"
    }
   ],
   "source": [
    "Product_Description3=[]\n",
    "for i in Description3:\n",
    "    Product_Description3.append(i.text)\n",
    "Product_Description3"
   ]
  },
  {
   "cell_type": "code",
   "execution_count": 485,
   "metadata": {
    "collapsed": true
   },
   "outputs": [
    {
     "data": {
      "text/plain": [
       "[<selenium.webdriver.remote.webelement.WebElement (session=\"73cc497b2260d62a2fc63d2e5bea5aec\", element=\"184c509c-c661-4ea9-a50f-1efc253b5d7e\")>,\n",
       " <selenium.webdriver.remote.webelement.WebElement (session=\"73cc497b2260d62a2fc63d2e5bea5aec\", element=\"a22e405e-3697-426a-9cfc-723e1523b81b\")>,\n",
       " <selenium.webdriver.remote.webelement.WebElement (session=\"73cc497b2260d62a2fc63d2e5bea5aec\", element=\"e8687147-6340-47a0-9dc7-1983cfe871e7\")>,\n",
       " <selenium.webdriver.remote.webelement.WebElement (session=\"73cc497b2260d62a2fc63d2e5bea5aec\", element=\"e9035c20-c4a8-4aba-8bf9-a969a2908308\")>,\n",
       " <selenium.webdriver.remote.webelement.WebElement (session=\"73cc497b2260d62a2fc63d2e5bea5aec\", element=\"1eb1d8b8-5528-4818-8028-0e86824e2036\")>,\n",
       " <selenium.webdriver.remote.webelement.WebElement (session=\"73cc497b2260d62a2fc63d2e5bea5aec\", element=\"ddf392f9-dff7-47db-b778-d75cc2796ae8\")>,\n",
       " <selenium.webdriver.remote.webelement.WebElement (session=\"73cc497b2260d62a2fc63d2e5bea5aec\", element=\"da47507f-f85c-4f5c-8e9e-b0a48f7a4355\")>,\n",
       " <selenium.webdriver.remote.webelement.WebElement (session=\"73cc497b2260d62a2fc63d2e5bea5aec\", element=\"ff6bd86a-950c-4569-9580-a1433fdd9706\")>,\n",
       " <selenium.webdriver.remote.webelement.WebElement (session=\"73cc497b2260d62a2fc63d2e5bea5aec\", element=\"f4a23928-c61e-4ea4-93d2-b9989787c462\")>,\n",
       " <selenium.webdriver.remote.webelement.WebElement (session=\"73cc497b2260d62a2fc63d2e5bea5aec\", element=\"a3234d37-add0-46e2-b01d-bbbc018756b1\")>,\n",
       " <selenium.webdriver.remote.webelement.WebElement (session=\"73cc497b2260d62a2fc63d2e5bea5aec\", element=\"83a6bd05-e017-4222-aa3f-e4d44fe1b1c6\")>,\n",
       " <selenium.webdriver.remote.webelement.WebElement (session=\"73cc497b2260d62a2fc63d2e5bea5aec\", element=\"2375affe-aebd-4a27-93d1-ef1f2edb51e9\")>,\n",
       " <selenium.webdriver.remote.webelement.WebElement (session=\"73cc497b2260d62a2fc63d2e5bea5aec\", element=\"07044dc5-4a01-4c11-98f4-dec9b868fcd1\")>,\n",
       " <selenium.webdriver.remote.webelement.WebElement (session=\"73cc497b2260d62a2fc63d2e5bea5aec\", element=\"9dbede0a-2ef1-45ff-a971-6f0f5f15c8b2\")>,\n",
       " <selenium.webdriver.remote.webelement.WebElement (session=\"73cc497b2260d62a2fc63d2e5bea5aec\", element=\"fa577ce8-f1cf-457d-b8d5-35d19d60ae05\")>,\n",
       " <selenium.webdriver.remote.webelement.WebElement (session=\"73cc497b2260d62a2fc63d2e5bea5aec\", element=\"c5217764-5d49-4001-9db2-4249c4853da6\")>,\n",
       " <selenium.webdriver.remote.webelement.WebElement (session=\"73cc497b2260d62a2fc63d2e5bea5aec\", element=\"8f726f6e-d227-4bdb-9e01-5e6206bf3627\")>,\n",
       " <selenium.webdriver.remote.webelement.WebElement (session=\"73cc497b2260d62a2fc63d2e5bea5aec\", element=\"50e2af57-5132-4757-9ef4-6edbfdfa1930\")>,\n",
       " <selenium.webdriver.remote.webelement.WebElement (session=\"73cc497b2260d62a2fc63d2e5bea5aec\", element=\"6876728d-409f-4c82-a2bb-7c6a55951a67\")>,\n",
       " <selenium.webdriver.remote.webelement.WebElement (session=\"73cc497b2260d62a2fc63d2e5bea5aec\", element=\"26254df5-3628-4e21-ad87-a7de1a47d921\")>,\n",
       " <selenium.webdriver.remote.webelement.WebElement (session=\"73cc497b2260d62a2fc63d2e5bea5aec\", element=\"320ef5c3-ae35-46ac-a0bd-229e00011dfb\")>,\n",
       " <selenium.webdriver.remote.webelement.WebElement (session=\"73cc497b2260d62a2fc63d2e5bea5aec\", element=\"76026ef8-e519-4f9b-8e69-df165a536586\")>,\n",
       " <selenium.webdriver.remote.webelement.WebElement (session=\"73cc497b2260d62a2fc63d2e5bea5aec\", element=\"43312420-dfbe-4d18-a43b-90dcdfdf399e\")>,\n",
       " <selenium.webdriver.remote.webelement.WebElement (session=\"73cc497b2260d62a2fc63d2e5bea5aec\", element=\"61a2891d-b6b2-44d3-b94b-0bfeb0033688\")>,\n",
       " <selenium.webdriver.remote.webelement.WebElement (session=\"73cc497b2260d62a2fc63d2e5bea5aec\", element=\"d564e051-a334-44c4-a4c5-a40609d9c81a\")>,\n",
       " <selenium.webdriver.remote.webelement.WebElement (session=\"73cc497b2260d62a2fc63d2e5bea5aec\", element=\"d69ee6e7-b8ef-45e3-8bf6-ebfade8d2724\")>,\n",
       " <selenium.webdriver.remote.webelement.WebElement (session=\"73cc497b2260d62a2fc63d2e5bea5aec\", element=\"82c5bef5-7bcf-4937-9a52-81e8d10c35e7\")>,\n",
       " <selenium.webdriver.remote.webelement.WebElement (session=\"73cc497b2260d62a2fc63d2e5bea5aec\", element=\"23ef4ccd-ee8d-4860-a38b-e93cf000f6f9\")>,\n",
       " <selenium.webdriver.remote.webelement.WebElement (session=\"73cc497b2260d62a2fc63d2e5bea5aec\", element=\"d808a2fb-56df-4127-be66-0c93a41f0b9d\")>,\n",
       " <selenium.webdriver.remote.webelement.WebElement (session=\"73cc497b2260d62a2fc63d2e5bea5aec\", element=\"e05e3cd7-b6ab-4f22-94b4-52c452f6b861\")>,\n",
       " <selenium.webdriver.remote.webelement.WebElement (session=\"73cc497b2260d62a2fc63d2e5bea5aec\", element=\"c8c9aea0-ec17-47a5-914f-80f25e6e95d2\")>,\n",
       " <selenium.webdriver.remote.webelement.WebElement (session=\"73cc497b2260d62a2fc63d2e5bea5aec\", element=\"ca6402b0-2017-4681-91e1-df12e9660637\")>,\n",
       " <selenium.webdriver.remote.webelement.WebElement (session=\"73cc497b2260d62a2fc63d2e5bea5aec\", element=\"bcff388e-7284-4ac7-8f54-952904e12727\")>,\n",
       " <selenium.webdriver.remote.webelement.WebElement (session=\"73cc497b2260d62a2fc63d2e5bea5aec\", element=\"80fbc4f3-c161-4137-80c4-a1af4cfc1c5f\")>,\n",
       " <selenium.webdriver.remote.webelement.WebElement (session=\"73cc497b2260d62a2fc63d2e5bea5aec\", element=\"151d8772-a0b0-47e1-9fdb-4b463d0ee5af\")>,\n",
       " <selenium.webdriver.remote.webelement.WebElement (session=\"73cc497b2260d62a2fc63d2e5bea5aec\", element=\"44dfff9a-4d26-4ec5-9d18-ea8dd74d3acb\")>,\n",
       " <selenium.webdriver.remote.webelement.WebElement (session=\"73cc497b2260d62a2fc63d2e5bea5aec\", element=\"93ba57f8-f6a3-4ccb-896f-89b3775d4c27\")>,\n",
       " <selenium.webdriver.remote.webelement.WebElement (session=\"73cc497b2260d62a2fc63d2e5bea5aec\", element=\"9b08ec67-c404-413a-ad1c-4900e2074e2d\")>,\n",
       " <selenium.webdriver.remote.webelement.WebElement (session=\"73cc497b2260d62a2fc63d2e5bea5aec\", element=\"fe5513ff-630b-41a5-8efc-95ea06f4aec9\")>,\n",
       " <selenium.webdriver.remote.webelement.WebElement (session=\"73cc497b2260d62a2fc63d2e5bea5aec\", element=\"906fe21a-0292-4c70-bf3b-a27ba2b2750c\")>]"
      ]
     },
     "execution_count": 485,
     "metadata": {},
     "output_type": "execute_result"
    }
   ],
   "source": [
    "Rate3=driver8.find_elements_by_xpath(\"//div[@class='_30jeq3']\")\n",
    "Rate3"
   ]
  },
  {
   "cell_type": "code",
   "execution_count": 486,
   "metadata": {
    "collapsed": true
   },
   "outputs": [
    {
     "data": {
      "text/plain": [
       "['₹474',\n",
       " '₹399',\n",
       " '₹299',\n",
       " '₹449',\n",
       " '₹399',\n",
       " '₹615',\n",
       " '₹417',\n",
       " '₹1,400',\n",
       " '₹399',\n",
       " '₹599',\n",
       " '₹379',\n",
       " '₹2,161',\n",
       " '₹398',\n",
       " '₹1,950',\n",
       " '₹475',\n",
       " '₹2,999',\n",
       " '₹183',\n",
       " '₹3,709',\n",
       " '₹499',\n",
       " '₹2,999',\n",
       " '₹619',\n",
       " '₹399',\n",
       " '₹348',\n",
       " '₹1,529',\n",
       " '₹435',\n",
       " '₹379',\n",
       " '₹736',\n",
       " '₹1,279',\n",
       " '₹736',\n",
       " '₹474',\n",
       " '₹2,399',\n",
       " '₹499',\n",
       " '₹1,609',\n",
       " '₹346',\n",
       " '₹378',\n",
       " '₹2,239',\n",
       " '₹664',\n",
       " '₹3,149',\n",
       " '₹435',\n",
       " '₹249']"
      ]
     },
     "execution_count": 486,
     "metadata": {},
     "output_type": "execute_result"
    }
   ],
   "source": [
    "Price3=[]\n",
    "for i in Rate3:\n",
    "    Price3.append(i.text)\n",
    "Price3"
   ]
  },
  {
   "cell_type": "code",
   "execution_count": 487,
   "metadata": {
    "collapsed": true
   },
   "outputs": [
    {
     "data": {
      "text/plain": [
       "[<selenium.webdriver.remote.webelement.WebElement (session=\"73cc497b2260d62a2fc63d2e5bea5aec\", element=\"14b90a7c-09d1-4c9d-ae29-ec3fd75f0a9b\")>,\n",
       " <selenium.webdriver.remote.webelement.WebElement (session=\"73cc497b2260d62a2fc63d2e5bea5aec\", element=\"9d12a747-0d48-4532-93d5-938e35e265e8\")>,\n",
       " <selenium.webdriver.remote.webelement.WebElement (session=\"73cc497b2260d62a2fc63d2e5bea5aec\", element=\"2c8b9a87-e422-4dd1-9ff6-3630f2992ecc\")>,\n",
       " <selenium.webdriver.remote.webelement.WebElement (session=\"73cc497b2260d62a2fc63d2e5bea5aec\", element=\"3aaa2d17-7aa1-4925-8a3c-c95cbb8ad7de\")>,\n",
       " <selenium.webdriver.remote.webelement.WebElement (session=\"73cc497b2260d62a2fc63d2e5bea5aec\", element=\"2cb4efc3-d9c9-4b6c-9c66-15733d007d09\")>,\n",
       " <selenium.webdriver.remote.webelement.WebElement (session=\"73cc497b2260d62a2fc63d2e5bea5aec\", element=\"4f29300b-3b97-4159-8340-1d2a1e297c50\")>,\n",
       " <selenium.webdriver.remote.webelement.WebElement (session=\"73cc497b2260d62a2fc63d2e5bea5aec\", element=\"0d5920ec-ae25-47ba-889c-c46dc6c185b4\")>,\n",
       " <selenium.webdriver.remote.webelement.WebElement (session=\"73cc497b2260d62a2fc63d2e5bea5aec\", element=\"6291f294-e948-443b-9a19-651fcacdd109\")>,\n",
       " <selenium.webdriver.remote.webelement.WebElement (session=\"73cc497b2260d62a2fc63d2e5bea5aec\", element=\"dc75f36a-793a-4940-8e4d-66b70bf2a3ce\")>,\n",
       " <selenium.webdriver.remote.webelement.WebElement (session=\"73cc497b2260d62a2fc63d2e5bea5aec\", element=\"9c20885f-3884-47ae-b350-03512936c5bd\")>,\n",
       " <selenium.webdriver.remote.webelement.WebElement (session=\"73cc497b2260d62a2fc63d2e5bea5aec\", element=\"f3db5899-0883-44b6-9b30-235090c6a42e\")>,\n",
       " <selenium.webdriver.remote.webelement.WebElement (session=\"73cc497b2260d62a2fc63d2e5bea5aec\", element=\"8cb1c858-c693-4b77-962a-6b48e42c22dd\")>,\n",
       " <selenium.webdriver.remote.webelement.WebElement (session=\"73cc497b2260d62a2fc63d2e5bea5aec\", element=\"5674e730-48bf-4637-8a48-022f9ac6fa90\")>,\n",
       " <selenium.webdriver.remote.webelement.WebElement (session=\"73cc497b2260d62a2fc63d2e5bea5aec\", element=\"3960ff1a-9f45-4aa3-a61f-55eca871c44b\")>,\n",
       " <selenium.webdriver.remote.webelement.WebElement (session=\"73cc497b2260d62a2fc63d2e5bea5aec\", element=\"975b7599-b0f6-49af-93fd-5589e6c11943\")>,\n",
       " <selenium.webdriver.remote.webelement.WebElement (session=\"73cc497b2260d62a2fc63d2e5bea5aec\", element=\"076aa446-f041-4f74-84b9-1757b848c63a\")>,\n",
       " <selenium.webdriver.remote.webelement.WebElement (session=\"73cc497b2260d62a2fc63d2e5bea5aec\", element=\"6d6b21af-7ac6-47ce-848e-9f99f0b2eb0d\")>,\n",
       " <selenium.webdriver.remote.webelement.WebElement (session=\"73cc497b2260d62a2fc63d2e5bea5aec\", element=\"fea36d6c-1654-405a-9dba-6524a0c4b3f9\")>,\n",
       " <selenium.webdriver.remote.webelement.WebElement (session=\"73cc497b2260d62a2fc63d2e5bea5aec\", element=\"417e4142-3b30-40d7-aa11-733f886cf8fb\")>,\n",
       " <selenium.webdriver.remote.webelement.WebElement (session=\"73cc497b2260d62a2fc63d2e5bea5aec\", element=\"e6cd710d-2500-48c3-9bf0-c760c4187eb4\")>,\n",
       " <selenium.webdriver.remote.webelement.WebElement (session=\"73cc497b2260d62a2fc63d2e5bea5aec\", element=\"c8a1cbc4-75a7-4598-9c55-7cabde0ddfa8\")>,\n",
       " <selenium.webdriver.remote.webelement.WebElement (session=\"73cc497b2260d62a2fc63d2e5bea5aec\", element=\"bb3ba7c6-6106-402f-b62f-00e2a8d65653\")>,\n",
       " <selenium.webdriver.remote.webelement.WebElement (session=\"73cc497b2260d62a2fc63d2e5bea5aec\", element=\"930c3e76-906c-4ebe-87f0-31dfaf8d7c26\")>,\n",
       " <selenium.webdriver.remote.webelement.WebElement (session=\"73cc497b2260d62a2fc63d2e5bea5aec\", element=\"b30c954a-d6e0-4c14-8ddf-6f9f30816897\")>,\n",
       " <selenium.webdriver.remote.webelement.WebElement (session=\"73cc497b2260d62a2fc63d2e5bea5aec\", element=\"e4bf28d6-1b52-4b4c-92c1-17e82c30e2f2\")>,\n",
       " <selenium.webdriver.remote.webelement.WebElement (session=\"73cc497b2260d62a2fc63d2e5bea5aec\", element=\"47874fad-29c2-4887-b339-34a20f84e24e\")>,\n",
       " <selenium.webdriver.remote.webelement.WebElement (session=\"73cc497b2260d62a2fc63d2e5bea5aec\", element=\"5b8574d0-5de2-4ec8-a9ea-c72a9b72b323\")>,\n",
       " <selenium.webdriver.remote.webelement.WebElement (session=\"73cc497b2260d62a2fc63d2e5bea5aec\", element=\"d470d53a-ac0d-4df7-bfef-71cd960b609d\")>,\n",
       " <selenium.webdriver.remote.webelement.WebElement (session=\"73cc497b2260d62a2fc63d2e5bea5aec\", element=\"4e159776-2086-4fe7-b24a-bec853207252\")>,\n",
       " <selenium.webdriver.remote.webelement.WebElement (session=\"73cc497b2260d62a2fc63d2e5bea5aec\", element=\"19265f39-805e-4bb7-b49a-09c5954f9db3\")>,\n",
       " <selenium.webdriver.remote.webelement.WebElement (session=\"73cc497b2260d62a2fc63d2e5bea5aec\", element=\"97dc98e6-68a2-4b6d-92ec-46f7374dccdd\")>,\n",
       " <selenium.webdriver.remote.webelement.WebElement (session=\"73cc497b2260d62a2fc63d2e5bea5aec\", element=\"b06b17c7-4851-4643-8cf1-13eb33d7ff14\")>,\n",
       " <selenium.webdriver.remote.webelement.WebElement (session=\"73cc497b2260d62a2fc63d2e5bea5aec\", element=\"44d480ca-2a5a-4792-8e03-0cf4b0357261\")>,\n",
       " <selenium.webdriver.remote.webelement.WebElement (session=\"73cc497b2260d62a2fc63d2e5bea5aec\", element=\"54d8951f-c7f4-4c85-8cf5-512193fc0e2b\")>,\n",
       " <selenium.webdriver.remote.webelement.WebElement (session=\"73cc497b2260d62a2fc63d2e5bea5aec\", element=\"2f9909fb-e929-46d5-9916-deb76fad6800\")>,\n",
       " <selenium.webdriver.remote.webelement.WebElement (session=\"73cc497b2260d62a2fc63d2e5bea5aec\", element=\"00c15887-6e5a-4a32-a214-0695f21e548d\")>,\n",
       " <selenium.webdriver.remote.webelement.WebElement (session=\"73cc497b2260d62a2fc63d2e5bea5aec\", element=\"eb9df46e-6785-4999-914b-124a34bb04e8\")>,\n",
       " <selenium.webdriver.remote.webelement.WebElement (session=\"73cc497b2260d62a2fc63d2e5bea5aec\", element=\"caae1cd2-e54a-4a01-ac87-e950b384568f\")>,\n",
       " <selenium.webdriver.remote.webelement.WebElement (session=\"73cc497b2260d62a2fc63d2e5bea5aec\", element=\"9b8344ea-6b46-4345-8a08-cf5041691d46\")>,\n",
       " <selenium.webdriver.remote.webelement.WebElement (session=\"73cc497b2260d62a2fc63d2e5bea5aec\", element=\"ae80c22d-46fd-4ac2-93fc-41105dd8f258\")>]"
      ]
     },
     "execution_count": 487,
     "metadata": {},
     "output_type": "execute_result"
    }
   ],
   "source": [
    "Disc3=driver8.find_elements_by_xpath(\"//div[@class='_3Ay6Sb']\")\n",
    "Disc3"
   ]
  },
  {
   "cell_type": "code",
   "execution_count": 488,
   "metadata": {
    "collapsed": true
   },
   "outputs": [
    {
     "data": {
      "text/plain": [
       "['52% off',\n",
       " '20% off',\n",
       " '70% off',\n",
       " '55% off',\n",
       " '20% off',\n",
       " '38% off',\n",
       " '58% off',\n",
       " '51% off',\n",
       " '77% off',\n",
       " '60% off',\n",
       " '62% off',\n",
       " '43% off',\n",
       " '80% off',\n",
       " '34% off',\n",
       " '68% off',\n",
       " '40% off',\n",
       " '63% off',\n",
       " '47% off',\n",
       " '75% off',\n",
       " '40% off',\n",
       " '69% off',\n",
       " '20% off',\n",
       " '65% off',\n",
       " '66% off',\n",
       " '56% off',\n",
       " '62% off',\n",
       " '81% off',\n",
       " '20% off',\n",
       " '69% off',\n",
       " '52% off',\n",
       " '40% off',\n",
       " '50% off',\n",
       " '54% off',\n",
       " '65% off',\n",
       " '62% off',\n",
       " '44% off',\n",
       " '33% off',\n",
       " '30% off',\n",
       " '56% off',\n",
       " '50% off']"
      ]
     },
     "execution_count": 488,
     "metadata": {},
     "output_type": "execute_result"
    }
   ],
   "source": [
    "Percentdiscount3=[]\n",
    "for i in Disc3:\n",
    "    Percentdiscount3.append(i.text)\n",
    "Percentdiscount3"
   ]
  },
  {
   "cell_type": "code",
   "execution_count": 490,
   "metadata": {
    "collapsed": true
   },
   "outputs": [
    {
     "data": {
      "text/plain": [
       "['Wildcraft',\n",
       " 'Wildcraft',\n",
       " 'BRUTON',\n",
       " 'Magnolia',\n",
       " 'BIRDE',\n",
       " 'BRUTON',\n",
       " 'Numenzo',\n",
       " 'Chevit',\n",
       " 'D-SNEAKERZ',\n",
       " 'India hub',\n",
       " 'luxury fashion',\n",
       " 'PUMA',\n",
       " 'Robbie jones',\n",
       " 'BIRDE',\n",
       " 'Numenzo',\n",
       " 'Bavis',\n",
       " 'HOTSTYLE',\n",
       " 'bluemaker',\n",
       " 'Robbie jones',\n",
       " 'Rzisbo',\n",
       " 'believe',\n",
       " 'Robbie jones',\n",
       " 'Edoeviv',\n",
       " 'RONSON',\n",
       " 'Numenzo',\n",
       " 'Kraasa',\n",
       " 'Chevit',\n",
       " 'Chevit',\n",
       " 'ASTEROID',\n",
       " 'Zsyto',\n",
       " 'ESSENCE',\n",
       " 'PUMA',\n",
       " 'SPARX',\n",
       " 'BRUTON',\n",
       " 'Chevit',\n",
       " 'PUMA',\n",
       " 'SCATCHITE',\n",
       " 'bluemaker',\n",
       " 'BRUTON',\n",
       " 'Chevit',\n",
       " 'BRUTON',\n",
       " 'BRUTON',\n",
       " 'Creer',\n",
       " 'Xtoon',\n",
       " 'Shoes Bank',\n",
       " 'bluemaker',\n",
       " 'bluemaker',\n",
       " 'PEHANOSA',\n",
       " 'Robbie jones',\n",
       " 'SPARX',\n",
       " 'Nilatin',\n",
       " 'Extoes',\n",
       " 'Arohi',\n",
       " 'luxury fashion',\n",
       " 'India hub',\n",
       " 'PUMA',\n",
       " 'Numenzo',\n",
       " 'Airland',\n",
       " 'BIRDE',\n",
       " 'aadi',\n",
       " 'HOC',\n",
       " 'RODDICK SHOES',\n",
       " 'Robbie jones',\n",
       " 'Absolutee shoes',\n",
       " 'SPARX',\n",
       " 'KNIGHT WALKERS',\n",
       " 'zovim',\n",
       " 'PUMA',\n",
       " 'ASTEROID',\n",
       " 'kardam&sons',\n",
       " 'Chevit',\n",
       " 'Paragon',\n",
       " 'BIRDE',\n",
       " 'RODDICK SHOES',\n",
       " 'BIRDE',\n",
       " 'PUMA',\n",
       " 'ESSENCE',\n",
       " 'Zsyto',\n",
       " 'Qtsy',\n",
       " 'believe',\n",
       " 'Robbie jones',\n",
       " 'BIRDE',\n",
       " 'WRIZT',\n",
       " 'ZF - ALFIYA',\n",
       " 'BIRDE',\n",
       " 'SEGA',\n",
       " 'LuvShus',\n",
       " 'Vigglo Fashion',\n",
       " 'tigonis',\n",
       " 'Chevit',\n",
       " 'T-ROCK',\n",
       " 'PUMA',\n",
       " 'HOC',\n",
       " 'U.S. POLO ASSN.',\n",
       " 'Englewood',\n",
       " 'PUMA',\n",
       " 'ganpati traders',\n",
       " 'PUMA',\n",
       " 'Numenzo',\n",
       " 'PUMA',\n",
       " 'Nobelite',\n",
       " 'BIRDE',\n",
       " 'Magnolia',\n",
       " 'PUMA',\n",
       " 'Zorth',\n",
       " 'Labbin',\n",
       " 'BRUTON',\n",
       " \"Khadim's\",\n",
       " 'PEXLO',\n",
       " 'RODDICK SHOES',\n",
       " 'HRX by Hrithik Roshan',\n",
       " 'Real Brothers',\n",
       " 'PUMA',\n",
       " 'D-SNEAKERZ',\n",
       " 'Zsyto',\n",
       " 'PUMA',\n",
       " 'HOCKWOOD',\n",
       " 'PUMA',\n",
       " 'Zorth',\n",
       " 'Chevit']"
      ]
     },
     "execution_count": 490,
     "metadata": {},
     "output_type": "execute_result"
    }
   ],
   "source": [
    "Brand=Brand1+Brand2+Brand3\n",
    "Brand"
   ]
  },
  {
   "cell_type": "code",
   "execution_count": 491,
   "metadata": {
    "collapsed": true
   },
   "outputs": [
    {
     "data": {
      "text/plain": [
       "['₹2,599',\n",
       " '₹2,599',\n",
       " '₹399',\n",
       " '₹398',\n",
       " '₹399',\n",
       " '₹472',\n",
       " '₹499',\n",
       " '₹554',\n",
       " '₹348',\n",
       " '₹499',\n",
       " '₹399',\n",
       " '₹3,360',\n",
       " '₹379',\n",
       " '₹399',\n",
       " '₹449',\n",
       " '₹420',\n",
       " '₹282',\n",
       " '₹499',\n",
       " '₹474',\n",
       " '₹479',\n",
       " '₹449',\n",
       " '₹499',\n",
       " '₹499',\n",
       " '₹474',\n",
       " '₹429',\n",
       " '₹416',\n",
       " '₹599',\n",
       " '₹599',\n",
       " '₹499',\n",
       " '₹418',\n",
       " '₹499',\n",
       " '₹3,127',\n",
       " '₹828',\n",
       " '₹359',\n",
       " '₹249',\n",
       " '₹3,149',\n",
       " '₹398',\n",
       " '₹499',\n",
       " '₹624',\n",
       " '₹526',\n",
       " '₹624',\n",
       " '₹526',\n",
       " '₹398',\n",
       " '₹429',\n",
       " '₹348',\n",
       " '₹499',\n",
       " '₹499',\n",
       " '₹699',\n",
       " '₹449',\n",
       " '₹644',\n",
       " '₹439',\n",
       " '₹849',\n",
       " '₹459',\n",
       " '₹449',\n",
       " '₹445',\n",
       " '₹1,799',\n",
       " '₹469',\n",
       " '₹257',\n",
       " '₹525',\n",
       " '₹474',\n",
       " '₹419',\n",
       " '₹474',\n",
       " '₹474',\n",
       " '₹538',\n",
       " '₹737',\n",
       " '₹599',\n",
       " '₹459',\n",
       " '₹3,709',\n",
       " '₹499',\n",
       " '₹429',\n",
       " '₹699',\n",
       " '₹569',\n",
       " '₹525',\n",
       " '₹474',\n",
       " '₹842',\n",
       " '₹4,079',\n",
       " '₹499',\n",
       " '₹378',\n",
       " '₹395',\n",
       " '₹449',\n",
       " '₹474',\n",
       " '₹399',\n",
       " '₹299',\n",
       " '₹449',\n",
       " '₹399',\n",
       " '₹615',\n",
       " '₹417',\n",
       " '₹1,400',\n",
       " '₹399',\n",
       " '₹599',\n",
       " '₹379',\n",
       " '₹2,161',\n",
       " '₹398',\n",
       " '₹1,950',\n",
       " '₹475',\n",
       " '₹2,999',\n",
       " '₹183',\n",
       " '₹3,709',\n",
       " '₹499',\n",
       " '₹2,999',\n",
       " '₹619',\n",
       " '₹399',\n",
       " '₹348',\n",
       " '₹1,529',\n",
       " '₹435',\n",
       " '₹379',\n",
       " '₹736',\n",
       " '₹1,279',\n",
       " '₹736',\n",
       " '₹474',\n",
       " '₹2,399',\n",
       " '₹499',\n",
       " '₹1,609',\n",
       " '₹346',\n",
       " '₹378',\n",
       " '₹2,239',\n",
       " '₹664',\n",
       " '₹3,149',\n",
       " '₹435',\n",
       " '₹249']"
      ]
     },
     "execution_count": 491,
     "metadata": {},
     "output_type": "execute_result"
    }
   ],
   "source": [
    "Price=Price1+Price2+Price3\n",
    "Price"
   ]
  },
  {
   "cell_type": "code",
   "execution_count": 493,
   "metadata": {
    "collapsed": true
   },
   "outputs": [
    {
     "data": {
      "text/plain": [
       "['True White Shoe Sneakers For Men',\n",
       " 'True Black Shoe Sneakers For Men',\n",
       " 'Modern Trendy Sneakers Shoes Sneakers For Men',\n",
       " 'Sneakers For Men',\n",
       " 'Birde Trendy Casual Shoes Sneakers For Men',\n",
       " 'Combo Pack Of 4 Casual Shoes Loafer Shoes Sneakers For ...',\n",
       " '411 Casual Sneakers For Men',\n",
       " 'Combo Pack of 4 Casual Sneakers With Sneakers For Men',\n",
       " \"Casual , Partywear Sneakers Shoes For Men's And Boys Wh...\",\n",
       " 'Sneakers For Men',\n",
       " 'luxury fashionable casual snealer shoes Sneakers For Me...',\n",
       " 'X-Ray 2 Square Sneakers For Men',\n",
       " 'Casual Sneakers Shoes For Men Sneakers For Men',\n",
       " \"Men's Stylish Casual Shoes Sneakers For Men\",\n",
       " 'Sneakers For Men',\n",
       " 'Combo Pack of 2 Casual Shoes For Men Sneakers For Men',\n",
       " 'Sneakers For Men',\n",
       " 'casual for men Sneakers For Men',\n",
       " 'Sneakers For Men',\n",
       " 'Sneakers For Men',\n",
       " 'Sneakers for men(black_8) Sneakers For Men',\n",
       " 'Sneakers For Men',\n",
       " \"Luxury Branded Fashionable Men's Casual Walking Partywe...\",\n",
       " 'Extraordinary, Shapeless,High Performance, Sports Shoes...',\n",
       " 'Sneakers For Men',\n",
       " 'Series 7 Sneakers For Men',\n",
       " 'Perfect & Affordable Combo Pack of 02 Pairs Sneakers Ou...',\n",
       " 'Unique & Perfect Collection Combo Pack of 02 Shoes for ...',\n",
       " \"Original Luxury Branded Fashionable Men's Casual Walkin...\",\n",
       " 'Sneakers For Men',\n",
       " 'Sneakers For Men',\n",
       " 'Rebound JOY Sneakers For Men',\n",
       " 'SM-322 Sneakers For Men',\n",
       " 'Lattest Sneakers Shoe Sneakers For Men',\n",
       " '168 Smart Red Lace-Ups Casuals for Men Sneakers For Men',\n",
       " 'PUMA X 1DER KL RAHUL Sneakers For Men',\n",
       " 'Sneakers Sneakers For Men',\n",
       " 'casual for men (beige 06) Sneakers For Men',\n",
       " 'Combo Pack Of 2 Latest Stylish Casual Shoes for Men Lac...',\n",
       " 'Perfect & Affordable Combo Pack of 02 Pairs Sneakers Ou...',\n",
       " 'Combo Pack Of 2 Latest Stylish Casual Shoes for Men Lac...',\n",
       " 'Modern & Trendy Collection Combo Pack of 02 Shoes for M...',\n",
       " 'Sneakers For Men',\n",
       " \"white Casual shoes,Sneakers for men's Sneakers For Men\",\n",
       " \"White Sneaker For Men's/Boy's Sneakers For Men\",\n",
       " 'casual for men Sneakers For Men',\n",
       " 'casual for men (blue 06) Sneakers For Men',\n",
       " 'Sneakers For Men',\n",
       " 'Sneakers For Men',\n",
       " 'Men White Sneakers Sneakers For Men',\n",
       " 'White Sneaker For Men Sneakers For Men',\n",
       " 'Modern Trendy Shoes Combo pack of 4 Sneakers For Men',\n",
       " 'Sneakers For Men',\n",
       " 'Luxury Fashionable casual shoes Sneakers For Men',\n",
       " 'Fashionable sneaker casual shoes Sneakers For Men',\n",
       " 'Smash Vulc Canvas Sneakers For Men',\n",
       " 'Sneakers For Men',\n",
       " 'shoe Sneakers For Men',\n",
       " 'Combo Pack of 2 Casual Shoes Sneakers For Men',\n",
       " 'Sneakers For Men',\n",
       " 'Luxury Fashionable Casual Sneakers shoes For Men And Bo...',\n",
       " 'Fashion Outdoor Canvas Casual Light Weight Lace-up Even...',\n",
       " 'Casual Sneakers Shoes For Men And Boys Sneakers For Men',\n",
       " 'Sneakers For Men',\n",
       " 'SM-175 Sneakers For Men',\n",
       " 'Sneakers For Men',\n",
       " 'shoe for men jeans Sneakers For Men',\n",
       " 'Future Rider Twofold Sneakers For Men',\n",
       " \"Original Luxury Branded Fashionable Men's Casual Walkin...\",\n",
       " 'Fashionable casual sneaker shoes Sneakers For Men',\n",
       " 'Super Stylish & Trendy Combo Pack of 02 Pairs Sneakers ...',\n",
       " 'Sneakers For Men',\n",
       " 'Combo Pack of 2 Casual Shoes Sneakers For Men',\n",
       " 'Fashion Outdoor Canvas Casual Light Weight Lace-up Even...',\n",
       " 'Combo Pack of 5 Casual Shoes Sneakers For Men',\n",
       " 'Ferrari Drift Cat Delta Sneakers For Men',\n",
       " 'Sneakers For Men',\n",
       " 'Sneakers For Men',\n",
       " 'Stylish Design Sneakers Shoes Combo For Men & Boys - Pa...',\n",
       " 'Sneakers for men(tan_7) Sneakers For Men',\n",
       " 'Casual Sneakers Green Shoes For Men And Boys Sneakers F...',\n",
       " 'Sneakers For Men',\n",
       " 'Casual Sneakers,dancing, walking Sneakers For Men',\n",
       " 'Sneakers For Men',\n",
       " 'Trendy Casual Shoes Sneakers For Men',\n",
       " 'Sneakers For Men',\n",
       " 'Men Casual Shoe New Trend With Fashion Panda Desgined L...',\n",
       " 'Height Increasing elevator Sneaker for men in black col...',\n",
       " 'Sneakers For Men',\n",
       " 'Unique & Perfect Collection Combo Pack of 02 Shoes for ...',\n",
       " 'Synthetic Leather Casual Partywear Wedding Sneakers Sho...',\n",
       " 'Puma Smash Vulc Sneakers For Men',\n",
       " 'Luxury Fashionable Breathable Casual Sneakers Shoes For...',\n",
       " 'MONTON3.0 Sneakers For Men',\n",
       " 'Sneakers For Men',\n",
       " 'Rebound LayUp Lo SL Sneakers For Men',\n",
       " 'Sneakers For Men',\n",
       " 'X-Ray Millenium Sneakers For Men',\n",
       " 'Sneakers For Men',\n",
       " 'R78 SL Sneakers For Men',\n",
       " 'Sneakers For Men',\n",
       " 'Birde Trendy Casual Shoes Sneakers For Men',\n",
       " 'White Sneakers Sneakers For Men',\n",
       " 'Pacer Max V1 IDP Sneakers For Men',\n",
       " 'New Fashion Outdoor Trendy Lightweight Casual,Canvas St...',\n",
       " 'Casual Sneakers White Shoes For Men And Boys Sneakers F...',\n",
       " 'Combo Pack Of 4 Casual Sneaker Shoes For Men Sneakers F...',\n",
       " '46602046690 Sneakers For Men',\n",
       " 'Combo Pack of 3 Casual Sneakers Shoes Sneakers For Men',\n",
       " 'Fashion Outdoor Canvas Casual Light Weight Lace-up Even...',\n",
       " 'Sneakers For Men',\n",
       " 'Sneakers For Men Sneakers For Men',\n",
       " 'ST Activate V2 IDP Sneakers For Men',\n",
       " \"Casual , Partywear Sneakers Shoes For Men's And Boys Re...\",\n",
       " 'Sneakers For Men',\n",
       " 'Puma Flex Renew Sneakers For Men',\n",
       " 'Street Smart Sneakers For Men',\n",
       " 'PUMA X 1DER KL RAHUL Sneakers For Men',\n",
       " 'Sneakers For Men',\n",
       " '171 Smart Tan Lace-Ups Casuals for Men Sneakers For Men']"
      ]
     },
     "execution_count": 493,
     "metadata": {},
     "output_type": "execute_result"
    }
   ],
   "source": [
    "Product_Description=Product_Description1+Product_Description2+Product_Description3\n",
    "Product_Description"
   ]
  },
  {
   "cell_type": "code",
   "execution_count": 494,
   "metadata": {
    "collapsed": true
   },
   "outputs": [
    {
     "data": {
      "text/plain": [
       "['69% off',\n",
       " '60% off',\n",
       " '20% off',\n",
       " '88% off',\n",
       " '75% off',\n",
       " '72% off',\n",
       " '47% off',\n",
       " '83% off',\n",
       " '69% off',\n",
       " '51% off',\n",
       " '62% off',\n",
       " '20% off',\n",
       " '65% off',\n",
       " '57% off',\n",
       " '71% off',\n",
       " '50% off',\n",
       " '52% off',\n",
       " '52% off',\n",
       " '55% off',\n",
       " '50% off',\n",
       " '37% off',\n",
       " '76% off',\n",
       " '57% off',\n",
       " '58% off',\n",
       " '66% off',\n",
       " '60% off',\n",
       " '75% off',\n",
       " '58% off',\n",
       " '50% off',\n",
       " '43% off',\n",
       " '17% off',\n",
       " '72% off',\n",
       " '50% off',\n",
       " '30% off',\n",
       " '60% off',\n",
       " '50% off',\n",
       " '75% off',\n",
       " '59% off',\n",
       " '75% off',\n",
       " '78% off',\n",
       " '60% off',\n",
       " '71% off',\n",
       " '65% off',\n",
       " '50% off',\n",
       " '50% off',\n",
       " '56% off',\n",
       " '55% off',\n",
       " '14% off',\n",
       " '66% off',\n",
       " '43% off',\n",
       " '54% off',\n",
       " '65% off',\n",
       " '77% off',\n",
       " '55% off',\n",
       " '63% off',\n",
       " '48% off',\n",
       " '47% off',\n",
       " '76% off',\n",
       " '79% off',\n",
       " '52% off',\n",
       " '52% off',\n",
       " '46% off',\n",
       " '18% off',\n",
       " '60% off',\n",
       " '54% off',\n",
       " '47% off',\n",
       " '50% off',\n",
       " '78% off',\n",
       " '56% off',\n",
       " '40% off',\n",
       " '47% off',\n",
       " '52% off',\n",
       " '66% off',\n",
       " '49% off',\n",
       " '50% off',\n",
       " '70% off',\n",
       " '50% off',\n",
       " '55% off',\n",
       " '52% off',\n",
       " '20% off',\n",
       " '70% off',\n",
       " '55% off',\n",
       " '20% off',\n",
       " '38% off',\n",
       " '58% off',\n",
       " '51% off',\n",
       " '77% off',\n",
       " '60% off',\n",
       " '62% off',\n",
       " '43% off',\n",
       " '80% off',\n",
       " '34% off',\n",
       " '68% off',\n",
       " '40% off',\n",
       " '63% off',\n",
       " '47% off',\n",
       " '75% off',\n",
       " '40% off',\n",
       " '69% off',\n",
       " '20% off',\n",
       " '65% off',\n",
       " '66% off',\n",
       " '56% off',\n",
       " '62% off',\n",
       " '81% off',\n",
       " '20% off',\n",
       " '69% off',\n",
       " '52% off',\n",
       " '40% off',\n",
       " '50% off',\n",
       " '54% off',\n",
       " '65% off',\n",
       " '62% off',\n",
       " '44% off',\n",
       " '33% off',\n",
       " '30% off',\n",
       " '56% off',\n",
       " '50% off']"
      ]
     },
     "execution_count": 494,
     "metadata": {},
     "output_type": "execute_result"
    }
   ],
   "source": [
    "Percentdiscount=Percentdiscount1+Percentdiscount2+Percentdiscount3\n",
    "Percentdiscount"
   ]
  },
  {
   "cell_type": "code",
   "execution_count": 495,
   "metadata": {},
   "outputs": [
    {
     "data": {
      "text/html": [
       "<div>\n",
       "<style scoped>\n",
       "    .dataframe tbody tr th:only-of-type {\n",
       "        vertical-align: middle;\n",
       "    }\n",
       "\n",
       "    .dataframe tbody tr th {\n",
       "        vertical-align: top;\n",
       "    }\n",
       "\n",
       "    .dataframe thead th {\n",
       "        text-align: right;\n",
       "    }\n",
       "</style>\n",
       "<table border=\"1\" class=\"dataframe\">\n",
       "  <thead>\n",
       "    <tr style=\"text-align: right;\">\n",
       "      <th></th>\n",
       "      <th>Brand</th>\n",
       "      <th>Price</th>\n",
       "      <th>Product_Description</th>\n",
       "      <th>Percentdiscount</th>\n",
       "    </tr>\n",
       "    <tr>\n",
       "      <th>Sr.No</th>\n",
       "      <th></th>\n",
       "      <th></th>\n",
       "      <th></th>\n",
       "      <th></th>\n",
       "    </tr>\n",
       "  </thead>\n",
       "  <tbody>\n",
       "    <tr>\n",
       "      <th>0</th>\n",
       "      <td>Wildcraft</td>\n",
       "      <td>₹2,599</td>\n",
       "      <td>True White Shoe Sneakers For Men</td>\n",
       "      <td>69% off</td>\n",
       "    </tr>\n",
       "    <tr>\n",
       "      <th>1</th>\n",
       "      <td>Wildcraft</td>\n",
       "      <td>₹2,599</td>\n",
       "      <td>True Black Shoe Sneakers For Men</td>\n",
       "      <td>60% off</td>\n",
       "    </tr>\n",
       "    <tr>\n",
       "      <th>2</th>\n",
       "      <td>BRUTON</td>\n",
       "      <td>₹399</td>\n",
       "      <td>Modern Trendy Sneakers Shoes Sneakers For Men</td>\n",
       "      <td>20% off</td>\n",
       "    </tr>\n",
       "    <tr>\n",
       "      <th>3</th>\n",
       "      <td>Magnolia</td>\n",
       "      <td>₹398</td>\n",
       "      <td>Sneakers For Men</td>\n",
       "      <td>88% off</td>\n",
       "    </tr>\n",
       "    <tr>\n",
       "      <th>4</th>\n",
       "      <td>BIRDE</td>\n",
       "      <td>₹399</td>\n",
       "      <td>Birde Trendy Casual Shoes Sneakers For Men</td>\n",
       "      <td>75% off</td>\n",
       "    </tr>\n",
       "    <tr>\n",
       "      <th>...</th>\n",
       "      <td>...</td>\n",
       "      <td>...</td>\n",
       "      <td>...</td>\n",
       "      <td>...</td>\n",
       "    </tr>\n",
       "    <tr>\n",
       "      <th>94</th>\n",
       "      <td>Englewood</td>\n",
       "      <td>₹475</td>\n",
       "      <td>Sneakers For Men</td>\n",
       "      <td>63% off</td>\n",
       "    </tr>\n",
       "    <tr>\n",
       "      <th>95</th>\n",
       "      <td>PUMA</td>\n",
       "      <td>₹2,999</td>\n",
       "      <td>Rebound LayUp Lo SL Sneakers For Men</td>\n",
       "      <td>47% off</td>\n",
       "    </tr>\n",
       "    <tr>\n",
       "      <th>96</th>\n",
       "      <td>ganpati traders</td>\n",
       "      <td>₹183</td>\n",
       "      <td>Sneakers For Men</td>\n",
       "      <td>75% off</td>\n",
       "    </tr>\n",
       "    <tr>\n",
       "      <th>97</th>\n",
       "      <td>PUMA</td>\n",
       "      <td>₹3,709</td>\n",
       "      <td>X-Ray Millenium Sneakers For Men</td>\n",
       "      <td>40% off</td>\n",
       "    </tr>\n",
       "    <tr>\n",
       "      <th>98</th>\n",
       "      <td>Numenzo</td>\n",
       "      <td>₹499</td>\n",
       "      <td>Sneakers For Men</td>\n",
       "      <td>69% off</td>\n",
       "    </tr>\n",
       "  </tbody>\n",
       "</table>\n",
       "<p>99 rows × 4 columns</p>\n",
       "</div>"
      ],
      "text/plain": [
       "                 Brand   Price                            Product_Description  \\\n",
       "Sr.No                                                                           \n",
       "0            Wildcraft  ₹2,599               True White Shoe Sneakers For Men   \n",
       "1            Wildcraft  ₹2,599               True Black Shoe Sneakers For Men   \n",
       "2               BRUTON    ₹399  Modern Trendy Sneakers Shoes Sneakers For Men   \n",
       "3             Magnolia    ₹398                               Sneakers For Men   \n",
       "4                BIRDE    ₹399     Birde Trendy Casual Shoes Sneakers For Men   \n",
       "...                ...     ...                                            ...   \n",
       "94           Englewood    ₹475                               Sneakers For Men   \n",
       "95                PUMA  ₹2,999           Rebound LayUp Lo SL Sneakers For Men   \n",
       "96     ganpati traders    ₹183                               Sneakers For Men   \n",
       "97                PUMA  ₹3,709               X-Ray Millenium Sneakers For Men   \n",
       "98             Numenzo    ₹499                               Sneakers For Men   \n",
       "\n",
       "      Percentdiscount  \n",
       "Sr.No                  \n",
       "0             69% off  \n",
       "1             60% off  \n",
       "2             20% off  \n",
       "3             88% off  \n",
       "4             75% off  \n",
       "...               ...  \n",
       "94            63% off  \n",
       "95            47% off  \n",
       "96            75% off  \n",
       "97            40% off  \n",
       "98            69% off  \n",
       "\n",
       "[99 rows x 4 columns]"
      ]
     },
     "execution_count": 495,
     "metadata": {},
     "output_type": "execute_result"
    }
   ],
   "source": [
    "Sneakers=pd.DataFrame({})\n",
    "Sneakers[\"Brand\"]=Brand[0:99]\n",
    "Sneakers[\"Price\"]=Price[0:99]\n",
    "Sneakers[\"Product_Description\"]=Product_Description[0:99]\n",
    "Sneakers[\"Percentdiscount\"]=Percentdiscount[0:99]\n",
    "Sneakers.index.set_names(\"Sr.No\",inplace=True)\n",
    "Sneakers"
   ]
  },
  {
   "cell_type": "markdown",
   "metadata": {},
   "source": [
    "Q9: Go to the link - https://www.myntra.com/shoes\n",
    "Set Price filter to “Rs. 6649 to Rs. 13099” , Color filter to “Black”, as shown in\n",
    "the below image"
   ]
  },
  {
   "cell_type": "code",
   "execution_count": 514,
   "metadata": {},
   "outputs": [],
   "source": [
    "import selenium\n",
    "import pandas as pd\n",
    "from selenium import webdriver"
   ]
  },
  {
   "cell_type": "code",
   "execution_count": 515,
   "metadata": {},
   "outputs": [
    {
     "data": {
      "text/plain": [
       "<selenium.webdriver.chrome.webdriver.WebDriver (session=\"e2433c3de5634d5221a58a62cbc13cc6\")>"
      ]
     },
     "execution_count": 515,
     "metadata": {},
     "output_type": "execute_result"
    }
   ],
   "source": [
    "driver9=webdriver.Chrome(\"chromedriver.exe\")\n",
    "driver9"
   ]
  },
  {
   "cell_type": "code",
   "execution_count": 516,
   "metadata": {},
   "outputs": [],
   "source": [
    "url=\"https://www.myntra.com/shoes\""
   ]
  },
  {
   "cell_type": "code",
   "execution_count": 517,
   "metadata": {},
   "outputs": [],
   "source": [
    "driver9.get(url)"
   ]
  },
  {
   "cell_type": "code",
   "execution_count": 524,
   "metadata": {},
   "outputs": [],
   "source": [
    "Price_Filter=driver9.find_element_by_xpath(\"/html/body/div[2]/div/div[1]/main/div[3]/div[1]/section/div/div[5]/ul/li[2]/label/div\")"
   ]
  },
  {
   "cell_type": "code",
   "execution_count": 525,
   "metadata": {},
   "outputs": [],
   "source": [
    "Price_Filter.click()"
   ]
  },
  {
   "cell_type": "code",
   "execution_count": 527,
   "metadata": {},
   "outputs": [],
   "source": [
    "Colour_Filter=driver9.find_element_by_xpath(\"/html/body/div[2]/div/div[1]/main/div[3]/div[1]/section/div/div[6]/ul/li[1]/label/div\")"
   ]
  },
  {
   "cell_type": "code",
   "execution_count": 528,
   "metadata": {},
   "outputs": [],
   "source": [
    "Colour_Filter.click()"
   ]
  },
  {
   "cell_type": "code",
   "execution_count": 534,
   "metadata": {
    "collapsed": true
   },
   "outputs": [
    {
     "data": {
      "text/plain": [
       "['https://www.myntra.com/shoes?f=Color%3ABlack_36454f&rf=Price%3A6897.0_13595.0_6897.0%20TO%2013595.0',\n",
       " 'https://www.myntra.com/shoes?f=Color%3ABlack_36454f&rf=Price%3A6897.0_13595.0_6897.0%20TO%2013595.0&p=2',\n",
       " 'https://www.myntra.com/shoes?f=Color%3ABlack_36454f&rf=Price%3A6897.0_13595.0_6897.0%20TO%2013595.0&p=3',\n",
       " 'https://www.myntra.com/shoes?f=Color%3ABlack_36454f&rf=Price%3A6897.0_13595.0_6897.0%20TO%2013595.0&p=4',\n",
       " 'https://www.myntra.com/shoes?f=Color%3ABlack_36454f&rf=Price%3A6897.0_13595.0_6897.0%20TO%2013595.0&p=5',\n",
       " 'https://www.myntra.com/shoes?f=Color%3ABlack_36454f&rf=Price%3A6897.0_13595.0_6897.0%20TO%2013595.0&p=6',\n",
       " 'https://www.myntra.com/shoes?f=Color%3ABlack_36454f&rf=Price%3A6897.0_13595.0_6897.0%20TO%2013595.0&p=7',\n",
       " 'https://www.myntra.com/shoes?f=Color%3ABlack_36454f&rf=Price%3A6897.0_13595.0_6897.0%20TO%2013595.0&p=8',\n",
       " 'https://www.myntra.com/shoes?f=Color%3ABlack_36454f&rf=Price%3A6897.0_13595.0_6897.0%20TO%2013595.0&p=9',\n",
       " 'https://www.myntra.com/shoes?f=Color%3ABlack_36454f&rf=Price%3A6897.0_13595.0_6897.0%20TO%2013595.0&p=10',\n",
       " 'https://www.myntra.com/shoes?f=Color%3ABlack_36454f&rf=Price%3A6897.0_13595.0_6897.0%20TO%2013595.0&p=2']"
      ]
     },
     "execution_count": 534,
     "metadata": {},
     "output_type": "execute_result"
    }
   ],
   "source": [
    "urls5=[]\n",
    "next_page5=driver9.find_elements_by_xpath(\"//ul[@class='pagination-container']/li/a\")\n",
    "for i in next_page5:\n",
    "    urls5.append(i.get_attribute(\"href\"))\n",
    "urls5"
   ]
  },
  {
   "cell_type": "code",
   "execution_count": 541,
   "metadata": {},
   "outputs": [],
   "source": [
    "Brand9=[]\n",
    "Short_Description=[]\n",
    "Price=[]\n",
    "for j in urls5[:4]:\n",
    "    driver9.get(j)\n",
    "    for k in driver9.find_elements_by_xpath(\"//h3[@class='product-brand']\"):\n",
    "        Brand9.append(k.text)\n",
    "    for l in driver9.find_elements_by_xpath(\"//h4[@class='product-product']\"):\n",
    "        Short_Description.append(l.text)\n",
    "    for m in driver9.find_elements_by_xpath(\"//div[@class='product-price']\"):\n",
    "        Price.append(m.text)"
   ]
  },
  {
   "cell_type": "code",
   "execution_count": 548,
   "metadata": {},
   "outputs": [
    {
     "data": {
      "text/html": [
       "<div>\n",
       "<style scoped>\n",
       "    .dataframe tbody tr th:only-of-type {\n",
       "        vertical-align: middle;\n",
       "    }\n",
       "\n",
       "    .dataframe tbody tr th {\n",
       "        vertical-align: top;\n",
       "    }\n",
       "\n",
       "    .dataframe thead th {\n",
       "        text-align: right;\n",
       "    }\n",
       "</style>\n",
       "<table border=\"1\" class=\"dataframe\">\n",
       "  <thead>\n",
       "    <tr style=\"text-align: right;\">\n",
       "      <th></th>\n",
       "      <th>Brand9</th>\n",
       "      <th>Short_Description</th>\n",
       "      <th>Price</th>\n",
       "    </tr>\n",
       "    <tr>\n",
       "      <th>Sr.No</th>\n",
       "      <th></th>\n",
       "      <th></th>\n",
       "      <th></th>\n",
       "    </tr>\n",
       "  </thead>\n",
       "  <tbody>\n",
       "    <tr>\n",
       "      <th>0</th>\n",
       "      <td>ALDO</td>\n",
       "      <td>Leather Solid Loafers</td>\n",
       "      <td>Rs. 10499Rs. 14999(30% OFF)</td>\n",
       "    </tr>\n",
       "    <tr>\n",
       "      <th>1</th>\n",
       "      <td>Puma</td>\n",
       "      <td>Men Jamming 2.0 Running Shoes</td>\n",
       "      <td>Rs. 10399Rs. 12999(20% OFF)</td>\n",
       "    </tr>\n",
       "    <tr>\n",
       "      <th>2</th>\n",
       "      <td>ALDO</td>\n",
       "      <td>Men Driving Shoes</td>\n",
       "      <td>Rs. 11199Rs. 15999(30% OFF)</td>\n",
       "    </tr>\n",
       "    <tr>\n",
       "      <th>3</th>\n",
       "      <td>Puma</td>\n",
       "      <td>Men Deviate Nitro Running Shoe</td>\n",
       "      <td>Rs. 11999Rs. 14999(20% OFF)</td>\n",
       "    </tr>\n",
       "    <tr>\n",
       "      <th>4</th>\n",
       "      <td>PUMA Motorsport</td>\n",
       "      <td>Unisex FerrariRS-Fast Sneakers</td>\n",
       "      <td>Rs. 7999Rs. 9999(20% OFF)</td>\n",
       "    </tr>\n",
       "    <tr>\n",
       "      <th>...</th>\n",
       "      <td>...</td>\n",
       "      <td>...</td>\n",
       "      <td>...</td>\n",
       "    </tr>\n",
       "    <tr>\n",
       "      <th>95</th>\n",
       "      <td>Hush Puppies</td>\n",
       "      <td>Men Solid Formal Slip-Ons</td>\n",
       "      <td>Rs. 8999Rs. 9999(10% OFF)</td>\n",
       "    </tr>\n",
       "    <tr>\n",
       "      <th>96</th>\n",
       "      <td>J.FONTINI</td>\n",
       "      <td>Men Solid Loafers</td>\n",
       "      <td>Rs. 8990</td>\n",
       "    </tr>\n",
       "    <tr>\n",
       "      <th>97</th>\n",
       "      <td>KLEAT</td>\n",
       "      <td>Men Solid Brogues</td>\n",
       "      <td>Rs. 7999</td>\n",
       "    </tr>\n",
       "    <tr>\n",
       "      <th>98</th>\n",
       "      <td>KLEAT</td>\n",
       "      <td>Men Black Mojaris</td>\n",
       "      <td>Rs. 7999</td>\n",
       "    </tr>\n",
       "    <tr>\n",
       "      <th>99</th>\n",
       "      <td>KLEAT</td>\n",
       "      <td>Men Solid Loafers</td>\n",
       "      <td>Rs. 6999</td>\n",
       "    </tr>\n",
       "  </tbody>\n",
       "</table>\n",
       "<p>100 rows × 3 columns</p>\n",
       "</div>"
      ],
      "text/plain": [
       "                Brand9               Short_Description  \\\n",
       "Sr.No                                                    \n",
       "0                 ALDO           Leather Solid Loafers   \n",
       "1                 Puma   Men Jamming 2.0 Running Shoes   \n",
       "2                 ALDO               Men Driving Shoes   \n",
       "3                 Puma  Men Deviate Nitro Running Shoe   \n",
       "4      PUMA Motorsport  Unisex FerrariRS-Fast Sneakers   \n",
       "...                ...                             ...   \n",
       "95        Hush Puppies       Men Solid Formal Slip-Ons   \n",
       "96           J.FONTINI               Men Solid Loafers   \n",
       "97               KLEAT               Men Solid Brogues   \n",
       "98               KLEAT               Men Black Mojaris   \n",
       "99               KLEAT               Men Solid Loafers   \n",
       "\n",
       "                             Price  \n",
       "Sr.No                               \n",
       "0      Rs. 10499Rs. 14999(30% OFF)  \n",
       "1      Rs. 10399Rs. 12999(20% OFF)  \n",
       "2      Rs. 11199Rs. 15999(30% OFF)  \n",
       "3      Rs. 11999Rs. 14999(20% OFF)  \n",
       "4        Rs. 7999Rs. 9999(20% OFF)  \n",
       "...                            ...  \n",
       "95       Rs. 8999Rs. 9999(10% OFF)  \n",
       "96                        Rs. 8990  \n",
       "97                        Rs. 7999  \n",
       "98                        Rs. 7999  \n",
       "99                        Rs. 6999  \n",
       "\n",
       "[100 rows x 3 columns]"
      ]
     },
     "execution_count": 548,
     "metadata": {},
     "output_type": "execute_result"
    }
   ],
   "source": [
    "Shoes=pd.DataFrame({})\n",
    "Shoes[\"Brand9\"]=Brand9[0:100]\n",
    "Shoes[\"Short_Description\"]=Short_Description[0:100]\n",
    "Shoes[\"Price\"]=Price[0:100]\n",
    "Shoes.index.set_names(\"Sr.No\",inplace=True)\n",
    "Shoes"
   ]
  },
  {
   "cell_type": "markdown",
   "metadata": {},
   "source": [
    "Q10: Go to webpage https://www.amazon.in/\n",
    " Enter “Laptop” in the search field and then click the search icon.\n",
    " Then set CPU Type filter to “Intel Core i7” and “Intel Core i9” as shown in the\n",
    "below image:"
   ]
  },
  {
   "cell_type": "code",
   "execution_count": 561,
   "metadata": {},
   "outputs": [],
   "source": [
    "import selenium\n",
    "import pandas as pd\n",
    "from selenium import webdriver"
   ]
  },
  {
   "cell_type": "code",
   "execution_count": 562,
   "metadata": {},
   "outputs": [
    {
     "data": {
      "text/plain": [
       "<selenium.webdriver.chrome.webdriver.WebDriver (session=\"bbad29f68fd95782ff133a629c82a285\")>"
      ]
     },
     "execution_count": 562,
     "metadata": {},
     "output_type": "execute_result"
    }
   ],
   "source": [
    "driver10=webdriver.Chrome(\"chromedriver.exe\")\n",
    "driver10"
   ]
  },
  {
   "cell_type": "code",
   "execution_count": 563,
   "metadata": {},
   "outputs": [],
   "source": [
    "url=\"https://www.amazon.in/\""
   ]
  },
  {
   "cell_type": "code",
   "execution_count": 564,
   "metadata": {},
   "outputs": [],
   "source": [
    "driver10.get(url)"
   ]
  },
  {
   "cell_type": "code",
   "execution_count": 565,
   "metadata": {},
   "outputs": [
    {
     "data": {
      "text/plain": [
       "<selenium.webdriver.remote.webelement.WebElement (session=\"bbad29f68fd95782ff133a629c82a285\", element=\"be7dcacb-f845-4166-b3ff-fd9ca153386c\")>"
      ]
     },
     "execution_count": 565,
     "metadata": {},
     "output_type": "execute_result"
    }
   ],
   "source": [
    "search10=driver10.find_element_by_id(\"twotabsearchtextbox\")\n",
    "search10"
   ]
  },
  {
   "cell_type": "code",
   "execution_count": 566,
   "metadata": {},
   "outputs": [],
   "source": [
    "search10.send_keys(\"Laptop\")"
   ]
  },
  {
   "cell_type": "code",
   "execution_count": 571,
   "metadata": {},
   "outputs": [
    {
     "data": {
      "text/plain": [
       "<selenium.webdriver.remote.webelement.WebElement (session=\"bbad29f68fd95782ff133a629c82a285\", element=\"f18ec1f5-63e2-48dc-94e4-57a3635febfe\")>"
      ]
     },
     "execution_count": 571,
     "metadata": {},
     "output_type": "execute_result"
    }
   ],
   "source": [
    "search_button10=driver10.find_element_by_id(\"nav-search-submit-button\")\n",
    "search_button10"
   ]
  },
  {
   "cell_type": "code",
   "execution_count": 572,
   "metadata": {},
   "outputs": [],
   "source": [
    "search_button10.click()"
   ]
  },
  {
   "cell_type": "code",
   "execution_count": 574,
   "metadata": {},
   "outputs": [],
   "source": [
    "filter1=driver10.find_element_by_xpath(\"/html/body/div[1]/div[2]/div[1]/div[2]/div/div[3]/span/div[1]/span/div/div/div[5]/ul[1]/li[26]/span/a/div/label/i\")"
   ]
  },
  {
   "cell_type": "code",
   "execution_count": 575,
   "metadata": {},
   "outputs": [],
   "source": [
    "filter1.click()"
   ]
  },
  {
   "cell_type": "code",
   "execution_count": 581,
   "metadata": {
    "collapsed": true
   },
   "outputs": [
    {
     "data": {
      "text/plain": [
       "[<selenium.webdriver.remote.webelement.WebElement (session=\"bbad29f68fd95782ff133a629c82a285\", element=\"4019eef7-035d-44e3-b64d-7d419492374a\")>,\n",
       " <selenium.webdriver.remote.webelement.WebElement (session=\"bbad29f68fd95782ff133a629c82a285\", element=\"0bc04922-753a-4537-8feb-93fe52ffb783\")>,\n",
       " <selenium.webdriver.remote.webelement.WebElement (session=\"bbad29f68fd95782ff133a629c82a285\", element=\"27cb98ea-97d5-45a9-a990-0b7c6fed5aa2\")>,\n",
       " <selenium.webdriver.remote.webelement.WebElement (session=\"bbad29f68fd95782ff133a629c82a285\", element=\"63cb2590-e9cd-423c-94d7-dbf7410558a0\")>,\n",
       " <selenium.webdriver.remote.webelement.WebElement (session=\"bbad29f68fd95782ff133a629c82a285\", element=\"578cbd88-3995-40d9-95ee-79a28c899525\")>,\n",
       " <selenium.webdriver.remote.webelement.WebElement (session=\"bbad29f68fd95782ff133a629c82a285\", element=\"8d199de9-e23a-4355-8b81-d72dc7c081a0\")>,\n",
       " <selenium.webdriver.remote.webelement.WebElement (session=\"bbad29f68fd95782ff133a629c82a285\", element=\"9dc9ef6b-1709-4173-bf21-3e28d6eac276\")>,\n",
       " <selenium.webdriver.remote.webelement.WebElement (session=\"bbad29f68fd95782ff133a629c82a285\", element=\"a25dc85b-bd87-4d75-bfca-5628bcbfd791\")>,\n",
       " <selenium.webdriver.remote.webelement.WebElement (session=\"bbad29f68fd95782ff133a629c82a285\", element=\"edecf9b7-37c7-43b6-88be-ab9c0333d5ae\")>,\n",
       " <selenium.webdriver.remote.webelement.WebElement (session=\"bbad29f68fd95782ff133a629c82a285\", element=\"6f777081-d6a5-4ef8-afab-2f6b8c2563e2\")>,\n",
       " <selenium.webdriver.remote.webelement.WebElement (session=\"bbad29f68fd95782ff133a629c82a285\", element=\"561d3224-8239-488e-9111-65bc33e6fa87\")>,\n",
       " <selenium.webdriver.remote.webelement.WebElement (session=\"bbad29f68fd95782ff133a629c82a285\", element=\"b93206e5-a84b-447c-a205-a62d1e5c90b1\")>,\n",
       " <selenium.webdriver.remote.webelement.WebElement (session=\"bbad29f68fd95782ff133a629c82a285\", element=\"a4e54d97-6ea5-41b7-ad46-d419a0c733b7\")>,\n",
       " <selenium.webdriver.remote.webelement.WebElement (session=\"bbad29f68fd95782ff133a629c82a285\", element=\"f2fa8c9e-e728-4662-806c-af269a80425b\")>,\n",
       " <selenium.webdriver.remote.webelement.WebElement (session=\"bbad29f68fd95782ff133a629c82a285\", element=\"7364acf2-4229-43fb-a01e-9515eb2067ea\")>,\n",
       " <selenium.webdriver.remote.webelement.WebElement (session=\"bbad29f68fd95782ff133a629c82a285\", element=\"5d243b2c-568a-4b7d-843f-1ccedae84d57\")>,\n",
       " <selenium.webdriver.remote.webelement.WebElement (session=\"bbad29f68fd95782ff133a629c82a285\", element=\"3603d8a0-49ba-4b67-82f1-df36b2d454cf\")>,\n",
       " <selenium.webdriver.remote.webelement.WebElement (session=\"bbad29f68fd95782ff133a629c82a285\", element=\"f9b216ad-2815-49ed-bd28-14307c34a05f\")>,\n",
       " <selenium.webdriver.remote.webelement.WebElement (session=\"bbad29f68fd95782ff133a629c82a285\", element=\"e8505f7c-0850-4b0a-8a7e-249316f2705d\")>,\n",
       " <selenium.webdriver.remote.webelement.WebElement (session=\"bbad29f68fd95782ff133a629c82a285\", element=\"ceff6295-6b93-4730-a577-86ad4e63c4e1\")>,\n",
       " <selenium.webdriver.remote.webelement.WebElement (session=\"bbad29f68fd95782ff133a629c82a285\", element=\"94d567de-ebe2-4d0a-85ea-aeef2f709255\")>,\n",
       " <selenium.webdriver.remote.webelement.WebElement (session=\"bbad29f68fd95782ff133a629c82a285\", element=\"210fdab2-94f9-4e85-b104-27a3f33656ac\")>,\n",
       " <selenium.webdriver.remote.webelement.WebElement (session=\"bbad29f68fd95782ff133a629c82a285\", element=\"87486ffa-b2d3-455a-8673-22cb145278ad\")>,\n",
       " <selenium.webdriver.remote.webelement.WebElement (session=\"bbad29f68fd95782ff133a629c82a285\", element=\"17ad959e-c34c-49b5-810b-a006cca27603\")>,\n",
       " <selenium.webdriver.remote.webelement.WebElement (session=\"bbad29f68fd95782ff133a629c82a285\", element=\"8e91d1ec-5737-4dd2-bd87-752f0fcbe240\")>,\n",
       " <selenium.webdriver.remote.webelement.WebElement (session=\"bbad29f68fd95782ff133a629c82a285\", element=\"a019b991-9c3d-437d-84ff-72900920c3b2\")>,\n",
       " <selenium.webdriver.remote.webelement.WebElement (session=\"bbad29f68fd95782ff133a629c82a285\", element=\"42b2cdc7-b4e2-416a-8473-c26764f660c1\")>,\n",
       " <selenium.webdriver.remote.webelement.WebElement (session=\"bbad29f68fd95782ff133a629c82a285\", element=\"48012461-cdca-4d94-9698-266aecdceb42\")>,\n",
       " <selenium.webdriver.remote.webelement.WebElement (session=\"bbad29f68fd95782ff133a629c82a285\", element=\"d1bd71dc-66b7-4243-bfc4-9f2e5980ca98\")>,\n",
       " <selenium.webdriver.remote.webelement.WebElement (session=\"bbad29f68fd95782ff133a629c82a285\", element=\"e47aa818-c524-4d75-8f4b-11fe1efc8e2a\")>]"
      ]
     },
     "execution_count": 581,
     "metadata": {},
     "output_type": "execute_result"
    }
   ],
   "source": [
    "titles10=driver10.find_elements_by_xpath(\"//div[@class='a-section a-spacing-none']/div/h2\")\n",
    "titles10"
   ]
  },
  {
   "cell_type": "code",
   "execution_count": 583,
   "metadata": {
    "collapsed": true
   },
   "outputs": [
    {
     "data": {
      "text/plain": [
       "['Lenovo ThinkBook 15 Intel 11th Gen Core i7 15.6\" (39.62 cm) FHD IPS 300 nits Antiglare 100% sRGB Thin and Light Laptop (16GB/512GB SSD/Windows 10/MS Office/3 Yr Onsite Warranty/1.7 Kg), 20VEA0HHIH',\n",
       " 'Acer Nitro 5 11th Gen Intel Core i7-11800H 15.6\" (39.62cms) Full HD Gaming Laptop (16 GB/256GB SSD/1 TB HDD/Win 10/RTX 3050 Ti 4GB Graphics/144 Hz, Black, 2.4 kg/RGB Backlit Keyboard) AN515-57',\n",
       " 'Acer Nitro 5 11th Gen Intel Core i7-11800H 15.6\" (39.62cms) Full HD Gaming Laptop (16 GB/256GB SSD/1 TB HDD/Win 10/RTX 3050 Ti 4GB Graphics/144 Hz, Black, 2.4 kg/RGB Backlit Keyboard) AN515-57',\n",
       " 'Mi Notebook Horizon Edition 14 Intel Core i7-10510U 10th Gen Thin and Light Laptop(8GB/512GB SSD/Windows 10/Nvidia MX350 2GB Graphics/Grey/1.35Kg)(Without Webcam) XMA1904-AF',\n",
       " 'Life Digital Laptop 15.6-inch (39.62 cms) (Intel Core i7, 4GB RAM, 256GB SSD, Windows 10), ZED AIR CX7',\n",
       " 'HP Pavilion (2021) Intel 11th Gen Core i7 14 inches FHD Screen Thin & Light Laptop, 16 GB RAM, 1TB SSD, Iris Xe Graphics, Windows 10, MS Office, Backlit Keyboard, 1.41kg (14-dv0058TU), Silver',\n",
       " 'Dell 14 (2021) i7-1195G7 2in1 Touch Screen Laptop, 16GB, 512GB SSD, Win 10 + MS Office, 14.0\" (35.56 cms) FHD Display, Backlit KB, FPR + Active Pen, Platinum Silver (Inspiron 5410, D560596WIN9S)',\n",
       " 'Lenovo IdeaPad S540 11th Gen Intel Core i7 13.3\" QHD IPS Thin & Light Laptop (16GB/512GB SSD/Windows 10/MS Office 2019/Intel Iris Xe Graphics/Iron Grey/1.28Kg), 82H1002CIN',\n",
       " 'Lenovo ThinkBook 15 Intel 11th Gen Core i7 15.6\" (39.62 cm) FHD IPS 300 nits Antiglare 100% sRGB Thin and Light Laptop (16GB/512GB SSD/Windows 10/MS Office/3 Yr Onsite Warranty/1.7 Kg), 20VEA0HHIH',\n",
       " '(Renewed) Lenovo Thinkpad Hybrid Laptop T450s (Slim) Intel Core i7 - 5600u Processor, 12 GB Ram, 1TB Harddisk & 256 GB ssd, Windows 10 Pro, 14.1 Inches Notebook Computer']"
      ]
     },
     "execution_count": 583,
     "metadata": {},
     "output_type": "execute_result"
    }
   ],
   "source": [
    "Titles10=[]\n",
    "for i in titles10[0:10]:\n",
    "    Titles10.append(i.text)\n",
    "Titles10"
   ]
  },
  {
   "cell_type": "code",
   "execution_count": 584,
   "metadata": {
    "collapsed": true
   },
   "outputs": [
    {
     "data": {
      "text/plain": [
       "[<selenium.webdriver.remote.webelement.WebElement (session=\"bbad29f68fd95782ff133a629c82a285\", element=\"0838b479-c592-452a-9425-8ad6944b4d88\")>,\n",
       " <selenium.webdriver.remote.webelement.WebElement (session=\"bbad29f68fd95782ff133a629c82a285\", element=\"80735336-d467-4b11-85e9-ac4c7bb9e359\")>,\n",
       " <selenium.webdriver.remote.webelement.WebElement (session=\"bbad29f68fd95782ff133a629c82a285\", element=\"9099db68-b102-4d00-a23e-0bf0f28a7a16\")>,\n",
       " <selenium.webdriver.remote.webelement.WebElement (session=\"bbad29f68fd95782ff133a629c82a285\", element=\"e733027e-719e-4975-9e45-9234a44568cb\")>,\n",
       " <selenium.webdriver.remote.webelement.WebElement (session=\"bbad29f68fd95782ff133a629c82a285\", element=\"5303bb15-f8b1-478f-add3-934a710dbea0\")>,\n",
       " <selenium.webdriver.remote.webelement.WebElement (session=\"bbad29f68fd95782ff133a629c82a285\", element=\"ce90ee12-6d74-44d4-b44f-a41bb7681056\")>,\n",
       " <selenium.webdriver.remote.webelement.WebElement (session=\"bbad29f68fd95782ff133a629c82a285\", element=\"48d28053-7781-4c6a-8c6d-cf70fa1e3e72\")>,\n",
       " <selenium.webdriver.remote.webelement.WebElement (session=\"bbad29f68fd95782ff133a629c82a285\", element=\"08ad8409-158c-45e8-bcab-5ee66d73b0ee\")>,\n",
       " <selenium.webdriver.remote.webelement.WebElement (session=\"bbad29f68fd95782ff133a629c82a285\", element=\"e3e99bc0-abd2-40f1-903a-1c1e1036a8a0\")>,\n",
       " <selenium.webdriver.remote.webelement.WebElement (session=\"bbad29f68fd95782ff133a629c82a285\", element=\"99a21d48-be00-4cd5-8668-fa2a053f0da7\")>,\n",
       " <selenium.webdriver.remote.webelement.WebElement (session=\"bbad29f68fd95782ff133a629c82a285\", element=\"89726867-0624-42a1-8622-4f559e9363b5\")>,\n",
       " <selenium.webdriver.remote.webelement.WebElement (session=\"bbad29f68fd95782ff133a629c82a285\", element=\"e80dd767-1df8-4022-9d6f-afee7e79aed5\")>,\n",
       " <selenium.webdriver.remote.webelement.WebElement (session=\"bbad29f68fd95782ff133a629c82a285\", element=\"4c21533f-ab48-4d4a-bed0-9a8ee1179992\")>,\n",
       " <selenium.webdriver.remote.webelement.WebElement (session=\"bbad29f68fd95782ff133a629c82a285\", element=\"b9a66844-cb08-4d09-abde-4f2a0395c298\")>,\n",
       " <selenium.webdriver.remote.webelement.WebElement (session=\"bbad29f68fd95782ff133a629c82a285\", element=\"49ee7394-fe16-4c04-9c8d-3126c2b90658\")>,\n",
       " <selenium.webdriver.remote.webelement.WebElement (session=\"bbad29f68fd95782ff133a629c82a285\", element=\"19e0c5c3-746e-40a2-8212-7aa8a7ca8eb9\")>,\n",
       " <selenium.webdriver.remote.webelement.WebElement (session=\"bbad29f68fd95782ff133a629c82a285\", element=\"d599aa9b-b0be-4e8c-a5f9-53d69da9d521\")>,\n",
       " <selenium.webdriver.remote.webelement.WebElement (session=\"bbad29f68fd95782ff133a629c82a285\", element=\"40526e80-fbd2-461f-b703-c170f1ed17c0\")>,\n",
       " <selenium.webdriver.remote.webelement.WebElement (session=\"bbad29f68fd95782ff133a629c82a285\", element=\"920eb42f-9df3-4166-a528-3c338e1a7669\")>,\n",
       " <selenium.webdriver.remote.webelement.WebElement (session=\"bbad29f68fd95782ff133a629c82a285\", element=\"762ac1fa-7fc9-4232-8003-5b7ff1e49d93\")>,\n",
       " <selenium.webdriver.remote.webelement.WebElement (session=\"bbad29f68fd95782ff133a629c82a285\", element=\"ff455d10-1720-4b36-8ac6-15f48dba76e3\")>,\n",
       " <selenium.webdriver.remote.webelement.WebElement (session=\"bbad29f68fd95782ff133a629c82a285\", element=\"febe2803-8194-4683-a546-efe17a7630b3\")>,\n",
       " <selenium.webdriver.remote.webelement.WebElement (session=\"bbad29f68fd95782ff133a629c82a285\", element=\"39930d17-9c24-4dff-957f-de3e9e464b3c\")>,\n",
       " <selenium.webdriver.remote.webelement.WebElement (session=\"bbad29f68fd95782ff133a629c82a285\", element=\"db262d15-c9fe-4835-b92f-97d9dae864d6\")>,\n",
       " <selenium.webdriver.remote.webelement.WebElement (session=\"bbad29f68fd95782ff133a629c82a285\", element=\"6e17e344-676d-4c6e-bbb7-8b3ce591de54\")>,\n",
       " <selenium.webdriver.remote.webelement.WebElement (session=\"bbad29f68fd95782ff133a629c82a285\", element=\"eaa073e0-bc92-40b2-8a30-619685abdb6a\")>,\n",
       " <selenium.webdriver.remote.webelement.WebElement (session=\"bbad29f68fd95782ff133a629c82a285\", element=\"b187ef5c-73bc-43e0-9e01-ff243b45ab31\")>,\n",
       " <selenium.webdriver.remote.webelement.WebElement (session=\"bbad29f68fd95782ff133a629c82a285\", element=\"01fc5cc7-2031-46d8-8501-ffde2526d3bd\")>,\n",
       " <selenium.webdriver.remote.webelement.WebElement (session=\"bbad29f68fd95782ff133a629c82a285\", element=\"83b041f5-1c56-4925-936c-f384e9deefc5\")>,\n",
       " <selenium.webdriver.remote.webelement.WebElement (session=\"bbad29f68fd95782ff133a629c82a285\", element=\"f01fb593-7055-448d-9e62-bfdcd2177bce\")>]"
      ]
     },
     "execution_count": 584,
     "metadata": {},
     "output_type": "execute_result"
    }
   ],
   "source": [
    "price10=driver10.find_elements_by_xpath(\"//span[@class='a-price-whole']\")\n",
    "price10"
   ]
  },
  {
   "cell_type": "code",
   "execution_count": 585,
   "metadata": {
    "collapsed": true
   },
   "outputs": [
    {
     "data": {
      "text/plain": [
       "['84,990',\n",
       " '85,990',\n",
       " '85,990',\n",
       " '53,990',\n",
       " '24,990',\n",
       " '84,990',\n",
       " '89,990',\n",
       " '77,990',\n",
       " '84,990',\n",
       " '39,990']"
      ]
     },
     "execution_count": 585,
     "metadata": {},
     "output_type": "execute_result"
    }
   ],
   "source": [
    "Price10=[]\n",
    "for i in price10[0:10]:\n",
    "    Price10.append(i.text)\n",
    "Price10"
   ]
  },
  {
   "cell_type": "code",
   "execution_count": 586,
   "metadata": {
    "collapsed": true
   },
   "outputs": [
    {
     "data": {
      "text/plain": [
       "['https://www.amazon.in/gp/slredirect/picassoRedirect.html/ref=pa_sp_atf_computers_sr_pg1_1?ie=UTF8&adId=A07831422XG3LWS75TAAF&url=%2FLenovo-ThinkBook-Antiglare-Warranty-20VEA0HHIH%2Fdp%2FB09GW2F4XV%2Fref%3Dsr_1_1_sspa%3Fdchild%3D1%26keywords%3DLaptop%26qid%3D1634406788%26refinements%3Dp_n_feature_thirteen_browse-bin%253A12598163031%26rnid%3D12598141031%26s%3Dcomputers%26sr%3D1-1-spons%26psc%3D1&qualifier=1634406788&id=3455031416018582&widgetName=sp_atf',\n",
       " 'https://www.amazon.in/gp/slredirect/picassoRedirect.html/ref=pa_sp_atf_computers_sr_pg1_1?ie=UTF8&adId=A0100191WM8UURN367LA&url=%2FAcer-i7-11800H-39-62cms-Graphics-AN515-57%2Fdp%2FB09C8HZMW2%2Fref%3Dsr_1_2_sspa%3Fdchild%3D1%26keywords%3DLaptop%26qid%3D1634406788%26refinements%3Dp_n_feature_thirteen_browse-bin%253A12598163031%26rnid%3D12598141031%26s%3Dcomputers%26sr%3D1-2-spons%26psc%3D1&qualifier=1634406788&id=3455031416018582&widgetName=sp_atf',\n",
       " 'https://www.amazon.in/Acer-i7-11800H-39-62cms-Graphics-AN515-57/dp/B09C8HZMW2/ref=sr_1_3?dchild=1&keywords=Laptop&qid=1634406788&qsid=260-7285606-4060761&refinements=p_n_feature_thirteen_browse-bin%3A12598163031&rnid=12598141031&s=computers&sr=1-3&sres=B09C8HZMW2%2CB089DFJHZ8%2CB08HRMHZ8J%2CB08WB857GB%2CB09F3QKQH6%2CB094XJPQ6N%2CB09GW2F4XV%2CB09GVZ6C8C%2CB09839P9XB%2CB08CKRKTSY%2CB09BDBCRNZ%2CB097TY6PTN%2CB098P34QRL%2CB098P4M233%2CB09CCL46PH%2CB09F3PCD31%2CB09BJ7GD7B%2CB09G3CQXSD%2CB09DMYZW5Q%2CB095C55Q7P&srpt=NOTEBOOK_COMPUTER',\n",
       " 'https://www.amazon.in/Notebook-Horizon-i7-10510U-Graphics-XMA1904-AF/dp/B089DFJHZ8/ref=sr_1_4?dchild=1&keywords=Laptop&qid=1634406788&qsid=260-7285606-4060761&refinements=p_n_feature_thirteen_browse-bin%3A12598163031&rnid=12598141031&s=computers&sr=1-4&sres=B09C8HZMW2%2CB089DFJHZ8%2CB08HRMHZ8J%2CB08WB857GB%2CB09F3QKQH6%2CB094XJPQ6N%2CB09GW2F4XV%2CB09GVZ6C8C%2CB09839P9XB%2CB08CKRKTSY%2CB09BDBCRNZ%2CB097TY6PTN%2CB098P34QRL%2CB098P4M233%2CB09CCL46PH%2CB09F3PCD31%2CB09BJ7GD7B%2CB09G3CQXSD%2CB09DMYZW5Q%2CB095C55Q7P&srpt=NOTEBOOK_COMPUTER',\n",
       " 'https://www.amazon.in/LifeDigital-Laptop-Intel%C2%AE-Storage-Windows/dp/B08HRMHZ8J/ref=sr_1_5?dchild=1&keywords=Laptop&qid=1634406788&qsid=260-7285606-4060761&refinements=p_n_feature_thirteen_browse-bin%3A12598163031&rnid=12598141031&s=computers&sr=1-5&sres=B09C8HZMW2%2CB089DFJHZ8%2CB08HRMHZ8J%2CB08WB857GB%2CB09F3QKQH6%2CB094XJPQ6N%2CB09GW2F4XV%2CB09GVZ6C8C%2CB09839P9XB%2CB08CKRKTSY%2CB09BDBCRNZ%2CB097TY6PTN%2CB098P34QRL%2CB098P4M233%2CB09CCL46PH%2CB09F3PCD31%2CB09BJ7GD7B%2CB09G3CQXSD%2CB09DMYZW5Q%2CB095C55Q7P&srpt=NOTEBOOK_COMPUTER',\n",
       " 'https://www.amazon.in/HP-Pavilion-Graphics-35-56cms-14-dv0058TU/dp/B08WB857GB/ref=sr_1_6?dchild=1&keywords=Laptop&qid=1634406788&qsid=260-7285606-4060761&refinements=p_n_feature_thirteen_browse-bin%3A12598163031&rnid=12598141031&s=computers&sr=1-6&sres=B09C8HZMW2%2CB089DFJHZ8%2CB08HRMHZ8J%2CB08WB857GB%2CB09F3QKQH6%2CB094XJPQ6N%2CB09GW2F4XV%2CB09GVZ6C8C%2CB09839P9XB%2CB08CKRKTSY%2CB09BDBCRNZ%2CB097TY6PTN%2CB098P34QRL%2CB098P4M233%2CB09CCL46PH%2CB09F3PCD31%2CB09BJ7GD7B%2CB09G3CQXSD%2CB09DMYZW5Q%2CB095C55Q7P&srpt=NOTEBOOK_COMPUTER',\n",
       " 'https://www.amazon.in/Dell-i7-1195G7-Platinum-5410-D560596WIN9S/dp/B09F3QKQH6/ref=sr_1_7?dchild=1&keywords=Laptop&qid=1634406788&qsid=260-7285606-4060761&refinements=p_n_feature_thirteen_browse-bin%3A12598163031&rnid=12598141031&s=computers&sr=1-7&sres=B09C8HZMW2%2CB089DFJHZ8%2CB08HRMHZ8J%2CB08WB857GB%2CB09F3QKQH6%2CB094XJPQ6N%2CB09GW2F4XV%2CB09GVZ6C8C%2CB09839P9XB%2CB08CKRKTSY%2CB09BDBCRNZ%2CB097TY6PTN%2CB098P34QRL%2CB098P4M233%2CB09CCL46PH%2CB09F3PCD31%2CB09BJ7GD7B%2CB09G3CQXSD%2CB09DMYZW5Q%2CB095C55Q7P&srpt=NOTEBOOK_COMPUTER',\n",
       " 'https://www.amazon.in/Lenovo-IdeaPad-Windows-Graphics-82H1002CIN/dp/B094XJPQ6N/ref=sr_1_8?dchild=1&keywords=Laptop&qid=1634406788&qsid=260-7285606-4060761&refinements=p_n_feature_thirteen_browse-bin%3A12598163031&rnid=12598141031&s=computers&sr=1-8&sres=B09C8HZMW2%2CB089DFJHZ8%2CB08HRMHZ8J%2CB08WB857GB%2CB09F3QKQH6%2CB094XJPQ6N%2CB09GW2F4XV%2CB09GVZ6C8C%2CB09839P9XB%2CB08CKRKTSY%2CB09BDBCRNZ%2CB097TY6PTN%2CB098P34QRL%2CB098P4M233%2CB09CCL46PH%2CB09F3PCD31%2CB09BJ7GD7B%2CB09G3CQXSD%2CB09DMYZW5Q%2CB095C55Q7P&srpt=NOTEBOOK_COMPUTER',\n",
       " 'https://www.amazon.in/Lenovo-ThinkBook-Antiglare-Warranty-20VEA0HHIH/dp/B09GW2F4XV/ref=sr_1_9?dchild=1&keywords=Laptop&qid=1634406788&qsid=260-7285606-4060761&refinements=p_n_feature_thirteen_browse-bin%3A12598163031&rnid=12598141031&s=computers&sr=1-9&sres=B09C8HZMW2%2CB089DFJHZ8%2CB08HRMHZ8J%2CB08WB857GB%2CB09F3QKQH6%2CB094XJPQ6N%2CB09GW2F4XV%2CB09GVZ6C8C%2CB09839P9XB%2CB08CKRKTSY%2CB09BDBCRNZ%2CB097TY6PTN%2CB098P34QRL%2CB098P4M233%2CB09CCL46PH%2CB09F3PCD31%2CB09BJ7GD7B%2CB09G3CQXSD%2CB09DMYZW5Q%2CB095C55Q7P&srpt=NOTEBOOK_COMPUTER',\n",
       " 'https://www.amazon.in/Renewed-Lenovo-Thinkpad-Hybrid-Laptop/dp/B09GVZ6C8C/ref=sr_1_10?dchild=1&keywords=Laptop&qid=1634406788&qsid=260-7285606-4060761&refinements=p_n_feature_thirteen_browse-bin%3A12598163031&rnid=12598141031&s=computers&sr=1-10&sres=B09C8HZMW2%2CB089DFJHZ8%2CB08HRMHZ8J%2CB08WB857GB%2CB09F3QKQH6%2CB094XJPQ6N%2CB09GW2F4XV%2CB09GVZ6C8C%2CB09839P9XB%2CB08CKRKTSY%2CB09BDBCRNZ%2CB097TY6PTN%2CB098P34QRL%2CB098P4M233%2CB09CCL46PH%2CB09F3PCD31%2CB09BJ7GD7B%2CB09G3CQXSD%2CB09DMYZW5Q%2CB095C55Q7P&srpt=NOTEBOOK_COMPUTER']"
      ]
     },
     "execution_count": 586,
     "metadata": {},
     "output_type": "execute_result"
    }
   ],
   "source": [
    "urls10=[]\n",
    "url10=driver10.find_elements_by_xpath(\"//h2[@class='a-size-mini a-spacing-none a-color-base s-line-clamp-2']/a\")\n",
    "for i in url10[0:10]:\n",
    "    urls10.append(i.get_attribute(\"href\"))\n",
    "urls10"
   ]
  },
  {
   "cell_type": "code",
   "execution_count": 590,
   "metadata": {},
   "outputs": [],
   "source": [
    "from selenium.common.exceptions import NoSuchElementException\n",
    "Ratings10=[]\n",
    "for j in urls10:\n",
    "    driver10.get(j)\n",
    "    try:\n",
    "        rate=driver10.find_element_by_xpath(\"//span[@class='a-size-medium a-color-base']\")\n",
    "        Ratings10.append(rate.text)\n",
    "    except NoSuchElementException:\n",
    "        Ratings10.append(\"-\")"
   ]
  },
  {
   "cell_type": "code",
   "execution_count": 592,
   "metadata": {
    "collapsed": true
   },
   "outputs": [
    {
     "data": {
      "text/plain": [
       "['4.4 out of 5',\n",
       " '3.9 out of 5',\n",
       " '3.9 out of 5',\n",
       " '4.2 out of 5',\n",
       " '3.3 out of 5',\n",
       " '4.3 out of 5',\n",
       " '-',\n",
       " '4.3 out of 5',\n",
       " '4.4 out of 5',\n",
       " '5 out of 5']"
      ]
     },
     "execution_count": 592,
     "metadata": {},
     "output_type": "execute_result"
    }
   ],
   "source": [
    "Ratings10"
   ]
  },
  {
   "cell_type": "code",
   "execution_count": 593,
   "metadata": {},
   "outputs": [
    {
     "data": {
      "text/html": [
       "<div>\n",
       "<style scoped>\n",
       "    .dataframe tbody tr th:only-of-type {\n",
       "        vertical-align: middle;\n",
       "    }\n",
       "\n",
       "    .dataframe tbody tr th {\n",
       "        vertical-align: top;\n",
       "    }\n",
       "\n",
       "    .dataframe thead th {\n",
       "        text-align: right;\n",
       "    }\n",
       "</style>\n",
       "<table border=\"1\" class=\"dataframe\">\n",
       "  <thead>\n",
       "    <tr style=\"text-align: right;\">\n",
       "      <th></th>\n",
       "      <th>Titles10</th>\n",
       "      <th>Price10</th>\n",
       "      <th>Ratings10</th>\n",
       "    </tr>\n",
       "    <tr>\n",
       "      <th>Sr.No</th>\n",
       "      <th></th>\n",
       "      <th></th>\n",
       "      <th></th>\n",
       "    </tr>\n",
       "  </thead>\n",
       "  <tbody>\n",
       "    <tr>\n",
       "      <th>0</th>\n",
       "      <td>Lenovo ThinkBook 15 Intel 11th Gen Core i7 15....</td>\n",
       "      <td>84,990</td>\n",
       "      <td>4.4 out of 5</td>\n",
       "    </tr>\n",
       "    <tr>\n",
       "      <th>1</th>\n",
       "      <td>Acer Nitro 5 11th Gen Intel Core i7-11800H 15....</td>\n",
       "      <td>85,990</td>\n",
       "      <td>3.9 out of 5</td>\n",
       "    </tr>\n",
       "    <tr>\n",
       "      <th>2</th>\n",
       "      <td>Acer Nitro 5 11th Gen Intel Core i7-11800H 15....</td>\n",
       "      <td>85,990</td>\n",
       "      <td>3.9 out of 5</td>\n",
       "    </tr>\n",
       "    <tr>\n",
       "      <th>3</th>\n",
       "      <td>Mi Notebook Horizon Edition 14 Intel Core i7-1...</td>\n",
       "      <td>53,990</td>\n",
       "      <td>4.2 out of 5</td>\n",
       "    </tr>\n",
       "    <tr>\n",
       "      <th>4</th>\n",
       "      <td>Life Digital Laptop 15.6-inch (39.62 cms) (Int...</td>\n",
       "      <td>24,990</td>\n",
       "      <td>3.3 out of 5</td>\n",
       "    </tr>\n",
       "    <tr>\n",
       "      <th>5</th>\n",
       "      <td>HP Pavilion (2021) Intel 11th Gen Core i7 14 i...</td>\n",
       "      <td>84,990</td>\n",
       "      <td>4.3 out of 5</td>\n",
       "    </tr>\n",
       "    <tr>\n",
       "      <th>6</th>\n",
       "      <td>Dell 14 (2021) i7-1195G7 2in1 Touch Screen Lap...</td>\n",
       "      <td>89,990</td>\n",
       "      <td>-</td>\n",
       "    </tr>\n",
       "    <tr>\n",
       "      <th>7</th>\n",
       "      <td>Lenovo IdeaPad S540 11th Gen Intel Core i7 13....</td>\n",
       "      <td>77,990</td>\n",
       "      <td>4.3 out of 5</td>\n",
       "    </tr>\n",
       "    <tr>\n",
       "      <th>8</th>\n",
       "      <td>Lenovo ThinkBook 15 Intel 11th Gen Core i7 15....</td>\n",
       "      <td>84,990</td>\n",
       "      <td>4.4 out of 5</td>\n",
       "    </tr>\n",
       "    <tr>\n",
       "      <th>9</th>\n",
       "      <td>(Renewed) Lenovo Thinkpad Hybrid Laptop T450s ...</td>\n",
       "      <td>39,990</td>\n",
       "      <td>5 out of 5</td>\n",
       "    </tr>\n",
       "  </tbody>\n",
       "</table>\n",
       "</div>"
      ],
      "text/plain": [
       "                                                Titles10 Price10     Ratings10\n",
       "Sr.No                                                                         \n",
       "0      Lenovo ThinkBook 15 Intel 11th Gen Core i7 15....  84,990  4.4 out of 5\n",
       "1      Acer Nitro 5 11th Gen Intel Core i7-11800H 15....  85,990  3.9 out of 5\n",
       "2      Acer Nitro 5 11th Gen Intel Core i7-11800H 15....  85,990  3.9 out of 5\n",
       "3      Mi Notebook Horizon Edition 14 Intel Core i7-1...  53,990  4.2 out of 5\n",
       "4      Life Digital Laptop 15.6-inch (39.62 cms) (Int...  24,990  3.3 out of 5\n",
       "5      HP Pavilion (2021) Intel 11th Gen Core i7 14 i...  84,990  4.3 out of 5\n",
       "6      Dell 14 (2021) i7-1195G7 2in1 Touch Screen Lap...  89,990             -\n",
       "7      Lenovo IdeaPad S540 11th Gen Intel Core i7 13....  77,990  4.3 out of 5\n",
       "8      Lenovo ThinkBook 15 Intel 11th Gen Core i7 15....  84,990  4.4 out of 5\n",
       "9      (Renewed) Lenovo Thinkpad Hybrid Laptop T450s ...  39,990    5 out of 5"
      ]
     },
     "execution_count": 593,
     "metadata": {},
     "output_type": "execute_result"
    }
   ],
   "source": [
    "Laptops=pd.DataFrame({})\n",
    "Laptops[\"Titles10\"]=Titles10[0:10]\n",
    "Laptops[\"Price10\"]=Price10[0:10]\n",
    "Laptops[\"Ratings10\"]=Ratings10[0:10]\n",
    "Laptops.index.set_names(\"Sr.No\",inplace=True)\n",
    "Laptops"
   ]
  },
  {
   "cell_type": "code",
   "execution_count": null,
   "metadata": {},
   "outputs": [],
   "source": []
  }
 ],
 "metadata": {
  "kernelspec": {
   "display_name": "Python 3",
   "language": "python",
   "name": "python3"
  },
  "language_info": {
   "codemirror_mode": {
    "name": "ipython",
    "version": 3
   },
   "file_extension": ".py",
   "mimetype": "text/x-python",
   "name": "python",
   "nbconvert_exporter": "python",
   "pygments_lexer": "ipython3",
   "version": "3.8.5"
  }
 },
 "nbformat": 4,
 "nbformat_minor": 4
}
