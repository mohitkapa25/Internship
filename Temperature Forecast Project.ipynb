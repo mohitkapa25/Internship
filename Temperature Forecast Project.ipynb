{
 "cells": [
  {
   "cell_type": "code",
   "execution_count": 134,
   "metadata": {},
   "outputs": [],
   "source": [
    "#temperature forecast project"
   ]
  },
  {
   "cell_type": "code",
   "execution_count": 135,
   "metadata": {},
   "outputs": [],
   "source": [
    "import pandas as pd\n",
    "import numpy as np\n",
    "import matplotlib.pyplot as plt\n",
    "import seaborn as sns\n",
    "import scipy\n",
    "from scipy import stats\n",
    "from scipy.stats import zscore\n",
    "from sklearn.preprocessing import StandardScaler\n",
    "from sklearn.preprocessing import power_transform\n",
    "from sklearn.model_selection import train_test_split\n",
    "from sklearn.model_selection import cross_val_score\n",
    "from sklearn.model_selection import RandomizedSearchCV\n",
    "from sklearn.neighbors import KNeighborsRegressor\n",
    "from sklearn.metrics import r2_score\n",
    "from sklearn.svm import SVR\n",
    "from sklearn.linear_model import Lasso\n",
    "from sklearn.ensemble import RandomForestRegressor,AdaBoostRegressor\n",
    "import warnings\n",
    "warnings.filterwarnings(\"ignore\")"
   ]
  },
  {
   "cell_type": "code",
   "execution_count": 136,
   "metadata": {},
   "outputs": [
    {
     "data": {
      "text/html": [
       "<div>\n",
       "<style scoped>\n",
       "    .dataframe tbody tr th:only-of-type {\n",
       "        vertical-align: middle;\n",
       "    }\n",
       "\n",
       "    .dataframe tbody tr th {\n",
       "        vertical-align: top;\n",
       "    }\n",
       "\n",
       "    .dataframe thead th {\n",
       "        text-align: right;\n",
       "    }\n",
       "</style>\n",
       "<table border=\"1\" class=\"dataframe\">\n",
       "  <thead>\n",
       "    <tr style=\"text-align: right;\">\n",
       "      <th></th>\n",
       "      <th>station</th>\n",
       "      <th>Date</th>\n",
       "      <th>Present_Tmax</th>\n",
       "      <th>Present_Tmin</th>\n",
       "      <th>LDAPS_RHmin</th>\n",
       "      <th>LDAPS_RHmax</th>\n",
       "      <th>LDAPS_Tmax_lapse</th>\n",
       "      <th>LDAPS_Tmin_lapse</th>\n",
       "      <th>LDAPS_WS</th>\n",
       "      <th>LDAPS_LH</th>\n",
       "      <th>...</th>\n",
       "      <th>LDAPS_PPT2</th>\n",
       "      <th>LDAPS_PPT3</th>\n",
       "      <th>LDAPS_PPT4</th>\n",
       "      <th>lat</th>\n",
       "      <th>lon</th>\n",
       "      <th>DEM</th>\n",
       "      <th>Slope</th>\n",
       "      <th>Solar radiation</th>\n",
       "      <th>Next_Tmax</th>\n",
       "      <th>Next_Tmin</th>\n",
       "    </tr>\n",
       "  </thead>\n",
       "  <tbody>\n",
       "    <tr>\n",
       "      <th>0</th>\n",
       "      <td>1.0</td>\n",
       "      <td>30-06-2013</td>\n",
       "      <td>28.7</td>\n",
       "      <td>21.4</td>\n",
       "      <td>58.255688</td>\n",
       "      <td>91.116364</td>\n",
       "      <td>28.074101</td>\n",
       "      <td>23.006936</td>\n",
       "      <td>6.818887</td>\n",
       "      <td>69.451805</td>\n",
       "      <td>...</td>\n",
       "      <td>0.000000</td>\n",
       "      <td>0.000000</td>\n",
       "      <td>0.000000</td>\n",
       "      <td>37.6046</td>\n",
       "      <td>126.991</td>\n",
       "      <td>212.3350</td>\n",
       "      <td>2.785000</td>\n",
       "      <td>5992.895996</td>\n",
       "      <td>29.1</td>\n",
       "      <td>21.2</td>\n",
       "    </tr>\n",
       "    <tr>\n",
       "      <th>1</th>\n",
       "      <td>2.0</td>\n",
       "      <td>30-06-2013</td>\n",
       "      <td>31.9</td>\n",
       "      <td>21.6</td>\n",
       "      <td>52.263397</td>\n",
       "      <td>90.604721</td>\n",
       "      <td>29.850689</td>\n",
       "      <td>24.035009</td>\n",
       "      <td>5.691890</td>\n",
       "      <td>51.937448</td>\n",
       "      <td>...</td>\n",
       "      <td>0.000000</td>\n",
       "      <td>0.000000</td>\n",
       "      <td>0.000000</td>\n",
       "      <td>37.6046</td>\n",
       "      <td>127.032</td>\n",
       "      <td>44.7624</td>\n",
       "      <td>0.514100</td>\n",
       "      <td>5869.312500</td>\n",
       "      <td>30.5</td>\n",
       "      <td>22.5</td>\n",
       "    </tr>\n",
       "    <tr>\n",
       "      <th>2</th>\n",
       "      <td>3.0</td>\n",
       "      <td>30-06-2013</td>\n",
       "      <td>31.6</td>\n",
       "      <td>23.3</td>\n",
       "      <td>48.690479</td>\n",
       "      <td>83.973587</td>\n",
       "      <td>30.091292</td>\n",
       "      <td>24.565633</td>\n",
       "      <td>6.138224</td>\n",
       "      <td>20.573050</td>\n",
       "      <td>...</td>\n",
       "      <td>0.000000</td>\n",
       "      <td>0.000000</td>\n",
       "      <td>0.000000</td>\n",
       "      <td>37.5776</td>\n",
       "      <td>127.058</td>\n",
       "      <td>33.3068</td>\n",
       "      <td>0.266100</td>\n",
       "      <td>5863.555664</td>\n",
       "      <td>31.1</td>\n",
       "      <td>23.9</td>\n",
       "    </tr>\n",
       "    <tr>\n",
       "      <th>3</th>\n",
       "      <td>4.0</td>\n",
       "      <td>30-06-2013</td>\n",
       "      <td>32.0</td>\n",
       "      <td>23.4</td>\n",
       "      <td>58.239788</td>\n",
       "      <td>96.483688</td>\n",
       "      <td>29.704629</td>\n",
       "      <td>23.326177</td>\n",
       "      <td>5.650050</td>\n",
       "      <td>65.727144</td>\n",
       "      <td>...</td>\n",
       "      <td>0.000000</td>\n",
       "      <td>0.000000</td>\n",
       "      <td>0.000000</td>\n",
       "      <td>37.6450</td>\n",
       "      <td>127.022</td>\n",
       "      <td>45.7160</td>\n",
       "      <td>2.534800</td>\n",
       "      <td>5856.964844</td>\n",
       "      <td>31.7</td>\n",
       "      <td>24.3</td>\n",
       "    </tr>\n",
       "    <tr>\n",
       "      <th>4</th>\n",
       "      <td>5.0</td>\n",
       "      <td>30-06-2013</td>\n",
       "      <td>31.4</td>\n",
       "      <td>21.9</td>\n",
       "      <td>56.174095</td>\n",
       "      <td>90.155128</td>\n",
       "      <td>29.113934</td>\n",
       "      <td>23.486480</td>\n",
       "      <td>5.735004</td>\n",
       "      <td>107.965535</td>\n",
       "      <td>...</td>\n",
       "      <td>0.000000</td>\n",
       "      <td>0.000000</td>\n",
       "      <td>0.000000</td>\n",
       "      <td>37.5507</td>\n",
       "      <td>127.135</td>\n",
       "      <td>35.0380</td>\n",
       "      <td>0.505500</td>\n",
       "      <td>5859.552246</td>\n",
       "      <td>31.2</td>\n",
       "      <td>22.5</td>\n",
       "    </tr>\n",
       "    <tr>\n",
       "      <th>...</th>\n",
       "      <td>...</td>\n",
       "      <td>...</td>\n",
       "      <td>...</td>\n",
       "      <td>...</td>\n",
       "      <td>...</td>\n",
       "      <td>...</td>\n",
       "      <td>...</td>\n",
       "      <td>...</td>\n",
       "      <td>...</td>\n",
       "      <td>...</td>\n",
       "      <td>...</td>\n",
       "      <td>...</td>\n",
       "      <td>...</td>\n",
       "      <td>...</td>\n",
       "      <td>...</td>\n",
       "      <td>...</td>\n",
       "      <td>...</td>\n",
       "      <td>...</td>\n",
       "      <td>...</td>\n",
       "      <td>...</td>\n",
       "      <td>...</td>\n",
       "    </tr>\n",
       "    <tr>\n",
       "      <th>7747</th>\n",
       "      <td>23.0</td>\n",
       "      <td>30-08-2017</td>\n",
       "      <td>23.3</td>\n",
       "      <td>17.1</td>\n",
       "      <td>26.741310</td>\n",
       "      <td>78.869858</td>\n",
       "      <td>26.352081</td>\n",
       "      <td>18.775678</td>\n",
       "      <td>6.148918</td>\n",
       "      <td>72.058294</td>\n",
       "      <td>...</td>\n",
       "      <td>0.000000</td>\n",
       "      <td>0.000000</td>\n",
       "      <td>0.000000</td>\n",
       "      <td>37.5372</td>\n",
       "      <td>126.891</td>\n",
       "      <td>15.5876</td>\n",
       "      <td>0.155400</td>\n",
       "      <td>4443.313965</td>\n",
       "      <td>28.3</td>\n",
       "      <td>18.1</td>\n",
       "    </tr>\n",
       "    <tr>\n",
       "      <th>7748</th>\n",
       "      <td>24.0</td>\n",
       "      <td>30-08-2017</td>\n",
       "      <td>23.3</td>\n",
       "      <td>17.7</td>\n",
       "      <td>24.040634</td>\n",
       "      <td>77.294975</td>\n",
       "      <td>27.010193</td>\n",
       "      <td>18.733519</td>\n",
       "      <td>6.542819</td>\n",
       "      <td>47.241457</td>\n",
       "      <td>...</td>\n",
       "      <td>0.000000</td>\n",
       "      <td>0.000000</td>\n",
       "      <td>0.000000</td>\n",
       "      <td>37.5237</td>\n",
       "      <td>126.909</td>\n",
       "      <td>17.2956</td>\n",
       "      <td>0.222300</td>\n",
       "      <td>4438.373535</td>\n",
       "      <td>28.6</td>\n",
       "      <td>18.8</td>\n",
       "    </tr>\n",
       "    <tr>\n",
       "      <th>7749</th>\n",
       "      <td>25.0</td>\n",
       "      <td>30-08-2017</td>\n",
       "      <td>23.2</td>\n",
       "      <td>17.4</td>\n",
       "      <td>22.933014</td>\n",
       "      <td>77.243744</td>\n",
       "      <td>27.939516</td>\n",
       "      <td>18.522965</td>\n",
       "      <td>7.289264</td>\n",
       "      <td>9.090034</td>\n",
       "      <td>...</td>\n",
       "      <td>0.000000</td>\n",
       "      <td>0.000000</td>\n",
       "      <td>0.000000</td>\n",
       "      <td>37.5237</td>\n",
       "      <td>126.970</td>\n",
       "      <td>19.5844</td>\n",
       "      <td>0.271300</td>\n",
       "      <td>4451.345215</td>\n",
       "      <td>27.8</td>\n",
       "      <td>17.4</td>\n",
       "    </tr>\n",
       "    <tr>\n",
       "      <th>7750</th>\n",
       "      <td>NaN</td>\n",
       "      <td>NaN</td>\n",
       "      <td>20.0</td>\n",
       "      <td>11.3</td>\n",
       "      <td>19.794666</td>\n",
       "      <td>58.936283</td>\n",
       "      <td>17.624954</td>\n",
       "      <td>14.272646</td>\n",
       "      <td>2.882580</td>\n",
       "      <td>-13.603212</td>\n",
       "      <td>...</td>\n",
       "      <td>0.000000</td>\n",
       "      <td>0.000000</td>\n",
       "      <td>0.000000</td>\n",
       "      <td>37.4562</td>\n",
       "      <td>126.826</td>\n",
       "      <td>12.3700</td>\n",
       "      <td>0.098475</td>\n",
       "      <td>4329.520508</td>\n",
       "      <td>17.4</td>\n",
       "      <td>11.3</td>\n",
       "    </tr>\n",
       "    <tr>\n",
       "      <th>7751</th>\n",
       "      <td>NaN</td>\n",
       "      <td>NaN</td>\n",
       "      <td>37.6</td>\n",
       "      <td>29.9</td>\n",
       "      <td>98.524734</td>\n",
       "      <td>100.000153</td>\n",
       "      <td>38.542255</td>\n",
       "      <td>29.619342</td>\n",
       "      <td>21.857621</td>\n",
       "      <td>213.414006</td>\n",
       "      <td>...</td>\n",
       "      <td>21.621661</td>\n",
       "      <td>15.841235</td>\n",
       "      <td>16.655469</td>\n",
       "      <td>37.6450</td>\n",
       "      <td>127.135</td>\n",
       "      <td>212.3350</td>\n",
       "      <td>5.178230</td>\n",
       "      <td>5992.895996</td>\n",
       "      <td>38.9</td>\n",
       "      <td>29.8</td>\n",
       "    </tr>\n",
       "  </tbody>\n",
       "</table>\n",
       "<p>7752 rows × 25 columns</p>\n",
       "</div>"
      ],
      "text/plain": [
       "      station        Date  Present_Tmax  Present_Tmin  LDAPS_RHmin  \\\n",
       "0         1.0  30-06-2013          28.7          21.4    58.255688   \n",
       "1         2.0  30-06-2013          31.9          21.6    52.263397   \n",
       "2         3.0  30-06-2013          31.6          23.3    48.690479   \n",
       "3         4.0  30-06-2013          32.0          23.4    58.239788   \n",
       "4         5.0  30-06-2013          31.4          21.9    56.174095   \n",
       "...       ...         ...           ...           ...          ...   \n",
       "7747     23.0  30-08-2017          23.3          17.1    26.741310   \n",
       "7748     24.0  30-08-2017          23.3          17.7    24.040634   \n",
       "7749     25.0  30-08-2017          23.2          17.4    22.933014   \n",
       "7750      NaN         NaN          20.0          11.3    19.794666   \n",
       "7751      NaN         NaN          37.6          29.9    98.524734   \n",
       "\n",
       "      LDAPS_RHmax  LDAPS_Tmax_lapse  LDAPS_Tmin_lapse   LDAPS_WS    LDAPS_LH  \\\n",
       "0       91.116364         28.074101         23.006936   6.818887   69.451805   \n",
       "1       90.604721         29.850689         24.035009   5.691890   51.937448   \n",
       "2       83.973587         30.091292         24.565633   6.138224   20.573050   \n",
       "3       96.483688         29.704629         23.326177   5.650050   65.727144   \n",
       "4       90.155128         29.113934         23.486480   5.735004  107.965535   \n",
       "...           ...               ...               ...        ...         ...   \n",
       "7747    78.869858         26.352081         18.775678   6.148918   72.058294   \n",
       "7748    77.294975         27.010193         18.733519   6.542819   47.241457   \n",
       "7749    77.243744         27.939516         18.522965   7.289264    9.090034   \n",
       "7750    58.936283         17.624954         14.272646   2.882580  -13.603212   \n",
       "7751   100.000153         38.542255         29.619342  21.857621  213.414006   \n",
       "\n",
       "      ...  LDAPS_PPT2  LDAPS_PPT3  LDAPS_PPT4      lat      lon       DEM  \\\n",
       "0     ...    0.000000    0.000000    0.000000  37.6046  126.991  212.3350   \n",
       "1     ...    0.000000    0.000000    0.000000  37.6046  127.032   44.7624   \n",
       "2     ...    0.000000    0.000000    0.000000  37.5776  127.058   33.3068   \n",
       "3     ...    0.000000    0.000000    0.000000  37.6450  127.022   45.7160   \n",
       "4     ...    0.000000    0.000000    0.000000  37.5507  127.135   35.0380   \n",
       "...   ...         ...         ...         ...      ...      ...       ...   \n",
       "7747  ...    0.000000    0.000000    0.000000  37.5372  126.891   15.5876   \n",
       "7748  ...    0.000000    0.000000    0.000000  37.5237  126.909   17.2956   \n",
       "7749  ...    0.000000    0.000000    0.000000  37.5237  126.970   19.5844   \n",
       "7750  ...    0.000000    0.000000    0.000000  37.4562  126.826   12.3700   \n",
       "7751  ...   21.621661   15.841235   16.655469  37.6450  127.135  212.3350   \n",
       "\n",
       "         Slope  Solar radiation  Next_Tmax  Next_Tmin  \n",
       "0     2.785000      5992.895996       29.1       21.2  \n",
       "1     0.514100      5869.312500       30.5       22.5  \n",
       "2     0.266100      5863.555664       31.1       23.9  \n",
       "3     2.534800      5856.964844       31.7       24.3  \n",
       "4     0.505500      5859.552246       31.2       22.5  \n",
       "...        ...              ...        ...        ...  \n",
       "7747  0.155400      4443.313965       28.3       18.1  \n",
       "7748  0.222300      4438.373535       28.6       18.8  \n",
       "7749  0.271300      4451.345215       27.8       17.4  \n",
       "7750  0.098475      4329.520508       17.4       11.3  \n",
       "7751  5.178230      5992.895996       38.9       29.8  \n",
       "\n",
       "[7752 rows x 25 columns]"
      ]
     },
     "execution_count": 136,
     "metadata": {},
     "output_type": "execute_result"
    }
   ],
   "source": [
    "#lets read the csvfile\n",
    "df=pd.read_csv(\"https://raw.githubusercontent.com/dsrscientist/Dataset2/main/temperature.csv\")\n",
    "df"
   ]
  },
  {
   "cell_type": "code",
   "execution_count": 137,
   "metadata": {},
   "outputs": [
    {
     "data": {
      "text/html": [
       "<div>\n",
       "<style scoped>\n",
       "    .dataframe tbody tr th:only-of-type {\n",
       "        vertical-align: middle;\n",
       "    }\n",
       "\n",
       "    .dataframe tbody tr th {\n",
       "        vertical-align: top;\n",
       "    }\n",
       "\n",
       "    .dataframe thead th {\n",
       "        text-align: right;\n",
       "    }\n",
       "</style>\n",
       "<table border=\"1\" class=\"dataframe\">\n",
       "  <thead>\n",
       "    <tr style=\"text-align: right;\">\n",
       "      <th></th>\n",
       "      <th>station</th>\n",
       "      <th>Date</th>\n",
       "      <th>Present_Tmax</th>\n",
       "      <th>Present_Tmin</th>\n",
       "      <th>LDAPS_RHmin</th>\n",
       "      <th>LDAPS_RHmax</th>\n",
       "      <th>LDAPS_Tmax_lapse</th>\n",
       "      <th>LDAPS_Tmin_lapse</th>\n",
       "      <th>LDAPS_WS</th>\n",
       "      <th>LDAPS_LH</th>\n",
       "      <th>...</th>\n",
       "      <th>LDAPS_PPT2</th>\n",
       "      <th>LDAPS_PPT3</th>\n",
       "      <th>LDAPS_PPT4</th>\n",
       "      <th>lat</th>\n",
       "      <th>lon</th>\n",
       "      <th>DEM</th>\n",
       "      <th>Slope</th>\n",
       "      <th>Solar radiation</th>\n",
       "      <th>Next_Tmax</th>\n",
       "      <th>Next_Tmin</th>\n",
       "    </tr>\n",
       "  </thead>\n",
       "  <tbody>\n",
       "    <tr>\n",
       "      <th>0</th>\n",
       "      <td>1.0</td>\n",
       "      <td>30-06-2013</td>\n",
       "      <td>28.7</td>\n",
       "      <td>21.4</td>\n",
       "      <td>58.255688</td>\n",
       "      <td>91.116364</td>\n",
       "      <td>28.074101</td>\n",
       "      <td>23.006936</td>\n",
       "      <td>6.818887</td>\n",
       "      <td>69.451805</td>\n",
       "      <td>...</td>\n",
       "      <td>0.000000</td>\n",
       "      <td>0.000000</td>\n",
       "      <td>0.000000</td>\n",
       "      <td>37.6046</td>\n",
       "      <td>126.991</td>\n",
       "      <td>212.3350</td>\n",
       "      <td>2.785000</td>\n",
       "      <td>5992.895996</td>\n",
       "      <td>29.1</td>\n",
       "      <td>21.2</td>\n",
       "    </tr>\n",
       "    <tr>\n",
       "      <th>1</th>\n",
       "      <td>2.0</td>\n",
       "      <td>30-06-2013</td>\n",
       "      <td>31.9</td>\n",
       "      <td>21.6</td>\n",
       "      <td>52.263397</td>\n",
       "      <td>90.604721</td>\n",
       "      <td>29.850689</td>\n",
       "      <td>24.035009</td>\n",
       "      <td>5.691890</td>\n",
       "      <td>51.937448</td>\n",
       "      <td>...</td>\n",
       "      <td>0.000000</td>\n",
       "      <td>0.000000</td>\n",
       "      <td>0.000000</td>\n",
       "      <td>37.6046</td>\n",
       "      <td>127.032</td>\n",
       "      <td>44.7624</td>\n",
       "      <td>0.514100</td>\n",
       "      <td>5869.312500</td>\n",
       "      <td>30.5</td>\n",
       "      <td>22.5</td>\n",
       "    </tr>\n",
       "    <tr>\n",
       "      <th>2</th>\n",
       "      <td>3.0</td>\n",
       "      <td>30-06-2013</td>\n",
       "      <td>31.6</td>\n",
       "      <td>23.3</td>\n",
       "      <td>48.690479</td>\n",
       "      <td>83.973587</td>\n",
       "      <td>30.091292</td>\n",
       "      <td>24.565633</td>\n",
       "      <td>6.138224</td>\n",
       "      <td>20.573050</td>\n",
       "      <td>...</td>\n",
       "      <td>0.000000</td>\n",
       "      <td>0.000000</td>\n",
       "      <td>0.000000</td>\n",
       "      <td>37.5776</td>\n",
       "      <td>127.058</td>\n",
       "      <td>33.3068</td>\n",
       "      <td>0.266100</td>\n",
       "      <td>5863.555664</td>\n",
       "      <td>31.1</td>\n",
       "      <td>23.9</td>\n",
       "    </tr>\n",
       "    <tr>\n",
       "      <th>3</th>\n",
       "      <td>4.0</td>\n",
       "      <td>30-06-2013</td>\n",
       "      <td>32.0</td>\n",
       "      <td>23.4</td>\n",
       "      <td>58.239788</td>\n",
       "      <td>96.483688</td>\n",
       "      <td>29.704629</td>\n",
       "      <td>23.326177</td>\n",
       "      <td>5.650050</td>\n",
       "      <td>65.727144</td>\n",
       "      <td>...</td>\n",
       "      <td>0.000000</td>\n",
       "      <td>0.000000</td>\n",
       "      <td>0.000000</td>\n",
       "      <td>37.6450</td>\n",
       "      <td>127.022</td>\n",
       "      <td>45.7160</td>\n",
       "      <td>2.534800</td>\n",
       "      <td>5856.964844</td>\n",
       "      <td>31.7</td>\n",
       "      <td>24.3</td>\n",
       "    </tr>\n",
       "    <tr>\n",
       "      <th>4</th>\n",
       "      <td>5.0</td>\n",
       "      <td>30-06-2013</td>\n",
       "      <td>31.4</td>\n",
       "      <td>21.9</td>\n",
       "      <td>56.174095</td>\n",
       "      <td>90.155128</td>\n",
       "      <td>29.113934</td>\n",
       "      <td>23.486480</td>\n",
       "      <td>5.735004</td>\n",
       "      <td>107.965535</td>\n",
       "      <td>...</td>\n",
       "      <td>0.000000</td>\n",
       "      <td>0.000000</td>\n",
       "      <td>0.000000</td>\n",
       "      <td>37.5507</td>\n",
       "      <td>127.135</td>\n",
       "      <td>35.0380</td>\n",
       "      <td>0.505500</td>\n",
       "      <td>5859.552246</td>\n",
       "      <td>31.2</td>\n",
       "      <td>22.5</td>\n",
       "    </tr>\n",
       "    <tr>\n",
       "      <th>...</th>\n",
       "      <td>...</td>\n",
       "      <td>...</td>\n",
       "      <td>...</td>\n",
       "      <td>...</td>\n",
       "      <td>...</td>\n",
       "      <td>...</td>\n",
       "      <td>...</td>\n",
       "      <td>...</td>\n",
       "      <td>...</td>\n",
       "      <td>...</td>\n",
       "      <td>...</td>\n",
       "      <td>...</td>\n",
       "      <td>...</td>\n",
       "      <td>...</td>\n",
       "      <td>...</td>\n",
       "      <td>...</td>\n",
       "      <td>...</td>\n",
       "      <td>...</td>\n",
       "      <td>...</td>\n",
       "      <td>...</td>\n",
       "      <td>...</td>\n",
       "    </tr>\n",
       "    <tr>\n",
       "      <th>7747</th>\n",
       "      <td>23.0</td>\n",
       "      <td>30-08-2017</td>\n",
       "      <td>23.3</td>\n",
       "      <td>17.1</td>\n",
       "      <td>26.741310</td>\n",
       "      <td>78.869858</td>\n",
       "      <td>26.352081</td>\n",
       "      <td>18.775678</td>\n",
       "      <td>6.148918</td>\n",
       "      <td>72.058294</td>\n",
       "      <td>...</td>\n",
       "      <td>0.000000</td>\n",
       "      <td>0.000000</td>\n",
       "      <td>0.000000</td>\n",
       "      <td>37.5372</td>\n",
       "      <td>126.891</td>\n",
       "      <td>15.5876</td>\n",
       "      <td>0.155400</td>\n",
       "      <td>4443.313965</td>\n",
       "      <td>28.3</td>\n",
       "      <td>18.1</td>\n",
       "    </tr>\n",
       "    <tr>\n",
       "      <th>7748</th>\n",
       "      <td>24.0</td>\n",
       "      <td>30-08-2017</td>\n",
       "      <td>23.3</td>\n",
       "      <td>17.7</td>\n",
       "      <td>24.040634</td>\n",
       "      <td>77.294975</td>\n",
       "      <td>27.010193</td>\n",
       "      <td>18.733519</td>\n",
       "      <td>6.542819</td>\n",
       "      <td>47.241457</td>\n",
       "      <td>...</td>\n",
       "      <td>0.000000</td>\n",
       "      <td>0.000000</td>\n",
       "      <td>0.000000</td>\n",
       "      <td>37.5237</td>\n",
       "      <td>126.909</td>\n",
       "      <td>17.2956</td>\n",
       "      <td>0.222300</td>\n",
       "      <td>4438.373535</td>\n",
       "      <td>28.6</td>\n",
       "      <td>18.8</td>\n",
       "    </tr>\n",
       "    <tr>\n",
       "      <th>7749</th>\n",
       "      <td>25.0</td>\n",
       "      <td>30-08-2017</td>\n",
       "      <td>23.2</td>\n",
       "      <td>17.4</td>\n",
       "      <td>22.933014</td>\n",
       "      <td>77.243744</td>\n",
       "      <td>27.939516</td>\n",
       "      <td>18.522965</td>\n",
       "      <td>7.289264</td>\n",
       "      <td>9.090034</td>\n",
       "      <td>...</td>\n",
       "      <td>0.000000</td>\n",
       "      <td>0.000000</td>\n",
       "      <td>0.000000</td>\n",
       "      <td>37.5237</td>\n",
       "      <td>126.970</td>\n",
       "      <td>19.5844</td>\n",
       "      <td>0.271300</td>\n",
       "      <td>4451.345215</td>\n",
       "      <td>27.8</td>\n",
       "      <td>17.4</td>\n",
       "    </tr>\n",
       "    <tr>\n",
       "      <th>7750</th>\n",
       "      <td>NaN</td>\n",
       "      <td>NaN</td>\n",
       "      <td>20.0</td>\n",
       "      <td>11.3</td>\n",
       "      <td>19.794666</td>\n",
       "      <td>58.936283</td>\n",
       "      <td>17.624954</td>\n",
       "      <td>14.272646</td>\n",
       "      <td>2.882580</td>\n",
       "      <td>-13.603212</td>\n",
       "      <td>...</td>\n",
       "      <td>0.000000</td>\n",
       "      <td>0.000000</td>\n",
       "      <td>0.000000</td>\n",
       "      <td>37.4562</td>\n",
       "      <td>126.826</td>\n",
       "      <td>12.3700</td>\n",
       "      <td>0.098475</td>\n",
       "      <td>4329.520508</td>\n",
       "      <td>17.4</td>\n",
       "      <td>11.3</td>\n",
       "    </tr>\n",
       "    <tr>\n",
       "      <th>7751</th>\n",
       "      <td>NaN</td>\n",
       "      <td>NaN</td>\n",
       "      <td>37.6</td>\n",
       "      <td>29.9</td>\n",
       "      <td>98.524734</td>\n",
       "      <td>100.000153</td>\n",
       "      <td>38.542255</td>\n",
       "      <td>29.619342</td>\n",
       "      <td>21.857621</td>\n",
       "      <td>213.414006</td>\n",
       "      <td>...</td>\n",
       "      <td>21.621661</td>\n",
       "      <td>15.841235</td>\n",
       "      <td>16.655469</td>\n",
       "      <td>37.6450</td>\n",
       "      <td>127.135</td>\n",
       "      <td>212.3350</td>\n",
       "      <td>5.178230</td>\n",
       "      <td>5992.895996</td>\n",
       "      <td>38.9</td>\n",
       "      <td>29.8</td>\n",
       "    </tr>\n",
       "  </tbody>\n",
       "</table>\n",
       "<p>7752 rows × 25 columns</p>\n",
       "</div>"
      ],
      "text/plain": [
       "      station        Date  Present_Tmax  Present_Tmin  LDAPS_RHmin  \\\n",
       "0         1.0  30-06-2013          28.7          21.4    58.255688   \n",
       "1         2.0  30-06-2013          31.9          21.6    52.263397   \n",
       "2         3.0  30-06-2013          31.6          23.3    48.690479   \n",
       "3         4.0  30-06-2013          32.0          23.4    58.239788   \n",
       "4         5.0  30-06-2013          31.4          21.9    56.174095   \n",
       "...       ...         ...           ...           ...          ...   \n",
       "7747     23.0  30-08-2017          23.3          17.1    26.741310   \n",
       "7748     24.0  30-08-2017          23.3          17.7    24.040634   \n",
       "7749     25.0  30-08-2017          23.2          17.4    22.933014   \n",
       "7750      NaN         NaN          20.0          11.3    19.794666   \n",
       "7751      NaN         NaN          37.6          29.9    98.524734   \n",
       "\n",
       "      LDAPS_RHmax  LDAPS_Tmax_lapse  LDAPS_Tmin_lapse   LDAPS_WS    LDAPS_LH  \\\n",
       "0       91.116364         28.074101         23.006936   6.818887   69.451805   \n",
       "1       90.604721         29.850689         24.035009   5.691890   51.937448   \n",
       "2       83.973587         30.091292         24.565633   6.138224   20.573050   \n",
       "3       96.483688         29.704629         23.326177   5.650050   65.727144   \n",
       "4       90.155128         29.113934         23.486480   5.735004  107.965535   \n",
       "...           ...               ...               ...        ...         ...   \n",
       "7747    78.869858         26.352081         18.775678   6.148918   72.058294   \n",
       "7748    77.294975         27.010193         18.733519   6.542819   47.241457   \n",
       "7749    77.243744         27.939516         18.522965   7.289264    9.090034   \n",
       "7750    58.936283         17.624954         14.272646   2.882580  -13.603212   \n",
       "7751   100.000153         38.542255         29.619342  21.857621  213.414006   \n",
       "\n",
       "      ...  LDAPS_PPT2  LDAPS_PPT3  LDAPS_PPT4      lat      lon       DEM  \\\n",
       "0     ...    0.000000    0.000000    0.000000  37.6046  126.991  212.3350   \n",
       "1     ...    0.000000    0.000000    0.000000  37.6046  127.032   44.7624   \n",
       "2     ...    0.000000    0.000000    0.000000  37.5776  127.058   33.3068   \n",
       "3     ...    0.000000    0.000000    0.000000  37.6450  127.022   45.7160   \n",
       "4     ...    0.000000    0.000000    0.000000  37.5507  127.135   35.0380   \n",
       "...   ...         ...         ...         ...      ...      ...       ...   \n",
       "7747  ...    0.000000    0.000000    0.000000  37.5372  126.891   15.5876   \n",
       "7748  ...    0.000000    0.000000    0.000000  37.5237  126.909   17.2956   \n",
       "7749  ...    0.000000    0.000000    0.000000  37.5237  126.970   19.5844   \n",
       "7750  ...    0.000000    0.000000    0.000000  37.4562  126.826   12.3700   \n",
       "7751  ...   21.621661   15.841235   16.655469  37.6450  127.135  212.3350   \n",
       "\n",
       "         Slope  Solar radiation  Next_Tmax  Next_Tmin  \n",
       "0     2.785000      5992.895996       29.1       21.2  \n",
       "1     0.514100      5869.312500       30.5       22.5  \n",
       "2     0.266100      5863.555664       31.1       23.9  \n",
       "3     2.534800      5856.964844       31.7       24.3  \n",
       "4     0.505500      5859.552246       31.2       22.5  \n",
       "...        ...              ...        ...        ...  \n",
       "7747  0.155400      4443.313965       28.3       18.1  \n",
       "7748  0.222300      4438.373535       28.6       18.8  \n",
       "7749  0.271300      4451.345215       27.8       17.4  \n",
       "7750  0.098475      4329.520508       17.4       11.3  \n",
       "7751  5.178230      5992.895996       38.9       29.8  \n",
       "\n",
       "[7752 rows x 25 columns]"
      ]
     },
     "execution_count": 137,
     "metadata": {},
     "output_type": "execute_result"
    }
   ],
   "source": [
    "#lets convert the csv file into dataframe\n",
    "Temperature=pd.DataFrame(data=df)\n",
    "Temperature"
   ]
  },
  {
   "cell_type": "code",
   "execution_count": 138,
   "metadata": {},
   "outputs": [
    {
     "data": {
      "text/plain": [
       "(7752, 25)"
      ]
     },
     "execution_count": 138,
     "metadata": {},
     "output_type": "execute_result"
    }
   ],
   "source": [
    "Temperature.shape\n",
    "#it has 7752 rows and 25 columns"
   ]
  },
  {
   "cell_type": "code",
   "execution_count": 139,
   "metadata": {},
   "outputs": [
    {
     "data": {
      "text/plain": [
       "station             float64\n",
       "Date                 object\n",
       "Present_Tmax        float64\n",
       "Present_Tmin        float64\n",
       "LDAPS_RHmin         float64\n",
       "LDAPS_RHmax         float64\n",
       "LDAPS_Tmax_lapse    float64\n",
       "LDAPS_Tmin_lapse    float64\n",
       "LDAPS_WS            float64\n",
       "LDAPS_LH            float64\n",
       "LDAPS_CC1           float64\n",
       "LDAPS_CC2           float64\n",
       "LDAPS_CC3           float64\n",
       "LDAPS_CC4           float64\n",
       "LDAPS_PPT1          float64\n",
       "LDAPS_PPT2          float64\n",
       "LDAPS_PPT3          float64\n",
       "LDAPS_PPT4          float64\n",
       "lat                 float64\n",
       "lon                 float64\n",
       "DEM                 float64\n",
       "Slope               float64\n",
       "Solar radiation     float64\n",
       "Next_Tmax           float64\n",
       "Next_Tmin           float64\n",
       "dtype: object"
      ]
     },
     "execution_count": 139,
     "metadata": {},
     "output_type": "execute_result"
    }
   ],
   "source": [
    "Temperature.dtypes\n",
    "#the data types are float and object types"
   ]
  },
  {
   "cell_type": "code",
   "execution_count": 140,
   "metadata": {},
   "outputs": [
    {
     "data": {
      "text/plain": [
       "station              2\n",
       "Date                 2\n",
       "Present_Tmax        70\n",
       "Present_Tmin        70\n",
       "LDAPS_RHmin         75\n",
       "LDAPS_RHmax         75\n",
       "LDAPS_Tmax_lapse    75\n",
       "LDAPS_Tmin_lapse    75\n",
       "LDAPS_WS            75\n",
       "LDAPS_LH            75\n",
       "LDAPS_CC1           75\n",
       "LDAPS_CC2           75\n",
       "LDAPS_CC3           75\n",
       "LDAPS_CC4           75\n",
       "LDAPS_PPT1          75\n",
       "LDAPS_PPT2          75\n",
       "LDAPS_PPT3          75\n",
       "LDAPS_PPT4          75\n",
       "lat                  0\n",
       "lon                  0\n",
       "DEM                  0\n",
       "Slope                0\n",
       "Solar radiation      0\n",
       "Next_Tmax           27\n",
       "Next_Tmin           27\n",
       "dtype: int64"
      ]
     },
     "execution_count": 140,
     "metadata": {},
     "output_type": "execute_result"
    }
   ],
   "source": [
    "#let find for missing values:\n",
    "Temperature.isnull().sum()"
   ]
  },
  {
   "cell_type": "code",
   "execution_count": 141,
   "metadata": {},
   "outputs": [],
   "source": [
    "Temperature.drop([7750,7751],axis=0,inplace=True)"
   ]
  },
  {
   "cell_type": "code",
   "execution_count": 142,
   "metadata": {},
   "outputs": [
    {
     "data": {
      "text/html": [
       "<div>\n",
       "<style scoped>\n",
       "    .dataframe tbody tr th:only-of-type {\n",
       "        vertical-align: middle;\n",
       "    }\n",
       "\n",
       "    .dataframe tbody tr th {\n",
       "        vertical-align: top;\n",
       "    }\n",
       "\n",
       "    .dataframe thead th {\n",
       "        text-align: right;\n",
       "    }\n",
       "</style>\n",
       "<table border=\"1\" class=\"dataframe\">\n",
       "  <thead>\n",
       "    <tr style=\"text-align: right;\">\n",
       "      <th></th>\n",
       "      <th>station</th>\n",
       "      <th>Date</th>\n",
       "      <th>Present_Tmax</th>\n",
       "      <th>Present_Tmin</th>\n",
       "      <th>LDAPS_RHmin</th>\n",
       "      <th>LDAPS_RHmax</th>\n",
       "      <th>LDAPS_Tmax_lapse</th>\n",
       "      <th>LDAPS_Tmin_lapse</th>\n",
       "      <th>LDAPS_WS</th>\n",
       "      <th>LDAPS_LH</th>\n",
       "      <th>...</th>\n",
       "      <th>LDAPS_PPT2</th>\n",
       "      <th>LDAPS_PPT3</th>\n",
       "      <th>LDAPS_PPT4</th>\n",
       "      <th>lat</th>\n",
       "      <th>lon</th>\n",
       "      <th>DEM</th>\n",
       "      <th>Slope</th>\n",
       "      <th>Solar radiation</th>\n",
       "      <th>Next_Tmax</th>\n",
       "      <th>Next_Tmin</th>\n",
       "    </tr>\n",
       "  </thead>\n",
       "  <tbody>\n",
       "    <tr>\n",
       "      <th>0</th>\n",
       "      <td>1.0</td>\n",
       "      <td>30-06-2013</td>\n",
       "      <td>28.7</td>\n",
       "      <td>21.4</td>\n",
       "      <td>58.255688</td>\n",
       "      <td>91.116364</td>\n",
       "      <td>28.074101</td>\n",
       "      <td>23.006936</td>\n",
       "      <td>6.818887</td>\n",
       "      <td>69.451805</td>\n",
       "      <td>...</td>\n",
       "      <td>0.0</td>\n",
       "      <td>0.0</td>\n",
       "      <td>0.0</td>\n",
       "      <td>37.6046</td>\n",
       "      <td>126.991</td>\n",
       "      <td>212.3350</td>\n",
       "      <td>2.7850</td>\n",
       "      <td>5992.895996</td>\n",
       "      <td>29.1</td>\n",
       "      <td>21.2</td>\n",
       "    </tr>\n",
       "    <tr>\n",
       "      <th>1</th>\n",
       "      <td>2.0</td>\n",
       "      <td>30-06-2013</td>\n",
       "      <td>31.9</td>\n",
       "      <td>21.6</td>\n",
       "      <td>52.263397</td>\n",
       "      <td>90.604721</td>\n",
       "      <td>29.850689</td>\n",
       "      <td>24.035009</td>\n",
       "      <td>5.691890</td>\n",
       "      <td>51.937448</td>\n",
       "      <td>...</td>\n",
       "      <td>0.0</td>\n",
       "      <td>0.0</td>\n",
       "      <td>0.0</td>\n",
       "      <td>37.6046</td>\n",
       "      <td>127.032</td>\n",
       "      <td>44.7624</td>\n",
       "      <td>0.5141</td>\n",
       "      <td>5869.312500</td>\n",
       "      <td>30.5</td>\n",
       "      <td>22.5</td>\n",
       "    </tr>\n",
       "    <tr>\n",
       "      <th>2</th>\n",
       "      <td>3.0</td>\n",
       "      <td>30-06-2013</td>\n",
       "      <td>31.6</td>\n",
       "      <td>23.3</td>\n",
       "      <td>48.690479</td>\n",
       "      <td>83.973587</td>\n",
       "      <td>30.091292</td>\n",
       "      <td>24.565633</td>\n",
       "      <td>6.138224</td>\n",
       "      <td>20.573050</td>\n",
       "      <td>...</td>\n",
       "      <td>0.0</td>\n",
       "      <td>0.0</td>\n",
       "      <td>0.0</td>\n",
       "      <td>37.5776</td>\n",
       "      <td>127.058</td>\n",
       "      <td>33.3068</td>\n",
       "      <td>0.2661</td>\n",
       "      <td>5863.555664</td>\n",
       "      <td>31.1</td>\n",
       "      <td>23.9</td>\n",
       "    </tr>\n",
       "    <tr>\n",
       "      <th>3</th>\n",
       "      <td>4.0</td>\n",
       "      <td>30-06-2013</td>\n",
       "      <td>32.0</td>\n",
       "      <td>23.4</td>\n",
       "      <td>58.239788</td>\n",
       "      <td>96.483688</td>\n",
       "      <td>29.704629</td>\n",
       "      <td>23.326177</td>\n",
       "      <td>5.650050</td>\n",
       "      <td>65.727144</td>\n",
       "      <td>...</td>\n",
       "      <td>0.0</td>\n",
       "      <td>0.0</td>\n",
       "      <td>0.0</td>\n",
       "      <td>37.6450</td>\n",
       "      <td>127.022</td>\n",
       "      <td>45.7160</td>\n",
       "      <td>2.5348</td>\n",
       "      <td>5856.964844</td>\n",
       "      <td>31.7</td>\n",
       "      <td>24.3</td>\n",
       "    </tr>\n",
       "    <tr>\n",
       "      <th>4</th>\n",
       "      <td>5.0</td>\n",
       "      <td>30-06-2013</td>\n",
       "      <td>31.4</td>\n",
       "      <td>21.9</td>\n",
       "      <td>56.174095</td>\n",
       "      <td>90.155128</td>\n",
       "      <td>29.113934</td>\n",
       "      <td>23.486480</td>\n",
       "      <td>5.735004</td>\n",
       "      <td>107.965535</td>\n",
       "      <td>...</td>\n",
       "      <td>0.0</td>\n",
       "      <td>0.0</td>\n",
       "      <td>0.0</td>\n",
       "      <td>37.5507</td>\n",
       "      <td>127.135</td>\n",
       "      <td>35.0380</td>\n",
       "      <td>0.5055</td>\n",
       "      <td>5859.552246</td>\n",
       "      <td>31.2</td>\n",
       "      <td>22.5</td>\n",
       "    </tr>\n",
       "    <tr>\n",
       "      <th>...</th>\n",
       "      <td>...</td>\n",
       "      <td>...</td>\n",
       "      <td>...</td>\n",
       "      <td>...</td>\n",
       "      <td>...</td>\n",
       "      <td>...</td>\n",
       "      <td>...</td>\n",
       "      <td>...</td>\n",
       "      <td>...</td>\n",
       "      <td>...</td>\n",
       "      <td>...</td>\n",
       "      <td>...</td>\n",
       "      <td>...</td>\n",
       "      <td>...</td>\n",
       "      <td>...</td>\n",
       "      <td>...</td>\n",
       "      <td>...</td>\n",
       "      <td>...</td>\n",
       "      <td>...</td>\n",
       "      <td>...</td>\n",
       "      <td>...</td>\n",
       "    </tr>\n",
       "    <tr>\n",
       "      <th>7745</th>\n",
       "      <td>21.0</td>\n",
       "      <td>30-08-2017</td>\n",
       "      <td>23.1</td>\n",
       "      <td>17.8</td>\n",
       "      <td>24.688997</td>\n",
       "      <td>78.261383</td>\n",
       "      <td>27.812697</td>\n",
       "      <td>18.303014</td>\n",
       "      <td>6.603253</td>\n",
       "      <td>9.614074</td>\n",
       "      <td>...</td>\n",
       "      <td>0.0</td>\n",
       "      <td>0.0</td>\n",
       "      <td>0.0</td>\n",
       "      <td>37.5507</td>\n",
       "      <td>127.040</td>\n",
       "      <td>26.2980</td>\n",
       "      <td>0.5721</td>\n",
       "      <td>4456.024414</td>\n",
       "      <td>27.6</td>\n",
       "      <td>17.7</td>\n",
       "    </tr>\n",
       "    <tr>\n",
       "      <th>7746</th>\n",
       "      <td>22.0</td>\n",
       "      <td>30-08-2017</td>\n",
       "      <td>22.5</td>\n",
       "      <td>17.4</td>\n",
       "      <td>30.094858</td>\n",
       "      <td>83.690018</td>\n",
       "      <td>26.704905</td>\n",
       "      <td>17.814038</td>\n",
       "      <td>5.768083</td>\n",
       "      <td>82.146707</td>\n",
       "      <td>...</td>\n",
       "      <td>0.0</td>\n",
       "      <td>0.0</td>\n",
       "      <td>0.0</td>\n",
       "      <td>37.5102</td>\n",
       "      <td>127.086</td>\n",
       "      <td>21.9668</td>\n",
       "      <td>0.1332</td>\n",
       "      <td>4441.803711</td>\n",
       "      <td>28.0</td>\n",
       "      <td>17.1</td>\n",
       "    </tr>\n",
       "    <tr>\n",
       "      <th>7747</th>\n",
       "      <td>23.0</td>\n",
       "      <td>30-08-2017</td>\n",
       "      <td>23.3</td>\n",
       "      <td>17.1</td>\n",
       "      <td>26.741310</td>\n",
       "      <td>78.869858</td>\n",
       "      <td>26.352081</td>\n",
       "      <td>18.775678</td>\n",
       "      <td>6.148918</td>\n",
       "      <td>72.058294</td>\n",
       "      <td>...</td>\n",
       "      <td>0.0</td>\n",
       "      <td>0.0</td>\n",
       "      <td>0.0</td>\n",
       "      <td>37.5372</td>\n",
       "      <td>126.891</td>\n",
       "      <td>15.5876</td>\n",
       "      <td>0.1554</td>\n",
       "      <td>4443.313965</td>\n",
       "      <td>28.3</td>\n",
       "      <td>18.1</td>\n",
       "    </tr>\n",
       "    <tr>\n",
       "      <th>7748</th>\n",
       "      <td>24.0</td>\n",
       "      <td>30-08-2017</td>\n",
       "      <td>23.3</td>\n",
       "      <td>17.7</td>\n",
       "      <td>24.040634</td>\n",
       "      <td>77.294975</td>\n",
       "      <td>27.010193</td>\n",
       "      <td>18.733519</td>\n",
       "      <td>6.542819</td>\n",
       "      <td>47.241457</td>\n",
       "      <td>...</td>\n",
       "      <td>0.0</td>\n",
       "      <td>0.0</td>\n",
       "      <td>0.0</td>\n",
       "      <td>37.5237</td>\n",
       "      <td>126.909</td>\n",
       "      <td>17.2956</td>\n",
       "      <td>0.2223</td>\n",
       "      <td>4438.373535</td>\n",
       "      <td>28.6</td>\n",
       "      <td>18.8</td>\n",
       "    </tr>\n",
       "    <tr>\n",
       "      <th>7749</th>\n",
       "      <td>25.0</td>\n",
       "      <td>30-08-2017</td>\n",
       "      <td>23.2</td>\n",
       "      <td>17.4</td>\n",
       "      <td>22.933014</td>\n",
       "      <td>77.243744</td>\n",
       "      <td>27.939516</td>\n",
       "      <td>18.522965</td>\n",
       "      <td>7.289264</td>\n",
       "      <td>9.090034</td>\n",
       "      <td>...</td>\n",
       "      <td>0.0</td>\n",
       "      <td>0.0</td>\n",
       "      <td>0.0</td>\n",
       "      <td>37.5237</td>\n",
       "      <td>126.970</td>\n",
       "      <td>19.5844</td>\n",
       "      <td>0.2713</td>\n",
       "      <td>4451.345215</td>\n",
       "      <td>27.8</td>\n",
       "      <td>17.4</td>\n",
       "    </tr>\n",
       "  </tbody>\n",
       "</table>\n",
       "<p>7750 rows × 25 columns</p>\n",
       "</div>"
      ],
      "text/plain": [
       "      station        Date  Present_Tmax  Present_Tmin  LDAPS_RHmin  \\\n",
       "0         1.0  30-06-2013          28.7          21.4    58.255688   \n",
       "1         2.0  30-06-2013          31.9          21.6    52.263397   \n",
       "2         3.0  30-06-2013          31.6          23.3    48.690479   \n",
       "3         4.0  30-06-2013          32.0          23.4    58.239788   \n",
       "4         5.0  30-06-2013          31.4          21.9    56.174095   \n",
       "...       ...         ...           ...           ...          ...   \n",
       "7745     21.0  30-08-2017          23.1          17.8    24.688997   \n",
       "7746     22.0  30-08-2017          22.5          17.4    30.094858   \n",
       "7747     23.0  30-08-2017          23.3          17.1    26.741310   \n",
       "7748     24.0  30-08-2017          23.3          17.7    24.040634   \n",
       "7749     25.0  30-08-2017          23.2          17.4    22.933014   \n",
       "\n",
       "      LDAPS_RHmax  LDAPS_Tmax_lapse  LDAPS_Tmin_lapse  LDAPS_WS    LDAPS_LH  \\\n",
       "0       91.116364         28.074101         23.006936  6.818887   69.451805   \n",
       "1       90.604721         29.850689         24.035009  5.691890   51.937448   \n",
       "2       83.973587         30.091292         24.565633  6.138224   20.573050   \n",
       "3       96.483688         29.704629         23.326177  5.650050   65.727144   \n",
       "4       90.155128         29.113934         23.486480  5.735004  107.965535   \n",
       "...           ...               ...               ...       ...         ...   \n",
       "7745    78.261383         27.812697         18.303014  6.603253    9.614074   \n",
       "7746    83.690018         26.704905         17.814038  5.768083   82.146707   \n",
       "7747    78.869858         26.352081         18.775678  6.148918   72.058294   \n",
       "7748    77.294975         27.010193         18.733519  6.542819   47.241457   \n",
       "7749    77.243744         27.939516         18.522965  7.289264    9.090034   \n",
       "\n",
       "      ...  LDAPS_PPT2  LDAPS_PPT3  LDAPS_PPT4      lat      lon       DEM  \\\n",
       "0     ...         0.0         0.0         0.0  37.6046  126.991  212.3350   \n",
       "1     ...         0.0         0.0         0.0  37.6046  127.032   44.7624   \n",
       "2     ...         0.0         0.0         0.0  37.5776  127.058   33.3068   \n",
       "3     ...         0.0         0.0         0.0  37.6450  127.022   45.7160   \n",
       "4     ...         0.0         0.0         0.0  37.5507  127.135   35.0380   \n",
       "...   ...         ...         ...         ...      ...      ...       ...   \n",
       "7745  ...         0.0         0.0         0.0  37.5507  127.040   26.2980   \n",
       "7746  ...         0.0         0.0         0.0  37.5102  127.086   21.9668   \n",
       "7747  ...         0.0         0.0         0.0  37.5372  126.891   15.5876   \n",
       "7748  ...         0.0         0.0         0.0  37.5237  126.909   17.2956   \n",
       "7749  ...         0.0         0.0         0.0  37.5237  126.970   19.5844   \n",
       "\n",
       "       Slope  Solar radiation  Next_Tmax  Next_Tmin  \n",
       "0     2.7850      5992.895996       29.1       21.2  \n",
       "1     0.5141      5869.312500       30.5       22.5  \n",
       "2     0.2661      5863.555664       31.1       23.9  \n",
       "3     2.5348      5856.964844       31.7       24.3  \n",
       "4     0.5055      5859.552246       31.2       22.5  \n",
       "...      ...              ...        ...        ...  \n",
       "7745  0.5721      4456.024414       27.6       17.7  \n",
       "7746  0.1332      4441.803711       28.0       17.1  \n",
       "7747  0.1554      4443.313965       28.3       18.1  \n",
       "7748  0.2223      4438.373535       28.6       18.8  \n",
       "7749  0.2713      4451.345215       27.8       17.4  \n",
       "\n",
       "[7750 rows x 25 columns]"
      ]
     },
     "execution_count": 142,
     "metadata": {},
     "output_type": "execute_result"
    }
   ],
   "source": [
    "Temperature"
   ]
  },
  {
   "cell_type": "code",
   "execution_count": 143,
   "metadata": {},
   "outputs": [],
   "source": [
    "Temperature[\"Present_Tmax\"]=Temperature.Present_Tmax.fillna(Temperature[\"Present_Tmax\"].mean())\n",
    "\n",
    "Temperature[\"Present_Tmin\"]=Temperature.Present_Tmin.fillna(Temperature[\"Present_Tmin\"].mean())\n",
    "\n",
    "Temperature[\"LDAPS_RHmin\"]=Temperature.LDAPS_RHmin.fillna(Temperature[\"LDAPS_RHmin\"].mean())\n",
    "\n",
    "Temperature[\"LDAPS_RHmax\"]=Temperature.LDAPS_RHmax.fillna(Temperature[\"LDAPS_RHmax\"].mean())\n",
    "\n",
    "Temperature[\"LDAPS_Tmax_lapse\"]=Temperature.LDAPS_Tmax_lapse.fillna(Temperature[\"LDAPS_Tmax_lapse\"].mean())\n",
    "\n",
    "Temperature[\"LDAPS_Tmin_lapse\"]=Temperature.LDAPS_Tmin_lapse.fillna(Temperature[\"LDAPS_Tmin_lapse\"].mean())\n",
    "\n",
    "Temperature[\"LDAPS_WS\"]=Temperature.LDAPS_WS.fillna(Temperature[\"LDAPS_WS\"].mean())\n",
    "\n",
    "Temperature[\"LDAPS_LH\"]=Temperature.LDAPS_LH.fillna(Temperature[\"LDAPS_LH\"].mean())\n",
    "\n",
    "Temperature[\"LDAPS_CC1\"]=Temperature.LDAPS_CC1.fillna(Temperature[\"LDAPS_CC1\"].mean())\n",
    "\n",
    "Temperature[\"LDAPS_CC2\"]=Temperature.LDAPS_CC2.fillna(Temperature[\"LDAPS_CC2\"].mean())\n",
    "\n",
    "Temperature[\"LDAPS_CC3\"]=Temperature.LDAPS_CC3.fillna(Temperature[\"LDAPS_CC3\"].mean())\n",
    "\n",
    "Temperature[\"LDAPS_CC4\"]=Temperature.LDAPS_CC4.fillna(Temperature[\"LDAPS_CC4\"].mean())\n",
    "\n",
    "Temperature[\"LDAPS_PPT1\"]=Temperature.LDAPS_PPT1.fillna(Temperature[\"LDAPS_PPT1\"].mean())\n",
    "\n",
    "Temperature[\"LDAPS_PPT2\"]=Temperature.LDAPS_PPT2.fillna(Temperature[\"LDAPS_PPT2\"].mean())\n",
    "\n",
    "Temperature[\"LDAPS_PPT3\"]=Temperature.LDAPS_PPT3.fillna(Temperature[\"LDAPS_PPT3\"].mean())\n",
    "\n",
    "Temperature[\"LDAPS_PPT4\"]=Temperature.LDAPS_PPT4.fillna(Temperature[\"LDAPS_PPT4\"].mean())\n",
    "\n",
    "Temperature[\"Next_Tmax\"]=Temperature.Next_Tmax.fillna(Temperature[\"Next_Tmax\"].mean())\n",
    "\n",
    "Temperature[\"Next_Tmin\"]=Temperature.Next_Tmin.fillna(Temperature[\"Next_Tmin\"].mean())"
   ]
  },
  {
   "cell_type": "code",
   "execution_count": 144,
   "metadata": {},
   "outputs": [],
   "source": [
    "Temperature[\"Date\"]=pd.to_datetime(Temperature[\"Date\"])"
   ]
  },
  {
   "cell_type": "code",
   "execution_count": 145,
   "metadata": {},
   "outputs": [],
   "source": [
    "Temperature[\"day\"]=pd.to_datetime(Temperature[\"Date\"]).dt.day"
   ]
  },
  {
   "cell_type": "code",
   "execution_count": 146,
   "metadata": {},
   "outputs": [],
   "source": [
    "Temperature[\"month\"]=pd.to_datetime(Temperature[\"Date\"]).dt.month"
   ]
  },
  {
   "cell_type": "code",
   "execution_count": 147,
   "metadata": {},
   "outputs": [],
   "source": [
    "Temperature[\"year\"]=pd.to_datetime(Temperature[\"Date\"]).dt.year"
   ]
  },
  {
   "cell_type": "code",
   "execution_count": 148,
   "metadata": {},
   "outputs": [],
   "source": [
    "Temperature.drop(\"Date\",axis=1,inplace=True)"
   ]
  },
  {
   "cell_type": "code",
   "execution_count": 149,
   "metadata": {},
   "outputs": [
    {
     "data": {
      "text/html": [
       "<div>\n",
       "<style scoped>\n",
       "    .dataframe tbody tr th:only-of-type {\n",
       "        vertical-align: middle;\n",
       "    }\n",
       "\n",
       "    .dataframe tbody tr th {\n",
       "        vertical-align: top;\n",
       "    }\n",
       "\n",
       "    .dataframe thead th {\n",
       "        text-align: right;\n",
       "    }\n",
       "</style>\n",
       "<table border=\"1\" class=\"dataframe\">\n",
       "  <thead>\n",
       "    <tr style=\"text-align: right;\">\n",
       "      <th></th>\n",
       "      <th>station</th>\n",
       "      <th>Present_Tmax</th>\n",
       "      <th>Present_Tmin</th>\n",
       "      <th>LDAPS_RHmin</th>\n",
       "      <th>LDAPS_RHmax</th>\n",
       "      <th>LDAPS_Tmax_lapse</th>\n",
       "      <th>LDAPS_Tmin_lapse</th>\n",
       "      <th>LDAPS_WS</th>\n",
       "      <th>LDAPS_LH</th>\n",
       "      <th>LDAPS_CC1</th>\n",
       "      <th>...</th>\n",
       "      <th>lat</th>\n",
       "      <th>lon</th>\n",
       "      <th>DEM</th>\n",
       "      <th>Slope</th>\n",
       "      <th>Solar radiation</th>\n",
       "      <th>Next_Tmax</th>\n",
       "      <th>Next_Tmin</th>\n",
       "      <th>day</th>\n",
       "      <th>month</th>\n",
       "      <th>year</th>\n",
       "    </tr>\n",
       "  </thead>\n",
       "  <tbody>\n",
       "    <tr>\n",
       "      <th>0</th>\n",
       "      <td>1.0</td>\n",
       "      <td>28.7</td>\n",
       "      <td>21.4</td>\n",
       "      <td>58.255688</td>\n",
       "      <td>91.116364</td>\n",
       "      <td>28.074101</td>\n",
       "      <td>23.006936</td>\n",
       "      <td>6.818887</td>\n",
       "      <td>69.451805</td>\n",
       "      <td>0.233947</td>\n",
       "      <td>...</td>\n",
       "      <td>37.6046</td>\n",
       "      <td>126.991</td>\n",
       "      <td>212.3350</td>\n",
       "      <td>2.7850</td>\n",
       "      <td>5992.895996</td>\n",
       "      <td>29.1</td>\n",
       "      <td>21.2</td>\n",
       "      <td>30</td>\n",
       "      <td>6</td>\n",
       "      <td>2013</td>\n",
       "    </tr>\n",
       "    <tr>\n",
       "      <th>1</th>\n",
       "      <td>2.0</td>\n",
       "      <td>31.9</td>\n",
       "      <td>21.6</td>\n",
       "      <td>52.263397</td>\n",
       "      <td>90.604721</td>\n",
       "      <td>29.850689</td>\n",
       "      <td>24.035009</td>\n",
       "      <td>5.691890</td>\n",
       "      <td>51.937448</td>\n",
       "      <td>0.225508</td>\n",
       "      <td>...</td>\n",
       "      <td>37.6046</td>\n",
       "      <td>127.032</td>\n",
       "      <td>44.7624</td>\n",
       "      <td>0.5141</td>\n",
       "      <td>5869.312500</td>\n",
       "      <td>30.5</td>\n",
       "      <td>22.5</td>\n",
       "      <td>30</td>\n",
       "      <td>6</td>\n",
       "      <td>2013</td>\n",
       "    </tr>\n",
       "    <tr>\n",
       "      <th>2</th>\n",
       "      <td>3.0</td>\n",
       "      <td>31.6</td>\n",
       "      <td>23.3</td>\n",
       "      <td>48.690479</td>\n",
       "      <td>83.973587</td>\n",
       "      <td>30.091292</td>\n",
       "      <td>24.565633</td>\n",
       "      <td>6.138224</td>\n",
       "      <td>20.573050</td>\n",
       "      <td>0.209344</td>\n",
       "      <td>...</td>\n",
       "      <td>37.5776</td>\n",
       "      <td>127.058</td>\n",
       "      <td>33.3068</td>\n",
       "      <td>0.2661</td>\n",
       "      <td>5863.555664</td>\n",
       "      <td>31.1</td>\n",
       "      <td>23.9</td>\n",
       "      <td>30</td>\n",
       "      <td>6</td>\n",
       "      <td>2013</td>\n",
       "    </tr>\n",
       "    <tr>\n",
       "      <th>3</th>\n",
       "      <td>4.0</td>\n",
       "      <td>32.0</td>\n",
       "      <td>23.4</td>\n",
       "      <td>58.239788</td>\n",
       "      <td>96.483688</td>\n",
       "      <td>29.704629</td>\n",
       "      <td>23.326177</td>\n",
       "      <td>5.650050</td>\n",
       "      <td>65.727144</td>\n",
       "      <td>0.216372</td>\n",
       "      <td>...</td>\n",
       "      <td>37.6450</td>\n",
       "      <td>127.022</td>\n",
       "      <td>45.7160</td>\n",
       "      <td>2.5348</td>\n",
       "      <td>5856.964844</td>\n",
       "      <td>31.7</td>\n",
       "      <td>24.3</td>\n",
       "      <td>30</td>\n",
       "      <td>6</td>\n",
       "      <td>2013</td>\n",
       "    </tr>\n",
       "    <tr>\n",
       "      <th>4</th>\n",
       "      <td>5.0</td>\n",
       "      <td>31.4</td>\n",
       "      <td>21.9</td>\n",
       "      <td>56.174095</td>\n",
       "      <td>90.155128</td>\n",
       "      <td>29.113934</td>\n",
       "      <td>23.486480</td>\n",
       "      <td>5.735004</td>\n",
       "      <td>107.965535</td>\n",
       "      <td>0.151407</td>\n",
       "      <td>...</td>\n",
       "      <td>37.5507</td>\n",
       "      <td>127.135</td>\n",
       "      <td>35.0380</td>\n",
       "      <td>0.5055</td>\n",
       "      <td>5859.552246</td>\n",
       "      <td>31.2</td>\n",
       "      <td>22.5</td>\n",
       "      <td>30</td>\n",
       "      <td>6</td>\n",
       "      <td>2013</td>\n",
       "    </tr>\n",
       "    <tr>\n",
       "      <th>...</th>\n",
       "      <td>...</td>\n",
       "      <td>...</td>\n",
       "      <td>...</td>\n",
       "      <td>...</td>\n",
       "      <td>...</td>\n",
       "      <td>...</td>\n",
       "      <td>...</td>\n",
       "      <td>...</td>\n",
       "      <td>...</td>\n",
       "      <td>...</td>\n",
       "      <td>...</td>\n",
       "      <td>...</td>\n",
       "      <td>...</td>\n",
       "      <td>...</td>\n",
       "      <td>...</td>\n",
       "      <td>...</td>\n",
       "      <td>...</td>\n",
       "      <td>...</td>\n",
       "      <td>...</td>\n",
       "      <td>...</td>\n",
       "      <td>...</td>\n",
       "    </tr>\n",
       "    <tr>\n",
       "      <th>7745</th>\n",
       "      <td>21.0</td>\n",
       "      <td>23.1</td>\n",
       "      <td>17.8</td>\n",
       "      <td>24.688997</td>\n",
       "      <td>78.261383</td>\n",
       "      <td>27.812697</td>\n",
       "      <td>18.303014</td>\n",
       "      <td>6.603253</td>\n",
       "      <td>9.614074</td>\n",
       "      <td>0.052902</td>\n",
       "      <td>...</td>\n",
       "      <td>37.5507</td>\n",
       "      <td>127.040</td>\n",
       "      <td>26.2980</td>\n",
       "      <td>0.5721</td>\n",
       "      <td>4456.024414</td>\n",
       "      <td>27.6</td>\n",
       "      <td>17.7</td>\n",
       "      <td>30</td>\n",
       "      <td>8</td>\n",
       "      <td>2017</td>\n",
       "    </tr>\n",
       "    <tr>\n",
       "      <th>7746</th>\n",
       "      <td>22.0</td>\n",
       "      <td>22.5</td>\n",
       "      <td>17.4</td>\n",
       "      <td>30.094858</td>\n",
       "      <td>83.690018</td>\n",
       "      <td>26.704905</td>\n",
       "      <td>17.814038</td>\n",
       "      <td>5.768083</td>\n",
       "      <td>82.146707</td>\n",
       "      <td>0.066461</td>\n",
       "      <td>...</td>\n",
       "      <td>37.5102</td>\n",
       "      <td>127.086</td>\n",
       "      <td>21.9668</td>\n",
       "      <td>0.1332</td>\n",
       "      <td>4441.803711</td>\n",
       "      <td>28.0</td>\n",
       "      <td>17.1</td>\n",
       "      <td>30</td>\n",
       "      <td>8</td>\n",
       "      <td>2017</td>\n",
       "    </tr>\n",
       "    <tr>\n",
       "      <th>7747</th>\n",
       "      <td>23.0</td>\n",
       "      <td>23.3</td>\n",
       "      <td>17.1</td>\n",
       "      <td>26.741310</td>\n",
       "      <td>78.869858</td>\n",
       "      <td>26.352081</td>\n",
       "      <td>18.775678</td>\n",
       "      <td>6.148918</td>\n",
       "      <td>72.058294</td>\n",
       "      <td>0.030034</td>\n",
       "      <td>...</td>\n",
       "      <td>37.5372</td>\n",
       "      <td>126.891</td>\n",
       "      <td>15.5876</td>\n",
       "      <td>0.1554</td>\n",
       "      <td>4443.313965</td>\n",
       "      <td>28.3</td>\n",
       "      <td>18.1</td>\n",
       "      <td>30</td>\n",
       "      <td>8</td>\n",
       "      <td>2017</td>\n",
       "    </tr>\n",
       "    <tr>\n",
       "      <th>7748</th>\n",
       "      <td>24.0</td>\n",
       "      <td>23.3</td>\n",
       "      <td>17.7</td>\n",
       "      <td>24.040634</td>\n",
       "      <td>77.294975</td>\n",
       "      <td>27.010193</td>\n",
       "      <td>18.733519</td>\n",
       "      <td>6.542819</td>\n",
       "      <td>47.241457</td>\n",
       "      <td>0.035874</td>\n",
       "      <td>...</td>\n",
       "      <td>37.5237</td>\n",
       "      <td>126.909</td>\n",
       "      <td>17.2956</td>\n",
       "      <td>0.2223</td>\n",
       "      <td>4438.373535</td>\n",
       "      <td>28.6</td>\n",
       "      <td>18.8</td>\n",
       "      <td>30</td>\n",
       "      <td>8</td>\n",
       "      <td>2017</td>\n",
       "    </tr>\n",
       "    <tr>\n",
       "      <th>7749</th>\n",
       "      <td>25.0</td>\n",
       "      <td>23.2</td>\n",
       "      <td>17.4</td>\n",
       "      <td>22.933014</td>\n",
       "      <td>77.243744</td>\n",
       "      <td>27.939516</td>\n",
       "      <td>18.522965</td>\n",
       "      <td>7.289264</td>\n",
       "      <td>9.090034</td>\n",
       "      <td>0.048954</td>\n",
       "      <td>...</td>\n",
       "      <td>37.5237</td>\n",
       "      <td>126.970</td>\n",
       "      <td>19.5844</td>\n",
       "      <td>0.2713</td>\n",
       "      <td>4451.345215</td>\n",
       "      <td>27.8</td>\n",
       "      <td>17.4</td>\n",
       "      <td>30</td>\n",
       "      <td>8</td>\n",
       "      <td>2017</td>\n",
       "    </tr>\n",
       "  </tbody>\n",
       "</table>\n",
       "<p>7750 rows × 27 columns</p>\n",
       "</div>"
      ],
      "text/plain": [
       "      station  Present_Tmax  Present_Tmin  LDAPS_RHmin  LDAPS_RHmax  \\\n",
       "0         1.0          28.7          21.4    58.255688    91.116364   \n",
       "1         2.0          31.9          21.6    52.263397    90.604721   \n",
       "2         3.0          31.6          23.3    48.690479    83.973587   \n",
       "3         4.0          32.0          23.4    58.239788    96.483688   \n",
       "4         5.0          31.4          21.9    56.174095    90.155128   \n",
       "...       ...           ...           ...          ...          ...   \n",
       "7745     21.0          23.1          17.8    24.688997    78.261383   \n",
       "7746     22.0          22.5          17.4    30.094858    83.690018   \n",
       "7747     23.0          23.3          17.1    26.741310    78.869858   \n",
       "7748     24.0          23.3          17.7    24.040634    77.294975   \n",
       "7749     25.0          23.2          17.4    22.933014    77.243744   \n",
       "\n",
       "      LDAPS_Tmax_lapse  LDAPS_Tmin_lapse  LDAPS_WS    LDAPS_LH  LDAPS_CC1  \\\n",
       "0            28.074101         23.006936  6.818887   69.451805   0.233947   \n",
       "1            29.850689         24.035009  5.691890   51.937448   0.225508   \n",
       "2            30.091292         24.565633  6.138224   20.573050   0.209344   \n",
       "3            29.704629         23.326177  5.650050   65.727144   0.216372   \n",
       "4            29.113934         23.486480  5.735004  107.965535   0.151407   \n",
       "...                ...               ...       ...         ...        ...   \n",
       "7745         27.812697         18.303014  6.603253    9.614074   0.052902   \n",
       "7746         26.704905         17.814038  5.768083   82.146707   0.066461   \n",
       "7747         26.352081         18.775678  6.148918   72.058294   0.030034   \n",
       "7748         27.010193         18.733519  6.542819   47.241457   0.035874   \n",
       "7749         27.939516         18.522965  7.289264    9.090034   0.048954   \n",
       "\n",
       "      ...      lat      lon       DEM   Slope  Solar radiation  Next_Tmax  \\\n",
       "0     ...  37.6046  126.991  212.3350  2.7850      5992.895996       29.1   \n",
       "1     ...  37.6046  127.032   44.7624  0.5141      5869.312500       30.5   \n",
       "2     ...  37.5776  127.058   33.3068  0.2661      5863.555664       31.1   \n",
       "3     ...  37.6450  127.022   45.7160  2.5348      5856.964844       31.7   \n",
       "4     ...  37.5507  127.135   35.0380  0.5055      5859.552246       31.2   \n",
       "...   ...      ...      ...       ...     ...              ...        ...   \n",
       "7745  ...  37.5507  127.040   26.2980  0.5721      4456.024414       27.6   \n",
       "7746  ...  37.5102  127.086   21.9668  0.1332      4441.803711       28.0   \n",
       "7747  ...  37.5372  126.891   15.5876  0.1554      4443.313965       28.3   \n",
       "7748  ...  37.5237  126.909   17.2956  0.2223      4438.373535       28.6   \n",
       "7749  ...  37.5237  126.970   19.5844  0.2713      4451.345215       27.8   \n",
       "\n",
       "      Next_Tmin  day  month  year  \n",
       "0          21.2   30      6  2013  \n",
       "1          22.5   30      6  2013  \n",
       "2          23.9   30      6  2013  \n",
       "3          24.3   30      6  2013  \n",
       "4          22.5   30      6  2013  \n",
       "...         ...  ...    ...   ...  \n",
       "7745       17.7   30      8  2017  \n",
       "7746       17.1   30      8  2017  \n",
       "7747       18.1   30      8  2017  \n",
       "7748       18.8   30      8  2017  \n",
       "7749       17.4   30      8  2017  \n",
       "\n",
       "[7750 rows x 27 columns]"
      ]
     },
     "execution_count": 149,
     "metadata": {},
     "output_type": "execute_result"
    }
   ],
   "source": [
    "Temperature"
   ]
  },
  {
   "cell_type": "code",
   "execution_count": 150,
   "metadata": {},
   "outputs": [
    {
     "data": {
      "text/html": [
       "<div>\n",
       "<style scoped>\n",
       "    .dataframe tbody tr th:only-of-type {\n",
       "        vertical-align: middle;\n",
       "    }\n",
       "\n",
       "    .dataframe tbody tr th {\n",
       "        vertical-align: top;\n",
       "    }\n",
       "\n",
       "    .dataframe thead th {\n",
       "        text-align: right;\n",
       "    }\n",
       "</style>\n",
       "<table border=\"1\" class=\"dataframe\">\n",
       "  <thead>\n",
       "    <tr style=\"text-align: right;\">\n",
       "      <th></th>\n",
       "      <th>station</th>\n",
       "      <th>Present_Tmax</th>\n",
       "      <th>Present_Tmin</th>\n",
       "      <th>LDAPS_RHmin</th>\n",
       "      <th>LDAPS_RHmax</th>\n",
       "      <th>LDAPS_Tmax_lapse</th>\n",
       "      <th>LDAPS_Tmin_lapse</th>\n",
       "      <th>LDAPS_WS</th>\n",
       "      <th>LDAPS_LH</th>\n",
       "      <th>LDAPS_CC1</th>\n",
       "      <th>...</th>\n",
       "      <th>lat</th>\n",
       "      <th>lon</th>\n",
       "      <th>DEM</th>\n",
       "      <th>Slope</th>\n",
       "      <th>Solar radiation</th>\n",
       "      <th>Next_Tmax</th>\n",
       "      <th>Next_Tmin</th>\n",
       "      <th>day</th>\n",
       "      <th>month</th>\n",
       "      <th>year</th>\n",
       "    </tr>\n",
       "  </thead>\n",
       "  <tbody>\n",
       "    <tr>\n",
       "      <th>count</th>\n",
       "      <td>7750.000000</td>\n",
       "      <td>7750.000000</td>\n",
       "      <td>7750.000000</td>\n",
       "      <td>7750.000000</td>\n",
       "      <td>7750.000000</td>\n",
       "      <td>7750.000000</td>\n",
       "      <td>7750.000000</td>\n",
       "      <td>7750.000000</td>\n",
       "      <td>7750.000000</td>\n",
       "      <td>7750.000000</td>\n",
       "      <td>...</td>\n",
       "      <td>7750.000000</td>\n",
       "      <td>7750.000000</td>\n",
       "      <td>7750.000000</td>\n",
       "      <td>7750.000000</td>\n",
       "      <td>7750.000000</td>\n",
       "      <td>7750.000000</td>\n",
       "      <td>7750.000000</td>\n",
       "      <td>7750.000000</td>\n",
       "      <td>7750.000000</td>\n",
       "      <td>7750.000000</td>\n",
       "    </tr>\n",
       "    <tr>\n",
       "      <th>mean</th>\n",
       "      <td>13.000000</td>\n",
       "      <td>29.768464</td>\n",
       "      <td>23.225742</td>\n",
       "      <td>56.758747</td>\n",
       "      <td>88.377125</td>\n",
       "      <td>29.613845</td>\n",
       "      <td>23.512997</td>\n",
       "      <td>7.096501</td>\n",
       "      <td>62.495273</td>\n",
       "      <td>0.368744</td>\n",
       "      <td>...</td>\n",
       "      <td>37.544720</td>\n",
       "      <td>126.991400</td>\n",
       "      <td>61.854944</td>\n",
       "      <td>1.256692</td>\n",
       "      <td>5341.549330</td>\n",
       "      <td>30.275437</td>\n",
       "      <td>22.932837</td>\n",
       "      <td>16.370968</td>\n",
       "      <td>7.080645</td>\n",
       "      <td>2015.000000</td>\n",
       "    </tr>\n",
       "    <tr>\n",
       "      <th>std</th>\n",
       "      <td>7.211568</td>\n",
       "      <td>2.953516</td>\n",
       "      <td>2.398327</td>\n",
       "      <td>14.585101</td>\n",
       "      <td>7.149011</td>\n",
       "      <td>2.928357</td>\n",
       "      <td>2.330881</td>\n",
       "      <td>2.166519</td>\n",
       "      <td>33.516382</td>\n",
       "      <td>0.261096</td>\n",
       "      <td>...</td>\n",
       "      <td>0.050335</td>\n",
       "      <td>0.079406</td>\n",
       "      <td>54.256953</td>\n",
       "      <td>1.369833</td>\n",
       "      <td>428.996445</td>\n",
       "      <td>3.117994</td>\n",
       "      <td>2.478851</td>\n",
       "      <td>8.241331</td>\n",
       "      <td>2.238364</td>\n",
       "      <td>1.414305</td>\n",
       "    </tr>\n",
       "    <tr>\n",
       "      <th>min</th>\n",
       "      <td>1.000000</td>\n",
       "      <td>20.000000</td>\n",
       "      <td>11.300000</td>\n",
       "      <td>19.794666</td>\n",
       "      <td>58.936283</td>\n",
       "      <td>17.624954</td>\n",
       "      <td>14.272646</td>\n",
       "      <td>2.882580</td>\n",
       "      <td>-13.603212</td>\n",
       "      <td>0.000000</td>\n",
       "      <td>...</td>\n",
       "      <td>37.456200</td>\n",
       "      <td>126.826000</td>\n",
       "      <td>12.370000</td>\n",
       "      <td>0.098500</td>\n",
       "      <td>4329.520508</td>\n",
       "      <td>17.400000</td>\n",
       "      <td>11.300000</td>\n",
       "      <td>7.000000</td>\n",
       "      <td>1.000000</td>\n",
       "      <td>2013.000000</td>\n",
       "    </tr>\n",
       "    <tr>\n",
       "      <th>25%</th>\n",
       "      <td>7.000000</td>\n",
       "      <td>27.800000</td>\n",
       "      <td>21.700000</td>\n",
       "      <td>46.048225</td>\n",
       "      <td>84.318649</td>\n",
       "      <td>27.693733</td>\n",
       "      <td>22.115268</td>\n",
       "      <td>5.686498</td>\n",
       "      <td>37.547426</td>\n",
       "      <td>0.148339</td>\n",
       "      <td>...</td>\n",
       "      <td>37.510200</td>\n",
       "      <td>126.937000</td>\n",
       "      <td>28.700000</td>\n",
       "      <td>0.271300</td>\n",
       "      <td>4999.018555</td>\n",
       "      <td>28.200000</td>\n",
       "      <td>21.400000</td>\n",
       "      <td>8.000000</td>\n",
       "      <td>7.000000</td>\n",
       "      <td>2014.000000</td>\n",
       "    </tr>\n",
       "    <tr>\n",
       "      <th>50%</th>\n",
       "      <td>13.000000</td>\n",
       "      <td>29.900000</td>\n",
       "      <td>23.400000</td>\n",
       "      <td>55.313244</td>\n",
       "      <td>89.699505</td>\n",
       "      <td>29.662273</td>\n",
       "      <td>23.735942</td>\n",
       "      <td>6.563068</td>\n",
       "      <td>57.310630</td>\n",
       "      <td>0.320110</td>\n",
       "      <td>...</td>\n",
       "      <td>37.550700</td>\n",
       "      <td>126.995000</td>\n",
       "      <td>45.716000</td>\n",
       "      <td>0.618000</td>\n",
       "      <td>5436.345215</td>\n",
       "      <td>30.500000</td>\n",
       "      <td>23.100000</td>\n",
       "      <td>16.000000</td>\n",
       "      <td>7.000000</td>\n",
       "      <td>2015.000000</td>\n",
       "    </tr>\n",
       "    <tr>\n",
       "      <th>75%</th>\n",
       "      <td>19.000000</td>\n",
       "      <td>32.000000</td>\n",
       "      <td>24.875000</td>\n",
       "      <td>67.032715</td>\n",
       "      <td>93.703491</td>\n",
       "      <td>31.682567</td>\n",
       "      <td>25.133460</td>\n",
       "      <td>8.005363</td>\n",
       "      <td>83.891182</td>\n",
       "      <td>0.571665</td>\n",
       "      <td>...</td>\n",
       "      <td>37.577600</td>\n",
       "      <td>127.042000</td>\n",
       "      <td>59.832400</td>\n",
       "      <td>1.767800</td>\n",
       "      <td>5728.316406</td>\n",
       "      <td>32.600000</td>\n",
       "      <td>24.600000</td>\n",
       "      <td>24.000000</td>\n",
       "      <td>8.000000</td>\n",
       "      <td>2016.000000</td>\n",
       "    </tr>\n",
       "    <tr>\n",
       "      <th>max</th>\n",
       "      <td>25.000000</td>\n",
       "      <td>37.600000</td>\n",
       "      <td>29.900000</td>\n",
       "      <td>98.524734</td>\n",
       "      <td>100.000153</td>\n",
       "      <td>38.542255</td>\n",
       "      <td>29.619342</td>\n",
       "      <td>21.857621</td>\n",
       "      <td>213.414006</td>\n",
       "      <td>0.967277</td>\n",
       "      <td>...</td>\n",
       "      <td>37.645000</td>\n",
       "      <td>127.135000</td>\n",
       "      <td>212.335000</td>\n",
       "      <td>5.178200</td>\n",
       "      <td>5992.895996</td>\n",
       "      <td>38.900000</td>\n",
       "      <td>29.800000</td>\n",
       "      <td>31.000000</td>\n",
       "      <td>12.000000</td>\n",
       "      <td>2017.000000</td>\n",
       "    </tr>\n",
       "  </tbody>\n",
       "</table>\n",
       "<p>8 rows × 27 columns</p>\n",
       "</div>"
      ],
      "text/plain": [
       "           station  Present_Tmax  Present_Tmin  LDAPS_RHmin  LDAPS_RHmax  \\\n",
       "count  7750.000000   7750.000000   7750.000000  7750.000000  7750.000000   \n",
       "mean     13.000000     29.768464     23.225742    56.758747    88.377125   \n",
       "std       7.211568      2.953516      2.398327    14.585101     7.149011   \n",
       "min       1.000000     20.000000     11.300000    19.794666    58.936283   \n",
       "25%       7.000000     27.800000     21.700000    46.048225    84.318649   \n",
       "50%      13.000000     29.900000     23.400000    55.313244    89.699505   \n",
       "75%      19.000000     32.000000     24.875000    67.032715    93.703491   \n",
       "max      25.000000     37.600000     29.900000    98.524734   100.000153   \n",
       "\n",
       "       LDAPS_Tmax_lapse  LDAPS_Tmin_lapse     LDAPS_WS     LDAPS_LH  \\\n",
       "count       7750.000000       7750.000000  7750.000000  7750.000000   \n",
       "mean          29.613845         23.512997     7.096501    62.495273   \n",
       "std            2.928357          2.330881     2.166519    33.516382   \n",
       "min           17.624954         14.272646     2.882580   -13.603212   \n",
       "25%           27.693733         22.115268     5.686498    37.547426   \n",
       "50%           29.662273         23.735942     6.563068    57.310630   \n",
       "75%           31.682567         25.133460     8.005363    83.891182   \n",
       "max           38.542255         29.619342    21.857621   213.414006   \n",
       "\n",
       "         LDAPS_CC1  ...          lat          lon          DEM        Slope  \\\n",
       "count  7750.000000  ...  7750.000000  7750.000000  7750.000000  7750.000000   \n",
       "mean      0.368744  ...    37.544720   126.991400    61.854944     1.256692   \n",
       "std       0.261096  ...     0.050335     0.079406    54.256953     1.369833   \n",
       "min       0.000000  ...    37.456200   126.826000    12.370000     0.098500   \n",
       "25%       0.148339  ...    37.510200   126.937000    28.700000     0.271300   \n",
       "50%       0.320110  ...    37.550700   126.995000    45.716000     0.618000   \n",
       "75%       0.571665  ...    37.577600   127.042000    59.832400     1.767800   \n",
       "max       0.967277  ...    37.645000   127.135000   212.335000     5.178200   \n",
       "\n",
       "       Solar radiation    Next_Tmax    Next_Tmin          day        month  \\\n",
       "count      7750.000000  7750.000000  7750.000000  7750.000000  7750.000000   \n",
       "mean       5341.549330    30.275437    22.932837    16.370968     7.080645   \n",
       "std         428.996445     3.117994     2.478851     8.241331     2.238364   \n",
       "min        4329.520508    17.400000    11.300000     7.000000     1.000000   \n",
       "25%        4999.018555    28.200000    21.400000     8.000000     7.000000   \n",
       "50%        5436.345215    30.500000    23.100000    16.000000     7.000000   \n",
       "75%        5728.316406    32.600000    24.600000    24.000000     8.000000   \n",
       "max        5992.895996    38.900000    29.800000    31.000000    12.000000   \n",
       "\n",
       "              year  \n",
       "count  7750.000000  \n",
       "mean   2015.000000  \n",
       "std       1.414305  \n",
       "min    2013.000000  \n",
       "25%    2014.000000  \n",
       "50%    2015.000000  \n",
       "75%    2016.000000  \n",
       "max    2017.000000  \n",
       "\n",
       "[8 rows x 27 columns]"
      ]
     },
     "execution_count": 150,
     "metadata": {},
     "output_type": "execute_result"
    }
   ],
   "source": [
    "Temperature.describe()\n",
    "#Outliers may be present which we could check through the boxplots\n",
    "#maximum standard deviation is present for solar radiation compared to other attributes\n",
    "#since mean is similar to mean in most cases, very slight skewness is expected to be present"
   ]
  },
  {
   "cell_type": "code",
   "execution_count": 151,
   "metadata": {},
   "outputs": [],
   "source": [
    "#lets perform analysis"
   ]
  },
  {
   "cell_type": "code",
   "execution_count": 152,
   "metadata": {},
   "outputs": [
    {
     "data": {
      "text/plain": [
       "<AxesSubplot:xlabel='Present_Tmax'>"
      ]
     },
     "execution_count": 152,
     "metadata": {},
     "output_type": "execute_result"
    },
    {
     "data": {
      "image/png": "[encoded data removed]",
      "text/plain": [
       "<Figure size 432x288 with 1 Axes>"
      ]
     },
     "metadata": {
      "needs_background": "light"
     },
     "output_type": "display_data"
    }
   ],
   "source": [
    "sns.boxplot(Temperature[\"Present_Tmax\"])\n",
    "#minimum value is 20. Median is 30 and maximum is 37.6\n",
    "#some outliers are presnt"
   ]
  },
  {
   "cell_type": "code",
   "execution_count": 153,
   "metadata": {},
   "outputs": [
    {
     "data": {
      "text/plain": [
       "<AxesSubplot:xlabel='Present_Tmax', ylabel='Density'>"
      ]
     },
     "execution_count": 153,
     "metadata": {},
     "output_type": "execute_result"
    },
    {
     "data": {
      "image/png": "[encoded data removed]",
      "text/plain": [
       "<Figure size 432x288 with 1 Axes>"
      ]
     },
     "metadata": {
      "needs_background": "light"
     },
     "output_type": "display_data"
    }
   ],
   "source": [
    "sns.distplot(Temperature[\"Present_Tmax\"])\n",
    "#slight skewness to the left is present\n",
    "#maximum density is present between 28 to 32.5"
   ]
  },
  {
   "cell_type": "code",
   "execution_count": 154,
   "metadata": {},
   "outputs": [
    {
     "data": {
      "text/plain": [
       "<AxesSubplot:xlabel='Present_Tmin'>"
      ]
     },
     "execution_count": 154,
     "metadata": {},
     "output_type": "execute_result"
    },
    {
     "data": {
      "image/png": "[encoded data removed]",
      "text/plain": [
       "<Figure size 432x288 with 1 Axes>"
      ]
     },
     "metadata": {
      "needs_background": "light"
     },
     "output_type": "display_data"
    }
   ],
   "source": [
    "sns.boxplot(Temperature[\"Present_Tmin\"])\n",
    "#minimum value is 11.3. Median is 23.4 and maximum is 29.9\n",
    "#some outliers are present"
   ]
  },
  {
   "cell_type": "code",
   "execution_count": 155,
   "metadata": {},
   "outputs": [
    {
     "data": {
      "text/plain": [
       "<AxesSubplot:xlabel='Present_Tmin', ylabel='Density'>"
      ]
     },
     "execution_count": 155,
     "metadata": {},
     "output_type": "execute_result"
    },
    {
     "data": {
      "image/png": "[encoded data removed]",
      "text/plain": [
       "<Figure size 432x288 with 1 Axes>"
      ]
     },
     "metadata": {
      "needs_background": "light"
     },
     "output_type": "display_data"
    }
   ],
   "source": [
    "sns.distplot(Temperature[\"Present_Tmin\"])\n",
    "#slight skewness to the left is present\n",
    "#maximum density is present between 22.5 to 25"
   ]
  },
  {
   "cell_type": "code",
   "execution_count": 156,
   "metadata": {},
   "outputs": [
    {
     "data": {
      "text/plain": [
       "<AxesSubplot:xlabel='LDAPS_RHmin'>"
      ]
     },
     "execution_count": 156,
     "metadata": {},
     "output_type": "execute_result"
    },
    {
     "data": {
      "image/png": "[encoded data removed]",
      "text/plain": [
       "<Figure size 432x288 with 1 Axes>"
      ]
     },
     "metadata": {
      "needs_background": "light"
     },
     "output_type": "display_data"
    }
   ],
   "source": [
    "sns.boxplot(Temperature[\"LDAPS_RHmin\"])\n",
    "#minimum value is 19.8. Median is 55.3 and maximum is 98.5\n"
   ]
  },
  {
   "cell_type": "code",
   "execution_count": 157,
   "metadata": {},
   "outputs": [
    {
     "data": {
      "text/plain": [
       "<AxesSubplot:xlabel='LDAPS_RHmin', ylabel='Density'>"
      ]
     },
     "execution_count": 157,
     "metadata": {},
     "output_type": "execute_result"
    },
    {
     "data": {
      "image/png": "[encoded data removed]",
      "text/plain": [
       "<Figure size 432x288 with 1 Axes>"
      ]
     },
     "metadata": {
      "needs_background": "light"
     },
     "output_type": "display_data"
    }
   ],
   "source": [
    "sns.distplot(Temperature[\"LDAPS_RHmin\"])\n",
    "#slight skewness to the left is present\n",
    "#maximum density is present between 40 to 60"
   ]
  },
  {
   "cell_type": "code",
   "execution_count": 158,
   "metadata": {},
   "outputs": [
    {
     "data": {
      "text/plain": [
       "<AxesSubplot:xlabel='LDAPS_RHmax'>"
      ]
     },
     "execution_count": 158,
     "metadata": {},
     "output_type": "execute_result"
    },
    {
     "data": {
      "image/png": "[encoded data removed]",
      "text/plain": [
       "<Figure size 432x288 with 1 Axes>"
      ]
     },
     "metadata": {
      "needs_background": "light"
     },
     "output_type": "display_data"
    }
   ],
   "source": [
    "sns.boxplot(Temperature[\"LDAPS_RHmax\"])\n",
    "#minimum value is 58.9. Median is 90 and maximum is 100\n",
    "#outliers are present"
   ]
  },
  {
   "cell_type": "code",
   "execution_count": 159,
   "metadata": {},
   "outputs": [
    {
     "data": {
      "text/plain": [
       "<AxesSubplot:xlabel='LDAPS_RHmax', ylabel='Density'>"
      ]
     },
     "execution_count": 159,
     "metadata": {},
     "output_type": "execute_result"
    },
    {
     "data": {
      "image/png": "[encoded data removed]",
      "text/plain": [
       "<Figure size 432x288 with 1 Axes>"
      ]
     },
     "metadata": {
      "needs_background": "light"
     },
     "output_type": "display_data"
    }
   ],
   "source": [
    "sns.distplot(Temperature[\"LDAPS_RHmax\"])\n",
    "#Left skewness is present\n",
    "#maximum density lies between 85-95"
   ]
  },
  {
   "cell_type": "code",
   "execution_count": 160,
   "metadata": {},
   "outputs": [
    {
     "data": {
      "text/plain": [
       "<AxesSubplot:xlabel='LDAPS_Tmax_lapse'>"
      ]
     },
     "execution_count": 160,
     "metadata": {},
     "output_type": "execute_result"
    },
    {
     "data": {
      "image/png": "[encoded data removed]",
      "text/plain": [
       "<Figure size 432x288 with 1 Axes>"
      ]
     },
     "metadata": {
      "needs_background": "light"
     },
     "output_type": "display_data"
    }
   ],
   "source": [
    "sns.boxplot(Temperature[\"LDAPS_Tmax_lapse\"])\n",
    "#minimum value is 17.62. Median is 30 and maximum is 38.5\n",
    "#outliers are present"
   ]
  },
  {
   "cell_type": "code",
   "execution_count": 161,
   "metadata": {},
   "outputs": [
    {
     "data": {
      "text/plain": [
       "<AxesSubplot:xlabel='LDAPS_Tmax_lapse', ylabel='Density'>"
      ]
     },
     "execution_count": 161,
     "metadata": {},
     "output_type": "execute_result"
    },
    {
     "data": {
      "image/png": "[encoded data removed]",
      "text/plain": [
       "<Figure size 432x288 with 1 Axes>"
      ]
     },
     "metadata": {
      "needs_background": "light"
     },
     "output_type": "display_data"
    }
   ],
   "source": [
    "sns.distplot(Temperature[\"LDAPS_Tmax_lapse\"])\n",
    "#Left skewness is present\n",
    "#maximum density is between 27.5 to 37.5"
   ]
  },
  {
   "cell_type": "code",
   "execution_count": 162,
   "metadata": {},
   "outputs": [
    {
     "data": {
      "text/plain": [
       "<AxesSubplot:xlabel='LDAPS_Tmin_lapse'>"
      ]
     },
     "execution_count": 162,
     "metadata": {},
     "output_type": "execute_result"
    },
    {
     "data": {
      "image/png": "[encoded data removed]",
      "text/plain": [
       "<Figure size 432x288 with 1 Axes>"
      ]
     },
     "metadata": {
      "needs_background": "light"
     },
     "output_type": "display_data"
    }
   ],
   "source": [
    "sns.boxplot(Temperature[\"LDAPS_Tmin_lapse\"])\n",
    "#outliers are present\n",
    "#Minimum value is 14.Median value is 23. Maximum is 30"
   ]
  },
  {
   "cell_type": "code",
   "execution_count": 163,
   "metadata": {},
   "outputs": [
    {
     "data": {
      "text/plain": [
       "<AxesSubplot:xlabel='LDAPS_Tmin_lapse', ylabel='Density'>"
      ]
     },
     "execution_count": 163,
     "metadata": {},
     "output_type": "execute_result"
    },
    {
     "data": {
      "image/png": "[encoded data removed]",
      "text/plain": [
       "<Figure size 432x288 with 1 Axes>"
      ]
     },
     "metadata": {
      "needs_background": "light"
     },
     "output_type": "display_data"
    }
   ],
   "source": [
    "sns.distplot(Temperature[\"LDAPS_Tmin_lapse\"])\n",
    "#left skewness is present\n",
    "#maximum density is between 22.5 to 25"
   ]
  },
  {
   "cell_type": "code",
   "execution_count": 164,
   "metadata": {},
   "outputs": [
    {
     "data": {
      "text/plain": [
       "<AxesSubplot:xlabel='LDAPS_WS'>"
      ]
     },
     "execution_count": 164,
     "metadata": {},
     "output_type": "execute_result"
    },
    {
     "data": {
      "image/png": "[encoded data removed]",
      "text/plain": [
       "<Figure size 432x288 with 1 Axes>"
      ]
     },
     "metadata": {
      "needs_background": "light"
     },
     "output_type": "display_data"
    }
   ],
   "source": [
    "sns.boxplot(Temperature[\"LDAPS_WS\"])\n",
    "#Outliers are present\n",
    "#minimum values is 2.8. Median value is 6.5. Maximum value is 21.9"
   ]
  },
  {
   "cell_type": "code",
   "execution_count": 165,
   "metadata": {},
   "outputs": [
    {
     "data": {
      "text/plain": [
       "<AxesSubplot:xlabel='LDAPS_WS', ylabel='Density'>"
      ]
     },
     "execution_count": 165,
     "metadata": {},
     "output_type": "execute_result"
    },
    {
     "data": {
      "image/png": "[encoded data removed]",
      "text/plain": [
       "<Figure size 432x288 with 1 Axes>"
      ]
     },
     "metadata": {
      "needs_background": "light"
     },
     "output_type": "display_data"
    }
   ],
   "source": [
    "sns.distplot(Temperature[\"LDAPS_WS\"])\n",
    "#skewness to the right is present\n",
    "#maximum density present is between 5 and 7.5"
   ]
  },
  {
   "cell_type": "code",
   "execution_count": 166,
   "metadata": {},
   "outputs": [
    {
     "data": {
      "text/plain": [
       "<AxesSubplot:xlabel='LDAPS_LH'>"
      ]
     },
     "execution_count": 166,
     "metadata": {},
     "output_type": "execute_result"
    },
    {
     "data": {
      "image/png": "[encoded data removed]",
      "text/plain": [
       "<Figure size 432x288 with 1 Axes>"
      ]
     },
     "metadata": {
      "needs_background": "light"
     },
     "output_type": "display_data"
    }
   ],
   "source": [
    "sns.boxplot(Temperature[\"LDAPS_LH\"])\n",
    "#outliers are present\n",
    "#minimum value is -13. Median value is 57 and maximum value is 213"
   ]
  },
  {
   "cell_type": "code",
   "execution_count": 167,
   "metadata": {},
   "outputs": [
    {
     "data": {
      "text/plain": [
       "<AxesSubplot:xlabel='LDAPS_LH', ylabel='Density'>"
      ]
     },
     "execution_count": 167,
     "metadata": {},
     "output_type": "execute_result"
    },
    {
     "data": {
      "image/png": "[encoded data removed]",
      "text/plain": [
       "<Figure size 432x288 with 1 Axes>"
      ]
     },
     "metadata": {
      "needs_background": "light"
     },
     "output_type": "display_data"
    }
   ],
   "source": [
    "sns.distplot(Temperature[\"LDAPS_LH\"])\n",
    "#right skewness is present\n",
    "#maximum density is present between 25 to 75"
   ]
  },
  {
   "cell_type": "code",
   "execution_count": 168,
   "metadata": {},
   "outputs": [
    {
     "data": {
      "text/plain": [
       "<AxesSubplot:xlabel='LDAPS_CC1'>"
      ]
     },
     "execution_count": 168,
     "metadata": {},
     "output_type": "execute_result"
    },
    {
     "data": {
      "image/png": "[encoded data removed]",
      "text/plain": [
       "<Figure size 432x288 with 1 Axes>"
      ]
     },
     "metadata": {
      "needs_background": "light"
     },
     "output_type": "display_data"
    }
   ],
   "source": [
    "sns.boxplot(Temperature[\"LDAPS_CC1\"])\n",
    "#no outliers are present"
   ]
  },
  {
   "cell_type": "code",
   "execution_count": 169,
   "metadata": {},
   "outputs": [
    {
     "data": {
      "text/plain": [
       "<AxesSubplot:xlabel='LDAPS_CC1', ylabel='Density'>"
      ]
     },
     "execution_count": 169,
     "metadata": {},
     "output_type": "execute_result"
    },
    {
     "data": {
      "image/png": "[encoded data removed]",
      "text/plain": [
       "<Figure size 432x288 with 1 Axes>"
      ]
     },
     "metadata": {
      "needs_background": "light"
     },
     "output_type": "display_data"
    }
   ],
   "source": [
    "sns.distplot(Temperature[\"LDAPS_CC1\"])\n",
    "#there is skewness to the right"
   ]
  },
  {
   "cell_type": "code",
   "execution_count": 170,
   "metadata": {},
   "outputs": [
    {
     "data": {
      "text/plain": [
       "<AxesSubplot:xlabel='LDAPS_CC2'>"
      ]
     },
     "execution_count": 170,
     "metadata": {},
     "output_type": "execute_result"
    },
    {
     "data": {
      "image/png": "[encoded data removed]",
      "text/plain": [
       "<Figure size 432x288 with 1 Axes>"
      ]
     },
     "metadata": {
      "needs_background": "light"
     },
     "output_type": "display_data"
    }
   ],
   "source": [
    "sns.boxplot(Temperature[\"LDAPS_CC2\"])\n",
    "#no outliers are present"
   ]
  },
  {
   "cell_type": "code",
   "execution_count": 171,
   "metadata": {},
   "outputs": [
    {
     "data": {
      "text/plain": [
       "<AxesSubplot:xlabel='LDAPS_CC2', ylabel='Density'>"
      ]
     },
     "execution_count": 171,
     "metadata": {},
     "output_type": "execute_result"
    },
    {
     "data": {
      "image/png": "[encoded data removed]",
      "text/plain": [
       "<Figure size 432x288 with 1 Axes>"
      ]
     },
     "metadata": {
      "needs_background": "light"
     },
     "output_type": "display_data"
    }
   ],
   "source": [
    "sns.distplot(Temperature[\"LDAPS_CC2\"])\n",
    "#there is skewness to the right"
   ]
  },
  {
   "cell_type": "code",
   "execution_count": 172,
   "metadata": {},
   "outputs": [
    {
     "data": {
      "text/plain": [
       "<AxesSubplot:xlabel='LDAPS_CC3'>"
      ]
     },
     "execution_count": 172,
     "metadata": {},
     "output_type": "execute_result"
    },
    {
     "data": {
      "image/png": "[encoded data removed]",
      "text/plain": [
       "<Figure size 432x288 with 1 Axes>"
      ]
     },
     "metadata": {
      "needs_background": "light"
     },
     "output_type": "display_data"
    }
   ],
   "source": [
    "sns.boxplot(Temperature[\"LDAPS_CC3\"])\n",
    "#no outliers are present"
   ]
  },
  {
   "cell_type": "code",
   "execution_count": 173,
   "metadata": {},
   "outputs": [
    {
     "data": {
      "text/plain": [
       "<AxesSubplot:xlabel='LDAPS_CC3', ylabel='Density'>"
      ]
     },
     "execution_count": 173,
     "metadata": {},
     "output_type": "execute_result"
    },
    {
     "data": {
      "image/png": "[encoded data removed]",
      "text/plain": [
       "<Figure size 432x288 with 1 Axes>"
      ]
     },
     "metadata": {
      "needs_background": "light"
     },
     "output_type": "display_data"
    }
   ],
   "source": [
    "sns.distplot(Temperature[\"LDAPS_CC3\"])\n",
    "#there is skewness to the right"
   ]
  },
  {
   "cell_type": "code",
   "execution_count": 174,
   "metadata": {},
   "outputs": [
    {
     "data": {
      "text/plain": [
       "<AxesSubplot:xlabel='LDAPS_CC4'>"
      ]
     },
     "execution_count": 174,
     "metadata": {},
     "output_type": "execute_result"
    },
    {
     "data": {
      "image/png": "[encoded data removed]",
      "text/plain": [
       "<Figure size 432x288 with 1 Axes>"
      ]
     },
     "metadata": {
      "needs_background": "light"
     },
     "output_type": "display_data"
    }
   ],
   "source": [
    "sns.boxplot(Temperature[\"LDAPS_CC4\"])\n",
    "#no outliers are present"
   ]
  },
  {
   "cell_type": "code",
   "execution_count": 175,
   "metadata": {},
   "outputs": [
    {
     "data": {
      "text/plain": [
       "<AxesSubplot:xlabel='LDAPS_CC4', ylabel='Density'>"
      ]
     },
     "execution_count": 175,
     "metadata": {},
     "output_type": "execute_result"
    },
    {
     "data": {
      "image/png": "[encoded data removed]",
      "text/plain": [
       "<Figure size 432x288 with 1 Axes>"
      ]
     },
     "metadata": {
      "needs_background": "light"
     },
     "output_type": "display_data"
    }
   ],
   "source": [
    "sns.distplot(Temperature[\"LDAPS_CC4\"])\n",
    "#there is skewness to the right"
   ]
  },
  {
   "cell_type": "code",
   "execution_count": 176,
   "metadata": {},
   "outputs": [
    {
     "data": {
      "text/plain": [
       "<AxesSubplot:xlabel='lat'>"
      ]
     },
     "execution_count": 176,
     "metadata": {},
     "output_type": "execute_result"
    },
    {
     "data": {
      "image/png": "[encoded data removed]",
      "text/plain": [
       "<Figure size 432x288 with 1 Axes>"
      ]
     },
     "metadata": {
      "needs_background": "light"
     },
     "output_type": "display_data"
    }
   ],
   "source": [
    "sns.boxplot(Temperature[\"lat\"])\n",
    "#no outliers are present"
   ]
  },
  {
   "cell_type": "code",
   "execution_count": 177,
   "metadata": {},
   "outputs": [
    {
     "data": {
      "text/plain": [
       "<seaborn.axisgrid.FacetGrid at 0x1b620a3f3a0>"
      ]
     },
     "execution_count": 177,
     "metadata": {},
     "output_type": "execute_result"
    },
    {
     "data": {
      "image/png": "[encoded data removed]",
      "text/plain": [
       "<Figure size 360x360 with 1 Axes>"
      ]
     },
     "metadata": {
      "needs_background": "light"
     },
     "output_type": "display_data"
    }
   ],
   "source": [
    "sns.relplot(x=\"Present_Tmax\",y=\"Next_Tmax\",kind=\"scatter\",data=Temperature)\n",
    "#There seems to be a direct relationship between the two variables. With an increase in Next_Tmax, Present_Tmax increases"
   ]
  },
  {
   "cell_type": "code",
   "execution_count": 178,
   "metadata": {},
   "outputs": [
    {
     "data": {
      "text/plain": [
       "<seaborn.axisgrid.FacetGrid at 0x1b622401250>"
      ]
     },
     "execution_count": 178,
     "metadata": {},
     "output_type": "execute_result"
    },
    {
     "data": {
      "image/png": "[encoded data removed]",
      "text/plain": [
       "<Figure size 360x360 with 1 Axes>"
      ]
     },
     "metadata": {
      "needs_background": "light"
     },
     "output_type": "display_data"
    }
   ],
   "source": [
    "sns.relplot(x=\"Present_Tmax\",y=\"Next_Tmin\",kind=\"scatter\",data=Temperature)\n",
    "#There seems to be a direct relationship between the two variables. With an increase in Next_Tmin, Present_Tmax increases"
   ]
  },
  {
   "cell_type": "code",
   "execution_count": 179,
   "metadata": {},
   "outputs": [
    {
     "data": {
      "text/plain": [
       "<seaborn.axisgrid.FacetGrid at 0x1b622cbe9d0>"
      ]
     },
     "execution_count": 179,
     "metadata": {},
     "output_type": "execute_result"
    },
    {
     "data": {
      "image/png": "[encoded data removed]",
      "text/plain": [
       "<Figure size 360x360 with 1 Axes>"
      ]
     },
     "metadata": {
      "needs_background": "light"
     },
     "output_type": "display_data"
    }
   ],
   "source": [
    "sns.relplot(x=\"Present_Tmin\",y=\"Next_Tmax\",kind=\"scatter\",data=Temperature)\n",
    "#There seems to be a direct relationship between the two variables. With an increase in Next_Tmax, Present_Tmin increases"
   ]
  },
  {
   "cell_type": "code",
   "execution_count": 180,
   "metadata": {},
   "outputs": [
    {
     "data": {
      "text/plain": [
       "<seaborn.axisgrid.FacetGrid at 0x1b623d8bfa0>"
      ]
     },
     "execution_count": 180,
     "metadata": {},
     "output_type": "execute_result"
    },
    {
     "data": {
      "image/png": "[encoded data removed]",
      "text/plain": [
       "<Figure size 360x360 with 1 Axes>"
      ]
     },
     "metadata": {
      "needs_background": "light"
     },
     "output_type": "display_data"
    }
   ],
   "source": [
    "sns.relplot(x=\"Present_Tmin\",y=\"Next_Tmin\",kind=\"scatter\",data=Temperature)\n",
    "#There seems to be a direct relationship between the two variables. With an increase in Next_Tmin, Present_Tmin increases"
   ]
  },
  {
   "cell_type": "code",
   "execution_count": 181,
   "metadata": {},
   "outputs": [
    {
     "data": {
      "text/plain": [
       "<seaborn.axisgrid.FacetGrid at 0x1b622bb5e20>"
      ]
     },
     "execution_count": 181,
     "metadata": {},
     "output_type": "execute_result"
    },
    {
     "data": {
      "image/png": "[encoded data removed]",
      "text/plain": [
       "<Figure size 360x360 with 1 Axes>"
      ]
     },
     "metadata": {
      "needs_background": "light"
     },
     "output_type": "display_data"
    }
   ],
   "source": [
    "sns.relplot(x=\"LDAPS_RHmin\",y=\"Next_Tmax\",kind=\"scatter\",data=Temperature)\n",
    "#No conclusion can me made"
   ]
  },
  {
   "cell_type": "code",
   "execution_count": 182,
   "metadata": {},
   "outputs": [
    {
     "data": {
      "text/plain": [
       "<seaborn.axisgrid.FacetGrid at 0x1b623dfbc40>"
      ]
     },
     "execution_count": 182,
     "metadata": {},
     "output_type": "execute_result"
    },
    {
     "data": {
      "image/png": "[encoded data removed]",
      "text/plain": [
       "<Figure size 360x360 with 1 Axes>"
      ]
     },
     "metadata": {
      "needs_background": "light"
     },
     "output_type": "display_data"
    }
   ],
   "source": [
    "sns.relplot(x=\"LDAPS_RHmin\",y=\"Next_Tmin\",kind=\"scatter\",data=Temperature)\n",
    "#No conclusion can me made"
   ]
  },
  {
   "cell_type": "markdown",
   "metadata": {},
   "source": [
    "zscore(Temperature)"
   ]
  },
  {
   "cell_type": "markdown",
   "metadata": {},
   "source": [
    "z=np.abs(zscore(Temperature))"
   ]
  },
  {
   "cell_type": "markdown",
   "metadata": {},
   "source": [
    "print(np.where(z>3))"
   ]
  },
  {
   "cell_type": "markdown",
   "metadata": {},
   "source": [
    "Temperature_New=Temperature[(z<3).all(axis=1)]"
   ]
  },
  {
   "cell_type": "markdown",
   "metadata": {},
   "source": [
    "Temperature_New\n",
    "#Since data loss is more than 10% we retain the outliers"
   ]
  },
  {
   "cell_type": "code",
   "execution_count": 183,
   "metadata": {},
   "outputs": [
    {
     "data": {
      "text/html": [
       "<div>\n",
       "<style scoped>\n",
       "    .dataframe tbody tr th:only-of-type {\n",
       "        vertical-align: middle;\n",
       "    }\n",
       "\n",
       "    .dataframe tbody tr th {\n",
       "        vertical-align: top;\n",
       "    }\n",
       "\n",
       "    .dataframe thead th {\n",
       "        text-align: right;\n",
       "    }\n",
       "</style>\n",
       "<table border=\"1\" class=\"dataframe\">\n",
       "  <thead>\n",
       "    <tr style=\"text-align: right;\">\n",
       "      <th></th>\n",
       "      <th>station</th>\n",
       "      <th>Present_Tmax</th>\n",
       "      <th>Present_Tmin</th>\n",
       "      <th>LDAPS_RHmin</th>\n",
       "      <th>LDAPS_RHmax</th>\n",
       "      <th>LDAPS_Tmax_lapse</th>\n",
       "      <th>LDAPS_Tmin_lapse</th>\n",
       "      <th>LDAPS_WS</th>\n",
       "      <th>LDAPS_LH</th>\n",
       "      <th>LDAPS_CC1</th>\n",
       "      <th>...</th>\n",
       "      <th>lat</th>\n",
       "      <th>lon</th>\n",
       "      <th>DEM</th>\n",
       "      <th>Slope</th>\n",
       "      <th>Solar radiation</th>\n",
       "      <th>Next_Tmax</th>\n",
       "      <th>Next_Tmin</th>\n",
       "      <th>day</th>\n",
       "      <th>month</th>\n",
       "      <th>year</th>\n",
       "    </tr>\n",
       "  </thead>\n",
       "  <tbody>\n",
       "    <tr>\n",
       "      <th>0</th>\n",
       "      <td>1.0</td>\n",
       "      <td>28.7</td>\n",
       "      <td>21.4</td>\n",
       "      <td>58.255688</td>\n",
       "      <td>91.116364</td>\n",
       "      <td>28.074101</td>\n",
       "      <td>23.006936</td>\n",
       "      <td>6.818887</td>\n",
       "      <td>69.451805</td>\n",
       "      <td>0.233947</td>\n",
       "      <td>...</td>\n",
       "      <td>37.6046</td>\n",
       "      <td>126.991</td>\n",
       "      <td>212.3350</td>\n",
       "      <td>2.7850</td>\n",
       "      <td>5992.895996</td>\n",
       "      <td>29.1</td>\n",
       "      <td>21.2</td>\n",
       "      <td>30</td>\n",
       "      <td>6</td>\n",
       "      <td>2013</td>\n",
       "    </tr>\n",
       "    <tr>\n",
       "      <th>1</th>\n",
       "      <td>2.0</td>\n",
       "      <td>31.9</td>\n",
       "      <td>21.6</td>\n",
       "      <td>52.263397</td>\n",
       "      <td>90.604721</td>\n",
       "      <td>29.850689</td>\n",
       "      <td>24.035009</td>\n",
       "      <td>5.691890</td>\n",
       "      <td>51.937448</td>\n",
       "      <td>0.225508</td>\n",
       "      <td>...</td>\n",
       "      <td>37.6046</td>\n",
       "      <td>127.032</td>\n",
       "      <td>44.7624</td>\n",
       "      <td>0.5141</td>\n",
       "      <td>5869.312500</td>\n",
       "      <td>30.5</td>\n",
       "      <td>22.5</td>\n",
       "      <td>30</td>\n",
       "      <td>6</td>\n",
       "      <td>2013</td>\n",
       "    </tr>\n",
       "    <tr>\n",
       "      <th>2</th>\n",
       "      <td>3.0</td>\n",
       "      <td>31.6</td>\n",
       "      <td>23.3</td>\n",
       "      <td>48.690479</td>\n",
       "      <td>83.973587</td>\n",
       "      <td>30.091292</td>\n",
       "      <td>24.565633</td>\n",
       "      <td>6.138224</td>\n",
       "      <td>20.573050</td>\n",
       "      <td>0.209344</td>\n",
       "      <td>...</td>\n",
       "      <td>37.5776</td>\n",
       "      <td>127.058</td>\n",
       "      <td>33.3068</td>\n",
       "      <td>0.2661</td>\n",
       "      <td>5863.555664</td>\n",
       "      <td>31.1</td>\n",
       "      <td>23.9</td>\n",
       "      <td>30</td>\n",
       "      <td>6</td>\n",
       "      <td>2013</td>\n",
       "    </tr>\n",
       "    <tr>\n",
       "      <th>3</th>\n",
       "      <td>4.0</td>\n",
       "      <td>32.0</td>\n",
       "      <td>23.4</td>\n",
       "      <td>58.239788</td>\n",
       "      <td>96.483688</td>\n",
       "      <td>29.704629</td>\n",
       "      <td>23.326177</td>\n",
       "      <td>5.650050</td>\n",
       "      <td>65.727144</td>\n",
       "      <td>0.216372</td>\n",
       "      <td>...</td>\n",
       "      <td>37.6450</td>\n",
       "      <td>127.022</td>\n",
       "      <td>45.7160</td>\n",
       "      <td>2.5348</td>\n",
       "      <td>5856.964844</td>\n",
       "      <td>31.7</td>\n",
       "      <td>24.3</td>\n",
       "      <td>30</td>\n",
       "      <td>6</td>\n",
       "      <td>2013</td>\n",
       "    </tr>\n",
       "    <tr>\n",
       "      <th>4</th>\n",
       "      <td>5.0</td>\n",
       "      <td>31.4</td>\n",
       "      <td>21.9</td>\n",
       "      <td>56.174095</td>\n",
       "      <td>90.155128</td>\n",
       "      <td>29.113934</td>\n",
       "      <td>23.486480</td>\n",
       "      <td>5.735004</td>\n",
       "      <td>107.965535</td>\n",
       "      <td>0.151407</td>\n",
       "      <td>...</td>\n",
       "      <td>37.5507</td>\n",
       "      <td>127.135</td>\n",
       "      <td>35.0380</td>\n",
       "      <td>0.5055</td>\n",
       "      <td>5859.552246</td>\n",
       "      <td>31.2</td>\n",
       "      <td>22.5</td>\n",
       "      <td>30</td>\n",
       "      <td>6</td>\n",
       "      <td>2013</td>\n",
       "    </tr>\n",
       "    <tr>\n",
       "      <th>...</th>\n",
       "      <td>...</td>\n",
       "      <td>...</td>\n",
       "      <td>...</td>\n",
       "      <td>...</td>\n",
       "      <td>...</td>\n",
       "      <td>...</td>\n",
       "      <td>...</td>\n",
       "      <td>...</td>\n",
       "      <td>...</td>\n",
       "      <td>...</td>\n",
       "      <td>...</td>\n",
       "      <td>...</td>\n",
       "      <td>...</td>\n",
       "      <td>...</td>\n",
       "      <td>...</td>\n",
       "      <td>...</td>\n",
       "      <td>...</td>\n",
       "      <td>...</td>\n",
       "      <td>...</td>\n",
       "      <td>...</td>\n",
       "      <td>...</td>\n",
       "    </tr>\n",
       "    <tr>\n",
       "      <th>7745</th>\n",
       "      <td>21.0</td>\n",
       "      <td>23.1</td>\n",
       "      <td>17.8</td>\n",
       "      <td>24.688997</td>\n",
       "      <td>78.261383</td>\n",
       "      <td>27.812697</td>\n",
       "      <td>18.303014</td>\n",
       "      <td>6.603253</td>\n",
       "      <td>9.614074</td>\n",
       "      <td>0.052902</td>\n",
       "      <td>...</td>\n",
       "      <td>37.5507</td>\n",
       "      <td>127.040</td>\n",
       "      <td>26.2980</td>\n",
       "      <td>0.5721</td>\n",
       "      <td>4456.024414</td>\n",
       "      <td>27.6</td>\n",
       "      <td>17.7</td>\n",
       "      <td>30</td>\n",
       "      <td>8</td>\n",
       "      <td>2017</td>\n",
       "    </tr>\n",
       "    <tr>\n",
       "      <th>7746</th>\n",
       "      <td>22.0</td>\n",
       "      <td>22.5</td>\n",
       "      <td>17.4</td>\n",
       "      <td>30.094858</td>\n",
       "      <td>83.690018</td>\n",
       "      <td>26.704905</td>\n",
       "      <td>17.814038</td>\n",
       "      <td>5.768083</td>\n",
       "      <td>82.146707</td>\n",
       "      <td>0.066461</td>\n",
       "      <td>...</td>\n",
       "      <td>37.5102</td>\n",
       "      <td>127.086</td>\n",
       "      <td>21.9668</td>\n",
       "      <td>0.1332</td>\n",
       "      <td>4441.803711</td>\n",
       "      <td>28.0</td>\n",
       "      <td>17.1</td>\n",
       "      <td>30</td>\n",
       "      <td>8</td>\n",
       "      <td>2017</td>\n",
       "    </tr>\n",
       "    <tr>\n",
       "      <th>7747</th>\n",
       "      <td>23.0</td>\n",
       "      <td>23.3</td>\n",
       "      <td>17.1</td>\n",
       "      <td>26.741310</td>\n",
       "      <td>78.869858</td>\n",
       "      <td>26.352081</td>\n",
       "      <td>18.775678</td>\n",
       "      <td>6.148918</td>\n",
       "      <td>72.058294</td>\n",
       "      <td>0.030034</td>\n",
       "      <td>...</td>\n",
       "      <td>37.5372</td>\n",
       "      <td>126.891</td>\n",
       "      <td>15.5876</td>\n",
       "      <td>0.1554</td>\n",
       "      <td>4443.313965</td>\n",
       "      <td>28.3</td>\n",
       "      <td>18.1</td>\n",
       "      <td>30</td>\n",
       "      <td>8</td>\n",
       "      <td>2017</td>\n",
       "    </tr>\n",
       "    <tr>\n",
       "      <th>7748</th>\n",
       "      <td>24.0</td>\n",
       "      <td>23.3</td>\n",
       "      <td>17.7</td>\n",
       "      <td>24.040634</td>\n",
       "      <td>77.294975</td>\n",
       "      <td>27.010193</td>\n",
       "      <td>18.733519</td>\n",
       "      <td>6.542819</td>\n",
       "      <td>47.241457</td>\n",
       "      <td>0.035874</td>\n",
       "      <td>...</td>\n",
       "      <td>37.5237</td>\n",
       "      <td>126.909</td>\n",
       "      <td>17.2956</td>\n",
       "      <td>0.2223</td>\n",
       "      <td>4438.373535</td>\n",
       "      <td>28.6</td>\n",
       "      <td>18.8</td>\n",
       "      <td>30</td>\n",
       "      <td>8</td>\n",
       "      <td>2017</td>\n",
       "    </tr>\n",
       "    <tr>\n",
       "      <th>7749</th>\n",
       "      <td>25.0</td>\n",
       "      <td>23.2</td>\n",
       "      <td>17.4</td>\n",
       "      <td>22.933014</td>\n",
       "      <td>77.243744</td>\n",
       "      <td>27.939516</td>\n",
       "      <td>18.522965</td>\n",
       "      <td>7.289264</td>\n",
       "      <td>9.090034</td>\n",
       "      <td>0.048954</td>\n",
       "      <td>...</td>\n",
       "      <td>37.5237</td>\n",
       "      <td>126.970</td>\n",
       "      <td>19.5844</td>\n",
       "      <td>0.2713</td>\n",
       "      <td>4451.345215</td>\n",
       "      <td>27.8</td>\n",
       "      <td>17.4</td>\n",
       "      <td>30</td>\n",
       "      <td>8</td>\n",
       "      <td>2017</td>\n",
       "    </tr>\n",
       "  </tbody>\n",
       "</table>\n",
       "<p>7750 rows × 27 columns</p>\n",
       "</div>"
      ],
      "text/plain": [
       "      station  Present_Tmax  Present_Tmin  LDAPS_RHmin  LDAPS_RHmax  \\\n",
       "0         1.0          28.7          21.4    58.255688    91.116364   \n",
       "1         2.0          31.9          21.6    52.263397    90.604721   \n",
       "2         3.0          31.6          23.3    48.690479    83.973587   \n",
       "3         4.0          32.0          23.4    58.239788    96.483688   \n",
       "4         5.0          31.4          21.9    56.174095    90.155128   \n",
       "...       ...           ...           ...          ...          ...   \n",
       "7745     21.0          23.1          17.8    24.688997    78.261383   \n",
       "7746     22.0          22.5          17.4    30.094858    83.690018   \n",
       "7747     23.0          23.3          17.1    26.741310    78.869858   \n",
       "7748     24.0          23.3          17.7    24.040634    77.294975   \n",
       "7749     25.0          23.2          17.4    22.933014    77.243744   \n",
       "\n",
       "      LDAPS_Tmax_lapse  LDAPS_Tmin_lapse  LDAPS_WS    LDAPS_LH  LDAPS_CC1  \\\n",
       "0            28.074101         23.006936  6.818887   69.451805   0.233947   \n",
       "1            29.850689         24.035009  5.691890   51.937448   0.225508   \n",
       "2            30.091292         24.565633  6.138224   20.573050   0.209344   \n",
       "3            29.704629         23.326177  5.650050   65.727144   0.216372   \n",
       "4            29.113934         23.486480  5.735004  107.965535   0.151407   \n",
       "...                ...               ...       ...         ...        ...   \n",
       "7745         27.812697         18.303014  6.603253    9.614074   0.052902   \n",
       "7746         26.704905         17.814038  5.768083   82.146707   0.066461   \n",
       "7747         26.352081         18.775678  6.148918   72.058294   0.030034   \n",
       "7748         27.010193         18.733519  6.542819   47.241457   0.035874   \n",
       "7749         27.939516         18.522965  7.289264    9.090034   0.048954   \n",
       "\n",
       "      ...      lat      lon       DEM   Slope  Solar radiation  Next_Tmax  \\\n",
       "0     ...  37.6046  126.991  212.3350  2.7850      5992.895996       29.1   \n",
       "1     ...  37.6046  127.032   44.7624  0.5141      5869.312500       30.5   \n",
       "2     ...  37.5776  127.058   33.3068  0.2661      5863.555664       31.1   \n",
       "3     ...  37.6450  127.022   45.7160  2.5348      5856.964844       31.7   \n",
       "4     ...  37.5507  127.135   35.0380  0.5055      5859.552246       31.2   \n",
       "...   ...      ...      ...       ...     ...              ...        ...   \n",
       "7745  ...  37.5507  127.040   26.2980  0.5721      4456.024414       27.6   \n",
       "7746  ...  37.5102  127.086   21.9668  0.1332      4441.803711       28.0   \n",
       "7747  ...  37.5372  126.891   15.5876  0.1554      4443.313965       28.3   \n",
       "7748  ...  37.5237  126.909   17.2956  0.2223      4438.373535       28.6   \n",
       "7749  ...  37.5237  126.970   19.5844  0.2713      4451.345215       27.8   \n",
       "\n",
       "      Next_Tmin  day  month  year  \n",
       "0          21.2   30      6  2013  \n",
       "1          22.5   30      6  2013  \n",
       "2          23.9   30      6  2013  \n",
       "3          24.3   30      6  2013  \n",
       "4          22.5   30      6  2013  \n",
       "...         ...  ...    ...   ...  \n",
       "7745       17.7   30      8  2017  \n",
       "7746       17.1   30      8  2017  \n",
       "7747       18.1   30      8  2017  \n",
       "7748       18.8   30      8  2017  \n",
       "7749       17.4   30      8  2017  \n",
       "\n",
       "[7750 rows x 27 columns]"
      ]
     },
     "execution_count": 183,
     "metadata": {},
     "output_type": "execute_result"
    }
   ],
   "source": [
    "Temperature"
   ]
  },
  {
   "cell_type": "code",
   "execution_count": 184,
   "metadata": {},
   "outputs": [
    {
     "data": {
      "text/plain": [
       "station             0.000000\n",
       "Present_Tmax       -0.263016\n",
       "Present_Tmin       -0.357573\n",
       "LDAPS_RHmin         0.300230\n",
       "LDAPS_RHmax        -0.850666\n",
       "LDAPS_Tmax_lapse   -0.224211\n",
       "LDAPS_Tmin_lapse   -0.579038\n",
       "LDAPS_WS            1.556441\n",
       "LDAPS_LH            0.667591\n",
       "LDAPS_CC1           0.459196\n",
       "LDAPS_CC2           0.471968\n",
       "LDAPS_CC3           0.640094\n",
       "LDAPS_CC4           0.665834\n",
       "LDAPS_PPT1          5.324449\n",
       "LDAPS_PPT2          5.713292\n",
       "LDAPS_PPT3          6.368744\n",
       "LDAPS_PPT4          6.743282\n",
       "lat                 0.086942\n",
       "lon                -0.285300\n",
       "DEM                 1.723944\n",
       "Slope               1.563346\n",
       "Solar radiation    -0.511006\n",
       "Next_Tmax          -0.335958\n",
       "Next_Tmin          -0.396876\n",
       "day                 0.245482\n",
       "month              -0.705241\n",
       "year                0.000000\n",
       "dtype: float64"
      ]
     },
     "execution_count": 184,
     "metadata": {},
     "output_type": "execute_result"
    }
   ],
   "source": [
    "Temperature.skew()"
   ]
  },
  {
   "cell_type": "code",
   "execution_count": 185,
   "metadata": {},
   "outputs": [],
   "source": [
    "#lets remove skewness\n",
    "Temperature[\"LDAPS_RHmax\"]=power_transform(Temperature[\"LDAPS_RHmax\"].values.reshape(-1,1))\n",
    "\n",
    "Temperature[\"LDAPS_Tmin_lapse\"]=power_transform(Temperature[\"LDAPS_Tmin_lapse\"].values.reshape(-1,1))\n",
    "\n",
    "Temperature[\"LDAPS_WS\"]=power_transform(Temperature[\"LDAPS_WS\"].values.reshape(-1,1))\n",
    "\n",
    "Temperature[\"LDAPS_LH\"]=power_transform(Temperature[\"LDAPS_LH\"].values.reshape(-1,1))\n",
    "\n",
    "Temperature[\"LDAPS_CC3\"]=power_transform(Temperature[\"LDAPS_CC3\"].values.reshape(-1,1))\n",
    "\n",
    "Temperature[\"LDAPS_CC4\"]=power_transform(Temperature[\"LDAPS_CC4\"].values.reshape(-1,1))\n",
    "\n",
    "Temperature[\"LDAPS_PPT1\"]=power_transform(Temperature[\"LDAPS_PPT1\"].values.reshape(-1,1))\n",
    "\n",
    "Temperature[\"LDAPS_PPT2\"]=power_transform(Temperature[\"LDAPS_PPT2\"].values.reshape(-1,1))\n",
    "\n",
    "Temperature[\"LDAPS_PPT3\"]=power_transform(Temperature[\"LDAPS_PPT3\"].values.reshape(-1,1))\n",
    "\n",
    "Temperature[\"LDAPS_PPT4\"]=power_transform(Temperature[\"LDAPS_PPT4\"].values.reshape(-1,1))\n",
    "\n",
    "Temperature[\"DEM\"]=power_transform(Temperature[\"DEM\"].values.reshape(-1,1))\n",
    "\n",
    "Temperature[\"Slope\"]=power_transform(Temperature[\"Slope\"].values.reshape(-1,1))\n",
    "\n",
    "Temperature[\"Solar radiation\"]=power_transform(Temperature[\"Solar radiation\"].values.reshape(-1,1))"
   ]
  },
  {
   "cell_type": "code",
   "execution_count": null,
   "metadata": {},
   "outputs": [],
   "source": []
  },
  {
   "cell_type": "code",
   "execution_count": 186,
   "metadata": {},
   "outputs": [],
   "source": [
    "#lets split x and y for machine learning"
   ]
  },
  {
   "cell_type": "code",
   "execution_count": 187,
   "metadata": {},
   "outputs": [
    {
     "data": {
      "text/html": [
       "<div>\n",
       "<style scoped>\n",
       "    .dataframe tbody tr th:only-of-type {\n",
       "        vertical-align: middle;\n",
       "    }\n",
       "\n",
       "    .dataframe tbody tr th {\n",
       "        vertical-align: top;\n",
       "    }\n",
       "\n",
       "    .dataframe thead th {\n",
       "        text-align: right;\n",
       "    }\n",
       "</style>\n",
       "<table border=\"1\" class=\"dataframe\">\n",
       "  <thead>\n",
       "    <tr style=\"text-align: right;\">\n",
       "      <th></th>\n",
       "      <th>station</th>\n",
       "      <th>Present_Tmax</th>\n",
       "      <th>Present_Tmin</th>\n",
       "      <th>LDAPS_RHmin</th>\n",
       "      <th>LDAPS_RHmax</th>\n",
       "      <th>LDAPS_Tmax_lapse</th>\n",
       "      <th>LDAPS_Tmin_lapse</th>\n",
       "      <th>LDAPS_WS</th>\n",
       "      <th>LDAPS_LH</th>\n",
       "      <th>LDAPS_CC1</th>\n",
       "      <th>...</th>\n",
       "      <th>LDAPS_PPT4</th>\n",
       "      <th>lat</th>\n",
       "      <th>lon</th>\n",
       "      <th>DEM</th>\n",
       "      <th>Slope</th>\n",
       "      <th>Solar radiation</th>\n",
       "      <th>Next_Tmin</th>\n",
       "      <th>day</th>\n",
       "      <th>month</th>\n",
       "      <th>year</th>\n",
       "    </tr>\n",
       "  </thead>\n",
       "  <tbody>\n",
       "    <tr>\n",
       "      <th>0</th>\n",
       "      <td>1.0</td>\n",
       "      <td>28.7</td>\n",
       "      <td>21.4</td>\n",
       "      <td>58.255688</td>\n",
       "      <td>0.273083</td>\n",
       "      <td>28.074101</td>\n",
       "      <td>-0.312802</td>\n",
       "      <td>0.093955</td>\n",
       "      <td>0.318613</td>\n",
       "      <td>0.233947</td>\n",
       "      <td>...</td>\n",
       "      <td>-0.458389</td>\n",
       "      <td>37.6046</td>\n",
       "      <td>126.991</td>\n",
       "      <td>1.835459</td>\n",
       "      <td>1.314447</td>\n",
       "      <td>1.850167</td>\n",
       "      <td>21.2</td>\n",
       "      <td>30</td>\n",
       "      <td>6</td>\n",
       "      <td>2013</td>\n",
       "    </tr>\n",
       "    <tr>\n",
       "      <th>1</th>\n",
       "      <td>2.0</td>\n",
       "      <td>31.9</td>\n",
       "      <td>21.6</td>\n",
       "      <td>52.263397</td>\n",
       "      <td>0.185956</td>\n",
       "      <td>29.850689</td>\n",
       "      <td>0.144492</td>\n",
       "      <td>-0.626407</td>\n",
       "      <td>-0.203817</td>\n",
       "      <td>0.225508</td>\n",
       "      <td>...</td>\n",
       "      <td>-0.458389</td>\n",
       "      <td>37.6046</td>\n",
       "      <td>127.032</td>\n",
       "      <td>0.056032</td>\n",
       "      <td>-0.385353</td>\n",
       "      <td>1.401217</td>\n",
       "      <td>22.5</td>\n",
       "      <td>30</td>\n",
       "      <td>6</td>\n",
       "      <td>2013</td>\n",
       "    </tr>\n",
       "    <tr>\n",
       "      <th>2</th>\n",
       "      <td>3.0</td>\n",
       "      <td>31.6</td>\n",
       "      <td>23.3</td>\n",
       "      <td>48.690479</td>\n",
       "      <td>-0.773879</td>\n",
       "      <td>30.091292</td>\n",
       "      <td>0.394994</td>\n",
       "      <td>-0.315043</td>\n",
       "      <td>-1.388661</td>\n",
       "      <td>0.209344</td>\n",
       "      <td>...</td>\n",
       "      <td>-0.458389</td>\n",
       "      <td>37.5776</td>\n",
       "      <td>127.058</td>\n",
       "      <td>-0.364677</td>\n",
       "      <td>-0.949335</td>\n",
       "      <td>1.381155</td>\n",
       "      <td>23.9</td>\n",
       "      <td>30</td>\n",
       "      <td>6</td>\n",
       "      <td>2013</td>\n",
       "    </tr>\n",
       "    <tr>\n",
       "      <th>3</th>\n",
       "      <td>4.0</td>\n",
       "      <td>32.0</td>\n",
       "      <td>23.4</td>\n",
       "      <td>58.239788</td>\n",
       "      <td>1.317399</td>\n",
       "      <td>29.704629</td>\n",
       "      <td>-0.174703</td>\n",
       "      <td>-0.657646</td>\n",
       "      <td>0.212713</td>\n",
       "      <td>0.216372</td>\n",
       "      <td>...</td>\n",
       "      <td>-0.458389</td>\n",
       "      <td>37.6450</td>\n",
       "      <td>127.022</td>\n",
       "      <td>0.084942</td>\n",
       "      <td>1.235549</td>\n",
       "      <td>1.358278</td>\n",
       "      <td>24.3</td>\n",
       "      <td>30</td>\n",
       "      <td>6</td>\n",
       "      <td>2013</td>\n",
       "    </tr>\n",
       "    <tr>\n",
       "      <th>4</th>\n",
       "      <td>5.0</td>\n",
       "      <td>31.4</td>\n",
       "      <td>21.9</td>\n",
       "      <td>56.174095</td>\n",
       "      <td>0.111055</td>\n",
       "      <td>29.113934</td>\n",
       "      <td>-0.104042</td>\n",
       "      <td>-0.594605</td>\n",
       "      <td>1.298021</td>\n",
       "      <td>0.151407</td>\n",
       "      <td>...</td>\n",
       "      <td>-0.458389</td>\n",
       "      <td>37.5507</td>\n",
       "      <td>127.135</td>\n",
       "      <td>-0.290515</td>\n",
       "      <td>-0.401751</td>\n",
       "      <td>1.367247</td>\n",
       "      <td>22.5</td>\n",
       "      <td>30</td>\n",
       "      <td>6</td>\n",
       "      <td>2013</td>\n",
       "    </tr>\n",
       "    <tr>\n",
       "      <th>...</th>\n",
       "      <td>...</td>\n",
       "      <td>...</td>\n",
       "      <td>...</td>\n",
       "      <td>...</td>\n",
       "      <td>...</td>\n",
       "      <td>...</td>\n",
       "      <td>...</td>\n",
       "      <td>...</td>\n",
       "      <td>...</td>\n",
       "      <td>...</td>\n",
       "      <td>...</td>\n",
       "      <td>...</td>\n",
       "      <td>...</td>\n",
       "      <td>...</td>\n",
       "      <td>...</td>\n",
       "      <td>...</td>\n",
       "      <td>...</td>\n",
       "      <td>...</td>\n",
       "      <td>...</td>\n",
       "      <td>...</td>\n",
       "      <td>...</td>\n",
       "    </tr>\n",
       "    <tr>\n",
       "      <th>7745</th>\n",
       "      <td>21.0</td>\n",
       "      <td>23.1</td>\n",
       "      <td>17.8</td>\n",
       "      <td>24.688997</td>\n",
       "      <td>-1.384524</td>\n",
       "      <td>27.812697</td>\n",
       "      <td>-1.969281</td>\n",
       "      <td>-0.028014</td>\n",
       "      <td>-1.980121</td>\n",
       "      <td>0.052902</td>\n",
       "      <td>...</td>\n",
       "      <td>-0.458389</td>\n",
       "      <td>37.5507</td>\n",
       "      <td>127.040</td>\n",
       "      <td>-0.721794</td>\n",
       "      <td>-0.279523</td>\n",
       "      <td>-1.739436</td>\n",
       "      <td>17.7</td>\n",
       "      <td>30</td>\n",
       "      <td>8</td>\n",
       "      <td>2017</td>\n",
       "    </tr>\n",
       "    <tr>\n",
       "      <th>7746</th>\n",
       "      <td>22.0</td>\n",
       "      <td>22.5</td>\n",
       "      <td>17.4</td>\n",
       "      <td>30.094858</td>\n",
       "      <td>-0.808510</td>\n",
       "      <td>26.704905</td>\n",
       "      <td>-2.103825</td>\n",
       "      <td>-0.570469</td>\n",
       "      <td>0.662510</td>\n",
       "      <td>0.066461</td>\n",
       "      <td>...</td>\n",
       "      <td>-0.458389</td>\n",
       "      <td>37.5102</td>\n",
       "      <td>127.086</td>\n",
       "      <td>-1.006373</td>\n",
       "      <td>-1.355104</td>\n",
       "      <td>-1.756893</td>\n",
       "      <td>17.1</td>\n",
       "      <td>30</td>\n",
       "      <td>8</td>\n",
       "      <td>2017</td>\n",
       "    </tr>\n",
       "    <tr>\n",
       "      <th>7747</th>\n",
       "      <td>23.0</td>\n",
       "      <td>23.3</td>\n",
       "      <td>17.1</td>\n",
       "      <td>26.741310</td>\n",
       "      <td>-1.327662</td>\n",
       "      <td>26.352081</td>\n",
       "      <td>-1.832902</td>\n",
       "      <td>-0.308040</td>\n",
       "      <td>0.391282</td>\n",
       "      <td>0.030034</td>\n",
       "      <td>...</td>\n",
       "      <td>-0.458389</td>\n",
       "      <td>37.5372</td>\n",
       "      <td>126.891</td>\n",
       "      <td>-1.578769</td>\n",
       "      <td>-1.280717</td>\n",
       "      <td>-1.755049</td>\n",
       "      <td>18.1</td>\n",
       "      <td>30</td>\n",
       "      <td>8</td>\n",
       "      <td>2017</td>\n",
       "    </tr>\n",
       "    <tr>\n",
       "      <th>7748</th>\n",
       "      <td>24.0</td>\n",
       "      <td>23.3</td>\n",
       "      <td>17.7</td>\n",
       "      <td>24.040634</td>\n",
       "      <td>-1.471166</td>\n",
       "      <td>27.010193</td>\n",
       "      <td>-1.845323</td>\n",
       "      <td>-0.063396</td>\n",
       "      <td>-0.356189</td>\n",
       "      <td>0.035874</td>\n",
       "      <td>...</td>\n",
       "      <td>-0.458389</td>\n",
       "      <td>37.5237</td>\n",
       "      <td>126.909</td>\n",
       "      <td>-1.401188</td>\n",
       "      <td>-1.073155</td>\n",
       "      <td>-1.761072</td>\n",
       "      <td>18.8</td>\n",
       "      <td>30</td>\n",
       "      <td>8</td>\n",
       "      <td>2017</td>\n",
       "    </tr>\n",
       "    <tr>\n",
       "      <th>7749</th>\n",
       "      <td>25.0</td>\n",
       "      <td>23.2</td>\n",
       "      <td>17.4</td>\n",
       "      <td>22.933014</td>\n",
       "      <td>-1.475636</td>\n",
       "      <td>27.939516</td>\n",
       "      <td>-1.906600</td>\n",
       "      <td>0.338861</td>\n",
       "      <td>-2.013940</td>\n",
       "      <td>0.048954</td>\n",
       "      <td>...</td>\n",
       "      <td>-0.458389</td>\n",
       "      <td>37.5237</td>\n",
       "      <td>126.970</td>\n",
       "      <td>-1.193581</td>\n",
       "      <td>-0.935211</td>\n",
       "      <td>-1.745203</td>\n",
       "      <td>17.4</td>\n",
       "      <td>30</td>\n",
       "      <td>8</td>\n",
       "      <td>2017</td>\n",
       "    </tr>\n",
       "  </tbody>\n",
       "</table>\n",
       "<p>7750 rows × 26 columns</p>\n",
       "</div>"
      ],
      "text/plain": [
       "      station  Present_Tmax  Present_Tmin  LDAPS_RHmin  LDAPS_RHmax  \\\n",
       "0         1.0          28.7          21.4    58.255688     0.273083   \n",
       "1         2.0          31.9          21.6    52.263397     0.185956   \n",
       "2         3.0          31.6          23.3    48.690479    -0.773879   \n",
       "3         4.0          32.0          23.4    58.239788     1.317399   \n",
       "4         5.0          31.4          21.9    56.174095     0.111055   \n",
       "...       ...           ...           ...          ...          ...   \n",
       "7745     21.0          23.1          17.8    24.688997    -1.384524   \n",
       "7746     22.0          22.5          17.4    30.094858    -0.808510   \n",
       "7747     23.0          23.3          17.1    26.741310    -1.327662   \n",
       "7748     24.0          23.3          17.7    24.040634    -1.471166   \n",
       "7749     25.0          23.2          17.4    22.933014    -1.475636   \n",
       "\n",
       "      LDAPS_Tmax_lapse  LDAPS_Tmin_lapse  LDAPS_WS  LDAPS_LH  LDAPS_CC1  ...  \\\n",
       "0            28.074101         -0.312802  0.093955  0.318613   0.233947  ...   \n",
       "1            29.850689          0.144492 -0.626407 -0.203817   0.225508  ...   \n",
       "2            30.091292          0.394994 -0.315043 -1.388661   0.209344  ...   \n",
       "3            29.704629         -0.174703 -0.657646  0.212713   0.216372  ...   \n",
       "4            29.113934         -0.104042 -0.594605  1.298021   0.151407  ...   \n",
       "...                ...               ...       ...       ...        ...  ...   \n",
       "7745         27.812697         -1.969281 -0.028014 -1.980121   0.052902  ...   \n",
       "7746         26.704905         -2.103825 -0.570469  0.662510   0.066461  ...   \n",
       "7747         26.352081         -1.832902 -0.308040  0.391282   0.030034  ...   \n",
       "7748         27.010193         -1.845323 -0.063396 -0.356189   0.035874  ...   \n",
       "7749         27.939516         -1.906600  0.338861 -2.013940   0.048954  ...   \n",
       "\n",
       "      LDAPS_PPT4      lat      lon       DEM     Slope  Solar radiation  \\\n",
       "0      -0.458389  37.6046  126.991  1.835459  1.314447         1.850167   \n",
       "1      -0.458389  37.6046  127.032  0.056032 -0.385353         1.401217   \n",
       "2      -0.458389  37.5776  127.058 -0.364677 -0.949335         1.381155   \n",
       "3      -0.458389  37.6450  127.022  0.084942  1.235549         1.358278   \n",
       "4      -0.458389  37.5507  127.135 -0.290515 -0.401751         1.367247   \n",
       "...          ...      ...      ...       ...       ...              ...   \n",
       "7745   -0.458389  37.5507  127.040 -0.721794 -0.279523        -1.739436   \n",
       "7746   -0.458389  37.5102  127.086 -1.006373 -1.355104        -1.756893   \n",
       "7747   -0.458389  37.5372  126.891 -1.578769 -1.280717        -1.755049   \n",
       "7748   -0.458389  37.5237  126.909 -1.401188 -1.073155        -1.761072   \n",
       "7749   -0.458389  37.5237  126.970 -1.193581 -0.935211        -1.745203   \n",
       "\n",
       "      Next_Tmin  day  month  year  \n",
       "0          21.2   30      6  2013  \n",
       "1          22.5   30      6  2013  \n",
       "2          23.9   30      6  2013  \n",
       "3          24.3   30      6  2013  \n",
       "4          22.5   30      6  2013  \n",
       "...         ...  ...    ...   ...  \n",
       "7745       17.7   30      8  2017  \n",
       "7746       17.1   30      8  2017  \n",
       "7747       18.1   30      8  2017  \n",
       "7748       18.8   30      8  2017  \n",
       "7749       17.4   30      8  2017  \n",
       "\n",
       "[7750 rows x 26 columns]"
      ]
     },
     "execution_count": 187,
     "metadata": {},
     "output_type": "execute_result"
    }
   ],
   "source": [
    "x=Temperature.drop(\"Next_Tmax\",axis=1)\n",
    "x"
   ]
  },
  {
   "cell_type": "code",
   "execution_count": 188,
   "metadata": {},
   "outputs": [
    {
     "data": {
      "text/plain": [
       "0       29.1\n",
       "1       30.5\n",
       "2       31.1\n",
       "3       31.7\n",
       "4       31.2\n",
       "        ... \n",
       "7745    27.6\n",
       "7746    28.0\n",
       "7747    28.3\n",
       "7748    28.6\n",
       "7749    27.8\n",
       "Name: Next_Tmax, Length: 7750, dtype: float64"
      ]
     },
     "execution_count": 188,
     "metadata": {},
     "output_type": "execute_result"
    }
   ],
   "source": [
    "y=Temperature[\"Next_Tmax\"]\n",
    "y"
   ]
  },
  {
   "cell_type": "code",
   "execution_count": null,
   "metadata": {},
   "outputs": [],
   "source": []
  },
  {
   "cell_type": "code",
   "execution_count": 189,
   "metadata": {},
   "outputs": [],
   "source": [
    "#since the loss of data is around 10% we shall go ahead with the new dataset"
   ]
  },
  {
   "cell_type": "code",
   "execution_count": 190,
   "metadata": {},
   "outputs": [],
   "source": [
    "#lets split x and y for machine learning"
   ]
  },
  {
   "cell_type": "code",
   "execution_count": 191,
   "metadata": {},
   "outputs": [
    {
     "data": {
      "text/html": [
       "<div>\n",
       "<style scoped>\n",
       "    .dataframe tbody tr th:only-of-type {\n",
       "        vertical-align: middle;\n",
       "    }\n",
       "\n",
       "    .dataframe tbody tr th {\n",
       "        vertical-align: top;\n",
       "    }\n",
       "\n",
       "    .dataframe thead th {\n",
       "        text-align: right;\n",
       "    }\n",
       "</style>\n",
       "<table border=\"1\" class=\"dataframe\">\n",
       "  <thead>\n",
       "    <tr style=\"text-align: right;\">\n",
       "      <th></th>\n",
       "      <th>station</th>\n",
       "      <th>Present_Tmax</th>\n",
       "      <th>Present_Tmin</th>\n",
       "      <th>LDAPS_RHmin</th>\n",
       "      <th>LDAPS_RHmax</th>\n",
       "      <th>LDAPS_Tmax_lapse</th>\n",
       "      <th>LDAPS_Tmin_lapse</th>\n",
       "      <th>LDAPS_WS</th>\n",
       "      <th>LDAPS_LH</th>\n",
       "      <th>LDAPS_CC1</th>\n",
       "      <th>...</th>\n",
       "      <th>LDAPS_PPT4</th>\n",
       "      <th>lat</th>\n",
       "      <th>lon</th>\n",
       "      <th>DEM</th>\n",
       "      <th>Slope</th>\n",
       "      <th>Solar radiation</th>\n",
       "      <th>Next_Tmin</th>\n",
       "      <th>day</th>\n",
       "      <th>month</th>\n",
       "      <th>year</th>\n",
       "    </tr>\n",
       "  </thead>\n",
       "  <tbody>\n",
       "    <tr>\n",
       "      <th>0</th>\n",
       "      <td>1.0</td>\n",
       "      <td>28.7</td>\n",
       "      <td>21.4</td>\n",
       "      <td>58.255688</td>\n",
       "      <td>0.273083</td>\n",
       "      <td>28.074101</td>\n",
       "      <td>-0.312802</td>\n",
       "      <td>0.093955</td>\n",
       "      <td>0.318613</td>\n",
       "      <td>0.233947</td>\n",
       "      <td>...</td>\n",
       "      <td>-0.458389</td>\n",
       "      <td>37.6046</td>\n",
       "      <td>126.991</td>\n",
       "      <td>1.835459</td>\n",
       "      <td>1.314447</td>\n",
       "      <td>1.850167</td>\n",
       "      <td>21.2</td>\n",
       "      <td>30</td>\n",
       "      <td>6</td>\n",
       "      <td>2013</td>\n",
       "    </tr>\n",
       "    <tr>\n",
       "      <th>1</th>\n",
       "      <td>2.0</td>\n",
       "      <td>31.9</td>\n",
       "      <td>21.6</td>\n",
       "      <td>52.263397</td>\n",
       "      <td>0.185956</td>\n",
       "      <td>29.850689</td>\n",
       "      <td>0.144492</td>\n",
       "      <td>-0.626407</td>\n",
       "      <td>-0.203817</td>\n",
       "      <td>0.225508</td>\n",
       "      <td>...</td>\n",
       "      <td>-0.458389</td>\n",
       "      <td>37.6046</td>\n",
       "      <td>127.032</td>\n",
       "      <td>0.056032</td>\n",
       "      <td>-0.385353</td>\n",
       "      <td>1.401217</td>\n",
       "      <td>22.5</td>\n",
       "      <td>30</td>\n",
       "      <td>6</td>\n",
       "      <td>2013</td>\n",
       "    </tr>\n",
       "    <tr>\n",
       "      <th>2</th>\n",
       "      <td>3.0</td>\n",
       "      <td>31.6</td>\n",
       "      <td>23.3</td>\n",
       "      <td>48.690479</td>\n",
       "      <td>-0.773879</td>\n",
       "      <td>30.091292</td>\n",
       "      <td>0.394994</td>\n",
       "      <td>-0.315043</td>\n",
       "      <td>-1.388661</td>\n",
       "      <td>0.209344</td>\n",
       "      <td>...</td>\n",
       "      <td>-0.458389</td>\n",
       "      <td>37.5776</td>\n",
       "      <td>127.058</td>\n",
       "      <td>-0.364677</td>\n",
       "      <td>-0.949335</td>\n",
       "      <td>1.381155</td>\n",
       "      <td>23.9</td>\n",
       "      <td>30</td>\n",
       "      <td>6</td>\n",
       "      <td>2013</td>\n",
       "    </tr>\n",
       "    <tr>\n",
       "      <th>3</th>\n",
       "      <td>4.0</td>\n",
       "      <td>32.0</td>\n",
       "      <td>23.4</td>\n",
       "      <td>58.239788</td>\n",
       "      <td>1.317399</td>\n",
       "      <td>29.704629</td>\n",
       "      <td>-0.174703</td>\n",
       "      <td>-0.657646</td>\n",
       "      <td>0.212713</td>\n",
       "      <td>0.216372</td>\n",
       "      <td>...</td>\n",
       "      <td>-0.458389</td>\n",
       "      <td>37.6450</td>\n",
       "      <td>127.022</td>\n",
       "      <td>0.084942</td>\n",
       "      <td>1.235549</td>\n",
       "      <td>1.358278</td>\n",
       "      <td>24.3</td>\n",
       "      <td>30</td>\n",
       "      <td>6</td>\n",
       "      <td>2013</td>\n",
       "    </tr>\n",
       "    <tr>\n",
       "      <th>4</th>\n",
       "      <td>5.0</td>\n",
       "      <td>31.4</td>\n",
       "      <td>21.9</td>\n",
       "      <td>56.174095</td>\n",
       "      <td>0.111055</td>\n",
       "      <td>29.113934</td>\n",
       "      <td>-0.104042</td>\n",
       "      <td>-0.594605</td>\n",
       "      <td>1.298021</td>\n",
       "      <td>0.151407</td>\n",
       "      <td>...</td>\n",
       "      <td>-0.458389</td>\n",
       "      <td>37.5507</td>\n",
       "      <td>127.135</td>\n",
       "      <td>-0.290515</td>\n",
       "      <td>-0.401751</td>\n",
       "      <td>1.367247</td>\n",
       "      <td>22.5</td>\n",
       "      <td>30</td>\n",
       "      <td>6</td>\n",
       "      <td>2013</td>\n",
       "    </tr>\n",
       "    <tr>\n",
       "      <th>...</th>\n",
       "      <td>...</td>\n",
       "      <td>...</td>\n",
       "      <td>...</td>\n",
       "      <td>...</td>\n",
       "      <td>...</td>\n",
       "      <td>...</td>\n",
       "      <td>...</td>\n",
       "      <td>...</td>\n",
       "      <td>...</td>\n",
       "      <td>...</td>\n",
       "      <td>...</td>\n",
       "      <td>...</td>\n",
       "      <td>...</td>\n",
       "      <td>...</td>\n",
       "      <td>...</td>\n",
       "      <td>...</td>\n",
       "      <td>...</td>\n",
       "      <td>...</td>\n",
       "      <td>...</td>\n",
       "      <td>...</td>\n",
       "      <td>...</td>\n",
       "    </tr>\n",
       "    <tr>\n",
       "      <th>7745</th>\n",
       "      <td>21.0</td>\n",
       "      <td>23.1</td>\n",
       "      <td>17.8</td>\n",
       "      <td>24.688997</td>\n",
       "      <td>-1.384524</td>\n",
       "      <td>27.812697</td>\n",
       "      <td>-1.969281</td>\n",
       "      <td>-0.028014</td>\n",
       "      <td>-1.980121</td>\n",
       "      <td>0.052902</td>\n",
       "      <td>...</td>\n",
       "      <td>-0.458389</td>\n",
       "      <td>37.5507</td>\n",
       "      <td>127.040</td>\n",
       "      <td>-0.721794</td>\n",
       "      <td>-0.279523</td>\n",
       "      <td>-1.739436</td>\n",
       "      <td>17.7</td>\n",
       "      <td>30</td>\n",
       "      <td>8</td>\n",
       "      <td>2017</td>\n",
       "    </tr>\n",
       "    <tr>\n",
       "      <th>7746</th>\n",
       "      <td>22.0</td>\n",
       "      <td>22.5</td>\n",
       "      <td>17.4</td>\n",
       "      <td>30.094858</td>\n",
       "      <td>-0.808510</td>\n",
       "      <td>26.704905</td>\n",
       "      <td>-2.103825</td>\n",
       "      <td>-0.570469</td>\n",
       "      <td>0.662510</td>\n",
       "      <td>0.066461</td>\n",
       "      <td>...</td>\n",
       "      <td>-0.458389</td>\n",
       "      <td>37.5102</td>\n",
       "      <td>127.086</td>\n",
       "      <td>-1.006373</td>\n",
       "      <td>-1.355104</td>\n",
       "      <td>-1.756893</td>\n",
       "      <td>17.1</td>\n",
       "      <td>30</td>\n",
       "      <td>8</td>\n",
       "      <td>2017</td>\n",
       "    </tr>\n",
       "    <tr>\n",
       "      <th>7747</th>\n",
       "      <td>23.0</td>\n",
       "      <td>23.3</td>\n",
       "      <td>17.1</td>\n",
       "      <td>26.741310</td>\n",
       "      <td>-1.327662</td>\n",
       "      <td>26.352081</td>\n",
       "      <td>-1.832902</td>\n",
       "      <td>-0.308040</td>\n",
       "      <td>0.391282</td>\n",
       "      <td>0.030034</td>\n",
       "      <td>...</td>\n",
       "      <td>-0.458389</td>\n",
       "      <td>37.5372</td>\n",
       "      <td>126.891</td>\n",
       "      <td>-1.578769</td>\n",
       "      <td>-1.280717</td>\n",
       "      <td>-1.755049</td>\n",
       "      <td>18.1</td>\n",
       "      <td>30</td>\n",
       "      <td>8</td>\n",
       "      <td>2017</td>\n",
       "    </tr>\n",
       "    <tr>\n",
       "      <th>7748</th>\n",
       "      <td>24.0</td>\n",
       "      <td>23.3</td>\n",
       "      <td>17.7</td>\n",
       "      <td>24.040634</td>\n",
       "      <td>-1.471166</td>\n",
       "      <td>27.010193</td>\n",
       "      <td>-1.845323</td>\n",
       "      <td>-0.063396</td>\n",
       "      <td>-0.356189</td>\n",
       "      <td>0.035874</td>\n",
       "      <td>...</td>\n",
       "      <td>-0.458389</td>\n",
       "      <td>37.5237</td>\n",
       "      <td>126.909</td>\n",
       "      <td>-1.401188</td>\n",
       "      <td>-1.073155</td>\n",
       "      <td>-1.761072</td>\n",
       "      <td>18.8</td>\n",
       "      <td>30</td>\n",
       "      <td>8</td>\n",
       "      <td>2017</td>\n",
       "    </tr>\n",
       "    <tr>\n",
       "      <th>7749</th>\n",
       "      <td>25.0</td>\n",
       "      <td>23.2</td>\n",
       "      <td>17.4</td>\n",
       "      <td>22.933014</td>\n",
       "      <td>-1.475636</td>\n",
       "      <td>27.939516</td>\n",
       "      <td>-1.906600</td>\n",
       "      <td>0.338861</td>\n",
       "      <td>-2.013940</td>\n",
       "      <td>0.048954</td>\n",
       "      <td>...</td>\n",
       "      <td>-0.458389</td>\n",
       "      <td>37.5237</td>\n",
       "      <td>126.970</td>\n",
       "      <td>-1.193581</td>\n",
       "      <td>-0.935211</td>\n",
       "      <td>-1.745203</td>\n",
       "      <td>17.4</td>\n",
       "      <td>30</td>\n",
       "      <td>8</td>\n",
       "      <td>2017</td>\n",
       "    </tr>\n",
       "  </tbody>\n",
       "</table>\n",
       "<p>7750 rows × 26 columns</p>\n",
       "</div>"
      ],
      "text/plain": [
       "      station  Present_Tmax  Present_Tmin  LDAPS_RHmin  LDAPS_RHmax  \\\n",
       "0         1.0          28.7          21.4    58.255688     0.273083   \n",
       "1         2.0          31.9          21.6    52.263397     0.185956   \n",
       "2         3.0          31.6          23.3    48.690479    -0.773879   \n",
       "3         4.0          32.0          23.4    58.239788     1.317399   \n",
       "4         5.0          31.4          21.9    56.174095     0.111055   \n",
       "...       ...           ...           ...          ...          ...   \n",
       "7745     21.0          23.1          17.8    24.688997    -1.384524   \n",
       "7746     22.0          22.5          17.4    30.094858    -0.808510   \n",
       "7747     23.0          23.3          17.1    26.741310    -1.327662   \n",
       "7748     24.0          23.3          17.7    24.040634    -1.471166   \n",
       "7749     25.0          23.2          17.4    22.933014    -1.475636   \n",
       "\n",
       "      LDAPS_Tmax_lapse  LDAPS_Tmin_lapse  LDAPS_WS  LDAPS_LH  LDAPS_CC1  ...  \\\n",
       "0            28.074101         -0.312802  0.093955  0.318613   0.233947  ...   \n",
       "1            29.850689          0.144492 -0.626407 -0.203817   0.225508  ...   \n",
       "2            30.091292          0.394994 -0.315043 -1.388661   0.209344  ...   \n",
       "3            29.704629         -0.174703 -0.657646  0.212713   0.216372  ...   \n",
       "4            29.113934         -0.104042 -0.594605  1.298021   0.151407  ...   \n",
       "...                ...               ...       ...       ...        ...  ...   \n",
       "7745         27.812697         -1.969281 -0.028014 -1.980121   0.052902  ...   \n",
       "7746         26.704905         -2.103825 -0.570469  0.662510   0.066461  ...   \n",
       "7747         26.352081         -1.832902 -0.308040  0.391282   0.030034  ...   \n",
       "7748         27.010193         -1.845323 -0.063396 -0.356189   0.035874  ...   \n",
       "7749         27.939516         -1.906600  0.338861 -2.013940   0.048954  ...   \n",
       "\n",
       "      LDAPS_PPT4      lat      lon       DEM     Slope  Solar radiation  \\\n",
       "0      -0.458389  37.6046  126.991  1.835459  1.314447         1.850167   \n",
       "1      -0.458389  37.6046  127.032  0.056032 -0.385353         1.401217   \n",
       "2      -0.458389  37.5776  127.058 -0.364677 -0.949335         1.381155   \n",
       "3      -0.458389  37.6450  127.022  0.084942  1.235549         1.358278   \n",
       "4      -0.458389  37.5507  127.135 -0.290515 -0.401751         1.367247   \n",
       "...          ...      ...      ...       ...       ...              ...   \n",
       "7745   -0.458389  37.5507  127.040 -0.721794 -0.279523        -1.739436   \n",
       "7746   -0.458389  37.5102  127.086 -1.006373 -1.355104        -1.756893   \n",
       "7747   -0.458389  37.5372  126.891 -1.578769 -1.280717        -1.755049   \n",
       "7748   -0.458389  37.5237  126.909 -1.401188 -1.073155        -1.761072   \n",
       "7749   -0.458389  37.5237  126.970 -1.193581 -0.935211        -1.745203   \n",
       "\n",
       "      Next_Tmin  day  month  year  \n",
       "0          21.2   30      6  2013  \n",
       "1          22.5   30      6  2013  \n",
       "2          23.9   30      6  2013  \n",
       "3          24.3   30      6  2013  \n",
       "4          22.5   30      6  2013  \n",
       "...         ...  ...    ...   ...  \n",
       "7745       17.7   30      8  2017  \n",
       "7746       17.1   30      8  2017  \n",
       "7747       18.1   30      8  2017  \n",
       "7748       18.8   30      8  2017  \n",
       "7749       17.4   30      8  2017  \n",
       "\n",
       "[7750 rows x 26 columns]"
      ]
     },
     "execution_count": 191,
     "metadata": {},
     "output_type": "execute_result"
    }
   ],
   "source": [
    "x=Temperature.drop(\"Next_Tmax\",axis=1)\n",
    "x"
   ]
  },
  {
   "cell_type": "code",
   "execution_count": 196,
   "metadata": {},
   "outputs": [
    {
     "data": {
      "text/plain": [
       "0       29.1\n",
       "1       30.5\n",
       "2       31.1\n",
       "3       31.7\n",
       "4       31.2\n",
       "        ... \n",
       "7745    27.6\n",
       "7746    28.0\n",
       "7747    28.3\n",
       "7748    28.6\n",
       "7749    27.8\n",
       "Name: Next_Tmax, Length: 7750, dtype: float64"
      ]
     },
     "execution_count": 196,
     "metadata": {},
     "output_type": "execute_result"
    }
   ],
   "source": [
    "y=Temperature[\"Next_Tmax\"]\n",
    "y"
   ]
  },
  {
   "cell_type": "code",
   "execution_count": 197,
   "metadata": {},
   "outputs": [],
   "source": [
    "#lets use standard scaler"
   ]
  },
  {
   "cell_type": "code",
   "execution_count": 198,
   "metadata": {},
   "outputs": [],
   "source": [
    "S=StandardScaler()\n",
    "x=S.fit_transform(x)"
   ]
  },
  {
   "cell_type": "code",
   "execution_count": 199,
   "metadata": {},
   "outputs": [
    {
     "name": "stdout",
     "output_type": "stream",
     "text": [
      "(5425, 26)\n",
      "(2325, 26)\n",
      "(5425,)\n",
      "(2325,)\n"
     ]
    }
   ],
   "source": [
    "#lets perform train test split on the data\n",
    "x_train,x_test,y_train,y_test=train_test_split(x,y,test_size=0.30,random_state=50)\n",
    "print(x_train.shape)\n",
    "print(x_test.shape)\n",
    "print(y_train.shape)\n",
    "print(y_test.shape)"
   ]
  },
  {
   "cell_type": "code",
   "execution_count": 200,
   "metadata": {},
   "outputs": [
    {
     "name": "stdout",
     "output_type": "stream",
     "text": [
      "0.8915630589103634\n",
      "[0.74207743 0.58771043 0.68014607 0.80959111 0.6572158 ]\n",
      "0.695348168317081\n",
      "0.07550647645445004\n"
     ]
    }
   ],
   "source": [
    "svm=SVR()\n",
    "svm.fit(x_train,y_train)\n",
    "#lets predict y values\n",
    "pred1=svm.predict(x_test)\n",
    "print(r2_score(y_test,pred1))\n",
    "score1=cross_val_score(svm,x,y,cv=5)\n",
    "print(score1)\n",
    "print(score1.mean())\n",
    "print(score1.std())"
   ]
  },
  {
   "cell_type": "code",
   "execution_count": 201,
   "metadata": {},
   "outputs": [
    {
     "name": "stdout",
     "output_type": "stream",
     "text": [
      "0.8867044868321501\n",
      "[0.56137684 0.39607673 0.46420106 0.74614799 0.5744756 ]\n",
      "0.5484556448768161\n",
      "0.11852799429058196\n"
     ]
    }
   ],
   "source": [
    "#2)KNN\n",
    "knn=KNeighborsRegressor()\n",
    "knn.fit(x_train,y_train)\n",
    "#predict y_values\n",
    "pred2=knn.predict(x_test)\n",
    "print(r2_score(y_test,pred2))\n",
    "score2=cross_val_score(knn,x,y,cv=5)\n",
    "print(score2)\n",
    "print(score2.mean())\n",
    "print(score2.std())"
   ]
  },
  {
   "cell_type": "code",
   "execution_count": 202,
   "metadata": {},
   "outputs": [
    {
     "name": "stdout",
     "output_type": "stream",
     "text": [
      "0.7505734852815146\n",
      "[0.65124485 0.62839271 0.62950235 0.77448268 0.64990709]\n",
      "0.6667059358697418\n",
      "0.054752319833822664\n"
     ]
    }
   ],
   "source": [
    "ad=AdaBoostRegressor()\n",
    "ad.fit(x_train,y_train)\n",
    "#predict y_values\n",
    "pred3=ad.predict(x_test)\n",
    "print(r2_score(y_test,pred3))\n",
    "score3=cross_val_score(ad,x,y,cv=5)\n",
    "print(score3)\n",
    "print(score3.mean())\n",
    "print(score3.std())"
   ]
  },
  {
   "cell_type": "code",
   "execution_count": 203,
   "metadata": {},
   "outputs": [
    {
     "name": "stdout",
     "output_type": "stream",
     "text": [
      "0.9037118417869741\n",
      "[0.67498242 0.65972342 0.65461747 0.8237261  0.65388701]\n",
      "0.6933872850919619\n",
      "0.06561032091044905\n"
     ]
    }
   ],
   "source": [
    "#4) RandomForestRegressor\n",
    "rf=RandomForestRegressor()\n",
    "rf.fit(x_train,y_train)\n",
    "#predict y_values\n",
    "pred4=rf.predict(x_test)\n",
    "print(r2_score(y_test,pred4))\n",
    "score4=cross_val_score(rf,x,y,cv=5)\n",
    "print(score4)\n",
    "print(score4.mean())\n",
    "print(score4.std())"
   ]
  },
  {
   "cell_type": "code",
   "execution_count": 204,
   "metadata": {},
   "outputs": [
    {
     "data": {
      "text/plain": [
       "RandomizedSearchCV(estimator=AdaBoostRegressor(),\n",
       "                   param_distributions={'learning_rate': [1.0, 0.5, 1.2, 2.2],\n",
       "                                        'loss': ['linear', 'square',\n",
       "                                                 'exponential'],\n",
       "                                        'n_estimators': [25, 50, 100, 75],\n",
       "                                        'random_state': [42, 50, 100, 75]})"
      ]
     },
     "execution_count": 204,
     "metadata": {},
     "output_type": "execute_result"
    }
   ],
   "source": [
    "#the best fit model is adaboost. lets hypertune this model\n",
    "\n",
    "parameters={\"n_estimators\":[25,50,100,75],\"learning_rate\":[1.0,0.5,1.2,2.2],\"loss\":[\"linear\",\"square\",\"exponential\"],\"random_state\":[42,50,100,75]}\n",
    "rsearch=RandomizedSearchCV(ad,parameters)\n",
    "rsearch.fit(x_train,y_train)"
   ]
  },
  {
   "cell_type": "code",
   "execution_count": 205,
   "metadata": {},
   "outputs": [
    {
     "name": "stdout",
     "output_type": "stream",
     "text": [
      "AdaBoostRegressor(learning_rate=2.2, random_state=50)\n",
      "{'random_state': 50, 'n_estimators': 50, 'loss': 'linear', 'learning_rate': 2.2}\n",
      "0.7776056021901292\n"
     ]
    }
   ],
   "source": [
    "print(rsearch.best_estimator_)\n",
    "print(rsearch.best_params_)\n",
    "print(rsearch.best_score_)"
   ]
  },
  {
   "cell_type": "code",
   "execution_count": 206,
   "metadata": {},
   "outputs": [
    {
     "name": "stdout",
     "output_type": "stream",
     "text": [
      "0.7674572817318741\n"
     ]
    }
   ],
   "source": [
    "#now lets put these parameters back to the best fit model\n",
    "\n",
    "ad1=AdaBoostRegressor(random_state=50,n_estimators=50,loss=\"linear\",learning_rate=2.2)\n",
    "ad1.fit(x_train,y_train)\n",
    "#predict y_values\n",
    "pred5=ad1.predict(x_test)\n",
    "print(r2_score(y_test,pred5))"
   ]
  },
  {
   "cell_type": "code",
   "execution_count": 207,
   "metadata": {},
   "outputs": [
    {
     "data": {
      "text/plain": [
       "['ad1.obj']"
      ]
     },
     "execution_count": 207,
     "metadata": {},
     "output_type": "execute_result"
    }
   ],
   "source": [
    "#lets serealise and dump the model\n",
    "import joblib\n",
    "joblib.dump(ad1,\"ad1.obj\")"
   ]
  },
  {
   "cell_type": "code",
   "execution_count": 208,
   "metadata": {},
   "outputs": [
    {
     "data": {
      "text/html": [
       "<div>\n",
       "<style scoped>\n",
       "    .dataframe tbody tr th:only-of-type {\n",
       "        vertical-align: middle;\n",
       "    }\n",
       "\n",
       "    .dataframe tbody tr th {\n",
       "        vertical-align: top;\n",
       "    }\n",
       "\n",
       "    .dataframe thead th {\n",
       "        text-align: right;\n",
       "    }\n",
       "</style>\n",
       "<table border=\"1\" class=\"dataframe\">\n",
       "  <thead>\n",
       "    <tr style=\"text-align: right;\">\n",
       "      <th></th>\n",
       "      <th>station</th>\n",
       "      <th>Present_Tmax</th>\n",
       "      <th>Present_Tmin</th>\n",
       "      <th>LDAPS_RHmin</th>\n",
       "      <th>LDAPS_RHmax</th>\n",
       "      <th>LDAPS_Tmax_lapse</th>\n",
       "      <th>LDAPS_Tmin_lapse</th>\n",
       "      <th>LDAPS_WS</th>\n",
       "      <th>LDAPS_LH</th>\n",
       "      <th>LDAPS_CC1</th>\n",
       "      <th>...</th>\n",
       "      <th>LDAPS_PPT4</th>\n",
       "      <th>lat</th>\n",
       "      <th>lon</th>\n",
       "      <th>DEM</th>\n",
       "      <th>Slope</th>\n",
       "      <th>Solar radiation</th>\n",
       "      <th>Next_Tmax</th>\n",
       "      <th>day</th>\n",
       "      <th>month</th>\n",
       "      <th>year</th>\n",
       "    </tr>\n",
       "  </thead>\n",
       "  <tbody>\n",
       "    <tr>\n",
       "      <th>0</th>\n",
       "      <td>1.0</td>\n",
       "      <td>28.7</td>\n",
       "      <td>21.4</td>\n",
       "      <td>58.255688</td>\n",
       "      <td>0.273083</td>\n",
       "      <td>28.074101</td>\n",
       "      <td>-0.312802</td>\n",
       "      <td>0.093955</td>\n",
       "      <td>0.318613</td>\n",
       "      <td>0.233947</td>\n",
       "      <td>...</td>\n",
       "      <td>-0.458389</td>\n",
       "      <td>37.6046</td>\n",
       "      <td>126.991</td>\n",
       "      <td>1.835459</td>\n",
       "      <td>1.314447</td>\n",
       "      <td>1.850167</td>\n",
       "      <td>29.1</td>\n",
       "      <td>30</td>\n",
       "      <td>6</td>\n",
       "      <td>2013</td>\n",
       "    </tr>\n",
       "    <tr>\n",
       "      <th>1</th>\n",
       "      <td>2.0</td>\n",
       "      <td>31.9</td>\n",
       "      <td>21.6</td>\n",
       "      <td>52.263397</td>\n",
       "      <td>0.185956</td>\n",
       "      <td>29.850689</td>\n",
       "      <td>0.144492</td>\n",
       "      <td>-0.626407</td>\n",
       "      <td>-0.203817</td>\n",
       "      <td>0.225508</td>\n",
       "      <td>...</td>\n",
       "      <td>-0.458389</td>\n",
       "      <td>37.6046</td>\n",
       "      <td>127.032</td>\n",
       "      <td>0.056032</td>\n",
       "      <td>-0.385353</td>\n",
       "      <td>1.401217</td>\n",
       "      <td>30.5</td>\n",
       "      <td>30</td>\n",
       "      <td>6</td>\n",
       "      <td>2013</td>\n",
       "    </tr>\n",
       "    <tr>\n",
       "      <th>2</th>\n",
       "      <td>3.0</td>\n",
       "      <td>31.6</td>\n",
       "      <td>23.3</td>\n",
       "      <td>48.690479</td>\n",
       "      <td>-0.773879</td>\n",
       "      <td>30.091292</td>\n",
       "      <td>0.394994</td>\n",
       "      <td>-0.315043</td>\n",
       "      <td>-1.388661</td>\n",
       "      <td>0.209344</td>\n",
       "      <td>...</td>\n",
       "      <td>-0.458389</td>\n",
       "      <td>37.5776</td>\n",
       "      <td>127.058</td>\n",
       "      <td>-0.364677</td>\n",
       "      <td>-0.949335</td>\n",
       "      <td>1.381155</td>\n",
       "      <td>31.1</td>\n",
       "      <td>30</td>\n",
       "      <td>6</td>\n",
       "      <td>2013</td>\n",
       "    </tr>\n",
       "    <tr>\n",
       "      <th>3</th>\n",
       "      <td>4.0</td>\n",
       "      <td>32.0</td>\n",
       "      <td>23.4</td>\n",
       "      <td>58.239788</td>\n",
       "      <td>1.317399</td>\n",
       "      <td>29.704629</td>\n",
       "      <td>-0.174703</td>\n",
       "      <td>-0.657646</td>\n",
       "      <td>0.212713</td>\n",
       "      <td>0.216372</td>\n",
       "      <td>...</td>\n",
       "      <td>-0.458389</td>\n",
       "      <td>37.6450</td>\n",
       "      <td>127.022</td>\n",
       "      <td>0.084942</td>\n",
       "      <td>1.235549</td>\n",
       "      <td>1.358278</td>\n",
       "      <td>31.7</td>\n",
       "      <td>30</td>\n",
       "      <td>6</td>\n",
       "      <td>2013</td>\n",
       "    </tr>\n",
       "    <tr>\n",
       "      <th>4</th>\n",
       "      <td>5.0</td>\n",
       "      <td>31.4</td>\n",
       "      <td>21.9</td>\n",
       "      <td>56.174095</td>\n",
       "      <td>0.111055</td>\n",
       "      <td>29.113934</td>\n",
       "      <td>-0.104042</td>\n",
       "      <td>-0.594605</td>\n",
       "      <td>1.298021</td>\n",
       "      <td>0.151407</td>\n",
       "      <td>...</td>\n",
       "      <td>-0.458389</td>\n",
       "      <td>37.5507</td>\n",
       "      <td>127.135</td>\n",
       "      <td>-0.290515</td>\n",
       "      <td>-0.401751</td>\n",
       "      <td>1.367247</td>\n",
       "      <td>31.2</td>\n",
       "      <td>30</td>\n",
       "      <td>6</td>\n",
       "      <td>2013</td>\n",
       "    </tr>\n",
       "    <tr>\n",
       "      <th>...</th>\n",
       "      <td>...</td>\n",
       "      <td>...</td>\n",
       "      <td>...</td>\n",
       "      <td>...</td>\n",
       "      <td>...</td>\n",
       "      <td>...</td>\n",
       "      <td>...</td>\n",
       "      <td>...</td>\n",
       "      <td>...</td>\n",
       "      <td>...</td>\n",
       "      <td>...</td>\n",
       "      <td>...</td>\n",
       "      <td>...</td>\n",
       "      <td>...</td>\n",
       "      <td>...</td>\n",
       "      <td>...</td>\n",
       "      <td>...</td>\n",
       "      <td>...</td>\n",
       "      <td>...</td>\n",
       "      <td>...</td>\n",
       "      <td>...</td>\n",
       "    </tr>\n",
       "    <tr>\n",
       "      <th>7745</th>\n",
       "      <td>21.0</td>\n",
       "      <td>23.1</td>\n",
       "      <td>17.8</td>\n",
       "      <td>24.688997</td>\n",
       "      <td>-1.384524</td>\n",
       "      <td>27.812697</td>\n",
       "      <td>-1.969281</td>\n",
       "      <td>-0.028014</td>\n",
       "      <td>-1.980121</td>\n",
       "      <td>0.052902</td>\n",
       "      <td>...</td>\n",
       "      <td>-0.458389</td>\n",
       "      <td>37.5507</td>\n",
       "      <td>127.040</td>\n",
       "      <td>-0.721794</td>\n",
       "      <td>-0.279523</td>\n",
       "      <td>-1.739436</td>\n",
       "      <td>27.6</td>\n",
       "      <td>30</td>\n",
       "      <td>8</td>\n",
       "      <td>2017</td>\n",
       "    </tr>\n",
       "    <tr>\n",
       "      <th>7746</th>\n",
       "      <td>22.0</td>\n",
       "      <td>22.5</td>\n",
       "      <td>17.4</td>\n",
       "      <td>30.094858</td>\n",
       "      <td>-0.808510</td>\n",
       "      <td>26.704905</td>\n",
       "      <td>-2.103825</td>\n",
       "      <td>-0.570469</td>\n",
       "      <td>0.662510</td>\n",
       "      <td>0.066461</td>\n",
       "      <td>...</td>\n",
       "      <td>-0.458389</td>\n",
       "      <td>37.5102</td>\n",
       "      <td>127.086</td>\n",
       "      <td>-1.006373</td>\n",
       "      <td>-1.355104</td>\n",
       "      <td>-1.756893</td>\n",
       "      <td>28.0</td>\n",
       "      <td>30</td>\n",
       "      <td>8</td>\n",
       "      <td>2017</td>\n",
       "    </tr>\n",
       "    <tr>\n",
       "      <th>7747</th>\n",
       "      <td>23.0</td>\n",
       "      <td>23.3</td>\n",
       "      <td>17.1</td>\n",
       "      <td>26.741310</td>\n",
       "      <td>-1.327662</td>\n",
       "      <td>26.352081</td>\n",
       "      <td>-1.832902</td>\n",
       "      <td>-0.308040</td>\n",
       "      <td>0.391282</td>\n",
       "      <td>0.030034</td>\n",
       "      <td>...</td>\n",
       "      <td>-0.458389</td>\n",
       "      <td>37.5372</td>\n",
       "      <td>126.891</td>\n",
       "      <td>-1.578769</td>\n",
       "      <td>-1.280717</td>\n",
       "      <td>-1.755049</td>\n",
       "      <td>28.3</td>\n",
       "      <td>30</td>\n",
       "      <td>8</td>\n",
       "      <td>2017</td>\n",
       "    </tr>\n",
       "    <tr>\n",
       "      <th>7748</th>\n",
       "      <td>24.0</td>\n",
       "      <td>23.3</td>\n",
       "      <td>17.7</td>\n",
       "      <td>24.040634</td>\n",
       "      <td>-1.471166</td>\n",
       "      <td>27.010193</td>\n",
       "      <td>-1.845323</td>\n",
       "      <td>-0.063396</td>\n",
       "      <td>-0.356189</td>\n",
       "      <td>0.035874</td>\n",
       "      <td>...</td>\n",
       "      <td>-0.458389</td>\n",
       "      <td>37.5237</td>\n",
       "      <td>126.909</td>\n",
       "      <td>-1.401188</td>\n",
       "      <td>-1.073155</td>\n",
       "      <td>-1.761072</td>\n",
       "      <td>28.6</td>\n",
       "      <td>30</td>\n",
       "      <td>8</td>\n",
       "      <td>2017</td>\n",
       "    </tr>\n",
       "    <tr>\n",
       "      <th>7749</th>\n",
       "      <td>25.0</td>\n",
       "      <td>23.2</td>\n",
       "      <td>17.4</td>\n",
       "      <td>22.933014</td>\n",
       "      <td>-1.475636</td>\n",
       "      <td>27.939516</td>\n",
       "      <td>-1.906600</td>\n",
       "      <td>0.338861</td>\n",
       "      <td>-2.013940</td>\n",
       "      <td>0.048954</td>\n",
       "      <td>...</td>\n",
       "      <td>-0.458389</td>\n",
       "      <td>37.5237</td>\n",
       "      <td>126.970</td>\n",
       "      <td>-1.193581</td>\n",
       "      <td>-0.935211</td>\n",
       "      <td>-1.745203</td>\n",
       "      <td>27.8</td>\n",
       "      <td>30</td>\n",
       "      <td>8</td>\n",
       "      <td>2017</td>\n",
       "    </tr>\n",
       "  </tbody>\n",
       "</table>\n",
       "<p>7750 rows × 26 columns</p>\n",
       "</div>"
      ],
      "text/plain": [
       "      station  Present_Tmax  Present_Tmin  LDAPS_RHmin  LDAPS_RHmax  \\\n",
       "0         1.0          28.7          21.4    58.255688     0.273083   \n",
       "1         2.0          31.9          21.6    52.263397     0.185956   \n",
       "2         3.0          31.6          23.3    48.690479    -0.773879   \n",
       "3         4.0          32.0          23.4    58.239788     1.317399   \n",
       "4         5.0          31.4          21.9    56.174095     0.111055   \n",
       "...       ...           ...           ...          ...          ...   \n",
       "7745     21.0          23.1          17.8    24.688997    -1.384524   \n",
       "7746     22.0          22.5          17.4    30.094858    -0.808510   \n",
       "7747     23.0          23.3          17.1    26.741310    -1.327662   \n",
       "7748     24.0          23.3          17.7    24.040634    -1.471166   \n",
       "7749     25.0          23.2          17.4    22.933014    -1.475636   \n",
       "\n",
       "      LDAPS_Tmax_lapse  LDAPS_Tmin_lapse  LDAPS_WS  LDAPS_LH  LDAPS_CC1  ...  \\\n",
       "0            28.074101         -0.312802  0.093955  0.318613   0.233947  ...   \n",
       "1            29.850689          0.144492 -0.626407 -0.203817   0.225508  ...   \n",
       "2            30.091292          0.394994 -0.315043 -1.388661   0.209344  ...   \n",
       "3            29.704629         -0.174703 -0.657646  0.212713   0.216372  ...   \n",
       "4            29.113934         -0.104042 -0.594605  1.298021   0.151407  ...   \n",
       "...                ...               ...       ...       ...        ...  ...   \n",
       "7745         27.812697         -1.969281 -0.028014 -1.980121   0.052902  ...   \n",
       "7746         26.704905         -2.103825 -0.570469  0.662510   0.066461  ...   \n",
       "7747         26.352081         -1.832902 -0.308040  0.391282   0.030034  ...   \n",
       "7748         27.010193         -1.845323 -0.063396 -0.356189   0.035874  ...   \n",
       "7749         27.939516         -1.906600  0.338861 -2.013940   0.048954  ...   \n",
       "\n",
       "      LDAPS_PPT4      lat      lon       DEM     Slope  Solar radiation  \\\n",
       "0      -0.458389  37.6046  126.991  1.835459  1.314447         1.850167   \n",
       "1      -0.458389  37.6046  127.032  0.056032 -0.385353         1.401217   \n",
       "2      -0.458389  37.5776  127.058 -0.364677 -0.949335         1.381155   \n",
       "3      -0.458389  37.6450  127.022  0.084942  1.235549         1.358278   \n",
       "4      -0.458389  37.5507  127.135 -0.290515 -0.401751         1.367247   \n",
       "...          ...      ...      ...       ...       ...              ...   \n",
       "7745   -0.458389  37.5507  127.040 -0.721794 -0.279523        -1.739436   \n",
       "7746   -0.458389  37.5102  127.086 -1.006373 -1.355104        -1.756893   \n",
       "7747   -0.458389  37.5372  126.891 -1.578769 -1.280717        -1.755049   \n",
       "7748   -0.458389  37.5237  126.909 -1.401188 -1.073155        -1.761072   \n",
       "7749   -0.458389  37.5237  126.970 -1.193581 -0.935211        -1.745203   \n",
       "\n",
       "      Next_Tmax  day  month  year  \n",
       "0          29.1   30      6  2013  \n",
       "1          30.5   30      6  2013  \n",
       "2          31.1   30      6  2013  \n",
       "3          31.7   30      6  2013  \n",
       "4          31.2   30      6  2013  \n",
       "...         ...  ...    ...   ...  \n",
       "7745       27.6   30      8  2017  \n",
       "7746       28.0   30      8  2017  \n",
       "7747       28.3   30      8  2017  \n",
       "7748       28.6   30      8  2017  \n",
       "7749       27.8   30      8  2017  \n",
       "\n",
       "[7750 rows x 26 columns]"
      ]
     },
     "execution_count": 208,
     "metadata": {},
     "output_type": "execute_result"
    }
   ],
   "source": [
    "#now lets split in to c and d\n",
    "\n",
    "c=Temperature.drop(\"Next_Tmin\",axis=1)\n",
    "c"
   ]
  },
  {
   "cell_type": "code",
   "execution_count": 209,
   "metadata": {},
   "outputs": [
    {
     "data": {
      "text/plain": [
       "0       21.2\n",
       "1       22.5\n",
       "2       23.9\n",
       "3       24.3\n",
       "4       22.5\n",
       "        ... \n",
       "7745    17.7\n",
       "7746    17.1\n",
       "7747    18.1\n",
       "7748    18.8\n",
       "7749    17.4\n",
       "Name: Next_Tmin, Length: 7750, dtype: float64"
      ]
     },
     "execution_count": 209,
     "metadata": {},
     "output_type": "execute_result"
    }
   ],
   "source": [
    "d=Temperature[\"Next_Tmin\"]\n",
    "d"
   ]
  },
  {
   "cell_type": "code",
   "execution_count": 210,
   "metadata": {},
   "outputs": [],
   "source": [
    "S1=StandardScaler()\n",
    "c=S1.fit_transform(c)"
   ]
  },
  {
   "cell_type": "code",
   "execution_count": 211,
   "metadata": {},
   "outputs": [
    {
     "name": "stdout",
     "output_type": "stream",
     "text": [
      "(5425, 26)\n",
      "(2325, 26)\n",
      "(5425,)\n",
      "(2325,)\n"
     ]
    }
   ],
   "source": [
    "#lets perform train test split on the data\n",
    "c_train,c_test,d_train,d_test=train_test_split(c,d,test_size=0.30,random_state=50)\n",
    "print(c_train.shape)\n",
    "print(c_test.shape)\n",
    "print(d_train.shape)\n",
    "print(d_test.shape)"
   ]
  },
  {
   "cell_type": "code",
   "execution_count": 212,
   "metadata": {},
   "outputs": [
    {
     "name": "stdout",
     "output_type": "stream",
     "text": [
      "0.9235255184033517\n",
      "[0.56371864 0.64769146 0.78187689 0.83717729 0.81958349]\n",
      "0.7300095541622225\n",
      "0.10642139735151561\n"
     ]
    }
   ],
   "source": [
    "svm1=SVR()\n",
    "svm1.fit(c_train,d_train)\n",
    "#lets predict y values\n",
    "pred7=svm1.predict(c_test)\n",
    "print(r2_score(d_test,pred7))\n",
    "score7=cross_val_score(svm1,c,d,cv=5)\n",
    "print(score7)\n",
    "print(score7.mean())\n",
    "print(score7.std())"
   ]
  },
  {
   "cell_type": "code",
   "execution_count": 213,
   "metadata": {},
   "outputs": [
    {
     "name": "stdout",
     "output_type": "stream",
     "text": [
      "0.882969568958851\n",
      "[0.35758395 0.38420789 0.60419476 0.71667086 0.78351022]\n",
      "0.5692335360017845\n",
      "0.17199103802432222\n"
     ]
    }
   ],
   "source": [
    "#2)KNN\n",
    "knn1=KNeighborsRegressor()\n",
    "knn1.fit(c_train,d_train)\n",
    "#predict y_values\n",
    "pred8=knn1.predict(c_test)\n",
    "print(r2_score(d_test,pred8))\n",
    "score8=cross_val_score(knn1,c,d,cv=5)\n",
    "print(score8)\n",
    "print(score8.mean())\n",
    "print(score8.std())"
   ]
  },
  {
   "cell_type": "code",
   "execution_count": 214,
   "metadata": {},
   "outputs": [
    {
     "name": "stdout",
     "output_type": "stream",
     "text": [
      "0.8249007370934662\n",
      "[0.65623848 0.61810766 0.76666626 0.82347032 0.84252638]\n",
      "0.7414018200962843\n",
      "0.08950302008707986\n"
     ]
    }
   ],
   "source": [
    "ad1=AdaBoostRegressor()\n",
    "ad1.fit(c_train,d_train)\n",
    "#predict y_values\n",
    "pred9=ad1.predict(c_test)\n",
    "print(r2_score(d_test,pred9))\n",
    "score9=cross_val_score(ad1,c,d,cv=5)\n",
    "print(score9)\n",
    "print(score9.mean())\n",
    "print(score9.std())"
   ]
  },
  {
   "cell_type": "code",
   "execution_count": 215,
   "metadata": {},
   "outputs": [
    {
     "name": "stdout",
     "output_type": "stream",
     "text": [
      "0.9119482416536879\n",
      "[0.68750613 0.67627464 0.8217159  0.86887241 0.87358701]\n",
      "0.7855912179373624\n",
      "0.08666580275001615\n"
     ]
    }
   ],
   "source": [
    "#4) RandomForestRegressor\n",
    "rf1=RandomForestRegressor()\n",
    "rf1.fit(c_train,d_train)\n",
    "#predict y_values\n",
    "pred10=rf1.predict(c_test)\n",
    "print(r2_score(d_test,pred10))\n",
    "score10=cross_val_score(rf1,c,d,cv=5)\n",
    "print(score10)\n",
    "print(score10.mean())\n",
    "print(score10.std())"
   ]
  },
  {
   "cell_type": "code",
   "execution_count": 216,
   "metadata": {},
   "outputs": [
    {
     "data": {
      "text/plain": [
       "RandomizedSearchCV(estimator=AdaBoostRegressor(),\n",
       "                   param_distributions={'learning_rate': [1.0, 0.5, 1.2, 2.2],\n",
       "                                        'loss': ['linear', 'square',\n",
       "                                                 'exponential'],\n",
       "                                        'n_estimators': [25, 50, 100, 75],\n",
       "                                        'random_state': [42, 50, 100, 75]})"
      ]
     },
     "execution_count": 216,
     "metadata": {},
     "output_type": "execute_result"
    }
   ],
   "source": [
    "#the best fit model is adaboost. lets hypertune this model\n",
    "\n",
    "parameters={\"n_estimators\":[25,50,100,75],\"learning_rate\":[1.0,0.5,1.2,2.2],\"loss\":[\"linear\",\"square\",\"exponential\"],\"random_state\":[42,50,100,75]}\n",
    "rsearch=RandomizedSearchCV(ad1,parameters)\n",
    "rsearch.fit(c_train,d_train)"
   ]
  },
  {
   "cell_type": "code",
   "execution_count": 217,
   "metadata": {},
   "outputs": [
    {
     "name": "stdout",
     "output_type": "stream",
     "text": [
      "AdaBoostRegressor(learning_rate=1.2, loss='square', random_state=42)\n",
      "{'random_state': 42, 'n_estimators': 50, 'loss': 'square', 'learning_rate': 1.2}\n",
      "0.8148658346319506\n"
     ]
    }
   ],
   "source": [
    "print(rsearch.best_estimator_)\n",
    "print(rsearch.best_params_)\n",
    "print(rsearch.best_score_)"
   ]
  },
  {
   "cell_type": "code",
   "execution_count": 218,
   "metadata": {},
   "outputs": [
    {
     "name": "stdout",
     "output_type": "stream",
     "text": [
      "0.8249007370934662\n"
     ]
    }
   ],
   "source": [
    "#now lets put these parameters back to the best fit model\n",
    "\n",
    "ad2=AdaBoostRegressor(random_state=42,n_estimators=50,loss=\"square\",learning_rate=1.2)\n",
    "ad2.fit(c_train,d_train)\n",
    "#predict y_values\n",
    "pred10=ad1.predict(c_test)\n",
    "print(r2_score(d_test,pred10))"
   ]
  },
  {
   "cell_type": "code",
   "execution_count": 219,
   "metadata": {},
   "outputs": [
    {
     "data": {
      "text/plain": [
       "['ad2.obj']"
      ]
     },
     "execution_count": 219,
     "metadata": {},
     "output_type": "execute_result"
    }
   ],
   "source": [
    "#lets searlise and dump the model\n",
    "\n",
    "joblib.dump(ad2,\"ad2.obj\")"
   ]
  },
  {
   "cell_type": "code",
   "execution_count": null,
   "metadata": {},
   "outputs": [],
   "source": []
  },
  {
   "cell_type": "code",
   "execution_count": null,
   "metadata": {},
   "outputs": [],
   "source": []
  }
 ],
 "metadata": {
  "kernelspec": {
   "display_name": "Python 3",
   "language": "python",
   "name": "python3"
  },
  "language_info": {
   "codemirror_mode": {
    "name": "ipython",
    "version": 3
   },
   "file_extension": ".py",
   "mimetype": "text/x-python",
   "name": "python",
   "nbconvert_exporter": "python",
   "pygments_lexer": "ipython3",
   "version": "3.8.5"
  }
 },
 "nbformat": 4,
 "nbformat_minor": 4
}
