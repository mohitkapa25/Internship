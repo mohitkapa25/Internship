{
 "cells": [
  {
   "cell_type": "markdown",
   "metadata": {},
   "source": [
    "The use case is to predict the number of wins for a given team in 2015 season based on several indicators like Runs, At Bats, Hits, Doubles, Triples, Homeruns, Walks, Strikeouts, Stolen Bases, Runs Allowed, Earned Runs, Earned Run Average (ERA), Shutouts, Saves, Complete Games and Errors. Its a regression problem since the target variable \"Wins (W)\" is a numeric value. Reference for full forms of abbrevaitions is used from the wikipedia link given in the problem statement"
   ]
  },
  {
   "cell_type": "code",
   "execution_count": 191,
   "metadata": {},
   "outputs": [],
   "source": [
    "import pandas as pd\n",
    "import numpy as np\n",
    "import seaborn as sns\n",
    "import joblib\n",
    "import matplotlib.pyplot as plt\n",
    "import scipy\n",
    "from scipy import stats\n",
    "from scipy.stats import zscore\n",
    "from sklearn.preprocessing import power_transform\n",
    "from sklearn.preprocessing import StandardScaler\n",
    "from sklearn.linear_model import LinearRegression\n",
    "from sklearn.linear_model import Lasso,Ridge\n",
    "from sklearn.tree import DecisionTreeRegressor\n",
    "from sklearn.neighbors import KNeighborsRegressor\n",
    "from sklearn.model_selection import train_test_split\n",
    "from sklearn.model_selection import cross_val_score\n",
    "from sklearn.model_selection import RandomizedSearchCV\n",
    "from sklearn.metrics import r2_score,mean_squared_error\n",
    "import warnings\n",
    "warnings.filterwarnings(\"ignore\")"
   ]
  },
  {
   "cell_type": "code",
   "execution_count": 120,
   "metadata": {
    "collapsed": true
   },
   "outputs": [
    {
     "data": {
      "text/html": [
       "<div>\n",
       "<style scoped>\n",
       "    .dataframe tbody tr th:only-of-type {\n",
       "        vertical-align: middle;\n",
       "    }\n",
       "\n",
       "    .dataframe tbody tr th {\n",
       "        vertical-align: top;\n",
       "    }\n",
       "\n",
       "    .dataframe thead th {\n",
       "        text-align: right;\n",
       "    }\n",
       "</style>\n",
       "<table border=\"1\" class=\"dataframe\">\n",
       "  <thead>\n",
       "    <tr style=\"text-align: right;\">\n",
       "      <th></th>\n",
       "      <th>W</th>\n",
       "      <th>R</th>\n",
       "      <th>AB</th>\n",
       "      <th>H</th>\n",
       "      <th>2B</th>\n",
       "      <th>3B</th>\n",
       "      <th>HR</th>\n",
       "      <th>BB</th>\n",
       "      <th>SO</th>\n",
       "      <th>SB</th>\n",
       "      <th>RA</th>\n",
       "      <th>ER</th>\n",
       "      <th>ERA</th>\n",
       "      <th>CG</th>\n",
       "      <th>SHO</th>\n",
       "      <th>SV</th>\n",
       "      <th>E</th>\n",
       "    </tr>\n",
       "  </thead>\n",
       "  <tbody>\n",
       "    <tr>\n",
       "      <th>0</th>\n",
       "      <td>95</td>\n",
       "      <td>724</td>\n",
       "      <td>5575</td>\n",
       "      <td>1497</td>\n",
       "      <td>300</td>\n",
       "      <td>42</td>\n",
       "      <td>139</td>\n",
       "      <td>383</td>\n",
       "      <td>973</td>\n",
       "      <td>104</td>\n",
       "      <td>641</td>\n",
       "      <td>601</td>\n",
       "      <td>3.73</td>\n",
       "      <td>2</td>\n",
       "      <td>8</td>\n",
       "      <td>56</td>\n",
       "      <td>88</td>\n",
       "    </tr>\n",
       "    <tr>\n",
       "      <th>1</th>\n",
       "      <td>83</td>\n",
       "      <td>696</td>\n",
       "      <td>5467</td>\n",
       "      <td>1349</td>\n",
       "      <td>277</td>\n",
       "      <td>44</td>\n",
       "      <td>156</td>\n",
       "      <td>439</td>\n",
       "      <td>1264</td>\n",
       "      <td>70</td>\n",
       "      <td>700</td>\n",
       "      <td>653</td>\n",
       "      <td>4.07</td>\n",
       "      <td>2</td>\n",
       "      <td>12</td>\n",
       "      <td>45</td>\n",
       "      <td>86</td>\n",
       "    </tr>\n",
       "    <tr>\n",
       "      <th>2</th>\n",
       "      <td>81</td>\n",
       "      <td>669</td>\n",
       "      <td>5439</td>\n",
       "      <td>1395</td>\n",
       "      <td>303</td>\n",
       "      <td>29</td>\n",
       "      <td>141</td>\n",
       "      <td>533</td>\n",
       "      <td>1157</td>\n",
       "      <td>86</td>\n",
       "      <td>640</td>\n",
       "      <td>584</td>\n",
       "      <td>3.67</td>\n",
       "      <td>11</td>\n",
       "      <td>10</td>\n",
       "      <td>38</td>\n",
       "      <td>79</td>\n",
       "    </tr>\n",
       "    <tr>\n",
       "      <th>3</th>\n",
       "      <td>76</td>\n",
       "      <td>622</td>\n",
       "      <td>5533</td>\n",
       "      <td>1381</td>\n",
       "      <td>260</td>\n",
       "      <td>27</td>\n",
       "      <td>136</td>\n",
       "      <td>404</td>\n",
       "      <td>1231</td>\n",
       "      <td>68</td>\n",
       "      <td>701</td>\n",
       "      <td>643</td>\n",
       "      <td>3.98</td>\n",
       "      <td>7</td>\n",
       "      <td>9</td>\n",
       "      <td>37</td>\n",
       "      <td>101</td>\n",
       "    </tr>\n",
       "    <tr>\n",
       "      <th>4</th>\n",
       "      <td>74</td>\n",
       "      <td>689</td>\n",
       "      <td>5605</td>\n",
       "      <td>1515</td>\n",
       "      <td>289</td>\n",
       "      <td>49</td>\n",
       "      <td>151</td>\n",
       "      <td>455</td>\n",
       "      <td>1259</td>\n",
       "      <td>83</td>\n",
       "      <td>803</td>\n",
       "      <td>746</td>\n",
       "      <td>4.64</td>\n",
       "      <td>7</td>\n",
       "      <td>12</td>\n",
       "      <td>35</td>\n",
       "      <td>86</td>\n",
       "    </tr>\n",
       "    <tr>\n",
       "      <th>5</th>\n",
       "      <td>93</td>\n",
       "      <td>891</td>\n",
       "      <td>5509</td>\n",
       "      <td>1480</td>\n",
       "      <td>308</td>\n",
       "      <td>17</td>\n",
       "      <td>232</td>\n",
       "      <td>570</td>\n",
       "      <td>1151</td>\n",
       "      <td>88</td>\n",
       "      <td>670</td>\n",
       "      <td>609</td>\n",
       "      <td>3.80</td>\n",
       "      <td>7</td>\n",
       "      <td>10</td>\n",
       "      <td>34</td>\n",
       "      <td>88</td>\n",
       "    </tr>\n",
       "    <tr>\n",
       "      <th>6</th>\n",
       "      <td>87</td>\n",
       "      <td>764</td>\n",
       "      <td>5567</td>\n",
       "      <td>1397</td>\n",
       "      <td>272</td>\n",
       "      <td>19</td>\n",
       "      <td>212</td>\n",
       "      <td>554</td>\n",
       "      <td>1227</td>\n",
       "      <td>63</td>\n",
       "      <td>698</td>\n",
       "      <td>652</td>\n",
       "      <td>4.03</td>\n",
       "      <td>3</td>\n",
       "      <td>4</td>\n",
       "      <td>48</td>\n",
       "      <td>93</td>\n",
       "    </tr>\n",
       "    <tr>\n",
       "      <th>7</th>\n",
       "      <td>81</td>\n",
       "      <td>713</td>\n",
       "      <td>5485</td>\n",
       "      <td>1370</td>\n",
       "      <td>246</td>\n",
       "      <td>20</td>\n",
       "      <td>217</td>\n",
       "      <td>418</td>\n",
       "      <td>1331</td>\n",
       "      <td>44</td>\n",
       "      <td>693</td>\n",
       "      <td>646</td>\n",
       "      <td>4.05</td>\n",
       "      <td>0</td>\n",
       "      <td>10</td>\n",
       "      <td>43</td>\n",
       "      <td>77</td>\n",
       "    </tr>\n",
       "    <tr>\n",
       "      <th>8</th>\n",
       "      <td>80</td>\n",
       "      <td>644</td>\n",
       "      <td>5485</td>\n",
       "      <td>1383</td>\n",
       "      <td>278</td>\n",
       "      <td>32</td>\n",
       "      <td>167</td>\n",
       "      <td>436</td>\n",
       "      <td>1310</td>\n",
       "      <td>87</td>\n",
       "      <td>642</td>\n",
       "      <td>604</td>\n",
       "      <td>3.74</td>\n",
       "      <td>1</td>\n",
       "      <td>12</td>\n",
       "      <td>60</td>\n",
       "      <td>95</td>\n",
       "    </tr>\n",
       "    <tr>\n",
       "      <th>9</th>\n",
       "      <td>78</td>\n",
       "      <td>748</td>\n",
       "      <td>5640</td>\n",
       "      <td>1495</td>\n",
       "      <td>294</td>\n",
       "      <td>33</td>\n",
       "      <td>161</td>\n",
       "      <td>478</td>\n",
       "      <td>1148</td>\n",
       "      <td>71</td>\n",
       "      <td>753</td>\n",
       "      <td>694</td>\n",
       "      <td>4.31</td>\n",
       "      <td>3</td>\n",
       "      <td>10</td>\n",
       "      <td>40</td>\n",
       "      <td>97</td>\n",
       "    </tr>\n",
       "    <tr>\n",
       "      <th>10</th>\n",
       "      <td>88</td>\n",
       "      <td>751</td>\n",
       "      <td>5511</td>\n",
       "      <td>1419</td>\n",
       "      <td>279</td>\n",
       "      <td>32</td>\n",
       "      <td>172</td>\n",
       "      <td>503</td>\n",
       "      <td>1233</td>\n",
       "      <td>101</td>\n",
       "      <td>733</td>\n",
       "      <td>680</td>\n",
       "      <td>4.24</td>\n",
       "      <td>5</td>\n",
       "      <td>9</td>\n",
       "      <td>45</td>\n",
       "      <td>119</td>\n",
       "    </tr>\n",
       "    <tr>\n",
       "      <th>11</th>\n",
       "      <td>86</td>\n",
       "      <td>729</td>\n",
       "      <td>5459</td>\n",
       "      <td>1363</td>\n",
       "      <td>278</td>\n",
       "      <td>26</td>\n",
       "      <td>230</td>\n",
       "      <td>486</td>\n",
       "      <td>1392</td>\n",
       "      <td>121</td>\n",
       "      <td>618</td>\n",
       "      <td>572</td>\n",
       "      <td>3.57</td>\n",
       "      <td>5</td>\n",
       "      <td>13</td>\n",
       "      <td>39</td>\n",
       "      <td>85</td>\n",
       "    </tr>\n",
       "    <tr>\n",
       "      <th>12</th>\n",
       "      <td>85</td>\n",
       "      <td>661</td>\n",
       "      <td>5417</td>\n",
       "      <td>1331</td>\n",
       "      <td>243</td>\n",
       "      <td>21</td>\n",
       "      <td>176</td>\n",
       "      <td>435</td>\n",
       "      <td>1150</td>\n",
       "      <td>52</td>\n",
       "      <td>675</td>\n",
       "      <td>630</td>\n",
       "      <td>3.94</td>\n",
       "      <td>2</td>\n",
       "      <td>12</td>\n",
       "      <td>46</td>\n",
       "      <td>93</td>\n",
       "    </tr>\n",
       "    <tr>\n",
       "      <th>13</th>\n",
       "      <td>76</td>\n",
       "      <td>656</td>\n",
       "      <td>5544</td>\n",
       "      <td>1379</td>\n",
       "      <td>262</td>\n",
       "      <td>22</td>\n",
       "      <td>198</td>\n",
       "      <td>478</td>\n",
       "      <td>1336</td>\n",
       "      <td>69</td>\n",
       "      <td>726</td>\n",
       "      <td>677</td>\n",
       "      <td>4.16</td>\n",
       "      <td>6</td>\n",
       "      <td>12</td>\n",
       "      <td>45</td>\n",
       "      <td>94</td>\n",
       "    </tr>\n",
       "    <tr>\n",
       "      <th>14</th>\n",
       "      <td>68</td>\n",
       "      <td>694</td>\n",
       "      <td>5600</td>\n",
       "      <td>1405</td>\n",
       "      <td>277</td>\n",
       "      <td>46</td>\n",
       "      <td>146</td>\n",
       "      <td>475</td>\n",
       "      <td>1119</td>\n",
       "      <td>78</td>\n",
       "      <td>729</td>\n",
       "      <td>664</td>\n",
       "      <td>4.14</td>\n",
       "      <td>5</td>\n",
       "      <td>15</td>\n",
       "      <td>28</td>\n",
       "      <td>126</td>\n",
       "    </tr>\n",
       "    <tr>\n",
       "      <th>15</th>\n",
       "      <td>100</td>\n",
       "      <td>647</td>\n",
       "      <td>5484</td>\n",
       "      <td>1386</td>\n",
       "      <td>288</td>\n",
       "      <td>39</td>\n",
       "      <td>137</td>\n",
       "      <td>506</td>\n",
       "      <td>1267</td>\n",
       "      <td>69</td>\n",
       "      <td>525</td>\n",
       "      <td>478</td>\n",
       "      <td>2.94</td>\n",
       "      <td>1</td>\n",
       "      <td>15</td>\n",
       "      <td>62</td>\n",
       "      <td>96</td>\n",
       "    </tr>\n",
       "    <tr>\n",
       "      <th>16</th>\n",
       "      <td>98</td>\n",
       "      <td>697</td>\n",
       "      <td>5631</td>\n",
       "      <td>1462</td>\n",
       "      <td>292</td>\n",
       "      <td>27</td>\n",
       "      <td>140</td>\n",
       "      <td>461</td>\n",
       "      <td>1322</td>\n",
       "      <td>98</td>\n",
       "      <td>596</td>\n",
       "      <td>532</td>\n",
       "      <td>3.21</td>\n",
       "      <td>0</td>\n",
       "      <td>13</td>\n",
       "      <td>54</td>\n",
       "      <td>122</td>\n",
       "    </tr>\n",
       "    <tr>\n",
       "      <th>17</th>\n",
       "      <td>97</td>\n",
       "      <td>689</td>\n",
       "      <td>5491</td>\n",
       "      <td>1341</td>\n",
       "      <td>272</td>\n",
       "      <td>30</td>\n",
       "      <td>171</td>\n",
       "      <td>567</td>\n",
       "      <td>1518</td>\n",
       "      <td>95</td>\n",
       "      <td>608</td>\n",
       "      <td>546</td>\n",
       "      <td>3.36</td>\n",
       "      <td>6</td>\n",
       "      <td>21</td>\n",
       "      <td>48</td>\n",
       "      <td>111</td>\n",
       "    </tr>\n",
       "    <tr>\n",
       "      <th>18</th>\n",
       "      <td>68</td>\n",
       "      <td>655</td>\n",
       "      <td>5480</td>\n",
       "      <td>1378</td>\n",
       "      <td>274</td>\n",
       "      <td>34</td>\n",
       "      <td>145</td>\n",
       "      <td>412</td>\n",
       "      <td>1299</td>\n",
       "      <td>84</td>\n",
       "      <td>737</td>\n",
       "      <td>682</td>\n",
       "      <td>4.28</td>\n",
       "      <td>1</td>\n",
       "      <td>7</td>\n",
       "      <td>40</td>\n",
       "      <td>116</td>\n",
       "    </tr>\n",
       "    <tr>\n",
       "      <th>19</th>\n",
       "      <td>64</td>\n",
       "      <td>640</td>\n",
       "      <td>5571</td>\n",
       "      <td>1382</td>\n",
       "      <td>257</td>\n",
       "      <td>27</td>\n",
       "      <td>167</td>\n",
       "      <td>496</td>\n",
       "      <td>1255</td>\n",
       "      <td>134</td>\n",
       "      <td>754</td>\n",
       "      <td>700</td>\n",
       "      <td>4.33</td>\n",
       "      <td>2</td>\n",
       "      <td>8</td>\n",
       "      <td>35</td>\n",
       "      <td>90</td>\n",
       "    </tr>\n",
       "    <tr>\n",
       "      <th>20</th>\n",
       "      <td>90</td>\n",
       "      <td>683</td>\n",
       "      <td>5527</td>\n",
       "      <td>1351</td>\n",
       "      <td>295</td>\n",
       "      <td>17</td>\n",
       "      <td>177</td>\n",
       "      <td>488</td>\n",
       "      <td>1290</td>\n",
       "      <td>51</td>\n",
       "      <td>613</td>\n",
       "      <td>557</td>\n",
       "      <td>3.43</td>\n",
       "      <td>1</td>\n",
       "      <td>14</td>\n",
       "      <td>50</td>\n",
       "      <td>88</td>\n",
       "    </tr>\n",
       "    <tr>\n",
       "      <th>21</th>\n",
       "      <td>83</td>\n",
       "      <td>703</td>\n",
       "      <td>5428</td>\n",
       "      <td>1363</td>\n",
       "      <td>265</td>\n",
       "      <td>13</td>\n",
       "      <td>177</td>\n",
       "      <td>539</td>\n",
       "      <td>1344</td>\n",
       "      <td>57</td>\n",
       "      <td>635</td>\n",
       "      <td>577</td>\n",
       "      <td>3.62</td>\n",
       "      <td>4</td>\n",
       "      <td>13</td>\n",
       "      <td>41</td>\n",
       "      <td>90</td>\n",
       "    </tr>\n",
       "    <tr>\n",
       "      <th>22</th>\n",
       "      <td>71</td>\n",
       "      <td>613</td>\n",
       "      <td>5463</td>\n",
       "      <td>1420</td>\n",
       "      <td>236</td>\n",
       "      <td>40</td>\n",
       "      <td>120</td>\n",
       "      <td>375</td>\n",
       "      <td>1150</td>\n",
       "      <td>112</td>\n",
       "      <td>678</td>\n",
       "      <td>638</td>\n",
       "      <td>4.02</td>\n",
       "      <td>0</td>\n",
       "      <td>12</td>\n",
       "      <td>35</td>\n",
       "      <td>77</td>\n",
       "    </tr>\n",
       "    <tr>\n",
       "      <th>23</th>\n",
       "      <td>67</td>\n",
       "      <td>573</td>\n",
       "      <td>5420</td>\n",
       "      <td>1361</td>\n",
       "      <td>251</td>\n",
       "      <td>18</td>\n",
       "      <td>100</td>\n",
       "      <td>471</td>\n",
       "      <td>1107</td>\n",
       "      <td>69</td>\n",
       "      <td>760</td>\n",
       "      <td>698</td>\n",
       "      <td>4.41</td>\n",
       "      <td>3</td>\n",
       "      <td>10</td>\n",
       "      <td>44</td>\n",
       "      <td>90</td>\n",
       "    </tr>\n",
       "    <tr>\n",
       "      <th>24</th>\n",
       "      <td>63</td>\n",
       "      <td>626</td>\n",
       "      <td>5529</td>\n",
       "      <td>1374</td>\n",
       "      <td>272</td>\n",
       "      <td>37</td>\n",
       "      <td>130</td>\n",
       "      <td>387</td>\n",
       "      <td>1274</td>\n",
       "      <td>88</td>\n",
       "      <td>809</td>\n",
       "      <td>749</td>\n",
       "      <td>4.69</td>\n",
       "      <td>1</td>\n",
       "      <td>7</td>\n",
       "      <td>35</td>\n",
       "      <td>117</td>\n",
       "    </tr>\n",
       "    <tr>\n",
       "      <th>25</th>\n",
       "      <td>92</td>\n",
       "      <td>667</td>\n",
       "      <td>5385</td>\n",
       "      <td>1346</td>\n",
       "      <td>263</td>\n",
       "      <td>26</td>\n",
       "      <td>187</td>\n",
       "      <td>563</td>\n",
       "      <td>1258</td>\n",
       "      <td>59</td>\n",
       "      <td>595</td>\n",
       "      <td>553</td>\n",
       "      <td>3.44</td>\n",
       "      <td>6</td>\n",
       "      <td>21</td>\n",
       "      <td>47</td>\n",
       "      <td>75</td>\n",
       "    </tr>\n",
       "    <tr>\n",
       "      <th>26</th>\n",
       "      <td>84</td>\n",
       "      <td>696</td>\n",
       "      <td>5565</td>\n",
       "      <td>1486</td>\n",
       "      <td>288</td>\n",
       "      <td>39</td>\n",
       "      <td>136</td>\n",
       "      <td>457</td>\n",
       "      <td>1159</td>\n",
       "      <td>93</td>\n",
       "      <td>627</td>\n",
       "      <td>597</td>\n",
       "      <td>3.72</td>\n",
       "      <td>7</td>\n",
       "      <td>18</td>\n",
       "      <td>41</td>\n",
       "      <td>78</td>\n",
       "    </tr>\n",
       "    <tr>\n",
       "      <th>27</th>\n",
       "      <td>79</td>\n",
       "      <td>720</td>\n",
       "      <td>5649</td>\n",
       "      <td>1494</td>\n",
       "      <td>289</td>\n",
       "      <td>48</td>\n",
       "      <td>154</td>\n",
       "      <td>490</td>\n",
       "      <td>1312</td>\n",
       "      <td>132</td>\n",
       "      <td>713</td>\n",
       "      <td>659</td>\n",
       "      <td>4.04</td>\n",
       "      <td>1</td>\n",
       "      <td>12</td>\n",
       "      <td>44</td>\n",
       "      <td>86</td>\n",
       "    </tr>\n",
       "    <tr>\n",
       "      <th>28</th>\n",
       "      <td>74</td>\n",
       "      <td>650</td>\n",
       "      <td>5457</td>\n",
       "      <td>1324</td>\n",
       "      <td>260</td>\n",
       "      <td>36</td>\n",
       "      <td>148</td>\n",
       "      <td>426</td>\n",
       "      <td>1327</td>\n",
       "      <td>82</td>\n",
       "      <td>731</td>\n",
       "      <td>655</td>\n",
       "      <td>4.09</td>\n",
       "      <td>1</td>\n",
       "      <td>6</td>\n",
       "      <td>41</td>\n",
       "      <td>92</td>\n",
       "    </tr>\n",
       "    <tr>\n",
       "      <th>29</th>\n",
       "      <td>68</td>\n",
       "      <td>737</td>\n",
       "      <td>5572</td>\n",
       "      <td>1479</td>\n",
       "      <td>274</td>\n",
       "      <td>49</td>\n",
       "      <td>186</td>\n",
       "      <td>388</td>\n",
       "      <td>1283</td>\n",
       "      <td>97</td>\n",
       "      <td>844</td>\n",
       "      <td>799</td>\n",
       "      <td>5.04</td>\n",
       "      <td>4</td>\n",
       "      <td>4</td>\n",
       "      <td>36</td>\n",
       "      <td>95</td>\n",
       "    </tr>\n",
       "  </tbody>\n",
       "</table>\n",
       "</div>"
      ],
      "text/plain": [
       "      W    R    AB     H   2B  3B   HR   BB    SO   SB   RA   ER   ERA  CG  \\\n",
       "0    95  724  5575  1497  300  42  139  383   973  104  641  601  3.73   2   \n",
       "1    83  696  5467  1349  277  44  156  439  1264   70  700  653  4.07   2   \n",
       "2    81  669  5439  1395  303  29  141  533  1157   86  640  584  3.67  11   \n",
       "3    76  622  5533  1381  260  27  136  404  1231   68  701  643  3.98   7   \n",
       "4    74  689  5605  1515  289  49  151  455  1259   83  803  746  4.64   7   \n",
       "5    93  891  5509  1480  308  17  232  570  1151   88  670  609  3.80   7   \n",
       "6    87  764  5567  1397  272  19  212  554  1227   63  698  652  4.03   3   \n",
       "7    81  713  5485  1370  246  20  217  418  1331   44  693  646  4.05   0   \n",
       "8    80  644  5485  1383  278  32  167  436  1310   87  642  604  3.74   1   \n",
       "9    78  748  5640  1495  294  33  161  478  1148   71  753  694  4.31   3   \n",
       "10   88  751  5511  1419  279  32  172  503  1233  101  733  680  4.24   5   \n",
       "11   86  729  5459  1363  278  26  230  486  1392  121  618  572  3.57   5   \n",
       "12   85  661  5417  1331  243  21  176  435  1150   52  675  630  3.94   2   \n",
       "13   76  656  5544  1379  262  22  198  478  1336   69  726  677  4.16   6   \n",
       "14   68  694  5600  1405  277  46  146  475  1119   78  729  664  4.14   5   \n",
       "15  100  647  5484  1386  288  39  137  506  1267   69  525  478  2.94   1   \n",
       "16   98  697  5631  1462  292  27  140  461  1322   98  596  532  3.21   0   \n",
       "17   97  689  5491  1341  272  30  171  567  1518   95  608  546  3.36   6   \n",
       "18   68  655  5480  1378  274  34  145  412  1299   84  737  682  4.28   1   \n",
       "19   64  640  5571  1382  257  27  167  496  1255  134  754  700  4.33   2   \n",
       "20   90  683  5527  1351  295  17  177  488  1290   51  613  557  3.43   1   \n",
       "21   83  703  5428  1363  265  13  177  539  1344   57  635  577  3.62   4   \n",
       "22   71  613  5463  1420  236  40  120  375  1150  112  678  638  4.02   0   \n",
       "23   67  573  5420  1361  251  18  100  471  1107   69  760  698  4.41   3   \n",
       "24   63  626  5529  1374  272  37  130  387  1274   88  809  749  4.69   1   \n",
       "25   92  667  5385  1346  263  26  187  563  1258   59  595  553  3.44   6   \n",
       "26   84  696  5565  1486  288  39  136  457  1159   93  627  597  3.72   7   \n",
       "27   79  720  5649  1494  289  48  154  490  1312  132  713  659  4.04   1   \n",
       "28   74  650  5457  1324  260  36  148  426  1327   82  731  655  4.09   1   \n",
       "29   68  737  5572  1479  274  49  186  388  1283   97  844  799  5.04   4   \n",
       "\n",
       "    SHO  SV    E  \n",
       "0     8  56   88  \n",
       "1    12  45   86  \n",
       "2    10  38   79  \n",
       "3     9  37  101  \n",
       "4    12  35   86  \n",
       "5    10  34   88  \n",
       "6     4  48   93  \n",
       "7    10  43   77  \n",
       "8    12  60   95  \n",
       "9    10  40   97  \n",
       "10    9  45  119  \n",
       "11   13  39   85  \n",
       "12   12  46   93  \n",
       "13   12  45   94  \n",
       "14   15  28  126  \n",
       "15   15  62   96  \n",
       "16   13  54  122  \n",
       "17   21  48  111  \n",
       "18    7  40  116  \n",
       "19    8  35   90  \n",
       "20   14  50   88  \n",
       "21   13  41   90  \n",
       "22   12  35   77  \n",
       "23   10  44   90  \n",
       "24    7  35  117  \n",
       "25   21  47   75  \n",
       "26   18  41   78  \n",
       "27   12  44   86  \n",
       "28    6  41   92  \n",
       "29    4  36   95  "
      ]
     },
     "execution_count": 120,
     "metadata": {},
     "output_type": "execute_result"
    }
   ],
   "source": [
    "#Lets read the csv files\n",
    "df1=pd.read_csv(\"https://raw.githubusercontent.com/dsrscientist/Data-Science-ML-Capstone-Projects/master/baseball.csv\")\n",
    "df1"
   ]
  },
  {
   "cell_type": "code",
   "execution_count": 3,
   "metadata": {
    "collapsed": true
   },
   "outputs": [
    {
     "data": {
      "text/html": [
       "<div>\n",
       "<style scoped>\n",
       "    .dataframe tbody tr th:only-of-type {\n",
       "        vertical-align: middle;\n",
       "    }\n",
       "\n",
       "    .dataframe tbody tr th {\n",
       "        vertical-align: top;\n",
       "    }\n",
       "\n",
       "    .dataframe thead th {\n",
       "        text-align: right;\n",
       "    }\n",
       "</style>\n",
       "<table border=\"1\" class=\"dataframe\">\n",
       "  <thead>\n",
       "    <tr style=\"text-align: right;\">\n",
       "      <th></th>\n",
       "      <th>W</th>\n",
       "      <th>R</th>\n",
       "      <th>AB</th>\n",
       "      <th>H</th>\n",
       "      <th>2B</th>\n",
       "      <th>3B</th>\n",
       "      <th>HR</th>\n",
       "      <th>BB</th>\n",
       "      <th>SO</th>\n",
       "      <th>SB</th>\n",
       "      <th>RA</th>\n",
       "      <th>ER</th>\n",
       "      <th>ERA</th>\n",
       "      <th>CG</th>\n",
       "      <th>SHO</th>\n",
       "      <th>SV</th>\n",
       "      <th>E</th>\n",
       "    </tr>\n",
       "  </thead>\n",
       "  <tbody>\n",
       "    <tr>\n",
       "      <th>0</th>\n",
       "      <td>95</td>\n",
       "      <td>724</td>\n",
       "      <td>5575</td>\n",
       "      <td>1497</td>\n",
       "      <td>300</td>\n",
       "      <td>42</td>\n",
       "      <td>139</td>\n",
       "      <td>383</td>\n",
       "      <td>973</td>\n",
       "      <td>104</td>\n",
       "      <td>641</td>\n",
       "      <td>601</td>\n",
       "      <td>3.73</td>\n",
       "      <td>2</td>\n",
       "      <td>8</td>\n",
       "      <td>56</td>\n",
       "      <td>88</td>\n",
       "    </tr>\n",
       "    <tr>\n",
       "      <th>1</th>\n",
       "      <td>83</td>\n",
       "      <td>696</td>\n",
       "      <td>5467</td>\n",
       "      <td>1349</td>\n",
       "      <td>277</td>\n",
       "      <td>44</td>\n",
       "      <td>156</td>\n",
       "      <td>439</td>\n",
       "      <td>1264</td>\n",
       "      <td>70</td>\n",
       "      <td>700</td>\n",
       "      <td>653</td>\n",
       "      <td>4.07</td>\n",
       "      <td>2</td>\n",
       "      <td>12</td>\n",
       "      <td>45</td>\n",
       "      <td>86</td>\n",
       "    </tr>\n",
       "    <tr>\n",
       "      <th>2</th>\n",
       "      <td>81</td>\n",
       "      <td>669</td>\n",
       "      <td>5439</td>\n",
       "      <td>1395</td>\n",
       "      <td>303</td>\n",
       "      <td>29</td>\n",
       "      <td>141</td>\n",
       "      <td>533</td>\n",
       "      <td>1157</td>\n",
       "      <td>86</td>\n",
       "      <td>640</td>\n",
       "      <td>584</td>\n",
       "      <td>3.67</td>\n",
       "      <td>11</td>\n",
       "      <td>10</td>\n",
       "      <td>38</td>\n",
       "      <td>79</td>\n",
       "    </tr>\n",
       "    <tr>\n",
       "      <th>3</th>\n",
       "      <td>76</td>\n",
       "      <td>622</td>\n",
       "      <td>5533</td>\n",
       "      <td>1381</td>\n",
       "      <td>260</td>\n",
       "      <td>27</td>\n",
       "      <td>136</td>\n",
       "      <td>404</td>\n",
       "      <td>1231</td>\n",
       "      <td>68</td>\n",
       "      <td>701</td>\n",
       "      <td>643</td>\n",
       "      <td>3.98</td>\n",
       "      <td>7</td>\n",
       "      <td>9</td>\n",
       "      <td>37</td>\n",
       "      <td>101</td>\n",
       "    </tr>\n",
       "    <tr>\n",
       "      <th>4</th>\n",
       "      <td>74</td>\n",
       "      <td>689</td>\n",
       "      <td>5605</td>\n",
       "      <td>1515</td>\n",
       "      <td>289</td>\n",
       "      <td>49</td>\n",
       "      <td>151</td>\n",
       "      <td>455</td>\n",
       "      <td>1259</td>\n",
       "      <td>83</td>\n",
       "      <td>803</td>\n",
       "      <td>746</td>\n",
       "      <td>4.64</td>\n",
       "      <td>7</td>\n",
       "      <td>12</td>\n",
       "      <td>35</td>\n",
       "      <td>86</td>\n",
       "    </tr>\n",
       "    <tr>\n",
       "      <th>5</th>\n",
       "      <td>93</td>\n",
       "      <td>891</td>\n",
       "      <td>5509</td>\n",
       "      <td>1480</td>\n",
       "      <td>308</td>\n",
       "      <td>17</td>\n",
       "      <td>232</td>\n",
       "      <td>570</td>\n",
       "      <td>1151</td>\n",
       "      <td>88</td>\n",
       "      <td>670</td>\n",
       "      <td>609</td>\n",
       "      <td>3.80</td>\n",
       "      <td>7</td>\n",
       "      <td>10</td>\n",
       "      <td>34</td>\n",
       "      <td>88</td>\n",
       "    </tr>\n",
       "    <tr>\n",
       "      <th>6</th>\n",
       "      <td>87</td>\n",
       "      <td>764</td>\n",
       "      <td>5567</td>\n",
       "      <td>1397</td>\n",
       "      <td>272</td>\n",
       "      <td>19</td>\n",
       "      <td>212</td>\n",
       "      <td>554</td>\n",
       "      <td>1227</td>\n",
       "      <td>63</td>\n",
       "      <td>698</td>\n",
       "      <td>652</td>\n",
       "      <td>4.03</td>\n",
       "      <td>3</td>\n",
       "      <td>4</td>\n",
       "      <td>48</td>\n",
       "      <td>93</td>\n",
       "    </tr>\n",
       "    <tr>\n",
       "      <th>7</th>\n",
       "      <td>81</td>\n",
       "      <td>713</td>\n",
       "      <td>5485</td>\n",
       "      <td>1370</td>\n",
       "      <td>246</td>\n",
       "      <td>20</td>\n",
       "      <td>217</td>\n",
       "      <td>418</td>\n",
       "      <td>1331</td>\n",
       "      <td>44</td>\n",
       "      <td>693</td>\n",
       "      <td>646</td>\n",
       "      <td>4.05</td>\n",
       "      <td>0</td>\n",
       "      <td>10</td>\n",
       "      <td>43</td>\n",
       "      <td>77</td>\n",
       "    </tr>\n",
       "    <tr>\n",
       "      <th>8</th>\n",
       "      <td>80</td>\n",
       "      <td>644</td>\n",
       "      <td>5485</td>\n",
       "      <td>1383</td>\n",
       "      <td>278</td>\n",
       "      <td>32</td>\n",
       "      <td>167</td>\n",
       "      <td>436</td>\n",
       "      <td>1310</td>\n",
       "      <td>87</td>\n",
       "      <td>642</td>\n",
       "      <td>604</td>\n",
       "      <td>3.74</td>\n",
       "      <td>1</td>\n",
       "      <td>12</td>\n",
       "      <td>60</td>\n",
       "      <td>95</td>\n",
       "    </tr>\n",
       "    <tr>\n",
       "      <th>9</th>\n",
       "      <td>78</td>\n",
       "      <td>748</td>\n",
       "      <td>5640</td>\n",
       "      <td>1495</td>\n",
       "      <td>294</td>\n",
       "      <td>33</td>\n",
       "      <td>161</td>\n",
       "      <td>478</td>\n",
       "      <td>1148</td>\n",
       "      <td>71</td>\n",
       "      <td>753</td>\n",
       "      <td>694</td>\n",
       "      <td>4.31</td>\n",
       "      <td>3</td>\n",
       "      <td>10</td>\n",
       "      <td>40</td>\n",
       "      <td>97</td>\n",
       "    </tr>\n",
       "    <tr>\n",
       "      <th>10</th>\n",
       "      <td>88</td>\n",
       "      <td>751</td>\n",
       "      <td>5511</td>\n",
       "      <td>1419</td>\n",
       "      <td>279</td>\n",
       "      <td>32</td>\n",
       "      <td>172</td>\n",
       "      <td>503</td>\n",
       "      <td>1233</td>\n",
       "      <td>101</td>\n",
       "      <td>733</td>\n",
       "      <td>680</td>\n",
       "      <td>4.24</td>\n",
       "      <td>5</td>\n",
       "      <td>9</td>\n",
       "      <td>45</td>\n",
       "      <td>119</td>\n",
       "    </tr>\n",
       "    <tr>\n",
       "      <th>11</th>\n",
       "      <td>86</td>\n",
       "      <td>729</td>\n",
       "      <td>5459</td>\n",
       "      <td>1363</td>\n",
       "      <td>278</td>\n",
       "      <td>26</td>\n",
       "      <td>230</td>\n",
       "      <td>486</td>\n",
       "      <td>1392</td>\n",
       "      <td>121</td>\n",
       "      <td>618</td>\n",
       "      <td>572</td>\n",
       "      <td>3.57</td>\n",
       "      <td>5</td>\n",
       "      <td>13</td>\n",
       "      <td>39</td>\n",
       "      <td>85</td>\n",
       "    </tr>\n",
       "    <tr>\n",
       "      <th>12</th>\n",
       "      <td>85</td>\n",
       "      <td>661</td>\n",
       "      <td>5417</td>\n",
       "      <td>1331</td>\n",
       "      <td>243</td>\n",
       "      <td>21</td>\n",
       "      <td>176</td>\n",
       "      <td>435</td>\n",
       "      <td>1150</td>\n",
       "      <td>52</td>\n",
       "      <td>675</td>\n",
       "      <td>630</td>\n",
       "      <td>3.94</td>\n",
       "      <td>2</td>\n",
       "      <td>12</td>\n",
       "      <td>46</td>\n",
       "      <td>93</td>\n",
       "    </tr>\n",
       "    <tr>\n",
       "      <th>13</th>\n",
       "      <td>76</td>\n",
       "      <td>656</td>\n",
       "      <td>5544</td>\n",
       "      <td>1379</td>\n",
       "      <td>262</td>\n",
       "      <td>22</td>\n",
       "      <td>198</td>\n",
       "      <td>478</td>\n",
       "      <td>1336</td>\n",
       "      <td>69</td>\n",
       "      <td>726</td>\n",
       "      <td>677</td>\n",
       "      <td>4.16</td>\n",
       "      <td>6</td>\n",
       "      <td>12</td>\n",
       "      <td>45</td>\n",
       "      <td>94</td>\n",
       "    </tr>\n",
       "    <tr>\n",
       "      <th>14</th>\n",
       "      <td>68</td>\n",
       "      <td>694</td>\n",
       "      <td>5600</td>\n",
       "      <td>1405</td>\n",
       "      <td>277</td>\n",
       "      <td>46</td>\n",
       "      <td>146</td>\n",
       "      <td>475</td>\n",
       "      <td>1119</td>\n",
       "      <td>78</td>\n",
       "      <td>729</td>\n",
       "      <td>664</td>\n",
       "      <td>4.14</td>\n",
       "      <td>5</td>\n",
       "      <td>15</td>\n",
       "      <td>28</td>\n",
       "      <td>126</td>\n",
       "    </tr>\n",
       "    <tr>\n",
       "      <th>15</th>\n",
       "      <td>100</td>\n",
       "      <td>647</td>\n",
       "      <td>5484</td>\n",
       "      <td>1386</td>\n",
       "      <td>288</td>\n",
       "      <td>39</td>\n",
       "      <td>137</td>\n",
       "      <td>506</td>\n",
       "      <td>1267</td>\n",
       "      <td>69</td>\n",
       "      <td>525</td>\n",
       "      <td>478</td>\n",
       "      <td>2.94</td>\n",
       "      <td>1</td>\n",
       "      <td>15</td>\n",
       "      <td>62</td>\n",
       "      <td>96</td>\n",
       "    </tr>\n",
       "    <tr>\n",
       "      <th>16</th>\n",
       "      <td>98</td>\n",
       "      <td>697</td>\n",
       "      <td>5631</td>\n",
       "      <td>1462</td>\n",
       "      <td>292</td>\n",
       "      <td>27</td>\n",
       "      <td>140</td>\n",
       "      <td>461</td>\n",
       "      <td>1322</td>\n",
       "      <td>98</td>\n",
       "      <td>596</td>\n",
       "      <td>532</td>\n",
       "      <td>3.21</td>\n",
       "      <td>0</td>\n",
       "      <td>13</td>\n",
       "      <td>54</td>\n",
       "      <td>122</td>\n",
       "    </tr>\n",
       "    <tr>\n",
       "      <th>17</th>\n",
       "      <td>97</td>\n",
       "      <td>689</td>\n",
       "      <td>5491</td>\n",
       "      <td>1341</td>\n",
       "      <td>272</td>\n",
       "      <td>30</td>\n",
       "      <td>171</td>\n",
       "      <td>567</td>\n",
       "      <td>1518</td>\n",
       "      <td>95</td>\n",
       "      <td>608</td>\n",
       "      <td>546</td>\n",
       "      <td>3.36</td>\n",
       "      <td>6</td>\n",
       "      <td>21</td>\n",
       "      <td>48</td>\n",
       "      <td>111</td>\n",
       "    </tr>\n",
       "    <tr>\n",
       "      <th>18</th>\n",
       "      <td>68</td>\n",
       "      <td>655</td>\n",
       "      <td>5480</td>\n",
       "      <td>1378</td>\n",
       "      <td>274</td>\n",
       "      <td>34</td>\n",
       "      <td>145</td>\n",
       "      <td>412</td>\n",
       "      <td>1299</td>\n",
       "      <td>84</td>\n",
       "      <td>737</td>\n",
       "      <td>682</td>\n",
       "      <td>4.28</td>\n",
       "      <td>1</td>\n",
       "      <td>7</td>\n",
       "      <td>40</td>\n",
       "      <td>116</td>\n",
       "    </tr>\n",
       "    <tr>\n",
       "      <th>19</th>\n",
       "      <td>64</td>\n",
       "      <td>640</td>\n",
       "      <td>5571</td>\n",
       "      <td>1382</td>\n",
       "      <td>257</td>\n",
       "      <td>27</td>\n",
       "      <td>167</td>\n",
       "      <td>496</td>\n",
       "      <td>1255</td>\n",
       "      <td>134</td>\n",
       "      <td>754</td>\n",
       "      <td>700</td>\n",
       "      <td>4.33</td>\n",
       "      <td>2</td>\n",
       "      <td>8</td>\n",
       "      <td>35</td>\n",
       "      <td>90</td>\n",
       "    </tr>\n",
       "    <tr>\n",
       "      <th>20</th>\n",
       "      <td>90</td>\n",
       "      <td>683</td>\n",
       "      <td>5527</td>\n",
       "      <td>1351</td>\n",
       "      <td>295</td>\n",
       "      <td>17</td>\n",
       "      <td>177</td>\n",
       "      <td>488</td>\n",
       "      <td>1290</td>\n",
       "      <td>51</td>\n",
       "      <td>613</td>\n",
       "      <td>557</td>\n",
       "      <td>3.43</td>\n",
       "      <td>1</td>\n",
       "      <td>14</td>\n",
       "      <td>50</td>\n",
       "      <td>88</td>\n",
       "    </tr>\n",
       "    <tr>\n",
       "      <th>21</th>\n",
       "      <td>83</td>\n",
       "      <td>703</td>\n",
       "      <td>5428</td>\n",
       "      <td>1363</td>\n",
       "      <td>265</td>\n",
       "      <td>13</td>\n",
       "      <td>177</td>\n",
       "      <td>539</td>\n",
       "      <td>1344</td>\n",
       "      <td>57</td>\n",
       "      <td>635</td>\n",
       "      <td>577</td>\n",
       "      <td>3.62</td>\n",
       "      <td>4</td>\n",
       "      <td>13</td>\n",
       "      <td>41</td>\n",
       "      <td>90</td>\n",
       "    </tr>\n",
       "    <tr>\n",
       "      <th>22</th>\n",
       "      <td>71</td>\n",
       "      <td>613</td>\n",
       "      <td>5463</td>\n",
       "      <td>1420</td>\n",
       "      <td>236</td>\n",
       "      <td>40</td>\n",
       "      <td>120</td>\n",
       "      <td>375</td>\n",
       "      <td>1150</td>\n",
       "      <td>112</td>\n",
       "      <td>678</td>\n",
       "      <td>638</td>\n",
       "      <td>4.02</td>\n",
       "      <td>0</td>\n",
       "      <td>12</td>\n",
       "      <td>35</td>\n",
       "      <td>77</td>\n",
       "    </tr>\n",
       "    <tr>\n",
       "      <th>23</th>\n",
       "      <td>67</td>\n",
       "      <td>573</td>\n",
       "      <td>5420</td>\n",
       "      <td>1361</td>\n",
       "      <td>251</td>\n",
       "      <td>18</td>\n",
       "      <td>100</td>\n",
       "      <td>471</td>\n",
       "      <td>1107</td>\n",
       "      <td>69</td>\n",
       "      <td>760</td>\n",
       "      <td>698</td>\n",
       "      <td>4.41</td>\n",
       "      <td>3</td>\n",
       "      <td>10</td>\n",
       "      <td>44</td>\n",
       "      <td>90</td>\n",
       "    </tr>\n",
       "    <tr>\n",
       "      <th>24</th>\n",
       "      <td>63</td>\n",
       "      <td>626</td>\n",
       "      <td>5529</td>\n",
       "      <td>1374</td>\n",
       "      <td>272</td>\n",
       "      <td>37</td>\n",
       "      <td>130</td>\n",
       "      <td>387</td>\n",
       "      <td>1274</td>\n",
       "      <td>88</td>\n",
       "      <td>809</td>\n",
       "      <td>749</td>\n",
       "      <td>4.69</td>\n",
       "      <td>1</td>\n",
       "      <td>7</td>\n",
       "      <td>35</td>\n",
       "      <td>117</td>\n",
       "    </tr>\n",
       "    <tr>\n",
       "      <th>25</th>\n",
       "      <td>92</td>\n",
       "      <td>667</td>\n",
       "      <td>5385</td>\n",
       "      <td>1346</td>\n",
       "      <td>263</td>\n",
       "      <td>26</td>\n",
       "      <td>187</td>\n",
       "      <td>563</td>\n",
       "      <td>1258</td>\n",
       "      <td>59</td>\n",
       "      <td>595</td>\n",
       "      <td>553</td>\n",
       "      <td>3.44</td>\n",
       "      <td>6</td>\n",
       "      <td>21</td>\n",
       "      <td>47</td>\n",
       "      <td>75</td>\n",
       "    </tr>\n",
       "    <tr>\n",
       "      <th>26</th>\n",
       "      <td>84</td>\n",
       "      <td>696</td>\n",
       "      <td>5565</td>\n",
       "      <td>1486</td>\n",
       "      <td>288</td>\n",
       "      <td>39</td>\n",
       "      <td>136</td>\n",
       "      <td>457</td>\n",
       "      <td>1159</td>\n",
       "      <td>93</td>\n",
       "      <td>627</td>\n",
       "      <td>597</td>\n",
       "      <td>3.72</td>\n",
       "      <td>7</td>\n",
       "      <td>18</td>\n",
       "      <td>41</td>\n",
       "      <td>78</td>\n",
       "    </tr>\n",
       "    <tr>\n",
       "      <th>27</th>\n",
       "      <td>79</td>\n",
       "      <td>720</td>\n",
       "      <td>5649</td>\n",
       "      <td>1494</td>\n",
       "      <td>289</td>\n",
       "      <td>48</td>\n",
       "      <td>154</td>\n",
       "      <td>490</td>\n",
       "      <td>1312</td>\n",
       "      <td>132</td>\n",
       "      <td>713</td>\n",
       "      <td>659</td>\n",
       "      <td>4.04</td>\n",
       "      <td>1</td>\n",
       "      <td>12</td>\n",
       "      <td>44</td>\n",
       "      <td>86</td>\n",
       "    </tr>\n",
       "    <tr>\n",
       "      <th>28</th>\n",
       "      <td>74</td>\n",
       "      <td>650</td>\n",
       "      <td>5457</td>\n",
       "      <td>1324</td>\n",
       "      <td>260</td>\n",
       "      <td>36</td>\n",
       "      <td>148</td>\n",
       "      <td>426</td>\n",
       "      <td>1327</td>\n",
       "      <td>82</td>\n",
       "      <td>731</td>\n",
       "      <td>655</td>\n",
       "      <td>4.09</td>\n",
       "      <td>1</td>\n",
       "      <td>6</td>\n",
       "      <td>41</td>\n",
       "      <td>92</td>\n",
       "    </tr>\n",
       "    <tr>\n",
       "      <th>29</th>\n",
       "      <td>68</td>\n",
       "      <td>737</td>\n",
       "      <td>5572</td>\n",
       "      <td>1479</td>\n",
       "      <td>274</td>\n",
       "      <td>49</td>\n",
       "      <td>186</td>\n",
       "      <td>388</td>\n",
       "      <td>1283</td>\n",
       "      <td>97</td>\n",
       "      <td>844</td>\n",
       "      <td>799</td>\n",
       "      <td>5.04</td>\n",
       "      <td>4</td>\n",
       "      <td>4</td>\n",
       "      <td>36</td>\n",
       "      <td>95</td>\n",
       "    </tr>\n",
       "  </tbody>\n",
       "</table>\n",
       "</div>"
      ],
      "text/plain": [
       "      W    R    AB     H   2B  3B   HR   BB    SO   SB   RA   ER   ERA  CG  \\\n",
       "0    95  724  5575  1497  300  42  139  383   973  104  641  601  3.73   2   \n",
       "1    83  696  5467  1349  277  44  156  439  1264   70  700  653  4.07   2   \n",
       "2    81  669  5439  1395  303  29  141  533  1157   86  640  584  3.67  11   \n",
       "3    76  622  5533  1381  260  27  136  404  1231   68  701  643  3.98   7   \n",
       "4    74  689  5605  1515  289  49  151  455  1259   83  803  746  4.64   7   \n",
       "5    93  891  5509  1480  308  17  232  570  1151   88  670  609  3.80   7   \n",
       "6    87  764  5567  1397  272  19  212  554  1227   63  698  652  4.03   3   \n",
       "7    81  713  5485  1370  246  20  217  418  1331   44  693  646  4.05   0   \n",
       "8    80  644  5485  1383  278  32  167  436  1310   87  642  604  3.74   1   \n",
       "9    78  748  5640  1495  294  33  161  478  1148   71  753  694  4.31   3   \n",
       "10   88  751  5511  1419  279  32  172  503  1233  101  733  680  4.24   5   \n",
       "11   86  729  5459  1363  278  26  230  486  1392  121  618  572  3.57   5   \n",
       "12   85  661  5417  1331  243  21  176  435  1150   52  675  630  3.94   2   \n",
       "13   76  656  5544  1379  262  22  198  478  1336   69  726  677  4.16   6   \n",
       "14   68  694  5600  1405  277  46  146  475  1119   78  729  664  4.14   5   \n",
       "15  100  647  5484  1386  288  39  137  506  1267   69  525  478  2.94   1   \n",
       "16   98  697  5631  1462  292  27  140  461  1322   98  596  532  3.21   0   \n",
       "17   97  689  5491  1341  272  30  171  567  1518   95  608  546  3.36   6   \n",
       "18   68  655  5480  1378  274  34  145  412  1299   84  737  682  4.28   1   \n",
       "19   64  640  5571  1382  257  27  167  496  1255  134  754  700  4.33   2   \n",
       "20   90  683  5527  1351  295  17  177  488  1290   51  613  557  3.43   1   \n",
       "21   83  703  5428  1363  265  13  177  539  1344   57  635  577  3.62   4   \n",
       "22   71  613  5463  1420  236  40  120  375  1150  112  678  638  4.02   0   \n",
       "23   67  573  5420  1361  251  18  100  471  1107   69  760  698  4.41   3   \n",
       "24   63  626  5529  1374  272  37  130  387  1274   88  809  749  4.69   1   \n",
       "25   92  667  5385  1346  263  26  187  563  1258   59  595  553  3.44   6   \n",
       "26   84  696  5565  1486  288  39  136  457  1159   93  627  597  3.72   7   \n",
       "27   79  720  5649  1494  289  48  154  490  1312  132  713  659  4.04   1   \n",
       "28   74  650  5457  1324  260  36  148  426  1327   82  731  655  4.09   1   \n",
       "29   68  737  5572  1479  274  49  186  388  1283   97  844  799  5.04   4   \n",
       "\n",
       "    SHO  SV    E  \n",
       "0     8  56   88  \n",
       "1    12  45   86  \n",
       "2    10  38   79  \n",
       "3     9  37  101  \n",
       "4    12  35   86  \n",
       "5    10  34   88  \n",
       "6     4  48   93  \n",
       "7    10  43   77  \n",
       "8    12  60   95  \n",
       "9    10  40   97  \n",
       "10    9  45  119  \n",
       "11   13  39   85  \n",
       "12   12  46   93  \n",
       "13   12  45   94  \n",
       "14   15  28  126  \n",
       "15   15  62   96  \n",
       "16   13  54  122  \n",
       "17   21  48  111  \n",
       "18    7  40  116  \n",
       "19    8  35   90  \n",
       "20   14  50   88  \n",
       "21   13  41   90  \n",
       "22   12  35   77  \n",
       "23   10  44   90  \n",
       "24    7  35  117  \n",
       "25   21  47   75  \n",
       "26   18  41   78  \n",
       "27   12  44   86  \n",
       "28    6  41   92  \n",
       "29    4  36   95  "
      ]
     },
     "execution_count": 3,
     "metadata": {},
     "output_type": "execute_result"
    }
   ],
   "source": [
    "#now lets convert the csv files to a DataFrame\n",
    "Baseball=pd.DataFrame(data=df1)\n",
    "Baseball"
   ]
  },
  {
   "cell_type": "code",
   "execution_count": 4,
   "metadata": {},
   "outputs": [
    {
     "data": {
      "text/plain": [
       "(30, 17)"
      ]
     },
     "execution_count": 4,
     "metadata": {},
     "output_type": "execute_result"
    }
   ],
   "source": [
    "Baseball.shape\n",
    "#The dataset has 30 rows and 17 columns"
   ]
  },
  {
   "cell_type": "code",
   "execution_count": 5,
   "metadata": {
    "collapsed": true
   },
   "outputs": [
    {
     "data": {
      "text/plain": [
       "W        int64\n",
       "R        int64\n",
       "AB       int64\n",
       "H        int64\n",
       "2B       int64\n",
       "3B       int64\n",
       "HR       int64\n",
       "BB       int64\n",
       "SO       int64\n",
       "SB       int64\n",
       "RA       int64\n",
       "ER       int64\n",
       "ERA    float64\n",
       "CG       int64\n",
       "SHO      int64\n",
       "SV       int64\n",
       "E        int64\n",
       "dtype: object"
      ]
     },
     "execution_count": 5,
     "metadata": {},
     "output_type": "execute_result"
    }
   ],
   "source": [
    "Baseball.dtypes\n",
    "#values are float or integer types."
   ]
  },
  {
   "cell_type": "code",
   "execution_count": 6,
   "metadata": {
    "collapsed": true
   },
   "outputs": [
    {
     "data": {
      "text/plain": [
       "W      0\n",
       "R      0\n",
       "AB     0\n",
       "H      0\n",
       "2B     0\n",
       "3B     0\n",
       "HR     0\n",
       "BB     0\n",
       "SO     0\n",
       "SB     0\n",
       "RA     0\n",
       "ER     0\n",
       "ERA    0\n",
       "CG     0\n",
       "SHO    0\n",
       "SV     0\n",
       "E      0\n",
       "dtype: int64"
      ]
     },
     "execution_count": 6,
     "metadata": {},
     "output_type": "execute_result"
    }
   ],
   "source": [
    "#lets see if there are missing values or not\n",
    "Baseball.isnull().sum()\n",
    "#there seems to be no missing values"
   ]
  },
  {
   "cell_type": "code",
   "execution_count": 7,
   "metadata": {
    "collapsed": true
   },
   "outputs": [
    {
     "data": {
      "text/plain": [
       "<AxesSubplot:>"
      ]
     },
     "execution_count": 7,
     "metadata": {},
     "output_type": "execute_result"
    },
    {
     "data": {
      "image/png": "[encoded data removed]",
      "text/plain": [
       "<Figure size 432x288 with 2 Axes>"
      ]
     },
     "metadata": {
      "needs_background": "light"
     },
     "output_type": "display_data"
    }
   ],
   "source": [
    "# lets confirm by heatmap if missing values are present or not\n",
    "sns.heatmap(Baseball.isnull())\n",
    "#Hennce the results are confirmed that no missing values are present"
   ]
  },
  {
   "cell_type": "code",
   "execution_count": 8,
   "metadata": {},
   "outputs": [
    {
     "data": {
      "text/html": [
       "<div>\n",
       "<style scoped>\n",
       "    .dataframe tbody tr th:only-of-type {\n",
       "        vertical-align: middle;\n",
       "    }\n",
       "\n",
       "    .dataframe tbody tr th {\n",
       "        vertical-align: top;\n",
       "    }\n",
       "\n",
       "    .dataframe thead th {\n",
       "        text-align: right;\n",
       "    }\n",
       "</style>\n",
       "<table border=\"1\" class=\"dataframe\">\n",
       "  <thead>\n",
       "    <tr style=\"text-align: right;\">\n",
       "      <th></th>\n",
       "      <th>W</th>\n",
       "      <th>R</th>\n",
       "      <th>AB</th>\n",
       "      <th>H</th>\n",
       "      <th>2B</th>\n",
       "      <th>3B</th>\n",
       "      <th>HR</th>\n",
       "      <th>BB</th>\n",
       "      <th>SO</th>\n",
       "      <th>SB</th>\n",
       "      <th>RA</th>\n",
       "      <th>ER</th>\n",
       "      <th>ERA</th>\n",
       "      <th>CG</th>\n",
       "      <th>SHO</th>\n",
       "      <th>SV</th>\n",
       "      <th>E</th>\n",
       "    </tr>\n",
       "  </thead>\n",
       "  <tbody>\n",
       "    <tr>\n",
       "      <th>count</th>\n",
       "      <td>30.000000</td>\n",
       "      <td>30.000000</td>\n",
       "      <td>30.000000</td>\n",
       "      <td>30.000000</td>\n",
       "      <td>30.000000</td>\n",
       "      <td>30.000000</td>\n",
       "      <td>30.000000</td>\n",
       "      <td>30.000000</td>\n",
       "      <td>30.00000</td>\n",
       "      <td>30.000000</td>\n",
       "      <td>30.000000</td>\n",
       "      <td>30.000000</td>\n",
       "      <td>30.000000</td>\n",
       "      <td>30.000000</td>\n",
       "      <td>30.000000</td>\n",
       "      <td>30.000000</td>\n",
       "      <td>30.000000</td>\n",
       "    </tr>\n",
       "    <tr>\n",
       "      <th>mean</th>\n",
       "      <td>80.966667</td>\n",
       "      <td>688.233333</td>\n",
       "      <td>5516.266667</td>\n",
       "      <td>1403.533333</td>\n",
       "      <td>274.733333</td>\n",
       "      <td>31.300000</td>\n",
       "      <td>163.633333</td>\n",
       "      <td>469.100000</td>\n",
       "      <td>1248.20000</td>\n",
       "      <td>83.500000</td>\n",
       "      <td>688.233333</td>\n",
       "      <td>635.833333</td>\n",
       "      <td>3.956333</td>\n",
       "      <td>3.466667</td>\n",
       "      <td>11.300000</td>\n",
       "      <td>43.066667</td>\n",
       "      <td>94.333333</td>\n",
       "    </tr>\n",
       "    <tr>\n",
       "      <th>std</th>\n",
       "      <td>10.453455</td>\n",
       "      <td>58.761754</td>\n",
       "      <td>70.467372</td>\n",
       "      <td>57.140923</td>\n",
       "      <td>18.095405</td>\n",
       "      <td>10.452355</td>\n",
       "      <td>31.823309</td>\n",
       "      <td>57.053725</td>\n",
       "      <td>103.75947</td>\n",
       "      <td>22.815225</td>\n",
       "      <td>72.108005</td>\n",
       "      <td>70.140786</td>\n",
       "      <td>0.454089</td>\n",
       "      <td>2.763473</td>\n",
       "      <td>4.120177</td>\n",
       "      <td>7.869335</td>\n",
       "      <td>13.958889</td>\n",
       "    </tr>\n",
       "    <tr>\n",
       "      <th>min</th>\n",
       "      <td>63.000000</td>\n",
       "      <td>573.000000</td>\n",
       "      <td>5385.000000</td>\n",
       "      <td>1324.000000</td>\n",
       "      <td>236.000000</td>\n",
       "      <td>13.000000</td>\n",
       "      <td>100.000000</td>\n",
       "      <td>375.000000</td>\n",
       "      <td>973.00000</td>\n",
       "      <td>44.000000</td>\n",
       "      <td>525.000000</td>\n",
       "      <td>478.000000</td>\n",
       "      <td>2.940000</td>\n",
       "      <td>0.000000</td>\n",
       "      <td>4.000000</td>\n",
       "      <td>28.000000</td>\n",
       "      <td>75.000000</td>\n",
       "    </tr>\n",
       "    <tr>\n",
       "      <th>25%</th>\n",
       "      <td>74.000000</td>\n",
       "      <td>651.250000</td>\n",
       "      <td>5464.000000</td>\n",
       "      <td>1363.000000</td>\n",
       "      <td>262.250000</td>\n",
       "      <td>23.000000</td>\n",
       "      <td>140.250000</td>\n",
       "      <td>428.250000</td>\n",
       "      <td>1157.50000</td>\n",
       "      <td>69.000000</td>\n",
       "      <td>636.250000</td>\n",
       "      <td>587.250000</td>\n",
       "      <td>3.682500</td>\n",
       "      <td>1.000000</td>\n",
       "      <td>9.000000</td>\n",
       "      <td>37.250000</td>\n",
       "      <td>86.000000</td>\n",
       "    </tr>\n",
       "    <tr>\n",
       "      <th>50%</th>\n",
       "      <td>81.000000</td>\n",
       "      <td>689.000000</td>\n",
       "      <td>5510.000000</td>\n",
       "      <td>1382.500000</td>\n",
       "      <td>275.500000</td>\n",
       "      <td>31.000000</td>\n",
       "      <td>158.500000</td>\n",
       "      <td>473.000000</td>\n",
       "      <td>1261.50000</td>\n",
       "      <td>83.500000</td>\n",
       "      <td>695.500000</td>\n",
       "      <td>644.500000</td>\n",
       "      <td>4.025000</td>\n",
       "      <td>3.000000</td>\n",
       "      <td>12.000000</td>\n",
       "      <td>42.000000</td>\n",
       "      <td>91.000000</td>\n",
       "    </tr>\n",
       "    <tr>\n",
       "      <th>75%</th>\n",
       "      <td>87.750000</td>\n",
       "      <td>718.250000</td>\n",
       "      <td>5570.000000</td>\n",
       "      <td>1451.500000</td>\n",
       "      <td>288.750000</td>\n",
       "      <td>39.000000</td>\n",
       "      <td>177.000000</td>\n",
       "      <td>501.250000</td>\n",
       "      <td>1311.50000</td>\n",
       "      <td>96.500000</td>\n",
       "      <td>732.500000</td>\n",
       "      <td>679.250000</td>\n",
       "      <td>4.220000</td>\n",
       "      <td>5.750000</td>\n",
       "      <td>13.000000</td>\n",
       "      <td>46.750000</td>\n",
       "      <td>96.750000</td>\n",
       "    </tr>\n",
       "    <tr>\n",
       "      <th>max</th>\n",
       "      <td>100.000000</td>\n",
       "      <td>891.000000</td>\n",
       "      <td>5649.000000</td>\n",
       "      <td>1515.000000</td>\n",
       "      <td>308.000000</td>\n",
       "      <td>49.000000</td>\n",
       "      <td>232.000000</td>\n",
       "      <td>570.000000</td>\n",
       "      <td>1518.00000</td>\n",
       "      <td>134.000000</td>\n",
       "      <td>844.000000</td>\n",
       "      <td>799.000000</td>\n",
       "      <td>5.040000</td>\n",
       "      <td>11.000000</td>\n",
       "      <td>21.000000</td>\n",
       "      <td>62.000000</td>\n",
       "      <td>126.000000</td>\n",
       "    </tr>\n",
       "  </tbody>\n",
       "</table>\n",
       "</div>"
      ],
      "text/plain": [
       "                W           R           AB            H          2B  \\\n",
       "count   30.000000   30.000000    30.000000    30.000000   30.000000   \n",
       "mean    80.966667  688.233333  5516.266667  1403.533333  274.733333   \n",
       "std     10.453455   58.761754    70.467372    57.140923   18.095405   \n",
       "min     63.000000  573.000000  5385.000000  1324.000000  236.000000   \n",
       "25%     74.000000  651.250000  5464.000000  1363.000000  262.250000   \n",
       "50%     81.000000  689.000000  5510.000000  1382.500000  275.500000   \n",
       "75%     87.750000  718.250000  5570.000000  1451.500000  288.750000   \n",
       "max    100.000000  891.000000  5649.000000  1515.000000  308.000000   \n",
       "\n",
       "              3B          HR          BB          SO          SB          RA  \\\n",
       "count  30.000000   30.000000   30.000000    30.00000   30.000000   30.000000   \n",
       "mean   31.300000  163.633333  469.100000  1248.20000   83.500000  688.233333   \n",
       "std    10.452355   31.823309   57.053725   103.75947   22.815225   72.108005   \n",
       "min    13.000000  100.000000  375.000000   973.00000   44.000000  525.000000   \n",
       "25%    23.000000  140.250000  428.250000  1157.50000   69.000000  636.250000   \n",
       "50%    31.000000  158.500000  473.000000  1261.50000   83.500000  695.500000   \n",
       "75%    39.000000  177.000000  501.250000  1311.50000   96.500000  732.500000   \n",
       "max    49.000000  232.000000  570.000000  1518.00000  134.000000  844.000000   \n",
       "\n",
       "               ER        ERA         CG        SHO         SV           E  \n",
       "count   30.000000  30.000000  30.000000  30.000000  30.000000   30.000000  \n",
       "mean   635.833333   3.956333   3.466667  11.300000  43.066667   94.333333  \n",
       "std     70.140786   0.454089   2.763473   4.120177   7.869335   13.958889  \n",
       "min    478.000000   2.940000   0.000000   4.000000  28.000000   75.000000  \n",
       "25%    587.250000   3.682500   1.000000   9.000000  37.250000   86.000000  \n",
       "50%    644.500000   4.025000   3.000000  12.000000  42.000000   91.000000  \n",
       "75%    679.250000   4.220000   5.750000  13.000000  46.750000   96.750000  \n",
       "max    799.000000   5.040000  11.000000  21.000000  62.000000  126.000000  "
      ]
     },
     "execution_count": 8,
     "metadata": {},
     "output_type": "execute_result"
    }
   ],
   "source": [
    "Baseball.describe()\n",
    "# the difference between the mean and the median is not much in all the columns and hence the skewness present would be miniscule.\n",
    "# the spread of data is the most in run average (RA) column\n",
    "# the possiblity of outliers to be present the most is in plate appearances per strikeout(SO)\n",
    "#the median value is the highest for at bats (AB) and so is the mean compared to other columns"
   ]
  },
  {
   "cell_type": "code",
   "execution_count": 9,
   "metadata": {},
   "outputs": [],
   "source": [
    "#Lets perform univariate analysis for all attributes"
   ]
  },
  {
   "cell_type": "code",
   "execution_count": 13,
   "metadata": {
    "collapsed": true
   },
   "outputs": [
    {
     "data": {
      "image/png": "[encoded data removed]",
      "text/plain": [
       "<Figure size 432x288 with 1 Axes>"
      ]
     },
     "metadata": {
      "needs_background": "light"
     },
     "output_type": "display_data"
    }
   ],
   "source": [
    "Runs_Scored_1=sns.boxplot(Baseball[\"R\"])\n",
    "#The minimum value is 573. The median value is 689 and the maximum value is 891. The whisker values are 651 (minimum to 25th percentile) to 718.25(75th percentile to maximum value)\n",
    "#One outlier is present. "
   ]
  },
  {
   "cell_type": "code",
   "execution_count": 15,
   "metadata": {
    "collapsed": true
   },
   "outputs": [
    {
     "data": {
      "image/png": "[encoded data removed]",
      "text/plain": [
       "<Figure size 432x288 with 1 Axes>"
      ]
     },
     "metadata": {
      "needs_background": "light"
     },
     "output_type": "display_data"
    }
   ],
   "source": [
    "Run_Scored_2=sns.distplot(Baseball[\"R\"])\n",
    "#The density of data lies between 610 to 710. \n",
    "#There is a slight skewness present to the right but more or less it seems like normally distributed  "
   ]
  },
  {
   "cell_type": "code",
   "execution_count": 25,
   "metadata": {
    "collapsed": true
   },
   "outputs": [
    {
     "data": {
      "image/png": "[encoded data removed]",
      "text/plain": [
       "<Figure size 432x288 with 1 Axes>"
      ]
     },
     "metadata": {
      "needs_background": "light"
     },
     "output_type": "display_data"
    }
   ],
   "source": [
    "At_Bats_1=sns.boxplot(Baseball[\"AB\"])\n",
    "#The minimum value is 5385. The median value is 5510 and the maximum value is 5649. The whisker values are 5464(minimum to 25th percentile) to 5570(75th percentile to maximum value)\n",
    "#There are no outliers present."
   ]
  },
  {
   "cell_type": "code",
   "execution_count": 26,
   "metadata": {
    "collapsed": true
   },
   "outputs": [
    {
     "data": {
      "image/png": "[encoded data removed]",
      "text/plain": [
       "<Figure size 432x288 with 1 Axes>"
      ]
     },
     "metadata": {
      "needs_background": "light"
     },
     "output_type": "display_data"
    }
   ],
   "source": [
    "At_Bats_2=sns.distplot(Baseball[\"AB\"])\n",
    "#The density of data lies between 5450 to 5600 \n",
    "#There is no skewness present, it seems like normally distributed data."
   ]
  },
  {
   "cell_type": "code",
   "execution_count": 18,
   "metadata": {
    "collapsed": true
   },
   "outputs": [
    {
     "data": {
      "image/png": "[encoded data removed]",
      "text/plain": [
       "<Figure size 432x288 with 1 Axes>"
      ]
     },
     "metadata": {
      "needs_background": "light"
     },
     "output_type": "display_data"
    }
   ],
   "source": [
    "Hits_1=sns.boxplot(Baseball[\"H\"])\n",
    "#The minimum value is 1324. The median value is 1382 and the maximum value is 1515. The whisker values are 1363(minimum to 25th percentile) to 1451(75th percentile to maximum value)\n",
    "#There are no outliers present."
   ]
  },
  {
   "cell_type": "code",
   "execution_count": 19,
   "metadata": {
    "collapsed": true
   },
   "outputs": [
    {
     "data": {
      "image/png": "[encoded data removed]",
      "text/plain": [
       "<Figure size 432x288 with 1 Axes>"
      ]
     },
     "metadata": {
      "needs_background": "light"
     },
     "output_type": "display_data"
    }
   ],
   "source": [
    "Hits_2=sns.distplot(Baseball[\"H\"])\n",
    "#The density of data lies between 1325 to 1410. It goes down again and sees a spike from 1475 to 1510 \n",
    "#More or less it seems like a normally distributed data with skewness absent"
   ]
  },
  {
   "cell_type": "code",
   "execution_count": 21,
   "metadata": {
    "collapsed": true
   },
   "outputs": [
    {
     "data": {
      "image/png": "[encoded data removed]",
      "text/plain": [
       "<Figure size 432x288 with 1 Axes>"
      ]
     },
     "metadata": {
      "needs_background": "light"
     },
     "output_type": "display_data"
    }
   ],
   "source": [
    "Double_1=sns.boxplot(Baseball[\"2B\"])\n",
    "#The minimum value is 236. The median value is 275 and the maximum value is 308. The whisker values are 262.25(minimum to 25th percentile) to 288(75th percentile to maximum value)\n",
    "#There are no outliers present."
   ]
  },
  {
   "cell_type": "code",
   "execution_count": 22,
   "metadata": {
    "collapsed": true
   },
   "outputs": [
    {
     "data": {
      "image/png": "[encoded data removed]",
      "text/plain": [
       "<Figure size 432x288 with 1 Axes>"
      ]
     },
     "metadata": {
      "needs_background": "light"
     },
     "output_type": "display_data"
    }
   ],
   "source": [
    "Double_2=sns.distplot(Baseball[\"2B\"])\n",
    "#The density of data lies between 260 to 280.\n",
    "#More or less it seems like a normally distributed data with skewness absent"
   ]
  },
  {
   "cell_type": "code",
   "execution_count": 23,
   "metadata": {
    "collapsed": true
   },
   "outputs": [
    {
     "data": {
      "image/png": "[encoded data removed]",
      "text/plain": [
       "<Figure size 432x288 with 1 Axes>"
      ]
     },
     "metadata": {
      "needs_background": "light"
     },
     "output_type": "display_data"
    }
   ],
   "source": [
    "Triple_1=sns.boxplot(Baseball[\"3B\"])\n",
    "#The minimum value is 13. The median value is 31 and the maximum value is 49. The whisker values are 23(minimum to 25th percentile) to 39(75th percentile to maximum value)\n",
    "#There are no outliers present."
   ]
  },
  {
   "cell_type": "code",
   "execution_count": 24,
   "metadata": {
    "collapsed": true
   },
   "outputs": [
    {
     "data": {
      "image/png": "[encoded data removed]",
      "text/plain": [
       "<Figure size 432x288 with 1 Axes>"
      ]
     },
     "metadata": {
      "needs_background": "light"
     },
     "output_type": "display_data"
    }
   ],
   "source": [
    "Triple_2=sns.distplot(Baseball[\"3B\"])\n",
    "#The density of data lies between 15 to 48.\n",
    "#More or less it seems like a normally distributed data with skewness absent"
   ]
  },
  {
   "cell_type": "code",
   "execution_count": 27,
   "metadata": {
    "collapsed": true
   },
   "outputs": [
    {
     "data": {
      "image/png": "[encoded data removed]",
      "text/plain": [
       "<Figure size 432x288 with 1 Axes>"
      ]
     },
     "metadata": {
      "needs_background": "light"
     },
     "output_type": "display_data"
    }
   ],
   "source": [
    "Home_Run_1=sns.boxplot(Baseball[\"HR\"])\n",
    "#The minimum value is 100. The median value is 158 and the maximum value is 232. The whisker values are 140.25(minimum to 25th percentile) to 177(75th percentile to maximum value)\n",
    "#There are no outliers present."
   ]
  },
  {
   "cell_type": "code",
   "execution_count": 29,
   "metadata": {
    "collapsed": true
   },
   "outputs": [
    {
     "data": {
      "image/png": "[encoded data removed]",
      "text/plain": [
       "<Figure size 432x288 with 1 Axes>"
      ]
     },
     "metadata": {
      "needs_background": "light"
     },
     "output_type": "display_data"
    }
   ],
   "source": [
    "Home_Run_2=sns.distplot(Baseball[\"HR\"])\n",
    "#The density of data lies between 125 to 175 and then spikes again from 210 to 225\n",
    "#More or less it seems like a normally distributed data with skewness absent"
   ]
  },
  {
   "cell_type": "code",
   "execution_count": 30,
   "metadata": {
    "collapsed": true
   },
   "outputs": [
    {
     "data": {
      "image/png": "[encoded data removed]",
      "text/plain": [
       "<Figure size 432x288 with 1 Axes>"
      ]
     },
     "metadata": {
      "needs_background": "light"
     },
     "output_type": "display_data"
    }
   ],
   "source": [
    "Walk_to_strikeout_ratio_1=sns.boxplot(Baseball[\"BB\"])\n",
    "#The minimum value is 375. The median value is 473 and the maximum value is 570. The whisker values are 428.25(minimum to 25th percentile) to 501.25(75th percentile to maximum value)\n",
    "#There are no outliers present."
   ]
  },
  {
   "cell_type": "code",
   "execution_count": 31,
   "metadata": {
    "collapsed": true
   },
   "outputs": [
    {
     "data": {
      "image/png": "[encoded data removed]",
      "text/plain": [
       "<Figure size 432x288 with 1 Axes>"
      ]
     },
     "metadata": {
      "needs_background": "light"
     },
     "output_type": "display_data"
    }
   ],
   "source": [
    "Walk_to_strikeout_ratio_2=sns.distplot(Baseball[\"BB\"])\n",
    "#The density of data lies between 325 to 480 and then spikes again from 525 to 575\n",
    "#More or less it seems like a normally distributed data with skewness absent"
   ]
  },
  {
   "cell_type": "code",
   "execution_count": 40,
   "metadata": {
    "collapsed": true
   },
   "outputs": [
    {
     "data": {
      "image/png": "[encoded data removed]",
      "text/plain": [
       "<Figure size 432x288 with 1 Axes>"
      ]
     },
     "metadata": {
      "needs_background": "light"
     },
     "output_type": "display_data"
    }
   ],
   "source": [
    "Plate_appearances_per_strikeout_1=sns.boxplot(Baseball[\"SO\"])\n",
    "#The minimum value is 973. The median value is 1261 and the maximum value is 1518. The whisker values are 1157(minimum to 25th percentile) to 1311.5(75th percentile to maximum value)\n",
    "#There are no outliers present."
   ]
  },
  {
   "cell_type": "code",
   "execution_count": 41,
   "metadata": {
    "collapsed": true
   },
   "outputs": [
    {
     "data": {
      "image/png": "[encoded data removed]",
      "text/plain": [
       "<Figure size 432x288 with 1 Axes>"
      ]
     },
     "metadata": {
      "needs_background": "light"
     },
     "output_type": "display_data"
    }
   ],
   "source": [
    "Plate_appearances_per_strikeout_2=sns.distplot(Baseball[\"SO\"])\n",
    "#The density of data lies between 1210 to 1375\n",
    "#There is a slight skewness to the left but more or less it seems like normally distributed"
   ]
  },
  {
   "cell_type": "code",
   "execution_count": 42,
   "metadata": {
    "collapsed": true
   },
   "outputs": [
    {
     "data": {
      "image/png": "[encoded data removed]",
      "text/plain": [
       "<Figure size 432x288 with 1 Axes>"
      ]
     },
     "metadata": {
      "needs_background": "light"
     },
     "output_type": "display_data"
    }
   ],
   "source": [
    "Stolen_Bases_1=sns.boxplot(Baseball[\"SB\"])\n",
    "#The minimum value is 44. The median value is 83.5 and the maximum value is 134. The whisker values are 69(minimum to 25th percentile) to 96.5(75th percentile to maximum value)\n",
    "#There are no outliers present."
   ]
  },
  {
   "cell_type": "code",
   "execution_count": 43,
   "metadata": {
    "collapsed": true
   },
   "outputs": [
    {
     "data": {
      "image/png": "[encoded data removed]",
      "text/plain": [
       "<Figure size 432x288 with 1 Axes>"
      ]
     },
     "metadata": {
      "needs_background": "light"
     },
     "output_type": "display_data"
    }
   ],
   "source": [
    "Stolen_Bases_2=sns.distplot(Baseball[\"SB\"])\n",
    "#The density of data lies between 60 to 85\n",
    "#More or less it seems like normally distributed"
   ]
  },
  {
   "cell_type": "code",
   "execution_count": 44,
   "metadata": {
    "collapsed": true
   },
   "outputs": [
    {
     "data": {
      "image/png": "[encoded data removed]",
      "text/plain": [
       "<Figure size 432x288 with 1 Axes>"
      ]
     },
     "metadata": {
      "needs_background": "light"
     },
     "output_type": "display_data"
    }
   ],
   "source": [
    "Run_Average_1=sns.boxplot(Baseball[\"RA\"])\n",
    "#The minimum value is 525. The median value is 695 and the maximum value is 844. The whisker values are 636.25(minimum to 25th percentile) to 732.5(75th percentile to maximum value)\n",
    "#There are no outliers present."
   ]
  },
  {
   "cell_type": "code",
   "execution_count": 45,
   "metadata": {
    "collapsed": true
   },
   "outputs": [
    {
     "data": {
      "image/png": "[encoded data removed]",
      "text/plain": [
       "<Figure size 432x288 with 1 Axes>"
      ]
     },
     "metadata": {
      "needs_background": "light"
     },
     "output_type": "display_data"
    }
   ],
   "source": [
    "Run_Average_2=sns.distplot(Baseball[\"RA\"])\n",
    "#The density of data lies between 600 to 725\n",
    "#More or less it seems like normally distributed"
   ]
  },
  {
   "cell_type": "code",
   "execution_count": 46,
   "metadata": {
    "collapsed": true
   },
   "outputs": [
    {
     "data": {
      "image/png": "[encoded data removed]",
      "text/plain": [
       "<Figure size 432x288 with 1 Axes>"
      ]
     },
     "metadata": {
      "needs_background": "light"
     },
     "output_type": "display_data"
    }
   ],
   "source": [
    "Earned_Runs_1=sns.boxplot(Baseball[\"ER\"])\n",
    "#The minimum value is 478. The median value is 644.5 and the maximum value is 799. The whisker values are 587.25(minimum to 25th percentile) to 679.25(75th percentile to maximum value)\n",
    "#There are no outliers present."
   ]
  },
  {
   "cell_type": "code",
   "execution_count": 47,
   "metadata": {
    "collapsed": true
   },
   "outputs": [
    {
     "data": {
      "image/png": "[encoded data removed]",
      "text/plain": [
       "<Figure size 432x288 with 1 Axes>"
      ]
     },
     "metadata": {
      "needs_background": "light"
     },
     "output_type": "display_data"
    }
   ],
   "source": [
    "Earned_Runs_2=sns.distplot(Baseball[\"ER\"])\n",
    "#The density of data lies between 525 to 700\n",
    "#More or less it seems like normally distributed"
   ]
  },
  {
   "cell_type": "code",
   "execution_count": 48,
   "metadata": {
    "collapsed": true
   },
   "outputs": [
    {
     "data": {
      "image/png": "[encoded data removed]",
      "text/plain": [
       "<Figure size 432x288 with 1 Axes>"
      ]
     },
     "metadata": {
      "needs_background": "light"
     },
     "output_type": "display_data"
    }
   ],
   "source": [
    "Earned_Runs_Average_1=sns.boxplot(Baseball[\"ERA\"])\n",
    "#The minimum value is 2.94. The median value is 4.025 and the maximum value is 5.04. The whisker values are 3.68(minimum to 25th percentile) to 4.22(75th percentile to maximum value)\n",
    "#There is one outlier present."
   ]
  },
  {
   "cell_type": "code",
   "execution_count": 49,
   "metadata": {
    "collapsed": true
   },
   "outputs": [
    {
     "data": {
      "image/png": "[encoded data removed]",
      "text/plain": [
       "<Figure size 432x288 with 1 Axes>"
      ]
     },
     "metadata": {
      "needs_background": "light"
     },
     "output_type": "display_data"
    }
   ],
   "source": [
    "Earned_Runs_Average_2=sns.distplot(Baseball[\"ERA\"])\n",
    "#The density of data lies between 3.5 to 4.5\n",
    "#More or less it seems like normally distributed"
   ]
  },
  {
   "cell_type": "code",
   "execution_count": 50,
   "metadata": {
    "collapsed": true
   },
   "outputs": [
    {
     "data": {
      "image/png": "[encoded data removed]",
      "text/plain": [
       "<Figure size 432x288 with 1 Axes>"
      ]
     },
     "metadata": {
      "needs_background": "light"
     },
     "output_type": "display_data"
    }
   ],
   "source": [
    "Complete_Games_1=sns.boxplot(Baseball[\"CG\"])\n",
    "#The minimum value is 0. The median value is 3 and the maximum value is 11. The whisker values are 1(minimum to 25th percentile) to 5.75(75th percentile to maximum value)\n",
    "#There are no outliers present."
   ]
  },
  {
   "cell_type": "code",
   "execution_count": 51,
   "metadata": {
    "collapsed": true
   },
   "outputs": [
    {
     "data": {
      "image/png": "[encoded data removed]",
      "text/plain": [
       "<Figure size 432x288 with 1 Axes>"
      ]
     },
     "metadata": {
      "needs_background": "light"
     },
     "output_type": "display_data"
    }
   ],
   "source": [
    "Complete_Games_2=sns.distplot(Baseball[\"CG\"])\n",
    "#The density of data lies between 0 to 2.5\n",
    "#Some skewness to the right is present."
   ]
  },
  {
   "cell_type": "code",
   "execution_count": 52,
   "metadata": {
    "collapsed": true
   },
   "outputs": [
    {
     "data": {
      "image/png": "[encoded data removed]",
      "text/plain": [
       "<Figure size 432x288 with 1 Axes>"
      ]
     },
     "metadata": {
      "needs_background": "light"
     },
     "output_type": "display_data"
    }
   ],
   "source": [
    "Shoutouts_1=sns.boxplot(Baseball[\"SHO\"])\n",
    "#The minimum value is 4. The median value is 12 and the maximum value is 21. The whisker values are 9(minimum to 25th percentile) to 13(75th percentile to maximum value)\n",
    "#There is one outlier present."
   ]
  },
  {
   "cell_type": "code",
   "execution_count": 53,
   "metadata": {
    "collapsed": true
   },
   "outputs": [
    {
     "data": {
      "image/png": "[encoded data removed]",
      "text/plain": [
       "<Figure size 432x288 with 1 Axes>"
      ]
     },
     "metadata": {
      "needs_background": "light"
     },
     "output_type": "display_data"
    }
   ],
   "source": [
    "Shoutouts_2=sns.distplot(Baseball[\"SHO\"])\n",
    "#The density of data lies between 9 to 14\n",
    "#Slight right skewness is present however, more or less it is normally distributed."
   ]
  },
  {
   "cell_type": "code",
   "execution_count": 79,
   "metadata": {
    "collapsed": true
   },
   "outputs": [
    {
     "data": {
      "image/png": "[encoded data removed]",
      "text/plain": [
       "<Figure size 432x288 with 1 Axes>"
      ]
     },
     "metadata": {
      "needs_background": "light"
     },
     "output_type": "display_data"
    }
   ],
   "source": [
    "Saves_1=sns.boxplot(Baseball[\"SV\"])\n",
    "#The minimum value is 28. The median value is 42 and the maximum value is 62. The whisker values are 37.25(minimum to 25th percentile) to 46.75(75th percentile to maximum value)\n",
    "#There is one outlier present."
   ]
  },
  {
   "cell_type": "code",
   "execution_count": 80,
   "metadata": {
    "collapsed": true
   },
   "outputs": [
    {
     "data": {
      "image/png": "[encoded data removed]",
      "text/plain": [
       "<Figure size 432x288 with 1 Axes>"
      ]
     },
     "metadata": {
      "needs_background": "light"
     },
     "output_type": "display_data"
    }
   ],
   "source": [
    "Saves_2=sns.distplot(Baseball[\"SV\"])\n",
    "\n",
    "#The density of data lies between 33 to 50\n",
    "#More or less it is normally distributed."
   ]
  },
  {
   "cell_type": "code",
   "execution_count": 56,
   "metadata": {
    "collapsed": true
   },
   "outputs": [
    {
     "data": {
      "image/png": "[encoded data removed]",
      "text/plain": [
       "<Figure size 432x288 with 1 Axes>"
      ]
     },
     "metadata": {
      "needs_background": "light"
     },
     "output_type": "display_data"
    }
   ],
   "source": [
    "Errors_1=sns.boxplot(Baseball[\"E\"])\n",
    "#The minimum value is 75. The median value is 91 and the maximum value is 126. The whisker values are 86(minimum to 25th percentile) to 96.75(75th percentile to maximum value)\n",
    "#There are 5 outliers present."
   ]
  },
  {
   "cell_type": "code",
   "execution_count": 57,
   "metadata": {},
   "outputs": [],
   "source": [
    "#Lets perform bivariate analysis"
   ]
  },
  {
   "cell_type": "code",
   "execution_count": 61,
   "metadata": {
    "collapsed": true
   },
   "outputs": [
    {
     "data": {
      "image/png": "[encoded data removed]",
      "text/plain": [
       "<Figure size 360x360 with 1 Axes>"
      ]
     },
     "metadata": {
      "needs_background": "light"
     },
     "output_type": "display_data"
    }
   ],
   "source": [
    "Runs_Scored_3=sns.relplot(x=\"R\",y=\"W\",kind=\"scatter\",data=Baseball)\n",
    "#As the runs scored increases, the chances of wins also increase in most cases"
   ]
  },
  {
   "cell_type": "code",
   "execution_count": 64,
   "metadata": {
    "collapsed": true
   },
   "outputs": [
    {
     "data": {
      "image/png": "[encoded data removed]",
      "text/plain": [
       "<Figure size 360x360 with 1 Axes>"
      ]
     },
     "metadata": {
      "needs_background": "light"
     },
     "output_type": "display_data"
    }
   ],
   "source": [
    "At_Bats_3=sns.relplot(x=\"AB\",y=\"W\",kind=\"scatter\",data=Baseball)\n",
    "#No concrete conlcusion can be made,however, at bats in the range of 5500 to 5500 have more chances to win in most cases."
   ]
  },
  {
   "cell_type": "code",
   "execution_count": 65,
   "metadata": {
    "collapsed": true
   },
   "outputs": [
    {
     "data": {
      "image/png": "[encoded data removed]",
      "text/plain": [
       "<Figure size 360x360 with 1 Axes>"
      ]
     },
     "metadata": {
      "needs_background": "light"
     },
     "output_type": "display_data"
    }
   ],
   "source": [
    "Hits_3=sns.relplot(x=\"H\",y=\"W\",kind=\"scatter\",data=Baseball)\n",
    "#Most data lies around 1375 hits. The chances of wins increase around hits in the range of 1350 to 1375 in most cases."
   ]
  },
  {
   "cell_type": "code",
   "execution_count": 66,
   "metadata": {
    "collapsed": true
   },
   "outputs": [
    {
     "data": {
      "image/png": "[encoded data removed]",
      "text/plain": [
       "<Figure size 360x360 with 1 Axes>"
      ]
     },
     "metadata": {
      "needs_background": "light"
     },
     "output_type": "display_data"
    }
   ],
   "source": [
    "Double_3=sns.relplot(x=\"2B\",y=\"W\",kind=\"scatter\",data=Baseball)\n",
    "#As the double hits increase, so does the chances to win in most cases."
   ]
  },
  {
   "cell_type": "code",
   "execution_count": 67,
   "metadata": {
    "collapsed": true
   },
   "outputs": [
    {
     "data": {
      "image/png": "[encoded data removed]",
      "text/plain": [
       "<Figure size 360x360 with 1 Axes>"
      ]
     },
     "metadata": {
      "needs_background": "light"
     },
     "output_type": "display_data"
    }
   ],
   "source": [
    "Triple_3=sns.relplot(x=\"3B\",y=\"W\",kind=\"scatter\",data=Baseball)\n",
    "#Triple hots in the range of 20 to 35 have higher chances of wins in most cases"
   ]
  },
  {
   "cell_type": "code",
   "execution_count": 68,
   "metadata": {
    "collapsed": true
   },
   "outputs": [
    {
     "data": {
      "image/png": "[encoded data removed]",
      "text/plain": [
       "<Figure size 360x360 with 1 Axes>"
      ]
     },
     "metadata": {
      "needs_background": "light"
     },
     "output_type": "display_data"
    }
   ],
   "source": [
    "Home_Run_3=sns.relplot(x=\"HR\",y=\"W\",kind=\"scatter\",data=Baseball)\n",
    "#Home runs in the range of 140-180 have higher chances of wins in most cases"
   ]
  },
  {
   "cell_type": "code",
   "execution_count": 69,
   "metadata": {
    "collapsed": true
   },
   "outputs": [
    {
     "data": {
      "image/png": "[encoded data removed]",
      "text/plain": [
       "<Figure size 360x360 with 1 Axes>"
      ]
     },
     "metadata": {
      "needs_background": "light"
     },
     "output_type": "display_data"
    }
   ],
   "source": [
    "Walk_to_strikeout_ratio_3=sns.relplot(x=\"BB\",y=\"W\",kind=\"scatter\",data=Baseball)\n",
    "#As walk to strikeout ratio increases, the chances of wins also increase in most cases"
   ]
  },
  {
   "cell_type": "code",
   "execution_count": 70,
   "metadata": {
    "collapsed": true
   },
   "outputs": [
    {
     "data": {
      "image/png": "[encoded data removed]",
      "text/plain": [
       "<Figure size 360x360 with 1 Axes>"
      ]
     },
     "metadata": {
      "needs_background": "light"
     },
     "output_type": "display_data"
    }
   ],
   "source": [
    "Plate_appearances_per_strikeout_3=sns.relplot(x=\"SO\",y=\"W\",kind=\"scatter\",data=Baseball)\n",
    "#As plate appearances per strikeout increases, so does the chances to win in most cases."
   ]
  },
  {
   "cell_type": "code",
   "execution_count": 71,
   "metadata": {
    "collapsed": true
   },
   "outputs": [
    {
     "data": {
      "image/png": "[encoded data removed]",
      "text/plain": [
       "<Figure size 360x360 with 1 Axes>"
      ]
     },
     "metadata": {
      "needs_background": "light"
     },
     "output_type": "display_data"
    }
   ],
   "source": [
    "Stolen_Bases_3=sns.relplot(x=\"SB\",y=\"W\",kind=\"scatter\",data=Baseball)\n",
    "#The chances of wins increase with stolen bases in the range of 60 to 100 in most cases"
   ]
  },
  {
   "cell_type": "code",
   "execution_count": 74,
   "metadata": {
    "collapsed": true
   },
   "outputs": [
    {
     "data": {
      "image/png": "[encoded data removed]",
      "text/plain": [
       "<Figure size 360x360 with 1 Axes>"
      ]
     },
     "metadata": {
      "needs_background": "light"
     },
     "output_type": "display_data"
    }
   ],
   "source": [
    "Run_Average_3=sns.relplot(x=\"RA\",y=\"W\",kind=\"scatter\",data=Baseball)\n",
    "#As the run average drops, the chances of wins increase in most cases"
   ]
  },
  {
   "cell_type": "code",
   "execution_count": 75,
   "metadata": {
    "collapsed": true
   },
   "outputs": [
    {
     "data": {
      "image/png": "[encoded data removed]",
      "text/plain": [
       "<Figure size 360x360 with 1 Axes>"
      ]
     },
     "metadata": {
      "needs_background": "light"
     },
     "output_type": "display_data"
    }
   ],
   "source": [
    "Earned_Runs_3=sns.relplot(x=\"ER\",y=\"W\",kind=\"scatter\",data=Baseball)\n",
    "#As earned runs drops, the chances to win increase in most cases"
   ]
  },
  {
   "cell_type": "code",
   "execution_count": 76,
   "metadata": {
    "collapsed": true
   },
   "outputs": [
    {
     "data": {
      "image/png": "[encoded data removed]",
      "text/plain": [
       "<Figure size 360x360 with 1 Axes>"
      ]
     },
     "metadata": {
      "needs_background": "light"
     },
     "output_type": "display_data"
    }
   ],
   "source": [
    "Earned_Runs_Average_3=sns.relplot(x=\"ERA\",y=\"W\",kind=\"scatter\",data=Baseball)\n",
    "#As earned runs average drops, the chances to win increase in most case"
   ]
  },
  {
   "cell_type": "code",
   "execution_count": 77,
   "metadata": {
    "collapsed": true
   },
   "outputs": [
    {
     "data": {
      "image/png": "[encoded data removed]",
      "text/plain": [
       "<Figure size 360x360 with 1 Axes>"
      ]
     },
     "metadata": {
      "needs_background": "light"
     },
     "output_type": "display_data"
    }
   ],
   "source": [
    "Complete_Games_3=sns.relplot(x=\"CG\",y=\"W\",kind=\"scatter\",data=Baseball)\n",
    "#No concrete conclusion can be drwan but most data points lie between 2 to 6 and as the number of games completed increases the chances to win increase in most cases in that range of completed games."
   ]
  },
  {
   "cell_type": "code",
   "execution_count": 78,
   "metadata": {
    "collapsed": true
   },
   "outputs": [
    {
     "data": {
      "image/png": "[encoded data removed]",
      "text/plain": [
       "<Figure size 360x360 with 1 Axes>"
      ]
     },
     "metadata": {
      "needs_background": "light"
     },
     "output_type": "display_data"
    }
   ],
   "source": [
    "Shoutouts_3=sns.relplot(x=\"SHO\",y=\"W\",kind=\"scatter\",data=Baseball)\n",
    "#As shoutouts increase, the chnaces to win also increases in most cases"
   ]
  },
  {
   "cell_type": "code",
   "execution_count": 81,
   "metadata": {
    "collapsed": true
   },
   "outputs": [
    {
     "data": {
      "image/png": "[encoded data removed]",
      "text/plain": [
       "<Figure size 360x360 with 1 Axes>"
      ]
     },
     "metadata": {
      "needs_background": "light"
     },
     "output_type": "display_data"
    }
   ],
   "source": [
    "Saves_3=sns.relplot(x=\"SV\",y=\"W\",kind=\"scatter\",data=Baseball)\n",
    "#As the number of saves increaases, the chances to win also increase in most cases"
   ]
  },
  {
   "cell_type": "code",
   "execution_count": 82,
   "metadata": {
    "collapsed": true
   },
   "outputs": [
    {
     "data": {
      "image/png": "[encoded data removed]",
      "text/plain": [
       "<Figure size 360x360 with 1 Axes>"
      ]
     },
     "metadata": {
      "needs_background": "light"
     },
     "output_type": "display_data"
    }
   ],
   "source": [
    "Errors_3=sns.relplot(x=\"E\",y=\"W\",kind=\"scatter\",data=Baseball)\n",
    "#No concrete conculsion can be drawn.Most errors lie between 90 to 100. As the errors reduces, the chances to win increase in that range of errors."
   ]
  },
  {
   "cell_type": "code",
   "execution_count": 86,
   "metadata": {
    "collapsed": true
   },
   "outputs": [
    {
     "data": {
      "text/plain": [
       "array([[ 1.36540860e+00,  6.19077968e-01,  8.47731264e-01,\n",
       "         1.66368512e+00,  1.42017307e+00,  1.04119304e+00,\n",
       "        -7.87298598e-01, -1.53490242e+00, -2.69762957e+00,\n",
       "         9.13883291e-01, -6.66233927e-01, -5.05110079e-01,\n",
       "        -5.06955186e-01, -5.39806195e-01, -8.14628593e-01,\n",
       "         1.67160651e+00, -4.61469635e-01],\n",
       "       [ 1.97838300e-01,  1.34431656e-01, -7.11093535e-01,\n",
       "        -9.70680764e-01,  1.27403389e-01,  1.23580856e+00,\n",
       "        -2.43966683e-01, -5.36591904e-01,  1.54878442e-01,\n",
       "        -6.01825582e-01,  1.65970766e-01,  2.48929848e-01,\n",
       "         2.54597523e-01, -5.39806195e-01,  1.72800005e-01,\n",
       "         2.49879323e-01, -6.07196888e-01],\n",
       "       [ 3.24325082e-03, -3.32905860e-01, -1.11523330e+00,\n",
       "        -1.51891367e-01,  1.58879521e+00, -2.23807850e-01,\n",
       "        -7.23377196e-01,  1.13914361e+00, -8.93981893e-01,\n",
       "         1.11449182e-01, -6.80339091e-01, -7.51623132e-01,\n",
       "        -6.41346840e-01,  2.77264091e+00, -3.20914294e-01,\n",
       "        -6.54856158e-01, -1.11724227e+00],\n",
       "       [-4.83244373e-01, -1.14641931e+00,  2.41521620e-01,\n",
       "        -4.01088140e-01, -8.28122030e-01, -4.18423371e-01,\n",
       "        -8.83180700e-01, -1.16053598e+00, -1.68601848e-01,\n",
       "        -6.90984928e-01,  1.80075931e-01,  1.03922169e-01,\n",
       "         5.30100415e-02,  1.30044220e+00, -5.67771443e-01,\n",
       "        -7.84104084e-01,  4.85757510e-01],\n",
       "       [-6.77839422e-01,  1.32700776e-02,  1.28073815e+00,\n",
       "         1.98408098e+00,  8.01891920e-01,  1.72234737e+00,\n",
       "        -4.03770187e-01, -2.51360327e-01,  1.05866277e-01,\n",
       "        -2.22898364e-02,  1.61880269e+00,  1.59750126e+00,\n",
       "         1.53131824e+00,  1.30044220e+00,  1.72800005e-01,\n",
       "        -1.04259994e+00, -6.07196888e-01],\n",
       "       [ 1.17081355e+00,  3.50964704e+00, -1.04883891e-01,\n",
       "         1.36108904e+00,  1.86983209e+00, -1.39150098e+00,\n",
       "         2.18504658e+00,  1.79874163e+00, -9.52796491e-01,\n",
       "         2.00608527e-01, -2.57184162e-01, -3.89103937e-01,\n",
       "        -3.50164922e-01,  1.30044220e+00, -3.20914294e-01,\n",
       "        -1.17184786e+00, -4.61469635e-01],\n",
       "       [ 5.87028399e-01,  1.31142984e+00,  7.32262760e-01,\n",
       "        -1.16291827e-01, -1.53633499e-01, -1.19688546e+00,\n",
       "         1.54583256e+00,  1.51351006e+00, -2.07811580e-01,\n",
       "        -9.13883291e-01,  1.37760438e-01,  2.34429080e-01,\n",
       "         1.65003087e-01, -1.71756517e-01, -1.80205719e+00,\n",
       "         6.37623101e-01, -9.71515020e-02],\n",
       "       [ 3.24325082e-03,  4.28681202e-01, -4.51289401e-01,\n",
       "        -5.96885604e-01, -1.61502532e+00, -1.09957770e+00,\n",
       "         1.70563607e+00, -9.10958349e-01,  8.11641456e-01,\n",
       "        -1.76089707e+00,  6.72346164e-02,  1.47424473e-01,\n",
       "         2.09800305e-01, -1.27590555e+00, -3.20914294e-01,\n",
       "        -8.61652840e-03, -1.26296953e+00],\n",
       "       [-9.40542739e-02, -7.65625781e-01, -4.51289401e-01,\n",
       "        -3.65488601e-01,  1.83610767e-01,  6.81154325e-02,\n",
       "         1.07601026e-01, -5.90072825e-01,  6.05790362e-01,\n",
       "         1.56028855e-01, -6.52128762e-01, -4.61607776e-01,\n",
       "        -4.84556577e-01, -9.07855874e-01,  1.72800005e-01,\n",
       "         2.18859821e+00,  4.85757510e-02],\n",
       "       [-2.88649323e-01,  1.03448909e+00,  1.78591286e+00,\n",
       "         1.62808558e+00,  1.08292881e+00,  1.65423193e-01,\n",
       "        -8.41631789e-02,  1.58660065e-01, -9.82203790e-01,\n",
       "        -5.57245909e-01,  9.13544474e-01,  8.43461329e-01,\n",
       "         7.92164142e-01, -1.71756517e-01, -3.20914294e-01,\n",
       "        -3.96360306e-01,  1.94303004e-01],\n",
       "       [ 6.84325924e-01,  1.08641548e+00, -7.60167649e-02,\n",
       "         2.75303102e-01,  2.39818144e-01,  6.81154325e-02,\n",
       "         2.67404530e-01,  6.04334404e-01, -1.48996982e-01,\n",
       "         7.80144273e-01,  6.31441188e-01,  6.40450579e-01,\n",
       "         6.35373878e-01,  5.64342841e-01, -5.67771443e-01,\n",
       "         2.49879323e-01,  1.79730279e+00],\n",
       "       [ 4.89730874e-01,  7.05621952e-01, -8.26562038e-01,\n",
       "        -7.21483991e-01,  1.83610767e-01, -5.15731132e-01,\n",
       "         2.12112518e+00,  3.01275853e-01,  1.40958987e+00,\n",
       "         1.67173773e+00, -9.90652705e-01, -9.25632346e-01,\n",
       "        -8.65332931e-01,  5.64342841e-01,  4.19657154e-01,\n",
       "        -5.25608232e-01, -6.80060514e-01],\n",
       "       [ 3.92433350e-01, -4.71376235e-01, -1.43277168e+00,\n",
       "        -1.29107662e+00, -1.78364745e+00, -1.00226994e+00,\n",
       "         3.95247334e-01, -6.07899799e-01, -9.62598924e-01,\n",
       "        -1.40425969e+00, -1.86658341e-01, -8.45878123e-02,\n",
       "        -3.65843948e-02, -5.39806195e-01,  1.72800005e-01,\n",
       "         3.79127249e-01, -9.71515020e-02],\n",
       "       [-4.83244373e-01, -5.57920219e-01,  4.00290812e-01,\n",
       "        -4.36687679e-01, -7.15707275e-01, -9.04962175e-01,\n",
       "         1.09838275e+00,  1.58660065e-01,  8.60653621e-01,\n",
       "        -6.46405255e-01,  5.32705038e-01,  5.96948276e-01,\n",
       "         4.56185005e-01,  9.32392519e-01,  1.72800005e-01,\n",
       "         2.49879323e-01, -2.42878755e-02],\n",
       "       [-1.26162457e+00,  9.98140619e-02,  1.20857034e+00,\n",
       "         2.61063286e-02,  1.27403389e-01,  1.43042408e+00,\n",
       "        -5.63573692e-01,  1.05179144e-01, -1.26647435e+00,\n",
       "        -2.45188200e-01,  5.75020531e-01,  4.08438294e-01,\n",
       "         4.11387787e-01,  5.64342841e-01,  9.13371452e-01,\n",
       "        -1.94733542e+00,  2.30734817e+00],\n",
       "       [ 1.85189622e+00, -7.13699391e-01, -4.65722964e-01,\n",
       "        -3.12089292e-01,  7.45684543e-01,  7.49269758e-01,\n",
       "        -8.51219999e-01,  6.57815325e-01,  1.84285741e-01,\n",
       "        -6.46405255e-01, -2.30243298e+00, -2.28870452e+00,\n",
       "        -2.27644530e+00, -9.07855874e-01,  9.13371452e-01,\n",
       "         2.44709406e+00,  1.21439378e-01],\n",
       "       [ 1.65730117e+00,  1.51740453e-01,  1.65601079e+00,\n",
       "         1.04069319e+00,  9.70514053e-01, -4.18423371e-01,\n",
       "        -7.55337897e-01, -1.44398486e-01,  7.23419558e-01,\n",
       "         6.46405255e-01, -1.30096632e+00, -1.50566306e+00,\n",
       "        -1.67168286e+00, -1.27590555e+00,  4.19657154e-01,\n",
       "         1.41311066e+00,  2.01589367e+00],\n",
       "       [ 1.56000365e+00,  1.32700776e-02, -3.64688024e-01,\n",
       "        -1.11307892e+00, -1.53633499e-01, -1.26500089e-01,\n",
       "         2.35443830e-01,  1.74526071e+00,  2.64469643e+00,\n",
       "         5.12666237e-01, -1.13170435e+00, -1.30265231e+00,\n",
       "        -1.33570372e+00,  9.32392519e-01,  2.39451435e+00,\n",
       "         6.37623101e-01,  1.21439378e+00],\n",
       "       [-1.26162457e+00, -5.75229016e-01, -5.23457216e-01,\n",
       "        -4.54487448e-01, -4.12187436e-02,  2.62730954e-01,\n",
       "        -5.95534393e-01, -1.01792019e+00,  4.97963598e-01,\n",
       "         2.22898364e-02,  6.87861845e-01,  6.69452115e-01,\n",
       "         7.24968314e-01, -9.07855874e-01, -1.06148574e+00,\n",
       "        -3.96360306e-01,  1.57871191e+00],\n",
       "       [-1.65081467e+00, -8.34860969e-01,  7.89997012e-01,\n",
       "        -3.83288370e-01, -9.96744163e-01, -4.18423371e-01,\n",
       "         1.07601026e-01,  4.79545589e-01,  6.66565447e-02,\n",
       "         2.25127347e+00,  9.27649638e-01,  9.30465935e-01,\n",
       "         8.36961360e-01, -5.39806195e-01, -8.14628593e-01,\n",
       "        -1.04259994e+00, -3.15742382e-01],\n",
       "       [ 8.78920973e-01, -9.05827036e-02,  1.54920242e-01,\n",
       "        -9.35081225e-01,  1.13913619e+00, -1.39150098e+00,\n",
       "         4.27208035e-01,  3.36929800e-01,  4.09741701e-01,\n",
       "        -1.44883936e+00, -1.06117853e+00, -1.14314386e+00,\n",
       "        -1.17891346e+00, -9.07855874e-01,  6.66514303e-01,\n",
       "         8.96118953e-01, -4.61469635e-01],\n",
       "       [ 1.97838300e-01,  2.55593234e-01, -1.27400249e+00,\n",
       "        -7.21483991e-01, -5.47085142e-01, -1.78073202e+00,\n",
       "         4.27208035e-01,  1.24610545e+00,  9.39073085e-01,\n",
       "        -1.18136133e+00, -7.50864912e-01, -8.53128507e-01,\n",
       "        -7.53339886e-01,  1.96293162e-01,  4.19657154e-01,\n",
       "        -2.67112380e-01, -3.15742382e-01],\n",
       "       [-9.69731996e-01, -1.30219848e+00, -7.68827786e-01,\n",
       "         2.93102871e-01, -2.17709909e+00,  8.46577519e-01,\n",
       "        -1.39455191e+00, -1.67751821e+00, -9.62598924e-01,\n",
       "         1.27052067e+00, -1.44342848e-01,  3.14183303e-02,\n",
       "         1.42604478e-01, -1.27590555e+00,  1.72800005e-01,\n",
       "        -1.04259994e+00, -1.26296953e+00],\n",
       "       [-1.35892210e+00, -1.99455036e+00, -1.38947099e+00,\n",
       "        -7.57083530e-01, -1.33398843e+00, -1.29419322e+00,\n",
       "        -2.03376593e+00,  3.38712498e-02, -1.38410355e+00,\n",
       "        -6.46405255e-01,  1.01228062e+00,  9.01464400e-01,\n",
       "         1.01615023e+00, -1.71756517e-01, -3.20914294e-01,\n",
       "         1.20631398e-01, -3.15742382e-01],\n",
       "       [-1.74811219e+00, -1.07718413e+00,  1.83787368e-01,\n",
       "        -5.25686526e-01, -1.53633499e-01,  5.54654236e-01,\n",
       "        -1.07494491e+00, -1.46359453e+00,  2.52902772e-01,\n",
       "         2.00608527e-01,  1.70343367e+00,  1.64100356e+00,\n",
       "         1.64331129e+00, -9.07855874e-01, -1.06148574e+00,\n",
       "        -1.04259994e+00,  1.65157553e+00],\n",
       "       [ 1.07351602e+00, -3.67523453e-01, -1.89464570e+00,\n",
       "        -1.02408007e+00, -6.59499897e-01, -5.15731132e-01,\n",
       "         7.46815043e-01,  1.67395282e+00,  9.60638438e-02,\n",
       "        -1.09220198e+00, -1.31507148e+00, -1.20114693e+00,\n",
       "        -1.15651485e+00,  9.32392519e-01,  2.39451435e+00,\n",
       "         5.08375175e-01, -1.40869678e+00],\n",
       "       [ 2.95135825e-01,  1.34431656e-01,  7.03395634e-01,\n",
       "         1.46788766e+00,  7.45684543e-01,  7.49269758e-01,\n",
       "        -8.83180700e-01, -2.15706380e-01, -8.74377027e-01,\n",
       "         4.23506891e-01, -8.63706227e-01, -5.63113151e-01,\n",
       "        -5.29353795e-01,  1.30044220e+00,  1.65394290e+00,\n",
       "        -2.67112380e-01, -1.19010590e+00],\n",
       "       [-1.91351799e-01,  5.49842780e-01,  1.91581492e+00,\n",
       "         1.61028582e+00,  8.01891920e-01,  1.62503960e+00,\n",
       "        -3.07888085e-01,  3.72583748e-01,  6.25395228e-01,\n",
       "         2.16211413e+00,  3.49337902e-01,  3.35934455e-01,\n",
       "         1.87401696e-01, -9.07855874e-01,  1.72800005e-01,\n",
       "         1.20631398e-01, -6.07196888e-01],\n",
       "       [-6.77839422e-01, -6.61773000e-01, -8.55429164e-01,\n",
       "        -1.41567500e+00, -8.28122030e-01,  4.57346476e-01,\n",
       "        -4.99652290e-01, -7.68342561e-01,  7.72431723e-01,\n",
       "        -6.68695091e-02,  6.03230859e-01,  2.77931383e-01,\n",
       "         2.99394742e-01, -9.07855874e-01, -1.30834289e+00,\n",
       "        -2.67112380e-01, -1.70015129e-01],\n",
       "       [-1.26162457e+00,  8.44092327e-01,  8.04430575e-01,\n",
       "         1.34328927e+00, -4.12187436e-02,  1.72234737e+00,\n",
       "         7.14854342e-01, -1.44576756e+00,  3.41124670e-01,\n",
       "         6.01825582e-01,  2.19711442e+00,  2.36604195e+00,\n",
       "         2.42726261e+00,  1.96293162e-01, -1.80205719e+00,\n",
       "        -9.13352010e-01,  4.85757510e-02]])"
      ]
     },
     "execution_count": 86,
     "metadata": {},
     "output_type": "execute_result"
    }
   ],
   "source": [
    "#Lets remove outliers using zscore\n",
    "zscore(Baseball)"
   ]
  },
  {
   "cell_type": "code",
   "execution_count": 88,
   "metadata": {
    "collapsed": true
   },
   "outputs": [
    {
     "data": {
      "text/plain": [
       "array([[1.36540860e+00, 6.19077968e-01, 8.47731264e-01, 1.66368512e+00,\n",
       "        1.42017307e+00, 1.04119304e+00, 7.87298598e-01, 1.53490242e+00,\n",
       "        2.69762957e+00, 9.13883291e-01, 6.66233927e-01, 5.05110079e-01,\n",
       "        5.06955186e-01, 5.39806195e-01, 8.14628593e-01, 1.67160651e+00,\n",
       "        4.61469635e-01],\n",
       "       [1.97838300e-01, 1.34431656e-01, 7.11093535e-01, 9.70680764e-01,\n",
       "        1.27403389e-01, 1.23580856e+00, 2.43966683e-01, 5.36591904e-01,\n",
       "        1.54878442e-01, 6.01825582e-01, 1.65970766e-01, 2.48929848e-01,\n",
       "        2.54597523e-01, 5.39806195e-01, 1.72800005e-01, 2.49879323e-01,\n",
       "        6.07196888e-01],\n",
       "       [3.24325082e-03, 3.32905860e-01, 1.11523330e+00, 1.51891367e-01,\n",
       "        1.58879521e+00, 2.23807850e-01, 7.23377196e-01, 1.13914361e+00,\n",
       "        8.93981893e-01, 1.11449182e-01, 6.80339091e-01, 7.51623132e-01,\n",
       "        6.41346840e-01, 2.77264091e+00, 3.20914294e-01, 6.54856158e-01,\n",
       "        1.11724227e+00],\n",
       "       [4.83244373e-01, 1.14641931e+00, 2.41521620e-01, 4.01088140e-01,\n",
       "        8.28122030e-01, 4.18423371e-01, 8.83180700e-01, 1.16053598e+00,\n",
       "        1.68601848e-01, 6.90984928e-01, 1.80075931e-01, 1.03922169e-01,\n",
       "        5.30100415e-02, 1.30044220e+00, 5.67771443e-01, 7.84104084e-01,\n",
       "        4.85757510e-01],\n",
       "       [6.77839422e-01, 1.32700776e-02, 1.28073815e+00, 1.98408098e+00,\n",
       "        8.01891920e-01, 1.72234737e+00, 4.03770187e-01, 2.51360327e-01,\n",
       "        1.05866277e-01, 2.22898364e-02, 1.61880269e+00, 1.59750126e+00,\n",
       "        1.53131824e+00, 1.30044220e+00, 1.72800005e-01, 1.04259994e+00,\n",
       "        6.07196888e-01],\n",
       "       [1.17081355e+00, 3.50964704e+00, 1.04883891e-01, 1.36108904e+00,\n",
       "        1.86983209e+00, 1.39150098e+00, 2.18504658e+00, 1.79874163e+00,\n",
       "        9.52796491e-01, 2.00608527e-01, 2.57184162e-01, 3.89103937e-01,\n",
       "        3.50164922e-01, 1.30044220e+00, 3.20914294e-01, 1.17184786e+00,\n",
       "        4.61469635e-01],\n",
       "       [5.87028399e-01, 1.31142984e+00, 7.32262760e-01, 1.16291827e-01,\n",
       "        1.53633499e-01, 1.19688546e+00, 1.54583256e+00, 1.51351006e+00,\n",
       "        2.07811580e-01, 9.13883291e-01, 1.37760438e-01, 2.34429080e-01,\n",
       "        1.65003087e-01, 1.71756517e-01, 1.80205719e+00, 6.37623101e-01,\n",
       "        9.71515020e-02],\n",
       "       [3.24325082e-03, 4.28681202e-01, 4.51289401e-01, 5.96885604e-01,\n",
       "        1.61502532e+00, 1.09957770e+00, 1.70563607e+00, 9.10958349e-01,\n",
       "        8.11641456e-01, 1.76089707e+00, 6.72346164e-02, 1.47424473e-01,\n",
       "        2.09800305e-01, 1.27590555e+00, 3.20914294e-01, 8.61652840e-03,\n",
       "        1.26296953e+00],\n",
       "       [9.40542739e-02, 7.65625781e-01, 4.51289401e-01, 3.65488601e-01,\n",
       "        1.83610767e-01, 6.81154325e-02, 1.07601026e-01, 5.90072825e-01,\n",
       "        6.05790362e-01, 1.56028855e-01, 6.52128762e-01, 4.61607776e-01,\n",
       "        4.84556577e-01, 9.07855874e-01, 1.72800005e-01, 2.18859821e+00,\n",
       "        4.85757510e-02],\n",
       "       [2.88649323e-01, 1.03448909e+00, 1.78591286e+00, 1.62808558e+00,\n",
       "        1.08292881e+00, 1.65423193e-01, 8.41631789e-02, 1.58660065e-01,\n",
       "        9.82203790e-01, 5.57245909e-01, 9.13544474e-01, 8.43461329e-01,\n",
       "        7.92164142e-01, 1.71756517e-01, 3.20914294e-01, 3.96360306e-01,\n",
       "        1.94303004e-01],\n",
       "       [6.84325924e-01, 1.08641548e+00, 7.60167649e-02, 2.75303102e-01,\n",
       "        2.39818144e-01, 6.81154325e-02, 2.67404530e-01, 6.04334404e-01,\n",
       "        1.48996982e-01, 7.80144273e-01, 6.31441188e-01, 6.40450579e-01,\n",
       "        6.35373878e-01, 5.64342841e-01, 5.67771443e-01, 2.49879323e-01,\n",
       "        1.79730279e+00],\n",
       "       [4.89730874e-01, 7.05621952e-01, 8.26562038e-01, 7.21483991e-01,\n",
       "        1.83610767e-01, 5.15731132e-01, 2.12112518e+00, 3.01275853e-01,\n",
       "        1.40958987e+00, 1.67173773e+00, 9.90652705e-01, 9.25632346e-01,\n",
       "        8.65332931e-01, 5.64342841e-01, 4.19657154e-01, 5.25608232e-01,\n",
       "        6.80060514e-01],\n",
       "       [3.92433350e-01, 4.71376235e-01, 1.43277168e+00, 1.29107662e+00,\n",
       "        1.78364745e+00, 1.00226994e+00, 3.95247334e-01, 6.07899799e-01,\n",
       "        9.62598924e-01, 1.40425969e+00, 1.86658341e-01, 8.45878123e-02,\n",
       "        3.65843948e-02, 5.39806195e-01, 1.72800005e-01, 3.79127249e-01,\n",
       "        9.71515020e-02],\n",
       "       [4.83244373e-01, 5.57920219e-01, 4.00290812e-01, 4.36687679e-01,\n",
       "        7.15707275e-01, 9.04962175e-01, 1.09838275e+00, 1.58660065e-01,\n",
       "        8.60653621e-01, 6.46405255e-01, 5.32705038e-01, 5.96948276e-01,\n",
       "        4.56185005e-01, 9.32392519e-01, 1.72800005e-01, 2.49879323e-01,\n",
       "        2.42878755e-02],\n",
       "       [1.26162457e+00, 9.98140619e-02, 1.20857034e+00, 2.61063286e-02,\n",
       "        1.27403389e-01, 1.43042408e+00, 5.63573692e-01, 1.05179144e-01,\n",
       "        1.26647435e+00, 2.45188200e-01, 5.75020531e-01, 4.08438294e-01,\n",
       "        4.11387787e-01, 5.64342841e-01, 9.13371452e-01, 1.94733542e+00,\n",
       "        2.30734817e+00],\n",
       "       [1.85189622e+00, 7.13699391e-01, 4.65722964e-01, 3.12089292e-01,\n",
       "        7.45684543e-01, 7.49269758e-01, 8.51219999e-01, 6.57815325e-01,\n",
       "        1.84285741e-01, 6.46405255e-01, 2.30243298e+00, 2.28870452e+00,\n",
       "        2.27644530e+00, 9.07855874e-01, 9.13371452e-01, 2.44709406e+00,\n",
       "        1.21439378e-01],\n",
       "       [1.65730117e+00, 1.51740453e-01, 1.65601079e+00, 1.04069319e+00,\n",
       "        9.70514053e-01, 4.18423371e-01, 7.55337897e-01, 1.44398486e-01,\n",
       "        7.23419558e-01, 6.46405255e-01, 1.30096632e+00, 1.50566306e+00,\n",
       "        1.67168286e+00, 1.27590555e+00, 4.19657154e-01, 1.41311066e+00,\n",
       "        2.01589367e+00],\n",
       "       [1.56000365e+00, 1.32700776e-02, 3.64688024e-01, 1.11307892e+00,\n",
       "        1.53633499e-01, 1.26500089e-01, 2.35443830e-01, 1.74526071e+00,\n",
       "        2.64469643e+00, 5.12666237e-01, 1.13170435e+00, 1.30265231e+00,\n",
       "        1.33570372e+00, 9.32392519e-01, 2.39451435e+00, 6.37623101e-01,\n",
       "        1.21439378e+00],\n",
       "       [1.26162457e+00, 5.75229016e-01, 5.23457216e-01, 4.54487448e-01,\n",
       "        4.12187436e-02, 2.62730954e-01, 5.95534393e-01, 1.01792019e+00,\n",
       "        4.97963598e-01, 2.22898364e-02, 6.87861845e-01, 6.69452115e-01,\n",
       "        7.24968314e-01, 9.07855874e-01, 1.06148574e+00, 3.96360306e-01,\n",
       "        1.57871191e+00],\n",
       "       [1.65081467e+00, 8.34860969e-01, 7.89997012e-01, 3.83288370e-01,\n",
       "        9.96744163e-01, 4.18423371e-01, 1.07601026e-01, 4.79545589e-01,\n",
       "        6.66565447e-02, 2.25127347e+00, 9.27649638e-01, 9.30465935e-01,\n",
       "        8.36961360e-01, 5.39806195e-01, 8.14628593e-01, 1.04259994e+00,\n",
       "        3.15742382e-01],\n",
       "       [8.78920973e-01, 9.05827036e-02, 1.54920242e-01, 9.35081225e-01,\n",
       "        1.13913619e+00, 1.39150098e+00, 4.27208035e-01, 3.36929800e-01,\n",
       "        4.09741701e-01, 1.44883936e+00, 1.06117853e+00, 1.14314386e+00,\n",
       "        1.17891346e+00, 9.07855874e-01, 6.66514303e-01, 8.96118953e-01,\n",
       "        4.61469635e-01],\n",
       "       [1.97838300e-01, 2.55593234e-01, 1.27400249e+00, 7.21483991e-01,\n",
       "        5.47085142e-01, 1.78073202e+00, 4.27208035e-01, 1.24610545e+00,\n",
       "        9.39073085e-01, 1.18136133e+00, 7.50864912e-01, 8.53128507e-01,\n",
       "        7.53339886e-01, 1.96293162e-01, 4.19657154e-01, 2.67112380e-01,\n",
       "        3.15742382e-01],\n",
       "       [9.69731996e-01, 1.30219848e+00, 7.68827786e-01, 2.93102871e-01,\n",
       "        2.17709909e+00, 8.46577519e-01, 1.39455191e+00, 1.67751821e+00,\n",
       "        9.62598924e-01, 1.27052067e+00, 1.44342848e-01, 3.14183303e-02,\n",
       "        1.42604478e-01, 1.27590555e+00, 1.72800005e-01, 1.04259994e+00,\n",
       "        1.26296953e+00],\n",
       "       [1.35892210e+00, 1.99455036e+00, 1.38947099e+00, 7.57083530e-01,\n",
       "        1.33398843e+00, 1.29419322e+00, 2.03376593e+00, 3.38712498e-02,\n",
       "        1.38410355e+00, 6.46405255e-01, 1.01228062e+00, 9.01464400e-01,\n",
       "        1.01615023e+00, 1.71756517e-01, 3.20914294e-01, 1.20631398e-01,\n",
       "        3.15742382e-01],\n",
       "       [1.74811219e+00, 1.07718413e+00, 1.83787368e-01, 5.25686526e-01,\n",
       "        1.53633499e-01, 5.54654236e-01, 1.07494491e+00, 1.46359453e+00,\n",
       "        2.52902772e-01, 2.00608527e-01, 1.70343367e+00, 1.64100356e+00,\n",
       "        1.64331129e+00, 9.07855874e-01, 1.06148574e+00, 1.04259994e+00,\n",
       "        1.65157553e+00],\n",
       "       [1.07351602e+00, 3.67523453e-01, 1.89464570e+00, 1.02408007e+00,\n",
       "        6.59499897e-01, 5.15731132e-01, 7.46815043e-01, 1.67395282e+00,\n",
       "        9.60638438e-02, 1.09220198e+00, 1.31507148e+00, 1.20114693e+00,\n",
       "        1.15651485e+00, 9.32392519e-01, 2.39451435e+00, 5.08375175e-01,\n",
       "        1.40869678e+00],\n",
       "       [2.95135825e-01, 1.34431656e-01, 7.03395634e-01, 1.46788766e+00,\n",
       "        7.45684543e-01, 7.49269758e-01, 8.83180700e-01, 2.15706380e-01,\n",
       "        8.74377027e-01, 4.23506891e-01, 8.63706227e-01, 5.63113151e-01,\n",
       "        5.29353795e-01, 1.30044220e+00, 1.65394290e+00, 2.67112380e-01,\n",
       "        1.19010590e+00],\n",
       "       [1.91351799e-01, 5.49842780e-01, 1.91581492e+00, 1.61028582e+00,\n",
       "        8.01891920e-01, 1.62503960e+00, 3.07888085e-01, 3.72583748e-01,\n",
       "        6.25395228e-01, 2.16211413e+00, 3.49337902e-01, 3.35934455e-01,\n",
       "        1.87401696e-01, 9.07855874e-01, 1.72800005e-01, 1.20631398e-01,\n",
       "        6.07196888e-01],\n",
       "       [6.77839422e-01, 6.61773000e-01, 8.55429164e-01, 1.41567500e+00,\n",
       "        8.28122030e-01, 4.57346476e-01, 4.99652290e-01, 7.68342561e-01,\n",
       "        7.72431723e-01, 6.68695091e-02, 6.03230859e-01, 2.77931383e-01,\n",
       "        2.99394742e-01, 9.07855874e-01, 1.30834289e+00, 2.67112380e-01,\n",
       "        1.70015129e-01],\n",
       "       [1.26162457e+00, 8.44092327e-01, 8.04430575e-01, 1.34328927e+00,\n",
       "        4.12187436e-02, 1.72234737e+00, 7.14854342e-01, 1.44576756e+00,\n",
       "        3.41124670e-01, 6.01825582e-01, 2.19711442e+00, 2.36604195e+00,\n",
       "        2.42726261e+00, 1.96293162e-01, 1.80205719e+00, 9.13352010e-01,\n",
       "        4.85757510e-02]])"
      ]
     },
     "execution_count": 88,
     "metadata": {},
     "output_type": "execute_result"
    }
   ],
   "source": [
    "z=np.abs(zscore(Baseball))\n",
    "z"
   ]
  },
  {
   "cell_type": "code",
   "execution_count": 89,
   "metadata": {
    "collapsed": true
   },
   "outputs": [
    {
     "name": "stdout",
     "output_type": "stream",
     "text": [
      "(array([5], dtype=int64), array([1], dtype=int64))\n"
     ]
    }
   ],
   "source": [
    "print(np.where(z>3))"
   ]
  },
  {
   "cell_type": "code",
   "execution_count": 91,
   "metadata": {
    "collapsed": true
   },
   "outputs": [
    {
     "data": {
      "text/html": [
       "<div>\n",
       "<style scoped>\n",
       "    .dataframe tbody tr th:only-of-type {\n",
       "        vertical-align: middle;\n",
       "    }\n",
       "\n",
       "    .dataframe tbody tr th {\n",
       "        vertical-align: top;\n",
       "    }\n",
       "\n",
       "    .dataframe thead th {\n",
       "        text-align: right;\n",
       "    }\n",
       "</style>\n",
       "<table border=\"1\" class=\"dataframe\">\n",
       "  <thead>\n",
       "    <tr style=\"text-align: right;\">\n",
       "      <th></th>\n",
       "      <th>W</th>\n",
       "      <th>R</th>\n",
       "      <th>AB</th>\n",
       "      <th>H</th>\n",
       "      <th>2B</th>\n",
       "      <th>3B</th>\n",
       "      <th>HR</th>\n",
       "      <th>BB</th>\n",
       "      <th>SO</th>\n",
       "      <th>SB</th>\n",
       "      <th>RA</th>\n",
       "      <th>ER</th>\n",
       "      <th>ERA</th>\n",
       "      <th>CG</th>\n",
       "      <th>SHO</th>\n",
       "      <th>SV</th>\n",
       "      <th>E</th>\n",
       "    </tr>\n",
       "  </thead>\n",
       "  <tbody>\n",
       "    <tr>\n",
       "      <th>0</th>\n",
       "      <td>95</td>\n",
       "      <td>724</td>\n",
       "      <td>5575</td>\n",
       "      <td>1497</td>\n",
       "      <td>300</td>\n",
       "      <td>42</td>\n",
       "      <td>139</td>\n",
       "      <td>383</td>\n",
       "      <td>973</td>\n",
       "      <td>104</td>\n",
       "      <td>641</td>\n",
       "      <td>601</td>\n",
       "      <td>3.73</td>\n",
       "      <td>2</td>\n",
       "      <td>8</td>\n",
       "      <td>56</td>\n",
       "      <td>88</td>\n",
       "    </tr>\n",
       "    <tr>\n",
       "      <th>1</th>\n",
       "      <td>83</td>\n",
       "      <td>696</td>\n",
       "      <td>5467</td>\n",
       "      <td>1349</td>\n",
       "      <td>277</td>\n",
       "      <td>44</td>\n",
       "      <td>156</td>\n",
       "      <td>439</td>\n",
       "      <td>1264</td>\n",
       "      <td>70</td>\n",
       "      <td>700</td>\n",
       "      <td>653</td>\n",
       "      <td>4.07</td>\n",
       "      <td>2</td>\n",
       "      <td>12</td>\n",
       "      <td>45</td>\n",
       "      <td>86</td>\n",
       "    </tr>\n",
       "    <tr>\n",
       "      <th>2</th>\n",
       "      <td>81</td>\n",
       "      <td>669</td>\n",
       "      <td>5439</td>\n",
       "      <td>1395</td>\n",
       "      <td>303</td>\n",
       "      <td>29</td>\n",
       "      <td>141</td>\n",
       "      <td>533</td>\n",
       "      <td>1157</td>\n",
       "      <td>86</td>\n",
       "      <td>640</td>\n",
       "      <td>584</td>\n",
       "      <td>3.67</td>\n",
       "      <td>11</td>\n",
       "      <td>10</td>\n",
       "      <td>38</td>\n",
       "      <td>79</td>\n",
       "    </tr>\n",
       "    <tr>\n",
       "      <th>3</th>\n",
       "      <td>76</td>\n",
       "      <td>622</td>\n",
       "      <td>5533</td>\n",
       "      <td>1381</td>\n",
       "      <td>260</td>\n",
       "      <td>27</td>\n",
       "      <td>136</td>\n",
       "      <td>404</td>\n",
       "      <td>1231</td>\n",
       "      <td>68</td>\n",
       "      <td>701</td>\n",
       "      <td>643</td>\n",
       "      <td>3.98</td>\n",
       "      <td>7</td>\n",
       "      <td>9</td>\n",
       "      <td>37</td>\n",
       "      <td>101</td>\n",
       "    </tr>\n",
       "    <tr>\n",
       "      <th>4</th>\n",
       "      <td>74</td>\n",
       "      <td>689</td>\n",
       "      <td>5605</td>\n",
       "      <td>1515</td>\n",
       "      <td>289</td>\n",
       "      <td>49</td>\n",
       "      <td>151</td>\n",
       "      <td>455</td>\n",
       "      <td>1259</td>\n",
       "      <td>83</td>\n",
       "      <td>803</td>\n",
       "      <td>746</td>\n",
       "      <td>4.64</td>\n",
       "      <td>7</td>\n",
       "      <td>12</td>\n",
       "      <td>35</td>\n",
       "      <td>86</td>\n",
       "    </tr>\n",
       "    <tr>\n",
       "      <th>6</th>\n",
       "      <td>87</td>\n",
       "      <td>764</td>\n",
       "      <td>5567</td>\n",
       "      <td>1397</td>\n",
       "      <td>272</td>\n",
       "      <td>19</td>\n",
       "      <td>212</td>\n",
       "      <td>554</td>\n",
       "      <td>1227</td>\n",
       "      <td>63</td>\n",
       "      <td>698</td>\n",
       "      <td>652</td>\n",
       "      <td>4.03</td>\n",
       "      <td>3</td>\n",
       "      <td>4</td>\n",
       "      <td>48</td>\n",
       "      <td>93</td>\n",
       "    </tr>\n",
       "    <tr>\n",
       "      <th>7</th>\n",
       "      <td>81</td>\n",
       "      <td>713</td>\n",
       "      <td>5485</td>\n",
       "      <td>1370</td>\n",
       "      <td>246</td>\n",
       "      <td>20</td>\n",
       "      <td>217</td>\n",
       "      <td>418</td>\n",
       "      <td>1331</td>\n",
       "      <td>44</td>\n",
       "      <td>693</td>\n",
       "      <td>646</td>\n",
       "      <td>4.05</td>\n",
       "      <td>0</td>\n",
       "      <td>10</td>\n",
       "      <td>43</td>\n",
       "      <td>77</td>\n",
       "    </tr>\n",
       "    <tr>\n",
       "      <th>8</th>\n",
       "      <td>80</td>\n",
       "      <td>644</td>\n",
       "      <td>5485</td>\n",
       "      <td>1383</td>\n",
       "      <td>278</td>\n",
       "      <td>32</td>\n",
       "      <td>167</td>\n",
       "      <td>436</td>\n",
       "      <td>1310</td>\n",
       "      <td>87</td>\n",
       "      <td>642</td>\n",
       "      <td>604</td>\n",
       "      <td>3.74</td>\n",
       "      <td>1</td>\n",
       "      <td>12</td>\n",
       "      <td>60</td>\n",
       "      <td>95</td>\n",
       "    </tr>\n",
       "    <tr>\n",
       "      <th>9</th>\n",
       "      <td>78</td>\n",
       "      <td>748</td>\n",
       "      <td>5640</td>\n",
       "      <td>1495</td>\n",
       "      <td>294</td>\n",
       "      <td>33</td>\n",
       "      <td>161</td>\n",
       "      <td>478</td>\n",
       "      <td>1148</td>\n",
       "      <td>71</td>\n",
       "      <td>753</td>\n",
       "      <td>694</td>\n",
       "      <td>4.31</td>\n",
       "      <td>3</td>\n",
       "      <td>10</td>\n",
       "      <td>40</td>\n",
       "      <td>97</td>\n",
       "    </tr>\n",
       "    <tr>\n",
       "      <th>10</th>\n",
       "      <td>88</td>\n",
       "      <td>751</td>\n",
       "      <td>5511</td>\n",
       "      <td>1419</td>\n",
       "      <td>279</td>\n",
       "      <td>32</td>\n",
       "      <td>172</td>\n",
       "      <td>503</td>\n",
       "      <td>1233</td>\n",
       "      <td>101</td>\n",
       "      <td>733</td>\n",
       "      <td>680</td>\n",
       "      <td>4.24</td>\n",
       "      <td>5</td>\n",
       "      <td>9</td>\n",
       "      <td>45</td>\n",
       "      <td>119</td>\n",
       "    </tr>\n",
       "    <tr>\n",
       "      <th>11</th>\n",
       "      <td>86</td>\n",
       "      <td>729</td>\n",
       "      <td>5459</td>\n",
       "      <td>1363</td>\n",
       "      <td>278</td>\n",
       "      <td>26</td>\n",
       "      <td>230</td>\n",
       "      <td>486</td>\n",
       "      <td>1392</td>\n",
       "      <td>121</td>\n",
       "      <td>618</td>\n",
       "      <td>572</td>\n",
       "      <td>3.57</td>\n",
       "      <td>5</td>\n",
       "      <td>13</td>\n",
       "      <td>39</td>\n",
       "      <td>85</td>\n",
       "    </tr>\n",
       "    <tr>\n",
       "      <th>12</th>\n",
       "      <td>85</td>\n",
       "      <td>661</td>\n",
       "      <td>5417</td>\n",
       "      <td>1331</td>\n",
       "      <td>243</td>\n",
       "      <td>21</td>\n",
       "      <td>176</td>\n",
       "      <td>435</td>\n",
       "      <td>1150</td>\n",
       "      <td>52</td>\n",
       "      <td>675</td>\n",
       "      <td>630</td>\n",
       "      <td>3.94</td>\n",
       "      <td>2</td>\n",
       "      <td>12</td>\n",
       "      <td>46</td>\n",
       "      <td>93</td>\n",
       "    </tr>\n",
       "    <tr>\n",
       "      <th>13</th>\n",
       "      <td>76</td>\n",
       "      <td>656</td>\n",
       "      <td>5544</td>\n",
       "      <td>1379</td>\n",
       "      <td>262</td>\n",
       "      <td>22</td>\n",
       "      <td>198</td>\n",
       "      <td>478</td>\n",
       "      <td>1336</td>\n",
       "      <td>69</td>\n",
       "      <td>726</td>\n",
       "      <td>677</td>\n",
       "      <td>4.16</td>\n",
       "      <td>6</td>\n",
       "      <td>12</td>\n",
       "      <td>45</td>\n",
       "      <td>94</td>\n",
       "    </tr>\n",
       "    <tr>\n",
       "      <th>14</th>\n",
       "      <td>68</td>\n",
       "      <td>694</td>\n",
       "      <td>5600</td>\n",
       "      <td>1405</td>\n",
       "      <td>277</td>\n",
       "      <td>46</td>\n",
       "      <td>146</td>\n",
       "      <td>475</td>\n",
       "      <td>1119</td>\n",
       "      <td>78</td>\n",
       "      <td>729</td>\n",
       "      <td>664</td>\n",
       "      <td>4.14</td>\n",
       "      <td>5</td>\n",
       "      <td>15</td>\n",
       "      <td>28</td>\n",
       "      <td>126</td>\n",
       "    </tr>\n",
       "    <tr>\n",
       "      <th>15</th>\n",
       "      <td>100</td>\n",
       "      <td>647</td>\n",
       "      <td>5484</td>\n",
       "      <td>1386</td>\n",
       "      <td>288</td>\n",
       "      <td>39</td>\n",
       "      <td>137</td>\n",
       "      <td>506</td>\n",
       "      <td>1267</td>\n",
       "      <td>69</td>\n",
       "      <td>525</td>\n",
       "      <td>478</td>\n",
       "      <td>2.94</td>\n",
       "      <td>1</td>\n",
       "      <td>15</td>\n",
       "      <td>62</td>\n",
       "      <td>96</td>\n",
       "    </tr>\n",
       "    <tr>\n",
       "      <th>16</th>\n",
       "      <td>98</td>\n",
       "      <td>697</td>\n",
       "      <td>5631</td>\n",
       "      <td>1462</td>\n",
       "      <td>292</td>\n",
       "      <td>27</td>\n",
       "      <td>140</td>\n",
       "      <td>461</td>\n",
       "      <td>1322</td>\n",
       "      <td>98</td>\n",
       "      <td>596</td>\n",
       "      <td>532</td>\n",
       "      <td>3.21</td>\n",
       "      <td>0</td>\n",
       "      <td>13</td>\n",
       "      <td>54</td>\n",
       "      <td>122</td>\n",
       "    </tr>\n",
       "    <tr>\n",
       "      <th>17</th>\n",
       "      <td>97</td>\n",
       "      <td>689</td>\n",
       "      <td>5491</td>\n",
       "      <td>1341</td>\n",
       "      <td>272</td>\n",
       "      <td>30</td>\n",
       "      <td>171</td>\n",
       "      <td>567</td>\n",
       "      <td>1518</td>\n",
       "      <td>95</td>\n",
       "      <td>608</td>\n",
       "      <td>546</td>\n",
       "      <td>3.36</td>\n",
       "      <td>6</td>\n",
       "      <td>21</td>\n",
       "      <td>48</td>\n",
       "      <td>111</td>\n",
       "    </tr>\n",
       "    <tr>\n",
       "      <th>18</th>\n",
       "      <td>68</td>\n",
       "      <td>655</td>\n",
       "      <td>5480</td>\n",
       "      <td>1378</td>\n",
       "      <td>274</td>\n",
       "      <td>34</td>\n",
       "      <td>145</td>\n",
       "      <td>412</td>\n",
       "      <td>1299</td>\n",
       "      <td>84</td>\n",
       "      <td>737</td>\n",
       "      <td>682</td>\n",
       "      <td>4.28</td>\n",
       "      <td>1</td>\n",
       "      <td>7</td>\n",
       "      <td>40</td>\n",
       "      <td>116</td>\n",
       "    </tr>\n",
       "    <tr>\n",
       "      <th>19</th>\n",
       "      <td>64</td>\n",
       "      <td>640</td>\n",
       "      <td>5571</td>\n",
       "      <td>1382</td>\n",
       "      <td>257</td>\n",
       "      <td>27</td>\n",
       "      <td>167</td>\n",
       "      <td>496</td>\n",
       "      <td>1255</td>\n",
       "      <td>134</td>\n",
       "      <td>754</td>\n",
       "      <td>700</td>\n",
       "      <td>4.33</td>\n",
       "      <td>2</td>\n",
       "      <td>8</td>\n",
       "      <td>35</td>\n",
       "      <td>90</td>\n",
       "    </tr>\n",
       "    <tr>\n",
       "      <th>20</th>\n",
       "      <td>90</td>\n",
       "      <td>683</td>\n",
       "      <td>5527</td>\n",
       "      <td>1351</td>\n",
       "      <td>295</td>\n",
       "      <td>17</td>\n",
       "      <td>177</td>\n",
       "      <td>488</td>\n",
       "      <td>1290</td>\n",
       "      <td>51</td>\n",
       "      <td>613</td>\n",
       "      <td>557</td>\n",
       "      <td>3.43</td>\n",
       "      <td>1</td>\n",
       "      <td>14</td>\n",
       "      <td>50</td>\n",
       "      <td>88</td>\n",
       "    </tr>\n",
       "    <tr>\n",
       "      <th>21</th>\n",
       "      <td>83</td>\n",
       "      <td>703</td>\n",
       "      <td>5428</td>\n",
       "      <td>1363</td>\n",
       "      <td>265</td>\n",
       "      <td>13</td>\n",
       "      <td>177</td>\n",
       "      <td>539</td>\n",
       "      <td>1344</td>\n",
       "      <td>57</td>\n",
       "      <td>635</td>\n",
       "      <td>577</td>\n",
       "      <td>3.62</td>\n",
       "      <td>4</td>\n",
       "      <td>13</td>\n",
       "      <td>41</td>\n",
       "      <td>90</td>\n",
       "    </tr>\n",
       "    <tr>\n",
       "      <th>22</th>\n",
       "      <td>71</td>\n",
       "      <td>613</td>\n",
       "      <td>5463</td>\n",
       "      <td>1420</td>\n",
       "      <td>236</td>\n",
       "      <td>40</td>\n",
       "      <td>120</td>\n",
       "      <td>375</td>\n",
       "      <td>1150</td>\n",
       "      <td>112</td>\n",
       "      <td>678</td>\n",
       "      <td>638</td>\n",
       "      <td>4.02</td>\n",
       "      <td>0</td>\n",
       "      <td>12</td>\n",
       "      <td>35</td>\n",
       "      <td>77</td>\n",
       "    </tr>\n",
       "    <tr>\n",
       "      <th>23</th>\n",
       "      <td>67</td>\n",
       "      <td>573</td>\n",
       "      <td>5420</td>\n",
       "      <td>1361</td>\n",
       "      <td>251</td>\n",
       "      <td>18</td>\n",
       "      <td>100</td>\n",
       "      <td>471</td>\n",
       "      <td>1107</td>\n",
       "      <td>69</td>\n",
       "      <td>760</td>\n",
       "      <td>698</td>\n",
       "      <td>4.41</td>\n",
       "      <td>3</td>\n",
       "      <td>10</td>\n",
       "      <td>44</td>\n",
       "      <td>90</td>\n",
       "    </tr>\n",
       "    <tr>\n",
       "      <th>24</th>\n",
       "      <td>63</td>\n",
       "      <td>626</td>\n",
       "      <td>5529</td>\n",
       "      <td>1374</td>\n",
       "      <td>272</td>\n",
       "      <td>37</td>\n",
       "      <td>130</td>\n",
       "      <td>387</td>\n",
       "      <td>1274</td>\n",
       "      <td>88</td>\n",
       "      <td>809</td>\n",
       "      <td>749</td>\n",
       "      <td>4.69</td>\n",
       "      <td>1</td>\n",
       "      <td>7</td>\n",
       "      <td>35</td>\n",
       "      <td>117</td>\n",
       "    </tr>\n",
       "    <tr>\n",
       "      <th>25</th>\n",
       "      <td>92</td>\n",
       "      <td>667</td>\n",
       "      <td>5385</td>\n",
       "      <td>1346</td>\n",
       "      <td>263</td>\n",
       "      <td>26</td>\n",
       "      <td>187</td>\n",
       "      <td>563</td>\n",
       "      <td>1258</td>\n",
       "      <td>59</td>\n",
       "      <td>595</td>\n",
       "      <td>553</td>\n",
       "      <td>3.44</td>\n",
       "      <td>6</td>\n",
       "      <td>21</td>\n",
       "      <td>47</td>\n",
       "      <td>75</td>\n",
       "    </tr>\n",
       "    <tr>\n",
       "      <th>26</th>\n",
       "      <td>84</td>\n",
       "      <td>696</td>\n",
       "      <td>5565</td>\n",
       "      <td>1486</td>\n",
       "      <td>288</td>\n",
       "      <td>39</td>\n",
       "      <td>136</td>\n",
       "      <td>457</td>\n",
       "      <td>1159</td>\n",
       "      <td>93</td>\n",
       "      <td>627</td>\n",
       "      <td>597</td>\n",
       "      <td>3.72</td>\n",
       "      <td>7</td>\n",
       "      <td>18</td>\n",
       "      <td>41</td>\n",
       "      <td>78</td>\n",
       "    </tr>\n",
       "    <tr>\n",
       "      <th>27</th>\n",
       "      <td>79</td>\n",
       "      <td>720</td>\n",
       "      <td>5649</td>\n",
       "      <td>1494</td>\n",
       "      <td>289</td>\n",
       "      <td>48</td>\n",
       "      <td>154</td>\n",
       "      <td>490</td>\n",
       "      <td>1312</td>\n",
       "      <td>132</td>\n",
       "      <td>713</td>\n",
       "      <td>659</td>\n",
       "      <td>4.04</td>\n",
       "      <td>1</td>\n",
       "      <td>12</td>\n",
       "      <td>44</td>\n",
       "      <td>86</td>\n",
       "    </tr>\n",
       "    <tr>\n",
       "      <th>28</th>\n",
       "      <td>74</td>\n",
       "      <td>650</td>\n",
       "      <td>5457</td>\n",
       "      <td>1324</td>\n",
       "      <td>260</td>\n",
       "      <td>36</td>\n",
       "      <td>148</td>\n",
       "      <td>426</td>\n",
       "      <td>1327</td>\n",
       "      <td>82</td>\n",
       "      <td>731</td>\n",
       "      <td>655</td>\n",
       "      <td>4.09</td>\n",
       "      <td>1</td>\n",
       "      <td>6</td>\n",
       "      <td>41</td>\n",
       "      <td>92</td>\n",
       "    </tr>\n",
       "    <tr>\n",
       "      <th>29</th>\n",
       "      <td>68</td>\n",
       "      <td>737</td>\n",
       "      <td>5572</td>\n",
       "      <td>1479</td>\n",
       "      <td>274</td>\n",
       "      <td>49</td>\n",
       "      <td>186</td>\n",
       "      <td>388</td>\n",
       "      <td>1283</td>\n",
       "      <td>97</td>\n",
       "      <td>844</td>\n",
       "      <td>799</td>\n",
       "      <td>5.04</td>\n",
       "      <td>4</td>\n",
       "      <td>4</td>\n",
       "      <td>36</td>\n",
       "      <td>95</td>\n",
       "    </tr>\n",
       "  </tbody>\n",
       "</table>\n",
       "</div>"
      ],
      "text/plain": [
       "      W    R    AB     H   2B  3B   HR   BB    SO   SB   RA   ER   ERA  CG  \\\n",
       "0    95  724  5575  1497  300  42  139  383   973  104  641  601  3.73   2   \n",
       "1    83  696  5467  1349  277  44  156  439  1264   70  700  653  4.07   2   \n",
       "2    81  669  5439  1395  303  29  141  533  1157   86  640  584  3.67  11   \n",
       "3    76  622  5533  1381  260  27  136  404  1231   68  701  643  3.98   7   \n",
       "4    74  689  5605  1515  289  49  151  455  1259   83  803  746  4.64   7   \n",
       "6    87  764  5567  1397  272  19  212  554  1227   63  698  652  4.03   3   \n",
       "7    81  713  5485  1370  246  20  217  418  1331   44  693  646  4.05   0   \n",
       "8    80  644  5485  1383  278  32  167  436  1310   87  642  604  3.74   1   \n",
       "9    78  748  5640  1495  294  33  161  478  1148   71  753  694  4.31   3   \n",
       "10   88  751  5511  1419  279  32  172  503  1233  101  733  680  4.24   5   \n",
       "11   86  729  5459  1363  278  26  230  486  1392  121  618  572  3.57   5   \n",
       "12   85  661  5417  1331  243  21  176  435  1150   52  675  630  3.94   2   \n",
       "13   76  656  5544  1379  262  22  198  478  1336   69  726  677  4.16   6   \n",
       "14   68  694  5600  1405  277  46  146  475  1119   78  729  664  4.14   5   \n",
       "15  100  647  5484  1386  288  39  137  506  1267   69  525  478  2.94   1   \n",
       "16   98  697  5631  1462  292  27  140  461  1322   98  596  532  3.21   0   \n",
       "17   97  689  5491  1341  272  30  171  567  1518   95  608  546  3.36   6   \n",
       "18   68  655  5480  1378  274  34  145  412  1299   84  737  682  4.28   1   \n",
       "19   64  640  5571  1382  257  27  167  496  1255  134  754  700  4.33   2   \n",
       "20   90  683  5527  1351  295  17  177  488  1290   51  613  557  3.43   1   \n",
       "21   83  703  5428  1363  265  13  177  539  1344   57  635  577  3.62   4   \n",
       "22   71  613  5463  1420  236  40  120  375  1150  112  678  638  4.02   0   \n",
       "23   67  573  5420  1361  251  18  100  471  1107   69  760  698  4.41   3   \n",
       "24   63  626  5529  1374  272  37  130  387  1274   88  809  749  4.69   1   \n",
       "25   92  667  5385  1346  263  26  187  563  1258   59  595  553  3.44   6   \n",
       "26   84  696  5565  1486  288  39  136  457  1159   93  627  597  3.72   7   \n",
       "27   79  720  5649  1494  289  48  154  490  1312  132  713  659  4.04   1   \n",
       "28   74  650  5457  1324  260  36  148  426  1327   82  731  655  4.09   1   \n",
       "29   68  737  5572  1479  274  49  186  388  1283   97  844  799  5.04   4   \n",
       "\n",
       "    SHO  SV    E  \n",
       "0     8  56   88  \n",
       "1    12  45   86  \n",
       "2    10  38   79  \n",
       "3     9  37  101  \n",
       "4    12  35   86  \n",
       "6     4  48   93  \n",
       "7    10  43   77  \n",
       "8    12  60   95  \n",
       "9    10  40   97  \n",
       "10    9  45  119  \n",
       "11   13  39   85  \n",
       "12   12  46   93  \n",
       "13   12  45   94  \n",
       "14   15  28  126  \n",
       "15   15  62   96  \n",
       "16   13  54  122  \n",
       "17   21  48  111  \n",
       "18    7  40  116  \n",
       "19    8  35   90  \n",
       "20   14  50   88  \n",
       "21   13  41   90  \n",
       "22   12  35   77  \n",
       "23   10  44   90  \n",
       "24    7  35  117  \n",
       "25   21  47   75  \n",
       "26   18  41   78  \n",
       "27   12  44   86  \n",
       "28    6  41   92  \n",
       "29    4  36   95  "
      ]
     },
     "execution_count": 91,
     "metadata": {},
     "output_type": "execute_result"
    }
   ],
   "source": [
    "Baseball_New=Baseball[(z<3).all(axis=1)]\n",
    "Baseball_New"
   ]
  },
  {
   "cell_type": "code",
   "execution_count": 92,
   "metadata": {},
   "outputs": [
    {
     "data": {
      "text/plain": [
       "(29, 17)"
      ]
     },
     "execution_count": 92,
     "metadata": {},
     "output_type": "execute_result"
    }
   ],
   "source": [
    "Baseball_New.shape\n",
    "#Since the data loss as per the new dataset is around 3%, we can go ahead with the new dataset for our analysis"
   ]
  },
  {
   "cell_type": "code",
   "execution_count": 93,
   "metadata": {
    "collapsed": true
   },
   "outputs": [
    {
     "data": {
      "text/plain": [
       "W      0.119013\n",
       "R     -0.215364\n",
       "AB     0.169573\n",
       "H      0.783772\n",
       "2B    -0.335304\n",
       "3B     0.090124\n",
       "HR     0.450862\n",
       "BB     0.151193\n",
       "SO    -0.233815\n",
       "SB     0.494966\n",
       "RA     0.018155\n",
       "ER     0.018461\n",
       "ERA    0.016693\n",
       "CG     0.854980\n",
       "SHO    0.526943\n",
       "SV     0.627480\n",
       "E      0.840271\n",
       "dtype: float64"
      ]
     },
     "execution_count": 93,
     "metadata": {},
     "output_type": "execute_result"
    }
   ],
   "source": [
    "#Now lets check for the skewness in the dataset and treat if the values are above 0.5\n",
    "Baseball_New.skew()"
   ]
  },
  {
   "cell_type": "code",
   "execution_count": 94,
   "metadata": {},
   "outputs": [],
   "source": [
    "#As per the skewness check above, we can remove the skewness in H,CG,SHO,SV,E\n",
    "#Lets use power transform function for the same to remove skewness"
   ]
  },
  {
   "cell_type": "code",
   "execution_count": 96,
   "metadata": {},
   "outputs": [],
   "source": [
    "Baseball_New[\"H\"]=power_transform(Baseball_New[\"H\"].values.reshape(-1,1))"
   ]
  },
  {
   "cell_type": "code",
   "execution_count": 97,
   "metadata": {},
   "outputs": [],
   "source": [
    "Baseball_New[\"CG\"]=power_transform(Baseball_New[\"CG\"].values.reshape(-1,1))"
   ]
  },
  {
   "cell_type": "code",
   "execution_count": 98,
   "metadata": {},
   "outputs": [],
   "source": [
    "Baseball_New[\"SHO\"]=power_transform(Baseball_New[\"SHO\"].values.reshape(-1,1))"
   ]
  },
  {
   "cell_type": "code",
   "execution_count": 100,
   "metadata": {},
   "outputs": [],
   "source": [
    "Baseball_New[\"SV\"]=power_transform(Baseball_New[\"SV\"].values.reshape(-1,1))"
   ]
  },
  {
   "cell_type": "code",
   "execution_count": 101,
   "metadata": {},
   "outputs": [],
   "source": [
    "Baseball_New[\"E\"]=power_transform(Baseball_New[\"E\"].values.reshape(-1,1))"
   ]
  },
  {
   "cell_type": "code",
   "execution_count": 102,
   "metadata": {},
   "outputs": [],
   "source": [
    "#Lets check the skewness again after removing it from the above mentioned attributes"
   ]
  },
  {
   "cell_type": "code",
   "execution_count": 103,
   "metadata": {
    "collapsed": true
   },
   "outputs": [
    {
     "data": {
      "text/plain": [
       "W      0.119013\n",
       "R     -0.215364\n",
       "AB     0.169573\n",
       "H      0.000000\n",
       "2B    -0.335304\n",
       "3B     0.090124\n",
       "HR     0.450862\n",
       "BB     0.151193\n",
       "SO    -0.233815\n",
       "SB     0.494966\n",
       "RA     0.018155\n",
       "ER     0.018461\n",
       "ERA    0.016693\n",
       "CG    -0.045947\n",
       "SHO    0.000529\n",
       "SV    -0.033949\n",
       "E      0.065585\n",
       "dtype: float64"
      ]
     },
     "execution_count": 103,
     "metadata": {},
     "output_type": "execute_result"
    }
   ],
   "source": [
    "Baseball_New.skew()"
   ]
  },
  {
   "cell_type": "code",
   "execution_count": 104,
   "metadata": {},
   "outputs": [],
   "source": [
    "#We seem to have treated all the skewness from the attributes mentioned above."
   ]
  },
  {
   "cell_type": "code",
   "execution_count": 105,
   "metadata": {},
   "outputs": [],
   "source": [
    "#Now lets separate variables x and y before performing machine learning"
   ]
  },
  {
   "cell_type": "code",
   "execution_count": 110,
   "metadata": {},
   "outputs": [
    {
     "data": {
      "text/plain": [
       "(29, 16)"
      ]
     },
     "execution_count": 110,
     "metadata": {},
     "output_type": "execute_result"
    }
   ],
   "source": [
    "# We have called all the independent variables\n",
    "x=Baseball_New.iloc[:,1:]\n",
    "x.shape"
   ]
  },
  {
   "cell_type": "code",
   "execution_count": 112,
   "metadata": {},
   "outputs": [
    {
     "data": {
      "text/plain": [
       "(29,)"
      ]
     },
     "execution_count": 112,
     "metadata": {},
     "output_type": "execute_result"
    }
   ],
   "source": [
    "#Now lets call the target variable\n",
    "y=Baseball_New[\"W\"]\n",
    "y.shape"
   ]
  },
  {
   "cell_type": "code",
   "execution_count": 113,
   "metadata": {},
   "outputs": [],
   "source": [
    "#Now lets use standard scaler to scale down the independent variables  inorder to create unbiasness for the algorithms to learn "
   ]
  },
  {
   "cell_type": "code",
   "execution_count": 115,
   "metadata": {
    "collapsed": true
   },
   "outputs": [
    {
     "data": {
      "text/plain": [
       "array([[ 9.59398345e-01,  8.30084222e-01,  0.00000000e+00,\n",
       "         1.55653766e+00,  1.01084549e+00, -7.65863143e-01,\n",
       "        -1.53635899e+00, -2.72762331e+00,  9.05952902e-01,\n",
       "        -6.64513529e-01, -5.11148124e-01, -5.11388277e-01,\n",
       "        -3.07098204e-01, -7.87002186e-01,  1.52534194e+00,\n",
       "        -3.48265262e-01],\n",
       "       [ 3.31147171e-01, -7.02830744e-01,  0.00000000e+00,\n",
       "         2.01171316e-01,  1.20891656e+00, -1.81388639e-01,\n",
       "        -4.95020511e-01,  1.21895521e-01, -5.85315147e-01,\n",
       "         1.54638235e-01,  2.32160816e-01,  2.38952260e-01,\n",
       "        -3.07098204e-01,  2.36736538e-01,  3.16899471e-01,\n",
       "        -5.40819806e-01],\n",
       "       [-2.74666462e-01, -1.10025314e+00,  0.00000000e+00,\n",
       "         1.73332457e+00, -2.76616501e-01, -6.97101437e-01,\n",
       "         1.25294051e+00, -9.25865699e-01,  1.16458052e-01,\n",
       "        -6.78397458e-01, -7.54152970e-01, -6.43801313e-01,\n",
       "         2.01131531e+00, -2.52844176e-01, -6.61517926e-01,\n",
       "        -1.32612477e+00],\n",
       "       [-1.32923093e+00,  2.33950624e-01,  0.00000000e+00,\n",
       "        -8.00621197e-01, -4.74687576e-01, -8.69005703e-01,\n",
       "        -1.14585706e+00, -2.01245790e-01, -6.73036797e-01,\n",
       "         1.68522163e-01,  8.92167892e-02,  4.03327064e-02,\n",
       "         1.26446344e+00, -5.13554932e-01, -8.19467725e-01,\n",
       "         6.50818351e-01],\n",
       "       [ 1.74084377e-01,  1.25589393e+00,  0.00000000e+00,\n",
       "         9.08318973e-01,  1.70409425e+00, -3.53292905e-01,\n",
       "        -1.97495230e-01,  7.29347159e-02, -1.51244224e-02,\n",
       "         1.58468284e+00,  1.56154027e+00,  1.49687610e+00,\n",
       "         1.26446344e+00,  2.36736538e-01, -1.15156197e+00,\n",
       "        -5.40819806e-01],\n",
       "       [ 1.85690002e+00,  7.16534965e-01,  0.00000000e+00,\n",
       "        -9.34735408e-02, -1.26697188e+00,  1.74393914e+00,\n",
       "         1.64344245e+00, -2.40414434e-01, -8.92340921e-01,\n",
       "         1.26870378e-01,  2.17866413e-01,  1.50676903e-01,\n",
       "         1.21870592e-01, -2.06403920e+00,  6.79746933e-01,\n",
       "         8.28582419e-02],\n",
       "       [ 7.12585384e-01, -4.47344917e-01,  0.00000000e+00,\n",
       "        -1.62562680e+00, -1.16793634e+00,  1.91584340e+00,\n",
       "        -8.85522442e-01,  7.77970303e-01, -1.72569660e+00,\n",
       "         5.74507374e-02,  1.32099997e-01,  1.94814582e-01,\n",
       "        -1.73289617e+00, -2.52844176e-01,  5.78808279e-02,\n",
       "        -1.58819729e+00],\n",
       "       [-8.35605011e-01, -4.47344917e-01,  0.00000000e+00,\n",
       "         2.60100287e-01,  2.04901112e-02,  1.96800746e-01,\n",
       "        -5.50806501e-01,  5.72334924e-01,  1.60318877e-01,\n",
       "        -6.50629601e-01, -4.68264916e-01, -4.89319438e-01,\n",
       "        -8.70681710e-01,  2.36736538e-01,  1.89479407e+00,\n",
       "         2.37592499e-01],\n",
       "       [ 1.49789935e+00,  1.75267193e+00,  0.00000000e+00,\n",
       "         1.20296383e+00,  1.19525649e-01, -9.48437329e-03,\n",
       "         2.30197362e-01, -1.01399515e+00, -5.41454322e-01,\n",
       "         8.90486430e-01,  8.18231327e-01,  7.68604404e-01,\n",
       "         1.21870592e-01, -2.52844176e-01, -3.60397311e-01,\n",
       "         3.83385575e-01],\n",
       "       [ 1.56521198e+00, -7.83098322e-02,  0.00000000e+00,\n",
       "         3.19029259e-01,  2.04901112e-02,  3.68705012e-01,\n",
       "         6.95080613e-01, -1.81661468e-01,  7.74370427e-01,\n",
       "         6.12807866e-01,  6.18109689e-01,  6.14122529e-01,\n",
       "         7.70648979e-01, -5.13554932e-01,  3.16899471e-01,\n",
       "         1.55426515e+00],\n",
       "       [ 1.07158606e+00, -8.16380001e-01,  0.00000000e+00,\n",
       "         2.60100287e-01, -5.73723114e-01,  2.36279450e+00,\n",
       "         3.78960002e-01,  1.37529212e+00,  1.65158693e+00,\n",
       "        -9.83843878e-01, -9.25685802e-01, -8.64489706e-01,\n",
       "         7.70648979e-01,  4.68029391e-01, -5.08580533e-01,\n",
       "        -6.41925514e-01],\n",
       "       [-4.54166797e-01, -1.41251360e+00,  0.00000000e+00,\n",
       "        -1.80241371e+00, -1.06890080e+00,  5.06228424e-01,\n",
       "        -5.69401831e-01, -9.94410826e-01, -1.37481000e+00,\n",
       "        -1.92459970e-01, -9.66104458e-02, -4.79426510e-02,\n",
       "        -3.07098204e-01,  2.36736538e-01,  4.41089573e-01,\n",
       "         8.28582419e-02],\n",
       "       [-5.66354507e-01,  3.90080852e-01,  0.00000000e+00,\n",
       "        -6.82763255e-01, -9.69865264e-01,  1.26260719e+00,\n",
       "         2.30197362e-01,  8.26931108e-01, -6.29175972e-01,\n",
       "         5.15620368e-01,  5.75226481e-01,  4.37571814e-01,\n",
       "         1.03166276e+00,  2.36736538e-01,  3.16899471e-01,\n",
       "         1.61388488e-01],\n",
       "       [ 2.86272087e-01,  1.18492565e+00,  0.00000000e+00,\n",
       "         2.01171316e-01,  1.40698764e+00, -5.25197171e-01,\n",
       "         1.74411372e-01, -1.29796781e+00, -2.34428547e-01,\n",
       "         5.57272153e-01,  3.89399246e-01,  3.93434136e-01,\n",
       "         7.70648979e-01,  9.08147185e-01, -2.52362101e+00,\n",
       "         1.81055287e+00],\n",
       "       [-7.68292385e-01, -4.61538574e-01,  0.00000000e+00,\n",
       "         8.49390001e-01,  7.13738874e-01, -8.34624850e-01,\n",
       "         7.50866603e-01,  1.51272003e-01, -6.29175972e-01,\n",
       "        -2.27504920e+00, -2.26935966e+00, -2.25482658e+00,\n",
       "        -8.70681710e-01,  9.08147185e-01,  2.06851040e+00,\n",
       "         3.11562350e-01],\n",
       "       [ 3.53584713e-01,  1.62492902e+00,  0.00000000e+00,\n",
       "         1.08510589e+00, -4.74687576e-01, -7.31482290e-01,\n",
       "        -8.59232492e-02,  6.89840855e-01,  6.42787952e-01,\n",
       "        -1.28929030e+00, -1.49746191e+00, -1.65896792e+00,\n",
       "        -1.73289617e+00,  4.68029391e-01,  1.32840271e+00,\n",
       "         1.66920917e+00],\n",
       "       [ 1.74084377e-01, -3.62182974e-01,  0.00000000e+00,\n",
       "        -9.34735408e-02, -1.77580964e-01,  3.34324158e-01,\n",
       "         1.88518174e+00,  2.60910440e+00,  5.11205477e-01,\n",
       "        -1.12268316e+00, -1.29734027e+00, -1.32793533e+00,\n",
       "         1.03166276e+00,  2.09085582e+00,  6.79746933e-01,\n",
       "         1.20371501e+00],\n",
       "       [-5.88792049e-01, -5.18313202e-01,  0.00000000e+00,\n",
       "         2.43844020e-02,  2.18561186e-01, -5.59578024e-01,\n",
       "        -9.97094422e-01,  4.64621153e-01,  2.87364026e-02,\n",
       "         6.68343579e-01,  6.46698494e-01,  7.02397886e-01,\n",
       "        -8.70681710e-01, -1.07533963e+00, -3.60397311e-01,\n",
       "         1.43081026e+00],\n",
       "       [-9.25355178e-01,  7.73309593e-01,  0.00000000e+00,\n",
       "        -9.77408112e-01, -4.74687576e-01,  1.96800746e-01,\n",
       "         5.64913303e-01,  3.37660722e-02,  2.22177765e+00,\n",
       "         9.04370358e-01,  9.03997743e-01,  8.12742083e-01,\n",
       "        -3.07098204e-01, -7.87002186e-01, -1.15156197e+00,\n",
       "        -1.67684998e-01],\n",
       "       [ 3.94591255e-02,  1.48788681e-01,  0.00000000e+00,\n",
       "         1.26189280e+00, -1.46504295e+00,  5.40609278e-01,\n",
       "         4.16150662e-01,  3.76491705e-01, -1.41867082e+00,\n",
       "        -1.05326352e+00, -1.14010184e+00, -1.17345346e+00,\n",
       "        -8.70681710e-01,  6.91582693e-01,  9.06484017e-01,\n",
       "        -3.48265262e-01],\n",
       "       [ 4.88209964e-01, -1.25638337e+00,  0.00000000e+00,\n",
       "        -5.05976341e-01, -1.86118510e+00,  5.40609278e-01,\n",
       "         1.36451250e+00,  9.05268395e-01, -1.15550587e+00,\n",
       "        -7.47817099e-01, -8.54213789e-01, -7.54145510e-01,\n",
       "         4.72300348e-01,  4.68029391e-01, -2.16732546e-01,\n",
       "        -1.67684998e-01],\n",
       "       [-1.53116881e+00, -7.59605373e-01,  0.00000000e+00,\n",
       "        -2.21491651e+00,  8.12774411e-01, -1.41909935e+00,\n",
       "        -1.68512163e+00, -9.94410826e-01,  1.25683950e+00,\n",
       "        -1.50808186e-01,  1.77447758e-02,  1.28608064e-01,\n",
       "        -1.73289617e+00,  2.36736538e-01, -1.15156197e+00,\n",
       "        -1.58819729e+00],\n",
       "       [-2.42867049e+00, -1.36993263e+00,  0.00000000e+00,\n",
       "        -1.33098194e+00, -1.36600741e+00, -2.10671642e+00,\n",
       "         1.00030051e-01, -1.41547375e+00, -6.29175972e-01,\n",
       "         9.87673927e-01,  8.75408937e-01,  9.89292798e-01,\n",
       "         1.21870592e-01, -2.52844176e-01,  1.89230434e-01,\n",
       "        -1.67684998e-01],\n",
       "       [-1.23948077e+00,  1.77175995e-01,  0.00000000e+00,\n",
       "        -9.34735408e-02,  5.15667799e-01, -1.07529082e+00,\n",
       "        -1.46197767e+00,  2.19817130e-01,  2.04179702e-01,\n",
       "         1.66798641e+00,  1.60442347e+00,  1.60722030e+00,\n",
       "        -8.70681710e-01, -1.07533963e+00, -1.15156197e+00,\n",
       "         1.47295923e+00],\n",
       "       [-3.19541546e-01, -1.86671063e+00,  0.00000000e+00,\n",
       "        -6.23834283e-01, -5.73723114e-01,  8.84417809e-01,\n",
       "         1.81080042e+00,  6.31425550e-02, -1.06778422e+00,\n",
       "        -1.30317423e+00, -1.19727945e+00, -1.15138462e+00,\n",
       "         1.03166276e+00,  2.09085582e+00,  5.61983227e-01,\n",
       "        -1.87019087e+00],\n",
       "       [ 3.31147171e-01,  6.88147651e-01,  0.00000000e+00,\n",
       "         8.49390001e-01,  7.13738874e-01, -8.69005703e-01,\n",
       "        -1.60304569e-01, -9.06281377e-01,  4.23483827e-01,\n",
       "        -8.58888524e-01, -5.68325735e-01, -5.33457116e-01,\n",
       "         1.26446344e+00,  1.52182832e+00, -2.16732546e-01,\n",
       "        -1.45479212e+00],\n",
       "       [ 8.69648178e-01,  1.88041485e+00,  0.00000000e+00,\n",
       "         9.08318973e-01,  1.60505871e+00, -2.50150346e-01,\n",
       "         4.53341322e-01,  5.91919245e-01,  2.13405600e+00,\n",
       "         3.35129302e-01,  3.17927232e-01,  1.72745742e-01,\n",
       "        -8.70681710e-01,  2.36736538e-01,  1.89230434e-01,\n",
       "        -5.40819806e-01],\n",
       "       [-7.00979759e-01, -8.44767315e-01,  0.00000000e+00,\n",
       "        -8.00621197e-01,  4.16632261e-01, -4.56435465e-01,\n",
       "        -7.36759801e-01,  7.38801659e-01, -5.89852474e-02,\n",
       "         5.85040009e-01,  2.60749622e-01,  2.83089939e-01,\n",
       "        -8.70681710e-01, -1.38141238e+00, -2.16732546e-01,\n",
       "         1.90485434e-03],\n",
       "       [ 1.25108639e+00,  7.87503250e-01,  0.00000000e+00,\n",
       "         2.43844020e-02,  1.70409425e+00,  8.50036956e-01,\n",
       "        -1.44338234e+00,  3.07946578e-01,  5.98927127e-01,\n",
       "         2.15392390e+00,  2.31914361e+00,  2.37962968e+00,\n",
       "         4.72300348e-01, -2.06403920e+00, -9.82712591e-01,\n",
       "         2.37592499e-01]])"
      ]
     },
     "execution_count": 115,
     "metadata": {},
     "output_type": "execute_result"
    }
   ],
   "source": [
    "S=StandardScaler()\n",
    "x=S.fit_transform(x)\n",
    "x"
   ]
  },
  {
   "cell_type": "code",
   "execution_count": 151,
   "metadata": {},
   "outputs": [
    {
     "name": "stdout",
     "output_type": "stream",
     "text": [
      "(20, 16)\n",
      "(9, 16)\n",
      "(20,)\n",
      "(9,)\n"
     ]
    }
   ],
   "source": [
    "x_train,x_test,y_train,y_test=train_test_split(x,y,test_size=0.3,random_state=50)\n",
    "print(x_train.shape)\n",
    "print(x_test.shape)\n",
    "print(y_train.shape)\n",
    "print(y_test.shape)"
   ]
  },
  {
   "cell_type": "code",
   "execution_count": 152,
   "metadata": {},
   "outputs": [],
   "source": [
    "#Lets use four algorithms to check the r2 score. The algorithms used are: 1) Linear Regression,2) Decision Tree,3)Lasso,4)Ridge"
   ]
  },
  {
   "cell_type": "code",
   "execution_count": 161,
   "metadata": {},
   "outputs": [
    {
     "name": "stdout",
     "output_type": "stream",
     "text": [
      "0.79620560451077\n",
      "[ 0.73767888 -0.35726093  0.64160283  0.35499186 -0.2805967 ]\n",
      "0.21928318826804913\n",
      "0.457774581375957\n"
     ]
    }
   ],
   "source": [
    "#1) Linear Regression\n",
    "lm=LinearRegression()\n",
    "lm.fit(x_train,y_train)\n",
    "#lets predict y values\n",
    "pred1=lm.predict(x_test)\n",
    "print(r2_score(y_test,pred1))\n",
    "score1=cross_val_score(lm,x,y,cv=5)\n",
    "print(score1)\n",
    "print(score1.mean())\n",
    "print(score1.std())"
   ]
  },
  {
   "cell_type": "code",
   "execution_count": 171,
   "metadata": {},
   "outputs": [
    {
     "name": "stdout",
     "output_type": "stream",
     "text": [
      "0.6122505161734344\n",
      "[ 0.03986364 -1.74947368  0.37873693  0.36019672  0.80542453]\n",
      "-0.033050373615756114\n",
      "0.8920400951039675\n"
     ]
    }
   ],
   "source": [
    "knn=KNeighborsRegressor()\n",
    "knn.fit(x_train,y_train)\n",
    "#predict y_values\n",
    "pred2=knn.predict(x_test)\n",
    "print(r2_score(y_test,pred2))\n",
    "score2=cross_val_score(knn,x,y,cv=5)\n",
    "print(score2)\n",
    "print(score2.mean())\n",
    "print(score2.std())"
   ]
  },
  {
   "cell_type": "code",
   "execution_count": 178,
   "metadata": {},
   "outputs": [
    {
     "name": "stdout",
     "output_type": "stream",
     "text": [
      "0.8640443272627811\n",
      "[ 0.74286211 -0.60554234  0.75646712  0.78086991  0.88086062]\n",
      "0.5111034843436381\n",
      "0.5604119083062634\n"
     ]
    }
   ],
   "source": [
    "#3) Lasso\n",
    "ls=Lasso()\n",
    "ls.fit(x_train,y_train)\n",
    "#predict y_values\n",
    "pred3=ls.predict(x_test)\n",
    "print(r2_score(y_test,pred3))\n",
    "score3=cross_val_score(ls,x,y,cv=5)\n",
    "print(score3)\n",
    "print(score3.mean())\n",
    "print(score3.std())"
   ]
  },
  {
   "cell_type": "code",
   "execution_count": 179,
   "metadata": {},
   "outputs": [
    {
     "name": "stdout",
     "output_type": "stream",
     "text": [
      "0.9260638290495905\n",
      "[ 0.61102103 -0.80556364  0.71144984  0.90842608  0.81709529]\n",
      "0.4484857213016962\n",
      "0.6349213817686078\n"
     ]
    }
   ],
   "source": [
    "#4) Ridge\n",
    "rd=Ridge()\n",
    "rd.fit(x_train,y_train)\n",
    "#predict y_values\n",
    "pred4=rd.predict(x_test)\n",
    "print(r2_score(y_test,pred4))\n",
    "score4=cross_val_score(rd,x,y,cv=5)\n",
    "print(score4)\n",
    "print(score4.mean())\n",
    "print(score4.std())"
   ]
  },
  {
   "cell_type": "code",
   "execution_count": 184,
   "metadata": {},
   "outputs": [],
   "source": [
    "# Lasso is the best fit model as the difference between the r2_score and cross_val_score mean is the least. \n",
    "#Lets perform hypertuning to increase the r2_score"
   ]
  },
  {
   "cell_type": "code",
   "execution_count": 193,
   "metadata": {},
   "outputs": [
    {
     "data": {
      "text/plain": [
       "RandomizedSearchCV(estimator=Lasso(),\n",
       "                   param_distributions={'alpha': [0.1, 0, 0.001, 0.0001],\n",
       "                                        'fit_intercept': [True, False],\n",
       "                                        'max_iter': [1000, 750, 1100, 500],\n",
       "                                        'normalize': [True, False],\n",
       "                                        'random_state': [42, 20, 60, 80]})"
      ]
     },
     "execution_count": 193,
     "metadata": {},
     "output_type": "execute_result"
    }
   ],
   "source": [
    "parameters={\"alpha\":[0.1,0,0.001,0.0001],\"fit_intercept\":[True,False],\"normalize\":[True,False],\"max_iter\":[1000,750,1100,500],\"random_state\":[42,20,60,80]}\n",
    "rsearch=RandomizedSearchCV(ls,parameters)\n",
    "rsearch.fit(x_train,y_train)"
   ]
  },
  {
   "cell_type": "code",
   "execution_count": 194,
   "metadata": {},
   "outputs": [
    {
     "name": "stdout",
     "output_type": "stream",
     "text": [
      "{'random_state': 42, 'normalize': True, 'max_iter': 500, 'fit_intercept': True, 'alpha': 0.0001}\n",
      "-1.7834081763500471\n",
      "Lasso(alpha=0.0001, max_iter=500, normalize=True, random_state=42)\n"
     ]
    }
   ],
   "source": [
    "print(rsearch.best_params_)\n",
    "print(rsearch.best_score_)\n",
    "print(rsearch.best_estimator_)"
   ]
  },
  {
   "cell_type": "code",
   "execution_count": 197,
   "metadata": {},
   "outputs": [
    {
     "name": "stdout",
     "output_type": "stream",
     "text": [
      "0.9185507488864348\n"
     ]
    }
   ],
   "source": [
    "#now lets put these values back to the lasso model\n",
    "ls1=Lasso(normalize=False,max_iter=1100,fit_intercept=True,alpha=0.1,random_state=42)\n",
    "ls1.fit(x_train,y_train)\n",
    "#predict y_values\n",
    "pred5=ls1.predict(x_test)\n",
    "print(r2_score(y_test,pred5))"
   ]
  },
  {
   "cell_type": "code",
   "execution_count": 196,
   "metadata": {},
   "outputs": [
    {
     "data": {
      "text/plain": [
       "['ls1.obj']"
      ]
     },
     "execution_count": 196,
     "metadata": {},
     "output_type": "execute_result"
    }
   ],
   "source": [
    "#Lets serialise the model\n",
    "joblib.dump(ls,\"ls1.obj\")"
   ]
  },
  {
   "cell_type": "code",
   "execution_count": null,
   "metadata": {},
   "outputs": [],
   "source": []
  }
 ],
 "metadata": {
  "kernelspec": {
   "display_name": "Python 3",
   "language": "python",
   "name": "python3"
  },
  "language_info": {
   "codemirror_mode": {
    "name": "ipython",
    "version": 3
   },
   "file_extension": ".py",
   "mimetype": "text/x-python",
   "name": "python",
   "nbconvert_exporter": "python",
   "pygments_lexer": "ipython3",
   "version": "3.8.5"
  }
 },
 "nbformat": 4,
 "nbformat_minor": 4
}
