{
 "cells": [
  {
   "cell_type": "markdown",
   "metadata": {},
   "source": [
    "Advertising Sales channel prediction. Its a regression problem as the target variables are numberic values"
   ]
  },
  {
   "cell_type": "code",
   "execution_count": 95,
   "metadata": {},
   "outputs": [],
   "source": [
    "import pandas as pd\n",
    "import numpy as np\n",
    "import matplotlib.pyplot as plt\n",
    "import seaborn as sns\n",
    "import joblib\n",
    "from sklearn.preprocessing import power_transform\n",
    "from sklearn.preprocessing import StandardScaler\n",
    "from sklearn.linear_model import LinearRegression\n",
    "from sklearn.tree import DecisionTreeRegressor\n",
    "from sklearn.linear_model import Lasso,Ridge\n",
    "from sklearn.model_selection import train_test_split\n",
    "from sklearn.model_selection import cross_val_score\n",
    "from sklearn.model_selection import RandomizedSearchCV\n",
    "from sklearn.metrics import r2_score\n",
    "import warnings\n",
    "warnings.filterwarnings(\"ignore\")"
   ]
  },
  {
   "cell_type": "code",
   "execution_count": 10,
   "metadata": {},
   "outputs": [
    {
     "data": {
      "text/html": [
       "<div>\n",
       "<style scoped>\n",
       "    .dataframe tbody tr th:only-of-type {\n",
       "        vertical-align: middle;\n",
       "    }\n",
       "\n",
       "    .dataframe tbody tr th {\n",
       "        vertical-align: top;\n",
       "    }\n",
       "\n",
       "    .dataframe thead th {\n",
       "        text-align: right;\n",
       "    }\n",
       "</style>\n",
       "<table border=\"1\" class=\"dataframe\">\n",
       "  <thead>\n",
       "    <tr style=\"text-align: right;\">\n",
       "      <th></th>\n",
       "      <th>Unnamed: 0</th>\n",
       "      <th>TV</th>\n",
       "      <th>radio</th>\n",
       "      <th>newspaper</th>\n",
       "      <th>sales</th>\n",
       "    </tr>\n",
       "  </thead>\n",
       "  <tbody>\n",
       "    <tr>\n",
       "      <th>0</th>\n",
       "      <td>1</td>\n",
       "      <td>230.1</td>\n",
       "      <td>37.8</td>\n",
       "      <td>69.2</td>\n",
       "      <td>22.1</td>\n",
       "    </tr>\n",
       "    <tr>\n",
       "      <th>1</th>\n",
       "      <td>2</td>\n",
       "      <td>44.5</td>\n",
       "      <td>39.3</td>\n",
       "      <td>45.1</td>\n",
       "      <td>10.4</td>\n",
       "    </tr>\n",
       "    <tr>\n",
       "      <th>2</th>\n",
       "      <td>3</td>\n",
       "      <td>17.2</td>\n",
       "      <td>45.9</td>\n",
       "      <td>69.3</td>\n",
       "      <td>9.3</td>\n",
       "    </tr>\n",
       "    <tr>\n",
       "      <th>3</th>\n",
       "      <td>4</td>\n",
       "      <td>151.5</td>\n",
       "      <td>41.3</td>\n",
       "      <td>58.5</td>\n",
       "      <td>18.5</td>\n",
       "    </tr>\n",
       "    <tr>\n",
       "      <th>4</th>\n",
       "      <td>5</td>\n",
       "      <td>180.8</td>\n",
       "      <td>10.8</td>\n",
       "      <td>58.4</td>\n",
       "      <td>12.9</td>\n",
       "    </tr>\n",
       "    <tr>\n",
       "      <th>...</th>\n",
       "      <td>...</td>\n",
       "      <td>...</td>\n",
       "      <td>...</td>\n",
       "      <td>...</td>\n",
       "      <td>...</td>\n",
       "    </tr>\n",
       "    <tr>\n",
       "      <th>195</th>\n",
       "      <td>196</td>\n",
       "      <td>38.2</td>\n",
       "      <td>3.7</td>\n",
       "      <td>13.8</td>\n",
       "      <td>7.6</td>\n",
       "    </tr>\n",
       "    <tr>\n",
       "      <th>196</th>\n",
       "      <td>197</td>\n",
       "      <td>94.2</td>\n",
       "      <td>4.9</td>\n",
       "      <td>8.1</td>\n",
       "      <td>9.7</td>\n",
       "    </tr>\n",
       "    <tr>\n",
       "      <th>197</th>\n",
       "      <td>198</td>\n",
       "      <td>177.0</td>\n",
       "      <td>9.3</td>\n",
       "      <td>6.4</td>\n",
       "      <td>12.8</td>\n",
       "    </tr>\n",
       "    <tr>\n",
       "      <th>198</th>\n",
       "      <td>199</td>\n",
       "      <td>283.6</td>\n",
       "      <td>42.0</td>\n",
       "      <td>66.2</td>\n",
       "      <td>25.5</td>\n",
       "    </tr>\n",
       "    <tr>\n",
       "      <th>199</th>\n",
       "      <td>200</td>\n",
       "      <td>232.1</td>\n",
       "      <td>8.6</td>\n",
       "      <td>8.7</td>\n",
       "      <td>13.4</td>\n",
       "    </tr>\n",
       "  </tbody>\n",
       "</table>\n",
       "<p>200 rows × 5 columns</p>\n",
       "</div>"
      ],
      "text/plain": [
       "     Unnamed: 0     TV  radio  newspaper  sales\n",
       "0             1  230.1   37.8       69.2   22.1\n",
       "1             2   44.5   39.3       45.1   10.4\n",
       "2             3   17.2   45.9       69.3    9.3\n",
       "3             4  151.5   41.3       58.5   18.5\n",
       "4             5  180.8   10.8       58.4   12.9\n",
       "..          ...    ...    ...        ...    ...\n",
       "195         196   38.2    3.7       13.8    7.6\n",
       "196         197   94.2    4.9        8.1    9.7\n",
       "197         198  177.0    9.3        6.4   12.8\n",
       "198         199  283.6   42.0       66.2   25.5\n",
       "199         200  232.1    8.6        8.7   13.4\n",
       "\n",
       "[200 rows x 5 columns]"
      ]
     },
     "execution_count": 10,
     "metadata": {},
     "output_type": "execute_result"
    }
   ],
   "source": [
    "# Lets begin by reading the csv file\n",
    "Advert=pd.read_csv(\"Advertising.csv\")\n",
    "Advert"
   ]
  },
  {
   "cell_type": "code",
   "execution_count": 13,
   "metadata": {},
   "outputs": [
    {
     "data": {
      "text/html": [
       "<div>\n",
       "<style scoped>\n",
       "    .dataframe tbody tr th:only-of-type {\n",
       "        vertical-align: middle;\n",
       "    }\n",
       "\n",
       "    .dataframe tbody tr th {\n",
       "        vertical-align: top;\n",
       "    }\n",
       "\n",
       "    .dataframe thead th {\n",
       "        text-align: right;\n",
       "    }\n",
       "</style>\n",
       "<table border=\"1\" class=\"dataframe\">\n",
       "  <thead>\n",
       "    <tr style=\"text-align: right;\">\n",
       "      <th></th>\n",
       "      <th>Unnamed: 0</th>\n",
       "      <th>TV</th>\n",
       "      <th>radio</th>\n",
       "      <th>newspaper</th>\n",
       "      <th>sales</th>\n",
       "    </tr>\n",
       "  </thead>\n",
       "  <tbody>\n",
       "    <tr>\n",
       "      <th>0</th>\n",
       "      <td>1</td>\n",
       "      <td>230.1</td>\n",
       "      <td>37.8</td>\n",
       "      <td>69.2</td>\n",
       "      <td>22.1</td>\n",
       "    </tr>\n",
       "    <tr>\n",
       "      <th>1</th>\n",
       "      <td>2</td>\n",
       "      <td>44.5</td>\n",
       "      <td>39.3</td>\n",
       "      <td>45.1</td>\n",
       "      <td>10.4</td>\n",
       "    </tr>\n",
       "    <tr>\n",
       "      <th>2</th>\n",
       "      <td>3</td>\n",
       "      <td>17.2</td>\n",
       "      <td>45.9</td>\n",
       "      <td>69.3</td>\n",
       "      <td>9.3</td>\n",
       "    </tr>\n",
       "    <tr>\n",
       "      <th>3</th>\n",
       "      <td>4</td>\n",
       "      <td>151.5</td>\n",
       "      <td>41.3</td>\n",
       "      <td>58.5</td>\n",
       "      <td>18.5</td>\n",
       "    </tr>\n",
       "    <tr>\n",
       "      <th>4</th>\n",
       "      <td>5</td>\n",
       "      <td>180.8</td>\n",
       "      <td>10.8</td>\n",
       "      <td>58.4</td>\n",
       "      <td>12.9</td>\n",
       "    </tr>\n",
       "    <tr>\n",
       "      <th>...</th>\n",
       "      <td>...</td>\n",
       "      <td>...</td>\n",
       "      <td>...</td>\n",
       "      <td>...</td>\n",
       "      <td>...</td>\n",
       "    </tr>\n",
       "    <tr>\n",
       "      <th>195</th>\n",
       "      <td>196</td>\n",
       "      <td>38.2</td>\n",
       "      <td>3.7</td>\n",
       "      <td>13.8</td>\n",
       "      <td>7.6</td>\n",
       "    </tr>\n",
       "    <tr>\n",
       "      <th>196</th>\n",
       "      <td>197</td>\n",
       "      <td>94.2</td>\n",
       "      <td>4.9</td>\n",
       "      <td>8.1</td>\n",
       "      <td>9.7</td>\n",
       "    </tr>\n",
       "    <tr>\n",
       "      <th>197</th>\n",
       "      <td>198</td>\n",
       "      <td>177.0</td>\n",
       "      <td>9.3</td>\n",
       "      <td>6.4</td>\n",
       "      <td>12.8</td>\n",
       "    </tr>\n",
       "    <tr>\n",
       "      <th>198</th>\n",
       "      <td>199</td>\n",
       "      <td>283.6</td>\n",
       "      <td>42.0</td>\n",
       "      <td>66.2</td>\n",
       "      <td>25.5</td>\n",
       "    </tr>\n",
       "    <tr>\n",
       "      <th>199</th>\n",
       "      <td>200</td>\n",
       "      <td>232.1</td>\n",
       "      <td>8.6</td>\n",
       "      <td>8.7</td>\n",
       "      <td>13.4</td>\n",
       "    </tr>\n",
       "  </tbody>\n",
       "</table>\n",
       "<p>200 rows × 5 columns</p>\n",
       "</div>"
      ],
      "text/plain": [
       "     Unnamed: 0     TV  radio  newspaper  sales\n",
       "0             1  230.1   37.8       69.2   22.1\n",
       "1             2   44.5   39.3       45.1   10.4\n",
       "2             3   17.2   45.9       69.3    9.3\n",
       "3             4  151.5   41.3       58.5   18.5\n",
       "4             5  180.8   10.8       58.4   12.9\n",
       "..          ...    ...    ...        ...    ...\n",
       "195         196   38.2    3.7       13.8    7.6\n",
       "196         197   94.2    4.9        8.1    9.7\n",
       "197         198  177.0    9.3        6.4   12.8\n",
       "198         199  283.6   42.0       66.2   25.5\n",
       "199         200  232.1    8.6        8.7   13.4\n",
       "\n",
       "[200 rows x 5 columns]"
      ]
     },
     "execution_count": 13,
     "metadata": {},
     "output_type": "execute_result"
    }
   ],
   "source": [
    "#Lets convert the csv file into a DataFrame\n",
    "Advertising_channel=pd.DataFrame(data=Advert)\n",
    "Advertising_channel"
   ]
  },
  {
   "cell_type": "code",
   "execution_count": 15,
   "metadata": {
    "collapsed": true
   },
   "outputs": [
    {
     "data": {
      "text/plain": [
       "(200, 5)"
      ]
     },
     "execution_count": 15,
     "metadata": {},
     "output_type": "execute_result"
    }
   ],
   "source": [
    "Advertising_channel.shape\n",
    "#The dataset has 200 rows and 5 columns"
   ]
  },
  {
   "cell_type": "code",
   "execution_count": 18,
   "metadata": {
    "collapsed": true
   },
   "outputs": [
    {
     "data": {
      "text/plain": [
       "Unnamed: 0      int64\n",
       "TV            float64\n",
       "radio         float64\n",
       "newspaper     float64\n",
       "sales         float64\n",
       "dtype: object"
      ]
     },
     "execution_count": 18,
     "metadata": {},
     "output_type": "execute_result"
    }
   ],
   "source": [
    "Advertising_channel.dtypes\n",
    "#The datatypes are float or interger"
   ]
  },
  {
   "cell_type": "code",
   "execution_count": 19,
   "metadata": {
    "collapsed": true
   },
   "outputs": [
    {
     "data": {
      "text/plain": [
       "Unnamed: 0    0\n",
       "TV            0\n",
       "radio         0\n",
       "newspaper     0\n",
       "sales         0\n",
       "dtype: int64"
      ]
     },
     "execution_count": 19,
     "metadata": {},
     "output_type": "execute_result"
    }
   ],
   "source": [
    "#look out for any null values\n",
    "Advertising_channel.isnull().sum()\n",
    "#There are no null values"
   ]
  },
  {
   "cell_type": "code",
   "execution_count": 20,
   "metadata": {
    "collapsed": true
   },
   "outputs": [
    {
     "data": {
      "text/plain": [
       "<AxesSubplot:>"
      ]
     },
     "execution_count": 20,
     "metadata": {},
     "output_type": "execute_result"
    },
    {
     "data": {
      "image/png": "[encoded data removed]",
      "text/plain": [
       "<Figure size 432x288 with 2 Axes>"
      ]
     },
     "metadata": {
      "needs_background": "light"
     },
     "output_type": "display_data"
    }
   ],
   "source": [
    "#Lets use heatmap to confirm that there are no null values\n",
    "sns.heatmap(Advertising_channel.isnull())\n",
    "#It is confirmed that there are no null values"
   ]
  },
  {
   "cell_type": "code",
   "execution_count": 26,
   "metadata": {},
   "outputs": [
    {
     "data": {
      "text/html": [
       "<div>\n",
       "<style scoped>\n",
       "    .dataframe tbody tr th:only-of-type {\n",
       "        vertical-align: middle;\n",
       "    }\n",
       "\n",
       "    .dataframe tbody tr th {\n",
       "        vertical-align: top;\n",
       "    }\n",
       "\n",
       "    .dataframe thead th {\n",
       "        text-align: right;\n",
       "    }\n",
       "</style>\n",
       "<table border=\"1\" class=\"dataframe\">\n",
       "  <thead>\n",
       "    <tr style=\"text-align: right;\">\n",
       "      <th></th>\n",
       "      <th>Unnamed: 0</th>\n",
       "      <th>TV</th>\n",
       "      <th>radio</th>\n",
       "      <th>newspaper</th>\n",
       "      <th>sales</th>\n",
       "    </tr>\n",
       "  </thead>\n",
       "  <tbody>\n",
       "    <tr>\n",
       "      <th>count</th>\n",
       "      <td>200.000000</td>\n",
       "      <td>200.000000</td>\n",
       "      <td>200.000000</td>\n",
       "      <td>200.000000</td>\n",
       "      <td>200.000000</td>\n",
       "    </tr>\n",
       "    <tr>\n",
       "      <th>mean</th>\n",
       "      <td>100.500000</td>\n",
       "      <td>147.042500</td>\n",
       "      <td>23.264000</td>\n",
       "      <td>30.554000</td>\n",
       "      <td>14.022500</td>\n",
       "    </tr>\n",
       "    <tr>\n",
       "      <th>std</th>\n",
       "      <td>57.879185</td>\n",
       "      <td>85.854236</td>\n",
       "      <td>14.846809</td>\n",
       "      <td>21.778621</td>\n",
       "      <td>5.217457</td>\n",
       "    </tr>\n",
       "    <tr>\n",
       "      <th>min</th>\n",
       "      <td>1.000000</td>\n",
       "      <td>0.700000</td>\n",
       "      <td>0.000000</td>\n",
       "      <td>0.300000</td>\n",
       "      <td>1.600000</td>\n",
       "    </tr>\n",
       "    <tr>\n",
       "      <th>25%</th>\n",
       "      <td>50.750000</td>\n",
       "      <td>74.375000</td>\n",
       "      <td>9.975000</td>\n",
       "      <td>12.750000</td>\n",
       "      <td>10.375000</td>\n",
       "    </tr>\n",
       "    <tr>\n",
       "      <th>50%</th>\n",
       "      <td>100.500000</td>\n",
       "      <td>149.750000</td>\n",
       "      <td>22.900000</td>\n",
       "      <td>25.750000</td>\n",
       "      <td>12.900000</td>\n",
       "    </tr>\n",
       "    <tr>\n",
       "      <th>75%</th>\n",
       "      <td>150.250000</td>\n",
       "      <td>218.825000</td>\n",
       "      <td>36.525000</td>\n",
       "      <td>45.100000</td>\n",
       "      <td>17.400000</td>\n",
       "    </tr>\n",
       "    <tr>\n",
       "      <th>max</th>\n",
       "      <td>200.000000</td>\n",
       "      <td>296.400000</td>\n",
       "      <td>49.600000</td>\n",
       "      <td>114.000000</td>\n",
       "      <td>27.000000</td>\n",
       "    </tr>\n",
       "  </tbody>\n",
       "</table>\n",
       "</div>"
      ],
      "text/plain": [
       "       Unnamed: 0          TV       radio   newspaper       sales\n",
       "count  200.000000  200.000000  200.000000  200.000000  200.000000\n",
       "mean   100.500000  147.042500   23.264000   30.554000   14.022500\n",
       "std     57.879185   85.854236   14.846809   21.778621    5.217457\n",
       "min      1.000000    0.700000    0.000000    0.300000    1.600000\n",
       "25%     50.750000   74.375000    9.975000   12.750000   10.375000\n",
       "50%    100.500000  149.750000   22.900000   25.750000   12.900000\n",
       "75%    150.250000  218.825000   36.525000   45.100000   17.400000\n",
       "max    200.000000  296.400000   49.600000  114.000000   27.000000"
      ]
     },
     "execution_count": 26,
     "metadata": {},
     "output_type": "execute_result"
    }
   ],
   "source": [
    "Advertising_channel.describe()\n",
    "# skewness is the most in newspaper as the difference between the mean and the median values is the most. Rest of the attributes, TV and radio seem to follow a normal distribution.\n",
    "# the standard deviation is the maximum in TV i.e. the spread of the data is the most in that attribute"
   ]
  },
  {
   "cell_type": "code",
   "execution_count": 21,
   "metadata": {},
   "outputs": [],
   "source": [
    "#Lets perform univariate analysis on independent variables"
   ]
  },
  {
   "cell_type": "code",
   "execution_count": 22,
   "metadata": {
    "collapsed": true
   },
   "outputs": [
    {
     "data": {
      "text/plain": [
       "<AxesSubplot:xlabel='TV'>"
      ]
     },
     "execution_count": 22,
     "metadata": {},
     "output_type": "execute_result"
    },
    {
     "data": {
      "image/png": "[encoded data removed]",
      "text/plain": [
       "<Figure size 432x288 with 1 Axes>"
      ]
     },
     "metadata": {
      "needs_background": "light"
     },
     "output_type": "display_data"
    }
   ],
   "source": [
    "sns.boxplot(x=\"TV\",data=Advertising_channel)\n",
    "#the minimum value is 0.7. The median value is 150 and the maximum value is 296"
   ]
  },
  {
   "cell_type": "code",
   "execution_count": 27,
   "metadata": {
    "collapsed": true
   },
   "outputs": [
    {
     "data": {
      "text/plain": [
       "<AxesSubplot:xlabel='TV', ylabel='Density'>"
      ]
     },
     "execution_count": 27,
     "metadata": {},
     "output_type": "execute_result"
    },
    {
     "data": {
      "image/png": "[encoded data removed]",
      "text/plain": [
       "<Figure size 432x288 with 1 Axes>"
      ]
     },
     "metadata": {
      "needs_background": "light"
     },
     "output_type": "display_data"
    }
   ],
   "source": [
    "sns.distplot(Advertising_channel[\"TV\"],kde=True)\n",
    "#the density is evenly distributed between 0 and 250"
   ]
  },
  {
   "cell_type": "code",
   "execution_count": 28,
   "metadata": {
    "collapsed": true
   },
   "outputs": [
    {
     "data": {
      "text/plain": [
       "<AxesSubplot:xlabel='radio'>"
      ]
     },
     "execution_count": 28,
     "metadata": {},
     "output_type": "execute_result"
    },
    {
     "data": {
      "image/png": "[encoded data removed]",
      "text/plain": [
       "<Figure size 432x288 with 1 Axes>"
      ]
     },
     "metadata": {
      "needs_background": "light"
     },
     "output_type": "display_data"
    }
   ],
   "source": [
    "sns.boxplot(Advertising_channel[\"radio\"])\n",
    "#the minimum value is 0. The meidan value is 23 and the maximum value is 50"
   ]
  },
  {
   "cell_type": "code",
   "execution_count": 29,
   "metadata": {
    "collapsed": true
   },
   "outputs": [
    {
     "data": {
      "text/plain": [
       "<AxesSubplot:xlabel='radio', ylabel='Density'>"
      ]
     },
     "execution_count": 29,
     "metadata": {},
     "output_type": "execute_result"
    },
    {
     "data": {
      "image/png": "[encoded data removed]",
      "text/plain": [
       "<Figure size 432x288 with 1 Axes>"
      ]
     },
     "metadata": {
      "needs_background": "light"
     },
     "output_type": "display_data"
    }
   ],
   "source": [
    "sns.distplot(Advertising_channel[\"radio\"])\n",
    "#the density of more or less evenly distributed between 0 and 50"
   ]
  },
  {
   "cell_type": "code",
   "execution_count": 30,
   "metadata": {
    "collapsed": true
   },
   "outputs": [
    {
     "data": {
      "text/plain": [
       "<AxesSubplot:xlabel='newspaper'>"
      ]
     },
     "execution_count": 30,
     "metadata": {},
     "output_type": "execute_result"
    },
    {
     "data": {
      "image/png": "[encoded data removed]",
      "text/plain": [
       "<Figure size 432x288 with 1 Axes>"
      ]
     },
     "metadata": {
      "needs_background": "light"
     },
     "output_type": "display_data"
    }
   ],
   "source": [
    "sns.boxplot(Advertising_channel[\"newspaper\"])\n",
    "#the minimum value is 0.3. The meidan value is 26 and the maximum value is 114"
   ]
  },
  {
   "cell_type": "code",
   "execution_count": 31,
   "metadata": {
    "collapsed": true
   },
   "outputs": [
    {
     "data": {
      "text/plain": [
       "<AxesSubplot:xlabel='newspaper', ylabel='Density'>"
      ]
     },
     "execution_count": 31,
     "metadata": {},
     "output_type": "execute_result"
    },
    {
     "data": {
      "image/png": "[encoded data removed]",
      "text/plain": [
       "<Figure size 432x288 with 1 Axes>"
      ]
     },
     "metadata": {
      "needs_background": "light"
     },
     "output_type": "display_data"
    }
   ],
   "source": [
    "sns.distplot(Advertising_channel[\"newspaper\"])\n",
    "#the sknewss is to the right and the density is distributed between 0 to 20"
   ]
  },
  {
   "cell_type": "code",
   "execution_count": 32,
   "metadata": {},
   "outputs": [],
   "source": [
    "#Lets perform bivariate analysis"
   ]
  },
  {
   "cell_type": "code",
   "execution_count": 36,
   "metadata": {
    "collapsed": true
   },
   "outputs": [
    {
     "data": {
      "text/plain": [
       "<seaborn.axisgrid.FacetGrid at 0x214d35a1fa0>"
      ]
     },
     "execution_count": 36,
     "metadata": {},
     "output_type": "execute_result"
    },
    {
     "data": {
      "image/png": "[encoded data removed]",
      "text/plain": [
       "<Figure size 360x360 with 1 Axes>"
      ]
     },
     "metadata": {
      "needs_background": "light"
     },
     "output_type": "display_data"
    }
   ],
   "source": [
    "sns.relplot(x=\"TV\",y=\"sales\",kind=\"scatter\",data=Advertising_channel)\n",
    "# the pattern seems to be that of a linear regression with total sales and TV having a direct relationship"
   ]
  },
  {
   "cell_type": "code",
   "execution_count": 37,
   "metadata": {
    "collapsed": true
   },
   "outputs": [
    {
     "data": {
      "text/plain": [
       "<seaborn.axisgrid.FacetGrid at 0x214d55739a0>"
      ]
     },
     "execution_count": 37,
     "metadata": {},
     "output_type": "execute_result"
    },
    {
     "data": {
      "image/png": "[encoded data removed]",
      "text/plain": [
       "<Figure size 360x360 with 1 Axes>"
      ]
     },
     "metadata": {
      "needs_background": "light"
     },
     "output_type": "display_data"
    }
   ],
   "source": [
    "sns.relplot(x=\"radio\",y=\"sales\",kind=\"scatter\",data=Advertising_channel)\n",
    "# In most cases, the total sales increase with increase in distribution of radio"
   ]
  },
  {
   "cell_type": "code",
   "execution_count": 39,
   "metadata": {
    "collapsed": true
   },
   "outputs": [
    {
     "data": {
      "text/plain": [
       "<seaborn.axisgrid.FacetGrid at 0x214d56adfd0>"
      ]
     },
     "execution_count": 39,
     "metadata": {},
     "output_type": "execute_result"
    },
    {
     "data": {
      "image/png": "[encoded data removed]",
      "text/plain": [
       "<Figure size 360x360 with 1 Axes>"
      ]
     },
     "metadata": {
      "needs_background": "light"
     },
     "output_type": "display_data"
    }
   ],
   "source": [
    "sns.relplot(x=\"newspaper\",y=\"sales\",kind=\"scatter\",data=Advertising_channel)\n",
    "# In most cases, the total sales increase with increase in distribution of newspaper but the plot is not linear."
   ]
  },
  {
   "cell_type": "code",
   "execution_count": 40,
   "metadata": {},
   "outputs": [],
   "source": [
    "#Since outliers are only present in newspaper and that too hardly any there is no need to remove outliers"
   ]
  },
  {
   "cell_type": "code",
   "execution_count": 42,
   "metadata": {},
   "outputs": [
    {
     "data": {
      "text/plain": [
       "Unnamed: 0    0.000000\n",
       "TV           -0.069853\n",
       "radio         0.094175\n",
       "newspaper     0.894720\n",
       "sales         0.407571\n",
       "dtype: float64"
      ]
     },
     "execution_count": 42,
     "metadata": {},
     "output_type": "execute_result"
    }
   ],
   "source": [
    "Advertising_channel.skew()"
   ]
  },
  {
   "cell_type": "code",
   "execution_count": 41,
   "metadata": {},
   "outputs": [],
   "source": [
    "#lets treat the skewness present in newspaper"
   ]
  },
  {
   "cell_type": "code",
   "execution_count": 49,
   "metadata": {
    "collapsed": true
   },
   "outputs": [
    {
     "data": {
      "text/html": [
       "<div>\n",
       "<style scoped>\n",
       "    .dataframe tbody tr th:only-of-type {\n",
       "        vertical-align: middle;\n",
       "    }\n",
       "\n",
       "    .dataframe tbody tr th {\n",
       "        vertical-align: top;\n",
       "    }\n",
       "\n",
       "    .dataframe thead th {\n",
       "        text-align: right;\n",
       "    }\n",
       "</style>\n",
       "<table border=\"1\" class=\"dataframe\">\n",
       "  <thead>\n",
       "    <tr style=\"text-align: right;\">\n",
       "      <th></th>\n",
       "      <th>Unnamed: 0</th>\n",
       "      <th>TV</th>\n",
       "      <th>radio</th>\n",
       "      <th>newspaper</th>\n",
       "      <th>sales</th>\n",
       "    </tr>\n",
       "  </thead>\n",
       "  <tbody>\n",
       "    <tr>\n",
       "      <th>0</th>\n",
       "      <td>1</td>\n",
       "      <td>230.1</td>\n",
       "      <td>37.8</td>\n",
       "      <td>1.544296</td>\n",
       "      <td>22.1</td>\n",
       "    </tr>\n",
       "    <tr>\n",
       "      <th>1</th>\n",
       "      <td>2</td>\n",
       "      <td>44.5</td>\n",
       "      <td>39.3</td>\n",
       "      <td>0.781636</td>\n",
       "      <td>10.4</td>\n",
       "    </tr>\n",
       "    <tr>\n",
       "      <th>2</th>\n",
       "      <td>3</td>\n",
       "      <td>17.2</td>\n",
       "      <td>45.9</td>\n",
       "      <td>1.547119</td>\n",
       "      <td>9.3</td>\n",
       "    </tr>\n",
       "    <tr>\n",
       "      <th>3</th>\n",
       "      <td>4</td>\n",
       "      <td>151.5</td>\n",
       "      <td>41.3</td>\n",
       "      <td>1.227819</td>\n",
       "      <td>18.5</td>\n",
       "    </tr>\n",
       "    <tr>\n",
       "      <th>4</th>\n",
       "      <td>5</td>\n",
       "      <td>180.8</td>\n",
       "      <td>10.8</td>\n",
       "      <td>1.224714</td>\n",
       "      <td>12.9</td>\n",
       "    </tr>\n",
       "    <tr>\n",
       "      <th>...</th>\n",
       "      <td>...</td>\n",
       "      <td>...</td>\n",
       "      <td>...</td>\n",
       "      <td>...</td>\n",
       "      <td>...</td>\n",
       "    </tr>\n",
       "    <tr>\n",
       "      <th>195</th>\n",
       "      <td>196</td>\n",
       "      <td>38.2</td>\n",
       "      <td>3.7</td>\n",
       "      <td>-0.693519</td>\n",
       "      <td>7.6</td>\n",
       "    </tr>\n",
       "    <tr>\n",
       "      <th>196</th>\n",
       "      <td>197</td>\n",
       "      <td>94.2</td>\n",
       "      <td>4.9</td>\n",
       "      <td>-1.135005</td>\n",
       "      <td>9.7</td>\n",
       "    </tr>\n",
       "    <tr>\n",
       "      <th>197</th>\n",
       "      <td>198</td>\n",
       "      <td>177.0</td>\n",
       "      <td>9.3</td>\n",
       "      <td>-1.297774</td>\n",
       "      <td>12.8</td>\n",
       "    </tr>\n",
       "    <tr>\n",
       "      <th>198</th>\n",
       "      <td>199</td>\n",
       "      <td>283.6</td>\n",
       "      <td>42.0</td>\n",
       "      <td>1.458526</td>\n",
       "      <td>25.5</td>\n",
       "    </tr>\n",
       "    <tr>\n",
       "      <th>199</th>\n",
       "      <td>200</td>\n",
       "      <td>232.1</td>\n",
       "      <td>8.6</td>\n",
       "      <td>-1.081934</td>\n",
       "      <td>13.4</td>\n",
       "    </tr>\n",
       "  </tbody>\n",
       "</table>\n",
       "<p>200 rows × 5 columns</p>\n",
       "</div>"
      ],
      "text/plain": [
       "     Unnamed: 0     TV  radio  newspaper  sales\n",
       "0             1  230.1   37.8   1.544296   22.1\n",
       "1             2   44.5   39.3   0.781636   10.4\n",
       "2             3   17.2   45.9   1.547119    9.3\n",
       "3             4  151.5   41.3   1.227819   18.5\n",
       "4             5  180.8   10.8   1.224714   12.9\n",
       "..          ...    ...    ...        ...    ...\n",
       "195         196   38.2    3.7  -0.693519    7.6\n",
       "196         197   94.2    4.9  -1.135005    9.7\n",
       "197         198  177.0    9.3  -1.297774   12.8\n",
       "198         199  283.6   42.0   1.458526   25.5\n",
       "199         200  232.1    8.6  -1.081934   13.4\n",
       "\n",
       "[200 rows x 5 columns]"
      ]
     },
     "execution_count": 49,
     "metadata": {},
     "output_type": "execute_result"
    }
   ],
   "source": [
    "Advertising_channel[\"newspaper\"]=power_transform(Advertising_channel[\"newspaper\"].values.reshape(-1,1))\n",
    "Advertising_channel"
   ]
  },
  {
   "cell_type": "code",
   "execution_count": 58,
   "metadata": {},
   "outputs": [],
   "source": [
    "#lets start machine learning before which lets separate x and y"
   ]
  },
  {
   "cell_type": "code",
   "execution_count": 60,
   "metadata": {
    "collapsed": true
   },
   "outputs": [
    {
     "data": {
      "text/html": [
       "<div>\n",
       "<style scoped>\n",
       "    .dataframe tbody tr th:only-of-type {\n",
       "        vertical-align: middle;\n",
       "    }\n",
       "\n",
       "    .dataframe tbody tr th {\n",
       "        vertical-align: top;\n",
       "    }\n",
       "\n",
       "    .dataframe thead th {\n",
       "        text-align: right;\n",
       "    }\n",
       "</style>\n",
       "<table border=\"1\" class=\"dataframe\">\n",
       "  <thead>\n",
       "    <tr style=\"text-align: right;\">\n",
       "      <th></th>\n",
       "      <th>radio</th>\n",
       "      <th>newspaper</th>\n",
       "      <th>sales</th>\n",
       "    </tr>\n",
       "  </thead>\n",
       "  <tbody>\n",
       "    <tr>\n",
       "      <th>0</th>\n",
       "      <td>37.8</td>\n",
       "      <td>1.544296</td>\n",
       "      <td>22.1</td>\n",
       "    </tr>\n",
       "    <tr>\n",
       "      <th>1</th>\n",
       "      <td>39.3</td>\n",
       "      <td>0.781636</td>\n",
       "      <td>10.4</td>\n",
       "    </tr>\n",
       "    <tr>\n",
       "      <th>2</th>\n",
       "      <td>45.9</td>\n",
       "      <td>1.547119</td>\n",
       "      <td>9.3</td>\n",
       "    </tr>\n",
       "    <tr>\n",
       "      <th>3</th>\n",
       "      <td>41.3</td>\n",
       "      <td>1.227819</td>\n",
       "      <td>18.5</td>\n",
       "    </tr>\n",
       "    <tr>\n",
       "      <th>4</th>\n",
       "      <td>10.8</td>\n",
       "      <td>1.224714</td>\n",
       "      <td>12.9</td>\n",
       "    </tr>\n",
       "    <tr>\n",
       "      <th>...</th>\n",
       "      <td>...</td>\n",
       "      <td>...</td>\n",
       "      <td>...</td>\n",
       "    </tr>\n",
       "    <tr>\n",
       "      <th>195</th>\n",
       "      <td>3.7</td>\n",
       "      <td>-0.693519</td>\n",
       "      <td>7.6</td>\n",
       "    </tr>\n",
       "    <tr>\n",
       "      <th>196</th>\n",
       "      <td>4.9</td>\n",
       "      <td>-1.135005</td>\n",
       "      <td>9.7</td>\n",
       "    </tr>\n",
       "    <tr>\n",
       "      <th>197</th>\n",
       "      <td>9.3</td>\n",
       "      <td>-1.297774</td>\n",
       "      <td>12.8</td>\n",
       "    </tr>\n",
       "    <tr>\n",
       "      <th>198</th>\n",
       "      <td>42.0</td>\n",
       "      <td>1.458526</td>\n",
       "      <td>25.5</td>\n",
       "    </tr>\n",
       "    <tr>\n",
       "      <th>199</th>\n",
       "      <td>8.6</td>\n",
       "      <td>-1.081934</td>\n",
       "      <td>13.4</td>\n",
       "    </tr>\n",
       "  </tbody>\n",
       "</table>\n",
       "<p>200 rows × 3 columns</p>\n",
       "</div>"
      ],
      "text/plain": [
       "     radio  newspaper  sales\n",
       "0     37.8   1.544296   22.1\n",
       "1     39.3   0.781636   10.4\n",
       "2     45.9   1.547119    9.3\n",
       "3     41.3   1.227819   18.5\n",
       "4     10.8   1.224714   12.9\n",
       "..     ...        ...    ...\n",
       "195    3.7  -0.693519    7.6\n",
       "196    4.9  -1.135005    9.7\n",
       "197    9.3  -1.297774   12.8\n",
       "198   42.0   1.458526   25.5\n",
       "199    8.6  -1.081934   13.4\n",
       "\n",
       "[200 rows x 3 columns]"
      ]
     },
     "execution_count": 60,
     "metadata": {},
     "output_type": "execute_result"
    }
   ],
   "source": [
    "x=Advertising_channel.iloc[:,1:4]\n",
    "x"
   ]
  },
  {
   "cell_type": "code",
   "execution_count": 63,
   "metadata": {
    "collapsed": true
   },
   "outputs": [
    {
     "data": {
      "text/plain": [
       "array([[ 9.81522472e-01,  1.54429626e+00,  1.55205313e+00],\n",
       "       [ 1.08280781e+00,  7.81635855e-01, -6.96046111e-01],\n",
       "       [ 1.52846331e+00,  1.54711875e+00, -9.07405869e-01],\n",
       "       [ 1.21785493e+00,  1.22781940e+00,  8.60330287e-01],\n",
       "       [-8.41613655e-01,  1.22471423e+00, -2.15683025e-01],\n",
       "       [ 1.73103399e+00,  1.70434613e+00, -1.31091086e+00],\n",
       "       [ 6.43904671e-01, -1.29948529e-01, -4.27042783e-01],\n",
       "       [-2.47406325e-01, -8.49495883e-01, -1.58039455e-01],\n",
       "       [-1.42906863e+00, -2.06812025e+00, -1.77205942e+00],\n",
       "       [-1.39530685e+00, -2.50101105e-01, -6.57617064e-01],\n",
       "       [-1.17923146e+00, -9.46254925e-02, -1.04190753e+00],\n",
       "       [ 4.96973404e-02, -1.57165278e+00,  6.48970529e-01],\n",
       "       [ 7.99208859e-01,  1.44982898e+00, -9.26620392e-01],\n",
       "       [-1.05768905e+00, -1.21867084e+00, -8.30547775e-01],\n",
       "       [ 6.50657027e-01,  8.13743543e-01,  9.56402904e-01],\n",
       "       [ 1.65000572e+00,  1.04911106e+00,  1.60969670e+00],\n",
       "       [ 9.00494200e-01,  2.63264875e+00, -2.92541119e-01],\n",
       "       [ 1.10306488e+00,  1.14291002e+00,  1.99398717e+00],\n",
       "       [-1.86635121e-01, -4.11994260e-01, -5.23115400e-01],\n",
       "       [ 4.29449843e-02, -3.66036186e-01,  1.10963873e-01],\n",
       "       [ 2.99534513e-01,  1.06548446e+00,  7.64257669e-01],\n",
       "       [-1.22649795e+00, -1.29948529e-01, -2.92541119e-01],\n",
       "       [-4.97243498e-01,  9.38817351e-01, -1.61834324e+00],\n",
       "       [-4.29719938e-01,  3.45214044e-03,  2.83894584e-01],\n",
       "       [-7.20071247e-01, -4.11994260e-01, -8.30547775e-01],\n",
       "       [-1.33453565e+00, -3.43445289e-01, -3.88613736e-01],\n",
       "       [ 4.07572210e-01, -7.76773793e-01,  1.87821967e-01],\n",
       "       [-4.43224650e-01, -1.60668885e-01,  3.60752677e-01],\n",
       "       [ 2.59020377e-01, -1.60668885e-01,  9.37188380e-01],\n",
       "       [-4.90491142e-01,  6.23131625e-01, -6.76831588e-01],\n",
       "       [ 3.40048650e-01,  7.12672318e-01,  1.41755147e+00],\n",
       "       [-3.95958157e-01,  5.38482425e-01, -4.07828260e-01],\n",
       "       [-1.46958277e+00,  1.79558937e-01, -8.49762299e-01],\n",
       "       [-2.20396901e-01, -2.24675204e+00,  6.48970529e-01],\n",
       "       [-1.47633512e+00, -1.19962290e+00, -8.68976822e-01],\n",
       "       [-1.29402151e+00, -1.09940218e+00, -2.34897549e-01],\n",
       "       [ 1.38666383e+00, -1.44959860e+00,  2.18613240e+00],\n",
       "       [ 1.76479577e+00,  8.03079840e-01,  1.30178396e-01],\n",
       "       [ 2.32010953e-01,  3.98210293e-01, -7.53689682e-01],\n",
       "       [ 9.74770116e-01,  2.67512313e-01,  1.43676599e+00],\n",
       "       [-6.50927121e-02,  2.50161379e-01,  4.95254341e-01],\n",
       "       [ 6.84418807e-01,  5.42386416e-01,  5.91326959e-01],\n",
       "       [ 2.99534513e-01, -1.90617271e+00,  1.28304980e+00],\n",
       "       [-1.00367020e+00,  1.30423867e-02, -2.15683025e-01],\n",
       "       [ 1.64487393e-01,  7.16343136e-01, -1.06112206e+00],\n",
       "       [-5.15880000e-02,  2.45805337e-01,  1.68607443e-01],\n",
       "       [-9.02384859e-01,  4.22778568e-01, -6.57617064e-01],\n",
       "       [ 1.23135965e+00, -4.00404937e-01,  1.76341289e+00],\n",
       "       [-5.03995854e-01,  9.49009558e-01,  1.49392920e-01],\n",
       "       [-7.80842451e-01,  4.67246528e-01, -8.30547775e-01],\n",
       "       [-1.36154507e+00,  3.77562856e-01, -5.03900877e-01],\n",
       "       [-9.22641928e-01, -1.62459545e+00, -6.38402541e-01],\n",
       "       [ 1.24486436e+00,  5.77277479e-01,  1.64812575e+00],\n",
       "       [ 1.54872038e+00,  1.23402082e+00,  1.37912242e+00],\n",
       "       [ 3.73810430e-01, -5.56776963e-01,  1.18697718e+00],\n",
       "       [ 1.76479577e+00,  1.27404423e+00,  1.85948550e+00],\n",
       "       [ 3.26543937e-01,  6.45781972e-01, -1.63755776e+00],\n",
       "       [-2.74415749e-01, -5.13395293e-01, -1.58039455e-01],\n",
       "       [ 1.77830048e+00,  5.03095734e-01,  1.87870003e+00],\n",
       "       [ 4.21076922e-01, -1.03077792e+00,  8.41115763e-01],\n",
       "       [-1.43582099e+00, -2.39386470e-01, -1.13798015e+00],\n",
       "       [ 1.31238792e+00,  1.10765906e+00,  1.95555812e+00],\n",
       "       [-5.24252922e-01,  5.57365103e-02,  3.22323631e-01],\n",
       "       [ 4.27829278e-01, -1.10821806e+00, -4.32326777e-03],\n",
       "       [ 1.31914027e+00,  1.29852910e-01,  7.64257669e-01],\n",
       "       [-9.42898996e-01, -2.09099290e+00, -9.07405869e-01],\n",
       "       [ 9.02114765e-02, -1.83575461e+00, -8.68976822e-01],\n",
       "       [-5.91776482e-01, -9.57248948e-01, -1.19610408e-01],\n",
       "       [ 2.86029801e-01, -8.94765862e-01,  9.37188380e-01],\n",
       "       [ 1.39341619e+00,  5.10294208e-02,  1.59048218e+00],\n",
       "       [ 4.95352838e-01,  5.42386416e-01,  8.21901240e-01],\n",
       "       [-6.05281194e-01,  2.54510064e-01, -3.11755643e-01],\n",
       "       [ 6.57409383e-01, -3.54709292e-01, -1.00347849e+00],\n",
       "       [-1.18598381e+00,  2.37071054e-01, -5.80758971e-01],\n",
       "       [ 9.02114765e-02, -7.41583700e-01,  5.72112435e-01],\n",
       "       [ 1.37991148e+00,  2.07354326e+00, -1.02269301e+00],\n",
       "       [-1.46283041e+00, -2.77125923e-01, -1.36855443e+00],\n",
       "       [ 3.53553362e-01, -6.66645066e-01,  3.41057791e-02],\n",
       "       [ 4.48086346e-01, -1.02242503e+00, -1.67598681e+00],\n",
       "       [-1.05093669e+00, -1.50382083e-01, -5.80758971e-01],\n",
       "       [ 2.32010953e-01, -1.91817635e-01, -4.27042783e-01],\n",
       "       [-1.29402151e+00,  4.71253119e-01, -3.30970166e-01],\n",
       "       [-2.00139833e-01,  2.89038631e-01, -5.23115400e-01],\n",
       "       [ 1.43393033e+00,  4.18699448e-01, -8.11813615e-02],\n",
       "       [ 1.33264499e+00,  3.44189447e-01,  1.47519504e+00],\n",
       "       [-3.28434597e-01,  1.44401876e+00,  2.26251013e-01],\n",
       "       [ 2.86029801e-01, -5.50517138e-01, -3.88613736e-01],\n",
       "       [ 1.17058844e+00,  1.37053371e+00,  3.79967201e-01],\n",
       "       [ 1.50982681e-01,  1.66091604e+00, -2.15683025e-01],\n",
       "       [ 1.65675807e+00,  9.99466821e-01,  5.14468865e-01],\n",
       "       [-1.24000266e+00, -1.03077792e+00, -5.42329924e-01],\n",
       "       [-1.46958277e+00,  3.10388228e-01, -1.29169634e+00],\n",
       "       [ 6.91171163e-01,  1.24330078e+00,  1.03326100e+00],\n",
       "       [ 8.93741844e-01,  1.63074587e+00,  1.57126765e+00],\n",
       "       [-6.25538262e-01, -9.02439300e-01, -4.84686354e-01],\n",
       "       [ 5.62876398e-01,  1.04911106e+00,  5.52897912e-01],\n",
       "       [-1.33453565e+00, -1.34984246e+00, -4.46257307e-01],\n",
       "       [-1.52873340e-01, -2.07558626e-01,  2.83894584e-01],\n",
       "       [ 1.28537849e+00,  9.92786938e-01,  2.18613240e+00],\n",
       "       [ 1.24486436e+00,  8.10193256e-01,  6.10541482e-01],\n",
       "       [-1.28051680e+00,  9.45615947e-01, -4.46257307e-01],\n",
       "       [ 8.80237132e-01,  2.34462323e+00,  1.87870003e+00],\n",
       "       [-8.88880147e-01, -2.39386470e-01,  1.49392920e-01],\n",
       "       [-4.09462869e-01, -4.35379514e-01,  1.30178396e-01],\n",
       "       [ 7.45190011e-01, -1.41540530e+00,  1.28304980e+00],\n",
       "       [ 1.56222509e+00,  1.24330078e+00,  9.94831951e-01],\n",
       "       [-8.28108943e-01,  1.66099842e-01, -1.31091086e+00],\n",
       "       [-1.55061104e+00, -1.45256314e-01, -1.02269301e+00],\n",
       "       [-1.54385868e+00, -2.55492230e-02, -1.67598681e+00],\n",
       "       [ 2.45515665e-01, -1.39315020e+00,  1.11011909e+00],\n",
       "       [-1.01717491e+00,  1.16514050e+00, -1.19610408e-01],\n",
       "       [ 9.95027184e-01, -1.45256314e-01,  1.49440956e+00],\n",
       "       [-5.31005278e-01, -1.80254542e+00,  1.48912557e-02],\n",
       "       [-1.79882765e-01, -9.17900825e-01,  3.60752677e-01],\n",
       "       [ 1.58923451e+00,  3.73414086e-01,  1.10963873e-01],\n",
       "       [ 7.92456503e-01,  1.04253755e+00, -2.73326596e-01],\n",
       "       [-6.05281194e-01, -2.55492230e-02, -3.50184689e-01],\n",
       "       [-1.51684926e+00, -6.27092907e-01, -8.88191346e-01],\n",
       "       [ 9.20751268e-01,  1.81590786e+00,  3.60752677e-01],\n",
       "       [-4.90491142e-01, -1.91817635e-01, -1.42619800e+00],\n",
       "       [ 2.38763309e-01,  8.20831345e-01,  2.83894584e-01],\n",
       "       [-1.05606848e-01,  9.65921199e-01, -1.34933991e+00],\n",
       "       [-1.40881156e+00, -5.75685440e-01, -4.65471830e-01],\n",
       "       [ 7.65447079e-01, -7.91061272e-01,  2.26251013e-01],\n",
       "       [ 6.10142891e-01,  1.68269744e+00,  1.09090457e+00],\n",
       "       [-7.74090095e-01, -1.10049231e-02, -6.57617064e-01],\n",
       "       [ 1.05579839e+00,  9.72659737e-01, -1.42619800e+00],\n",
       "       [-1.57086811e+00, -1.03917897e+00, -1.00347849e+00],\n",
       "       [ 1.73778635e+00, -1.68039924e+00,  2.05163074e+00],\n",
       "       [-7.60585383e-01,  7.08996823e-01, -8.30547775e-01],\n",
       "       [ 1.10306488e+00, -1.08193431e+00, -2.38692417e+00],\n",
       "       [-1.37504978e+00,  7.05316635e-01, -2.54112072e-01],\n",
       "       [ 2.65772733e-01, -1.85283312e+00, -1.59912871e+00],\n",
       "       [ 6.91171163e-01,  7.81635855e-01,  1.07169004e+00],\n",
       "       [ 1.03554132e+00,  1.44110992e+00, -6.19188018e-01],\n",
       "       [ 1.60273923e+00, -1.09940218e+00, -4.65471830e-01],\n",
       "       [ 1.06255074e+00, -1.03077792e+00, -8.68976822e-01],\n",
       "       [ 3.80562786e-01,  1.26485158e+00,  1.30226433e+00],\n",
       "       [ 1.77992105e-01, -2.88033392e-01, -8.49762299e-01],\n",
       "       [ 1.39341619e+00, -1.92472124e+00,  1.28304980e+00],\n",
       "       [-4.22967582e-01, -7.55570913e-01, -5.99973494e-01],\n",
       "       [ 8.19465927e-01,  1.72049687e+00,  9.94831951e-01],\n",
       "       [ 6.70914095e-01,  5.10998850e-01,  1.16776266e+00],\n",
       "       [-1.18598381e+00,  3.69258826e-01, -6.96046111e-01],\n",
       "       [-5.71519414e-01,  5.50177931e-01, -5.03900877e-01],\n",
       "       [-1.44257334e+00, -1.05612865e+00, -7.15260635e-01],\n",
       "       [-1.07794612e+00, -1.08193431e+00, -1.58039455e-01],\n",
       "       [ 1.73778635e+00,  7.52797551e-01,  2.18613240e+00],\n",
       "       [ 1.15033137e+00, -8.27334933e-01, -5.99973494e-01],\n",
       "       [ 1.71239749e-01, -2.82572581e-01, -7.53689682e-01],\n",
       "       [-6.32290618e-01,  4.75253819e-01,  3.99181724e-01],\n",
       "       [-1.00367020e+00,  9.08033728e-01, -4.65471830e-01],\n",
       "       [ 2.43084817e-03, -6.66645066e-01,  4.95254341e-01],\n",
       "       [ 1.10981724e+00,  5.03095734e-01,  9.56402904e-01],\n",
       "       [-1.46120984e-01, -1.01411954e+00,  3.03109107e-01],\n",
       "       [-7.87594807e-01, -1.37130244e+00, -2.07949180e+00],\n",
       "       [ 1.36640677e+00,  9.69292323e-01,  2.45465537e-01],\n",
       "       [-1.48308748e+00, -8.96233473e-02, -7.53689682e-01],\n",
       "       [ 9.20751268e-01,  7.85220741e-01, -1.29169634e+00],\n",
       "       [-3.28434597e-01,  3.77562856e-01, -2.15683025e-01],\n",
       "       [-3.48691665e-01,  2.10688173e-01,  7.25348259e-02],\n",
       "       [ 8.46475352e-01,  9.28590852e-01, -1.38824932e-01],\n",
       "       [-3.48691665e-01, -2.55492230e-02,  1.68607443e-01],\n",
       "       [ 9.13998912e-01, -1.19962290e+00,  7.64257669e-01],\n",
       "       [-5.78271770e-01, -1.40422554e+00, -4.07828260e-01],\n",
       "       [-1.34128800e+00,  1.95954732e+00, -4.07828260e-01],\n",
       "       [ 9.68017760e-01, -2.28725046e-01, -1.15719467e+00],\n",
       "       [-1.21974559e+00, -3.49069494e-01, -3.50184689e-01],\n",
       "       [ 2.26879163e-02,  1.19976488e+00,  5.91326959e-01],\n",
       "       [-8.55118367e-01, -1.29777360e+00,  1.87821967e-01],\n",
       "       [-7.87594807e-01, -4.06191114e-01, -1.08033658e+00],\n",
       "       [-1.59625696e-01,  8.63006188e-01,  9.17493494e-02],\n",
       "       [-2.13644545e-01, -4.89049366e-01, -1.23405277e+00],\n",
       "       [-1.09145083e+00, -7.62608579e-01, -4.46257307e-01],\n",
       "       [-1.34128800e+00, -7.41583700e-01, -4.84686354e-01],\n",
       "       [ 1.73103399e+00,  6.60782378e-01,  2.49356478e+00],\n",
       "       [ 4.68343414e-01, -2.98997924e-01,  1.18697718e+00],\n",
       "       [-1.04418434e+00,  4.02320683e-01, -4.46257307e-01],\n",
       "       [-1.41556392e+00, -1.19800452e-01, -4.27042783e-01],\n",
       "       [-8.95632503e-01, -4.53104069e-01, -2.73326596e-01],\n",
       "       [-1.39530685e+00, -1.11708984e+00, -6.76831588e-01],\n",
       "       [-1.20624088e+00,  6.04345781e-02, -3.50184689e-01],\n",
       "       [-1.18598381e+00,  1.66099842e-01, -1.02269301e+00],\n",
       "       [ 1.33264499e+00,  1.61694624e+00,  2.33984859e+00],\n",
       "       [-1.32616272e-01,  1.79558937e-01,  6.87399576e-01],\n",
       "       [ 1.47444446e+00, -3.37836548e-01,  1.64812575e+00],\n",
       "       [-1.42906863e+00,  2.25948546e-02, -7.15260635e-01],\n",
       "       [ 3.67058074e-01, -4.17814522e-01,  6.29756005e-01],\n",
       "       [-6.32290618e-01, -1.61110710e+00,  3.60752677e-01],\n",
       "       [-7.53833027e-01, -1.35039620e-01, -1.40698348e+00],\n",
       "       [ 1.20435022e+00, -1.36052514e+00, -6.19188018e-01],\n",
       "       [-8.41613655e-01, -1.33925219e+00, -7.92118728e-01],\n",
       "       [-1.29402151e+00,  2.50161379e-01, -1.56069967e+00],\n",
       "       [ 1.26512143e+00, -1.62459545e+00,  1.07169004e+00],\n",
       "       [ 8.32970639e-01, -1.33925219e+00,  6.29756005e-01],\n",
       "       [-1.32103093e+00, -6.93518756e-01, -1.23405277e+00],\n",
       "       [-1.24000266e+00, -1.13500503e+00, -8.30547775e-01],\n",
       "       [-9.42898996e-01, -1.29777360e+00, -2.34897549e-01],\n",
       "       [ 1.26512143e+00,  1.45852568e+00,  2.20534693e+00],\n",
       "       [-9.90165488e-01, -1.08193431e+00, -1.19610408e-01]])"
      ]
     },
     "execution_count": 63,
     "metadata": {},
     "output_type": "execute_result"
    }
   ],
   "source": [
    "S=StandardScaler()\n",
    "x=S.fit_transform(x)\n",
    "x"
   ]
  },
  {
   "cell_type": "code",
   "execution_count": 65,
   "metadata": {
    "collapsed": true
   },
   "outputs": [
    {
     "data": {
      "text/plain": [
       "0      22.1\n",
       "1      10.4\n",
       "2       9.3\n",
       "3      18.5\n",
       "4      12.9\n",
       "       ... \n",
       "195     7.6\n",
       "196     9.7\n",
       "197    12.8\n",
       "198    25.5\n",
       "199    13.4\n",
       "Name: sales, Length: 200, dtype: float64"
      ]
     },
     "execution_count": 65,
     "metadata": {},
     "output_type": "execute_result"
    }
   ],
   "source": [
    "y=Advertising_channel[\"sales\"]\n",
    "y"
   ]
  },
  {
   "cell_type": "code",
   "execution_count": 66,
   "metadata": {},
   "outputs": [
    {
     "data": {
      "text/plain": [
       "(200, 3)"
      ]
     },
     "execution_count": 66,
     "metadata": {},
     "output_type": "execute_result"
    }
   ],
   "source": [
    "x.shape"
   ]
  },
  {
   "cell_type": "code",
   "execution_count": 67,
   "metadata": {},
   "outputs": [
    {
     "data": {
      "text/plain": [
       "(200,)"
      ]
     },
     "execution_count": 67,
     "metadata": {},
     "output_type": "execute_result"
    }
   ],
   "source": [
    "y.shape"
   ]
  },
  {
   "cell_type": "code",
   "execution_count": 86,
   "metadata": {},
   "outputs": [
    {
     "name": "stdout",
     "output_type": "stream",
     "text": [
      "(140, 3)\n",
      "(60, 3)\n",
      "(140,)\n",
      "(60,)\n"
     ]
    }
   ],
   "source": [
    "x_train,x_test,y_train,y_test=train_test_split(x,y,test_size=0.3,random_state=42)\n",
    "print(x_train.shape)\n",
    "print(x_test.shape)\n",
    "print(y_train.shape)\n",
    "print(y_test.shape)"
   ]
  },
  {
   "cell_type": "markdown",
   "metadata": {},
   "source": [
    "Lets use four different algorithms to check the score. We shall be using the following algorithms:\n",
    "1)Linear Regression\n",
    "2)Decision Tree\n",
    "3)Laso\n",
    "4)Ridge"
   ]
  },
  {
   "cell_type": "code",
   "execution_count": 87,
   "metadata": {},
   "outputs": [
    {
     "name": "stdout",
     "output_type": "stream",
     "text": [
      "[-1.52460585e-15 -8.23498353e-16  5.20439658e+00]\n",
      "14.022500000000003\n",
      "1.0\n",
      "[1. 1. 1. 1. 1.]\n",
      "1.0\n",
      "0.0\n"
     ]
    }
   ],
   "source": [
    "#1)Linear Regression\n",
    "lm=LinearRegression()\n",
    "lm.fit(x_train,y_train)\n",
    "print(lm.coef_)\n",
    "print(lm.intercept_)\n",
    "#predict y values\n",
    "pred1=lm.predict(x_test)\n",
    "print(r2_score(pred1,y_test))\n",
    "score1=cross_val_score(lm,x,y,cv=5)\n",
    "print(score1)\n",
    "print(score1.mean())\n",
    "print(score1.std())"
   ]
  },
  {
   "cell_type": "code",
   "execution_count": 88,
   "metadata": {},
   "outputs": [
    {
     "name": "stdout",
     "output_type": "stream",
     "text": [
      "1.0\n",
      "0.9986754372659316\n",
      "[0.99917787 0.99852288 0.99832824 0.98269606 0.99645184]\n",
      "0.9950353786022298\n",
      "0.006235878717566954\n"
     ]
    }
   ],
   "source": [
    "#2)Decision Tree\n",
    "dtc=DecisionTreeRegressor()\n",
    "dtc.fit(x_train,y_train)\n",
    "print(dtc.score(x_train,y_train))\n",
    "#predict y values\n",
    "pred2=dtc.predict(x_test)\n",
    "print(r2_score(y_test,pred2))\n",
    "score2=cross_val_score(dtc,x,y,cv=5)\n",
    "print(score2)\n",
    "print(score2.mean())\n",
    "print(score2.std())"
   ]
  },
  {
   "cell_type": "code",
   "execution_count": 85,
   "metadata": {},
   "outputs": [
    {
     "name": "stdout",
     "output_type": "stream",
     "text": [
      "[1.97858071e-04 0.00000000e+00 5.20417278e+00]\n",
      "14.022508521329243\n",
      "0.999999998458415\n",
      "[1. 1. 1. 1. 1.]\n",
      "0.9999999989430725\n",
      "1.0311237175743149e-09\n"
     ]
    }
   ],
   "source": [
    "#3) Lasso (It will try to omit the coefficient)\n",
    "ls=Lasso(alpha=0.0001)\n",
    "ls.fit(x_train,y_train)\n",
    "print(ls.coef_)\n",
    "print(ls.intercept_)\n",
    "\n",
    "#predict y\n",
    "pred3=ls.predict(x_test)\n",
    "\n",
    "print(r2_score(pred3,y_test))\n",
    "score3=cross_val_score(ls,x,y,cv=5)\n",
    "print(score3)\n",
    "print(score3.mean())\n",
    "print(score3.std())"
   ]
  },
  {
   "cell_type": "code",
   "execution_count": 89,
   "metadata": {},
   "outputs": [
    {
     "name": "stdout",
     "output_type": "stream",
     "text": [
      "[3.89318093e-06 1.04229748e-07 5.20439029e+00]\n",
      "14.022500504487649\n",
      "0.999999999998733\n",
      "[1. 1. 1. 1. 1.]\n",
      "0.9999999999993188\n",
      "3.303496285943516e-13\n"
     ]
    }
   ],
   "source": [
    "#4) Ridge (It will try to reduce the coefficient gap)\n",
    "rd=Ridge(alpha=0.0001)\n",
    "rd.fit(x_train,y_train)\n",
    "print(rd.coef_)\n",
    "print(rd.intercept_)\n",
    "#predict y\n",
    "pred4=rd.predict(x_test)\n",
    "print(r2_score(y_test,pred4))\n",
    "score4=cross_val_score(rd,x,y,cv=5)\n",
    "print(score4)\n",
    "print(score4.mean())\n",
    "print(score4.std())"
   ]
  },
  {
   "cell_type": "code",
   "execution_count": 90,
   "metadata": {},
   "outputs": [],
   "source": [
    "#Linear regression is the best fit model so let perform hypertuning for the same"
   ]
  },
  {
   "cell_type": "code",
   "execution_count": 92,
   "metadata": {},
   "outputs": [
    {
     "data": {
      "text/plain": [
       "RandomizedSearchCV(estimator=LinearRegression(),\n",
       "                   param_distributions={'copy_X': ['True', 'False'],\n",
       "                                        'fit_intercept': ['True', 'False'],\n",
       "                                        'n_jobs': [1, 10],\n",
       "                                        'normalize': ['True', 'False']})"
      ]
     },
     "execution_count": 92,
     "metadata": {},
     "output_type": "execute_result"
    }
   ],
   "source": [
    "parameters={\"fit_intercept\":[\"True\",\"False\"],\"normalize\":[\"True\",\"False\"],\"copy_X\":[\"True\",\"False\"],\"n_jobs\":[1,10]}\n",
    "rsearch=RandomizedSearchCV(lm,parameters)\n",
    "rsearch.fit(x_train,y_train)"
   ]
  },
  {
   "cell_type": "code",
   "execution_count": 93,
   "metadata": {},
   "outputs": [
    {
     "name": "stdout",
     "output_type": "stream",
     "text": [
      "LinearRegression(copy_X='True', fit_intercept='True', n_jobs=10,\n",
      "                 normalize='True')\n",
      "{'normalize': 'True', 'n_jobs': 10, 'fit_intercept': 'True', 'copy_X': 'True'}\n",
      "1.0\n"
     ]
    }
   ],
   "source": [
    "print(rsearch.best_estimator_)\n",
    "print(rsearch.best_params_)\n",
    "print(rsearch.best_score_)"
   ]
  },
  {
   "cell_type": "code",
   "execution_count": 94,
   "metadata": {},
   "outputs": [
    {
     "name": "stdout",
     "output_type": "stream",
     "text": [
      "[ 9.14763510e-16 -7.73160571e-16  5.20439658e+00]\n",
      "14.022500000000003\n",
      "1.0\n"
     ]
    }
   ],
   "source": [
    "#Put these values back in to the linear regression model\n",
    "lm=LinearRegression(copy_X=True,fit_intercept=True,n_jobs=10,normalize=True)\n",
    "lm.fit(x_train,y_train)\n",
    "print(lm.coef_)\n",
    "print(lm.intercept_)\n",
    "#predict y values\n",
    "pred1=lm.predict(x_test)\n",
    "print(r2_score(pred1,y_test))"
   ]
  },
  {
   "cell_type": "code",
   "execution_count": 96,
   "metadata": {},
   "outputs": [
    {
     "data": {
      "text/plain": [
       "['lmfile.obj']"
      ]
     },
     "execution_count": 96,
     "metadata": {},
     "output_type": "execute_result"
    }
   ],
   "source": [
    "#lets perform serialisation to dump the model\n",
    "joblib.dump(lm,\"lmfile.obj\")"
   ]
  },
  {
   "cell_type": "code",
   "execution_count": null,
   "metadata": {},
   "outputs": [],
   "source": []
  }
 ],
 "metadata": {
  "kernelspec": {
   "display_name": "Python 3",
   "language": "python",
   "name": "python3"
  },
  "language_info": {
   "codemirror_mode": {
    "name": "ipython",
    "version": 3
   },
   "file_extension": ".py",
   "mimetype": "text/x-python",
   "name": "python",
   "nbconvert_exporter": "python",
   "pygments_lexer": "ipython3",
   "version": "3.8.5"
  }
 },
 "nbformat": 4,
 "nbformat_minor": 4
}
